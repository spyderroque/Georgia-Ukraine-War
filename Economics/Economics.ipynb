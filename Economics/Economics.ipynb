{
 "cells": [
  {
   "cell_type": "code",
   "execution_count": 1,
   "id": "82fc0014-ef56-4620-82bf-b499775e67ae",
   "metadata": {},
   "outputs": [],
   "source": [
    "import pandas as pd\n",
    "import numpy as np\n",
    "import plotly.express as px\n",
    "import plotly.graph_objects as go\n",
    "import matplotlib.pyplot as plt\n",
    "import seaborn as sns"
   ]
  },
  {
   "cell_type": "code",
   "execution_count": 2,
   "id": "829e6799-a148-44bf-81a9-d87aff358e87",
   "metadata": {},
   "outputs": [],
   "source": [
    "url_FDICountry = \"https://geostat.ge/media/43842/FDI_Eng-countries.xlsx\"\n",
    "import openpyxl\n",
    "df_FDICountry = pd.read_excel(url_FDICountry, sheet_name = \"FDI (annual)\",header = 3, skipfooter = 14)"
   ]
  },
  {
   "cell_type": "code",
   "execution_count": 3,
   "id": "3a0d2fd2-0ec8-4d7c-9a34-1676d6167d4d",
   "metadata": {},
   "outputs": [
    {
     "data": {
      "text/html": [
       "<div>\n",
       "<style scoped>\n",
       "    .dataframe tbody tr th:only-of-type {\n",
       "        vertical-align: middle;\n",
       "    }\n",
       "\n",
       "    .dataframe tbody tr th {\n",
       "        vertical-align: top;\n",
       "    }\n",
       "\n",
       "    .dataframe thead th {\n",
       "        text-align: right;\n",
       "    }\n",
       "</style>\n",
       "<table border=\"1\" class=\"dataframe\">\n",
       "  <thead>\n",
       "    <tr style=\"text-align: right;\">\n",
       "      <th></th>\n",
       "      <th>Code</th>\n",
       "      <th>Countries</th>\n",
       "      <th>1996</th>\n",
       "      <th>1997</th>\n",
       "      <th>1998</th>\n",
       "      <th>1999</th>\n",
       "      <th>2000</th>\n",
       "      <th>2001</th>\n",
       "      <th>2002</th>\n",
       "      <th>2003</th>\n",
       "      <th>...</th>\n",
       "      <th>2012</th>\n",
       "      <th>2013</th>\n",
       "      <th>2014</th>\n",
       "      <th>2015</th>\n",
       "      <th>2016</th>\n",
       "      <th>2017</th>\n",
       "      <th>2018</th>\n",
       "      <th>2019</th>\n",
       "      <th>2020</th>\n",
       "      <th>2021*</th>\n",
       "    </tr>\n",
       "  </thead>\n",
       "  <tbody>\n",
       "    <tr>\n",
       "      <th>0</th>\n",
       "      <td>NaN</td>\n",
       "      <td>Total</td>\n",
       "      <td>3753.45</td>\n",
       "      <td>242586</td>\n",
       "      <td>265331.769513</td>\n",
       "      <td>82207</td>\n",
       "      <td>131231.878347</td>\n",
       "      <td>109839.835488</td>\n",
       "      <td>160211.960454</td>\n",
       "      <td>334567.84162</td>\n",
       "      <td>...</td>\n",
       "      <td>1048227.045433</td>\n",
       "      <td>1039174.152485</td>\n",
       "      <td>1836979.976503</td>\n",
       "      <td>1728758.129864</td>\n",
       "      <td>1653993.3841</td>\n",
       "      <td>1980773.3426</td>\n",
       "      <td>1317071.4413</td>\n",
       "      <td>1335810.6439</td>\n",
       "      <td>571963.2561</td>\n",
       "      <td>1152817.6186</td>\n",
       "    </tr>\n",
       "    <tr>\n",
       "      <th>1</th>\n",
       "      <td>NaN</td>\n",
       "      <td>of which:</td>\n",
       "      <td>NaN</td>\n",
       "      <td>NaN</td>\n",
       "      <td>NaN</td>\n",
       "      <td>NaN</td>\n",
       "      <td>NaN</td>\n",
       "      <td>NaN</td>\n",
       "      <td>NaN</td>\n",
       "      <td>NaN</td>\n",
       "      <td>...</td>\n",
       "      <td>NaN</td>\n",
       "      <td>NaN</td>\n",
       "      <td>NaN</td>\n",
       "      <td>NaN</td>\n",
       "      <td>NaN</td>\n",
       "      <td>NaN</td>\n",
       "      <td>NaN</td>\n",
       "      <td>NaN</td>\n",
       "      <td>NaN</td>\n",
       "      <td>NaN</td>\n",
       "    </tr>\n",
       "    <tr>\n",
       "      <th>2</th>\n",
       "      <td>NaN</td>\n",
       "      <td>EU counties (27)</td>\n",
       "      <td>-</td>\n",
       "      <td>20808.371148</td>\n",
       "      <td>23068.815474</td>\n",
       "      <td>3525.273546</td>\n",
       "      <td>36726.839923</td>\n",
       "      <td>63421.349613</td>\n",
       "      <td>40469.434942</td>\n",
       "      <td>58063.057716</td>\n",
       "      <td>...</td>\n",
       "      <td>370060.669997</td>\n",
       "      <td>369928.682571</td>\n",
       "      <td>727114.37775</td>\n",
       "      <td>417150.402507</td>\n",
       "      <td>327813.0512</td>\n",
       "      <td>558531.1222</td>\n",
       "      <td>416764.4483</td>\n",
       "      <td>426918.626</td>\n",
       "      <td>333129.4972</td>\n",
       "      <td>327877.6462</td>\n",
       "    </tr>\n",
       "    <tr>\n",
       "      <th>3</th>\n",
       "      <td>40.0</td>\n",
       "      <td>Austria</td>\n",
       "      <td>-</td>\n",
       "      <td>18688.22432</td>\n",
       "      <td>18876.639337</td>\n",
       "      <td>-</td>\n",
       "      <td>-</td>\n",
       "      <td>-</td>\n",
       "      <td>-137.20896</td>\n",
       "      <td>17971.165858</td>\n",
       "      <td>...</td>\n",
       "      <td>25999.225115</td>\n",
       "      <td>7008.170988</td>\n",
       "      <td>8000.442038</td>\n",
       "      <td>19621.375218</td>\n",
       "      <td>27805.2789</td>\n",
       "      <td>6287.2705</td>\n",
       "      <td>17361.0086</td>\n",
       "      <td>15231.2078</td>\n",
       "      <td>-10654.2515</td>\n",
       "      <td>5937.8846</td>\n",
       "    </tr>\n",
       "    <tr>\n",
       "      <th>4</th>\n",
       "      <td>56.0</td>\n",
       "      <td>Belgium</td>\n",
       "      <td>-</td>\n",
       "      <td>-</td>\n",
       "      <td>-</td>\n",
       "      <td>-</td>\n",
       "      <td>-</td>\n",
       "      <td>-</td>\n",
       "      <td>-</td>\n",
       "      <td>-</td>\n",
       "      <td>...</td>\n",
       "      <td>-844.8066</td>\n",
       "      <td>637.3268</td>\n",
       "      <td>1485.556</td>\n",
       "      <td>280.2875</td>\n",
       "      <td>17867.4493</td>\n",
       "      <td>4313.4712</td>\n",
       "      <td>3482.8453</td>\n",
       "      <td>1522.7314</td>\n",
       "      <td>4857.8513</td>\n",
       "      <td>2079.7791</td>\n",
       "    </tr>\n",
       "    <tr>\n",
       "      <th>...</th>\n",
       "      <td>...</td>\n",
       "      <td>...</td>\n",
       "      <td>...</td>\n",
       "      <td>...</td>\n",
       "      <td>...</td>\n",
       "      <td>...</td>\n",
       "      <td>...</td>\n",
       "      <td>...</td>\n",
       "      <td>...</td>\n",
       "      <td>...</td>\n",
       "      <td>...</td>\n",
       "      <td>...</td>\n",
       "      <td>...</td>\n",
       "      <td>...</td>\n",
       "      <td>...</td>\n",
       "      <td>...</td>\n",
       "      <td>...</td>\n",
       "      <td>...</td>\n",
       "      <td>...</td>\n",
       "      <td>...</td>\n",
       "      <td>...</td>\n",
       "    </tr>\n",
       "    <tr>\n",
       "      <th>79</th>\n",
       "      <td>826.0</td>\n",
       "      <td>United Kingdom</td>\n",
       "      <td>-</td>\n",
       "      <td>24985.511495</td>\n",
       "      <td>26471.589257</td>\n",
       "      <td>5036.176714</td>\n",
       "      <td>4823.975704</td>\n",
       "      <td>8508.687993</td>\n",
       "      <td>14719.529864</td>\n",
       "      <td>34842.840181</td>\n",
       "      <td>...</td>\n",
       "      <td>95536.664823</td>\n",
       "      <td>55171.312715</td>\n",
       "      <td>108850.796451</td>\n",
       "      <td>399346.841345</td>\n",
       "      <td>87849.542</td>\n",
       "      <td>249032.362</td>\n",
       "      <td>182923.8353</td>\n",
       "      <td>236860.4844</td>\n",
       "      <td>302984.8908</td>\n",
       "      <td>596616.9694</td>\n",
       "    </tr>\n",
       "    <tr>\n",
       "      <th>80</th>\n",
       "      <td>840.0</td>\n",
       "      <td>United States</td>\n",
       "      <td>-</td>\n",
       "      <td>96651.887424</td>\n",
       "      <td>104427.22618</td>\n",
       "      <td>59151.289331</td>\n",
       "      <td>38717.651556</td>\n",
       "      <td>23281.158381</td>\n",
       "      <td>81609.826028</td>\n",
       "      <td>71603.885369</td>\n",
       "      <td>...</td>\n",
       "      <td>20253.9991</td>\n",
       "      <td>53885.224061</td>\n",
       "      <td>184442.755304</td>\n",
       "      <td>18898.423706</td>\n",
       "      <td>59817.1044</td>\n",
       "      <td>79115.3347</td>\n",
       "      <td>104964.0622</td>\n",
       "      <td>115592.2585</td>\n",
       "      <td>98440.9332</td>\n",
       "      <td>6150.9768</td>\n",
       "    </tr>\n",
       "    <tr>\n",
       "      <th>81</th>\n",
       "      <td>NaN</td>\n",
       "      <td>Other countries</td>\n",
       "      <td>-</td>\n",
       "      <td>-</td>\n",
       "      <td>-</td>\n",
       "      <td>-</td>\n",
       "      <td>-</td>\n",
       "      <td>-</td>\n",
       "      <td>-</td>\n",
       "      <td>-</td>\n",
       "      <td>...</td>\n",
       "      <td>21397.446834</td>\n",
       "      <td>14791.355772</td>\n",
       "      <td>12739.540876</td>\n",
       "      <td>14892.9665</td>\n",
       "      <td>15390.8614</td>\n",
       "      <td>12658.9677</td>\n",
       "      <td>4040.125</td>\n",
       "      <td>14903.7709</td>\n",
       "      <td>2196.9728</td>\n",
       "      <td>13401.7552</td>\n",
       "    </tr>\n",
       "    <tr>\n",
       "      <th>82</th>\n",
       "      <td>NaN</td>\n",
       "      <td>Unknown</td>\n",
       "      <td>-</td>\n",
       "      <td>-</td>\n",
       "      <td>-</td>\n",
       "      <td>-</td>\n",
       "      <td>-</td>\n",
       "      <td>-</td>\n",
       "      <td>627.86159</td>\n",
       "      <td>853.61444</td>\n",
       "      <td>...</td>\n",
       "      <td>-</td>\n",
       "      <td>-</td>\n",
       "      <td>-</td>\n",
       "      <td>6743.0347</td>\n",
       "      <td>-4702.3455</td>\n",
       "      <td>-</td>\n",
       "      <td>-</td>\n",
       "      <td>-</td>\n",
       "      <td>-</td>\n",
       "      <td>-</td>\n",
       "    </tr>\n",
       "    <tr>\n",
       "      <th>83</th>\n",
       "      <td>NaN</td>\n",
       "      <td>International Organizations</td>\n",
       "      <td>-</td>\n",
       "      <td>-</td>\n",
       "      <td>-</td>\n",
       "      <td>-</td>\n",
       "      <td>-</td>\n",
       "      <td>-</td>\n",
       "      <td>448.5318</td>\n",
       "      <td>1235.93736</td>\n",
       "      <td>...</td>\n",
       "      <td>63454.7265</td>\n",
       "      <td>54680.836317</td>\n",
       "      <td>-105980.379157</td>\n",
       "      <td>39779.528091</td>\n",
       "      <td>43125.7175</td>\n",
       "      <td>2516.0899</td>\n",
       "      <td>1627.4711</td>\n",
       "      <td>6883.7493</td>\n",
       "      <td>1458.0451</td>\n",
       "      <td>3690.0591</td>\n",
       "    </tr>\n",
       "  </tbody>\n",
       "</table>\n",
       "<p>84 rows × 28 columns</p>\n",
       "</div>"
      ],
      "text/plain": [
       "     Code                    Countries     1996          1997           1998  \\\n",
       "0     NaN                        Total  3753.45        242586  265331.769513   \n",
       "1     NaN                    of which:      NaN           NaN            NaN   \n",
       "2     NaN             EU counties (27)        -  20808.371148   23068.815474   \n",
       "3    40.0                      Austria        -   18688.22432   18876.639337   \n",
       "4    56.0                      Belgium        -             -              -   \n",
       "..    ...                          ...      ...           ...            ...   \n",
       "79  826.0               United Kingdom        -  24985.511495   26471.589257   \n",
       "80  840.0                United States        -  96651.887424   104427.22618   \n",
       "81    NaN              Other countries        -             -              -   \n",
       "82    NaN                      Unknown        -             -              -   \n",
       "83    NaN  International Organizations        -             -              -   \n",
       "\n",
       "            1999           2000           2001           2002          2003  \\\n",
       "0          82207  131231.878347  109839.835488  160211.960454  334567.84162   \n",
       "1            NaN            NaN            NaN            NaN           NaN   \n",
       "2    3525.273546   36726.839923   63421.349613   40469.434942  58063.057716   \n",
       "3              -              -              -     -137.20896  17971.165858   \n",
       "4              -              -              -              -             -   \n",
       "..           ...            ...            ...            ...           ...   \n",
       "79   5036.176714    4823.975704    8508.687993   14719.529864  34842.840181   \n",
       "80  59151.289331   38717.651556   23281.158381   81609.826028  71603.885369   \n",
       "81             -              -              -              -             -   \n",
       "82             -              -              -      627.86159     853.61444   \n",
       "83             -              -              -       448.5318    1235.93736   \n",
       "\n",
       "    ...            2012            2013            2014            2015  \\\n",
       "0   ...  1048227.045433  1039174.152485  1836979.976503  1728758.129864   \n",
       "1   ...             NaN             NaN             NaN             NaN   \n",
       "2   ...   370060.669997   369928.682571    727114.37775   417150.402507   \n",
       "3   ...    25999.225115     7008.170988     8000.442038    19621.375218   \n",
       "4   ...       -844.8066        637.3268        1485.556        280.2875   \n",
       "..  ...             ...             ...             ...             ...   \n",
       "79  ...    95536.664823    55171.312715   108850.796451   399346.841345   \n",
       "80  ...      20253.9991    53885.224061   184442.755304    18898.423706   \n",
       "81  ...    21397.446834    14791.355772    12739.540876      14892.9665   \n",
       "82  ...               -               -               -       6743.0347   \n",
       "83  ...      63454.7265    54680.836317  -105980.379157    39779.528091   \n",
       "\n",
       "            2016          2017          2018          2019         2020  \\\n",
       "0   1653993.3841  1980773.3426  1317071.4413  1335810.6439  571963.2561   \n",
       "1            NaN           NaN           NaN           NaN          NaN   \n",
       "2    327813.0512   558531.1222   416764.4483    426918.626  333129.4972   \n",
       "3     27805.2789     6287.2705    17361.0086    15231.2078  -10654.2515   \n",
       "4     17867.4493     4313.4712     3482.8453     1522.7314    4857.8513   \n",
       "..           ...           ...           ...           ...          ...   \n",
       "79     87849.542    249032.362   182923.8353   236860.4844  302984.8908   \n",
       "80    59817.1044    79115.3347   104964.0622   115592.2585   98440.9332   \n",
       "81    15390.8614    12658.9677      4040.125    14903.7709    2196.9728   \n",
       "82    -4702.3455             -             -             -            -   \n",
       "83    43125.7175     2516.0899     1627.4711     6883.7493    1458.0451   \n",
       "\n",
       "           2021*  \n",
       "0   1152817.6186  \n",
       "1            NaN  \n",
       "2    327877.6462  \n",
       "3      5937.8846  \n",
       "4      2079.7791  \n",
       "..           ...  \n",
       "79   596616.9694  \n",
       "80     6150.9768  \n",
       "81    13401.7552  \n",
       "82             -  \n",
       "83     3690.0591  \n",
       "\n",
       "[84 rows x 28 columns]"
      ]
     },
     "execution_count": 3,
     "metadata": {},
     "output_type": "execute_result"
    }
   ],
   "source": [
    "df_FDICountry"
   ]
  },
  {
   "cell_type": "code",
   "execution_count": 4,
   "id": "639b3872-b40b-48be-8506-a0143bf7223c",
   "metadata": {},
   "outputs": [],
   "source": [
    "df_FDICountry.rename(columns={\"2021*\":2021}, inplace = True)"
   ]
  },
  {
   "cell_type": "code",
   "execution_count": 5,
   "id": "f7660be7",
   "metadata": {},
   "outputs": [],
   "source": [
    "df_FDICountry.iloc[2,1] = \"EU countries\""
   ]
  },
  {
   "cell_type": "code",
   "execution_count": 6,
   "id": "590702de-511e-4ecb-97e6-8d60484acbf0",
   "metadata": {},
   "outputs": [],
   "source": [
    "df_FDICountry.drop(1, inplace = True)"
   ]
  },
  {
   "cell_type": "code",
   "execution_count": 7,
   "id": "a47ea99c-3409-43f9-8a7e-4d51fe789307",
   "metadata": {},
   "outputs": [],
   "source": [
    "df_FDICountry.drop(columns = \"Code\", inplace = True)"
   ]
  },
  {
   "cell_type": "code",
   "execution_count": 8,
   "id": "64607611-f617-4c1d-893b-ecd94fddb1fd",
   "metadata": {},
   "outputs": [],
   "source": [
    "df_FDICountry.replace(to_replace = \"-\", value = 0, inplace = True)"
   ]
  },
  {
   "cell_type": "code",
   "execution_count": 9,
   "id": "07444da1",
   "metadata": {},
   "outputs": [
    {
     "data": {
      "text/html": [
       "<div>\n",
       "<style scoped>\n",
       "    .dataframe tbody tr th:only-of-type {\n",
       "        vertical-align: middle;\n",
       "    }\n",
       "\n",
       "    .dataframe tbody tr th {\n",
       "        vertical-align: top;\n",
       "    }\n",
       "\n",
       "    .dataframe thead th {\n",
       "        text-align: right;\n",
       "    }\n",
       "</style>\n",
       "<table border=\"1\" class=\"dataframe\">\n",
       "  <thead>\n",
       "    <tr style=\"text-align: right;\">\n",
       "      <th></th>\n",
       "      <th>Countries</th>\n",
       "      <th>1996</th>\n",
       "      <th>1997</th>\n",
       "      <th>1998</th>\n",
       "      <th>1999</th>\n",
       "      <th>2000</th>\n",
       "      <th>2001</th>\n",
       "      <th>2002</th>\n",
       "      <th>2003</th>\n",
       "      <th>2004</th>\n",
       "      <th>...</th>\n",
       "      <th>2012</th>\n",
       "      <th>2013</th>\n",
       "      <th>2014</th>\n",
       "      <th>2015</th>\n",
       "      <th>2016</th>\n",
       "      <th>2017</th>\n",
       "      <th>2018</th>\n",
       "      <th>2019</th>\n",
       "      <th>2020</th>\n",
       "      <th>2021</th>\n",
       "    </tr>\n",
       "  </thead>\n",
       "  <tbody>\n",
       "    <tr>\n",
       "      <th>30</th>\n",
       "      <td>NaN</td>\n",
       "      <td>NaN</td>\n",
       "      <td>NaN</td>\n",
       "      <td>NaN</td>\n",
       "      <td>NaN</td>\n",
       "      <td>NaN</td>\n",
       "      <td>NaN</td>\n",
       "      <td>NaN</td>\n",
       "      <td>NaN</td>\n",
       "      <td>NaN</td>\n",
       "      <td>...</td>\n",
       "      <td>NaN</td>\n",
       "      <td>NaN</td>\n",
       "      <td>NaN</td>\n",
       "      <td>NaN</td>\n",
       "      <td>NaN</td>\n",
       "      <td>NaN</td>\n",
       "      <td>NaN</td>\n",
       "      <td>NaN</td>\n",
       "      <td>NaN</td>\n",
       "      <td>NaN</td>\n",
       "    </tr>\n",
       "    <tr>\n",
       "      <th>42</th>\n",
       "      <td>NaN</td>\n",
       "      <td>NaN</td>\n",
       "      <td>NaN</td>\n",
       "      <td>NaN</td>\n",
       "      <td>NaN</td>\n",
       "      <td>NaN</td>\n",
       "      <td>NaN</td>\n",
       "      <td>NaN</td>\n",
       "      <td>NaN</td>\n",
       "      <td>NaN</td>\n",
       "      <td>...</td>\n",
       "      <td>NaN</td>\n",
       "      <td>NaN</td>\n",
       "      <td>NaN</td>\n",
       "      <td>NaN</td>\n",
       "      <td>NaN</td>\n",
       "      <td>NaN</td>\n",
       "      <td>NaN</td>\n",
       "      <td>NaN</td>\n",
       "      <td>NaN</td>\n",
       "      <td>NaN</td>\n",
       "    </tr>\n",
       "  </tbody>\n",
       "</table>\n",
       "<p>2 rows × 27 columns</p>\n",
       "</div>"
      ],
      "text/plain": [
       "   Countries  1996  1997  1998  1999  2000  2001  2002  2003  2004  ...  2012  \\\n",
       "30       NaN   NaN   NaN   NaN   NaN   NaN   NaN   NaN   NaN   NaN  ...   NaN   \n",
       "42       NaN   NaN   NaN   NaN   NaN   NaN   NaN   NaN   NaN   NaN  ...   NaN   \n",
       "\n",
       "    2013  2014  2015  2016  2017  2018  2019  2020  2021  \n",
       "30   NaN   NaN   NaN   NaN   NaN   NaN   NaN   NaN   NaN  \n",
       "42   NaN   NaN   NaN   NaN   NaN   NaN   NaN   NaN   NaN  \n",
       "\n",
       "[2 rows x 27 columns]"
      ]
     },
     "execution_count": 9,
     "metadata": {},
     "output_type": "execute_result"
    }
   ],
   "source": [
    "df_FDICountry[df_FDICountry['Countries'].isna()]"
   ]
  },
  {
   "cell_type": "code",
   "execution_count": 10,
   "id": "e754072e",
   "metadata": {},
   "outputs": [],
   "source": [
    "df_FDICountry.dropna(axis=0, how='all', inplace=True)"
   ]
  },
  {
   "cell_type": "code",
   "execution_count": 11,
   "id": "e4d22524-4a91-4bd7-ace6-8ff936ca2fc9",
   "metadata": {},
   "outputs": [
    {
     "data": {
      "text/html": [
       "<div>\n",
       "<style scoped>\n",
       "    .dataframe tbody tr th:only-of-type {\n",
       "        vertical-align: middle;\n",
       "    }\n",
       "\n",
       "    .dataframe tbody tr th {\n",
       "        vertical-align: top;\n",
       "    }\n",
       "\n",
       "    .dataframe thead th {\n",
       "        text-align: right;\n",
       "    }\n",
       "</style>\n",
       "<table border=\"1\" class=\"dataframe\">\n",
       "  <thead>\n",
       "    <tr style=\"text-align: right;\">\n",
       "      <th></th>\n",
       "      <th>Countries</th>\n",
       "      <th>1996</th>\n",
       "      <th>1997</th>\n",
       "      <th>1998</th>\n",
       "      <th>1999</th>\n",
       "      <th>2000</th>\n",
       "      <th>2001</th>\n",
       "      <th>2002</th>\n",
       "      <th>2003</th>\n",
       "      <th>2004</th>\n",
       "      <th>...</th>\n",
       "      <th>2012</th>\n",
       "      <th>2013</th>\n",
       "      <th>2014</th>\n",
       "      <th>2015</th>\n",
       "      <th>2016</th>\n",
       "      <th>2017</th>\n",
       "      <th>2018</th>\n",
       "      <th>2019</th>\n",
       "      <th>2020</th>\n",
       "      <th>2021</th>\n",
       "    </tr>\n",
       "  </thead>\n",
       "  <tbody>\n",
       "    <tr>\n",
       "      <th>0</th>\n",
       "      <td>Total</td>\n",
       "      <td>3753.45</td>\n",
       "      <td>242586.000000</td>\n",
       "      <td>265331.769513</td>\n",
       "      <td>82207.000000</td>\n",
       "      <td>131231.878347</td>\n",
       "      <td>109839.835488</td>\n",
       "      <td>160211.960454</td>\n",
       "      <td>334567.841620</td>\n",
       "      <td>492329.440023</td>\n",
       "      <td>...</td>\n",
       "      <td>1.048227e+06</td>\n",
       "      <td>1.039174e+06</td>\n",
       "      <td>1.836980e+06</td>\n",
       "      <td>1.728758e+06</td>\n",
       "      <td>1.653993e+06</td>\n",
       "      <td>1.980773e+06</td>\n",
       "      <td>1.317071e+06</td>\n",
       "      <td>1.335811e+06</td>\n",
       "      <td>571963.2561</td>\n",
       "      <td>1.152818e+06</td>\n",
       "    </tr>\n",
       "    <tr>\n",
       "      <th>2</th>\n",
       "      <td>EU countries</td>\n",
       "      <td>0.00</td>\n",
       "      <td>20808.371148</td>\n",
       "      <td>23068.815474</td>\n",
       "      <td>3525.273546</td>\n",
       "      <td>36726.839923</td>\n",
       "      <td>63421.349613</td>\n",
       "      <td>40469.434942</td>\n",
       "      <td>58063.057716</td>\n",
       "      <td>107226.112025</td>\n",
       "      <td>...</td>\n",
       "      <td>3.700607e+05</td>\n",
       "      <td>3.699287e+05</td>\n",
       "      <td>7.271144e+05</td>\n",
       "      <td>4.171504e+05</td>\n",
       "      <td>3.278131e+05</td>\n",
       "      <td>5.585311e+05</td>\n",
       "      <td>4.167644e+05</td>\n",
       "      <td>4.269186e+05</td>\n",
       "      <td>333129.4972</td>\n",
       "      <td>3.278776e+05</td>\n",
       "    </tr>\n",
       "    <tr>\n",
       "      <th>3</th>\n",
       "      <td>Austria</td>\n",
       "      <td>0.00</td>\n",
       "      <td>18688.224320</td>\n",
       "      <td>18876.639337</td>\n",
       "      <td>0.000000</td>\n",
       "      <td>0.000000</td>\n",
       "      <td>0.000000</td>\n",
       "      <td>-137.208960</td>\n",
       "      <td>17971.165858</td>\n",
       "      <td>23019.989682</td>\n",
       "      <td>...</td>\n",
       "      <td>2.599923e+04</td>\n",
       "      <td>7.008171e+03</td>\n",
       "      <td>8.000442e+03</td>\n",
       "      <td>1.962138e+04</td>\n",
       "      <td>2.780528e+04</td>\n",
       "      <td>6.287270e+03</td>\n",
       "      <td>1.736101e+04</td>\n",
       "      <td>1.523121e+04</td>\n",
       "      <td>-10654.2515</td>\n",
       "      <td>5.937885e+03</td>\n",
       "    </tr>\n",
       "    <tr>\n",
       "      <th>4</th>\n",
       "      <td>Belgium</td>\n",
       "      <td>0.00</td>\n",
       "      <td>0.000000</td>\n",
       "      <td>0.000000</td>\n",
       "      <td>0.000000</td>\n",
       "      <td>0.000000</td>\n",
       "      <td>0.000000</td>\n",
       "      <td>0.000000</td>\n",
       "      <td>0.000000</td>\n",
       "      <td>0.000000</td>\n",
       "      <td>...</td>\n",
       "      <td>-8.448066e+02</td>\n",
       "      <td>6.373268e+02</td>\n",
       "      <td>1.485556e+03</td>\n",
       "      <td>2.802875e+02</td>\n",
       "      <td>1.786745e+04</td>\n",
       "      <td>4.313471e+03</td>\n",
       "      <td>3.482845e+03</td>\n",
       "      <td>1.522731e+03</td>\n",
       "      <td>4857.8513</td>\n",
       "      <td>2.079779e+03</td>\n",
       "    </tr>\n",
       "    <tr>\n",
       "      <th>5</th>\n",
       "      <td>Bulgaria</td>\n",
       "      <td>0.00</td>\n",
       "      <td>0.000000</td>\n",
       "      <td>0.000000</td>\n",
       "      <td>46.930700</td>\n",
       "      <td>2172.174954</td>\n",
       "      <td>2238.914739</td>\n",
       "      <td>0.000000</td>\n",
       "      <td>0.000000</td>\n",
       "      <td>0.000000</td>\n",
       "      <td>...</td>\n",
       "      <td>2.269497e+03</td>\n",
       "      <td>2.566308e+03</td>\n",
       "      <td>9.151545e+03</td>\n",
       "      <td>7.196699e+03</td>\n",
       "      <td>1.647168e+03</td>\n",
       "      <td>4.858656e+03</td>\n",
       "      <td>7.426746e+03</td>\n",
       "      <td>5.857047e+03</td>\n",
       "      <td>-1739.1844</td>\n",
       "      <td>4.050176e+03</td>\n",
       "    </tr>\n",
       "  </tbody>\n",
       "</table>\n",
       "<p>5 rows × 27 columns</p>\n",
       "</div>"
      ],
      "text/plain": [
       "      Countries     1996           1997           1998          1999  \\\n",
       "0         Total  3753.45  242586.000000  265331.769513  82207.000000   \n",
       "2  EU countries     0.00   20808.371148   23068.815474   3525.273546   \n",
       "3       Austria     0.00   18688.224320   18876.639337      0.000000   \n",
       "4       Belgium     0.00       0.000000       0.000000      0.000000   \n",
       "5      Bulgaria     0.00       0.000000       0.000000     46.930700   \n",
       "\n",
       "            2000           2001           2002           2003           2004  \\\n",
       "0  131231.878347  109839.835488  160211.960454  334567.841620  492329.440023   \n",
       "2   36726.839923   63421.349613   40469.434942   58063.057716  107226.112025   \n",
       "3       0.000000       0.000000    -137.208960   17971.165858   23019.989682   \n",
       "4       0.000000       0.000000       0.000000       0.000000       0.000000   \n",
       "5    2172.174954    2238.914739       0.000000       0.000000       0.000000   \n",
       "\n",
       "   ...          2012          2013          2014          2015          2016  \\\n",
       "0  ...  1.048227e+06  1.039174e+06  1.836980e+06  1.728758e+06  1.653993e+06   \n",
       "2  ...  3.700607e+05  3.699287e+05  7.271144e+05  4.171504e+05  3.278131e+05   \n",
       "3  ...  2.599923e+04  7.008171e+03  8.000442e+03  1.962138e+04  2.780528e+04   \n",
       "4  ... -8.448066e+02  6.373268e+02  1.485556e+03  2.802875e+02  1.786745e+04   \n",
       "5  ...  2.269497e+03  2.566308e+03  9.151545e+03  7.196699e+03  1.647168e+03   \n",
       "\n",
       "           2017          2018          2019         2020          2021  \n",
       "0  1.980773e+06  1.317071e+06  1.335811e+06  571963.2561  1.152818e+06  \n",
       "2  5.585311e+05  4.167644e+05  4.269186e+05  333129.4972  3.278776e+05  \n",
       "3  6.287270e+03  1.736101e+04  1.523121e+04  -10654.2515  5.937885e+03  \n",
       "4  4.313471e+03  3.482845e+03  1.522731e+03    4857.8513  2.079779e+03  \n",
       "5  4.858656e+03  7.426746e+03  5.857047e+03   -1739.1844  4.050176e+03  \n",
       "\n",
       "[5 rows x 27 columns]"
      ]
     },
     "execution_count": 11,
     "metadata": {},
     "output_type": "execute_result"
    }
   ],
   "source": [
    "df_FDICountry.head()"
   ]
  },
  {
   "cell_type": "code",
   "execution_count": 12,
   "id": "0f213325-1b47-4af7-828d-d40def5b8c45",
   "metadata": {},
   "outputs": [
    {
     "data": {
      "text/html": [
       "<div>\n",
       "<style scoped>\n",
       "    .dataframe tbody tr th:only-of-type {\n",
       "        vertical-align: middle;\n",
       "    }\n",
       "\n",
       "    .dataframe tbody tr th {\n",
       "        vertical-align: top;\n",
       "    }\n",
       "\n",
       "    .dataframe thead th {\n",
       "        text-align: right;\n",
       "    }\n",
       "</style>\n",
       "<table border=\"1\" class=\"dataframe\">\n",
       "  <thead>\n",
       "    <tr style=\"text-align: right;\">\n",
       "      <th></th>\n",
       "      <th>Countries</th>\n",
       "      <th>1996</th>\n",
       "      <th>1997</th>\n",
       "      <th>1998</th>\n",
       "      <th>1999</th>\n",
       "      <th>2000</th>\n",
       "      <th>2001</th>\n",
       "      <th>2002</th>\n",
       "      <th>2003</th>\n",
       "      <th>2004</th>\n",
       "      <th>...</th>\n",
       "      <th>2012</th>\n",
       "      <th>2013</th>\n",
       "      <th>2014</th>\n",
       "      <th>2015</th>\n",
       "      <th>2016</th>\n",
       "      <th>2017</th>\n",
       "      <th>2018</th>\n",
       "      <th>2019</th>\n",
       "      <th>2020</th>\n",
       "      <th>2021</th>\n",
       "    </tr>\n",
       "  </thead>\n",
       "  <tbody>\n",
       "    <tr>\n",
       "      <th>count</th>\n",
       "      <td>81</td>\n",
       "      <td>81.000000</td>\n",
       "      <td>81.000000</td>\n",
       "      <td>81.000000</td>\n",
       "      <td>81.000000</td>\n",
       "      <td>81.000000</td>\n",
       "      <td>81.000000</td>\n",
       "      <td>81.000000</td>\n",
       "      <td>81.000000</td>\n",
       "      <td>81.000000</td>\n",
       "      <td>...</td>\n",
       "      <td>8.100000e+01</td>\n",
       "      <td>8.100000e+01</td>\n",
       "      <td>8.100000e+01</td>\n",
       "      <td>8.100000e+01</td>\n",
       "      <td>8.100000e+01</td>\n",
       "      <td>8.100000e+01</td>\n",
       "      <td>8.100000e+01</td>\n",
       "      <td>8.100000e+01</td>\n",
       "      <td>81.000000</td>\n",
       "      <td>8.100000e+01</td>\n",
       "    </tr>\n",
       "    <tr>\n",
       "      <th>unique</th>\n",
       "      <td>80</td>\n",
       "      <td>NaN</td>\n",
       "      <td>NaN</td>\n",
       "      <td>NaN</td>\n",
       "      <td>NaN</td>\n",
       "      <td>NaN</td>\n",
       "      <td>NaN</td>\n",
       "      <td>NaN</td>\n",
       "      <td>NaN</td>\n",
       "      <td>NaN</td>\n",
       "      <td>...</td>\n",
       "      <td>NaN</td>\n",
       "      <td>NaN</td>\n",
       "      <td>NaN</td>\n",
       "      <td>NaN</td>\n",
       "      <td>NaN</td>\n",
       "      <td>NaN</td>\n",
       "      <td>NaN</td>\n",
       "      <td>NaN</td>\n",
       "      <td>NaN</td>\n",
       "      <td>NaN</td>\n",
       "    </tr>\n",
       "    <tr>\n",
       "      <th>top</th>\n",
       "      <td>Other countries</td>\n",
       "      <td>NaN</td>\n",
       "      <td>NaN</td>\n",
       "      <td>NaN</td>\n",
       "      <td>NaN</td>\n",
       "      <td>NaN</td>\n",
       "      <td>NaN</td>\n",
       "      <td>NaN</td>\n",
       "      <td>NaN</td>\n",
       "      <td>NaN</td>\n",
       "      <td>...</td>\n",
       "      <td>NaN</td>\n",
       "      <td>NaN</td>\n",
       "      <td>NaN</td>\n",
       "      <td>NaN</td>\n",
       "      <td>NaN</td>\n",
       "      <td>NaN</td>\n",
       "      <td>NaN</td>\n",
       "      <td>NaN</td>\n",
       "      <td>NaN</td>\n",
       "      <td>NaN</td>\n",
       "    </tr>\n",
       "    <tr>\n",
       "      <th>freq</th>\n",
       "      <td>2</td>\n",
       "      <td>NaN</td>\n",
       "      <td>NaN</td>\n",
       "      <td>NaN</td>\n",
       "      <td>NaN</td>\n",
       "      <td>NaN</td>\n",
       "      <td>NaN</td>\n",
       "      <td>NaN</td>\n",
       "      <td>NaN</td>\n",
       "      <td>NaN</td>\n",
       "      <td>...</td>\n",
       "      <td>NaN</td>\n",
       "      <td>NaN</td>\n",
       "      <td>NaN</td>\n",
       "      <td>NaN</td>\n",
       "      <td>NaN</td>\n",
       "      <td>NaN</td>\n",
       "      <td>NaN</td>\n",
       "      <td>NaN</td>\n",
       "      <td>NaN</td>\n",
       "      <td>NaN</td>\n",
       "    </tr>\n",
       "    <tr>\n",
       "      <th>mean</th>\n",
       "      <td>NaN</td>\n",
       "      <td>139.016667</td>\n",
       "      <td>8984.666667</td>\n",
       "      <td>9827.102575</td>\n",
       "      <td>3044.703704</td>\n",
       "      <td>4860.439939</td>\n",
       "      <td>4068.142055</td>\n",
       "      <td>5920.487506</td>\n",
       "      <td>12365.604606</td>\n",
       "      <td>18221.522208</td>\n",
       "      <td>...</td>\n",
       "      <td>3.803983e+04</td>\n",
       "      <td>3.781286e+04</td>\n",
       "      <td>6.934470e+04</td>\n",
       "      <td>6.345373e+04</td>\n",
       "      <td>6.078465e+04</td>\n",
       "      <td>7.333091e+04</td>\n",
       "      <td>4.876033e+04</td>\n",
       "      <td>4.938948e+04</td>\n",
       "      <td>21165.823743</td>\n",
       "      <td>4.265139e+04</td>\n",
       "    </tr>\n",
       "    <tr>\n",
       "      <th>std</th>\n",
       "      <td>NaN</td>\n",
       "      <td>713.265242</td>\n",
       "      <td>35889.069853</td>\n",
       "      <td>38795.186939</td>\n",
       "      <td>14036.778023</td>\n",
       "      <td>18467.613455</td>\n",
       "      <td>15045.649121</td>\n",
       "      <td>23719.452802</td>\n",
       "      <td>44809.913894</td>\n",
       "      <td>65107.169313</td>\n",
       "      <td>...</td>\n",
       "      <td>1.351663e+05</td>\n",
       "      <td>1.333432e+05</td>\n",
       "      <td>2.433453e+05</td>\n",
       "      <td>2.292981e+05</td>\n",
       "      <td>2.178825e+05</td>\n",
       "      <td>2.602933e+05</td>\n",
       "      <td>1.719509e+05</td>\n",
       "      <td>1.773130e+05</td>\n",
       "      <td>89959.160900</td>\n",
       "      <td>1.679632e+05</td>\n",
       "    </tr>\n",
       "    <tr>\n",
       "      <th>min</th>\n",
       "      <td>NaN</td>\n",
       "      <td>0.000000</td>\n",
       "      <td>0.000000</td>\n",
       "      <td>-2667.560000</td>\n",
       "      <td>-547.404634</td>\n",
       "      <td>-50.950742</td>\n",
       "      <td>-36.425596</td>\n",
       "      <td>-2215.848880</td>\n",
       "      <td>0.000000</td>\n",
       "      <td>0.000000</td>\n",
       "      <td>...</td>\n",
       "      <td>-5.435377e+03</td>\n",
       "      <td>-4.428540e+04</td>\n",
       "      <td>-1.059804e+05</td>\n",
       "      <td>-3.463844e+04</td>\n",
       "      <td>-8.831696e+04</td>\n",
       "      <td>-9.450772e+04</td>\n",
       "      <td>-8.644045e+04</td>\n",
       "      <td>-3.471626e+04</td>\n",
       "      <td>-210092.413900</td>\n",
       "      <td>-3.977760e+04</td>\n",
       "    </tr>\n",
       "    <tr>\n",
       "      <th>25%</th>\n",
       "      <td>NaN</td>\n",
       "      <td>0.000000</td>\n",
       "      <td>0.000000</td>\n",
       "      <td>0.000000</td>\n",
       "      <td>0.000000</td>\n",
       "      <td>0.000000</td>\n",
       "      <td>0.000000</td>\n",
       "      <td>0.000000</td>\n",
       "      <td>0.000000</td>\n",
       "      <td>0.000000</td>\n",
       "      <td>...</td>\n",
       "      <td>0.000000e+00</td>\n",
       "      <td>0.000000e+00</td>\n",
       "      <td>6.327700e+01</td>\n",
       "      <td>0.000000e+00</td>\n",
       "      <td>7.645000e+00</td>\n",
       "      <td>4.671882e+02</td>\n",
       "      <td>5.052137e+02</td>\n",
       "      <td>5.135460e+01</td>\n",
       "      <td>-84.348800</td>\n",
       "      <td>1.921103e+02</td>\n",
       "    </tr>\n",
       "    <tr>\n",
       "      <th>50%</th>\n",
       "      <td>NaN</td>\n",
       "      <td>0.000000</td>\n",
       "      <td>0.000000</td>\n",
       "      <td>0.000000</td>\n",
       "      <td>0.000000</td>\n",
       "      <td>0.000000</td>\n",
       "      <td>0.000000</td>\n",
       "      <td>0.000000</td>\n",
       "      <td>0.000000</td>\n",
       "      <td>0.000000</td>\n",
       "      <td>...</td>\n",
       "      <td>2.269497e+03</td>\n",
       "      <td>2.190028e+03</td>\n",
       "      <td>2.030814e+03</td>\n",
       "      <td>2.204768e+03</td>\n",
       "      <td>3.094233e+03</td>\n",
       "      <td>2.516090e+03</td>\n",
       "      <td>2.028227e+03</td>\n",
       "      <td>2.735859e+03</td>\n",
       "      <td>976.633700</td>\n",
       "      <td>2.508438e+03</td>\n",
       "    </tr>\n",
       "    <tr>\n",
       "      <th>75%</th>\n",
       "      <td>NaN</td>\n",
       "      <td>0.000000</td>\n",
       "      <td>0.000000</td>\n",
       "      <td>0.000000</td>\n",
       "      <td>0.000000</td>\n",
       "      <td>41.003056</td>\n",
       "      <td>0.000000</td>\n",
       "      <td>87.774160</td>\n",
       "      <td>1438.500247</td>\n",
       "      <td>1280.000006</td>\n",
       "      <td>...</td>\n",
       "      <td>2.201732e+04</td>\n",
       "      <td>2.310090e+04</td>\n",
       "      <td>2.004815e+04</td>\n",
       "      <td>1.862883e+04</td>\n",
       "      <td>2.548083e+04</td>\n",
       "      <td>1.291344e+04</td>\n",
       "      <td>1.736101e+04</td>\n",
       "      <td>2.240869e+04</td>\n",
       "      <td>6970.890000</td>\n",
       "      <td>9.274351e+03</td>\n",
       "    </tr>\n",
       "    <tr>\n",
       "      <th>max</th>\n",
       "      <td>NaN</td>\n",
       "      <td>3753.450000</td>\n",
       "      <td>242586.000000</td>\n",
       "      <td>265331.769513</td>\n",
       "      <td>82207.000000</td>\n",
       "      <td>131231.878347</td>\n",
       "      <td>109839.835488</td>\n",
       "      <td>160211.960454</td>\n",
       "      <td>334567.841620</td>\n",
       "      <td>492329.440023</td>\n",
       "      <td>...</td>\n",
       "      <td>1.048227e+06</td>\n",
       "      <td>1.039174e+06</td>\n",
       "      <td>1.836980e+06</td>\n",
       "      <td>1.728758e+06</td>\n",
       "      <td>1.653993e+06</td>\n",
       "      <td>1.980773e+06</td>\n",
       "      <td>1.317071e+06</td>\n",
       "      <td>1.335811e+06</td>\n",
       "      <td>571963.256100</td>\n",
       "      <td>1.152818e+06</td>\n",
       "    </tr>\n",
       "  </tbody>\n",
       "</table>\n",
       "<p>11 rows × 27 columns</p>\n",
       "</div>"
      ],
      "text/plain": [
       "              Countries         1996           1997           1998  \\\n",
       "count                81    81.000000      81.000000      81.000000   \n",
       "unique               80          NaN            NaN            NaN   \n",
       "top     Other countries          NaN            NaN            NaN   \n",
       "freq                  2          NaN            NaN            NaN   \n",
       "mean                NaN   139.016667    8984.666667    9827.102575   \n",
       "std                 NaN   713.265242   35889.069853   38795.186939   \n",
       "min                 NaN     0.000000       0.000000   -2667.560000   \n",
       "25%                 NaN     0.000000       0.000000       0.000000   \n",
       "50%                 NaN     0.000000       0.000000       0.000000   \n",
       "75%                 NaN     0.000000       0.000000       0.000000   \n",
       "max                 NaN  3753.450000  242586.000000  265331.769513   \n",
       "\n",
       "                1999           2000           2001           2002  \\\n",
       "count      81.000000      81.000000      81.000000      81.000000   \n",
       "unique           NaN            NaN            NaN            NaN   \n",
       "top              NaN            NaN            NaN            NaN   \n",
       "freq             NaN            NaN            NaN            NaN   \n",
       "mean     3044.703704    4860.439939    4068.142055    5920.487506   \n",
       "std     14036.778023   18467.613455   15045.649121   23719.452802   \n",
       "min      -547.404634     -50.950742     -36.425596   -2215.848880   \n",
       "25%         0.000000       0.000000       0.000000       0.000000   \n",
       "50%         0.000000       0.000000       0.000000       0.000000   \n",
       "75%         0.000000      41.003056       0.000000      87.774160   \n",
       "max     82207.000000  131231.878347  109839.835488  160211.960454   \n",
       "\n",
       "                 2003           2004  ...          2012          2013  \\\n",
       "count       81.000000      81.000000  ...  8.100000e+01  8.100000e+01   \n",
       "unique            NaN            NaN  ...           NaN           NaN   \n",
       "top               NaN            NaN  ...           NaN           NaN   \n",
       "freq              NaN            NaN  ...           NaN           NaN   \n",
       "mean     12365.604606   18221.522208  ...  3.803983e+04  3.781286e+04   \n",
       "std      44809.913894   65107.169313  ...  1.351663e+05  1.333432e+05   \n",
       "min          0.000000       0.000000  ... -5.435377e+03 -4.428540e+04   \n",
       "25%          0.000000       0.000000  ...  0.000000e+00  0.000000e+00   \n",
       "50%          0.000000       0.000000  ...  2.269497e+03  2.190028e+03   \n",
       "75%       1438.500247    1280.000006  ...  2.201732e+04  2.310090e+04   \n",
       "max     334567.841620  492329.440023  ...  1.048227e+06  1.039174e+06   \n",
       "\n",
       "                2014          2015          2016          2017          2018  \\\n",
       "count   8.100000e+01  8.100000e+01  8.100000e+01  8.100000e+01  8.100000e+01   \n",
       "unique           NaN           NaN           NaN           NaN           NaN   \n",
       "top              NaN           NaN           NaN           NaN           NaN   \n",
       "freq             NaN           NaN           NaN           NaN           NaN   \n",
       "mean    6.934470e+04  6.345373e+04  6.078465e+04  7.333091e+04  4.876033e+04   \n",
       "std     2.433453e+05  2.292981e+05  2.178825e+05  2.602933e+05  1.719509e+05   \n",
       "min    -1.059804e+05 -3.463844e+04 -8.831696e+04 -9.450772e+04 -8.644045e+04   \n",
       "25%     6.327700e+01  0.000000e+00  7.645000e+00  4.671882e+02  5.052137e+02   \n",
       "50%     2.030814e+03  2.204768e+03  3.094233e+03  2.516090e+03  2.028227e+03   \n",
       "75%     2.004815e+04  1.862883e+04  2.548083e+04  1.291344e+04  1.736101e+04   \n",
       "max     1.836980e+06  1.728758e+06  1.653993e+06  1.980773e+06  1.317071e+06   \n",
       "\n",
       "                2019           2020          2021  \n",
       "count   8.100000e+01      81.000000  8.100000e+01  \n",
       "unique           NaN            NaN           NaN  \n",
       "top              NaN            NaN           NaN  \n",
       "freq             NaN            NaN           NaN  \n",
       "mean    4.938948e+04   21165.823743  4.265139e+04  \n",
       "std     1.773130e+05   89959.160900  1.679632e+05  \n",
       "min    -3.471626e+04 -210092.413900 -3.977760e+04  \n",
       "25%     5.135460e+01     -84.348800  1.921103e+02  \n",
       "50%     2.735859e+03     976.633700  2.508438e+03  \n",
       "75%     2.240869e+04    6970.890000  9.274351e+03  \n",
       "max     1.335811e+06  571963.256100  1.152818e+06  \n",
       "\n",
       "[11 rows x 27 columns]"
      ]
     },
     "execution_count": 12,
     "metadata": {},
     "output_type": "execute_result"
    }
   ],
   "source": [
    "df_FDICountry.describe(include=\"all\")"
   ]
  },
  {
   "cell_type": "code",
   "execution_count": 13,
   "id": "6d148df4-3350-4af0-8da0-8092d65f0b20",
   "metadata": {},
   "outputs": [
    {
     "data": {
      "text/plain": [
       "Countries    80\n",
       "1996          2\n",
       "1997         20\n",
       "1998         22\n",
       "1999         19\n",
       "2000         23\n",
       "2001         22\n",
       "2002         27\n",
       "2003         35\n",
       "2004         30\n",
       "2005         48\n",
       "2006         54\n",
       "2007         60\n",
       "2008         59\n",
       "2009         65\n",
       "2010         67\n",
       "2011         70\n",
       "2012         70\n",
       "2013         76\n",
       "2014         76\n",
       "2015         78\n",
       "2016         79\n",
       "2017         81\n",
       "2018         79\n",
       "2019         79\n",
       "2020         79\n",
       "2021         81\n",
       "dtype: int64"
      ]
     },
     "execution_count": 13,
     "metadata": {},
     "output_type": "execute_result"
    }
   ],
   "source": [
    "df_FDICountry.nunique()"
   ]
  },
  {
   "cell_type": "code",
   "execution_count": 14,
   "id": "eef382ca-9483-4b23-9a7a-ebd597e2e5e1",
   "metadata": {},
   "outputs": [
    {
     "data": {
      "text/plain": [
       "<AxesSubplot:>"
      ]
     },
     "execution_count": 14,
     "metadata": {},
     "output_type": "execute_result"
    },
    {
     "data": {
      "image/png": "[encoded data removed]",
      "text/plain": [
       "<Figure size 1800x360 with 1 Axes>"
      ]
     },
     "metadata": {
      "needs_background": "light"
     },
     "output_type": "display_data"
    }
   ],
   "source": [
    "df_FDICountry.set_index(\"Countries\").T.plot(kind = 'bar', figsize = (25,5), legend = False)"
   ]
  },
  {
   "cell_type": "code",
   "execution_count": 15,
   "id": "75c94763-9ed6-41ef-954a-7ec65c616ac7",
   "metadata": {},
   "outputs": [],
   "source": [
    "df_FDICountry.set_index(\"Countries\", drop = False, inplace = True) #keep Countries also as alist for Plotly"
   ]
  },
  {
   "cell_type": "code",
   "execution_count": 16,
   "id": "2135d309-ae0d-4175-a1ad-969ad11a0928",
   "metadata": {},
   "outputs": [
    {
     "data": {
      "application/vnd.plotly.v1+json": {
       "config": {
        "plotlyServerURL": "https://plot.ly"
       },
       "data": [
        {
         "domain": {
          "x": [
           0,
           1
          ],
          "y": [
           0,
           1
          ]
         },
         "hovertemplate": "Countries=%{label}<br>2021=%{value}<extra></extra>",
         "labels": [
          "EU countries",
          "CIS countries",
          "Other countries",
          "Other countries"
         ],
         "legendgroup": "",
         "name": "",
         "showlegend": true,
         "textinfo": "percent+label",
         "textposition": "inside",
         "type": "pie",
         "values": [
          327877.64619999996,
          68202.59509999995,
          753047.3181999999,
          13401.755200000001
         ]
        }
       ],
       "layout": {
        "height": 750,
        "legend": {
         "tracegroupgap": 0
        },
        "template": {
         "data": {
          "bar": [
           {
            "error_x": {
             "color": "#2a3f5f"
            },
            "error_y": {
             "color": "#2a3f5f"
            },
            "marker": {
             "line": {
              "color": "#E5ECF6",
              "width": 0.5
             },
             "pattern": {
              "fillmode": "overlay",
              "size": 10,
              "solidity": 0.2
             }
            },
            "type": "bar"
           }
          ],
          "barpolar": [
           {
            "marker": {
             "line": {
              "color": "#E5ECF6",
              "width": 0.5
             },
             "pattern": {
              "fillmode": "overlay",
              "size": 10,
              "solidity": 0.2
             }
            },
            "type": "barpolar"
           }
          ],
          "carpet": [
           {
            "aaxis": {
             "endlinecolor": "#2a3f5f",
             "gridcolor": "white",
             "linecolor": "white",
             "minorgridcolor": "white",
             "startlinecolor": "#2a3f5f"
            },
            "baxis": {
             "endlinecolor": "#2a3f5f",
             "gridcolor": "white",
             "linecolor": "white",
             "minorgridcolor": "white",
             "startlinecolor": "#2a3f5f"
            },
            "type": "carpet"
           }
          ],
          "choropleth": [
           {
            "colorbar": {
             "outlinewidth": 0,
             "ticks": ""
            },
            "type": "choropleth"
           }
          ],
          "contour": [
           {
            "colorbar": {
             "outlinewidth": 0,
             "ticks": ""
            },
            "colorscale": [
             [
              0,
              "#0d0887"
             ],
             [
              0.1111111111111111,
              "#46039f"
             ],
             [
              0.2222222222222222,
              "#7201a8"
             ],
             [
              0.3333333333333333,
              "#9c179e"
             ],
             [
              0.4444444444444444,
              "#bd3786"
             ],
             [
              0.5555555555555556,
              "#d8576b"
             ],
             [
              0.6666666666666666,
              "#ed7953"
             ],
             [
              0.7777777777777778,
              "#fb9f3a"
             ],
             [
              0.8888888888888888,
              "#fdca26"
             ],
             [
              1,
              "#f0f921"
             ]
            ],
            "type": "contour"
           }
          ],
          "contourcarpet": [
           {
            "colorbar": {
             "outlinewidth": 0,
             "ticks": ""
            },
            "type": "contourcarpet"
           }
          ],
          "heatmap": [
           {
            "colorbar": {
             "outlinewidth": 0,
             "ticks": ""
            },
            "colorscale": [
             [
              0,
              "#0d0887"
             ],
             [
              0.1111111111111111,
              "#46039f"
             ],
             [
              0.2222222222222222,
              "#7201a8"
             ],
             [
              0.3333333333333333,
              "#9c179e"
             ],
             [
              0.4444444444444444,
              "#bd3786"
             ],
             [
              0.5555555555555556,
              "#d8576b"
             ],
             [
              0.6666666666666666,
              "#ed7953"
             ],
             [
              0.7777777777777778,
              "#fb9f3a"
             ],
             [
              0.8888888888888888,
              "#fdca26"
             ],
             [
              1,
              "#f0f921"
             ]
            ],
            "type": "heatmap"
           }
          ],
          "heatmapgl": [
           {
            "colorbar": {
             "outlinewidth": 0,
             "ticks": ""
            },
            "colorscale": [
             [
              0,
              "#0d0887"
             ],
             [
              0.1111111111111111,
              "#46039f"
             ],
             [
              0.2222222222222222,
              "#7201a8"
             ],
             [
              0.3333333333333333,
              "#9c179e"
             ],
             [
              0.4444444444444444,
              "#bd3786"
             ],
             [
              0.5555555555555556,
              "#d8576b"
             ],
             [
              0.6666666666666666,
              "#ed7953"
             ],
             [
              0.7777777777777778,
              "#fb9f3a"
             ],
             [
              0.8888888888888888,
              "#fdca26"
             ],
             [
              1,
              "#f0f921"
             ]
            ],
            "type": "heatmapgl"
           }
          ],
          "histogram": [
           {
            "marker": {
             "pattern": {
              "fillmode": "overlay",
              "size": 10,
              "solidity": 0.2
             }
            },
            "type": "histogram"
           }
          ],
          "histogram2d": [
           {
            "colorbar": {
             "outlinewidth": 0,
             "ticks": ""
            },
            "colorscale": [
             [
              0,
              "#0d0887"
             ],
             [
              0.1111111111111111,
              "#46039f"
             ],
             [
              0.2222222222222222,
              "#7201a8"
             ],
             [
              0.3333333333333333,
              "#9c179e"
             ],
             [
              0.4444444444444444,
              "#bd3786"
             ],
             [
              0.5555555555555556,
              "#d8576b"
             ],
             [
              0.6666666666666666,
              "#ed7953"
             ],
             [
              0.7777777777777778,
              "#fb9f3a"
             ],
             [
              0.8888888888888888,
              "#fdca26"
             ],
             [
              1,
              "#f0f921"
             ]
            ],
            "type": "histogram2d"
           }
          ],
          "histogram2dcontour": [
           {
            "colorbar": {
             "outlinewidth": 0,
             "ticks": ""
            },
            "colorscale": [
             [
              0,
              "#0d0887"
             ],
             [
              0.1111111111111111,
              "#46039f"
             ],
             [
              0.2222222222222222,
              "#7201a8"
             ],
             [
              0.3333333333333333,
              "#9c179e"
             ],
             [
              0.4444444444444444,
              "#bd3786"
             ],
             [
              0.5555555555555556,
              "#d8576b"
             ],
             [
              0.6666666666666666,
              "#ed7953"
             ],
             [
              0.7777777777777778,
              "#fb9f3a"
             ],
             [
              0.8888888888888888,
              "#fdca26"
             ],
             [
              1,
              "#f0f921"
             ]
            ],
            "type": "histogram2dcontour"
           }
          ],
          "mesh3d": [
           {
            "colorbar": {
             "outlinewidth": 0,
             "ticks": ""
            },
            "type": "mesh3d"
           }
          ],
          "parcoords": [
           {
            "line": {
             "colorbar": {
              "outlinewidth": 0,
              "ticks": ""
             }
            },
            "type": "parcoords"
           }
          ],
          "pie": [
           {
            "automargin": true,
            "type": "pie"
           }
          ],
          "scatter": [
           {
            "marker": {
             "colorbar": {
              "outlinewidth": 0,
              "ticks": ""
             }
            },
            "type": "scatter"
           }
          ],
          "scatter3d": [
           {
            "line": {
             "colorbar": {
              "outlinewidth": 0,
              "ticks": ""
             }
            },
            "marker": {
             "colorbar": {
              "outlinewidth": 0,
              "ticks": ""
             }
            },
            "type": "scatter3d"
           }
          ],
          "scattercarpet": [
           {
            "marker": {
             "colorbar": {
              "outlinewidth": 0,
              "ticks": ""
             }
            },
            "type": "scattercarpet"
           }
          ],
          "scattergeo": [
           {
            "marker": {
             "colorbar": {
              "outlinewidth": 0,
              "ticks": ""
             }
            },
            "type": "scattergeo"
           }
          ],
          "scattergl": [
           {
            "marker": {
             "colorbar": {
              "outlinewidth": 0,
              "ticks": ""
             }
            },
            "type": "scattergl"
           }
          ],
          "scattermapbox": [
           {
            "marker": {
             "colorbar": {
              "outlinewidth": 0,
              "ticks": ""
             }
            },
            "type": "scattermapbox"
           }
          ],
          "scatterpolar": [
           {
            "marker": {
             "colorbar": {
              "outlinewidth": 0,
              "ticks": ""
             }
            },
            "type": "scatterpolar"
           }
          ],
          "scatterpolargl": [
           {
            "marker": {
             "colorbar": {
              "outlinewidth": 0,
              "ticks": ""
             }
            },
            "type": "scatterpolargl"
           }
          ],
          "scatterternary": [
           {
            "marker": {
             "colorbar": {
              "outlinewidth": 0,
              "ticks": ""
             }
            },
            "type": "scatterternary"
           }
          ],
          "surface": [
           {
            "colorbar": {
             "outlinewidth": 0,
             "ticks": ""
            },
            "colorscale": [
             [
              0,
              "#0d0887"
             ],
             [
              0.1111111111111111,
              "#46039f"
             ],
             [
              0.2222222222222222,
              "#7201a8"
             ],
             [
              0.3333333333333333,
              "#9c179e"
             ],
             [
              0.4444444444444444,
              "#bd3786"
             ],
             [
              0.5555555555555556,
              "#d8576b"
             ],
             [
              0.6666666666666666,
              "#ed7953"
             ],
             [
              0.7777777777777778,
              "#fb9f3a"
             ],
             [
              0.8888888888888888,
              "#fdca26"
             ],
             [
              1,
              "#f0f921"
             ]
            ],
            "type": "surface"
           }
          ],
          "table": [
           {
            "cells": {
             "fill": {
              "color": "#EBF0F8"
             },
             "line": {
              "color": "white"
             }
            },
            "header": {
             "fill": {
              "color": "#C8D4E3"
             },
             "line": {
              "color": "white"
             }
            },
            "type": "table"
           }
          ]
         },
         "layout": {
          "annotationdefaults": {
           "arrowcolor": "#2a3f5f",
           "arrowhead": 0,
           "arrowwidth": 1
          },
          "autotypenumbers": "strict",
          "coloraxis": {
           "colorbar": {
            "outlinewidth": 0,
            "ticks": ""
           }
          },
          "colorscale": {
           "diverging": [
            [
             0,
             "#8e0152"
            ],
            [
             0.1,
             "#c51b7d"
            ],
            [
             0.2,
             "#de77ae"
            ],
            [
             0.3,
             "#f1b6da"
            ],
            [
             0.4,
             "#fde0ef"
            ],
            [
             0.5,
             "#f7f7f7"
            ],
            [
             0.6,
             "#e6f5d0"
            ],
            [
             0.7,
             "#b8e186"
            ],
            [
             0.8,
             "#7fbc41"
            ],
            [
             0.9,
             "#4d9221"
            ],
            [
             1,
             "#276419"
            ]
           ],
           "sequential": [
            [
             0,
             "#0d0887"
            ],
            [
             0.1111111111111111,
             "#46039f"
            ],
            [
             0.2222222222222222,
             "#7201a8"
            ],
            [
             0.3333333333333333,
             "#9c179e"
            ],
            [
             0.4444444444444444,
             "#bd3786"
            ],
            [
             0.5555555555555556,
             "#d8576b"
            ],
            [
             0.6666666666666666,
             "#ed7953"
            ],
            [
             0.7777777777777778,
             "#fb9f3a"
            ],
            [
             0.8888888888888888,
             "#fdca26"
            ],
            [
             1,
             "#f0f921"
            ]
           ],
           "sequentialminus": [
            [
             0,
             "#0d0887"
            ],
            [
             0.1111111111111111,
             "#46039f"
            ],
            [
             0.2222222222222222,
             "#7201a8"
            ],
            [
             0.3333333333333333,
             "#9c179e"
            ],
            [
             0.4444444444444444,
             "#bd3786"
            ],
            [
             0.5555555555555556,
             "#d8576b"
            ],
            [
             0.6666666666666666,
             "#ed7953"
            ],
            [
             0.7777777777777778,
             "#fb9f3a"
            ],
            [
             0.8888888888888888,
             "#fdca26"
            ],
            [
             1,
             "#f0f921"
            ]
           ]
          },
          "colorway": [
           "#636efa",
           "#EF553B",
           "#00cc96",
           "#ab63fa",
           "#FFA15A",
           "#19d3f3",
           "#FF6692",
           "#B6E880",
           "#FF97FF",
           "#FECB52"
          ],
          "font": {
           "color": "#2a3f5f"
          },
          "geo": {
           "bgcolor": "white",
           "lakecolor": "white",
           "landcolor": "#E5ECF6",
           "showlakes": true,
           "showland": true,
           "subunitcolor": "white"
          },
          "hoverlabel": {
           "align": "left"
          },
          "hovermode": "closest",
          "mapbox": {
           "style": "light"
          },
          "paper_bgcolor": "white",
          "plot_bgcolor": "#E5ECF6",
          "polar": {
           "angularaxis": {
            "gridcolor": "white",
            "linecolor": "white",
            "ticks": ""
           },
           "bgcolor": "#E5ECF6",
           "radialaxis": {
            "gridcolor": "white",
            "linecolor": "white",
            "ticks": ""
           }
          },
          "scene": {
           "xaxis": {
            "backgroundcolor": "#E5ECF6",
            "gridcolor": "white",
            "gridwidth": 2,
            "linecolor": "white",
            "showbackground": true,
            "ticks": "",
            "zerolinecolor": "white"
           },
           "yaxis": {
            "backgroundcolor": "#E5ECF6",
            "gridcolor": "white",
            "gridwidth": 2,
            "linecolor": "white",
            "showbackground": true,
            "ticks": "",
            "zerolinecolor": "white"
           },
           "zaxis": {
            "backgroundcolor": "#E5ECF6",
            "gridcolor": "white",
            "gridwidth": 2,
            "linecolor": "white",
            "showbackground": true,
            "ticks": "",
            "zerolinecolor": "white"
           }
          },
          "shapedefaults": {
           "line": {
            "color": "#2a3f5f"
           }
          },
          "ternary": {
           "aaxis": {
            "gridcolor": "white",
            "linecolor": "white",
            "ticks": ""
           },
           "baxis": {
            "gridcolor": "white",
            "linecolor": "white",
            "ticks": ""
           },
           "bgcolor": "#E5ECF6",
           "caxis": {
            "gridcolor": "white",
            "linecolor": "white",
            "ticks": ""
           }
          },
          "title": {
           "x": 0.05
          },
          "xaxis": {
           "automargin": true,
           "gridcolor": "white",
           "linecolor": "white",
           "ticks": "",
           "title": {
            "standoff": 15
           },
           "zerolinecolor": "white",
           "zerolinewidth": 2
          },
          "yaxis": {
           "automargin": true,
           "gridcolor": "white",
           "linecolor": "white",
           "ticks": "",
           "title": {
            "standoff": 15
           },
           "zerolinecolor": "white",
           "zerolinewidth": 2
          }
         }
        },
        "title": {
         "text": "FDI by Country in 2021 (preliminary values)"
        }
       }
      }
     },
     "metadata": {},
     "output_type": "display_data"
    }
   ],
   "source": [
    "fig1 = px.pie(df_FDICountry.loc[[\"EU countries\",\"CIS countries\", \"Other countries\"]], values = 2021,names = \"Countries\", title = \"FDI by Country in 2021 (preliminary values)\", height = 750)\n",
    "fig1.update_traces(textposition='inside', textinfo='percent+label')\n",
    "fig1.show()"
   ]
  },
  {
   "cell_type": "code",
   "execution_count": 17,
   "id": "5a55e17f-75b8-4149-a9c0-6ca23f859b63",
   "metadata": {},
   "outputs": [],
   "source": [
    "df_FDICountry2 = df_FDICountry.drop(index = [\"Total\", \"EU countries\", \"Other countries\", \"CIS countries\"])\n",
    "df_FDICountry2.drop(columns = \"Countries\", inplace = True)\n",
    "df_FDICountry2 = df_FDICountry2.T\n",
    "df_FDICountry2.reset_index(drop= False, inplace= True)"
   ]
  },
  {
   "cell_type": "code",
   "execution_count": 18,
   "id": "c1ad7b6f",
   "metadata": {
    "scrolled": true
   },
   "outputs": [
    {
     "data": {
      "text/html": [
       "<div>\n",
       "<style scoped>\n",
       "    .dataframe tbody tr th:only-of-type {\n",
       "        vertical-align: middle;\n",
       "    }\n",
       "\n",
       "    .dataframe tbody tr th {\n",
       "        vertical-align: top;\n",
       "    }\n",
       "\n",
       "    .dataframe thead th {\n",
       "        text-align: right;\n",
       "    }\n",
       "</style>\n",
       "<table border=\"1\" class=\"dataframe\">\n",
       "  <thead>\n",
       "    <tr style=\"text-align: right;\">\n",
       "      <th>Countries</th>\n",
       "      <th>index</th>\n",
       "      <th>Austria</th>\n",
       "      <th>Belgium</th>\n",
       "      <th>Bulgaria</th>\n",
       "      <th>Croatia</th>\n",
       "      <th>Cyprus</th>\n",
       "      <th>Czech Republic</th>\n",
       "      <th>Denmark</th>\n",
       "      <th>Estonia</th>\n",
       "      <th>Finland</th>\n",
       "      <th>...</th>\n",
       "      <th>Seychelles</th>\n",
       "      <th>Switzerland</th>\n",
       "      <th>Syrian</th>\n",
       "      <th>United Arab Emirates</th>\n",
       "      <th>Turkey</th>\n",
       "      <th>Egypt</th>\n",
       "      <th>United Kingdom</th>\n",
       "      <th>United States</th>\n",
       "      <th>Unknown</th>\n",
       "      <th>International Organizations</th>\n",
       "    </tr>\n",
       "  </thead>\n",
       "  <tbody>\n",
       "    <tr>\n",
       "      <th>0</th>\n",
       "      <td>1996</td>\n",
       "      <td>0.000000</td>\n",
       "      <td>0.000000</td>\n",
       "      <td>0.000000</td>\n",
       "      <td>0.0000</td>\n",
       "      <td>0.000000</td>\n",
       "      <td>0.000000</td>\n",
       "      <td>0.000000</td>\n",
       "      <td>0.000000</td>\n",
       "      <td>0.0000</td>\n",
       "      <td>...</td>\n",
       "      <td>0.000000</td>\n",
       "      <td>0.000000</td>\n",
       "      <td>0.000000</td>\n",
       "      <td>0.000000</td>\n",
       "      <td>0.000000</td>\n",
       "      <td>0.000000</td>\n",
       "      <td>0.000000</td>\n",
       "      <td>0.000000</td>\n",
       "      <td>0.00000</td>\n",
       "      <td>0.000000</td>\n",
       "    </tr>\n",
       "    <tr>\n",
       "      <th>1</th>\n",
       "      <td>1997</td>\n",
       "      <td>18688.224320</td>\n",
       "      <td>0.000000</td>\n",
       "      <td>0.000000</td>\n",
       "      <td>0.0000</td>\n",
       "      <td>0.000000</td>\n",
       "      <td>0.000000</td>\n",
       "      <td>0.000000</td>\n",
       "      <td>0.000000</td>\n",
       "      <td>0.0000</td>\n",
       "      <td>...</td>\n",
       "      <td>0.000000</td>\n",
       "      <td>0.000000</td>\n",
       "      <td>0.000000</td>\n",
       "      <td>0.000000</td>\n",
       "      <td>14950.579456</td>\n",
       "      <td>0.000000</td>\n",
       "      <td>24985.511495</td>\n",
       "      <td>96651.887424</td>\n",
       "      <td>0.00000</td>\n",
       "      <td>0.000000</td>\n",
       "    </tr>\n",
       "    <tr>\n",
       "      <th>2</th>\n",
       "      <td>1998</td>\n",
       "      <td>18876.639337</td>\n",
       "      <td>0.000000</td>\n",
       "      <td>0.000000</td>\n",
       "      <td>0.0000</td>\n",
       "      <td>0.000000</td>\n",
       "      <td>0.000000</td>\n",
       "      <td>0.000000</td>\n",
       "      <td>0.000000</td>\n",
       "      <td>0.0000</td>\n",
       "      <td>...</td>\n",
       "      <td>0.000000</td>\n",
       "      <td>0.000000</td>\n",
       "      <td>0.000000</td>\n",
       "      <td>0.000000</td>\n",
       "      <td>15101.311470</td>\n",
       "      <td>0.000000</td>\n",
       "      <td>26471.589257</td>\n",
       "      <td>104427.226180</td>\n",
       "      <td>0.00000</td>\n",
       "      <td>0.000000</td>\n",
       "    </tr>\n",
       "    <tr>\n",
       "      <th>3</th>\n",
       "      <td>1999</td>\n",
       "      <td>0.000000</td>\n",
       "      <td>0.000000</td>\n",
       "      <td>46.930700</td>\n",
       "      <td>0.0000</td>\n",
       "      <td>895.013450</td>\n",
       "      <td>0.000000</td>\n",
       "      <td>0.000000</td>\n",
       "      <td>0.000000</td>\n",
       "      <td>0.0000</td>\n",
       "      <td>...</td>\n",
       "      <td>0.000000</td>\n",
       "      <td>0.000000</td>\n",
       "      <td>0.000000</td>\n",
       "      <td>0.000000</td>\n",
       "      <td>9831.127839</td>\n",
       "      <td>0.000000</td>\n",
       "      <td>5036.176714</td>\n",
       "      <td>59151.289331</td>\n",
       "      <td>0.00000</td>\n",
       "      <td>0.000000</td>\n",
       "    </tr>\n",
       "    <tr>\n",
       "      <th>4</th>\n",
       "      <td>2000</td>\n",
       "      <td>0.000000</td>\n",
       "      <td>0.000000</td>\n",
       "      <td>2172.174954</td>\n",
       "      <td>0.0000</td>\n",
       "      <td>3921.109728</td>\n",
       "      <td>0.000000</td>\n",
       "      <td>0.000000</td>\n",
       "      <td>0.000000</td>\n",
       "      <td>0.0000</td>\n",
       "      <td>...</td>\n",
       "      <td>0.000000</td>\n",
       "      <td>599.017874</td>\n",
       "      <td>0.000000</td>\n",
       "      <td>0.000000</td>\n",
       "      <td>28601.024958</td>\n",
       "      <td>0.000000</td>\n",
       "      <td>4823.975704</td>\n",
       "      <td>38717.651556</td>\n",
       "      <td>0.00000</td>\n",
       "      <td>0.000000</td>\n",
       "    </tr>\n",
       "    <tr>\n",
       "      <th>5</th>\n",
       "      <td>2001</td>\n",
       "      <td>0.000000</td>\n",
       "      <td>0.000000</td>\n",
       "      <td>2238.914739</td>\n",
       "      <td>0.0000</td>\n",
       "      <td>19209.077981</td>\n",
       "      <td>0.000000</td>\n",
       "      <td>0.000000</td>\n",
       "      <td>0.000000</td>\n",
       "      <td>0.0000</td>\n",
       "      <td>...</td>\n",
       "      <td>0.000000</td>\n",
       "      <td>0.000000</td>\n",
       "      <td>0.000000</td>\n",
       "      <td>0.000000</td>\n",
       "      <td>8456.082302</td>\n",
       "      <td>0.000000</td>\n",
       "      <td>8508.687993</td>\n",
       "      <td>23281.158381</td>\n",
       "      <td>0.00000</td>\n",
       "      <td>0.000000</td>\n",
       "    </tr>\n",
       "    <tr>\n",
       "      <th>6</th>\n",
       "      <td>2002</td>\n",
       "      <td>-137.208960</td>\n",
       "      <td>0.000000</td>\n",
       "      <td>0.000000</td>\n",
       "      <td>0.0000</td>\n",
       "      <td>1062.712164</td>\n",
       "      <td>0.000000</td>\n",
       "      <td>0.000000</td>\n",
       "      <td>0.000000</td>\n",
       "      <td>0.0000</td>\n",
       "      <td>...</td>\n",
       "      <td>0.000000</td>\n",
       "      <td>0.000000</td>\n",
       "      <td>0.000000</td>\n",
       "      <td>0.000000</td>\n",
       "      <td>8246.377340</td>\n",
       "      <td>0.000000</td>\n",
       "      <td>14719.529864</td>\n",
       "      <td>81609.826028</td>\n",
       "      <td>627.86159</td>\n",
       "      <td>448.531800</td>\n",
       "    </tr>\n",
       "    <tr>\n",
       "      <th>7</th>\n",
       "      <td>2003</td>\n",
       "      <td>17971.165858</td>\n",
       "      <td>0.000000</td>\n",
       "      <td>0.000000</td>\n",
       "      <td>0.0000</td>\n",
       "      <td>675.727949</td>\n",
       "      <td>249.770687</td>\n",
       "      <td>0.000000</td>\n",
       "      <td>0.000000</td>\n",
       "      <td>0.0000</td>\n",
       "      <td>...</td>\n",
       "      <td>0.000000</td>\n",
       "      <td>24.812340</td>\n",
       "      <td>0.000000</td>\n",
       "      <td>291.142848</td>\n",
       "      <td>16673.840354</td>\n",
       "      <td>0.000000</td>\n",
       "      <td>34842.840181</td>\n",
       "      <td>71603.885369</td>\n",
       "      <td>853.61444</td>\n",
       "      <td>1235.937360</td>\n",
       "    </tr>\n",
       "    <tr>\n",
       "      <th>8</th>\n",
       "      <td>2004</td>\n",
       "      <td>23019.989682</td>\n",
       "      <td>0.000000</td>\n",
       "      <td>0.000000</td>\n",
       "      <td>0.0000</td>\n",
       "      <td>21333.115095</td>\n",
       "      <td>276.575717</td>\n",
       "      <td>0.000000</td>\n",
       "      <td>0.000000</td>\n",
       "      <td>0.0000</td>\n",
       "      <td>...</td>\n",
       "      <td>0.000000</td>\n",
       "      <td>42.634570</td>\n",
       "      <td>0.000000</td>\n",
       "      <td>0.000000</td>\n",
       "      <td>33325.950050</td>\n",
       "      <td>0.000000</td>\n",
       "      <td>85099.450378</td>\n",
       "      <td>80753.732613</td>\n",
       "      <td>268.31440</td>\n",
       "      <td>776.706830</td>\n",
       "    </tr>\n",
       "    <tr>\n",
       "      <th>9</th>\n",
       "      <td>2005</td>\n",
       "      <td>14784.520351</td>\n",
       "      <td>0.000000</td>\n",
       "      <td>70.760471</td>\n",
       "      <td>0.0000</td>\n",
       "      <td>47537.321268</td>\n",
       "      <td>1279.555401</td>\n",
       "      <td>318.976155</td>\n",
       "      <td>0.000000</td>\n",
       "      <td>0.0000</td>\n",
       "      <td>...</td>\n",
       "      <td>154.312890</td>\n",
       "      <td>348.385135</td>\n",
       "      <td>0.000000</td>\n",
       "      <td>280.461811</td>\n",
       "      <td>21519.854918</td>\n",
       "      <td>0.000000</td>\n",
       "      <td>131546.397550</td>\n",
       "      <td>15088.925954</td>\n",
       "      <td>328.45036</td>\n",
       "      <td>3279.470620</td>\n",
       "    </tr>\n",
       "    <tr>\n",
       "      <th>10</th>\n",
       "      <td>2006</td>\n",
       "      <td>10646.520741</td>\n",
       "      <td>0.000000</td>\n",
       "      <td>318.914190</td>\n",
       "      <td>0.0000</td>\n",
       "      <td>55450.316277</td>\n",
       "      <td>15032.248579</td>\n",
       "      <td>42001.900360</td>\n",
       "      <td>0.000000</td>\n",
       "      <td>0.0000</td>\n",
       "      <td>...</td>\n",
       "      <td>0.000000</td>\n",
       "      <td>342.194547</td>\n",
       "      <td>0.000000</td>\n",
       "      <td>422.649717</td>\n",
       "      <td>126790.274190</td>\n",
       "      <td>0.000000</td>\n",
       "      <td>174535.072460</td>\n",
       "      <td>100833.329080</td>\n",
       "      <td>-312.16201</td>\n",
       "      <td>14619.299679</td>\n",
       "    </tr>\n",
       "    <tr>\n",
       "      <th>11</th>\n",
       "      <td>2007</td>\n",
       "      <td>8946.585591</td>\n",
       "      <td>1436.232428</td>\n",
       "      <td>20.644949</td>\n",
       "      <td>0.0000</td>\n",
       "      <td>140599.564480</td>\n",
       "      <td>209229.387270</td>\n",
       "      <td>144931.448530</td>\n",
       "      <td>7630.928448</td>\n",
       "      <td>0.0000</td>\n",
       "      <td>...</td>\n",
       "      <td>4306.180352</td>\n",
       "      <td>9961.991406</td>\n",
       "      <td>3.851737</td>\n",
       "      <td>120186.579320</td>\n",
       "      <td>79510.192512</td>\n",
       "      <td>0.000000</td>\n",
       "      <td>132178.025960</td>\n",
       "      <td>68439.861562</td>\n",
       "      <td>0.00000</td>\n",
       "      <td>13066.105543</td>\n",
       "    </tr>\n",
       "    <tr>\n",
       "      <th>12</th>\n",
       "      <td>2008</td>\n",
       "      <td>51463.374336</td>\n",
       "      <td>61.970842</td>\n",
       "      <td>12.662226</td>\n",
       "      <td>0.0000</td>\n",
       "      <td>26165.766062</td>\n",
       "      <td>34857.631753</td>\n",
       "      <td>256.277100</td>\n",
       "      <td>5049.808185</td>\n",
       "      <td>0.0000</td>\n",
       "      <td>...</td>\n",
       "      <td>4350.516236</td>\n",
       "      <td>89958.560934</td>\n",
       "      <td>9.174790</td>\n",
       "      <td>306576.322150</td>\n",
       "      <td>167403.120925</td>\n",
       "      <td>0.000000</td>\n",
       "      <td>148179.798047</td>\n",
       "      <td>167920.667860</td>\n",
       "      <td>0.00000</td>\n",
       "      <td>23650.953120</td>\n",
       "    </tr>\n",
       "    <tr>\n",
       "      <th>13</th>\n",
       "      <td>2009</td>\n",
       "      <td>29709.042000</td>\n",
       "      <td>112.690000</td>\n",
       "      <td>-291.404500</td>\n",
       "      <td>0.0000</td>\n",
       "      <td>-1612.051200</td>\n",
       "      <td>45679.039600</td>\n",
       "      <td>-427.316800</td>\n",
       "      <td>8074.903006</td>\n",
       "      <td>0.0000</td>\n",
       "      <td>...</td>\n",
       "      <td>1481.575900</td>\n",
       "      <td>-11984.003300</td>\n",
       "      <td>12.765500</td>\n",
       "      <td>162756.461900</td>\n",
       "      <td>97984.235843</td>\n",
       "      <td>55750.580000</td>\n",
       "      <td>72439.294405</td>\n",
       "      <td>-10025.984700</td>\n",
       "      <td>11066.78250</td>\n",
       "      <td>30739.225200</td>\n",
       "    </tr>\n",
       "    <tr>\n",
       "      <th>14</th>\n",
       "      <td>2010</td>\n",
       "      <td>10684.739782</td>\n",
       "      <td>23.368200</td>\n",
       "      <td>-89.994200</td>\n",
       "      <td>0.0000</td>\n",
       "      <td>40387.743300</td>\n",
       "      <td>24213.499817</td>\n",
       "      <td>18.067100</td>\n",
       "      <td>-51.868700</td>\n",
       "      <td>1533.3327</td>\n",
       "      <td>...</td>\n",
       "      <td>5467.517900</td>\n",
       "      <td>21885.065543</td>\n",
       "      <td>63.344600</td>\n",
       "      <td>55530.659800</td>\n",
       "      <td>91786.514500</td>\n",
       "      <td>18000.000100</td>\n",
       "      <td>62336.275460</td>\n",
       "      <td>141210.377831</td>\n",
       "      <td>0.00000</td>\n",
       "      <td>45186.041700</td>\n",
       "    </tr>\n",
       "    <tr>\n",
       "      <th>15</th>\n",
       "      <td>2011</td>\n",
       "      <td>32738.295908</td>\n",
       "      <td>-19.524000</td>\n",
       "      <td>1095.963654</td>\n",
       "      <td>0.0000</td>\n",
       "      <td>12145.540981</td>\n",
       "      <td>46598.262500</td>\n",
       "      <td>2504.368900</td>\n",
       "      <td>-332.451900</td>\n",
       "      <td>992.9875</td>\n",
       "      <td>...</td>\n",
       "      <td>8637.259500</td>\n",
       "      <td>29534.490496</td>\n",
       "      <td>103.416200</td>\n",
       "      <td>48612.111914</td>\n",
       "      <td>77708.803450</td>\n",
       "      <td>11787.500000</td>\n",
       "      <td>57216.501610</td>\n",
       "      <td>35291.754620</td>\n",
       "      <td>0.00000</td>\n",
       "      <td>94896.504400</td>\n",
       "    </tr>\n",
       "    <tr>\n",
       "      <th>16</th>\n",
       "      <td>2012</td>\n",
       "      <td>25999.225115</td>\n",
       "      <td>-844.806600</td>\n",
       "      <td>2269.496800</td>\n",
       "      <td>0.0000</td>\n",
       "      <td>45960.292137</td>\n",
       "      <td>8031.399100</td>\n",
       "      <td>6558.114900</td>\n",
       "      <td>385.463200</td>\n",
       "      <td>1085.6838</td>\n",
       "      <td>...</td>\n",
       "      <td>8761.468000</td>\n",
       "      <td>22027.450397</td>\n",
       "      <td>-10.284800</td>\n",
       "      <td>25470.100486</td>\n",
       "      <td>107222.391386</td>\n",
       "      <td>0.000000</td>\n",
       "      <td>95536.664823</td>\n",
       "      <td>20253.999100</td>\n",
       "      <td>0.00000</td>\n",
       "      <td>63454.726500</td>\n",
       "    </tr>\n",
       "    <tr>\n",
       "      <th>17</th>\n",
       "      <td>2013</td>\n",
       "      <td>7008.170988</td>\n",
       "      <td>637.326800</td>\n",
       "      <td>2566.307524</td>\n",
       "      <td>0.0000</td>\n",
       "      <td>-44285.398773</td>\n",
       "      <td>43578.338200</td>\n",
       "      <td>9572.371800</td>\n",
       "      <td>482.212900</td>\n",
       "      <td>1235.8589</td>\n",
       "      <td>...</td>\n",
       "      <td>1249.934700</td>\n",
       "      <td>24272.350875</td>\n",
       "      <td>26.130100</td>\n",
       "      <td>68948.381158</td>\n",
       "      <td>51433.753532</td>\n",
       "      <td>1488.712127</td>\n",
       "      <td>55171.312715</td>\n",
       "      <td>53885.224061</td>\n",
       "      <td>0.00000</td>\n",
       "      <td>54680.836317</td>\n",
       "    </tr>\n",
       "    <tr>\n",
       "      <th>18</th>\n",
       "      <td>2014</td>\n",
       "      <td>8000.442038</td>\n",
       "      <td>1485.556000</td>\n",
       "      <td>9151.545297</td>\n",
       "      <td>0.0000</td>\n",
       "      <td>-5141.807923</td>\n",
       "      <td>51961.843700</td>\n",
       "      <td>12730.183100</td>\n",
       "      <td>4066.405700</td>\n",
       "      <td>887.0842</td>\n",
       "      <td>...</td>\n",
       "      <td>-1580.394300</td>\n",
       "      <td>8326.995679</td>\n",
       "      <td>116.897300</td>\n",
       "      <td>25872.252388</td>\n",
       "      <td>72305.960548</td>\n",
       "      <td>373.477036</td>\n",
       "      <td>108850.796451</td>\n",
       "      <td>184442.755304</td>\n",
       "      <td>0.00000</td>\n",
       "      <td>-105980.379157</td>\n",
       "    </tr>\n",
       "    <tr>\n",
       "      <th>19</th>\n",
       "      <td>2015</td>\n",
       "      <td>19621.375218</td>\n",
       "      <td>280.287500</td>\n",
       "      <td>7196.698753</td>\n",
       "      <td>0.0000</td>\n",
       "      <td>-26983.805912</td>\n",
       "      <td>16672.502800</td>\n",
       "      <td>12141.545600</td>\n",
       "      <td>13203.928900</td>\n",
       "      <td>358.4226</td>\n",
       "      <td>...</td>\n",
       "      <td>6473.271100</td>\n",
       "      <td>741.408706</td>\n",
       "      <td>442.078700</td>\n",
       "      <td>36556.135803</td>\n",
       "      <td>74893.758202</td>\n",
       "      <td>-1101.273630</td>\n",
       "      <td>399346.841345</td>\n",
       "      <td>18898.423706</td>\n",
       "      <td>6743.03470</td>\n",
       "      <td>39779.528091</td>\n",
       "    </tr>\n",
       "    <tr>\n",
       "      <th>20</th>\n",
       "      <td>2016</td>\n",
       "      <td>27805.278900</td>\n",
       "      <td>17867.449300</td>\n",
       "      <td>1647.167600</td>\n",
       "      <td>0.0000</td>\n",
       "      <td>-6497.459100</td>\n",
       "      <td>87529.205600</td>\n",
       "      <td>-7282.573400</td>\n",
       "      <td>19714.234700</td>\n",
       "      <td>306.3299</td>\n",
       "      <td>...</td>\n",
       "      <td>-4513.496200</td>\n",
       "      <td>7112.013800</td>\n",
       "      <td>386.673500</td>\n",
       "      <td>55294.345700</td>\n",
       "      <td>220272.236000</td>\n",
       "      <td>-292.849700</td>\n",
       "      <td>87849.542000</td>\n",
       "      <td>59817.104400</td>\n",
       "      <td>-4702.34550</td>\n",
       "      <td>43125.717500</td>\n",
       "    </tr>\n",
       "    <tr>\n",
       "      <th>21</th>\n",
       "      <td>2017</td>\n",
       "      <td>6287.270500</td>\n",
       "      <td>4313.471200</td>\n",
       "      <td>4858.656200</td>\n",
       "      <td>467.1882</td>\n",
       "      <td>12913.440700</td>\n",
       "      <td>129097.274000</td>\n",
       "      <td>-4457.082700</td>\n",
       "      <td>18489.077800</td>\n",
       "      <td>-435.8257</td>\n",
       "      <td>...</td>\n",
       "      <td>5165.387900</td>\n",
       "      <td>35654.277200</td>\n",
       "      <td>983.190300</td>\n",
       "      <td>147084.053800</td>\n",
       "      <td>256215.300400</td>\n",
       "      <td>-281.082700</td>\n",
       "      <td>249032.362000</td>\n",
       "      <td>79115.334700</td>\n",
       "      <td>0.00000</td>\n",
       "      <td>2516.089900</td>\n",
       "    </tr>\n",
       "    <tr>\n",
       "      <th>22</th>\n",
       "      <td>2018</td>\n",
       "      <td>17361.008600</td>\n",
       "      <td>3482.845300</td>\n",
       "      <td>7426.746500</td>\n",
       "      <td>2028.2268</td>\n",
       "      <td>-86440.447500</td>\n",
       "      <td>75517.499400</td>\n",
       "      <td>15248.811600</td>\n",
       "      <td>15371.392800</td>\n",
       "      <td>53.5148</td>\n",
       "      <td>...</td>\n",
       "      <td>3395.739700</td>\n",
       "      <td>49370.569400</td>\n",
       "      <td>193.559800</td>\n",
       "      <td>33912.872800</td>\n",
       "      <td>49185.742700</td>\n",
       "      <td>661.522700</td>\n",
       "      <td>182923.835300</td>\n",
       "      <td>104964.062200</td>\n",
       "      <td>0.00000</td>\n",
       "      <td>1627.471100</td>\n",
       "    </tr>\n",
       "    <tr>\n",
       "      <th>23</th>\n",
       "      <td>2019</td>\n",
       "      <td>15231.207800</td>\n",
       "      <td>1522.731400</td>\n",
       "      <td>5857.046700</td>\n",
       "      <td>794.0375</td>\n",
       "      <td>23659.579800</td>\n",
       "      <td>17592.692500</td>\n",
       "      <td>2754.372300</td>\n",
       "      <td>3879.199400</td>\n",
       "      <td>2216.4144</td>\n",
       "      <td>...</td>\n",
       "      <td>3056.047600</td>\n",
       "      <td>-3753.067800</td>\n",
       "      <td>362.127300</td>\n",
       "      <td>26268.382000</td>\n",
       "      <td>174174.721800</td>\n",
       "      <td>558.950000</td>\n",
       "      <td>236860.484400</td>\n",
       "      <td>115592.258500</td>\n",
       "      <td>0.00000</td>\n",
       "      <td>6883.749300</td>\n",
       "    </tr>\n",
       "    <tr>\n",
       "      <th>24</th>\n",
       "      <td>2020</td>\n",
       "      <td>-10654.251500</td>\n",
       "      <td>4857.851300</td>\n",
       "      <td>-1739.184400</td>\n",
       "      <td>-326.6672</td>\n",
       "      <td>-42690.180400</td>\n",
       "      <td>-6963.380100</td>\n",
       "      <td>28906.117900</td>\n",
       "      <td>6970.890000</td>\n",
       "      <td>731.2886</td>\n",
       "      <td>...</td>\n",
       "      <td>-907.587400</td>\n",
       "      <td>-8277.007200</td>\n",
       "      <td>-71.409100</td>\n",
       "      <td>-12654.671900</td>\n",
       "      <td>79041.692700</td>\n",
       "      <td>2566.815900</td>\n",
       "      <td>302984.890800</td>\n",
       "      <td>98440.933200</td>\n",
       "      <td>0.00000</td>\n",
       "      <td>1458.045100</td>\n",
       "    </tr>\n",
       "    <tr>\n",
       "      <th>25</th>\n",
       "      <td>2021</td>\n",
       "      <td>5937.884600</td>\n",
       "      <td>2079.779100</td>\n",
       "      <td>4050.176400</td>\n",
       "      <td>48.2965</td>\n",
       "      <td>-27719.597300</td>\n",
       "      <td>81771.262800</td>\n",
       "      <td>1945.052900</td>\n",
       "      <td>9139.967900</td>\n",
       "      <td>206.8843</td>\n",
       "      <td>...</td>\n",
       "      <td>19827.779000</td>\n",
       "      <td>6481.784500</td>\n",
       "      <td>2.744500</td>\n",
       "      <td>34798.973200</td>\n",
       "      <td>64730.564000</td>\n",
       "      <td>2740.452900</td>\n",
       "      <td>596616.969400</td>\n",
       "      <td>6150.976800</td>\n",
       "      <td>0.00000</td>\n",
       "      <td>3690.059100</td>\n",
       "    </tr>\n",
       "  </tbody>\n",
       "</table>\n",
       "<p>26 rows × 77 columns</p>\n",
       "</div>"
      ],
      "text/plain": [
       "Countries  index       Austria       Belgium     Bulgaria    Croatia  \\\n",
       "0           1996      0.000000      0.000000     0.000000     0.0000   \n",
       "1           1997  18688.224320      0.000000     0.000000     0.0000   \n",
       "2           1998  18876.639337      0.000000     0.000000     0.0000   \n",
       "3           1999      0.000000      0.000000    46.930700     0.0000   \n",
       "4           2000      0.000000      0.000000  2172.174954     0.0000   \n",
       "5           2001      0.000000      0.000000  2238.914739     0.0000   \n",
       "6           2002   -137.208960      0.000000     0.000000     0.0000   \n",
       "7           2003  17971.165858      0.000000     0.000000     0.0000   \n",
       "8           2004  23019.989682      0.000000     0.000000     0.0000   \n",
       "9           2005  14784.520351      0.000000    70.760471     0.0000   \n",
       "10          2006  10646.520741      0.000000   318.914190     0.0000   \n",
       "11          2007   8946.585591   1436.232428    20.644949     0.0000   \n",
       "12          2008  51463.374336     61.970842    12.662226     0.0000   \n",
       "13          2009  29709.042000    112.690000  -291.404500     0.0000   \n",
       "14          2010  10684.739782     23.368200   -89.994200     0.0000   \n",
       "15          2011  32738.295908    -19.524000  1095.963654     0.0000   \n",
       "16          2012  25999.225115   -844.806600  2269.496800     0.0000   \n",
       "17          2013   7008.170988    637.326800  2566.307524     0.0000   \n",
       "18          2014   8000.442038   1485.556000  9151.545297     0.0000   \n",
       "19          2015  19621.375218    280.287500  7196.698753     0.0000   \n",
       "20          2016  27805.278900  17867.449300  1647.167600     0.0000   \n",
       "21          2017   6287.270500   4313.471200  4858.656200   467.1882   \n",
       "22          2018  17361.008600   3482.845300  7426.746500  2028.2268   \n",
       "23          2019  15231.207800   1522.731400  5857.046700   794.0375   \n",
       "24          2020 -10654.251500   4857.851300 -1739.184400  -326.6672   \n",
       "25          2021   5937.884600   2079.779100  4050.176400    48.2965   \n",
       "\n",
       "Countries         Cyprus  Czech Republic        Denmark       Estonia  \\\n",
       "0               0.000000        0.000000       0.000000      0.000000   \n",
       "1               0.000000        0.000000       0.000000      0.000000   \n",
       "2               0.000000        0.000000       0.000000      0.000000   \n",
       "3             895.013450        0.000000       0.000000      0.000000   \n",
       "4            3921.109728        0.000000       0.000000      0.000000   \n",
       "5           19209.077981        0.000000       0.000000      0.000000   \n",
       "6            1062.712164        0.000000       0.000000      0.000000   \n",
       "7             675.727949      249.770687       0.000000      0.000000   \n",
       "8           21333.115095      276.575717       0.000000      0.000000   \n",
       "9           47537.321268     1279.555401     318.976155      0.000000   \n",
       "10          55450.316277    15032.248579   42001.900360      0.000000   \n",
       "11         140599.564480   209229.387270  144931.448530   7630.928448   \n",
       "12          26165.766062    34857.631753     256.277100   5049.808185   \n",
       "13          -1612.051200    45679.039600    -427.316800   8074.903006   \n",
       "14          40387.743300    24213.499817      18.067100    -51.868700   \n",
       "15          12145.540981    46598.262500    2504.368900   -332.451900   \n",
       "16          45960.292137     8031.399100    6558.114900    385.463200   \n",
       "17         -44285.398773    43578.338200    9572.371800    482.212900   \n",
       "18          -5141.807923    51961.843700   12730.183100   4066.405700   \n",
       "19         -26983.805912    16672.502800   12141.545600  13203.928900   \n",
       "20          -6497.459100    87529.205600   -7282.573400  19714.234700   \n",
       "21          12913.440700   129097.274000   -4457.082700  18489.077800   \n",
       "22         -86440.447500    75517.499400   15248.811600  15371.392800   \n",
       "23          23659.579800    17592.692500    2754.372300   3879.199400   \n",
       "24         -42690.180400    -6963.380100   28906.117900   6970.890000   \n",
       "25         -27719.597300    81771.262800    1945.052900   9139.967900   \n",
       "\n",
       "Countries    Finland  ...    Seychelles   Switzerland      Syrian  \\\n",
       "0             0.0000  ...      0.000000      0.000000    0.000000   \n",
       "1             0.0000  ...      0.000000      0.000000    0.000000   \n",
       "2             0.0000  ...      0.000000      0.000000    0.000000   \n",
       "3             0.0000  ...      0.000000      0.000000    0.000000   \n",
       "4             0.0000  ...      0.000000    599.017874    0.000000   \n",
       "5             0.0000  ...      0.000000      0.000000    0.000000   \n",
       "6             0.0000  ...      0.000000      0.000000    0.000000   \n",
       "7             0.0000  ...      0.000000     24.812340    0.000000   \n",
       "8             0.0000  ...      0.000000     42.634570    0.000000   \n",
       "9             0.0000  ...    154.312890    348.385135    0.000000   \n",
       "10            0.0000  ...      0.000000    342.194547    0.000000   \n",
       "11            0.0000  ...   4306.180352   9961.991406    3.851737   \n",
       "12            0.0000  ...   4350.516236  89958.560934    9.174790   \n",
       "13            0.0000  ...   1481.575900 -11984.003300   12.765500   \n",
       "14         1533.3327  ...   5467.517900  21885.065543   63.344600   \n",
       "15          992.9875  ...   8637.259500  29534.490496  103.416200   \n",
       "16         1085.6838  ...   8761.468000  22027.450397  -10.284800   \n",
       "17         1235.8589  ...   1249.934700  24272.350875   26.130100   \n",
       "18          887.0842  ...  -1580.394300   8326.995679  116.897300   \n",
       "19          358.4226  ...   6473.271100    741.408706  442.078700   \n",
       "20          306.3299  ...  -4513.496200   7112.013800  386.673500   \n",
       "21         -435.8257  ...   5165.387900  35654.277200  983.190300   \n",
       "22           53.5148  ...   3395.739700  49370.569400  193.559800   \n",
       "23         2216.4144  ...   3056.047600  -3753.067800  362.127300   \n",
       "24          731.2886  ...   -907.587400  -8277.007200  -71.409100   \n",
       "25          206.8843  ...  19827.779000   6481.784500    2.744500   \n",
       "\n",
       "Countries  United Arab Emirates         Turkey         Egypt  United Kingdom  \\\n",
       "0                      0.000000       0.000000      0.000000        0.000000   \n",
       "1                      0.000000   14950.579456      0.000000    24985.511495   \n",
       "2                      0.000000   15101.311470      0.000000    26471.589257   \n",
       "3                      0.000000    9831.127839      0.000000     5036.176714   \n",
       "4                      0.000000   28601.024958      0.000000     4823.975704   \n",
       "5                      0.000000    8456.082302      0.000000     8508.687993   \n",
       "6                      0.000000    8246.377340      0.000000    14719.529864   \n",
       "7                    291.142848   16673.840354      0.000000    34842.840181   \n",
       "8                      0.000000   33325.950050      0.000000    85099.450378   \n",
       "9                    280.461811   21519.854918      0.000000   131546.397550   \n",
       "10                   422.649717  126790.274190      0.000000   174535.072460   \n",
       "11                120186.579320   79510.192512      0.000000   132178.025960   \n",
       "12                306576.322150  167403.120925      0.000000   148179.798047   \n",
       "13                162756.461900   97984.235843  55750.580000    72439.294405   \n",
       "14                 55530.659800   91786.514500  18000.000100    62336.275460   \n",
       "15                 48612.111914   77708.803450  11787.500000    57216.501610   \n",
       "16                 25470.100486  107222.391386      0.000000    95536.664823   \n",
       "17                 68948.381158   51433.753532   1488.712127    55171.312715   \n",
       "18                 25872.252388   72305.960548    373.477036   108850.796451   \n",
       "19                 36556.135803   74893.758202  -1101.273630   399346.841345   \n",
       "20                 55294.345700  220272.236000   -292.849700    87849.542000   \n",
       "21                147084.053800  256215.300400   -281.082700   249032.362000   \n",
       "22                 33912.872800   49185.742700    661.522700   182923.835300   \n",
       "23                 26268.382000  174174.721800    558.950000   236860.484400   \n",
       "24                -12654.671900   79041.692700   2566.815900   302984.890800   \n",
       "25                 34798.973200   64730.564000   2740.452900   596616.969400   \n",
       "\n",
       "Countries  United States      Unknown  International Organizations  \n",
       "0               0.000000      0.00000                     0.000000  \n",
       "1           96651.887424      0.00000                     0.000000  \n",
       "2          104427.226180      0.00000                     0.000000  \n",
       "3           59151.289331      0.00000                     0.000000  \n",
       "4           38717.651556      0.00000                     0.000000  \n",
       "5           23281.158381      0.00000                     0.000000  \n",
       "6           81609.826028    627.86159                   448.531800  \n",
       "7           71603.885369    853.61444                  1235.937360  \n",
       "8           80753.732613    268.31440                   776.706830  \n",
       "9           15088.925954    328.45036                  3279.470620  \n",
       "10         100833.329080   -312.16201                 14619.299679  \n",
       "11          68439.861562      0.00000                 13066.105543  \n",
       "12         167920.667860      0.00000                 23650.953120  \n",
       "13         -10025.984700  11066.78250                 30739.225200  \n",
       "14         141210.377831      0.00000                 45186.041700  \n",
       "15          35291.754620      0.00000                 94896.504400  \n",
       "16          20253.999100      0.00000                 63454.726500  \n",
       "17          53885.224061      0.00000                 54680.836317  \n",
       "18         184442.755304      0.00000               -105980.379157  \n",
       "19          18898.423706   6743.03470                 39779.528091  \n",
       "20          59817.104400  -4702.34550                 43125.717500  \n",
       "21          79115.334700      0.00000                  2516.089900  \n",
       "22         104964.062200      0.00000                  1627.471100  \n",
       "23         115592.258500      0.00000                  6883.749300  \n",
       "24          98440.933200      0.00000                  1458.045100  \n",
       "25           6150.976800      0.00000                  3690.059100  \n",
       "\n",
       "[26 rows x 77 columns]"
      ]
     },
     "execution_count": 18,
     "metadata": {},
     "output_type": "execute_result"
    }
   ],
   "source": [
    "df_FDICountry2"
   ]
  },
  {
   "cell_type": "code",
   "execution_count": 19,
   "id": "76370e53",
   "metadata": {},
   "outputs": [
    {
     "data": {
      "text/plain": [
       "'index'"
      ]
     },
     "execution_count": 19,
     "metadata": {},
     "output_type": "execute_result"
    }
   ],
   "source": [
    "fig2list = list(df_FDICountry2.columns.values)\n",
    "#fig2list = list(range(1996,2022))\n",
    "fig2list.pop(0)"
   ]
  },
  {
   "cell_type": "code",
   "execution_count": 20,
   "id": "9eddfb20",
   "metadata": {},
   "outputs": [
    {
     "data": {
      "text/html": [
       "<div>\n",
       "<style scoped>\n",
       "    .dataframe tbody tr th:only-of-type {\n",
       "        vertical-align: middle;\n",
       "    }\n",
       "\n",
       "    .dataframe tbody tr th {\n",
       "        vertical-align: top;\n",
       "    }\n",
       "\n",
       "    .dataframe thead th {\n",
       "        text-align: right;\n",
       "    }\n",
       "</style>\n",
       "<table border=\"1\" class=\"dataframe\">\n",
       "  <thead>\n",
       "    <tr style=\"text-align: right;\">\n",
       "      <th>Countries</th>\n",
       "      <th>index</th>\n",
       "      <th>Austria</th>\n",
       "      <th>Belgium</th>\n",
       "      <th>Bulgaria</th>\n",
       "      <th>Croatia</th>\n",
       "      <th>Cyprus</th>\n",
       "      <th>Czech Republic</th>\n",
       "      <th>Denmark</th>\n",
       "      <th>Estonia</th>\n",
       "      <th>Finland</th>\n",
       "      <th>...</th>\n",
       "      <th>Seychelles</th>\n",
       "      <th>Switzerland</th>\n",
       "      <th>Syrian</th>\n",
       "      <th>United Arab Emirates</th>\n",
       "      <th>Turkey</th>\n",
       "      <th>Egypt</th>\n",
       "      <th>United Kingdom</th>\n",
       "      <th>United States</th>\n",
       "      <th>Unknown</th>\n",
       "      <th>International Organizations</th>\n",
       "    </tr>\n",
       "  </thead>\n",
       "  <tbody>\n",
       "    <tr>\n",
       "      <th>count</th>\n",
       "      <td>26.000000</td>\n",
       "      <td>26.000000</td>\n",
       "      <td>26.000000</td>\n",
       "      <td>26.000000</td>\n",
       "      <td>26.000000</td>\n",
       "      <td>26.000000</td>\n",
       "      <td>26.000000</td>\n",
       "      <td>26.000000</td>\n",
       "      <td>26.000000</td>\n",
       "      <td>26.000000</td>\n",
       "      <td>...</td>\n",
       "      <td>26.000000</td>\n",
       "      <td>26.000000</td>\n",
       "      <td>26.000000</td>\n",
       "      <td>26.000000</td>\n",
       "      <td>26.000000</td>\n",
       "      <td>26.000000</td>\n",
       "      <td>26.000000</td>\n",
       "      <td>26.000000</td>\n",
       "      <td>26.000000</td>\n",
       "      <td>26.000000</td>\n",
       "    </tr>\n",
       "    <tr>\n",
       "      <th>mean</th>\n",
       "      <td>2008.500000</td>\n",
       "      <td>13845.750046</td>\n",
       "      <td>1434.508799</td>\n",
       "      <td>1880.008637</td>\n",
       "      <td>115.810838</td>\n",
       "      <td>8097.906664</td>\n",
       "      <td>33930.946512</td>\n",
       "      <td>10296.947513</td>\n",
       "      <td>4310.542013</td>\n",
       "      <td>352.768308</td>\n",
       "      <td>...</td>\n",
       "      <td>2512.519726</td>\n",
       "      <td>10871.920196</td>\n",
       "      <td>100.933093</td>\n",
       "      <td>43700.277496</td>\n",
       "      <td>74898.669668</td>\n",
       "      <td>3548.184797</td>\n",
       "      <td>126849.724089</td>\n",
       "      <td>69866.025425</td>\n",
       "      <td>572.059634</td>\n",
       "      <td>13043.639231</td>\n",
       "    </tr>\n",
       "    <tr>\n",
       "      <th>std</th>\n",
       "      <td>7.648529</td>\n",
       "      <td>13224.372210</td>\n",
       "      <td>3645.310685</td>\n",
       "      <td>2840.628448</td>\n",
       "      <td>434.639732</td>\n",
       "      <td>41165.623212</td>\n",
       "      <td>49858.374066</td>\n",
       "      <td>29404.541364</td>\n",
       "      <td>6232.709199</td>\n",
       "      <td>616.432166</td>\n",
       "      <td>...</td>\n",
       "      <td>4752.548190</td>\n",
       "      <td>21579.796799</td>\n",
       "      <td>223.595147</td>\n",
       "      <td>71001.075357</td>\n",
       "      <td>67624.650551</td>\n",
       "      <td>11423.352074</td>\n",
       "      <td>138838.980941</td>\n",
       "      <td>50350.747471</td>\n",
       "      <td>2705.149699</td>\n",
       "      <td>34806.930287</td>\n",
       "    </tr>\n",
       "    <tr>\n",
       "      <th>min</th>\n",
       "      <td>1996.000000</td>\n",
       "      <td>-10654.251500</td>\n",
       "      <td>-844.806600</td>\n",
       "      <td>-1739.184400</td>\n",
       "      <td>-326.667200</td>\n",
       "      <td>-86440.447500</td>\n",
       "      <td>-6963.380100</td>\n",
       "      <td>-7282.573400</td>\n",
       "      <td>-332.451900</td>\n",
       "      <td>-435.825700</td>\n",
       "      <td>...</td>\n",
       "      <td>-4513.496200</td>\n",
       "      <td>-11984.003300</td>\n",
       "      <td>-71.409100</td>\n",
       "      <td>-12654.671900</td>\n",
       "      <td>0.000000</td>\n",
       "      <td>-1101.273630</td>\n",
       "      <td>0.000000</td>\n",
       "      <td>-10025.984700</td>\n",
       "      <td>-4702.345500</td>\n",
       "      <td>-105980.379157</td>\n",
       "    </tr>\n",
       "    <tr>\n",
       "      <th>25%</th>\n",
       "      <td>2002.250000</td>\n",
       "      <td>6025.231075</td>\n",
       "      <td>0.000000</td>\n",
       "      <td>0.000000</td>\n",
       "      <td>0.000000</td>\n",
       "      <td>-4259.368743</td>\n",
       "      <td>0.000000</td>\n",
       "      <td>0.000000</td>\n",
       "      <td>0.000000</td>\n",
       "      <td>0.000000</td>\n",
       "      <td>...</td>\n",
       "      <td>0.000000</td>\n",
       "      <td>0.000000</td>\n",
       "      <td>0.000000</td>\n",
       "      <td>0.000000</td>\n",
       "      <td>17885.343995</td>\n",
       "      <td>0.000000</td>\n",
       "      <td>28564.401988</td>\n",
       "      <td>26283.807441</td>\n",
       "      <td>0.000000</td>\n",
       "      <td>112.132950</td>\n",
       "    </tr>\n",
       "    <tr>\n",
       "      <th>50%</th>\n",
       "      <td>2008.500000</td>\n",
       "      <td>12734.630066</td>\n",
       "      <td>11.684100</td>\n",
       "      <td>194.837330</td>\n",
       "      <td>0.000000</td>\n",
       "      <td>978.862807</td>\n",
       "      <td>15852.375690</td>\n",
       "      <td>137.172100</td>\n",
       "      <td>192.731600</td>\n",
       "      <td>0.000000</td>\n",
       "      <td>...</td>\n",
       "      <td>77.156445</td>\n",
       "      <td>473.701504</td>\n",
       "      <td>1.372250</td>\n",
       "      <td>25671.176437</td>\n",
       "      <td>68518.262274</td>\n",
       "      <td>0.000000</td>\n",
       "      <td>86474.496189</td>\n",
       "      <td>70021.873465</td>\n",
       "      <td>0.000000</td>\n",
       "      <td>2897.780260</td>\n",
       "    </tr>\n",
       "    <tr>\n",
       "      <th>75%</th>\n",
       "      <td>2014.750000</td>\n",
       "      <td>19435.191248</td>\n",
       "      <td>1473.225107</td>\n",
       "      <td>2492.104843</td>\n",
       "      <td>0.000000</td>\n",
       "      <td>23077.963624</td>\n",
       "      <td>46368.456775</td>\n",
       "      <td>8818.807575</td>\n",
       "      <td>7465.918836</td>\n",
       "      <td>638.072100</td>\n",
       "      <td>...</td>\n",
       "      <td>4339.432265</td>\n",
       "      <td>18904.297008</td>\n",
       "      <td>93.398300</td>\n",
       "      <td>53623.787254</td>\n",
       "      <td>96434.805507</td>\n",
       "      <td>635.879525</td>\n",
       "      <td>167946.253857</td>\n",
       "      <td>100235.230110</td>\n",
       "      <td>0.000000</td>\n",
       "      <td>28967.157180</td>\n",
       "    </tr>\n",
       "    <tr>\n",
       "      <th>max</th>\n",
       "      <td>2021.000000</td>\n",
       "      <td>51463.374336</td>\n",
       "      <td>17867.449300</td>\n",
       "      <td>9151.545297</td>\n",
       "      <td>2028.226800</td>\n",
       "      <td>140599.564480</td>\n",
       "      <td>209229.387270</td>\n",
       "      <td>144931.448530</td>\n",
       "      <td>19714.234700</td>\n",
       "      <td>2216.414400</td>\n",
       "      <td>...</td>\n",
       "      <td>19827.779000</td>\n",
       "      <td>89958.560934</td>\n",
       "      <td>983.190300</td>\n",
       "      <td>306576.322150</td>\n",
       "      <td>256215.300400</td>\n",
       "      <td>55750.580000</td>\n",
       "      <td>596616.969400</td>\n",
       "      <td>184442.755304</td>\n",
       "      <td>11066.782500</td>\n",
       "      <td>94896.504400</td>\n",
       "    </tr>\n",
       "  </tbody>\n",
       "</table>\n",
       "<p>8 rows × 77 columns</p>\n",
       "</div>"
      ],
      "text/plain": [
       "Countries        index       Austria       Belgium     Bulgaria      Croatia  \\\n",
       "count        26.000000     26.000000     26.000000    26.000000    26.000000   \n",
       "mean       2008.500000  13845.750046   1434.508799  1880.008637   115.810838   \n",
       "std           7.648529  13224.372210   3645.310685  2840.628448   434.639732   \n",
       "min        1996.000000 -10654.251500   -844.806600 -1739.184400  -326.667200   \n",
       "25%        2002.250000   6025.231075      0.000000     0.000000     0.000000   \n",
       "50%        2008.500000  12734.630066     11.684100   194.837330     0.000000   \n",
       "75%        2014.750000  19435.191248   1473.225107  2492.104843     0.000000   \n",
       "max        2021.000000  51463.374336  17867.449300  9151.545297  2028.226800   \n",
       "\n",
       "Countries         Cyprus  Czech Republic        Denmark       Estonia  \\\n",
       "count          26.000000       26.000000      26.000000     26.000000   \n",
       "mean         8097.906664    33930.946512   10296.947513   4310.542013   \n",
       "std         41165.623212    49858.374066   29404.541364   6232.709199   \n",
       "min        -86440.447500    -6963.380100   -7282.573400   -332.451900   \n",
       "25%         -4259.368743        0.000000       0.000000      0.000000   \n",
       "50%           978.862807    15852.375690     137.172100    192.731600   \n",
       "75%         23077.963624    46368.456775    8818.807575   7465.918836   \n",
       "max        140599.564480   209229.387270  144931.448530  19714.234700   \n",
       "\n",
       "Countries      Finland  ...    Seychelles   Switzerland      Syrian  \\\n",
       "count        26.000000  ...     26.000000     26.000000   26.000000   \n",
       "mean        352.768308  ...   2512.519726  10871.920196  100.933093   \n",
       "std         616.432166  ...   4752.548190  21579.796799  223.595147   \n",
       "min        -435.825700  ...  -4513.496200 -11984.003300  -71.409100   \n",
       "25%           0.000000  ...      0.000000      0.000000    0.000000   \n",
       "50%           0.000000  ...     77.156445    473.701504    1.372250   \n",
       "75%         638.072100  ...   4339.432265  18904.297008   93.398300   \n",
       "max        2216.414400  ...  19827.779000  89958.560934  983.190300   \n",
       "\n",
       "Countries  United Arab Emirates         Turkey         Egypt  United Kingdom  \\\n",
       "count                 26.000000      26.000000     26.000000       26.000000   \n",
       "mean               43700.277496   74898.669668   3548.184797   126849.724089   \n",
       "std                71001.075357   67624.650551  11423.352074   138838.980941   \n",
       "min               -12654.671900       0.000000  -1101.273630        0.000000   \n",
       "25%                    0.000000   17885.343995      0.000000    28564.401988   \n",
       "50%                25671.176437   68518.262274      0.000000    86474.496189   \n",
       "75%                53623.787254   96434.805507    635.879525   167946.253857   \n",
       "max               306576.322150  256215.300400  55750.580000   596616.969400   \n",
       "\n",
       "Countries  United States       Unknown  International Organizations  \n",
       "count          26.000000     26.000000                    26.000000  \n",
       "mean        69866.025425    572.059634                 13043.639231  \n",
       "std         50350.747471   2705.149699                 34806.930287  \n",
       "min        -10025.984700  -4702.345500               -105980.379157  \n",
       "25%         26283.807441      0.000000                   112.132950  \n",
       "50%         70021.873465      0.000000                  2897.780260  \n",
       "75%        100235.230110      0.000000                 28967.157180  \n",
       "max        184442.755304  11066.782500                 94896.504400  \n",
       "\n",
       "[8 rows x 77 columns]"
      ]
     },
     "execution_count": 20,
     "metadata": {},
     "output_type": "execute_result"
    }
   ],
   "source": [
    "df_FDICountry2.describe(include=\"all\")"
   ]
  },
  {
   "cell_type": "code",
   "execution_count": 21,
   "id": "605519c2",
   "metadata": {},
   "outputs": [
    {
     "data": {
      "text/plain": [
       "0        0.000000\n",
       "1        0.000000\n",
       "2        0.000000\n",
       "3        0.000000\n",
       "4        0.000000\n",
       "5        0.000000\n",
       "6        0.000000\n",
       "7        0.000000\n",
       "8        0.000000\n",
       "9      160.449563\n",
       "10     189.499026\n",
       "11    6223.508038\n",
       "12    7634.829303\n",
       "13   -8831.449900\n",
       "14   -1596.081900\n",
       "15   -3615.206800\n",
       "16   -4464.534700\n",
       "17    5265.196400\n",
       "18    1059.053300\n",
       "19    8726.692100\n",
       "20    3094.232600\n",
       "21    2039.670700\n",
       "22    1070.660300\n",
       "23    4706.552100\n",
       "24    7697.589000\n",
       "25    3876.176200\n",
       "Name: Sweden, dtype: float64"
      ]
     },
     "execution_count": 21,
     "metadata": {},
     "output_type": "execute_result"
    }
   ],
   "source": [
    "df_FDICountry2.loc[:,'Sweden']"
   ]
  },
  {
   "cell_type": "code",
   "execution_count": 24,
   "id": "59f5d6a8",
   "metadata": {},
   "outputs": [
    {
     "data": {
      "application/vnd.plotly.v1+json": {
       "config": {
        "plotlyServerURL": "https://plot.ly"
       },
       "data": [
        {
         "line": {
          "color": "#004490",
          "width": 0.5
         },
         "mode": "lines",
         "name": "Austria",
         "stackgroup": "one",
         "type": "scatter",
         "x": [
          1996,
          1997,
          1998,
          1999,
          2000,
          2001,
          2002,
          2003,
          2004,
          2005,
          2006,
          2007,
          2008,
          2009,
          2010,
          2011,
          2012,
          2013,
          2014,
          2015,
          2016,
          2017,
          2018,
          2019,
          2020,
          2021
         ],
         "y": [
          0,
          18688.22432,
          18876.639337,
          0,
          0,
          0,
          -137.20896,
          17971.165858,
          23019.989682,
          14784.520351,
          10646.520741,
          8946.585591000001,
          51463.374336,
          29709.042,
          10684.739781871547,
          32738.29590789663,
          25999.225114940324,
          7008.1709880333,
          8000.442037674498,
          19621.3752181773,
          27805.2789,
          6287.270499999998,
          17361.008599999994,
          15231.207800000004,
          -10654.251500000002,
          5937.884600000001
         ]
        },
        {
         "line": {
          "color": "#004490",
          "width": 0.5
         },
         "mode": "lines",
         "name": "Belgium",
         "stackgroup": "one",
         "type": "scatter",
         "x": [
          1996,
          1997,
          1998,
          1999,
          2000,
          2001,
          2002,
          2003,
          2004,
          2005,
          2006,
          2007,
          2008,
          2009,
          2010,
          2011,
          2012,
          2013,
          2014,
          2015,
          2016,
          2017,
          2018,
          2019,
          2020,
          2021
         ],
         "y": [
          0,
          0,
          0,
          0,
          0,
          0,
          0,
          0,
          0,
          0,
          0,
          1436.2324282000002,
          61.97084204,
          112.69,
          23.368199999999995,
          -19.524000000000015,
          -844.8065999999999,
          637.3267999999999,
          1485.556,
          280.2874999999999,
          17867.4493,
          4313.4712,
          3482.8453,
          1522.7314000000001,
          4857.8513,
          2079.7791
         ]
        },
        {
         "line": {
          "color": "#004490",
          "width": 0.5
         },
         "mode": "lines",
         "name": "Bulgaria",
         "stackgroup": "one",
         "type": "scatter",
         "x": [
          1996,
          1997,
          1998,
          1999,
          2000,
          2001,
          2002,
          2003,
          2004,
          2005,
          2006,
          2007,
          2008,
          2009,
          2010,
          2011,
          2012,
          2013,
          2014,
          2015,
          2016,
          2017,
          2018,
          2019,
          2020,
          2021
         ],
         "y": [
          0,
          0,
          0,
          46.930699776,
          2172.1749541,
          2238.9147392,
          0,
          0,
          0,
          70.760470514,
          318.91419048,
          20.644948898,
          12.662226,
          -291.40450000000004,
          -89.9942,
          1095.963653571215,
          2269.4968,
          2566.3075242995005,
          9151.5452970577,
          7196.6987528605005,
          1647.1676000000002,
          4858.6562,
          7426.746499999999,
          5857.0467,
          -1739.1843999999999,
          4050.1763999999994
         ]
        },
        {
         "line": {
          "color": "#004490",
          "width": 0.5
         },
         "mode": "lines",
         "name": "Croatia",
         "stackgroup": "one",
         "type": "scatter",
         "x": [
          1996,
          1997,
          1998,
          1999,
          2000,
          2001,
          2002,
          2003,
          2004,
          2005,
          2006,
          2007,
          2008,
          2009,
          2010,
          2011,
          2012,
          2013,
          2014,
          2015,
          2016,
          2017,
          2018,
          2019,
          2020,
          2021
         ],
         "y": [
          0,
          0,
          0,
          0,
          0,
          0,
          0,
          0,
          0,
          0,
          0,
          0,
          0,
          0,
          0,
          0,
          0,
          0,
          0,
          0,
          0,
          467.18820000000005,
          2028.2268000000001,
          794.0374999999999,
          -326.6672,
          48.29650000000001
         ]
        },
        {
         "line": {
          "color": "#004490",
          "width": 0.5
         },
         "mode": "lines",
         "name": "Cyprus",
         "stackgroup": "one",
         "type": "scatter",
         "x": [
          1996,
          1997,
          1998,
          1999,
          2000,
          2001,
          2002,
          2003,
          2004,
          2005,
          2006,
          2007,
          2008,
          2009,
          2010,
          2011,
          2012,
          2013,
          2014,
          2015,
          2016,
          2017,
          2018,
          2019,
          2020,
          2021
         ],
         "y": [
          0,
          0,
          0,
          895.01345031,
          3921.1097283,
          19209.077981,
          1062.7121643,
          675.72794869,
          21333.115095,
          47537.321268,
          55450.316277,
          140599.56448,
          26165.766062,
          -1612.0512000000017,
          40387.743299999995,
          12145.5409811,
          45960.292137386525,
          -44285.3987733415,
          -5141.807923482399,
          -26983.8059116478,
          -6497.459100000002,
          12913.440700000006,
          -86440.44750000001,
          23659.5798,
          -42690.1804,
          -27719.5973
         ]
        },
        {
         "line": {
          "color": "#004490",
          "width": 0.5
         },
         "mode": "lines",
         "name": "Czech Republic",
         "stackgroup": "one",
         "type": "scatter",
         "x": [
          1996,
          1997,
          1998,
          1999,
          2000,
          2001,
          2002,
          2003,
          2004,
          2005,
          2006,
          2007,
          2008,
          2009,
          2010,
          2011,
          2012,
          2013,
          2014,
          2015,
          2016,
          2017,
          2018,
          2019,
          2020,
          2021
         ],
         "y": [
          0,
          0,
          0,
          0,
          0,
          0,
          0,
          249.77068715,
          276.57571677,
          1279.5554012,
          15032.248579,
          209229.38727,
          34857.631753,
          45679.039600000004,
          24213.499817000004,
          46598.26250000001,
          8031.3991000000005,
          43578.33819999999,
          51961.84369999999,
          16672.502800000002,
          87529.2056,
          129097.274,
          75517.4994,
          17592.692500000005,
          -6963.3800999999985,
          81771.26280000001
         ]
        },
        {
         "line": {
          "color": "#004490",
          "width": 0.5
         },
         "mode": "lines",
         "name": "Denmark",
         "stackgroup": "one",
         "type": "scatter",
         "x": [
          1996,
          1997,
          1998,
          1999,
          2000,
          2001,
          2002,
          2003,
          2004,
          2005,
          2006,
          2007,
          2008,
          2009,
          2010,
          2011,
          2012,
          2013,
          2014,
          2015,
          2016,
          2017,
          2018,
          2019,
          2020,
          2021
         ],
         "y": [
          0,
          0,
          0,
          0,
          0,
          0,
          0,
          0,
          0,
          318.97615472,
          42001.90036,
          144931.44853,
          256.2771,
          -427.31679999999994,
          18.06710000000003,
          2504.3689,
          6558.114899999999,
          9572.371799999999,
          12730.1831,
          12141.545600000001,
          -7282.573399999996,
          -4457.082700000002,
          15248.8116,
          2754.372300000001,
          28906.117900000005,
          1945.052899999997
         ]
        },
        {
         "line": {
          "color": "#004490",
          "width": 0.5
         },
         "mode": "lines",
         "name": "Estonia",
         "stackgroup": "one",
         "type": "scatter",
         "x": [
          1996,
          1997,
          1998,
          1999,
          2000,
          2001,
          2002,
          2003,
          2004,
          2005,
          2006,
          2007,
          2008,
          2009,
          2010,
          2011,
          2012,
          2013,
          2014,
          2015,
          2016,
          2017,
          2018,
          2019,
          2020,
          2021
         ],
         "y": [
          0,
          0,
          0,
          0,
          0,
          0,
          0,
          0,
          0,
          0,
          0,
          7630.928448414468,
          5049.8081847,
          8074.903005800001,
          -51.86870000000002,
          -332.4519,
          385.4632,
          482.2129000000001,
          4066.4057000000003,
          13203.9289,
          19714.2347,
          18489.0778,
          15371.392800000001,
          3879.199399999999,
          6970.890000000001,
          9139.9679
         ]
        },
        {
         "line": {
          "color": "#004491",
          "width": 0.5
         },
         "mode": "lines",
         "name": "Finland",
         "stackgroup": "one",
         "type": "scatter",
         "x": [
          1996,
          1997,
          1998,
          1999,
          2000,
          2001,
          2002,
          2003,
          2004,
          2005,
          2006,
          2007,
          2008,
          2009,
          2010,
          2011,
          2012,
          2013,
          2014,
          2015,
          2016,
          2017,
          2018,
          2019,
          2020,
          2021
         ],
         "y": [
          0,
          0,
          0,
          0,
          0,
          0,
          0,
          0,
          0,
          0,
          0,
          0,
          0,
          0,
          1533.3327,
          992.9875,
          1085.6838,
          1235.8589,
          887.0842,
          358.42260000000005,
          306.3299,
          -435.8257,
          53.51480000000004,
          2216.4143999999997,
          731.2886,
          206.88430000000002
         ]
        },
        {
         "line": {
          "color": "#004491",
          "width": 0.5
         },
         "mode": "lines",
         "name": "France",
         "stackgroup": "one",
         "type": "scatter",
         "x": [
          1996,
          1997,
          1998,
          1999,
          2000,
          2001,
          2002,
          2003,
          2004,
          2005,
          2006,
          2007,
          2008,
          2009,
          2010,
          2011,
          2012,
          2013,
          2014,
          2015,
          2016,
          2017,
          2018,
          2019,
          2020,
          2021
         ],
         "y": [
          0,
          0,
          0,
          0,
          0,
          17391.679748,
          6025.7279608,
          16448.098513,
          22592.907247,
          14121.949396,
          15679.700162000001,
          37484.439025,
          8179.6659331,
          11958.3897,
          -7820.127981500002,
          7353.0830000000005,
          25863.8317,
          11175.525672887801,
          20143.0675966074,
          22636.483492657895,
          -88316.95740000001,
          21092.414900000003,
          25066.608099999998,
          20114.753600000004,
          11780.3921,
          18697.264599999995
         ]
        },
        {
         "line": {
          "color": "#004491",
          "width": 0.5
         },
         "mode": "lines",
         "name": "Germany",
         "stackgroup": "one",
         "type": "scatter",
         "x": [
          1996,
          1997,
          1998,
          1999,
          2000,
          2001,
          2002,
          2003,
          2004,
          2005,
          2006,
          2007,
          2008,
          2009,
          2010,
          2011,
          2012,
          2013,
          2014,
          2015,
          2016,
          2017,
          2018,
          2019,
          2020,
          2021
         ],
         "y": [
          0,
          2081.4815364,
          2102.467071,
          2227.6398996,
          3209.7660714,
          13377.787084,
          4475.3194458,
          4624.2856232,
          5513.9169622,
          6217.4835103000005,
          19472.689886,
          51898.425348,
          40590.621487,
          21344.950499999995,
          12848.001200000002,
          46570.7578170115,
          142405.5651236,
          31927.3691519776,
          4186.941183478099,
          -2608.9812469351996,
          24315.591500000002,
          -94507.71600000001,
          40729.2298,
          23663.853700000003,
          36543.435099999995,
          31601.92470000001
         ]
        },
        {
         "line": {
          "color": "#004491",
          "width": 0.5
         },
         "mode": "lines",
         "name": "Greece",
         "stackgroup": "one",
         "type": "scatter",
         "x": [
          1996,
          1997,
          1998,
          1999,
          2000,
          2001,
          2002,
          2003,
          2004,
          2005,
          2006,
          2007,
          2008,
          2009,
          2010,
          2011,
          2012,
          2013,
          2014,
          2015,
          2016,
          2017,
          2018,
          2019,
          2020,
          2021
         ],
         "y": [
          0,
          0,
          2050.6539506,
          0,
          0,
          145.87661435,
          19424.897126,
          2434.498722,
          2384.0621053,
          3054.5145955999997,
          2507.4110432,
          1023.0277838,
          -1850.419659,
          1521.6229999999998,
          4485.3388,
          1184.8247000000001,
          177.87139999999994,
          -552.6471628594002,
          718.6416867650998,
          -1331.7708947709,
          -479.06149999999997,
          675.7194999999999,
          1971.6806000000004,
          1286.5997,
          1548.9981,
          982.0949
         ]
        },
        {
         "line": {
          "color": "#004491",
          "width": 0.5
         },
         "mode": "lines",
         "name": "Hungary",
         "stackgroup": "one",
         "type": "scatter",
         "x": [
          1996,
          1997,
          1998,
          1999,
          2000,
          2001,
          2002,
          2003,
          2004,
          2005,
          2006,
          2007,
          2008,
          2009,
          2010,
          2011,
          2012,
          2013,
          2014,
          2015,
          2016,
          2017,
          2018,
          2019,
          2020,
          2021
         ],
         "y": [
          0,
          0,
          0,
          0,
          0,
          0,
          0,
          33.8538195,
          0,
          327.04231567,
          314.75285391,
          922.9083499999999,
          1025.3158478,
          -46.925700000000006,
          0,
          0,
          -32.478300000000004,
          -79.5033,
          904.509,
          430.47159999999997,
          976.8398,
          2105.6886,
          1465.3579,
          2735.8586999999998,
          1147.4504,
          2803.9716000000003
         ]
        },
        {
         "line": {
          "color": "#004491",
          "width": 0.5
         },
         "mode": "lines",
         "name": "Ireland",
         "stackgroup": "one",
         "type": "scatter",
         "x": [
          1996,
          1997,
          1998,
          1999,
          2000,
          2001,
          2002,
          2003,
          2004,
          2005,
          2006,
          2007,
          2008,
          2009,
          2010,
          2011,
          2012,
          2013,
          2014,
          2015,
          2016,
          2017,
          2018,
          2019,
          2020,
          2021
         ],
         "y": [
          0,
          38.665291697,
          39.055115871,
          228.42992846,
          14082.859544,
          0,
          37.273765058,
          37.465603072,
          41.486357516,
          798.16892012,
          1058.9956843,
          -1663.1553395,
          223.5458792,
          64.62490000000001,
          316.1852,
          278.5027,
          206.5143,
          733.6552999999999,
          1058.0412999999999,
          807.8284,
          -350.64239999999995,
          190.4969,
          3157.7115,
          133240.9951,
          706.7917,
          590.7387
         ]
        },
        {
         "line": {
          "color": "#004491",
          "width": 0.5
         },
         "mode": "lines",
         "name": "Italy",
         "stackgroup": "one",
         "type": "scatter",
         "x": [
          1996,
          1997,
          1998,
          1999,
          2000,
          2001,
          2002,
          2003,
          2004,
          2005,
          2006,
          2007,
          2008,
          2009,
          2010,
          2011,
          2012,
          2013,
          2014,
          2015,
          2016,
          2017,
          2018,
          2019,
          2020,
          2021
         ],
         "y": [
          0,
          0,
          0,
          127.25956782,
          2971.6418604,
          6975.787021,
          9163.0742364,
          15194.558303999998,
          31751.867512,
          22132.37919,
          57511.73811200001,
          7645.624897,
          5762.381466201412,
          1733.2055587600005,
          5140.7743,
          -5233.3183,
          529.2086999999999,
          -141.6525698821999,
          3850.8930846965,
          -4159.7584742021,
          -3001.1893999999993,
          8260.9008,
          -2885.2652,
          -266.4677999999999,
          405.4325000000001,
          1876.8716000000002
         ]
        },
        {
         "line": {
          "color": "#004491",
          "width": 0.5
         },
         "mode": "lines",
         "name": "Latvia",
         "stackgroup": "one",
         "type": "scatter",
         "x": [
          1996,
          1997,
          1998,
          1999,
          2000,
          2001,
          2002,
          2003,
          2004,
          2005,
          2006,
          2007,
          2008,
          2009,
          2010,
          2011,
          2012,
          2013,
          2014,
          2015,
          2016,
          2017,
          2018,
          2019,
          2020,
          2021
         ],
         "y": [
          0,
          0,
          0,
          0,
          0,
          0,
          0,
          0,
          0,
          0,
          0,
          2849.2987169999997,
          756.48328,
          -18.0392,
          -0.535588,
          -102.95540000000001,
          1052.3802000000003,
          -1815.15745,
          21399.546230000004,
          18628.83439,
          27254.375900000003,
          -33854.2047,
          4154.3387999999995,
          2108.8642,
          4625.9314,
          4992.1502
         ]
        },
        {
         "line": {
          "color": "#004492",
          "width": 0.5
         },
         "mode": "lines",
         "name": "Lithuania (Lietuva)",
         "stackgroup": "one",
         "type": "scatter",
         "x": [
          1996,
          1997,
          1998,
          1999,
          2000,
          2001,
          2002,
          2003,
          2004,
          2005,
          2006,
          2007,
          2008,
          2009,
          2010,
          2011,
          2012,
          2013,
          2014,
          2015,
          2016,
          2017,
          2018,
          2019,
          2020,
          2021
         ],
         "y": [
          0,
          0,
          0,
          0,
          0,
          0,
          0,
          0,
          0,
          17.124850000000002,
          3424.18133,
          327.33967578,
          -113.9313644,
          3560.3453999999997,
          2441.0511,
          -1847.0764000000001,
          578.3941000000001,
          5390.8539408792985,
          3750.3926011861995,
          2204.7679523644,
          -4423.324900000001,
          2506.653,
          592.2303999999999,
          3994.64,
          1021.082,
          3439.5586
         ]
        },
        {
         "line": {
          "color": "#004492",
          "width": 0.5
         },
         "mode": "lines",
         "name": "Luxembourg",
         "stackgroup": "one",
         "type": "scatter",
         "x": [
          1996,
          1997,
          1998,
          1999,
          2000,
          2001,
          2002,
          2003,
          2004,
          2005,
          2006,
          2007,
          2008,
          2009,
          2010,
          2011,
          2012,
          2013,
          2014,
          2015,
          2016,
          2017,
          2018,
          2019,
          2020,
          2021
         ],
         "y": [
          0,
          0,
          0,
          0,
          0,
          0,
          337.23680346,
          249.77068715,
          276.57571677,
          553.05907647,
          261.06027645,
          8480.1252107,
          5731.045185,
          9496.6265,
          7059.928999999999,
          43284.0354,
          42031.6184,
          91735.7464,
          109633.1309,
          127265.28130000002,
          115746.32149999998,
          100714.59220000001,
          50135.965500000006,
          68838.7905,
          21614.3057,
          40996.8202
         ]
        },
        {
         "line": {
          "color": "#004492",
          "width": 0.5
         },
         "mode": "lines",
         "name": "Malta",
         "stackgroup": "one",
         "type": "scatter",
         "x": [
          1996,
          1997,
          1998,
          1999,
          2000,
          2001,
          2002,
          2003,
          2004,
          2005,
          2006,
          2007,
          2008,
          2009,
          2010,
          2011,
          2012,
          2013,
          2014,
          2015,
          2016,
          2017,
          2018,
          2019,
          2020,
          2021
         ],
         "y": [
          0,
          0,
          0,
          0,
          0,
          0,
          0,
          0,
          0,
          0,
          0,
          0,
          0,
          0,
          16767.859200000003,
          6788.9115600000005,
          32204.212399999997,
          44301.7202,
          45809.03690000001,
          28115.025100000003,
          29418.274999999998,
          9984.076200000003,
          25095.777500000004,
          1201.4031000000032,
          45932.889500000005,
          5803.967800000002
         ]
        },
        {
         "line": {
          "color": "#004492",
          "width": 0.5
         },
         "mode": "lines",
         "name": "Netherlands",
         "stackgroup": "one",
         "type": "scatter",
         "x": [
          1996,
          1997,
          1998,
          1999,
          2000,
          2001,
          2002,
          2003,
          2004,
          2005,
          2006,
          2007,
          2008,
          2009,
          2010,
          2011,
          2012,
          2013,
          2014,
          2015,
          2016,
          2017,
          2018,
          2019,
          2020,
          2021
         ],
         "y": [
          0,
          0,
          0,
          0,
          4422.1381858,
          1500.6031406,
          80.4024,
          143.86195,
          35.615629999999996,
          632.00773225,
          69405.60935399999,
          274706.79691000003,
          138706.523502,
          34324.9851128,
          73008.93953050021,
          244536.25783875003,
          34210.31129150002,
          159181.12874856865,
          420490.83215626166,
          164899.074528573,
          77343.81179999986,
          355278.9608,
          211615.04210000002,
          88054.33260000002,
          200656.64299999998,
          125911.925
         ]
        },
        {
         "line": {
          "color": "#004492",
          "width": 0.5
         },
         "mode": "lines",
         "name": "Poland",
         "stackgroup": "one",
         "type": "scatter",
         "x": [
          1996,
          1997,
          1998,
          1999,
          2000,
          2001,
          2002,
          2003,
          2004,
          2005,
          2006,
          2007,
          2008,
          2009,
          2010,
          2011,
          2012,
          2013,
          2014,
          2015,
          2016,
          2017,
          2018,
          2019,
          2020,
          2021
         ],
         "y": [
          0,
          0,
          0,
          0,
          5947.1495793,
          2581.6232849,
          0,
          0,
          0,
          293.80701768,
          502.22276298,
          19.052144358,
          22.9110413,
          10.7583,
          52.99431250000001,
          152.26570000000004,
          -13.615700000000002,
          1363.7974,
          378.66290000000004,
          1650.4062,
          1992.1548999999998,
          1310.9894,
          2867.5122999999994,
          3600.0191000000004,
          780.9683,
          5261.286999999999
         ]
        },
        {
         "line": {
          "color": "#004492",
          "width": 0.5
         },
         "mode": "lines",
         "name": "Portugal",
         "stackgroup": "one",
         "type": "scatter",
         "x": [
          1996,
          1997,
          1998,
          1999,
          2000,
          2001,
          2002,
          2003,
          2004,
          2005,
          2006,
          2007,
          2008,
          2009,
          2010,
          2011,
          2012,
          2013,
          2014,
          2015,
          2016,
          2017,
          2018,
          2019,
          2020,
          2021
         ],
         "y": [
          0,
          0,
          0,
          0,
          0,
          0,
          0,
          0,
          0,
          0,
          0,
          13.198258189,
          117.22646775,
          24.4091,
          21.581300000000006,
          -3.7229,
          1128.8817862,
          2489.92,
          2030.8138000000001,
          2635.1572000000006,
          1404.9785,
          885.4689000000001,
          19.005900000000025,
          -154.5442,
          0,
          459.03330000000005
         ]
        },
        {
         "line": {
          "color": "#004492",
          "width": 0.5
         },
         "mode": "lines",
         "name": "Romania",
         "stackgroup": "one",
         "type": "scatter",
         "x": [
          1996,
          1997,
          1998,
          1999,
          2000,
          2001,
          2002,
          2003,
          2004,
          2005,
          2006,
          2007,
          2008,
          2009,
          2010,
          2011,
          2012,
          2013,
          2014,
          2015,
          2016,
          2017,
          2018,
          2019,
          2020,
          2021
         ],
         "y": [
          0,
          0,
          0,
          0,
          0,
          0,
          0,
          0,
          0,
          0,
          0,
          0,
          5430.6369112,
          0,
          -11.247299999999996,
          41.277100000000004,
          0,
          80.6187,
          187.7075,
          -31.224699999999988,
          800.8825,
          727.3345999999999,
          607.1059999999999,
          278.6114,
          124.3547,
          192.1103
         ]
        },
        {
         "line": {
          "color": "#004492",
          "width": 0.5
         },
         "mode": "lines",
         "name": "Slovakia",
         "stackgroup": "one",
         "type": "scatter",
         "x": [
          1996,
          1997,
          1998,
          1999,
          2000,
          2001,
          2002,
          2003,
          2004,
          2005,
          2006,
          2007,
          2008,
          2009,
          2010,
          2011,
          2012,
          2013,
          2014,
          2015,
          2016,
          2017,
          2018,
          2019,
          2020,
          2021
         ],
         "y": [
          0,
          0,
          0,
          0,
          0,
          0,
          0,
          0,
          0,
          0,
          0,
          0,
          0,
          23.2862,
          8.799899999999994,
          20.1012,
          3795.7796434,
          -277.984,
          3578.3338999999996,
          3450.1634999999997,
          -1033.681,
          2753.7078,
          3651.813,
          1881.5939999999998,
          16613.315300000002,
          -7161.4534
         ]
        },
        {
         "line": {
          "color": "#004493",
          "width": 0.5
         },
         "mode": "lines",
         "name": "Slovenia",
         "stackgroup": "one",
         "type": "scatter",
         "x": [
          1996,
          1997,
          1998,
          1999,
          2000,
          2001,
          2002,
          2003,
          2004,
          2005,
          2006,
          2007,
          2008,
          2009,
          2010,
          2011,
          2012,
          2013,
          2014,
          2015,
          2016,
          2017,
          2018,
          2019,
          2020,
          2021
         ],
         "y": [
          0,
          0,
          0,
          0,
          0,
          0,
          0,
          0,
          0,
          0,
          0,
          0,
          0,
          0,
          0,
          0,
          0,
          0,
          63.277,
          -4.494,
          865.0127,
          997.0346000000001,
          887.3559,
          1184.4070000000002,
          -6.1889,
          52.9576
         ]
        },
        {
         "line": {
          "color": "#004493",
          "width": 0.5
         },
         "mode": "lines",
         "name": "Spain",
         "stackgroup": "one",
         "type": "scatter",
         "x": [
          1996,
          1997,
          1998,
          1999,
          2000,
          2001,
          2002,
          2003,
          2004,
          2005,
          2006,
          2007,
          2008,
          2009,
          2010,
          2011,
          2012,
          2013,
          2014,
          2015,
          2016,
          2017,
          2018,
          2019,
          2020,
          2021
         ],
         "y": [
          0,
          0,
          0,
          0,
          0,
          0,
          0,
          0,
          0,
          0,
          0,
          3297.6308245,
          5474.79025,
          137.0427,
          91.3662,
          30.201299999999947,
          941.8611999999994,
          -1645.0932,
          4730.2446,
          1345.4906,
          1115.7976000000003,
          5835.863800000001,
          -3487.280400000001,
          -3058.918600000001,
          2843.6231,
          10040.5401
         ]
        },
        {
         "line": {
          "color": "#004493",
          "width": 0.5
         },
         "mode": "lines",
         "name": "Sweden",
         "stackgroup": "one",
         "type": "scatter",
         "x": [
          1996,
          1997,
          1998,
          1999,
          2000,
          2001,
          2002,
          2003,
          2004,
          2005,
          2006,
          2007,
          2008,
          2009,
          2010,
          2011,
          2012,
          2013,
          2014,
          2015,
          2016,
          2017,
          2018,
          2019,
          2020,
          2021
         ],
         "y": [
          0,
          0,
          0,
          0,
          0,
          0,
          0,
          0,
          0,
          160.44956263,
          189.4990264,
          6223.5080376000005,
          7634.8293032,
          -8831.4499,
          -1596.0819000000001,
          -3615.2068,
          -4464.534699999999,
          5265.1964,
          1059.0533,
          8726.6921,
          3094.2326,
          2039.6707000000001,
          1070.6603,
          4706.552100000001,
          7697.588999999999,
          3876.176200000001
         ]
        },
        {
         "line": {
          "color": "#004493",
          "width": 0.5
         },
         "mode": "lines",
         "name": "Azerbaijan",
         "stackgroup": "one",
         "type": "scatter",
         "x": [
          1996,
          1997,
          1998,
          1999,
          2000,
          2001,
          2002,
          2003,
          2004,
          2005,
          2006,
          2007,
          2008,
          2009,
          2010,
          2011,
          2012,
          2013,
          2014,
          2015,
          2016,
          2017,
          2018,
          2019,
          2020,
          2021
         ],
         "y": [
          0,
          12888.430566,
          13018.371957,
          0,
          0,
          0,
          -2215.84888,
          27481.697179,
          66883.569148,
          64704.396681000006,
          71020.98143300001,
          19766.912873999994,
          23371.880167802825,
          29923.288917520003,
          62859.642099,
          69454.57742300001,
          61287.42417459794,
          84620.42528288659,
          340549.8357754304,
          581739.0563986137,
          555138.156,
          460500.84010000015,
          246692.94050000006,
          38878.952700000016,
          -16382.717,
          207.3744000000006
         ]
        },
        {
         "line": {
          "color": "#970000",
          "width": 0.5
         },
         "mode": "lines",
         "name": "Armenia",
         "stackgroup": "one",
         "type": "scatter",
         "x": [
          1996,
          1997,
          1998,
          1999,
          2000,
          2001,
          2002,
          2003,
          2004,
          2005,
          2006,
          2007,
          2008,
          2009,
          2010,
          2011,
          2012,
          2013,
          2014,
          2015,
          2016,
          2017,
          2018,
          2019,
          2020,
          2021
         ],
         "y": [
          0,
          0,
          0,
          0,
          0,
          0,
          0,
          249.77068715,
          276.57571677,
          493.54602496999996,
          690.5067109,
          -4895.3510278,
          11818.48120401,
          1841.2896999999996,
          19514.31789425,
          3195.7363712999995,
          7623.209987499999,
          3689.156903422,
          12767.5667326256,
          11980.961099999999,
          4391.4367999999995,
          6931.9268,
          9713.466100000001,
          14766.711399999998,
          10320.309400000002,
          7094.7468
         ]
        },
        {
         "line": {
          "color": "#970000",
          "width": 0.5
         },
         "mode": "lines",
         "name": "Belarus",
         "stackgroup": "one",
         "type": "scatter",
         "x": [
          1996,
          1997,
          1998,
          1999,
          2000,
          2001,
          2002,
          2003,
          2004,
          2005,
          2006,
          2007,
          2008,
          2009,
          2010,
          2011,
          2012,
          2013,
          2014,
          2015,
          2016,
          2017,
          2018,
          2019,
          2020,
          2021
         ],
         "y": [
          0,
          0,
          0,
          0,
          0,
          0,
          0,
          0,
          0,
          0,
          0,
          52.797222679,
          102.41150944,
          -223.3678,
          -92.02809999999998,
          151.8493,
          -257.1497,
          40.8154,
          52.44949999999999,
          2639.6713999999997,
          252.3271000000001,
          538.9898000000001,
          691.9482,
          293.908,
          4222.821199999999,
          562.7729999999999
         ]
        },
        {
         "line": {
          "color": "#970000",
          "width": 0.5
         },
         "mode": "lines",
         "name": "Kazakhstan",
         "stackgroup": "one",
         "type": "scatter",
         "x": [
          1996,
          1997,
          1998,
          1999,
          2000,
          2001,
          2002,
          2003,
          2004,
          2005,
          2006,
          2007,
          2008,
          2009,
          2010,
          2011,
          2012,
          2013,
          2014,
          2015,
          2016,
          2017,
          2018,
          2019,
          2020,
          2021
         ],
         "y": [
          0,
          0,
          0,
          0,
          0,
          0,
          0,
          0,
          0,
          337.18444999999997,
          161917.04747000002,
          47656.65536277321,
          65941.73292,
          -31972.6394,
          -17904.241246600002,
          12856.4192,
          4305.965,
          23100.898441349393,
          12651.857438053603,
          10484.9908867336,
          8936.618400000003,
          -9408.809100000002,
          -39816.4197,
          7398.1469000000025,
          -149.23440000000005,
          11020.030700000001
         ]
        },
        {
         "line": {
          "color": "#970000",
          "width": 0.5
         },
         "mode": "lines",
         "name": "Kyrgyzstan",
         "stackgroup": "one",
         "type": "scatter",
         "x": [
          1996,
          1997,
          1998,
          1999,
          2000,
          2001,
          2002,
          2003,
          2004,
          2005,
          2006,
          2007,
          2008,
          2009,
          2010,
          2011,
          2012,
          2013,
          2014,
          2015,
          2016,
          2017,
          2018,
          2019,
          2020,
          2021
         ],
         "y": [
          0,
          0,
          0,
          0,
          0,
          0,
          0,
          0,
          0,
          0,
          0,
          0,
          -0.0469,
          -6.3176,
          14075.012730000002,
          5029.3909,
          2670.7412,
          2649.0264,
          -2283.0598999999997,
          -167.9391,
          829.9276999999998,
          122.4244,
          1390.1558,
          51.35460000000009,
          -632.1688000000001,
          -24393.822299999996
         ]
        },
        {
         "line": {
          "color": "#980000",
          "width": 0.5
         },
         "mode": "lines",
         "name": "Moldova",
         "stackgroup": "one",
         "type": "scatter",
         "x": [
          1996,
          1997,
          1998,
          1999,
          2000,
          2001,
          2002,
          2003,
          2004,
          2005,
          2006,
          2007,
          2008,
          2009,
          2010,
          2011,
          2012,
          2013,
          2014,
          2015,
          2016,
          2017,
          2018,
          2019,
          2020,
          2021
         ],
         "y": [
          0,
          0,
          0,
          0,
          0,
          0,
          0,
          0,
          0,
          0,
          0,
          0,
          0,
          -84.8159,
          0,
          41.9414,
          -103.7608,
          -766.9517999999999,
          -227.8321,
          -248.18690000000004,
          -22.980600000000006,
          43.558600000000006,
          79.1423,
          18.945000000000004,
          34.03020000000001,
          379.98249999999996
         ]
        },
        {
         "line": {
          "color": "#980000",
          "width": 0.5
         },
         "mode": "lines",
         "name": "Russia",
         "stackgroup": "one",
         "type": "scatter",
         "x": [
          1996,
          1997,
          1998,
          1999,
          2000,
          2001,
          2002,
          2003,
          2004,
          2005,
          2006,
          2007,
          2008,
          2009,
          2010,
          2011,
          2012,
          2013,
          2014,
          2015,
          2016,
          2017,
          2018,
          2019,
          2020,
          2021
         ],
         "y": [
          0,
          14435.042234,
          27598.948549,
          1072.6448079,
          6139.0290127,
          5072.7730321,
          7029.336350899999,
          41997.4569,
          43165.080429,
          40124.322022,
          30987.820763000003,
          75162.30569200001,
          26212.175149,
          10253.3809,
          50974.0375237,
          58017.61901425,
          22017.321399999993,
          7813.8212580673935,
          87908.6323998438,
          52369.6255640169,
          28497.6457,
          51318.7092,
          74314.00600000001,
          55228.18860000001,
          39172.82459999999,
          58583.67019999996
         ]
        },
        {
         "line": {
          "color": "#980000",
          "width": 0.5
         },
         "mode": "lines",
         "name": "Turkmenistan",
         "stackgroup": "one",
         "type": "scatter",
         "x": [
          1996,
          1997,
          1998,
          1999,
          2000,
          2001,
          2002,
          2003,
          2004,
          2005,
          2006,
          2007,
          2008,
          2009,
          2010,
          2011,
          2012,
          2013,
          2014,
          2015,
          2016,
          2017,
          2018,
          2019,
          2020,
          2021
         ],
         "y": [
          0,
          0,
          0,
          0,
          0,
          0,
          0,
          0,
          0,
          0,
          0,
          0,
          0,
          0,
          0,
          0,
          7.0924,
          361.1922,
          -85.5539,
          -43.938500000000005,
          194.2136,
          2586.9372000000008,
          -285.5521,
          1656.7801,
          70.54979999999999,
          1945.8577
         ]
        },
        {
         "line": {
          "color": "#980000",
          "width": 0.5
         },
         "mode": "lines",
         "name": "Ukraine",
         "stackgroup": "one",
         "type": "scatter",
         "x": [
          1996,
          1997,
          1998,
          1999,
          2000,
          2001,
          2002,
          2003,
          2004,
          2005,
          2006,
          2007,
          2008,
          2009,
          2010,
          2011,
          2012,
          2013,
          2014,
          2015,
          2016,
          2017,
          2018,
          2019,
          2020,
          2021
         ],
         "y": [
          3753.45,
          403.11,
          -2667.56,
          -547.40463362,
          -50.950741939,
          -36.425595809,
          -37.81212725,
          1438.5002472,
          1280.0000057,
          1700.8810614,
          1055.7597171,
          22308.507207000002,
          -6441.9638143,
          -1563.5478,
          4396.0625,
          1648.2133,
          1234.22044,
          22939.0334711236,
          3422.5825303473002,
          -27261.6689539292,
          10967.181399999998,
          5512.206900000002,
          1464.1579000000029,
          25877.76299999999,
          16306.864300000005,
          10717.9004
         ]
        },
        {
         "line": {
          "color": "#990000",
          "width": 0.5
         },
         "mode": "lines",
         "name": "Uzbekistan",
         "stackgroup": "one",
         "type": "scatter",
         "x": [
          1996,
          1997,
          1998,
          1999,
          2000,
          2001,
          2002,
          2003,
          2004,
          2005,
          2006,
          2007,
          2008,
          2009,
          2010,
          2011,
          2012,
          2013,
          2014,
          2015,
          2016,
          2017,
          2018,
          2019,
          2020,
          2021
         ],
         "y": [
          0,
          0,
          0,
          0,
          0,
          0,
          0,
          0,
          0,
          0,
          0,
          0,
          0,
          175.3256,
          22.98018,
          -65.2351,
          -206.5675,
          -17.8822,
          2933.8681,
          2535.4821,
          1284.6891999999998,
          1196.0973000000004,
          1144.6042999999997,
          802.8506,
          -84.34880000000001,
          2084.0817
         ]
        },
        {
         "line": {
          "color": "#990000",
          "width": 0.5
         },
         "mode": "lines",
         "name": "Argentina",
         "stackgroup": "one",
         "type": "scatter",
         "x": [
          1996,
          1997,
          1998,
          1999,
          2000,
          2001,
          2002,
          2003,
          2004,
          2005,
          2006,
          2007,
          2008,
          2009,
          2010,
          2011,
          2012,
          2013,
          2014,
          2015,
          2016,
          2017,
          2018,
          2019,
          2020,
          2021
         ],
         "y": [
          0,
          0,
          0,
          0,
          0,
          0,
          0,
          0,
          0,
          93.090463818,
          100.51153314,
          40.578568543,
          -90.1567621,
          0,
          0,
          0,
          0,
          0,
          0,
          0,
          0,
          69.393,
          -104.0258,
          0,
          -1.0892,
          -0.5505
         ]
        },
        {
         "mode": "lines",
         "name": "Australia",
         "stackgroup": "one",
         "type": "scatter",
         "x": [
          1996,
          1997,
          1998,
          1999,
          2000,
          2001,
          2002,
          2003,
          2004,
          2005,
          2006,
          2007,
          2008,
          2009,
          2010,
          2011,
          2012,
          2013,
          2014,
          2015,
          2016,
          2017,
          2018,
          2019,
          2020,
          2021
         ],
         "y": [
          0,
          27065.704188,
          27270.917295,
          0,
          2409.1636691,
          0,
          0,
          26225.92215,
          0,
          921.53805755,
          1939.404722,
          207.50525823,
          109.2164225,
          99.199,
          -238.17770000000002,
          95.6349,
          139.49450000000002,
          -255.49720000000002,
          25.462300000000006,
          1.6278000000000021,
          4180.9058,
          3469.6208000000006,
          585.9809,
          2624.9260999999997,
          1012.7366,
          2095.7920000000004
         ]
        },
        {
         "mode": "lines",
         "name": "Bahamas",
         "stackgroup": "one",
         "type": "scatter",
         "x": [
          1996,
          1997,
          1998,
          1999,
          2000,
          2001,
          2002,
          2003,
          2004,
          2005,
          2006,
          2007,
          2008,
          2009,
          2010,
          2011,
          2012,
          2013,
          2014,
          2015,
          2016,
          2017,
          2018,
          2019,
          2020,
          2021
         ],
         "y": [
          0,
          0,
          0,
          0,
          0,
          0,
          0,
          0,
          0,
          0,
          0,
          -3.1941305311,
          0,
          0,
          0,
          184.4282,
          417.9381,
          -430.676,
          0,
          59.7579,
          7.645,
          97.463,
          231.3201,
          -2801.4893,
          -3428.774,
          89.563
         ]
        },
        {
         "mode": "lines",
         "name": "Belize",
         "stackgroup": "one",
         "type": "scatter",
         "x": [
          1996,
          1997,
          1998,
          1999,
          2000,
          2001,
          2002,
          2003,
          2004,
          2005,
          2006,
          2007,
          2008,
          2009,
          2010,
          2011,
          2012,
          2013,
          2014,
          2015,
          2016,
          2017,
          2018,
          2019,
          2020,
          2021
         ],
         "y": [
          0,
          0,
          0,
          0,
          0,
          0,
          0,
          155.7275697,
          0,
          694.96492081,
          -264.23182896,
          9462.338178,
          37822.532076,
          3100.7033,
          689.0926000000001,
          30315.370221899997,
          14907.3522,
          -7158.329100000001,
          36987.175200000005,
          -23230.24650000001,
          6576.018999999999,
          2055.9574000000002,
          3249.2126999999996,
          -11248.292900000002,
          -12738.968499999999,
          -39777.6033
         ]
        },
        {
         "mode": "lines",
         "name": "Virgin Islands, British",
         "stackgroup": "one",
         "type": "scatter",
         "x": [
          1996,
          1997,
          1998,
          1999,
          2000,
          2001,
          2002,
          2003,
          2004,
          2005,
          2006,
          2007,
          2008,
          2009,
          2010,
          2011,
          2012,
          2013,
          2014,
          2015,
          2016,
          2017,
          2018,
          2019,
          2020,
          2021
         ],
         "y": [
          0,
          6424.882637,
          6489.6584205,
          0,
          0,
          0,
          0,
          6225.5343771,
          6903.4810206,
          5198.6146147,
          55826.427604,
          174268.630502817,
          132629.5559572,
          28286.161102000002,
          9672.92809220001,
          27977.01780234001,
          26592.3135119024,
          30293.8254150029,
          5241.563962479099,
          30746.961885628392,
          37298.2112,
          -23034.190500000004,
          -48988.3569,
          -34716.2577,
          -69679.99829999999,
          -11596.602299999997
         ]
        },
        {
         "mode": "lines",
         "name": "Canada",
         "stackgroup": "one",
         "type": "scatter",
         "x": [
          1996,
          1997,
          1998,
          1999,
          2000,
          2001,
          2002,
          2003,
          2004,
          2005,
          2006,
          2007,
          2008,
          2009,
          2010,
          2011,
          2012,
          2013,
          2014,
          2015,
          2016,
          2017,
          2018,
          2019,
          2020,
          2021
         ],
         "y": [
          0,
          0,
          0,
          0,
          0,
          0,
          0,
          0,
          0,
          0,
          6000,
          1232.5273942000001,
          -104.046314,
          -96.3282,
          362.0058,
          3124.6049000000003,
          1034.9461,
          -664.3519,
          2773.9876,
          115.81950000000003,
          -1.4746999999999986,
          193.00779999999992,
          -152.28159999999997,
          325.78550000000007,
          936.3405000000001,
          724.4779
         ]
        },
        {
         "mode": "lines",
         "name": "Cayman Islands",
         "stackgroup": "one",
         "type": "scatter",
         "x": [
          1996,
          1997,
          1998,
          1999,
          2000,
          2001,
          2002,
          2003,
          2004,
          2005,
          2006,
          2007,
          2008,
          2009,
          2010,
          2011,
          2012,
          2013,
          2014,
          2015,
          2016,
          2017,
          2018,
          2019,
          2020,
          2021
         ],
         "y": [
          0,
          0,
          0,
          0,
          0,
          0,
          0,
          0,
          0,
          0,
          6698.1672497,
          2830.5324123,
          -7007.2642465,
          2161.0807,
          12332.2625,
          21660.3964,
          6529.132799999999,
          6362.3177156569,
          898.246367638699,
          -30549.011938514206,
          8725.004500000001,
          -1638.5926000000004,
          3105.977999999999,
          -3711.6037000000006,
          2989.7791,
          2508.4376
         ]
        },
        {
         "mode": "lines",
         "name": "China",
         "stackgroup": "one",
         "type": "scatter",
         "x": [
          1996,
          1997,
          1998,
          1999,
          2000,
          2001,
          2002,
          2003,
          2004,
          2005,
          2006,
          2007,
          2008,
          2009,
          2010,
          2011,
          2012,
          2013,
          2014,
          2015,
          2016,
          2017,
          2018,
          2019,
          2020,
          2021
         ],
         "y": [
          0,
          0,
          0,
          0,
          0,
          0,
          2562.0325038,
          19070.414976,
          7338.0992234,
          5668.5255203,
          5445.267389,
          6028.6861263,
          -2271.4043811,
          -2236.9719,
          -7882.0231,
          30382.743825,
          70156.8004,
          101129.66156029991,
          220099.17697483004,
          66947.633819704,
          25480.8252,
          19364.383700000006,
          75991.0711,
          43751.85690000001,
          -35521.48299999999,
          19259.866800000003
         ]
        },
        {
         "mode": "lines",
         "name": "Gibraltar",
         "stackgroup": "one",
         "type": "scatter",
         "x": [
          1996,
          1997,
          1998,
          1999,
          2000,
          2001,
          2002,
          2003,
          2004,
          2005,
          2006,
          2007,
          2008,
          2009,
          2010,
          2011,
          2012,
          2013,
          2014,
          2015,
          2016,
          2017,
          2018,
          2019,
          2020,
          2021
         ],
         "y": [
          0,
          0,
          0,
          0,
          0,
          0,
          0,
          115.1029863,
          0,
          90.174558941,
          955.37407224,
          5619.7284164,
          5307.0150739,
          4088.9758,
          986.309948129001,
          -802.8544999999999,
          -629.969699999999,
          469.0521,
          545.5634,
          1285.7403,
          479.52010000000007,
          1914.3475999999998,
          1042.796,
          1191.5364,
          421.1143,
          -1410.7389
         ]
        },
        {
         "mode": "lines",
         "name": "Hong Kong, SAR of China",
         "stackgroup": "one",
         "type": "scatter",
         "x": [
          1996,
          1997,
          1998,
          1999,
          2000,
          2001,
          2002,
          2003,
          2004,
          2005,
          2006,
          2007,
          2008,
          2009,
          2010,
          2011,
          2012,
          2013,
          2014,
          2015,
          2016,
          2017,
          2018,
          2019,
          2020,
          2021
         ],
         "y": [
          0,
          0,
          0,
          0,
          0,
          0,
          0,
          0,
          0,
          0,
          0,
          0,
          0,
          0,
          0,
          0,
          0,
          2190.0277,
          -47.877599999999994,
          -0.1936,
          4070.1412,
          1577.6401,
          4810.8122,
          -7595.501199999999,
          -2495.1841000000004,
          2184.7160000000003
         ]
        },
        {
         "mode": "lines",
         "name": "Iceland",
         "stackgroup": "one",
         "type": "scatter",
         "x": [
          1996,
          1997,
          1998,
          1999,
          2000,
          2001,
          2002,
          2003,
          2004,
          2005,
          2006,
          2007,
          2008,
          2009,
          2010,
          2011,
          2012,
          2013,
          2014,
          2015,
          2016,
          2017,
          2018,
          2019,
          2020,
          2021
         ],
         "y": [
          0,
          0,
          0,
          0,
          0,
          0,
          0,
          0,
          0,
          0,
          0,
          181.66160995,
          0,
          185.0661,
          715.8330000000001,
          117.1026,
          -62.900800000000004,
          124.6813,
          262.3555,
          -711.378,
          -331.95059999999995,
          -653.1487,
          79.2436,
          -1452.7458000000004,
          -20.6595,
          34.045100000000005
         ]
        },
        {
         "mode": "lines",
         "name": "India",
         "stackgroup": "one",
         "type": "scatter",
         "x": [
          1996,
          1997,
          1998,
          1999,
          2000,
          2001,
          2002,
          2003,
          2004,
          2005,
          2006,
          2007,
          2008,
          2009,
          2010,
          2011,
          2012,
          2013,
          2014,
          2015,
          2016,
          2017,
          2018,
          2019,
          2020,
          2021
         ],
         "y": [
          0,
          0,
          0,
          821.10302839,
          0,
          0,
          0,
          0,
          0,
          29.028381612,
          54.933841946,
          61.941818182,
          26998.38238,
          271.0611,
          16886.6267,
          16269.903100000003,
          5149.667799999999,
          -12574.154899999998,
          249.3962999999998,
          532.3095,
          -857.7759999999996,
          9311.537399999997,
          -4050.152800000001,
          6517.469900000002,
          3269.2210999999998,
          8931.287100000001
         ]
        },
        {
         "mode": "lines",
         "name": "Iran",
         "stackgroup": "one",
         "type": "scatter",
         "x": [
          1996,
          1997,
          1998,
          1999,
          2000,
          2001,
          2002,
          2003,
          2004,
          2005,
          2006,
          2007,
          2008,
          2009,
          2010,
          2011,
          2012,
          2013,
          2014,
          2015,
          2016,
          2017,
          2018,
          2019,
          2020,
          2021
         ],
         "y": [
          0,
          0,
          0,
          0,
          0,
          0,
          0,
          0,
          0,
          0,
          42.887938313,
          108.27282939,
          1448.5049907,
          1188.0814,
          1083.8579,
          1059.1167,
          3131.2023677999996,
          6990.960099999999,
          2136.6546,
          536.5068000000001,
          3332.589799999999,
          5506.6249,
          8062.4283000000005,
          3078.0895000000014,
          678.6043999999995,
          1291.7235
         ]
        },
        {
         "mode": "lines",
         "name": "Iraq",
         "stackgroup": "one",
         "type": "scatter",
         "x": [
          1996,
          1997,
          1998,
          1999,
          2000,
          2001,
          2002,
          2003,
          2004,
          2005,
          2006,
          2007,
          2008,
          2009,
          2010,
          2011,
          2012,
          2013,
          2014,
          2015,
          2016,
          2017,
          2018,
          2019,
          2020,
          2021
         ],
         "y": [
          0,
          0,
          0,
          0,
          0,
          0,
          0,
          0,
          0,
          0,
          1.3224597752,
          35.375671886,
          0,
          0,
          0,
          0,
          0,
          -1.4715,
          -27.2556,
          0.14180000000000018,
          210.77839999999986,
          540.7538999999999,
          -6664.4913,
          -13025.869600000002,
          17969.464399999997,
          -4396.5413
         ]
        },
        {
         "mode": "lines",
         "name": "Israel",
         "stackgroup": "one",
         "type": "scatter",
         "x": [
          1996,
          1997,
          1998,
          1999,
          2000,
          2001,
          2002,
          2003,
          2004,
          2005,
          2006,
          2007,
          2008,
          2009,
          2010,
          2011,
          2012,
          2013,
          2014,
          2015,
          2016,
          2017,
          2018,
          2019,
          2020,
          2021
         ],
         "y": [
          0,
          0,
          0,
          0,
          0,
          152.84944721,
          4321.5679591,
          487.05283994,
          539.32264771,
          1704.0831216,
          4084.2077205,
          8640.9584799,
          -2047.6576677,
          1230.011,
          7954.441699999999,
          7566.2072,
          10327.3648,
          9146.5983268346,
          20048.1481379398,
          37661.79790594461,
          2536.2457999999997,
          6737.869799999997,
          -1457.0593000000006,
          22290.256999999998,
          8572.083399999998,
          9274.351100000002
         ]
        },
        {
         "mode": "lines",
         "name": "Japan",
         "stackgroup": "one",
         "type": "scatter",
         "x": [
          1996,
          1997,
          1998,
          1999,
          2000,
          2001,
          2002,
          2003,
          2004,
          2005,
          2006,
          2007,
          2008,
          2009,
          2010,
          2011,
          2012,
          2013,
          2014,
          2015,
          2016,
          2017,
          2018,
          2019,
          2020,
          2021
         ],
         "y": [
          0,
          5026.4879206,
          5077.1650632,
          0,
          0,
          0,
          0,
          8617.7422397,
          12089.536697,
          16610.085868,
          34008.274956999994,
          29673.463881,
          11369.941629901412,
          -30759.26394124,
          17492.450399999998,
          23010.6177,
          13850.448199999999,
          28974.311,
          -15029.7206,
          -34638.4402,
          5833.213300000003,
          18364.4159,
          4843.066299999999,
          39535.8166,
          6491.005599999995,
          3635.918399999995
         ]
        },
        {
         "mode": "lines",
         "name": "Jordan",
         "stackgroup": "one",
         "type": "scatter",
         "x": [
          1996,
          1997,
          1998,
          1999,
          2000,
          2001,
          2002,
          2003,
          2004,
          2005,
          2006,
          2007,
          2008,
          2009,
          2010,
          2011,
          2012,
          2013,
          2014,
          2015,
          2016,
          2017,
          2018,
          2019,
          2020,
          2021
         ],
         "y": [
          0,
          0,
          0,
          0,
          0,
          0,
          0,
          0,
          0,
          0,
          0,
          0,
          0,
          -78.8384,
          -4086.3064,
          -692.5388999999998,
          453.1014000000002,
          -668.2545,
          -30366.267200000002,
          1777.6065000000003,
          969.9827999999999,
          1026.5032,
          667.8401000000001,
          -1216.6981,
          -41.43760000000009,
          809.4219
         ]
        },
        {
         "mode": "lines",
         "name": "Korea",
         "stackgroup": "one",
         "type": "scatter",
         "x": [
          1996,
          1997,
          1998,
          1999,
          2000,
          2001,
          2002,
          2003,
          2004,
          2005,
          2006,
          2007,
          2008,
          2009,
          2010,
          2011,
          2012,
          2013,
          2014,
          2015,
          2016,
          2017,
          2018,
          2019,
          2020,
          2021
         ],
         "y": [
          0,
          5799.7937546,
          5858.2673806,
          1487.6822717,
          9406.0971957,
          0,
          0,
          8317.363882,
          9486.2705096,
          6446.9326952,
          3064.2435604,
          0,
          0,
          0,
          0,
          0,
          0,
          164.9514,
          636.7104,
          29869.7634,
          29735.451399999998,
          36238.7756,
          32734.366899999997,
          22408.687400000003,
          2043.5100999999997,
          2967.1687999999995
         ]
        },
        {
         "mode": "lines",
         "name": "Lebanon",
         "stackgroup": "one",
         "type": "scatter",
         "x": [
          1996,
          1997,
          1998,
          1999,
          2000,
          2001,
          2002,
          2003,
          2004,
          2005,
          2006,
          2007,
          2008,
          2009,
          2010,
          2011,
          2012,
          2013,
          2014,
          2015,
          2016,
          2017,
          2018,
          2019,
          2020,
          2021
         ],
         "y": [
          0,
          0,
          338.31907164,
          1784.7825287,
          2004.61981,
          121.1881,
          87.77416,
          133.45581,
          177.18539,
          84.66927043,
          -7869.8897841,
          135.8504796,
          212.1489572,
          0,
          102.26150000000001,
          1250.243,
          -460.91850000000005,
          74.0649,
          210.5127,
          60.040099999999995,
          523.129,
          2402.7376,
          1358.1785,
          2211.5312999999996,
          4641.4003999999995,
          930.8565000000001
         ]
        },
        {
         "mode": "lines",
         "name": "Libya",
         "stackgroup": "one",
         "type": "scatter",
         "x": [
          1996,
          1997,
          1998,
          1999,
          2000,
          2001,
          2002,
          2003,
          2004,
          2005,
          2006,
          2007,
          2008,
          2009,
          2010,
          2011,
          2012,
          2013,
          2014,
          2015,
          2016,
          2017,
          2018,
          2019,
          2020,
          2021
         ],
         "y": [
          0,
          0,
          0,
          0,
          1814.4063318,
          789.85279855,
          0,
          0,
          0,
          33.019919548,
          21.636042143,
          0,
          0,
          0,
          0,
          0,
          0,
          0,
          0,
          0,
          0,
          90.81200000000001,
          0,
          0,
          0,
          9.4633
         ]
        },
        {
         "mode": "lines",
         "name": "Liechtenstein",
         "stackgroup": "one",
         "type": "scatter",
         "x": [
          1996,
          1997,
          1998,
          1999,
          2000,
          2001,
          2002,
          2003,
          2004,
          2005,
          2006,
          2007,
          2008,
          2009,
          2010,
          2011,
          2012,
          2013,
          2014,
          2015,
          2016,
          2017,
          2018,
          2019,
          2020,
          2021
         ],
         "y": [
          0,
          0,
          0,
          0,
          0,
          0,
          0,
          0,
          0,
          0,
          0,
          2445.7171985,
          5015.9575061,
          1912.9143,
          35044.6192,
          -8466.2845,
          1678.7301,
          -7070.1006379785995,
          -1199.4311,
          1959.1445,
          5611.7032,
          2861.3175,
          1946.7208999999998,
          493.14869999999996,
          976.6337,
          -338.3963
         ]
        },
        {
         "mode": "lines",
         "name": "Mauritius",
         "stackgroup": "one",
         "type": "scatter",
         "x": [
          1996,
          1997,
          1998,
          1999,
          2000,
          2001,
          2002,
          2003,
          2004,
          2005,
          2006,
          2007,
          2008,
          2009,
          2010,
          2011,
          2012,
          2013,
          2014,
          2015,
          2016,
          2017,
          2018,
          2019,
          2020,
          2021
         ],
         "y": [
          0,
          0,
          0,
          0,
          0,
          0,
          0,
          0,
          0,
          0,
          0,
          0,
          0,
          0,
          -98.51110000000001,
          13701.431900000001,
          5029.435900000001,
          5003.4367,
          813.4784,
          3250.2733999999996,
          6162.8583,
          -7804.530599999999,
          1653.5759000000003,
          4032.2229,
          -488.00300000000004,
          -217.6058
         ]
        },
        {
         "mode": "lines",
         "name": "Norway",
         "stackgroup": "one",
         "type": "scatter",
         "x": [
          1996,
          1997,
          1998,
          1999,
          2000,
          2001,
          2002,
          2003,
          2004,
          2005,
          2006,
          2007,
          2008,
          2009,
          2010,
          2011,
          2012,
          2013,
          2014,
          2015,
          2016,
          2017,
          2018,
          2019,
          2020,
          2021
         ],
         "y": [
          0,
          10955.165981,
          11065.616163,
          0,
          0,
          0,
          2194.3439906000003,
          10462.969168,
          36697.41837,
          22821.608714,
          75925.52273400001,
          23063.474448,
          1965.5536267986026,
          1131.363004838,
          2022.5783999999996,
          3048.9488,
          4120.1822999999995,
          3239.7565210483003,
          449.0673084716,
          343.3759646982,
          -2056.1713,
          730.6708,
          5687.340299999999,
          -120.2650999999999,
          1144.6262000000002,
          1169.6045
         ]
        },
        {
         "mode": "lines",
         "name": "Marshall Islands",
         "stackgroup": "one",
         "type": "scatter",
         "x": [
          1996,
          1997,
          1998,
          1999,
          2000,
          2001,
          2002,
          2003,
          2004,
          2005,
          2006,
          2007,
          2008,
          2009,
          2010,
          2011,
          2012,
          2013,
          2014,
          2015,
          2016,
          2017,
          2018,
          2019,
          2020,
          2021
         ],
         "y": [
          0,
          0,
          0,
          0,
          0,
          0,
          0,
          0,
          0,
          0,
          3197.7,
          1309.2551195,
          1742.1003495,
          6484.6851,
          10338.807168199999,
          9055.0978,
          8384.5049282,
          -589.3070999999991,
          3465.7834,
          6939.987799999999,
          4182.9339,
          2861.7898999999998,
          1862.9507000000012,
          34010.9644,
          6824.2258,
          21316.3262
         ]
        },
        {
         "mode": "lines",
         "name": "Panama",
         "stackgroup": "one",
         "type": "scatter",
         "x": [
          1996,
          1997,
          1998,
          1999,
          2000,
          2001,
          2002,
          2003,
          2004,
          2005,
          2006,
          2007,
          2008,
          2009,
          2010,
          2011,
          2012,
          2013,
          2014,
          2015,
          2016,
          2017,
          2018,
          2019,
          2020,
          2021
         ],
         "y": [
          0,
          0,
          0,
          0,
          0,
          0,
          0,
          0,
          0,
          0,
          4493.76349092,
          5649.8907892,
          -2470.040285,
          74742.1949,
          -5024.983,
          2181.5110000000004,
          10685.0193,
          25750.033,
          70663.5357,
          9524.015000000001,
          77663.18170000002,
          27175.4701,
          76985.8866,
          76830.09879999999,
          -210092.41389999999,
          -7667.651099999997
         ]
        },
        {
         "mode": "lines",
         "name": "Philippines",
         "stackgroup": "one",
         "type": "scatter",
         "x": [
          1996,
          1997,
          1998,
          1999,
          2000,
          2001,
          2002,
          2003,
          2004,
          2005,
          2006,
          2007,
          2008,
          2009,
          2010,
          2011,
          2012,
          2013,
          2014,
          2015,
          2016,
          2017,
          2018,
          2019,
          2020,
          2021
         ],
         "y": [
          0,
          0,
          0,
          0,
          0,
          0,
          0,
          0,
          0,
          0,
          0,
          0,
          0,
          0,
          1620.2767000000001,
          0,
          0,
          0,
          0,
          0,
          14.456499999999998,
          -0.3630000000000002,
          0,
          46.0643,
          1.9971999999999999,
          110.7399
         ]
        },
        {
         "mode": "lines",
         "name": "Qatar",
         "stackgroup": "one",
         "type": "scatter",
         "x": [
          1996,
          1997,
          1998,
          1999,
          2000,
          2001,
          2002,
          2003,
          2004,
          2005,
          2006,
          2007,
          2008,
          2009,
          2010,
          2011,
          2012,
          2013,
          2014,
          2015,
          2016,
          2017,
          2018,
          2019,
          2020,
          2021
         ],
         "y": [
          0,
          0,
          0,
          0,
          0,
          0,
          0,
          0,
          0,
          0,
          0,
          0,
          0,
          0,
          0,
          0,
          0,
          4221.4892,
          -16.3704,
          2549.096,
          4164.3936,
          8661.428600000001,
          7596.3351,
          7450.3099,
          1922.4850000000001,
          3161.708
         ]
        },
        {
         "mode": "lines",
         "name": "Saint Kitts and Nevis",
         "stackgroup": "one",
         "type": "scatter",
         "x": [
          1996,
          1997,
          1998,
          1999,
          2000,
          2001,
          2002,
          2003,
          2004,
          2005,
          2006,
          2007,
          2008,
          2009,
          2010,
          2011,
          2012,
          2013,
          2014,
          2015,
          2016,
          2017,
          2018,
          2019,
          2020,
          2021
         ],
         "y": [
          0,
          0,
          0,
          0,
          0,
          0,
          0,
          0,
          0,
          0,
          509.66386328,
          0,
          0,
          0,
          0,
          -107.07430000000001,
          -5435.3768,
          -4553.2185,
          385.0776,
          7811.7384999999995,
          -5940.1331,
          1090.1009,
          505.2137000000003,
          -1684.1855000000005,
          -3991.1721,
          3087.6737000000003
         ]
        },
        {
         "mode": "lines",
         "name": "Saudi Arabia",
         "stackgroup": "one",
         "type": "scatter",
         "x": [
          1996,
          1997,
          1998,
          1999,
          2000,
          2001,
          2002,
          2003,
          2004,
          2005,
          2006,
          2007,
          2008,
          2009,
          2010,
          2011,
          2012,
          2013,
          2014,
          2015,
          2016,
          2017,
          2018,
          2019,
          2020,
          2021
         ],
         "y": [
          0,
          2191.0331962,
          2213.1232327,
          44.324567218,
          41.003055892,
          72.319416688,
          149.00493368,
          0,
          0,
          150.24663007,
          263.8002969,
          0,
          0,
          -2.1347,
          0,
          2037.6595,
          39475.447199999995,
          8698.1376,
          27502.376700000004,
          -32930.568,
          17399.6307,
          -4456.338100000001,
          3059.0927999999994,
          -214.8637000000001,
          -219.89110000000016,
          -9892.1331
         ]
        },
        {
         "mode": "lines",
         "name": "Seychelles",
         "stackgroup": "one",
         "type": "scatter",
         "x": [
          1996,
          1997,
          1998,
          1999,
          2000,
          2001,
          2002,
          2003,
          2004,
          2005,
          2006,
          2007,
          2008,
          2009,
          2010,
          2011,
          2012,
          2013,
          2014,
          2015,
          2016,
          2017,
          2018,
          2019,
          2020,
          2021
         ],
         "y": [
          0,
          0,
          0,
          0,
          0,
          0,
          0,
          0,
          0,
          154.31288999999998,
          0,
          4306.1803521,
          4350.5162363,
          1481.5759,
          5467.5179,
          8637.259500000002,
          8761.467999999999,
          1249.9346999999998,
          -1580.3942999999997,
          6473.2711,
          -4513.4962000000005,
          5165.3879,
          3395.7397,
          3056.0476,
          -907.5874000000003,
          19827.779
         ]
        },
        {
         "mode": "lines",
         "name": "Switzerland",
         "stackgroup": "one",
         "type": "scatter",
         "x": [
          1996,
          1997,
          1998,
          1999,
          2000,
          2001,
          2002,
          2003,
          2004,
          2005,
          2006,
          2007,
          2008,
          2009,
          2010,
          2011,
          2012,
          2013,
          2014,
          2015,
          2016,
          2017,
          2018,
          2019,
          2020,
          2021
         ],
         "y": [
          0,
          0,
          0,
          0,
          599.01787398,
          0,
          0,
          24.81234,
          42.63457,
          348.38513502,
          342.19454701,
          9961.991406,
          89958.560934,
          -11984.0033,
          21885.0655425,
          29534.490496000006,
          22027.450397200002,
          24272.350874996304,
          8326.995679213602,
          741.4087056563001,
          7112.013800000001,
          35654.277200000004,
          49370.56940000001,
          -3753.0678000000044,
          -8277.007200000002,
          6481.784500000002
         ]
        },
        {
         "mode": "lines",
         "name": "Syrian",
         "stackgroup": "one",
         "type": "scatter",
         "x": [
          1996,
          1997,
          1998,
          1999,
          2000,
          2001,
          2002,
          2003,
          2004,
          2005,
          2006,
          2007,
          2008,
          2009,
          2010,
          2011,
          2012,
          2013,
          2014,
          2015,
          2016,
          2017,
          2018,
          2019,
          2020,
          2021
         ],
         "y": [
          0,
          0,
          0,
          0,
          0,
          0,
          0,
          0,
          0,
          0,
          0,
          3.8517365735,
          9.17479,
          12.7655,
          63.3446,
          103.4162,
          -10.284799999999997,
          26.130100000000002,
          116.8973,
          442.0787,
          386.6735,
          983.1902999999998,
          193.55980000000005,
          362.1273,
          -71.40910000000001,
          2.744500000000004
         ]
        },
        {
         "mode": "lines",
         "name": "United Arab Emirates",
         "stackgroup": "one",
         "type": "scatter",
         "x": [
          1996,
          1997,
          1998,
          1999,
          2000,
          2001,
          2002,
          2003,
          2004,
          2005,
          2006,
          2007,
          2008,
          2009,
          2010,
          2011,
          2012,
          2013,
          2014,
          2015,
          2016,
          2017,
          2018,
          2019,
          2020,
          2021
         ],
         "y": [
          0,
          0,
          0,
          0,
          0,
          0,
          0,
          291.1428477,
          0,
          280.4618106,
          422.64971738,
          120186.57932,
          306576.32215,
          162756.4619,
          55530.659799999994,
          48612.1119142857,
          25470.100485714283,
          68948.38115830331,
          25872.2523880729,
          36556.13580339651,
          55294.3457,
          147084.0538,
          33912.8728,
          26268.382,
          -12654.671900000005,
          34798.97320000001
         ]
        },
        {
         "mode": "lines",
         "name": "Turkey",
         "stackgroup": "one",
         "type": "scatter",
         "x": [
          1996,
          1997,
          1998,
          1999,
          2000,
          2001,
          2002,
          2003,
          2004,
          2005,
          2006,
          2007,
          2008,
          2009,
          2010,
          2011,
          2012,
          2013,
          2014,
          2015,
          2016,
          2017,
          2018,
          2019,
          2020,
          2021
         ],
         "y": [
          0,
          14950.579456,
          15101.31147,
          9831.1278386,
          28601.024958,
          8456.0823017,
          8246.3773396,
          16673.840354,
          33325.95005,
          21519.854918,
          126790.27419,
          79510.19251200001,
          167403.12092501126,
          97984.235842884,
          91786.5145,
          77708.80345,
          107222.39138597605,
          51433.753532009,
          72305.96054774571,
          74893.75820228092,
          220272.23599999992,
          256215.3004,
          49185.742700000024,
          174174.72179999988,
          79041.69269999999,
          64730.56399999998
         ]
        },
        {
         "mode": "lines",
         "name": "Egypt",
         "stackgroup": "one",
         "type": "scatter",
         "x": [
          1996,
          1997,
          1998,
          1999,
          2000,
          2001,
          2002,
          2003,
          2004,
          2005,
          2006,
          2007,
          2008,
          2009,
          2010,
          2011,
          2012,
          2013,
          2014,
          2015,
          2016,
          2017,
          2018,
          2019,
          2020,
          2021
         ],
         "y": [
          0,
          0,
          0,
          0,
          0,
          0,
          0,
          0,
          0,
          0,
          0,
          0,
          0,
          55750.58,
          18000.0001,
          11787.5,
          0,
          1488.7121267051002,
          373.4770364788,
          -1101.2736302157002,
          -292.8497,
          -281.0827,
          661.5227,
          558.9499999999999,
          2566.8158999999996,
          2740.4529
         ]
        },
        {
         "mode": "lines",
         "name": "United Kingdom",
         "stackgroup": "one",
         "type": "scatter",
         "x": [
          1996,
          1997,
          1998,
          1999,
          2000,
          2001,
          2002,
          2003,
          2004,
          2005,
          2006,
          2007,
          2008,
          2009,
          2010,
          2011,
          2012,
          2013,
          2014,
          2015,
          2016,
          2017,
          2018,
          2019,
          2020,
          2021
         ],
         "y": [
          0,
          24985.511495,
          26471.589257,
          5036.1767139,
          4823.9757035,
          8508.6879934,
          14719.529864,
          34842.840181,
          85099.450378,
          131546.39755,
          174535.07246,
          132178.02596000003,
          148179.7980471986,
          72439.294404838,
          62336.275460000004,
          57216.50161000001,
          95536.664823,
          55171.31271461829,
          108850.79645079242,
          399346.8413453128,
          87849.54199999999,
          249032.36200000002,
          182923.83529999998,
          236860.4844,
          302984.8908,
          596616.9694
         ]
        },
        {
         "mode": "lines",
         "name": "United States",
         "stackgroup": "one",
         "type": "scatter",
         "x": [
          1996,
          1997,
          1998,
          1999,
          2000,
          2001,
          2002,
          2003,
          2004,
          2005,
          2006,
          2007,
          2008,
          2009,
          2010,
          2011,
          2012,
          2013,
          2014,
          2015,
          2016,
          2017,
          2018,
          2019,
          2020,
          2021
         ],
         "y": [
          0,
          96651.887424,
          104427.22618,
          59151.289331,
          38717.651556,
          23281.158381,
          81609.82602800001,
          71603.885369,
          80753.732613,
          15088.925954,
          100833.32908,
          68439.86156199999,
          167920.66786,
          -10025.9847,
          141210.37783100002,
          35291.75462000001,
          20253.99910000001,
          53885.22406068121,
          184442.7553040261,
          18898.4237058562,
          59817.104400000026,
          79115.3347,
          104964.06220000001,
          115592.2585,
          98440.9332,
          6150.9767999999785
         ]
        },
        {
         "mode": "lines",
         "name": "Unknown",
         "stackgroup": "one",
         "type": "scatter",
         "x": [
          1996,
          1997,
          1998,
          1999,
          2000,
          2001,
          2002,
          2003,
          2004,
          2005,
          2006,
          2007,
          2008,
          2009,
          2010,
          2011,
          2012,
          2013,
          2014,
          2015,
          2016,
          2017,
          2018,
          2019,
          2020,
          2021
         ],
         "y": [
          0,
          0,
          0,
          0,
          0,
          0,
          627.86159,
          853.61444,
          268.31440000000003,
          328.45036,
          -312.16201,
          0,
          0,
          11066.7825,
          0,
          0,
          0,
          0,
          0,
          6743.0346999702,
          -4702.3455,
          0,
          0,
          0,
          0,
          0
         ]
        },
        {
         "mode": "lines",
         "name": "International Organizations",
         "stackgroup": "one",
         "type": "scatter",
         "x": [
          1996,
          1997,
          1998,
          1999,
          2000,
          2001,
          2002,
          2003,
          2004,
          2005,
          2006,
          2007,
          2008,
          2009,
          2010,
          2011,
          2012,
          2013,
          2014,
          2015,
          2016,
          2017,
          2018,
          2019,
          2020,
          2021
         ],
         "y": [
          0,
          0,
          0,
          0,
          0,
          0,
          448.5318,
          1235.9373600000001,
          776.70683,
          3279.4706199999996,
          14619.29967914029,
          13066.1055431365,
          23650.953120131377,
          30739.225200000004,
          45186.041699999994,
          94896.5044,
          63454.7265,
          54680.83631688521,
          -105980.37915729971,
          39779.52809143661,
          43125.7175,
          2516.0898999999995,
          1627.4711000000007,
          6883.7492999999995,
          1458.0450999999973,
          3690.0591000000013
         ]
        }
       ],
       "layout": {
        "template": {
         "data": {
          "bar": [
           {
            "error_x": {
             "color": "#2a3f5f"
            },
            "error_y": {
             "color": "#2a3f5f"
            },
            "marker": {
             "line": {
              "color": "#E5ECF6",
              "width": 0.5
             },
             "pattern": {
              "fillmode": "overlay",
              "size": 10,
              "solidity": 0.2
             }
            },
            "type": "bar"
           }
          ],
          "barpolar": [
           {
            "marker": {
             "line": {
              "color": "#E5ECF6",
              "width": 0.5
             },
             "pattern": {
              "fillmode": "overlay",
              "size": 10,
              "solidity": 0.2
             }
            },
            "type": "barpolar"
           }
          ],
          "carpet": [
           {
            "aaxis": {
             "endlinecolor": "#2a3f5f",
             "gridcolor": "white",
             "linecolor": "white",
             "minorgridcolor": "white",
             "startlinecolor": "#2a3f5f"
            },
            "baxis": {
             "endlinecolor": "#2a3f5f",
             "gridcolor": "white",
             "linecolor": "white",
             "minorgridcolor": "white",
             "startlinecolor": "#2a3f5f"
            },
            "type": "carpet"
           }
          ],
          "choropleth": [
           {
            "colorbar": {
             "outlinewidth": 0,
             "ticks": ""
            },
            "type": "choropleth"
           }
          ],
          "contour": [
           {
            "colorbar": {
             "outlinewidth": 0,
             "ticks": ""
            },
            "colorscale": [
             [
              0,
              "#0d0887"
             ],
             [
              0.1111111111111111,
              "#46039f"
             ],
             [
              0.2222222222222222,
              "#7201a8"
             ],
             [
              0.3333333333333333,
              "#9c179e"
             ],
             [
              0.4444444444444444,
              "#bd3786"
             ],
             [
              0.5555555555555556,
              "#d8576b"
             ],
             [
              0.6666666666666666,
              "#ed7953"
             ],
             [
              0.7777777777777778,
              "#fb9f3a"
             ],
             [
              0.8888888888888888,
              "#fdca26"
             ],
             [
              1,
              "#f0f921"
             ]
            ],
            "type": "contour"
           }
          ],
          "contourcarpet": [
           {
            "colorbar": {
             "outlinewidth": 0,
             "ticks": ""
            },
            "type": "contourcarpet"
           }
          ],
          "heatmap": [
           {
            "colorbar": {
             "outlinewidth": 0,
             "ticks": ""
            },
            "colorscale": [
             [
              0,
              "#0d0887"
             ],
             [
              0.1111111111111111,
              "#46039f"
             ],
             [
              0.2222222222222222,
              "#7201a8"
             ],
             [
              0.3333333333333333,
              "#9c179e"
             ],
             [
              0.4444444444444444,
              "#bd3786"
             ],
             [
              0.5555555555555556,
              "#d8576b"
             ],
             [
              0.6666666666666666,
              "#ed7953"
             ],
             [
              0.7777777777777778,
              "#fb9f3a"
             ],
             [
              0.8888888888888888,
              "#fdca26"
             ],
             [
              1,
              "#f0f921"
             ]
            ],
            "type": "heatmap"
           }
          ],
          "heatmapgl": [
           {
            "colorbar": {
             "outlinewidth": 0,
             "ticks": ""
            },
            "colorscale": [
             [
              0,
              "#0d0887"
             ],
             [
              0.1111111111111111,
              "#46039f"
             ],
             [
              0.2222222222222222,
              "#7201a8"
             ],
             [
              0.3333333333333333,
              "#9c179e"
             ],
             [
              0.4444444444444444,
              "#bd3786"
             ],
             [
              0.5555555555555556,
              "#d8576b"
             ],
             [
              0.6666666666666666,
              "#ed7953"
             ],
             [
              0.7777777777777778,
              "#fb9f3a"
             ],
             [
              0.8888888888888888,
              "#fdca26"
             ],
             [
              1,
              "#f0f921"
             ]
            ],
            "type": "heatmapgl"
           }
          ],
          "histogram": [
           {
            "marker": {
             "pattern": {
              "fillmode": "overlay",
              "size": 10,
              "solidity": 0.2
             }
            },
            "type": "histogram"
           }
          ],
          "histogram2d": [
           {
            "colorbar": {
             "outlinewidth": 0,
             "ticks": ""
            },
            "colorscale": [
             [
              0,
              "#0d0887"
             ],
             [
              0.1111111111111111,
              "#46039f"
             ],
             [
              0.2222222222222222,
              "#7201a8"
             ],
             [
              0.3333333333333333,
              "#9c179e"
             ],
             [
              0.4444444444444444,
              "#bd3786"
             ],
             [
              0.5555555555555556,
              "#d8576b"
             ],
             [
              0.6666666666666666,
              "#ed7953"
             ],
             [
              0.7777777777777778,
              "#fb9f3a"
             ],
             [
              0.8888888888888888,
              "#fdca26"
             ],
             [
              1,
              "#f0f921"
             ]
            ],
            "type": "histogram2d"
           }
          ],
          "histogram2dcontour": [
           {
            "colorbar": {
             "outlinewidth": 0,
             "ticks": ""
            },
            "colorscale": [
             [
              0,
              "#0d0887"
             ],
             [
              0.1111111111111111,
              "#46039f"
             ],
             [
              0.2222222222222222,
              "#7201a8"
             ],
             [
              0.3333333333333333,
              "#9c179e"
             ],
             [
              0.4444444444444444,
              "#bd3786"
             ],
             [
              0.5555555555555556,
              "#d8576b"
             ],
             [
              0.6666666666666666,
              "#ed7953"
             ],
             [
              0.7777777777777778,
              "#fb9f3a"
             ],
             [
              0.8888888888888888,
              "#fdca26"
             ],
             [
              1,
              "#f0f921"
             ]
            ],
            "type": "histogram2dcontour"
           }
          ],
          "mesh3d": [
           {
            "colorbar": {
             "outlinewidth": 0,
             "ticks": ""
            },
            "type": "mesh3d"
           }
          ],
          "parcoords": [
           {
            "line": {
             "colorbar": {
              "outlinewidth": 0,
              "ticks": ""
             }
            },
            "type": "parcoords"
           }
          ],
          "pie": [
           {
            "automargin": true,
            "type": "pie"
           }
          ],
          "scatter": [
           {
            "marker": {
             "colorbar": {
              "outlinewidth": 0,
              "ticks": ""
             }
            },
            "type": "scatter"
           }
          ],
          "scatter3d": [
           {
            "line": {
             "colorbar": {
              "outlinewidth": 0,
              "ticks": ""
             }
            },
            "marker": {
             "colorbar": {
              "outlinewidth": 0,
              "ticks": ""
             }
            },
            "type": "scatter3d"
           }
          ],
          "scattercarpet": [
           {
            "marker": {
             "colorbar": {
              "outlinewidth": 0,
              "ticks": ""
             }
            },
            "type": "scattercarpet"
           }
          ],
          "scattergeo": [
           {
            "marker": {
             "colorbar": {
              "outlinewidth": 0,
              "ticks": ""
             }
            },
            "type": "scattergeo"
           }
          ],
          "scattergl": [
           {
            "marker": {
             "colorbar": {
              "outlinewidth": 0,
              "ticks": ""
             }
            },
            "type": "scattergl"
           }
          ],
          "scattermapbox": [
           {
            "marker": {
             "colorbar": {
              "outlinewidth": 0,
              "ticks": ""
             }
            },
            "type": "scattermapbox"
           }
          ],
          "scatterpolar": [
           {
            "marker": {
             "colorbar": {
              "outlinewidth": 0,
              "ticks": ""
             }
            },
            "type": "scatterpolar"
           }
          ],
          "scatterpolargl": [
           {
            "marker": {
             "colorbar": {
              "outlinewidth": 0,
              "ticks": ""
             }
            },
            "type": "scatterpolargl"
           }
          ],
          "scatterternary": [
           {
            "marker": {
             "colorbar": {
              "outlinewidth": 0,
              "ticks": ""
             }
            },
            "type": "scatterternary"
           }
          ],
          "surface": [
           {
            "colorbar": {
             "outlinewidth": 0,
             "ticks": ""
            },
            "colorscale": [
             [
              0,
              "#0d0887"
             ],
             [
              0.1111111111111111,
              "#46039f"
             ],
             [
              0.2222222222222222,
              "#7201a8"
             ],
             [
              0.3333333333333333,
              "#9c179e"
             ],
             [
              0.4444444444444444,
              "#bd3786"
             ],
             [
              0.5555555555555556,
              "#d8576b"
             ],
             [
              0.6666666666666666,
              "#ed7953"
             ],
             [
              0.7777777777777778,
              "#fb9f3a"
             ],
             [
              0.8888888888888888,
              "#fdca26"
             ],
             [
              1,
              "#f0f921"
             ]
            ],
            "type": "surface"
           }
          ],
          "table": [
           {
            "cells": {
             "fill": {
              "color": "#EBF0F8"
             },
             "line": {
              "color": "white"
             }
            },
            "header": {
             "fill": {
              "color": "#C8D4E3"
             },
             "line": {
              "color": "white"
             }
            },
            "type": "table"
           }
          ]
         },
         "layout": {
          "annotationdefaults": {
           "arrowcolor": "#2a3f5f",
           "arrowhead": 0,
           "arrowwidth": 1
          },
          "autotypenumbers": "strict",
          "coloraxis": {
           "colorbar": {
            "outlinewidth": 0,
            "ticks": ""
           }
          },
          "colorscale": {
           "diverging": [
            [
             0,
             "#8e0152"
            ],
            [
             0.1,
             "#c51b7d"
            ],
            [
             0.2,
             "#de77ae"
            ],
            [
             0.3,
             "#f1b6da"
            ],
            [
             0.4,
             "#fde0ef"
            ],
            [
             0.5,
             "#f7f7f7"
            ],
            [
             0.6,
             "#e6f5d0"
            ],
            [
             0.7,
             "#b8e186"
            ],
            [
             0.8,
             "#7fbc41"
            ],
            [
             0.9,
             "#4d9221"
            ],
            [
             1,
             "#276419"
            ]
           ],
           "sequential": [
            [
             0,
             "#0d0887"
            ],
            [
             0.1111111111111111,
             "#46039f"
            ],
            [
             0.2222222222222222,
             "#7201a8"
            ],
            [
             0.3333333333333333,
             "#9c179e"
            ],
            [
             0.4444444444444444,
             "#bd3786"
            ],
            [
             0.5555555555555556,
             "#d8576b"
            ],
            [
             0.6666666666666666,
             "#ed7953"
            ],
            [
             0.7777777777777778,
             "#fb9f3a"
            ],
            [
             0.8888888888888888,
             "#fdca26"
            ],
            [
             1,
             "#f0f921"
            ]
           ],
           "sequentialminus": [
            [
             0,
             "#0d0887"
            ],
            [
             0.1111111111111111,
             "#46039f"
            ],
            [
             0.2222222222222222,
             "#7201a8"
            ],
            [
             0.3333333333333333,
             "#9c179e"
            ],
            [
             0.4444444444444444,
             "#bd3786"
            ],
            [
             0.5555555555555556,
             "#d8576b"
            ],
            [
             0.6666666666666666,
             "#ed7953"
            ],
            [
             0.7777777777777778,
             "#fb9f3a"
            ],
            [
             0.8888888888888888,
             "#fdca26"
            ],
            [
             1,
             "#f0f921"
            ]
           ]
          },
          "colorway": [
           "#636efa",
           "#EF553B",
           "#00cc96",
           "#ab63fa",
           "#FFA15A",
           "#19d3f3",
           "#FF6692",
           "#B6E880",
           "#FF97FF",
           "#FECB52"
          ],
          "font": {
           "color": "#2a3f5f"
          },
          "geo": {
           "bgcolor": "white",
           "lakecolor": "white",
           "landcolor": "#E5ECF6",
           "showlakes": true,
           "showland": true,
           "subunitcolor": "white"
          },
          "hoverlabel": {
           "align": "left"
          },
          "hovermode": "closest",
          "mapbox": {
           "style": "light"
          },
          "paper_bgcolor": "white",
          "plot_bgcolor": "#E5ECF6",
          "polar": {
           "angularaxis": {
            "gridcolor": "white",
            "linecolor": "white",
            "ticks": ""
           },
           "bgcolor": "#E5ECF6",
           "radialaxis": {
            "gridcolor": "white",
            "linecolor": "white",
            "ticks": ""
           }
          },
          "scene": {
           "xaxis": {
            "backgroundcolor": "#E5ECF6",
            "gridcolor": "white",
            "gridwidth": 2,
            "linecolor": "white",
            "showbackground": true,
            "ticks": "",
            "zerolinecolor": "white"
           },
           "yaxis": {
            "backgroundcolor": "#E5ECF6",
            "gridcolor": "white",
            "gridwidth": 2,
            "linecolor": "white",
            "showbackground": true,
            "ticks": "",
            "zerolinecolor": "white"
           },
           "zaxis": {
            "backgroundcolor": "#E5ECF6",
            "gridcolor": "white",
            "gridwidth": 2,
            "linecolor": "white",
            "showbackground": true,
            "ticks": "",
            "zerolinecolor": "white"
           }
          },
          "shapedefaults": {
           "line": {
            "color": "#2a3f5f"
           }
          },
          "ternary": {
           "aaxis": {
            "gridcolor": "white",
            "linecolor": "white",
            "ticks": ""
           },
           "baxis": {
            "gridcolor": "white",
            "linecolor": "white",
            "ticks": ""
           },
           "bgcolor": "#E5ECF6",
           "caxis": {
            "gridcolor": "white",
            "linecolor": "white",
            "ticks": ""
           }
          },
          "title": {
           "x": 0.05
          },
          "xaxis": {
           "automargin": true,
           "gridcolor": "white",
           "linecolor": "white",
           "ticks": "",
           "title": {
            "standoff": 15
           },
           "zerolinecolor": "white",
           "zerolinewidth": 2
          },
          "yaxis": {
           "automargin": true,
           "gridcolor": "white",
           "linecolor": "white",
           "ticks": "",
           "title": {
            "standoff": 15
           },
           "zerolinecolor": "white",
           "zerolinewidth": 2
          }
         }
        },
        "title": {
         "text": "FDI by Country (blue EU, red CIS)"
        },
        "xaxis": {
         "title": {
          "text": "Year"
         }
        },
        "yaxis": {
         "title": {
          "text": "in thousand  US-$"
         }
        }
       }
      }
     },
     "metadata": {},
     "output_type": "display_data"
    }
   ],
   "source": [
    "fig2 = go.Figure()\n",
    "colorlist1 = list(range(28))\n",
    "for CountryNo, CountryName in enumerate(fig2list):\n",
    "    if CountryNo < 28: #EU Countries\n",
    "        fig2.add_trace(go.Scatter(\n",
    "            x = df_FDICountry2['index'], \n",
    "            y = df_FDICountry2[CountryName],\n",
    "            name = CountryName,\n",
    "            mode = 'lines',\n",
    "            #marker_color='blue',\n",
    "            #marker_color='Denim Blue',\n",
    "            #line=dict(width=0.5, color='#004494'),\n",
    "            line=dict(width=0.5, color=\"#{}{}{}\".format('00', '44', str(int(CountryNo/8)+90))),\n",
    "            #line=dict(width=0.5,cmin=0,cmax=27, color=colorlist1, colorscale=\"Viridis\"),\n",
    "            stackgroup= 'one',\n",
    "            ))\n",
    "\n",
    "    elif CountryNo < 38:  #CIS Countries\n",
    "        fig2.add_trace(go.Scatter(\n",
    "            x = df_FDICountry2['index'], \n",
    "            y = df_FDICountry2[CountryName],\n",
    "            name = CountryName,\n",
    "            mode = 'lines',\n",
    "            stackgroup= 'one',\n",
    "            #marker_color='LightCoral'\n",
    "            #line=dict(width=0.5, color='#CD0000')\n",
    "            line=dict(width=0.5, color=\"#{}{}{}\".format(str(int(CountryNo/4)+90), '00','00')),\n",
    "            ))\n",
    "    else:\n",
    "        fig2.add_trace(go.Scatter(\n",
    "            x = df_FDICountry2['index'], \n",
    "            y = df_FDICountry2[CountryName],\n",
    "            name = CountryName,\n",
    "            mode = 'lines',\n",
    "            stackgroup= 'one'\n",
    "            ))\n",
    "fig2.update_layout(title = \"FDI by Country (blue EU, red CIS)\", xaxis_title = \"Year\", yaxis_title= \"in thousand  US-$\")\n",
    "fig2.show()"
   ]
  },
  {
   "cell_type": "code",
   "execution_count": 27,
   "id": "e0b26f6f",
   "metadata": {},
   "outputs": [
    {
     "data": {
      "application/vnd.plotly.v1+json": {
       "config": {
        "plotlyServerURL": "https://plot.ly"
       },
       "data": [
        {
         "domain": {
          "x": [
           0,
           1
          ],
          "y": [
           0,
           1
          ]
         },
         "hovertemplate": "Countries=%{label}<br>2019=%{value}<extra></extra>",
         "labels": [
          "EU countries",
          "CIS countries",
          "Other countries",
          "Other countries"
         ],
         "legendgroup": "",
         "name": "",
         "showlegend": true,
         "textinfo": "percent+label",
         "textposition": "inside",
         "type": "pie",
         "values": [
          426918.62600000005,
          144973.60090000002,
          757034.6676999999,
          14903.7709
         ]
        }
       ],
       "layout": {
        "height": 750,
        "legend": {
         "tracegroupgap": 0
        },
        "template": {
         "data": {
          "bar": [
           {
            "error_x": {
             "color": "#2a3f5f"
            },
            "error_y": {
             "color": "#2a3f5f"
            },
            "marker": {
             "line": {
              "color": "#E5ECF6",
              "width": 0.5
             },
             "pattern": {
              "fillmode": "overlay",
              "size": 10,
              "solidity": 0.2
             }
            },
            "type": "bar"
           }
          ],
          "barpolar": [
           {
            "marker": {
             "line": {
              "color": "#E5ECF6",
              "width": 0.5
             },
             "pattern": {
              "fillmode": "overlay",
              "size": 10,
              "solidity": 0.2
             }
            },
            "type": "barpolar"
           }
          ],
          "carpet": [
           {
            "aaxis": {
             "endlinecolor": "#2a3f5f",
             "gridcolor": "white",
             "linecolor": "white",
             "minorgridcolor": "white",
             "startlinecolor": "#2a3f5f"
            },
            "baxis": {
             "endlinecolor": "#2a3f5f",
             "gridcolor": "white",
             "linecolor": "white",
             "minorgridcolor": "white",
             "startlinecolor": "#2a3f5f"
            },
            "type": "carpet"
           }
          ],
          "choropleth": [
           {
            "colorbar": {
             "outlinewidth": 0,
             "ticks": ""
            },
            "type": "choropleth"
           }
          ],
          "contour": [
           {
            "colorbar": {
             "outlinewidth": 0,
             "ticks": ""
            },
            "colorscale": [
             [
              0,
              "#0d0887"
             ],
             [
              0.1111111111111111,
              "#46039f"
             ],
             [
              0.2222222222222222,
              "#7201a8"
             ],
             [
              0.3333333333333333,
              "#9c179e"
             ],
             [
              0.4444444444444444,
              "#bd3786"
             ],
             [
              0.5555555555555556,
              "#d8576b"
             ],
             [
              0.6666666666666666,
              "#ed7953"
             ],
             [
              0.7777777777777778,
              "#fb9f3a"
             ],
             [
              0.8888888888888888,
              "#fdca26"
             ],
             [
              1,
              "#f0f921"
             ]
            ],
            "type": "contour"
           }
          ],
          "contourcarpet": [
           {
            "colorbar": {
             "outlinewidth": 0,
             "ticks": ""
            },
            "type": "contourcarpet"
           }
          ],
          "heatmap": [
           {
            "colorbar": {
             "outlinewidth": 0,
             "ticks": ""
            },
            "colorscale": [
             [
              0,
              "#0d0887"
             ],
             [
              0.1111111111111111,
              "#46039f"
             ],
             [
              0.2222222222222222,
              "#7201a8"
             ],
             [
              0.3333333333333333,
              "#9c179e"
             ],
             [
              0.4444444444444444,
              "#bd3786"
             ],
             [
              0.5555555555555556,
              "#d8576b"
             ],
             [
              0.6666666666666666,
              "#ed7953"
             ],
             [
              0.7777777777777778,
              "#fb9f3a"
             ],
             [
              0.8888888888888888,
              "#fdca26"
             ],
             [
              1,
              "#f0f921"
             ]
            ],
            "type": "heatmap"
           }
          ],
          "heatmapgl": [
           {
            "colorbar": {
             "outlinewidth": 0,
             "ticks": ""
            },
            "colorscale": [
             [
              0,
              "#0d0887"
             ],
             [
              0.1111111111111111,
              "#46039f"
             ],
             [
              0.2222222222222222,
              "#7201a8"
             ],
             [
              0.3333333333333333,
              "#9c179e"
             ],
             [
              0.4444444444444444,
              "#bd3786"
             ],
             [
              0.5555555555555556,
              "#d8576b"
             ],
             [
              0.6666666666666666,
              "#ed7953"
             ],
             [
              0.7777777777777778,
              "#fb9f3a"
             ],
             [
              0.8888888888888888,
              "#fdca26"
             ],
             [
              1,
              "#f0f921"
             ]
            ],
            "type": "heatmapgl"
           }
          ],
          "histogram": [
           {
            "marker": {
             "pattern": {
              "fillmode": "overlay",
              "size": 10,
              "solidity": 0.2
             }
            },
            "type": "histogram"
           }
          ],
          "histogram2d": [
           {
            "colorbar": {
             "outlinewidth": 0,
             "ticks": ""
            },
            "colorscale": [
             [
              0,
              "#0d0887"
             ],
             [
              0.1111111111111111,
              "#46039f"
             ],
             [
              0.2222222222222222,
              "#7201a8"
             ],
             [
              0.3333333333333333,
              "#9c179e"
             ],
             [
              0.4444444444444444,
              "#bd3786"
             ],
             [
              0.5555555555555556,
              "#d8576b"
             ],
             [
              0.6666666666666666,
              "#ed7953"
             ],
             [
              0.7777777777777778,
              "#fb9f3a"
             ],
             [
              0.8888888888888888,
              "#fdca26"
             ],
             [
              1,
              "#f0f921"
             ]
            ],
            "type": "histogram2d"
           }
          ],
          "histogram2dcontour": [
           {
            "colorbar": {
             "outlinewidth": 0,
             "ticks": ""
            },
            "colorscale": [
             [
              0,
              "#0d0887"
             ],
             [
              0.1111111111111111,
              "#46039f"
             ],
             [
              0.2222222222222222,
              "#7201a8"
             ],
             [
              0.3333333333333333,
              "#9c179e"
             ],
             [
              0.4444444444444444,
              "#bd3786"
             ],
             [
              0.5555555555555556,
              "#d8576b"
             ],
             [
              0.6666666666666666,
              "#ed7953"
             ],
             [
              0.7777777777777778,
              "#fb9f3a"
             ],
             [
              0.8888888888888888,
              "#fdca26"
             ],
             [
              1,
              "#f0f921"
             ]
            ],
            "type": "histogram2dcontour"
           }
          ],
          "mesh3d": [
           {
            "colorbar": {
             "outlinewidth": 0,
             "ticks": ""
            },
            "type": "mesh3d"
           }
          ],
          "parcoords": [
           {
            "line": {
             "colorbar": {
              "outlinewidth": 0,
              "ticks": ""
             }
            },
            "type": "parcoords"
           }
          ],
          "pie": [
           {
            "automargin": true,
            "type": "pie"
           }
          ],
          "scatter": [
           {
            "marker": {
             "colorbar": {
              "outlinewidth": 0,
              "ticks": ""
             }
            },
            "type": "scatter"
           }
          ],
          "scatter3d": [
           {
            "line": {
             "colorbar": {
              "outlinewidth": 0,
              "ticks": ""
             }
            },
            "marker": {
             "colorbar": {
              "outlinewidth": 0,
              "ticks": ""
             }
            },
            "type": "scatter3d"
           }
          ],
          "scattercarpet": [
           {
            "marker": {
             "colorbar": {
              "outlinewidth": 0,
              "ticks": ""
             }
            },
            "type": "scattercarpet"
           }
          ],
          "scattergeo": [
           {
            "marker": {
             "colorbar": {
              "outlinewidth": 0,
              "ticks": ""
             }
            },
            "type": "scattergeo"
           }
          ],
          "scattergl": [
           {
            "marker": {
             "colorbar": {
              "outlinewidth": 0,
              "ticks": ""
             }
            },
            "type": "scattergl"
           }
          ],
          "scattermapbox": [
           {
            "marker": {
             "colorbar": {
              "outlinewidth": 0,
              "ticks": ""
             }
            },
            "type": "scattermapbox"
           }
          ],
          "scatterpolar": [
           {
            "marker": {
             "colorbar": {
              "outlinewidth": 0,
              "ticks": ""
             }
            },
            "type": "scatterpolar"
           }
          ],
          "scatterpolargl": [
           {
            "marker": {
             "colorbar": {
              "outlinewidth": 0,
              "ticks": ""
             }
            },
            "type": "scatterpolargl"
           }
          ],
          "scatterternary": [
           {
            "marker": {
             "colorbar": {
              "outlinewidth": 0,
              "ticks": ""
             }
            },
            "type": "scatterternary"
           }
          ],
          "surface": [
           {
            "colorbar": {
             "outlinewidth": 0,
             "ticks": ""
            },
            "colorscale": [
             [
              0,
              "#0d0887"
             ],
             [
              0.1111111111111111,
              "#46039f"
             ],
             [
              0.2222222222222222,
              "#7201a8"
             ],
             [
              0.3333333333333333,
              "#9c179e"
             ],
             [
              0.4444444444444444,
              "#bd3786"
             ],
             [
              0.5555555555555556,
              "#d8576b"
             ],
             [
              0.6666666666666666,
              "#ed7953"
             ],
             [
              0.7777777777777778,
              "#fb9f3a"
             ],
             [
              0.8888888888888888,
              "#fdca26"
             ],
             [
              1,
              "#f0f921"
             ]
            ],
            "type": "surface"
           }
          ],
          "table": [
           {
            "cells": {
             "fill": {
              "color": "#EBF0F8"
             },
             "line": {
              "color": "white"
             }
            },
            "header": {
             "fill": {
              "color": "#C8D4E3"
             },
             "line": {
              "color": "white"
             }
            },
            "type": "table"
           }
          ]
         },
         "layout": {
          "annotationdefaults": {
           "arrowcolor": "#2a3f5f",
           "arrowhead": 0,
           "arrowwidth": 1
          },
          "autotypenumbers": "strict",
          "coloraxis": {
           "colorbar": {
            "outlinewidth": 0,
            "ticks": ""
           }
          },
          "colorscale": {
           "diverging": [
            [
             0,
             "#8e0152"
            ],
            [
             0.1,
             "#c51b7d"
            ],
            [
             0.2,
             "#de77ae"
            ],
            [
             0.3,
             "#f1b6da"
            ],
            [
             0.4,
             "#fde0ef"
            ],
            [
             0.5,
             "#f7f7f7"
            ],
            [
             0.6,
             "#e6f5d0"
            ],
            [
             0.7,
             "#b8e186"
            ],
            [
             0.8,
             "#7fbc41"
            ],
            [
             0.9,
             "#4d9221"
            ],
            [
             1,
             "#276419"
            ]
           ],
           "sequential": [
            [
             0,
             "#0d0887"
            ],
            [
             0.1111111111111111,
             "#46039f"
            ],
            [
             0.2222222222222222,
             "#7201a8"
            ],
            [
             0.3333333333333333,
             "#9c179e"
            ],
            [
             0.4444444444444444,
             "#bd3786"
            ],
            [
             0.5555555555555556,
             "#d8576b"
            ],
            [
             0.6666666666666666,
             "#ed7953"
            ],
            [
             0.7777777777777778,
             "#fb9f3a"
            ],
            [
             0.8888888888888888,
             "#fdca26"
            ],
            [
             1,
             "#f0f921"
            ]
           ],
           "sequentialminus": [
            [
             0,
             "#0d0887"
            ],
            [
             0.1111111111111111,
             "#46039f"
            ],
            [
             0.2222222222222222,
             "#7201a8"
            ],
            [
             0.3333333333333333,
             "#9c179e"
            ],
            [
             0.4444444444444444,
             "#bd3786"
            ],
            [
             0.5555555555555556,
             "#d8576b"
            ],
            [
             0.6666666666666666,
             "#ed7953"
            ],
            [
             0.7777777777777778,
             "#fb9f3a"
            ],
            [
             0.8888888888888888,
             "#fdca26"
            ],
            [
             1,
             "#f0f921"
            ]
           ]
          },
          "colorway": [
           "#636efa",
           "#EF553B",
           "#00cc96",
           "#ab63fa",
           "#FFA15A",
           "#19d3f3",
           "#FF6692",
           "#B6E880",
           "#FF97FF",
           "#FECB52"
          ],
          "font": {
           "color": "#2a3f5f"
          },
          "geo": {
           "bgcolor": "white",
           "lakecolor": "white",
           "landcolor": "#E5ECF6",
           "showlakes": true,
           "showland": true,
           "subunitcolor": "white"
          },
          "hoverlabel": {
           "align": "left"
          },
          "hovermode": "closest",
          "mapbox": {
           "style": "light"
          },
          "paper_bgcolor": "white",
          "plot_bgcolor": "#E5ECF6",
          "polar": {
           "angularaxis": {
            "gridcolor": "white",
            "linecolor": "white",
            "ticks": ""
           },
           "bgcolor": "#E5ECF6",
           "radialaxis": {
            "gridcolor": "white",
            "linecolor": "white",
            "ticks": ""
           }
          },
          "scene": {
           "xaxis": {
            "backgroundcolor": "#E5ECF6",
            "gridcolor": "white",
            "gridwidth": 2,
            "linecolor": "white",
            "showbackground": true,
            "ticks": "",
            "zerolinecolor": "white"
           },
           "yaxis": {
            "backgroundcolor": "#E5ECF6",
            "gridcolor": "white",
            "gridwidth": 2,
            "linecolor": "white",
            "showbackground": true,
            "ticks": "",
            "zerolinecolor": "white"
           },
           "zaxis": {
            "backgroundcolor": "#E5ECF6",
            "gridcolor": "white",
            "gridwidth": 2,
            "linecolor": "white",
            "showbackground": true,
            "ticks": "",
            "zerolinecolor": "white"
           }
          },
          "shapedefaults": {
           "line": {
            "color": "#2a3f5f"
           }
          },
          "ternary": {
           "aaxis": {
            "gridcolor": "white",
            "linecolor": "white",
            "ticks": ""
           },
           "baxis": {
            "gridcolor": "white",
            "linecolor": "white",
            "ticks": ""
           },
           "bgcolor": "#E5ECF6",
           "caxis": {
            "gridcolor": "white",
            "linecolor": "white",
            "ticks": ""
           }
          },
          "title": {
           "x": 0.05
          },
          "xaxis": {
           "automargin": true,
           "gridcolor": "white",
           "linecolor": "white",
           "ticks": "",
           "title": {
            "standoff": 15
           },
           "zerolinecolor": "white",
           "zerolinewidth": 2
          },
          "yaxis": {
           "automargin": true,
           "gridcolor": "white",
           "linecolor": "white",
           "ticks": "",
           "title": {
            "standoff": 15
           },
           "zerolinecolor": "white",
           "zerolinewidth": 2
          }
         }
        },
        "title": {
         "text": "FDI by Country in 2021 (preliminary values)"
        }
       }
      }
     },
     "metadata": {},
     "output_type": "display_data"
    }
   ],
   "source": [
    "fig3 = px.pie(df_FDICountry.loc[[\"EU countries\",\"CIS countries\", \"Other countries\"]], values = 2019,names = \"Countries\", title = \"FDI by Country in 2019 (preliminary values)\", height = 750)\n",
    "fig3.update_traces(textposition='inside', textinfo='percent+label')\n",
    "fig3.show()"
   ]
  },
  {
   "cell_type": "code",
   "execution_count": 26,
   "id": "3876d125",
   "metadata": {},
   "outputs": [
    {
     "data": {
      "application/vnd.plotly.v1+json": {
       "config": {
        "plotlyServerURL": "https://plot.ly"
       },
       "data": [
        {
         "domain": {
          "x": [
           0,
           1
          ],
          "y": [
           0,
           1
          ]
         },
         "hovertemplate": "Countries=%{label}<br>2017=%{value}<extra></extra>",
         "labels": [
          "EU countries",
          "CIS countries",
          "Other countries",
          "Other countries"
         ],
         "legendgroup": "",
         "name": "",
         "showlegend": true,
         "textinfo": "percent+label",
         "textposition": "inside",
         "type": "pie",
         "values": [
          558531.1222,
          519342.8812000001,
          900383.2493000001,
          12658.967700000005
         ]
        }
       ],
       "layout": {
        "height": 750,
        "legend": {
         "tracegroupgap": 0
        },
        "template": {
         "data": {
          "bar": [
           {
            "error_x": {
             "color": "#2a3f5f"
            },
            "error_y": {
             "color": "#2a3f5f"
            },
            "marker": {
             "line": {
              "color": "#E5ECF6",
              "width": 0.5
             },
             "pattern": {
              "fillmode": "overlay",
              "size": 10,
              "solidity": 0.2
             }
            },
            "type": "bar"
           }
          ],
          "barpolar": [
           {
            "marker": {
             "line": {
              "color": "#E5ECF6",
              "width": 0.5
             },
             "pattern": {
              "fillmode": "overlay",
              "size": 10,
              "solidity": 0.2
             }
            },
            "type": "barpolar"
           }
          ],
          "carpet": [
           {
            "aaxis": {
             "endlinecolor": "#2a3f5f",
             "gridcolor": "white",
             "linecolor": "white",
             "minorgridcolor": "white",
             "startlinecolor": "#2a3f5f"
            },
            "baxis": {
             "endlinecolor": "#2a3f5f",
             "gridcolor": "white",
             "linecolor": "white",
             "minorgridcolor": "white",
             "startlinecolor": "#2a3f5f"
            },
            "type": "carpet"
           }
          ],
          "choropleth": [
           {
            "colorbar": {
             "outlinewidth": 0,
             "ticks": ""
            },
            "type": "choropleth"
           }
          ],
          "contour": [
           {
            "colorbar": {
             "outlinewidth": 0,
             "ticks": ""
            },
            "colorscale": [
             [
              0,
              "#0d0887"
             ],
             [
              0.1111111111111111,
              "#46039f"
             ],
             [
              0.2222222222222222,
              "#7201a8"
             ],
             [
              0.3333333333333333,
              "#9c179e"
             ],
             [
              0.4444444444444444,
              "#bd3786"
             ],
             [
              0.5555555555555556,
              "#d8576b"
             ],
             [
              0.6666666666666666,
              "#ed7953"
             ],
             [
              0.7777777777777778,
              "#fb9f3a"
             ],
             [
              0.8888888888888888,
              "#fdca26"
             ],
             [
              1,
              "#f0f921"
             ]
            ],
            "type": "contour"
           }
          ],
          "contourcarpet": [
           {
            "colorbar": {
             "outlinewidth": 0,
             "ticks": ""
            },
            "type": "contourcarpet"
           }
          ],
          "heatmap": [
           {
            "colorbar": {
             "outlinewidth": 0,
             "ticks": ""
            },
            "colorscale": [
             [
              0,
              "#0d0887"
             ],
             [
              0.1111111111111111,
              "#46039f"
             ],
             [
              0.2222222222222222,
              "#7201a8"
             ],
             [
              0.3333333333333333,
              "#9c179e"
             ],
             [
              0.4444444444444444,
              "#bd3786"
             ],
             [
              0.5555555555555556,
              "#d8576b"
             ],
             [
              0.6666666666666666,
              "#ed7953"
             ],
             [
              0.7777777777777778,
              "#fb9f3a"
             ],
             [
              0.8888888888888888,
              "#fdca26"
             ],
             [
              1,
              "#f0f921"
             ]
            ],
            "type": "heatmap"
           }
          ],
          "heatmapgl": [
           {
            "colorbar": {
             "outlinewidth": 0,
             "ticks": ""
            },
            "colorscale": [
             [
              0,
              "#0d0887"
             ],
             [
              0.1111111111111111,
              "#46039f"
             ],
             [
              0.2222222222222222,
              "#7201a8"
             ],
             [
              0.3333333333333333,
              "#9c179e"
             ],
             [
              0.4444444444444444,
              "#bd3786"
             ],
             [
              0.5555555555555556,
              "#d8576b"
             ],
             [
              0.6666666666666666,
              "#ed7953"
             ],
             [
              0.7777777777777778,
              "#fb9f3a"
             ],
             [
              0.8888888888888888,
              "#fdca26"
             ],
             [
              1,
              "#f0f921"
             ]
            ],
            "type": "heatmapgl"
           }
          ],
          "histogram": [
           {
            "marker": {
             "pattern": {
              "fillmode": "overlay",
              "size": 10,
              "solidity": 0.2
             }
            },
            "type": "histogram"
           }
          ],
          "histogram2d": [
           {
            "colorbar": {
             "outlinewidth": 0,
             "ticks": ""
            },
            "colorscale": [
             [
              0,
              "#0d0887"
             ],
             [
              0.1111111111111111,
              "#46039f"
             ],
             [
              0.2222222222222222,
              "#7201a8"
             ],
             [
              0.3333333333333333,
              "#9c179e"
             ],
             [
              0.4444444444444444,
              "#bd3786"
             ],
             [
              0.5555555555555556,
              "#d8576b"
             ],
             [
              0.6666666666666666,
              "#ed7953"
             ],
             [
              0.7777777777777778,
              "#fb9f3a"
             ],
             [
              0.8888888888888888,
              "#fdca26"
             ],
             [
              1,
              "#f0f921"
             ]
            ],
            "type": "histogram2d"
           }
          ],
          "histogram2dcontour": [
           {
            "colorbar": {
             "outlinewidth": 0,
             "ticks": ""
            },
            "colorscale": [
             [
              0,
              "#0d0887"
             ],
             [
              0.1111111111111111,
              "#46039f"
             ],
             [
              0.2222222222222222,
              "#7201a8"
             ],
             [
              0.3333333333333333,
              "#9c179e"
             ],
             [
              0.4444444444444444,
              "#bd3786"
             ],
             [
              0.5555555555555556,
              "#d8576b"
             ],
             [
              0.6666666666666666,
              "#ed7953"
             ],
             [
              0.7777777777777778,
              "#fb9f3a"
             ],
             [
              0.8888888888888888,
              "#fdca26"
             ],
             [
              1,
              "#f0f921"
             ]
            ],
            "type": "histogram2dcontour"
           }
          ],
          "mesh3d": [
           {
            "colorbar": {
             "outlinewidth": 0,
             "ticks": ""
            },
            "type": "mesh3d"
           }
          ],
          "parcoords": [
           {
            "line": {
             "colorbar": {
              "outlinewidth": 0,
              "ticks": ""
             }
            },
            "type": "parcoords"
           }
          ],
          "pie": [
           {
            "automargin": true,
            "type": "pie"
           }
          ],
          "scatter": [
           {
            "marker": {
             "colorbar": {
              "outlinewidth": 0,
              "ticks": ""
             }
            },
            "type": "scatter"
           }
          ],
          "scatter3d": [
           {
            "line": {
             "colorbar": {
              "outlinewidth": 0,
              "ticks": ""
             }
            },
            "marker": {
             "colorbar": {
              "outlinewidth": 0,
              "ticks": ""
             }
            },
            "type": "scatter3d"
           }
          ],
          "scattercarpet": [
           {
            "marker": {
             "colorbar": {
              "outlinewidth": 0,
              "ticks": ""
             }
            },
            "type": "scattercarpet"
           }
          ],
          "scattergeo": [
           {
            "marker": {
             "colorbar": {
              "outlinewidth": 0,
              "ticks": ""
             }
            },
            "type": "scattergeo"
           }
          ],
          "scattergl": [
           {
            "marker": {
             "colorbar": {
              "outlinewidth": 0,
              "ticks": ""
             }
            },
            "type": "scattergl"
           }
          ],
          "scattermapbox": [
           {
            "marker": {
             "colorbar": {
              "outlinewidth": 0,
              "ticks": ""
             }
            },
            "type": "scattermapbox"
           }
          ],
          "scatterpolar": [
           {
            "marker": {
             "colorbar": {
              "outlinewidth": 0,
              "ticks": ""
             }
            },
            "type": "scatterpolar"
           }
          ],
          "scatterpolargl": [
           {
            "marker": {
             "colorbar": {
              "outlinewidth": 0,
              "ticks": ""
             }
            },
            "type": "scatterpolargl"
           }
          ],
          "scatterternary": [
           {
            "marker": {
             "colorbar": {
              "outlinewidth": 0,
              "ticks": ""
             }
            },
            "type": "scatterternary"
           }
          ],
          "surface": [
           {
            "colorbar": {
             "outlinewidth": 0,
             "ticks": ""
            },
            "colorscale": [
             [
              0,
              "#0d0887"
             ],
             [
              0.1111111111111111,
              "#46039f"
             ],
             [
              0.2222222222222222,
              "#7201a8"
             ],
             [
              0.3333333333333333,
              "#9c179e"
             ],
             [
              0.4444444444444444,
              "#bd3786"
             ],
             [
              0.5555555555555556,
              "#d8576b"
             ],
             [
              0.6666666666666666,
              "#ed7953"
             ],
             [
              0.7777777777777778,
              "#fb9f3a"
             ],
             [
              0.8888888888888888,
              "#fdca26"
             ],
             [
              1,
              "#f0f921"
             ]
            ],
            "type": "surface"
           }
          ],
          "table": [
           {
            "cells": {
             "fill": {
              "color": "#EBF0F8"
             },
             "line": {
              "color": "white"
             }
            },
            "header": {
             "fill": {
              "color": "#C8D4E3"
             },
             "line": {
              "color": "white"
             }
            },
            "type": "table"
           }
          ]
         },
         "layout": {
          "annotationdefaults": {
           "arrowcolor": "#2a3f5f",
           "arrowhead": 0,
           "arrowwidth": 1
          },
          "autotypenumbers": "strict",
          "coloraxis": {
           "colorbar": {
            "outlinewidth": 0,
            "ticks": ""
           }
          },
          "colorscale": {
           "diverging": [
            [
             0,
             "#8e0152"
            ],
            [
             0.1,
             "#c51b7d"
            ],
            [
             0.2,
             "#de77ae"
            ],
            [
             0.3,
             "#f1b6da"
            ],
            [
             0.4,
             "#fde0ef"
            ],
            [
             0.5,
             "#f7f7f7"
            ],
            [
             0.6,
             "#e6f5d0"
            ],
            [
             0.7,
             "#b8e186"
            ],
            [
             0.8,
             "#7fbc41"
            ],
            [
             0.9,
             "#4d9221"
            ],
            [
             1,
             "#276419"
            ]
           ],
           "sequential": [
            [
             0,
             "#0d0887"
            ],
            [
             0.1111111111111111,
             "#46039f"
            ],
            [
             0.2222222222222222,
             "#7201a8"
            ],
            [
             0.3333333333333333,
             "#9c179e"
            ],
            [
             0.4444444444444444,
             "#bd3786"
            ],
            [
             0.5555555555555556,
             "#d8576b"
            ],
            [
             0.6666666666666666,
             "#ed7953"
            ],
            [
             0.7777777777777778,
             "#fb9f3a"
            ],
            [
             0.8888888888888888,
             "#fdca26"
            ],
            [
             1,
             "#f0f921"
            ]
           ],
           "sequentialminus": [
            [
             0,
             "#0d0887"
            ],
            [
             0.1111111111111111,
             "#46039f"
            ],
            [
             0.2222222222222222,
             "#7201a8"
            ],
            [
             0.3333333333333333,
             "#9c179e"
            ],
            [
             0.4444444444444444,
             "#bd3786"
            ],
            [
             0.5555555555555556,
             "#d8576b"
            ],
            [
             0.6666666666666666,
             "#ed7953"
            ],
            [
             0.7777777777777778,
             "#fb9f3a"
            ],
            [
             0.8888888888888888,
             "#fdca26"
            ],
            [
             1,
             "#f0f921"
            ]
           ]
          },
          "colorway": [
           "#636efa",
           "#EF553B",
           "#00cc96",
           "#ab63fa",
           "#FFA15A",
           "#19d3f3",
           "#FF6692",
           "#B6E880",
           "#FF97FF",
           "#FECB52"
          ],
          "font": {
           "color": "#2a3f5f"
          },
          "geo": {
           "bgcolor": "white",
           "lakecolor": "white",
           "landcolor": "#E5ECF6",
           "showlakes": true,
           "showland": true,
           "subunitcolor": "white"
          },
          "hoverlabel": {
           "align": "left"
          },
          "hovermode": "closest",
          "mapbox": {
           "style": "light"
          },
          "paper_bgcolor": "white",
          "plot_bgcolor": "#E5ECF6",
          "polar": {
           "angularaxis": {
            "gridcolor": "white",
            "linecolor": "white",
            "ticks": ""
           },
           "bgcolor": "#E5ECF6",
           "radialaxis": {
            "gridcolor": "white",
            "linecolor": "white",
            "ticks": ""
           }
          },
          "scene": {
           "xaxis": {
            "backgroundcolor": "#E5ECF6",
            "gridcolor": "white",
            "gridwidth": 2,
            "linecolor": "white",
            "showbackground": true,
            "ticks": "",
            "zerolinecolor": "white"
           },
           "yaxis": {
            "backgroundcolor": "#E5ECF6",
            "gridcolor": "white",
            "gridwidth": 2,
            "linecolor": "white",
            "showbackground": true,
            "ticks": "",
            "zerolinecolor": "white"
           },
           "zaxis": {
            "backgroundcolor": "#E5ECF6",
            "gridcolor": "white",
            "gridwidth": 2,
            "linecolor": "white",
            "showbackground": true,
            "ticks": "",
            "zerolinecolor": "white"
           }
          },
          "shapedefaults": {
           "line": {
            "color": "#2a3f5f"
           }
          },
          "ternary": {
           "aaxis": {
            "gridcolor": "white",
            "linecolor": "white",
            "ticks": ""
           },
           "baxis": {
            "gridcolor": "white",
            "linecolor": "white",
            "ticks": ""
           },
           "bgcolor": "#E5ECF6",
           "caxis": {
            "gridcolor": "white",
            "linecolor": "white",
            "ticks": ""
           }
          },
          "title": {
           "x": 0.05
          },
          "xaxis": {
           "automargin": true,
           "gridcolor": "white",
           "linecolor": "white",
           "ticks": "",
           "title": {
            "standoff": 15
           },
           "zerolinecolor": "white",
           "zerolinewidth": 2
          },
          "yaxis": {
           "automargin": true,
           "gridcolor": "white",
           "linecolor": "white",
           "ticks": "",
           "title": {
            "standoff": 15
           },
           "zerolinecolor": "white",
           "zerolinewidth": 2
          }
         }
        },
        "title": {
         "text": "FDI by Country in 2021 (preliminary values)"
        }
       }
      }
     },
     "metadata": {},
     "output_type": "display_data"
    }
   ],
   "source": [
    "fig4 = px.pie(df_FDICountry.loc[[\"EU countries\",\"CIS countries\", \"Other countries\"]], values = 2017,names = \"Countries\", title = \"FDI by Country in 2017 (preliminary values)\", height = 750)\n",
    "fig4.update_traces(textposition='inside', textinfo='percent+label')\n",
    "fig4.show()"
   ]
  },
  {
   "cell_type": "code",
   "execution_count": 47,
   "id": "ba6e3f56",
   "metadata": {},
   "outputs": [
    {
     "data": {
      "application/vnd.plotly.v1+json": {
       "config": {
        "plotlyServerURL": "https://plot.ly"
       },
       "data": [
        {
         "domain": {
          "x": [
           0,
           1
          ],
          "y": [
           0,
           1
          ]
         },
         "hovertemplate": "Countries=%{label}<br>2017=%{value}<extra></extra>",
         "labels": [
          "Austria",
          "Belgium",
          "Bulgaria",
          "Croatia",
          "Cyprus",
          "Czech Republic",
          "Denmark",
          "Estonia",
          "Finland",
          "France",
          "Germany",
          "Greece",
          "Hungary",
          "Ireland",
          "Italy",
          "Latvia",
          "Lithuania (Lietuva)",
          "Luxembourg",
          "Malta",
          "Netherlands",
          "Poland",
          "Portugal",
          "Romania",
          "Slovakia",
          "Slovenia",
          "Spain",
          "Sweden",
          "Azerbaijan",
          "Armenia",
          "Belarus",
          "Kazakhstan",
          "Kyrgyzstan",
          "Moldova",
          "Russia",
          "Turkmenistan",
          "Ukraine",
          "Uzbekistan",
          "Argentina",
          "Australia",
          "Bahamas",
          "Belize",
          "Virgin Islands, British",
          "Canada",
          "Cayman Islands",
          "China",
          "Gibraltar",
          "Hong Kong, SAR of China",
          "Iceland",
          "India",
          "Iran",
          "Iraq",
          "Israel",
          "Japan",
          "Jordan",
          "Korea",
          "Lebanon",
          "Libya",
          "Liechtenstein",
          "Mauritius",
          "Norway",
          "Marshall Islands",
          "Panama",
          "Philippines",
          "Qatar",
          "Saint Kitts and Nevis",
          "Saudi Arabia",
          "Seychelles",
          "Switzerland",
          "Syrian",
          "United Arab Emirates",
          "Turkey",
          "Egypt",
          "United Kingdom",
          "United States",
          "Unknown",
          "International Organizations"
         ],
         "legendgroup": "",
         "name": "",
         "showlegend": true,
         "textinfo": "percent+label",
         "textposition": "inside",
         "type": "pie",
         "values": [
          6287.270499999998,
          4313.4712,
          4858.6562,
          467.18820000000005,
          12913.440700000006,
          129097.274,
          -4457.082700000002,
          18489.0778,
          -435.8257,
          21092.414900000003,
          -94507.71600000001,
          675.7194999999999,
          2105.6886,
          190.4969,
          8260.9008,
          -33854.2047,
          2506.653,
          100714.59220000001,
          9984.076200000003,
          355278.9608,
          1310.9894,
          885.4689000000001,
          727.3345999999999,
          2753.7078,
          997.0346000000001,
          5835.863800000001,
          2039.6707000000001,
          460500.84010000015,
          6931.9268,
          538.9898000000001,
          -9408.809100000002,
          122.4244,
          43.558600000000006,
          51318.7092,
          2586.9372000000008,
          5512.206900000002,
          1196.0973000000004,
          69.393,
          3469.6208000000006,
          97.463,
          2055.9574000000002,
          -23034.190500000004,
          193.00779999999992,
          -1638.5926000000004,
          19364.383700000006,
          1914.3475999999998,
          1577.6401,
          -653.1487,
          9311.537399999997,
          5506.6249,
          540.7538999999999,
          6737.869799999997,
          18364.4159,
          1026.5032,
          36238.7756,
          2402.7376,
          90.81200000000001,
          2861.3175,
          -7804.530599999999,
          730.6708,
          2861.7898999999998,
          27175.4701,
          -0.3630000000000002,
          8661.428600000001,
          1090.1009,
          -4456.338100000001,
          5165.3879,
          35654.277200000004,
          983.1902999999998,
          147084.0538,
          256215.3004,
          -281.0827,
          249032.36200000002,
          79115.3347,
          0,
          2516.0898999999995
         ]
        }
       ],
       "layout": {
        "height": 750,
        "legend": {
         "tracegroupgap": 0
        },
        "template": {
         "data": {
          "bar": [
           {
            "error_x": {
             "color": "#2a3f5f"
            },
            "error_y": {
             "color": "#2a3f5f"
            },
            "marker": {
             "line": {
              "color": "#E5ECF6",
              "width": 0.5
             },
             "pattern": {
              "fillmode": "overlay",
              "size": 10,
              "solidity": 0.2
             }
            },
            "type": "bar"
           }
          ],
          "barpolar": [
           {
            "marker": {
             "line": {
              "color": "#E5ECF6",
              "width": 0.5
             },
             "pattern": {
              "fillmode": "overlay",
              "size": 10,
              "solidity": 0.2
             }
            },
            "type": "barpolar"
           }
          ],
          "carpet": [
           {
            "aaxis": {
             "endlinecolor": "#2a3f5f",
             "gridcolor": "white",
             "linecolor": "white",
             "minorgridcolor": "white",
             "startlinecolor": "#2a3f5f"
            },
            "baxis": {
             "endlinecolor": "#2a3f5f",
             "gridcolor": "white",
             "linecolor": "white",
             "minorgridcolor": "white",
             "startlinecolor": "#2a3f5f"
            },
            "type": "carpet"
           }
          ],
          "choropleth": [
           {
            "colorbar": {
             "outlinewidth": 0,
             "ticks": ""
            },
            "type": "choropleth"
           }
          ],
          "contour": [
           {
            "colorbar": {
             "outlinewidth": 0,
             "ticks": ""
            },
            "colorscale": [
             [
              0,
              "#0d0887"
             ],
             [
              0.1111111111111111,
              "#46039f"
             ],
             [
              0.2222222222222222,
              "#7201a8"
             ],
             [
              0.3333333333333333,
              "#9c179e"
             ],
             [
              0.4444444444444444,
              "#bd3786"
             ],
             [
              0.5555555555555556,
              "#d8576b"
             ],
             [
              0.6666666666666666,
              "#ed7953"
             ],
             [
              0.7777777777777778,
              "#fb9f3a"
             ],
             [
              0.8888888888888888,
              "#fdca26"
             ],
             [
              1,
              "#f0f921"
             ]
            ],
            "type": "contour"
           }
          ],
          "contourcarpet": [
           {
            "colorbar": {
             "outlinewidth": 0,
             "ticks": ""
            },
            "type": "contourcarpet"
           }
          ],
          "heatmap": [
           {
            "colorbar": {
             "outlinewidth": 0,
             "ticks": ""
            },
            "colorscale": [
             [
              0,
              "#0d0887"
             ],
             [
              0.1111111111111111,
              "#46039f"
             ],
             [
              0.2222222222222222,
              "#7201a8"
             ],
             [
              0.3333333333333333,
              "#9c179e"
             ],
             [
              0.4444444444444444,
              "#bd3786"
             ],
             [
              0.5555555555555556,
              "#d8576b"
             ],
             [
              0.6666666666666666,
              "#ed7953"
             ],
             [
              0.7777777777777778,
              "#fb9f3a"
             ],
             [
              0.8888888888888888,
              "#fdca26"
             ],
             [
              1,
              "#f0f921"
             ]
            ],
            "type": "heatmap"
           }
          ],
          "heatmapgl": [
           {
            "colorbar": {
             "outlinewidth": 0,
             "ticks": ""
            },
            "colorscale": [
             [
              0,
              "#0d0887"
             ],
             [
              0.1111111111111111,
              "#46039f"
             ],
             [
              0.2222222222222222,
              "#7201a8"
             ],
             [
              0.3333333333333333,
              "#9c179e"
             ],
             [
              0.4444444444444444,
              "#bd3786"
             ],
             [
              0.5555555555555556,
              "#d8576b"
             ],
             [
              0.6666666666666666,
              "#ed7953"
             ],
             [
              0.7777777777777778,
              "#fb9f3a"
             ],
             [
              0.8888888888888888,
              "#fdca26"
             ],
             [
              1,
              "#f0f921"
             ]
            ],
            "type": "heatmapgl"
           }
          ],
          "histogram": [
           {
            "marker": {
             "pattern": {
              "fillmode": "overlay",
              "size": 10,
              "solidity": 0.2
             }
            },
            "type": "histogram"
           }
          ],
          "histogram2d": [
           {
            "colorbar": {
             "outlinewidth": 0,
             "ticks": ""
            },
            "colorscale": [
             [
              0,
              "#0d0887"
             ],
             [
              0.1111111111111111,
              "#46039f"
             ],
             [
              0.2222222222222222,
              "#7201a8"
             ],
             [
              0.3333333333333333,
              "#9c179e"
             ],
             [
              0.4444444444444444,
              "#bd3786"
             ],
             [
              0.5555555555555556,
              "#d8576b"
             ],
             [
              0.6666666666666666,
              "#ed7953"
             ],
             [
              0.7777777777777778,
              "#fb9f3a"
             ],
             [
              0.8888888888888888,
              "#fdca26"
             ],
             [
              1,
              "#f0f921"
             ]
            ],
            "type": "histogram2d"
           }
          ],
          "histogram2dcontour": [
           {
            "colorbar": {
             "outlinewidth": 0,
             "ticks": ""
            },
            "colorscale": [
             [
              0,
              "#0d0887"
             ],
             [
              0.1111111111111111,
              "#46039f"
             ],
             [
              0.2222222222222222,
              "#7201a8"
             ],
             [
              0.3333333333333333,
              "#9c179e"
             ],
             [
              0.4444444444444444,
              "#bd3786"
             ],
             [
              0.5555555555555556,
              "#d8576b"
             ],
             [
              0.6666666666666666,
              "#ed7953"
             ],
             [
              0.7777777777777778,
              "#fb9f3a"
             ],
             [
              0.8888888888888888,
              "#fdca26"
             ],
             [
              1,
              "#f0f921"
             ]
            ],
            "type": "histogram2dcontour"
           }
          ],
          "mesh3d": [
           {
            "colorbar": {
             "outlinewidth": 0,
             "ticks": ""
            },
            "type": "mesh3d"
           }
          ],
          "parcoords": [
           {
            "line": {
             "colorbar": {
              "outlinewidth": 0,
              "ticks": ""
             }
            },
            "type": "parcoords"
           }
          ],
          "pie": [
           {
            "automargin": true,
            "type": "pie"
           }
          ],
          "scatter": [
           {
            "marker": {
             "colorbar": {
              "outlinewidth": 0,
              "ticks": ""
             }
            },
            "type": "scatter"
           }
          ],
          "scatter3d": [
           {
            "line": {
             "colorbar": {
              "outlinewidth": 0,
              "ticks": ""
             }
            },
            "marker": {
             "colorbar": {
              "outlinewidth": 0,
              "ticks": ""
             }
            },
            "type": "scatter3d"
           }
          ],
          "scattercarpet": [
           {
            "marker": {
             "colorbar": {
              "outlinewidth": 0,
              "ticks": ""
             }
            },
            "type": "scattercarpet"
           }
          ],
          "scattergeo": [
           {
            "marker": {
             "colorbar": {
              "outlinewidth": 0,
              "ticks": ""
             }
            },
            "type": "scattergeo"
           }
          ],
          "scattergl": [
           {
            "marker": {
             "colorbar": {
              "outlinewidth": 0,
              "ticks": ""
             }
            },
            "type": "scattergl"
           }
          ],
          "scattermapbox": [
           {
            "marker": {
             "colorbar": {
              "outlinewidth": 0,
              "ticks": ""
             }
            },
            "type": "scattermapbox"
           }
          ],
          "scatterpolar": [
           {
            "marker": {
             "colorbar": {
              "outlinewidth": 0,
              "ticks": ""
             }
            },
            "type": "scatterpolar"
           }
          ],
          "scatterpolargl": [
           {
            "marker": {
             "colorbar": {
              "outlinewidth": 0,
              "ticks": ""
             }
            },
            "type": "scatterpolargl"
           }
          ],
          "scatterternary": [
           {
            "marker": {
             "colorbar": {
              "outlinewidth": 0,
              "ticks": ""
             }
            },
            "type": "scatterternary"
           }
          ],
          "surface": [
           {
            "colorbar": {
             "outlinewidth": 0,
             "ticks": ""
            },
            "colorscale": [
             [
              0,
              "#0d0887"
             ],
             [
              0.1111111111111111,
              "#46039f"
             ],
             [
              0.2222222222222222,
              "#7201a8"
             ],
             [
              0.3333333333333333,
              "#9c179e"
             ],
             [
              0.4444444444444444,
              "#bd3786"
             ],
             [
              0.5555555555555556,
              "#d8576b"
             ],
             [
              0.6666666666666666,
              "#ed7953"
             ],
             [
              0.7777777777777778,
              "#fb9f3a"
             ],
             [
              0.8888888888888888,
              "#fdca26"
             ],
             [
              1,
              "#f0f921"
             ]
            ],
            "type": "surface"
           }
          ],
          "table": [
           {
            "cells": {
             "fill": {
              "color": "#EBF0F8"
             },
             "line": {
              "color": "white"
             }
            },
            "header": {
             "fill": {
              "color": "#C8D4E3"
             },
             "line": {
              "color": "white"
             }
            },
            "type": "table"
           }
          ]
         },
         "layout": {
          "annotationdefaults": {
           "arrowcolor": "#2a3f5f",
           "arrowhead": 0,
           "arrowwidth": 1
          },
          "autotypenumbers": "strict",
          "coloraxis": {
           "colorbar": {
            "outlinewidth": 0,
            "ticks": ""
           }
          },
          "colorscale": {
           "diverging": [
            [
             0,
             "#8e0152"
            ],
            [
             0.1,
             "#c51b7d"
            ],
            [
             0.2,
             "#de77ae"
            ],
            [
             0.3,
             "#f1b6da"
            ],
            [
             0.4,
             "#fde0ef"
            ],
            [
             0.5,
             "#f7f7f7"
            ],
            [
             0.6,
             "#e6f5d0"
            ],
            [
             0.7,
             "#b8e186"
            ],
            [
             0.8,
             "#7fbc41"
            ],
            [
             0.9,
             "#4d9221"
            ],
            [
             1,
             "#276419"
            ]
           ],
           "sequential": [
            [
             0,
             "#0d0887"
            ],
            [
             0.1111111111111111,
             "#46039f"
            ],
            [
             0.2222222222222222,
             "#7201a8"
            ],
            [
             0.3333333333333333,
             "#9c179e"
            ],
            [
             0.4444444444444444,
             "#bd3786"
            ],
            [
             0.5555555555555556,
             "#d8576b"
            ],
            [
             0.6666666666666666,
             "#ed7953"
            ],
            [
             0.7777777777777778,
             "#fb9f3a"
            ],
            [
             0.8888888888888888,
             "#fdca26"
            ],
            [
             1,
             "#f0f921"
            ]
           ],
           "sequentialminus": [
            [
             0,
             "#0d0887"
            ],
            [
             0.1111111111111111,
             "#46039f"
            ],
            [
             0.2222222222222222,
             "#7201a8"
            ],
            [
             0.3333333333333333,
             "#9c179e"
            ],
            [
             0.4444444444444444,
             "#bd3786"
            ],
            [
             0.5555555555555556,
             "#d8576b"
            ],
            [
             0.6666666666666666,
             "#ed7953"
            ],
            [
             0.7777777777777778,
             "#fb9f3a"
            ],
            [
             0.8888888888888888,
             "#fdca26"
            ],
            [
             1,
             "#f0f921"
            ]
           ]
          },
          "colorway": [
           "#636efa",
           "#EF553B",
           "#00cc96",
           "#ab63fa",
           "#FFA15A",
           "#19d3f3",
           "#FF6692",
           "#B6E880",
           "#FF97FF",
           "#FECB52"
          ],
          "font": {
           "color": "#2a3f5f"
          },
          "geo": {
           "bgcolor": "white",
           "lakecolor": "white",
           "landcolor": "#E5ECF6",
           "showlakes": true,
           "showland": true,
           "subunitcolor": "white"
          },
          "hoverlabel": {
           "align": "left"
          },
          "hovermode": "closest",
          "mapbox": {
           "style": "light"
          },
          "paper_bgcolor": "white",
          "plot_bgcolor": "#E5ECF6",
          "polar": {
           "angularaxis": {
            "gridcolor": "white",
            "linecolor": "white",
            "ticks": ""
           },
           "bgcolor": "#E5ECF6",
           "radialaxis": {
            "gridcolor": "white",
            "linecolor": "white",
            "ticks": ""
           }
          },
          "scene": {
           "xaxis": {
            "backgroundcolor": "#E5ECF6",
            "gridcolor": "white",
            "gridwidth": 2,
            "linecolor": "white",
            "showbackground": true,
            "ticks": "",
            "zerolinecolor": "white"
           },
           "yaxis": {
            "backgroundcolor": "#E5ECF6",
            "gridcolor": "white",
            "gridwidth": 2,
            "linecolor": "white",
            "showbackground": true,
            "ticks": "",
            "zerolinecolor": "white"
           },
           "zaxis": {
            "backgroundcolor": "#E5ECF6",
            "gridcolor": "white",
            "gridwidth": 2,
            "linecolor": "white",
            "showbackground": true,
            "ticks": "",
            "zerolinecolor": "white"
           }
          },
          "shapedefaults": {
           "line": {
            "color": "#2a3f5f"
           }
          },
          "ternary": {
           "aaxis": {
            "gridcolor": "white",
            "linecolor": "white",
            "ticks": ""
           },
           "baxis": {
            "gridcolor": "white",
            "linecolor": "white",
            "ticks": ""
           },
           "bgcolor": "#E5ECF6",
           "caxis": {
            "gridcolor": "white",
            "linecolor": "white",
            "ticks": ""
           }
          },
          "title": {
           "x": 0.05
          },
          "xaxis": {
           "automargin": true,
           "gridcolor": "white",
           "linecolor": "white",
           "ticks": "",
           "title": {
            "standoff": 15
           },
           "zerolinecolor": "white",
           "zerolinewidth": 2
          },
          "yaxis": {
           "automargin": true,
           "gridcolor": "white",
           "linecolor": "white",
           "ticks": "",
           "title": {
            "standoff": 15
           },
           "zerolinecolor": "white",
           "zerolinewidth": 2
          }
         }
        },
        "title": {
         "text": "FDI by Country in 2017 (preliminary values)"
        }
       }
      }
     },
     "metadata": {},
     "output_type": "display_data"
    }
   ],
   "source": [
    "fig5 = px.pie(df_FDICountry2.set_index('index').T.reset_index(), values = 2017,names = \"Countries\", title = \"FDI by Country in 2017 (preliminary values)\", height = 750)\n",
    "fig5.update_traces(textposition='inside', textinfo='percent+label')\n",
    "fig5.show()"
   ]
  },
  {
   "cell_type": "code",
   "execution_count": 46,
   "id": "a827a198",
   "metadata": {},
   "outputs": [
    {
     "data": {
      "text/html": [
       "<div>\n",
       "<style scoped>\n",
       "    .dataframe tbody tr th:only-of-type {\n",
       "        vertical-align: middle;\n",
       "    }\n",
       "\n",
       "    .dataframe tbody tr th {\n",
       "        vertical-align: top;\n",
       "    }\n",
       "\n",
       "    .dataframe thead th {\n",
       "        text-align: right;\n",
       "    }\n",
       "</style>\n",
       "<table border=\"1\" class=\"dataframe\">\n",
       "  <thead>\n",
       "    <tr style=\"text-align: right;\">\n",
       "      <th>index</th>\n",
       "      <th>Countries</th>\n",
       "      <th>1996</th>\n",
       "      <th>1997</th>\n",
       "      <th>1998</th>\n",
       "      <th>1999</th>\n",
       "      <th>2000</th>\n",
       "      <th>2001</th>\n",
       "      <th>2002</th>\n",
       "      <th>2003</th>\n",
       "      <th>2004</th>\n",
       "      <th>...</th>\n",
       "      <th>2012</th>\n",
       "      <th>2013</th>\n",
       "      <th>2014</th>\n",
       "      <th>2015</th>\n",
       "      <th>2016</th>\n",
       "      <th>2017</th>\n",
       "      <th>2018</th>\n",
       "      <th>2019</th>\n",
       "      <th>2020</th>\n",
       "      <th>2021</th>\n",
       "    </tr>\n",
       "  </thead>\n",
       "  <tbody>\n",
       "    <tr>\n",
       "      <th>0</th>\n",
       "      <td>Austria</td>\n",
       "      <td>0.0</td>\n",
       "      <td>18688.224320</td>\n",
       "      <td>18876.639337</td>\n",
       "      <td>0.000000</td>\n",
       "      <td>0.000000</td>\n",
       "      <td>0.000000</td>\n",
       "      <td>-137.208960</td>\n",
       "      <td>17971.165858</td>\n",
       "      <td>23019.989682</td>\n",
       "      <td>...</td>\n",
       "      <td>25999.225115</td>\n",
       "      <td>7008.170988</td>\n",
       "      <td>8000.442038</td>\n",
       "      <td>19621.375218</td>\n",
       "      <td>27805.2789</td>\n",
       "      <td>6287.2705</td>\n",
       "      <td>17361.0086</td>\n",
       "      <td>15231.2078</td>\n",
       "      <td>-10654.2515</td>\n",
       "      <td>5937.8846</td>\n",
       "    </tr>\n",
       "    <tr>\n",
       "      <th>1</th>\n",
       "      <td>Belgium</td>\n",
       "      <td>0.0</td>\n",
       "      <td>0.000000</td>\n",
       "      <td>0.000000</td>\n",
       "      <td>0.000000</td>\n",
       "      <td>0.000000</td>\n",
       "      <td>0.000000</td>\n",
       "      <td>0.000000</td>\n",
       "      <td>0.000000</td>\n",
       "      <td>0.000000</td>\n",
       "      <td>...</td>\n",
       "      <td>-844.806600</td>\n",
       "      <td>637.326800</td>\n",
       "      <td>1485.556000</td>\n",
       "      <td>280.287500</td>\n",
       "      <td>17867.4493</td>\n",
       "      <td>4313.4712</td>\n",
       "      <td>3482.8453</td>\n",
       "      <td>1522.7314</td>\n",
       "      <td>4857.8513</td>\n",
       "      <td>2079.7791</td>\n",
       "    </tr>\n",
       "    <tr>\n",
       "      <th>2</th>\n",
       "      <td>Bulgaria</td>\n",
       "      <td>0.0</td>\n",
       "      <td>0.000000</td>\n",
       "      <td>0.000000</td>\n",
       "      <td>46.930700</td>\n",
       "      <td>2172.174954</td>\n",
       "      <td>2238.914739</td>\n",
       "      <td>0.000000</td>\n",
       "      <td>0.000000</td>\n",
       "      <td>0.000000</td>\n",
       "      <td>...</td>\n",
       "      <td>2269.496800</td>\n",
       "      <td>2566.307524</td>\n",
       "      <td>9151.545297</td>\n",
       "      <td>7196.698753</td>\n",
       "      <td>1647.1676</td>\n",
       "      <td>4858.6562</td>\n",
       "      <td>7426.7465</td>\n",
       "      <td>5857.0467</td>\n",
       "      <td>-1739.1844</td>\n",
       "      <td>4050.1764</td>\n",
       "    </tr>\n",
       "    <tr>\n",
       "      <th>3</th>\n",
       "      <td>Croatia</td>\n",
       "      <td>0.0</td>\n",
       "      <td>0.000000</td>\n",
       "      <td>0.000000</td>\n",
       "      <td>0.000000</td>\n",
       "      <td>0.000000</td>\n",
       "      <td>0.000000</td>\n",
       "      <td>0.000000</td>\n",
       "      <td>0.000000</td>\n",
       "      <td>0.000000</td>\n",
       "      <td>...</td>\n",
       "      <td>0.000000</td>\n",
       "      <td>0.000000</td>\n",
       "      <td>0.000000</td>\n",
       "      <td>0.000000</td>\n",
       "      <td>0.0000</td>\n",
       "      <td>467.1882</td>\n",
       "      <td>2028.2268</td>\n",
       "      <td>794.0375</td>\n",
       "      <td>-326.6672</td>\n",
       "      <td>48.2965</td>\n",
       "    </tr>\n",
       "    <tr>\n",
       "      <th>4</th>\n",
       "      <td>Cyprus</td>\n",
       "      <td>0.0</td>\n",
       "      <td>0.000000</td>\n",
       "      <td>0.000000</td>\n",
       "      <td>895.013450</td>\n",
       "      <td>3921.109728</td>\n",
       "      <td>19209.077981</td>\n",
       "      <td>1062.712164</td>\n",
       "      <td>675.727949</td>\n",
       "      <td>21333.115095</td>\n",
       "      <td>...</td>\n",
       "      <td>45960.292137</td>\n",
       "      <td>-44285.398773</td>\n",
       "      <td>-5141.807923</td>\n",
       "      <td>-26983.805912</td>\n",
       "      <td>-6497.4591</td>\n",
       "      <td>12913.4407</td>\n",
       "      <td>-86440.4475</td>\n",
       "      <td>23659.5798</td>\n",
       "      <td>-42690.1804</td>\n",
       "      <td>-27719.5973</td>\n",
       "    </tr>\n",
       "    <tr>\n",
       "      <th>...</th>\n",
       "      <td>...</td>\n",
       "      <td>...</td>\n",
       "      <td>...</td>\n",
       "      <td>...</td>\n",
       "      <td>...</td>\n",
       "      <td>...</td>\n",
       "      <td>...</td>\n",
       "      <td>...</td>\n",
       "      <td>...</td>\n",
       "      <td>...</td>\n",
       "      <td>...</td>\n",
       "      <td>...</td>\n",
       "      <td>...</td>\n",
       "      <td>...</td>\n",
       "      <td>...</td>\n",
       "      <td>...</td>\n",
       "      <td>...</td>\n",
       "      <td>...</td>\n",
       "      <td>...</td>\n",
       "      <td>...</td>\n",
       "      <td>...</td>\n",
       "    </tr>\n",
       "    <tr>\n",
       "      <th>71</th>\n",
       "      <td>Egypt</td>\n",
       "      <td>0.0</td>\n",
       "      <td>0.000000</td>\n",
       "      <td>0.000000</td>\n",
       "      <td>0.000000</td>\n",
       "      <td>0.000000</td>\n",
       "      <td>0.000000</td>\n",
       "      <td>0.000000</td>\n",
       "      <td>0.000000</td>\n",
       "      <td>0.000000</td>\n",
       "      <td>...</td>\n",
       "      <td>0.000000</td>\n",
       "      <td>1488.712127</td>\n",
       "      <td>373.477036</td>\n",
       "      <td>-1101.273630</td>\n",
       "      <td>-292.8497</td>\n",
       "      <td>-281.0827</td>\n",
       "      <td>661.5227</td>\n",
       "      <td>558.9500</td>\n",
       "      <td>2566.8159</td>\n",
       "      <td>2740.4529</td>\n",
       "    </tr>\n",
       "    <tr>\n",
       "      <th>72</th>\n",
       "      <td>United Kingdom</td>\n",
       "      <td>0.0</td>\n",
       "      <td>24985.511495</td>\n",
       "      <td>26471.589257</td>\n",
       "      <td>5036.176714</td>\n",
       "      <td>4823.975704</td>\n",
       "      <td>8508.687993</td>\n",
       "      <td>14719.529864</td>\n",
       "      <td>34842.840181</td>\n",
       "      <td>85099.450378</td>\n",
       "      <td>...</td>\n",
       "      <td>95536.664823</td>\n",
       "      <td>55171.312715</td>\n",
       "      <td>108850.796451</td>\n",
       "      <td>399346.841345</td>\n",
       "      <td>87849.5420</td>\n",
       "      <td>249032.3620</td>\n",
       "      <td>182923.8353</td>\n",
       "      <td>236860.4844</td>\n",
       "      <td>302984.8908</td>\n",
       "      <td>596616.9694</td>\n",
       "    </tr>\n",
       "    <tr>\n",
       "      <th>73</th>\n",
       "      <td>United States</td>\n",
       "      <td>0.0</td>\n",
       "      <td>96651.887424</td>\n",
       "      <td>104427.226180</td>\n",
       "      <td>59151.289331</td>\n",
       "      <td>38717.651556</td>\n",
       "      <td>23281.158381</td>\n",
       "      <td>81609.826028</td>\n",
       "      <td>71603.885369</td>\n",
       "      <td>80753.732613</td>\n",
       "      <td>...</td>\n",
       "      <td>20253.999100</td>\n",
       "      <td>53885.224061</td>\n",
       "      <td>184442.755304</td>\n",
       "      <td>18898.423706</td>\n",
       "      <td>59817.1044</td>\n",
       "      <td>79115.3347</td>\n",
       "      <td>104964.0622</td>\n",
       "      <td>115592.2585</td>\n",
       "      <td>98440.9332</td>\n",
       "      <td>6150.9768</td>\n",
       "    </tr>\n",
       "    <tr>\n",
       "      <th>74</th>\n",
       "      <td>Unknown</td>\n",
       "      <td>0.0</td>\n",
       "      <td>0.000000</td>\n",
       "      <td>0.000000</td>\n",
       "      <td>0.000000</td>\n",
       "      <td>0.000000</td>\n",
       "      <td>0.000000</td>\n",
       "      <td>627.861590</td>\n",
       "      <td>853.614440</td>\n",
       "      <td>268.314400</td>\n",
       "      <td>...</td>\n",
       "      <td>0.000000</td>\n",
       "      <td>0.000000</td>\n",
       "      <td>0.000000</td>\n",
       "      <td>6743.034700</td>\n",
       "      <td>-4702.3455</td>\n",
       "      <td>0.0000</td>\n",
       "      <td>0.0000</td>\n",
       "      <td>0.0000</td>\n",
       "      <td>0.0000</td>\n",
       "      <td>0.0000</td>\n",
       "    </tr>\n",
       "    <tr>\n",
       "      <th>75</th>\n",
       "      <td>International Organizations</td>\n",
       "      <td>0.0</td>\n",
       "      <td>0.000000</td>\n",
       "      <td>0.000000</td>\n",
       "      <td>0.000000</td>\n",
       "      <td>0.000000</td>\n",
       "      <td>0.000000</td>\n",
       "      <td>448.531800</td>\n",
       "      <td>1235.937360</td>\n",
       "      <td>776.706830</td>\n",
       "      <td>...</td>\n",
       "      <td>63454.726500</td>\n",
       "      <td>54680.836317</td>\n",
       "      <td>-105980.379157</td>\n",
       "      <td>39779.528091</td>\n",
       "      <td>43125.7175</td>\n",
       "      <td>2516.0899</td>\n",
       "      <td>1627.4711</td>\n",
       "      <td>6883.7493</td>\n",
       "      <td>1458.0451</td>\n",
       "      <td>3690.0591</td>\n",
       "    </tr>\n",
       "  </tbody>\n",
       "</table>\n",
       "<p>76 rows × 27 columns</p>\n",
       "</div>"
      ],
      "text/plain": [
       "index                    Countries  1996          1997           1998  \\\n",
       "0                          Austria   0.0  18688.224320   18876.639337   \n",
       "1                          Belgium   0.0      0.000000       0.000000   \n",
       "2                         Bulgaria   0.0      0.000000       0.000000   \n",
       "3                          Croatia   0.0      0.000000       0.000000   \n",
       "4                           Cyprus   0.0      0.000000       0.000000   \n",
       "..                             ...   ...           ...            ...   \n",
       "71                           Egypt   0.0      0.000000       0.000000   \n",
       "72                  United Kingdom   0.0  24985.511495   26471.589257   \n",
       "73                   United States   0.0  96651.887424  104427.226180   \n",
       "74                         Unknown   0.0      0.000000       0.000000   \n",
       "75     International Organizations   0.0      0.000000       0.000000   \n",
       "\n",
       "index          1999          2000          2001          2002          2003  \\\n",
       "0          0.000000      0.000000      0.000000   -137.208960  17971.165858   \n",
       "1          0.000000      0.000000      0.000000      0.000000      0.000000   \n",
       "2         46.930700   2172.174954   2238.914739      0.000000      0.000000   \n",
       "3          0.000000      0.000000      0.000000      0.000000      0.000000   \n",
       "4        895.013450   3921.109728  19209.077981   1062.712164    675.727949   \n",
       "..              ...           ...           ...           ...           ...   \n",
       "71         0.000000      0.000000      0.000000      0.000000      0.000000   \n",
       "72      5036.176714   4823.975704   8508.687993  14719.529864  34842.840181   \n",
       "73     59151.289331  38717.651556  23281.158381  81609.826028  71603.885369   \n",
       "74         0.000000      0.000000      0.000000    627.861590    853.614440   \n",
       "75         0.000000      0.000000      0.000000    448.531800   1235.937360   \n",
       "\n",
       "index          2004  ...          2012          2013           2014  \\\n",
       "0      23019.989682  ...  25999.225115   7008.170988    8000.442038   \n",
       "1          0.000000  ...   -844.806600    637.326800    1485.556000   \n",
       "2          0.000000  ...   2269.496800   2566.307524    9151.545297   \n",
       "3          0.000000  ...      0.000000      0.000000       0.000000   \n",
       "4      21333.115095  ...  45960.292137 -44285.398773   -5141.807923   \n",
       "..              ...  ...           ...           ...            ...   \n",
       "71         0.000000  ...      0.000000   1488.712127     373.477036   \n",
       "72     85099.450378  ...  95536.664823  55171.312715  108850.796451   \n",
       "73     80753.732613  ...  20253.999100  53885.224061  184442.755304   \n",
       "74       268.314400  ...      0.000000      0.000000       0.000000   \n",
       "75       776.706830  ...  63454.726500  54680.836317 -105980.379157   \n",
       "\n",
       "index           2015        2016         2017         2018         2019  \\\n",
       "0       19621.375218  27805.2789    6287.2705   17361.0086   15231.2078   \n",
       "1         280.287500  17867.4493    4313.4712    3482.8453    1522.7314   \n",
       "2        7196.698753   1647.1676    4858.6562    7426.7465    5857.0467   \n",
       "3           0.000000      0.0000     467.1882    2028.2268     794.0375   \n",
       "4      -26983.805912  -6497.4591   12913.4407  -86440.4475   23659.5798   \n",
       "..               ...         ...          ...          ...          ...   \n",
       "71      -1101.273630   -292.8497    -281.0827     661.5227     558.9500   \n",
       "72     399346.841345  87849.5420  249032.3620  182923.8353  236860.4844   \n",
       "73      18898.423706  59817.1044   79115.3347  104964.0622  115592.2585   \n",
       "74       6743.034700  -4702.3455       0.0000       0.0000       0.0000   \n",
       "75      39779.528091  43125.7175    2516.0899    1627.4711    6883.7493   \n",
       "\n",
       "index         2020         2021  \n",
       "0      -10654.2515    5937.8846  \n",
       "1        4857.8513    2079.7791  \n",
       "2       -1739.1844    4050.1764  \n",
       "3        -326.6672      48.2965  \n",
       "4      -42690.1804  -27719.5973  \n",
       "..             ...          ...  \n",
       "71       2566.8159    2740.4529  \n",
       "72     302984.8908  596616.9694  \n",
       "73      98440.9332    6150.9768  \n",
       "74          0.0000       0.0000  \n",
       "75       1458.0451    3690.0591  \n",
       "\n",
       "[76 rows x 27 columns]"
      ]
     },
     "execution_count": 46,
     "metadata": {},
     "output_type": "execute_result"
    }
   ],
   "source": [
    "df_FDICountry2.set_index('index').T.reset_index()"
   ]
  },
  {
   "cell_type": "code",
   "execution_count": 48,
   "id": "a090f9a0",
   "metadata": {},
   "outputs": [
    {
     "data": {
      "application/vnd.plotly.v1+json": {
       "config": {
        "plotlyServerURL": "https://plot.ly"
       },
       "data": [
        {
         "domain": {
          "x": [
           0,
           1
          ],
          "y": [
           0,
           1
          ]
         },
         "hovertemplate": "Countries=%{label}<br>2019=%{value}<extra></extra>",
         "labels": [
          "Austria",
          "Belgium",
          "Bulgaria",
          "Croatia",
          "Cyprus",
          "Czech Republic",
          "Denmark",
          "Estonia",
          "Finland",
          "France",
          "Germany",
          "Greece",
          "Hungary",
          "Ireland",
          "Italy",
          "Latvia",
          "Lithuania (Lietuva)",
          "Luxembourg",
          "Malta",
          "Netherlands",
          "Poland",
          "Portugal",
          "Romania",
          "Slovakia",
          "Slovenia",
          "Spain",
          "Sweden",
          "Azerbaijan",
          "Armenia",
          "Belarus",
          "Kazakhstan",
          "Kyrgyzstan",
          "Moldova",
          "Russia",
          "Turkmenistan",
          "Ukraine",
          "Uzbekistan",
          "Argentina",
          "Australia",
          "Bahamas",
          "Belize",
          "Virgin Islands, British",
          "Canada",
          "Cayman Islands",
          "China",
          "Gibraltar",
          "Hong Kong, SAR of China",
          "Iceland",
          "India",
          "Iran",
          "Iraq",
          "Israel",
          "Japan",
          "Jordan",
          "Korea",
          "Lebanon",
          "Libya",
          "Liechtenstein",
          "Mauritius",
          "Norway",
          "Marshall Islands",
          "Panama",
          "Philippines",
          "Qatar",
          "Saint Kitts and Nevis",
          "Saudi Arabia",
          "Seychelles",
          "Switzerland",
          "Syrian",
          "United Arab Emirates",
          "Turkey",
          "Egypt",
          "United Kingdom",
          "United States",
          "Unknown",
          "International Organizations"
         ],
         "legendgroup": "",
         "name": "",
         "showlegend": true,
         "textinfo": "percent+label",
         "textposition": "inside",
         "type": "pie",
         "values": [
          15231.207800000004,
          1522.7314000000001,
          5857.0467,
          794.0374999999999,
          23659.5798,
          17592.692500000005,
          2754.372300000001,
          3879.199399999999,
          2216.4143999999997,
          20114.753600000004,
          23663.853700000003,
          1286.5997,
          2735.8586999999998,
          133240.9951,
          -266.4677999999999,
          2108.8642,
          3994.64,
          68838.7905,
          1201.4031000000032,
          88054.33260000002,
          3600.0191000000004,
          -154.5442,
          278.6114,
          1881.5939999999998,
          1184.4070000000002,
          -3058.918600000001,
          4706.552100000001,
          38878.952700000016,
          14766.711399999998,
          293.908,
          7398.1469000000025,
          51.35460000000009,
          18.945000000000004,
          55228.18860000001,
          1656.7801,
          25877.76299999999,
          802.8506,
          0,
          2624.9260999999997,
          -2801.4893,
          -11248.292900000002,
          -34716.2577,
          325.78550000000007,
          -3711.6037000000006,
          43751.85690000001,
          1191.5364,
          -7595.501199999999,
          -1452.7458000000004,
          6517.469900000002,
          3078.0895000000014,
          -13025.869600000002,
          22290.256999999998,
          39535.8166,
          -1216.6981,
          22408.687400000003,
          2211.5312999999996,
          0,
          493.14869999999996,
          4032.2229,
          -120.2650999999999,
          34010.9644,
          76830.09879999999,
          46.0643,
          7450.3099,
          -1684.1855000000005,
          -214.8637000000001,
          3056.0476,
          -3753.0678000000044,
          362.1273,
          26268.382,
          174174.72179999988,
          558.9499999999999,
          236860.4844,
          115592.2585,
          0,
          6883.7492999999995
         ]
        }
       ],
       "layout": {
        "height": 750,
        "legend": {
         "tracegroupgap": 0
        },
        "template": {
         "data": {
          "bar": [
           {
            "error_x": {
             "color": "#2a3f5f"
            },
            "error_y": {
             "color": "#2a3f5f"
            },
            "marker": {
             "line": {
              "color": "#E5ECF6",
              "width": 0.5
             },
             "pattern": {
              "fillmode": "overlay",
              "size": 10,
              "solidity": 0.2
             }
            },
            "type": "bar"
           }
          ],
          "barpolar": [
           {
            "marker": {
             "line": {
              "color": "#E5ECF6",
              "width": 0.5
             },
             "pattern": {
              "fillmode": "overlay",
              "size": 10,
              "solidity": 0.2
             }
            },
            "type": "barpolar"
           }
          ],
          "carpet": [
           {
            "aaxis": {
             "endlinecolor": "#2a3f5f",
             "gridcolor": "white",
             "linecolor": "white",
             "minorgridcolor": "white",
             "startlinecolor": "#2a3f5f"
            },
            "baxis": {
             "endlinecolor": "#2a3f5f",
             "gridcolor": "white",
             "linecolor": "white",
             "minorgridcolor": "white",
             "startlinecolor": "#2a3f5f"
            },
            "type": "carpet"
           }
          ],
          "choropleth": [
           {
            "colorbar": {
             "outlinewidth": 0,
             "ticks": ""
            },
            "type": "choropleth"
           }
          ],
          "contour": [
           {
            "colorbar": {
             "outlinewidth": 0,
             "ticks": ""
            },
            "colorscale": [
             [
              0,
              "#0d0887"
             ],
             [
              0.1111111111111111,
              "#46039f"
             ],
             [
              0.2222222222222222,
              "#7201a8"
             ],
             [
              0.3333333333333333,
              "#9c179e"
             ],
             [
              0.4444444444444444,
              "#bd3786"
             ],
             [
              0.5555555555555556,
              "#d8576b"
             ],
             [
              0.6666666666666666,
              "#ed7953"
             ],
             [
              0.7777777777777778,
              "#fb9f3a"
             ],
             [
              0.8888888888888888,
              "#fdca26"
             ],
             [
              1,
              "#f0f921"
             ]
            ],
            "type": "contour"
           }
          ],
          "contourcarpet": [
           {
            "colorbar": {
             "outlinewidth": 0,
             "ticks": ""
            },
            "type": "contourcarpet"
           }
          ],
          "heatmap": [
           {
            "colorbar": {
             "outlinewidth": 0,
             "ticks": ""
            },
            "colorscale": [
             [
              0,
              "#0d0887"
             ],
             [
              0.1111111111111111,
              "#46039f"
             ],
             [
              0.2222222222222222,
              "#7201a8"
             ],
             [
              0.3333333333333333,
              "#9c179e"
             ],
             [
              0.4444444444444444,
              "#bd3786"
             ],
             [
              0.5555555555555556,
              "#d8576b"
             ],
             [
              0.6666666666666666,
              "#ed7953"
             ],
             [
              0.7777777777777778,
              "#fb9f3a"
             ],
             [
              0.8888888888888888,
              "#fdca26"
             ],
             [
              1,
              "#f0f921"
             ]
            ],
            "type": "heatmap"
           }
          ],
          "heatmapgl": [
           {
            "colorbar": {
             "outlinewidth": 0,
             "ticks": ""
            },
            "colorscale": [
             [
              0,
              "#0d0887"
             ],
             [
              0.1111111111111111,
              "#46039f"
             ],
             [
              0.2222222222222222,
              "#7201a8"
             ],
             [
              0.3333333333333333,
              "#9c179e"
             ],
             [
              0.4444444444444444,
              "#bd3786"
             ],
             [
              0.5555555555555556,
              "#d8576b"
             ],
             [
              0.6666666666666666,
              "#ed7953"
             ],
             [
              0.7777777777777778,
              "#fb9f3a"
             ],
             [
              0.8888888888888888,
              "#fdca26"
             ],
             [
              1,
              "#f0f921"
             ]
            ],
            "type": "heatmapgl"
           }
          ],
          "histogram": [
           {
            "marker": {
             "pattern": {
              "fillmode": "overlay",
              "size": 10,
              "solidity": 0.2
             }
            },
            "type": "histogram"
           }
          ],
          "histogram2d": [
           {
            "colorbar": {
             "outlinewidth": 0,
             "ticks": ""
            },
            "colorscale": [
             [
              0,
              "#0d0887"
             ],
             [
              0.1111111111111111,
              "#46039f"
             ],
             [
              0.2222222222222222,
              "#7201a8"
             ],
             [
              0.3333333333333333,
              "#9c179e"
             ],
             [
              0.4444444444444444,
              "#bd3786"
             ],
             [
              0.5555555555555556,
              "#d8576b"
             ],
             [
              0.6666666666666666,
              "#ed7953"
             ],
             [
              0.7777777777777778,
              "#fb9f3a"
             ],
             [
              0.8888888888888888,
              "#fdca26"
             ],
             [
              1,
              "#f0f921"
             ]
            ],
            "type": "histogram2d"
           }
          ],
          "histogram2dcontour": [
           {
            "colorbar": {
             "outlinewidth": 0,
             "ticks": ""
            },
            "colorscale": [
             [
              0,
              "#0d0887"
             ],
             [
              0.1111111111111111,
              "#46039f"
             ],
             [
              0.2222222222222222,
              "#7201a8"
             ],
             [
              0.3333333333333333,
              "#9c179e"
             ],
             [
              0.4444444444444444,
              "#bd3786"
             ],
             [
              0.5555555555555556,
              "#d8576b"
             ],
             [
              0.6666666666666666,
              "#ed7953"
             ],
             [
              0.7777777777777778,
              "#fb9f3a"
             ],
             [
              0.8888888888888888,
              "#fdca26"
             ],
             [
              1,
              "#f0f921"
             ]
            ],
            "type": "histogram2dcontour"
           }
          ],
          "mesh3d": [
           {
            "colorbar": {
             "outlinewidth": 0,
             "ticks": ""
            },
            "type": "mesh3d"
           }
          ],
          "parcoords": [
           {
            "line": {
             "colorbar": {
              "outlinewidth": 0,
              "ticks": ""
             }
            },
            "type": "parcoords"
           }
          ],
          "pie": [
           {
            "automargin": true,
            "type": "pie"
           }
          ],
          "scatter": [
           {
            "marker": {
             "colorbar": {
              "outlinewidth": 0,
              "ticks": ""
             }
            },
            "type": "scatter"
           }
          ],
          "scatter3d": [
           {
            "line": {
             "colorbar": {
              "outlinewidth": 0,
              "ticks": ""
             }
            },
            "marker": {
             "colorbar": {
              "outlinewidth": 0,
              "ticks": ""
             }
            },
            "type": "scatter3d"
           }
          ],
          "scattercarpet": [
           {
            "marker": {
             "colorbar": {
              "outlinewidth": 0,
              "ticks": ""
             }
            },
            "type": "scattercarpet"
           }
          ],
          "scattergeo": [
           {
            "marker": {
             "colorbar": {
              "outlinewidth": 0,
              "ticks": ""
             }
            },
            "type": "scattergeo"
           }
          ],
          "scattergl": [
           {
            "marker": {
             "colorbar": {
              "outlinewidth": 0,
              "ticks": ""
             }
            },
            "type": "scattergl"
           }
          ],
          "scattermapbox": [
           {
            "marker": {
             "colorbar": {
              "outlinewidth": 0,
              "ticks": ""
             }
            },
            "type": "scattermapbox"
           }
          ],
          "scatterpolar": [
           {
            "marker": {
             "colorbar": {
              "outlinewidth": 0,
              "ticks": ""
             }
            },
            "type": "scatterpolar"
           }
          ],
          "scatterpolargl": [
           {
            "marker": {
             "colorbar": {
              "outlinewidth": 0,
              "ticks": ""
             }
            },
            "type": "scatterpolargl"
           }
          ],
          "scatterternary": [
           {
            "marker": {
             "colorbar": {
              "outlinewidth": 0,
              "ticks": ""
             }
            },
            "type": "scatterternary"
           }
          ],
          "surface": [
           {
            "colorbar": {
             "outlinewidth": 0,
             "ticks": ""
            },
            "colorscale": [
             [
              0,
              "#0d0887"
             ],
             [
              0.1111111111111111,
              "#46039f"
             ],
             [
              0.2222222222222222,
              "#7201a8"
             ],
             [
              0.3333333333333333,
              "#9c179e"
             ],
             [
              0.4444444444444444,
              "#bd3786"
             ],
             [
              0.5555555555555556,
              "#d8576b"
             ],
             [
              0.6666666666666666,
              "#ed7953"
             ],
             [
              0.7777777777777778,
              "#fb9f3a"
             ],
             [
              0.8888888888888888,
              "#fdca26"
             ],
             [
              1,
              "#f0f921"
             ]
            ],
            "type": "surface"
           }
          ],
          "table": [
           {
            "cells": {
             "fill": {
              "color": "#EBF0F8"
             },
             "line": {
              "color": "white"
             }
            },
            "header": {
             "fill": {
              "color": "#C8D4E3"
             },
             "line": {
              "color": "white"
             }
            },
            "type": "table"
           }
          ]
         },
         "layout": {
          "annotationdefaults": {
           "arrowcolor": "#2a3f5f",
           "arrowhead": 0,
           "arrowwidth": 1
          },
          "autotypenumbers": "strict",
          "coloraxis": {
           "colorbar": {
            "outlinewidth": 0,
            "ticks": ""
           }
          },
          "colorscale": {
           "diverging": [
            [
             0,
             "#8e0152"
            ],
            [
             0.1,
             "#c51b7d"
            ],
            [
             0.2,
             "#de77ae"
            ],
            [
             0.3,
             "#f1b6da"
            ],
            [
             0.4,
             "#fde0ef"
            ],
            [
             0.5,
             "#f7f7f7"
            ],
            [
             0.6,
             "#e6f5d0"
            ],
            [
             0.7,
             "#b8e186"
            ],
            [
             0.8,
             "#7fbc41"
            ],
            [
             0.9,
             "#4d9221"
            ],
            [
             1,
             "#276419"
            ]
           ],
           "sequential": [
            [
             0,
             "#0d0887"
            ],
            [
             0.1111111111111111,
             "#46039f"
            ],
            [
             0.2222222222222222,
             "#7201a8"
            ],
            [
             0.3333333333333333,
             "#9c179e"
            ],
            [
             0.4444444444444444,
             "#bd3786"
            ],
            [
             0.5555555555555556,
             "#d8576b"
            ],
            [
             0.6666666666666666,
             "#ed7953"
            ],
            [
             0.7777777777777778,
             "#fb9f3a"
            ],
            [
             0.8888888888888888,
             "#fdca26"
            ],
            [
             1,
             "#f0f921"
            ]
           ],
           "sequentialminus": [
            [
             0,
             "#0d0887"
            ],
            [
             0.1111111111111111,
             "#46039f"
            ],
            [
             0.2222222222222222,
             "#7201a8"
            ],
            [
             0.3333333333333333,
             "#9c179e"
            ],
            [
             0.4444444444444444,
             "#bd3786"
            ],
            [
             0.5555555555555556,
             "#d8576b"
            ],
            [
             0.6666666666666666,
             "#ed7953"
            ],
            [
             0.7777777777777778,
             "#fb9f3a"
            ],
            [
             0.8888888888888888,
             "#fdca26"
            ],
            [
             1,
             "#f0f921"
            ]
           ]
          },
          "colorway": [
           "#636efa",
           "#EF553B",
           "#00cc96",
           "#ab63fa",
           "#FFA15A",
           "#19d3f3",
           "#FF6692",
           "#B6E880",
           "#FF97FF",
           "#FECB52"
          ],
          "font": {
           "color": "#2a3f5f"
          },
          "geo": {
           "bgcolor": "white",
           "lakecolor": "white",
           "landcolor": "#E5ECF6",
           "showlakes": true,
           "showland": true,
           "subunitcolor": "white"
          },
          "hoverlabel": {
           "align": "left"
          },
          "hovermode": "closest",
          "mapbox": {
           "style": "light"
          },
          "paper_bgcolor": "white",
          "plot_bgcolor": "#E5ECF6",
          "polar": {
           "angularaxis": {
            "gridcolor": "white",
            "linecolor": "white",
            "ticks": ""
           },
           "bgcolor": "#E5ECF6",
           "radialaxis": {
            "gridcolor": "white",
            "linecolor": "white",
            "ticks": ""
           }
          },
          "scene": {
           "xaxis": {
            "backgroundcolor": "#E5ECF6",
            "gridcolor": "white",
            "gridwidth": 2,
            "linecolor": "white",
            "showbackground": true,
            "ticks": "",
            "zerolinecolor": "white"
           },
           "yaxis": {
            "backgroundcolor": "#E5ECF6",
            "gridcolor": "white",
            "gridwidth": 2,
            "linecolor": "white",
            "showbackground": true,
            "ticks": "",
            "zerolinecolor": "white"
           },
           "zaxis": {
            "backgroundcolor": "#E5ECF6",
            "gridcolor": "white",
            "gridwidth": 2,
            "linecolor": "white",
            "showbackground": true,
            "ticks": "",
            "zerolinecolor": "white"
           }
          },
          "shapedefaults": {
           "line": {
            "color": "#2a3f5f"
           }
          },
          "ternary": {
           "aaxis": {
            "gridcolor": "white",
            "linecolor": "white",
            "ticks": ""
           },
           "baxis": {
            "gridcolor": "white",
            "linecolor": "white",
            "ticks": ""
           },
           "bgcolor": "#E5ECF6",
           "caxis": {
            "gridcolor": "white",
            "linecolor": "white",
            "ticks": ""
           }
          },
          "title": {
           "x": 0.05
          },
          "xaxis": {
           "automargin": true,
           "gridcolor": "white",
           "linecolor": "white",
           "ticks": "",
           "title": {
            "standoff": 15
           },
           "zerolinecolor": "white",
           "zerolinewidth": 2
          },
          "yaxis": {
           "automargin": true,
           "gridcolor": "white",
           "linecolor": "white",
           "ticks": "",
           "title": {
            "standoff": 15
           },
           "zerolinecolor": "white",
           "zerolinewidth": 2
          }
         }
        },
        "title": {
         "text": "FDI by Country in 2019 (preliminary values)"
        }
       }
      }
     },
     "metadata": {},
     "output_type": "display_data"
    }
   ],
   "source": [
    "fig6 = px.pie(df_FDICountry2.set_index('index').T.reset_index(), values = 2019,names = \"Countries\", title = \"FDI by Country in 2019 (preliminary values)\", height = 750)\n",
    "fig6.update_traces(textposition='inside', textinfo='percent+label')\n",
    "fig6.show()"
   ]
  },
  {
   "cell_type": "code",
   "execution_count": 49,
   "id": "0f02c69f",
   "metadata": {},
   "outputs": [
    {
     "data": {
      "application/vnd.plotly.v1+json": {
       "config": {
        "plotlyServerURL": "https://plot.ly"
       },
       "data": [
        {
         "domain": {
          "x": [
           0,
           1
          ],
          "y": [
           0,
           1
          ]
         },
         "hovertemplate": "Countries=%{label}<br>2021=%{value}<extra></extra>",
         "labels": [
          "Austria",
          "Belgium",
          "Bulgaria",
          "Croatia",
          "Cyprus",
          "Czech Republic",
          "Denmark",
          "Estonia",
          "Finland",
          "France",
          "Germany",
          "Greece",
          "Hungary",
          "Ireland",
          "Italy",
          "Latvia",
          "Lithuania (Lietuva)",
          "Luxembourg",
          "Malta",
          "Netherlands",
          "Poland",
          "Portugal",
          "Romania",
          "Slovakia",
          "Slovenia",
          "Spain",
          "Sweden",
          "Azerbaijan",
          "Armenia",
          "Belarus",
          "Kazakhstan",
          "Kyrgyzstan",
          "Moldova",
          "Russia",
          "Turkmenistan",
          "Ukraine",
          "Uzbekistan",
          "Argentina",
          "Australia",
          "Bahamas",
          "Belize",
          "Virgin Islands, British",
          "Canada",
          "Cayman Islands",
          "China",
          "Gibraltar",
          "Hong Kong, SAR of China",
          "Iceland",
          "India",
          "Iran",
          "Iraq",
          "Israel",
          "Japan",
          "Jordan",
          "Korea",
          "Lebanon",
          "Libya",
          "Liechtenstein",
          "Mauritius",
          "Norway",
          "Marshall Islands",
          "Panama",
          "Philippines",
          "Qatar",
          "Saint Kitts and Nevis",
          "Saudi Arabia",
          "Seychelles",
          "Switzerland",
          "Syrian",
          "United Arab Emirates",
          "Turkey",
          "Egypt",
          "United Kingdom",
          "United States",
          "Unknown",
          "International Organizations"
         ],
         "legendgroup": "",
         "name": "",
         "showlegend": true,
         "textinfo": "percent+label",
         "textposition": "inside",
         "type": "pie",
         "values": [
          5937.884600000001,
          2079.7791,
          4050.1763999999994,
          48.29650000000001,
          -27719.5973,
          81771.26280000001,
          1945.052899999997,
          9139.9679,
          206.88430000000002,
          18697.264599999995,
          31601.92470000001,
          982.0949,
          2803.9716000000003,
          590.7387,
          1876.8716000000002,
          4992.1502,
          3439.5586,
          40996.8202,
          5803.967800000002,
          125911.925,
          5261.286999999999,
          459.03330000000005,
          192.1103,
          -7161.4534,
          52.9576,
          10040.5401,
          3876.176200000001,
          207.3744000000006,
          7094.7468,
          562.7729999999999,
          11020.030700000001,
          -24393.822299999996,
          379.98249999999996,
          58583.67019999996,
          1945.8577,
          10717.9004,
          2084.0817,
          -0.5505,
          2095.7920000000004,
          89.563,
          -39777.6033,
          -11596.602299999997,
          724.4779,
          2508.4376,
          19259.866800000003,
          -1410.7389,
          2184.7160000000003,
          34.045100000000005,
          8931.287100000001,
          1291.7235,
          -4396.5413,
          9274.351100000002,
          3635.918399999995,
          809.4219,
          2967.1687999999995,
          930.8565000000001,
          9.4633,
          -338.3963,
          -217.6058,
          1169.6045,
          21316.3262,
          -7667.651099999997,
          110.7399,
          3161.708,
          3087.6737000000003,
          -9892.1331,
          19827.779,
          6481.784500000002,
          2.744500000000004,
          34798.97320000001,
          64730.56399999998,
          2740.4529,
          596616.9694,
          6150.9767999999785,
          0,
          3690.0591000000013
         ]
        }
       ],
       "layout": {
        "height": 750,
        "legend": {
         "tracegroupgap": 0
        },
        "template": {
         "data": {
          "bar": [
           {
            "error_x": {
             "color": "#2a3f5f"
            },
            "error_y": {
             "color": "#2a3f5f"
            },
            "marker": {
             "line": {
              "color": "#E5ECF6",
              "width": 0.5
             },
             "pattern": {
              "fillmode": "overlay",
              "size": 10,
              "solidity": 0.2
             }
            },
            "type": "bar"
           }
          ],
          "barpolar": [
           {
            "marker": {
             "line": {
              "color": "#E5ECF6",
              "width": 0.5
             },
             "pattern": {
              "fillmode": "overlay",
              "size": 10,
              "solidity": 0.2
             }
            },
            "type": "barpolar"
           }
          ],
          "carpet": [
           {
            "aaxis": {
             "endlinecolor": "#2a3f5f",
             "gridcolor": "white",
             "linecolor": "white",
             "minorgridcolor": "white",
             "startlinecolor": "#2a3f5f"
            },
            "baxis": {
             "endlinecolor": "#2a3f5f",
             "gridcolor": "white",
             "linecolor": "white",
             "minorgridcolor": "white",
             "startlinecolor": "#2a3f5f"
            },
            "type": "carpet"
           }
          ],
          "choropleth": [
           {
            "colorbar": {
             "outlinewidth": 0,
             "ticks": ""
            },
            "type": "choropleth"
           }
          ],
          "contour": [
           {
            "colorbar": {
             "outlinewidth": 0,
             "ticks": ""
            },
            "colorscale": [
             [
              0,
              "#0d0887"
             ],
             [
              0.1111111111111111,
              "#46039f"
             ],
             [
              0.2222222222222222,
              "#7201a8"
             ],
             [
              0.3333333333333333,
              "#9c179e"
             ],
             [
              0.4444444444444444,
              "#bd3786"
             ],
             [
              0.5555555555555556,
              "#d8576b"
             ],
             [
              0.6666666666666666,
              "#ed7953"
             ],
             [
              0.7777777777777778,
              "#fb9f3a"
             ],
             [
              0.8888888888888888,
              "#fdca26"
             ],
             [
              1,
              "#f0f921"
             ]
            ],
            "type": "contour"
           }
          ],
          "contourcarpet": [
           {
            "colorbar": {
             "outlinewidth": 0,
             "ticks": ""
            },
            "type": "contourcarpet"
           }
          ],
          "heatmap": [
           {
            "colorbar": {
             "outlinewidth": 0,
             "ticks": ""
            },
            "colorscale": [
             [
              0,
              "#0d0887"
             ],
             [
              0.1111111111111111,
              "#46039f"
             ],
             [
              0.2222222222222222,
              "#7201a8"
             ],
             [
              0.3333333333333333,
              "#9c179e"
             ],
             [
              0.4444444444444444,
              "#bd3786"
             ],
             [
              0.5555555555555556,
              "#d8576b"
             ],
             [
              0.6666666666666666,
              "#ed7953"
             ],
             [
              0.7777777777777778,
              "#fb9f3a"
             ],
             [
              0.8888888888888888,
              "#fdca26"
             ],
             [
              1,
              "#f0f921"
             ]
            ],
            "type": "heatmap"
           }
          ],
          "heatmapgl": [
           {
            "colorbar": {
             "outlinewidth": 0,
             "ticks": ""
            },
            "colorscale": [
             [
              0,
              "#0d0887"
             ],
             [
              0.1111111111111111,
              "#46039f"
             ],
             [
              0.2222222222222222,
              "#7201a8"
             ],
             [
              0.3333333333333333,
              "#9c179e"
             ],
             [
              0.4444444444444444,
              "#bd3786"
             ],
             [
              0.5555555555555556,
              "#d8576b"
             ],
             [
              0.6666666666666666,
              "#ed7953"
             ],
             [
              0.7777777777777778,
              "#fb9f3a"
             ],
             [
              0.8888888888888888,
              "#fdca26"
             ],
             [
              1,
              "#f0f921"
             ]
            ],
            "type": "heatmapgl"
           }
          ],
          "histogram": [
           {
            "marker": {
             "pattern": {
              "fillmode": "overlay",
              "size": 10,
              "solidity": 0.2
             }
            },
            "type": "histogram"
           }
          ],
          "histogram2d": [
           {
            "colorbar": {
             "outlinewidth": 0,
             "ticks": ""
            },
            "colorscale": [
             [
              0,
              "#0d0887"
             ],
             [
              0.1111111111111111,
              "#46039f"
             ],
             [
              0.2222222222222222,
              "#7201a8"
             ],
             [
              0.3333333333333333,
              "#9c179e"
             ],
             [
              0.4444444444444444,
              "#bd3786"
             ],
             [
              0.5555555555555556,
              "#d8576b"
             ],
             [
              0.6666666666666666,
              "#ed7953"
             ],
             [
              0.7777777777777778,
              "#fb9f3a"
             ],
             [
              0.8888888888888888,
              "#fdca26"
             ],
             [
              1,
              "#f0f921"
             ]
            ],
            "type": "histogram2d"
           }
          ],
          "histogram2dcontour": [
           {
            "colorbar": {
             "outlinewidth": 0,
             "ticks": ""
            },
            "colorscale": [
             [
              0,
              "#0d0887"
             ],
             [
              0.1111111111111111,
              "#46039f"
             ],
             [
              0.2222222222222222,
              "#7201a8"
             ],
             [
              0.3333333333333333,
              "#9c179e"
             ],
             [
              0.4444444444444444,
              "#bd3786"
             ],
             [
              0.5555555555555556,
              "#d8576b"
             ],
             [
              0.6666666666666666,
              "#ed7953"
             ],
             [
              0.7777777777777778,
              "#fb9f3a"
             ],
             [
              0.8888888888888888,
              "#fdca26"
             ],
             [
              1,
              "#f0f921"
             ]
            ],
            "type": "histogram2dcontour"
           }
          ],
          "mesh3d": [
           {
            "colorbar": {
             "outlinewidth": 0,
             "ticks": ""
            },
            "type": "mesh3d"
           }
          ],
          "parcoords": [
           {
            "line": {
             "colorbar": {
              "outlinewidth": 0,
              "ticks": ""
             }
            },
            "type": "parcoords"
           }
          ],
          "pie": [
           {
            "automargin": true,
            "type": "pie"
           }
          ],
          "scatter": [
           {
            "marker": {
             "colorbar": {
              "outlinewidth": 0,
              "ticks": ""
             }
            },
            "type": "scatter"
           }
          ],
          "scatter3d": [
           {
            "line": {
             "colorbar": {
              "outlinewidth": 0,
              "ticks": ""
             }
            },
            "marker": {
             "colorbar": {
              "outlinewidth": 0,
              "ticks": ""
             }
            },
            "type": "scatter3d"
           }
          ],
          "scattercarpet": [
           {
            "marker": {
             "colorbar": {
              "outlinewidth": 0,
              "ticks": ""
             }
            },
            "type": "scattercarpet"
           }
          ],
          "scattergeo": [
           {
            "marker": {
             "colorbar": {
              "outlinewidth": 0,
              "ticks": ""
             }
            },
            "type": "scattergeo"
           }
          ],
          "scattergl": [
           {
            "marker": {
             "colorbar": {
              "outlinewidth": 0,
              "ticks": ""
             }
            },
            "type": "scattergl"
           }
          ],
          "scattermapbox": [
           {
            "marker": {
             "colorbar": {
              "outlinewidth": 0,
              "ticks": ""
             }
            },
            "type": "scattermapbox"
           }
          ],
          "scatterpolar": [
           {
            "marker": {
             "colorbar": {
              "outlinewidth": 0,
              "ticks": ""
             }
            },
            "type": "scatterpolar"
           }
          ],
          "scatterpolargl": [
           {
            "marker": {
             "colorbar": {
              "outlinewidth": 0,
              "ticks": ""
             }
            },
            "type": "scatterpolargl"
           }
          ],
          "scatterternary": [
           {
            "marker": {
             "colorbar": {
              "outlinewidth": 0,
              "ticks": ""
             }
            },
            "type": "scatterternary"
           }
          ],
          "surface": [
           {
            "colorbar": {
             "outlinewidth": 0,
             "ticks": ""
            },
            "colorscale": [
             [
              0,
              "#0d0887"
             ],
             [
              0.1111111111111111,
              "#46039f"
             ],
             [
              0.2222222222222222,
              "#7201a8"
             ],
             [
              0.3333333333333333,
              "#9c179e"
             ],
             [
              0.4444444444444444,
              "#bd3786"
             ],
             [
              0.5555555555555556,
              "#d8576b"
             ],
             [
              0.6666666666666666,
              "#ed7953"
             ],
             [
              0.7777777777777778,
              "#fb9f3a"
             ],
             [
              0.8888888888888888,
              "#fdca26"
             ],
             [
              1,
              "#f0f921"
             ]
            ],
            "type": "surface"
           }
          ],
          "table": [
           {
            "cells": {
             "fill": {
              "color": "#EBF0F8"
             },
             "line": {
              "color": "white"
             }
            },
            "header": {
             "fill": {
              "color": "#C8D4E3"
             },
             "line": {
              "color": "white"
             }
            },
            "type": "table"
           }
          ]
         },
         "layout": {
          "annotationdefaults": {
           "arrowcolor": "#2a3f5f",
           "arrowhead": 0,
           "arrowwidth": 1
          },
          "autotypenumbers": "strict",
          "coloraxis": {
           "colorbar": {
            "outlinewidth": 0,
            "ticks": ""
           }
          },
          "colorscale": {
           "diverging": [
            [
             0,
             "#8e0152"
            ],
            [
             0.1,
             "#c51b7d"
            ],
            [
             0.2,
             "#de77ae"
            ],
            [
             0.3,
             "#f1b6da"
            ],
            [
             0.4,
             "#fde0ef"
            ],
            [
             0.5,
             "#f7f7f7"
            ],
            [
             0.6,
             "#e6f5d0"
            ],
            [
             0.7,
             "#b8e186"
            ],
            [
             0.8,
             "#7fbc41"
            ],
            [
             0.9,
             "#4d9221"
            ],
            [
             1,
             "#276419"
            ]
           ],
           "sequential": [
            [
             0,
             "#0d0887"
            ],
            [
             0.1111111111111111,
             "#46039f"
            ],
            [
             0.2222222222222222,
             "#7201a8"
            ],
            [
             0.3333333333333333,
             "#9c179e"
            ],
            [
             0.4444444444444444,
             "#bd3786"
            ],
            [
             0.5555555555555556,
             "#d8576b"
            ],
            [
             0.6666666666666666,
             "#ed7953"
            ],
            [
             0.7777777777777778,
             "#fb9f3a"
            ],
            [
             0.8888888888888888,
             "#fdca26"
            ],
            [
             1,
             "#f0f921"
            ]
           ],
           "sequentialminus": [
            [
             0,
             "#0d0887"
            ],
            [
             0.1111111111111111,
             "#46039f"
            ],
            [
             0.2222222222222222,
             "#7201a8"
            ],
            [
             0.3333333333333333,
             "#9c179e"
            ],
            [
             0.4444444444444444,
             "#bd3786"
            ],
            [
             0.5555555555555556,
             "#d8576b"
            ],
            [
             0.6666666666666666,
             "#ed7953"
            ],
            [
             0.7777777777777778,
             "#fb9f3a"
            ],
            [
             0.8888888888888888,
             "#fdca26"
            ],
            [
             1,
             "#f0f921"
            ]
           ]
          },
          "colorway": [
           "#636efa",
           "#EF553B",
           "#00cc96",
           "#ab63fa",
           "#FFA15A",
           "#19d3f3",
           "#FF6692",
           "#B6E880",
           "#FF97FF",
           "#FECB52"
          ],
          "font": {
           "color": "#2a3f5f"
          },
          "geo": {
           "bgcolor": "white",
           "lakecolor": "white",
           "landcolor": "#E5ECF6",
           "showlakes": true,
           "showland": true,
           "subunitcolor": "white"
          },
          "hoverlabel": {
           "align": "left"
          },
          "hovermode": "closest",
          "mapbox": {
           "style": "light"
          },
          "paper_bgcolor": "white",
          "plot_bgcolor": "#E5ECF6",
          "polar": {
           "angularaxis": {
            "gridcolor": "white",
            "linecolor": "white",
            "ticks": ""
           },
           "bgcolor": "#E5ECF6",
           "radialaxis": {
            "gridcolor": "white",
            "linecolor": "white",
            "ticks": ""
           }
          },
          "scene": {
           "xaxis": {
            "backgroundcolor": "#E5ECF6",
            "gridcolor": "white",
            "gridwidth": 2,
            "linecolor": "white",
            "showbackground": true,
            "ticks": "",
            "zerolinecolor": "white"
           },
           "yaxis": {
            "backgroundcolor": "#E5ECF6",
            "gridcolor": "white",
            "gridwidth": 2,
            "linecolor": "white",
            "showbackground": true,
            "ticks": "",
            "zerolinecolor": "white"
           },
           "zaxis": {
            "backgroundcolor": "#E5ECF6",
            "gridcolor": "white",
            "gridwidth": 2,
            "linecolor": "white",
            "showbackground": true,
            "ticks": "",
            "zerolinecolor": "white"
           }
          },
          "shapedefaults": {
           "line": {
            "color": "#2a3f5f"
           }
          },
          "ternary": {
           "aaxis": {
            "gridcolor": "white",
            "linecolor": "white",
            "ticks": ""
           },
           "baxis": {
            "gridcolor": "white",
            "linecolor": "white",
            "ticks": ""
           },
           "bgcolor": "#E5ECF6",
           "caxis": {
            "gridcolor": "white",
            "linecolor": "white",
            "ticks": ""
           }
          },
          "title": {
           "x": 0.05
          },
          "xaxis": {
           "automargin": true,
           "gridcolor": "white",
           "linecolor": "white",
           "ticks": "",
           "title": {
            "standoff": 15
           },
           "zerolinecolor": "white",
           "zerolinewidth": 2
          },
          "yaxis": {
           "automargin": true,
           "gridcolor": "white",
           "linecolor": "white",
           "ticks": "",
           "title": {
            "standoff": 15
           },
           "zerolinecolor": "white",
           "zerolinewidth": 2
          }
         }
        },
        "title": {
         "text": "FDI by Country in 2019 (preliminary values)"
        }
       }
      }
     },
     "metadata": {},
     "output_type": "display_data"
    }
   ],
   "source": [
    "fig7 = px.pie(df_FDICountry2.set_index('index').T.reset_index(), values = 2021,names = \"Countries\", title = \"FDI by Country in 2019 (preliminary values)\", height = 750)\n",
    "fig7.update_traces(textposition='inside', textinfo='percent+label')\n",
    "fig7.show()"
   ]
  },
  {
   "cell_type": "code",
   "execution_count": null,
   "id": "f2cf11cc",
   "metadata": {},
   "outputs": [],
   "source": []
  }
 ],
 "metadata": {
  "kernelspec": {
   "display_name": "Python 3 (ipykernel)",
   "language": "python",
   "name": "python3"
  },
  "language_info": {
   "codemirror_mode": {
    "name": "ipython",
    "version": 3
   },
   "file_extension": ".py",
   "mimetype": "text/x-python",
   "name": "python",
   "nbconvert_exporter": "python",
   "pygments_lexer": "ipython3",
   "version": "3.9.11"
  }
 },
 "nbformat": 4,
 "nbformat_minor": 5
}
