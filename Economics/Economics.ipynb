{
 "cells": [
  {
   "cell_type": "code",
   "execution_count": 23,
   "id": "82fc0014-ef56-4620-82bf-b499775e67ae",
   "metadata": {},
   "outputs": [],
   "source": [
    "import pandas as pd\n",
    "import numpy as np\n",
    "import plotly.express as px\n",
    "import plotly.graph_objects as go\n",
    "import matplotlib.pyplot as plt\n",
    "import seaborn as sns\n",
    "\n",
    "idx  = pd.IndexSlice"
   ]
  },
  {
   "cell_type": "markdown",
   "id": "efa828cf",
   "metadata": {},
   "source": [
    "# FDI"
   ]
  },
  {
   "cell_type": "code",
   "execution_count": 2,
   "id": "829e6799-a148-44bf-81a9-d87aff358e87",
   "metadata": {},
   "outputs": [],
   "source": [
    "url_FDICountry = \"https://geostat.ge/media/43842/FDI_Eng-countries.xlsx\"\n",
    "import openpyxl\n",
    "df_FDICountry = pd.read_excel(url_FDICountry, sheet_name = \"FDI (annual)\",header = 3, skipfooter = 14)"
   ]
  },
  {
   "cell_type": "code",
   "execution_count": 3,
   "id": "3a0d2fd2-0ec8-4d7c-9a34-1676d6167d4d",
   "metadata": {},
   "outputs": [
    {
     "data": {
      "text/html": [
       "<div>\n",
       "<style scoped>\n",
       "    .dataframe tbody tr th:only-of-type {\n",
       "        vertical-align: middle;\n",
       "    }\n",
       "\n",
       "    .dataframe tbody tr th {\n",
       "        vertical-align: top;\n",
       "    }\n",
       "\n",
       "    .dataframe thead th {\n",
       "        text-align: right;\n",
       "    }\n",
       "</style>\n",
       "<table border=\"1\" class=\"dataframe\">\n",
       "  <thead>\n",
       "    <tr style=\"text-align: right;\">\n",
       "      <th></th>\n",
       "      <th>Code</th>\n",
       "      <th>Countries</th>\n",
       "      <th>1996</th>\n",
       "      <th>1997</th>\n",
       "      <th>1998</th>\n",
       "      <th>1999</th>\n",
       "      <th>2000</th>\n",
       "      <th>2001</th>\n",
       "      <th>2002</th>\n",
       "      <th>2003</th>\n",
       "      <th>...</th>\n",
       "      <th>2012</th>\n",
       "      <th>2013</th>\n",
       "      <th>2014</th>\n",
       "      <th>2015</th>\n",
       "      <th>2016</th>\n",
       "      <th>2017</th>\n",
       "      <th>2018</th>\n",
       "      <th>2019</th>\n",
       "      <th>2020</th>\n",
       "      <th>2021*</th>\n",
       "    </tr>\n",
       "  </thead>\n",
       "  <tbody>\n",
       "    <tr>\n",
       "      <th>0</th>\n",
       "      <td>NaN</td>\n",
       "      <td>Total</td>\n",
       "      <td>3753.45</td>\n",
       "      <td>242586</td>\n",
       "      <td>265331.769513</td>\n",
       "      <td>82207</td>\n",
       "      <td>131231.878347</td>\n",
       "      <td>109839.835488</td>\n",
       "      <td>160211.960454</td>\n",
       "      <td>334567.84162</td>\n",
       "      <td>...</td>\n",
       "      <td>1048227.045433</td>\n",
       "      <td>1039174.152485</td>\n",
       "      <td>1836979.976503</td>\n",
       "      <td>1728758.129864</td>\n",
       "      <td>1653993.3841</td>\n",
       "      <td>1980773.3426</td>\n",
       "      <td>1317071.4413</td>\n",
       "      <td>1335810.6439</td>\n",
       "      <td>571963.2561</td>\n",
       "      <td>1152817.6186</td>\n",
       "    </tr>\n",
       "    <tr>\n",
       "      <th>1</th>\n",
       "      <td>NaN</td>\n",
       "      <td>of which:</td>\n",
       "      <td>NaN</td>\n",
       "      <td>NaN</td>\n",
       "      <td>NaN</td>\n",
       "      <td>NaN</td>\n",
       "      <td>NaN</td>\n",
       "      <td>NaN</td>\n",
       "      <td>NaN</td>\n",
       "      <td>NaN</td>\n",
       "      <td>...</td>\n",
       "      <td>NaN</td>\n",
       "      <td>NaN</td>\n",
       "      <td>NaN</td>\n",
       "      <td>NaN</td>\n",
       "      <td>NaN</td>\n",
       "      <td>NaN</td>\n",
       "      <td>NaN</td>\n",
       "      <td>NaN</td>\n",
       "      <td>NaN</td>\n",
       "      <td>NaN</td>\n",
       "    </tr>\n",
       "    <tr>\n",
       "      <th>2</th>\n",
       "      <td>NaN</td>\n",
       "      <td>EU counties (27)</td>\n",
       "      <td>-</td>\n",
       "      <td>20808.371148</td>\n",
       "      <td>23068.815474</td>\n",
       "      <td>3525.273546</td>\n",
       "      <td>36726.839923</td>\n",
       "      <td>63421.349613</td>\n",
       "      <td>40469.434942</td>\n",
       "      <td>58063.057716</td>\n",
       "      <td>...</td>\n",
       "      <td>370060.669997</td>\n",
       "      <td>369928.682571</td>\n",
       "      <td>727114.37775</td>\n",
       "      <td>417150.402507</td>\n",
       "      <td>327813.0512</td>\n",
       "      <td>558531.1222</td>\n",
       "      <td>416764.4483</td>\n",
       "      <td>426918.626</td>\n",
       "      <td>333129.4972</td>\n",
       "      <td>327877.6462</td>\n",
       "    </tr>\n",
       "    <tr>\n",
       "      <th>3</th>\n",
       "      <td>40.0</td>\n",
       "      <td>Austria</td>\n",
       "      <td>-</td>\n",
       "      <td>18688.22432</td>\n",
       "      <td>18876.639337</td>\n",
       "      <td>-</td>\n",
       "      <td>-</td>\n",
       "      <td>-</td>\n",
       "      <td>-137.20896</td>\n",
       "      <td>17971.165858</td>\n",
       "      <td>...</td>\n",
       "      <td>25999.225115</td>\n",
       "      <td>7008.170988</td>\n",
       "      <td>8000.442038</td>\n",
       "      <td>19621.375218</td>\n",
       "      <td>27805.2789</td>\n",
       "      <td>6287.2705</td>\n",
       "      <td>17361.0086</td>\n",
       "      <td>15231.2078</td>\n",
       "      <td>-10654.2515</td>\n",
       "      <td>5937.8846</td>\n",
       "    </tr>\n",
       "    <tr>\n",
       "      <th>4</th>\n",
       "      <td>56.0</td>\n",
       "      <td>Belgium</td>\n",
       "      <td>-</td>\n",
       "      <td>-</td>\n",
       "      <td>-</td>\n",
       "      <td>-</td>\n",
       "      <td>-</td>\n",
       "      <td>-</td>\n",
       "      <td>-</td>\n",
       "      <td>-</td>\n",
       "      <td>...</td>\n",
       "      <td>-844.8066</td>\n",
       "      <td>637.3268</td>\n",
       "      <td>1485.556</td>\n",
       "      <td>280.2875</td>\n",
       "      <td>17867.4493</td>\n",
       "      <td>4313.4712</td>\n",
       "      <td>3482.8453</td>\n",
       "      <td>1522.7314</td>\n",
       "      <td>4857.8513</td>\n",
       "      <td>2079.7791</td>\n",
       "    </tr>\n",
       "    <tr>\n",
       "      <th>...</th>\n",
       "      <td>...</td>\n",
       "      <td>...</td>\n",
       "      <td>...</td>\n",
       "      <td>...</td>\n",
       "      <td>...</td>\n",
       "      <td>...</td>\n",
       "      <td>...</td>\n",
       "      <td>...</td>\n",
       "      <td>...</td>\n",
       "      <td>...</td>\n",
       "      <td>...</td>\n",
       "      <td>...</td>\n",
       "      <td>...</td>\n",
       "      <td>...</td>\n",
       "      <td>...</td>\n",
       "      <td>...</td>\n",
       "      <td>...</td>\n",
       "      <td>...</td>\n",
       "      <td>...</td>\n",
       "      <td>...</td>\n",
       "      <td>...</td>\n",
       "    </tr>\n",
       "    <tr>\n",
       "      <th>79</th>\n",
       "      <td>826.0</td>\n",
       "      <td>United Kingdom</td>\n",
       "      <td>-</td>\n",
       "      <td>24985.511495</td>\n",
       "      <td>26471.589257</td>\n",
       "      <td>5036.176714</td>\n",
       "      <td>4823.975704</td>\n",
       "      <td>8508.687993</td>\n",
       "      <td>14719.529864</td>\n",
       "      <td>34842.840181</td>\n",
       "      <td>...</td>\n",
       "      <td>95536.664823</td>\n",
       "      <td>55171.312715</td>\n",
       "      <td>108850.796451</td>\n",
       "      <td>399346.841345</td>\n",
       "      <td>87849.542</td>\n",
       "      <td>249032.362</td>\n",
       "      <td>182923.8353</td>\n",
       "      <td>236860.4844</td>\n",
       "      <td>302984.8908</td>\n",
       "      <td>596616.9694</td>\n",
       "    </tr>\n",
       "    <tr>\n",
       "      <th>80</th>\n",
       "      <td>840.0</td>\n",
       "      <td>United States</td>\n",
       "      <td>-</td>\n",
       "      <td>96651.887424</td>\n",
       "      <td>104427.22618</td>\n",
       "      <td>59151.289331</td>\n",
       "      <td>38717.651556</td>\n",
       "      <td>23281.158381</td>\n",
       "      <td>81609.826028</td>\n",
       "      <td>71603.885369</td>\n",
       "      <td>...</td>\n",
       "      <td>20253.9991</td>\n",
       "      <td>53885.224061</td>\n",
       "      <td>184442.755304</td>\n",
       "      <td>18898.423706</td>\n",
       "      <td>59817.1044</td>\n",
       "      <td>79115.3347</td>\n",
       "      <td>104964.0622</td>\n",
       "      <td>115592.2585</td>\n",
       "      <td>98440.9332</td>\n",
       "      <td>6150.9768</td>\n",
       "    </tr>\n",
       "    <tr>\n",
       "      <th>81</th>\n",
       "      <td>NaN</td>\n",
       "      <td>Other countries</td>\n",
       "      <td>-</td>\n",
       "      <td>-</td>\n",
       "      <td>-</td>\n",
       "      <td>-</td>\n",
       "      <td>-</td>\n",
       "      <td>-</td>\n",
       "      <td>-</td>\n",
       "      <td>-</td>\n",
       "      <td>...</td>\n",
       "      <td>21397.446834</td>\n",
       "      <td>14791.355772</td>\n",
       "      <td>12739.540876</td>\n",
       "      <td>14892.9665</td>\n",
       "      <td>15390.8614</td>\n",
       "      <td>12658.9677</td>\n",
       "      <td>4040.125</td>\n",
       "      <td>14903.7709</td>\n",
       "      <td>2196.9728</td>\n",
       "      <td>13401.7552</td>\n",
       "    </tr>\n",
       "    <tr>\n",
       "      <th>82</th>\n",
       "      <td>NaN</td>\n",
       "      <td>Unknown</td>\n",
       "      <td>-</td>\n",
       "      <td>-</td>\n",
       "      <td>-</td>\n",
       "      <td>-</td>\n",
       "      <td>-</td>\n",
       "      <td>-</td>\n",
       "      <td>627.86159</td>\n",
       "      <td>853.61444</td>\n",
       "      <td>...</td>\n",
       "      <td>-</td>\n",
       "      <td>-</td>\n",
       "      <td>-</td>\n",
       "      <td>6743.0347</td>\n",
       "      <td>-4702.3455</td>\n",
       "      <td>-</td>\n",
       "      <td>-</td>\n",
       "      <td>-</td>\n",
       "      <td>-</td>\n",
       "      <td>-</td>\n",
       "    </tr>\n",
       "    <tr>\n",
       "      <th>83</th>\n",
       "      <td>NaN</td>\n",
       "      <td>International Organizations</td>\n",
       "      <td>-</td>\n",
       "      <td>-</td>\n",
       "      <td>-</td>\n",
       "      <td>-</td>\n",
       "      <td>-</td>\n",
       "      <td>-</td>\n",
       "      <td>448.5318</td>\n",
       "      <td>1235.93736</td>\n",
       "      <td>...</td>\n",
       "      <td>63454.7265</td>\n",
       "      <td>54680.836317</td>\n",
       "      <td>-105980.379157</td>\n",
       "      <td>39779.528091</td>\n",
       "      <td>43125.7175</td>\n",
       "      <td>2516.0899</td>\n",
       "      <td>1627.4711</td>\n",
       "      <td>6883.7493</td>\n",
       "      <td>1458.0451</td>\n",
       "      <td>3690.0591</td>\n",
       "    </tr>\n",
       "  </tbody>\n",
       "</table>\n",
       "<p>84 rows × 28 columns</p>\n",
       "</div>"
      ],
      "text/plain": [
       "     Code                    Countries     1996          1997           1998  \\\n",
       "0     NaN                        Total  3753.45        242586  265331.769513   \n",
       "1     NaN                    of which:      NaN           NaN            NaN   \n",
       "2     NaN             EU counties (27)        -  20808.371148   23068.815474   \n",
       "3    40.0                      Austria        -   18688.22432   18876.639337   \n",
       "4    56.0                      Belgium        -             -              -   \n",
       "..    ...                          ...      ...           ...            ...   \n",
       "79  826.0               United Kingdom        -  24985.511495   26471.589257   \n",
       "80  840.0                United States        -  96651.887424   104427.22618   \n",
       "81    NaN              Other countries        -             -              -   \n",
       "82    NaN                      Unknown        -             -              -   \n",
       "83    NaN  International Organizations        -             -              -   \n",
       "\n",
       "            1999           2000           2001           2002          2003  \\\n",
       "0          82207  131231.878347  109839.835488  160211.960454  334567.84162   \n",
       "1            NaN            NaN            NaN            NaN           NaN   \n",
       "2    3525.273546   36726.839923   63421.349613   40469.434942  58063.057716   \n",
       "3              -              -              -     -137.20896  17971.165858   \n",
       "4              -              -              -              -             -   \n",
       "..           ...            ...            ...            ...           ...   \n",
       "79   5036.176714    4823.975704    8508.687993   14719.529864  34842.840181   \n",
       "80  59151.289331   38717.651556   23281.158381   81609.826028  71603.885369   \n",
       "81             -              -              -              -             -   \n",
       "82             -              -              -      627.86159     853.61444   \n",
       "83             -              -              -       448.5318    1235.93736   \n",
       "\n",
       "    ...            2012            2013            2014            2015  \\\n",
       "0   ...  1048227.045433  1039174.152485  1836979.976503  1728758.129864   \n",
       "1   ...             NaN             NaN             NaN             NaN   \n",
       "2   ...   370060.669997   369928.682571    727114.37775   417150.402507   \n",
       "3   ...    25999.225115     7008.170988     8000.442038    19621.375218   \n",
       "4   ...       -844.8066        637.3268        1485.556        280.2875   \n",
       "..  ...             ...             ...             ...             ...   \n",
       "79  ...    95536.664823    55171.312715   108850.796451   399346.841345   \n",
       "80  ...      20253.9991    53885.224061   184442.755304    18898.423706   \n",
       "81  ...    21397.446834    14791.355772    12739.540876      14892.9665   \n",
       "82  ...               -               -               -       6743.0347   \n",
       "83  ...      63454.7265    54680.836317  -105980.379157    39779.528091   \n",
       "\n",
       "            2016          2017          2018          2019         2020  \\\n",
       "0   1653993.3841  1980773.3426  1317071.4413  1335810.6439  571963.2561   \n",
       "1            NaN           NaN           NaN           NaN          NaN   \n",
       "2    327813.0512   558531.1222   416764.4483    426918.626  333129.4972   \n",
       "3     27805.2789     6287.2705    17361.0086    15231.2078  -10654.2515   \n",
       "4     17867.4493     4313.4712     3482.8453     1522.7314    4857.8513   \n",
       "..           ...           ...           ...           ...          ...   \n",
       "79     87849.542    249032.362   182923.8353   236860.4844  302984.8908   \n",
       "80    59817.1044    79115.3347   104964.0622   115592.2585   98440.9332   \n",
       "81    15390.8614    12658.9677      4040.125    14903.7709    2196.9728   \n",
       "82    -4702.3455             -             -             -            -   \n",
       "83    43125.7175     2516.0899     1627.4711     6883.7493    1458.0451   \n",
       "\n",
       "           2021*  \n",
       "0   1152817.6186  \n",
       "1            NaN  \n",
       "2    327877.6462  \n",
       "3      5937.8846  \n",
       "4      2079.7791  \n",
       "..           ...  \n",
       "79   596616.9694  \n",
       "80     6150.9768  \n",
       "81    13401.7552  \n",
       "82             -  \n",
       "83     3690.0591  \n",
       "\n",
       "[84 rows x 28 columns]"
      ]
     },
     "execution_count": 3,
     "metadata": {},
     "output_type": "execute_result"
    }
   ],
   "source": [
    "df_FDICountry"
   ]
  },
  {
   "cell_type": "code",
   "execution_count": 4,
   "id": "639b3872-b40b-48be-8506-a0143bf7223c",
   "metadata": {},
   "outputs": [],
   "source": [
    "df_FDICountry.rename(columns={\"2021*\":2021}, inplace = True)"
   ]
  },
  {
   "cell_type": "code",
   "execution_count": 5,
   "id": "f7660be7",
   "metadata": {},
   "outputs": [],
   "source": [
    "df_FDICountry.iloc[2,1] = \"EU countries\""
   ]
  },
  {
   "cell_type": "code",
   "execution_count": 6,
   "id": "590702de-511e-4ecb-97e6-8d60484acbf0",
   "metadata": {},
   "outputs": [],
   "source": [
    "df_FDICountry.drop(1, inplace = True)"
   ]
  },
  {
   "cell_type": "code",
   "execution_count": 7,
   "id": "a47ea99c-3409-43f9-8a7e-4d51fe789307",
   "metadata": {},
   "outputs": [],
   "source": [
    "df_FDICountry.drop(columns = \"Code\", inplace = True)"
   ]
  },
  {
   "cell_type": "code",
   "execution_count": 8,
   "id": "64607611-f617-4c1d-893b-ecd94fddb1fd",
   "metadata": {},
   "outputs": [],
   "source": [
    "df_FDICountry.replace(to_replace = \"-\", value = 0, inplace = True)"
   ]
  },
  {
   "cell_type": "code",
   "execution_count": 9,
   "id": "07444da1",
   "metadata": {},
   "outputs": [
    {
     "data": {
      "text/html": [
       "<div>\n",
       "<style scoped>\n",
       "    .dataframe tbody tr th:only-of-type {\n",
       "        vertical-align: middle;\n",
       "    }\n",
       "\n",
       "    .dataframe tbody tr th {\n",
       "        vertical-align: top;\n",
       "    }\n",
       "\n",
       "    .dataframe thead th {\n",
       "        text-align: right;\n",
       "    }\n",
       "</style>\n",
       "<table border=\"1\" class=\"dataframe\">\n",
       "  <thead>\n",
       "    <tr style=\"text-align: right;\">\n",
       "      <th></th>\n",
       "      <th>Countries</th>\n",
       "      <th>1996</th>\n",
       "      <th>1997</th>\n",
       "      <th>1998</th>\n",
       "      <th>1999</th>\n",
       "      <th>2000</th>\n",
       "      <th>2001</th>\n",
       "      <th>2002</th>\n",
       "      <th>2003</th>\n",
       "      <th>2004</th>\n",
       "      <th>...</th>\n",
       "      <th>2012</th>\n",
       "      <th>2013</th>\n",
       "      <th>2014</th>\n",
       "      <th>2015</th>\n",
       "      <th>2016</th>\n",
       "      <th>2017</th>\n",
       "      <th>2018</th>\n",
       "      <th>2019</th>\n",
       "      <th>2020</th>\n",
       "      <th>2021</th>\n",
       "    </tr>\n",
       "  </thead>\n",
       "  <tbody>\n",
       "    <tr>\n",
       "      <th>30</th>\n",
       "      <td>NaN</td>\n",
       "      <td>NaN</td>\n",
       "      <td>NaN</td>\n",
       "      <td>NaN</td>\n",
       "      <td>NaN</td>\n",
       "      <td>NaN</td>\n",
       "      <td>NaN</td>\n",
       "      <td>NaN</td>\n",
       "      <td>NaN</td>\n",
       "      <td>NaN</td>\n",
       "      <td>...</td>\n",
       "      <td>NaN</td>\n",
       "      <td>NaN</td>\n",
       "      <td>NaN</td>\n",
       "      <td>NaN</td>\n",
       "      <td>NaN</td>\n",
       "      <td>NaN</td>\n",
       "      <td>NaN</td>\n",
       "      <td>NaN</td>\n",
       "      <td>NaN</td>\n",
       "      <td>NaN</td>\n",
       "    </tr>\n",
       "    <tr>\n",
       "      <th>42</th>\n",
       "      <td>NaN</td>\n",
       "      <td>NaN</td>\n",
       "      <td>NaN</td>\n",
       "      <td>NaN</td>\n",
       "      <td>NaN</td>\n",
       "      <td>NaN</td>\n",
       "      <td>NaN</td>\n",
       "      <td>NaN</td>\n",
       "      <td>NaN</td>\n",
       "      <td>NaN</td>\n",
       "      <td>...</td>\n",
       "      <td>NaN</td>\n",
       "      <td>NaN</td>\n",
       "      <td>NaN</td>\n",
       "      <td>NaN</td>\n",
       "      <td>NaN</td>\n",
       "      <td>NaN</td>\n",
       "      <td>NaN</td>\n",
       "      <td>NaN</td>\n",
       "      <td>NaN</td>\n",
       "      <td>NaN</td>\n",
       "    </tr>\n",
       "  </tbody>\n",
       "</table>\n",
       "<p>2 rows × 27 columns</p>\n",
       "</div>"
      ],
      "text/plain": [
       "   Countries  1996  1997  1998  1999  2000  2001  2002  2003  2004  ...  2012  \\\n",
       "30       NaN   NaN   NaN   NaN   NaN   NaN   NaN   NaN   NaN   NaN  ...   NaN   \n",
       "42       NaN   NaN   NaN   NaN   NaN   NaN   NaN   NaN   NaN   NaN  ...   NaN   \n",
       "\n",
       "    2013  2014  2015  2016  2017  2018  2019  2020  2021  \n",
       "30   NaN   NaN   NaN   NaN   NaN   NaN   NaN   NaN   NaN  \n",
       "42   NaN   NaN   NaN   NaN   NaN   NaN   NaN   NaN   NaN  \n",
       "\n",
       "[2 rows x 27 columns]"
      ]
     },
     "execution_count": 9,
     "metadata": {},
     "output_type": "execute_result"
    }
   ],
   "source": [
    "df_FDICountry[df_FDICountry['Countries'].isna()]"
   ]
  },
  {
   "cell_type": "code",
   "execution_count": 10,
   "id": "e754072e",
   "metadata": {},
   "outputs": [],
   "source": [
    "df_FDICountry.dropna(axis=0, how='all', inplace=True)"
   ]
  },
  {
   "cell_type": "code",
   "execution_count": 11,
   "id": "e4d22524-4a91-4bd7-ace6-8ff936ca2fc9",
   "metadata": {},
   "outputs": [
    {
     "data": {
      "text/html": [
       "<div>\n",
       "<style scoped>\n",
       "    .dataframe tbody tr th:only-of-type {\n",
       "        vertical-align: middle;\n",
       "    }\n",
       "\n",
       "    .dataframe tbody tr th {\n",
       "        vertical-align: top;\n",
       "    }\n",
       "\n",
       "    .dataframe thead th {\n",
       "        text-align: right;\n",
       "    }\n",
       "</style>\n",
       "<table border=\"1\" class=\"dataframe\">\n",
       "  <thead>\n",
       "    <tr style=\"text-align: right;\">\n",
       "      <th></th>\n",
       "      <th>Countries</th>\n",
       "      <th>1996</th>\n",
       "      <th>1997</th>\n",
       "      <th>1998</th>\n",
       "      <th>1999</th>\n",
       "      <th>2000</th>\n",
       "      <th>2001</th>\n",
       "      <th>2002</th>\n",
       "      <th>2003</th>\n",
       "      <th>2004</th>\n",
       "      <th>...</th>\n",
       "      <th>2012</th>\n",
       "      <th>2013</th>\n",
       "      <th>2014</th>\n",
       "      <th>2015</th>\n",
       "      <th>2016</th>\n",
       "      <th>2017</th>\n",
       "      <th>2018</th>\n",
       "      <th>2019</th>\n",
       "      <th>2020</th>\n",
       "      <th>2021</th>\n",
       "    </tr>\n",
       "  </thead>\n",
       "  <tbody>\n",
       "    <tr>\n",
       "      <th>0</th>\n",
       "      <td>Total</td>\n",
       "      <td>3753.45</td>\n",
       "      <td>242586.000000</td>\n",
       "      <td>265331.769513</td>\n",
       "      <td>82207.000000</td>\n",
       "      <td>131231.878347</td>\n",
       "      <td>109839.835488</td>\n",
       "      <td>160211.960454</td>\n",
       "      <td>334567.841620</td>\n",
       "      <td>492329.440023</td>\n",
       "      <td>...</td>\n",
       "      <td>1.048227e+06</td>\n",
       "      <td>1.039174e+06</td>\n",
       "      <td>1.836980e+06</td>\n",
       "      <td>1.728758e+06</td>\n",
       "      <td>1.653993e+06</td>\n",
       "      <td>1.980773e+06</td>\n",
       "      <td>1.317071e+06</td>\n",
       "      <td>1.335811e+06</td>\n",
       "      <td>571963.2561</td>\n",
       "      <td>1.152818e+06</td>\n",
       "    </tr>\n",
       "    <tr>\n",
       "      <th>2</th>\n",
       "      <td>EU countries</td>\n",
       "      <td>0.00</td>\n",
       "      <td>20808.371148</td>\n",
       "      <td>23068.815474</td>\n",
       "      <td>3525.273546</td>\n",
       "      <td>36726.839923</td>\n",
       "      <td>63421.349613</td>\n",
       "      <td>40469.434942</td>\n",
       "      <td>58063.057716</td>\n",
       "      <td>107226.112025</td>\n",
       "      <td>...</td>\n",
       "      <td>3.700607e+05</td>\n",
       "      <td>3.699287e+05</td>\n",
       "      <td>7.271144e+05</td>\n",
       "      <td>4.171504e+05</td>\n",
       "      <td>3.278131e+05</td>\n",
       "      <td>5.585311e+05</td>\n",
       "      <td>4.167644e+05</td>\n",
       "      <td>4.269186e+05</td>\n",
       "      <td>333129.4972</td>\n",
       "      <td>3.278776e+05</td>\n",
       "    </tr>\n",
       "    <tr>\n",
       "      <th>3</th>\n",
       "      <td>Austria</td>\n",
       "      <td>0.00</td>\n",
       "      <td>18688.224320</td>\n",
       "      <td>18876.639337</td>\n",
       "      <td>0.000000</td>\n",
       "      <td>0.000000</td>\n",
       "      <td>0.000000</td>\n",
       "      <td>-137.208960</td>\n",
       "      <td>17971.165858</td>\n",
       "      <td>23019.989682</td>\n",
       "      <td>...</td>\n",
       "      <td>2.599923e+04</td>\n",
       "      <td>7.008171e+03</td>\n",
       "      <td>8.000442e+03</td>\n",
       "      <td>1.962138e+04</td>\n",
       "      <td>2.780528e+04</td>\n",
       "      <td>6.287270e+03</td>\n",
       "      <td>1.736101e+04</td>\n",
       "      <td>1.523121e+04</td>\n",
       "      <td>-10654.2515</td>\n",
       "      <td>5.937885e+03</td>\n",
       "    </tr>\n",
       "    <tr>\n",
       "      <th>4</th>\n",
       "      <td>Belgium</td>\n",
       "      <td>0.00</td>\n",
       "      <td>0.000000</td>\n",
       "      <td>0.000000</td>\n",
       "      <td>0.000000</td>\n",
       "      <td>0.000000</td>\n",
       "      <td>0.000000</td>\n",
       "      <td>0.000000</td>\n",
       "      <td>0.000000</td>\n",
       "      <td>0.000000</td>\n",
       "      <td>...</td>\n",
       "      <td>-8.448066e+02</td>\n",
       "      <td>6.373268e+02</td>\n",
       "      <td>1.485556e+03</td>\n",
       "      <td>2.802875e+02</td>\n",
       "      <td>1.786745e+04</td>\n",
       "      <td>4.313471e+03</td>\n",
       "      <td>3.482845e+03</td>\n",
       "      <td>1.522731e+03</td>\n",
       "      <td>4857.8513</td>\n",
       "      <td>2.079779e+03</td>\n",
       "    </tr>\n",
       "    <tr>\n",
       "      <th>5</th>\n",
       "      <td>Bulgaria</td>\n",
       "      <td>0.00</td>\n",
       "      <td>0.000000</td>\n",
       "      <td>0.000000</td>\n",
       "      <td>46.930700</td>\n",
       "      <td>2172.174954</td>\n",
       "      <td>2238.914739</td>\n",
       "      <td>0.000000</td>\n",
       "      <td>0.000000</td>\n",
       "      <td>0.000000</td>\n",
       "      <td>...</td>\n",
       "      <td>2.269497e+03</td>\n",
       "      <td>2.566308e+03</td>\n",
       "      <td>9.151545e+03</td>\n",
       "      <td>7.196699e+03</td>\n",
       "      <td>1.647168e+03</td>\n",
       "      <td>4.858656e+03</td>\n",
       "      <td>7.426746e+03</td>\n",
       "      <td>5.857047e+03</td>\n",
       "      <td>-1739.1844</td>\n",
       "      <td>4.050176e+03</td>\n",
       "    </tr>\n",
       "  </tbody>\n",
       "</table>\n",
       "<p>5 rows × 27 columns</p>\n",
       "</div>"
      ],
      "text/plain": [
       "      Countries     1996           1997           1998          1999  \\\n",
       "0         Total  3753.45  242586.000000  265331.769513  82207.000000   \n",
       "2  EU countries     0.00   20808.371148   23068.815474   3525.273546   \n",
       "3       Austria     0.00   18688.224320   18876.639337      0.000000   \n",
       "4       Belgium     0.00       0.000000       0.000000      0.000000   \n",
       "5      Bulgaria     0.00       0.000000       0.000000     46.930700   \n",
       "\n",
       "            2000           2001           2002           2003           2004  \\\n",
       "0  131231.878347  109839.835488  160211.960454  334567.841620  492329.440023   \n",
       "2   36726.839923   63421.349613   40469.434942   58063.057716  107226.112025   \n",
       "3       0.000000       0.000000    -137.208960   17971.165858   23019.989682   \n",
       "4       0.000000       0.000000       0.000000       0.000000       0.000000   \n",
       "5    2172.174954    2238.914739       0.000000       0.000000       0.000000   \n",
       "\n",
       "   ...          2012          2013          2014          2015          2016  \\\n",
       "0  ...  1.048227e+06  1.039174e+06  1.836980e+06  1.728758e+06  1.653993e+06   \n",
       "2  ...  3.700607e+05  3.699287e+05  7.271144e+05  4.171504e+05  3.278131e+05   \n",
       "3  ...  2.599923e+04  7.008171e+03  8.000442e+03  1.962138e+04  2.780528e+04   \n",
       "4  ... -8.448066e+02  6.373268e+02  1.485556e+03  2.802875e+02  1.786745e+04   \n",
       "5  ...  2.269497e+03  2.566308e+03  9.151545e+03  7.196699e+03  1.647168e+03   \n",
       "\n",
       "           2017          2018          2019         2020          2021  \n",
       "0  1.980773e+06  1.317071e+06  1.335811e+06  571963.2561  1.152818e+06  \n",
       "2  5.585311e+05  4.167644e+05  4.269186e+05  333129.4972  3.278776e+05  \n",
       "3  6.287270e+03  1.736101e+04  1.523121e+04  -10654.2515  5.937885e+03  \n",
       "4  4.313471e+03  3.482845e+03  1.522731e+03    4857.8513  2.079779e+03  \n",
       "5  4.858656e+03  7.426746e+03  5.857047e+03   -1739.1844  4.050176e+03  \n",
       "\n",
       "[5 rows x 27 columns]"
      ]
     },
     "execution_count": 11,
     "metadata": {},
     "output_type": "execute_result"
    }
   ],
   "source": [
    "df_FDICountry.head()"
   ]
  },
  {
   "cell_type": "code",
   "execution_count": 12,
   "id": "0f213325-1b47-4af7-828d-d40def5b8c45",
   "metadata": {},
   "outputs": [
    {
     "data": {
      "text/html": [
       "<div>\n",
       "<style scoped>\n",
       "    .dataframe tbody tr th:only-of-type {\n",
       "        vertical-align: middle;\n",
       "    }\n",
       "\n",
       "    .dataframe tbody tr th {\n",
       "        vertical-align: top;\n",
       "    }\n",
       "\n",
       "    .dataframe thead th {\n",
       "        text-align: right;\n",
       "    }\n",
       "</style>\n",
       "<table border=\"1\" class=\"dataframe\">\n",
       "  <thead>\n",
       "    <tr style=\"text-align: right;\">\n",
       "      <th></th>\n",
       "      <th>Countries</th>\n",
       "      <th>1996</th>\n",
       "      <th>1997</th>\n",
       "      <th>1998</th>\n",
       "      <th>1999</th>\n",
       "      <th>2000</th>\n",
       "      <th>2001</th>\n",
       "      <th>2002</th>\n",
       "      <th>2003</th>\n",
       "      <th>2004</th>\n",
       "      <th>...</th>\n",
       "      <th>2012</th>\n",
       "      <th>2013</th>\n",
       "      <th>2014</th>\n",
       "      <th>2015</th>\n",
       "      <th>2016</th>\n",
       "      <th>2017</th>\n",
       "      <th>2018</th>\n",
       "      <th>2019</th>\n",
       "      <th>2020</th>\n",
       "      <th>2021</th>\n",
       "    </tr>\n",
       "  </thead>\n",
       "  <tbody>\n",
       "    <tr>\n",
       "      <th>count</th>\n",
       "      <td>81</td>\n",
       "      <td>81.000000</td>\n",
       "      <td>81.000000</td>\n",
       "      <td>81.000000</td>\n",
       "      <td>81.000000</td>\n",
       "      <td>81.000000</td>\n",
       "      <td>81.000000</td>\n",
       "      <td>81.000000</td>\n",
       "      <td>81.000000</td>\n",
       "      <td>81.000000</td>\n",
       "      <td>...</td>\n",
       "      <td>8.100000e+01</td>\n",
       "      <td>8.100000e+01</td>\n",
       "      <td>8.100000e+01</td>\n",
       "      <td>8.100000e+01</td>\n",
       "      <td>8.100000e+01</td>\n",
       "      <td>8.100000e+01</td>\n",
       "      <td>8.100000e+01</td>\n",
       "      <td>8.100000e+01</td>\n",
       "      <td>81.000000</td>\n",
       "      <td>8.100000e+01</td>\n",
       "    </tr>\n",
       "    <tr>\n",
       "      <th>unique</th>\n",
       "      <td>80</td>\n",
       "      <td>NaN</td>\n",
       "      <td>NaN</td>\n",
       "      <td>NaN</td>\n",
       "      <td>NaN</td>\n",
       "      <td>NaN</td>\n",
       "      <td>NaN</td>\n",
       "      <td>NaN</td>\n",
       "      <td>NaN</td>\n",
       "      <td>NaN</td>\n",
       "      <td>...</td>\n",
       "      <td>NaN</td>\n",
       "      <td>NaN</td>\n",
       "      <td>NaN</td>\n",
       "      <td>NaN</td>\n",
       "      <td>NaN</td>\n",
       "      <td>NaN</td>\n",
       "      <td>NaN</td>\n",
       "      <td>NaN</td>\n",
       "      <td>NaN</td>\n",
       "      <td>NaN</td>\n",
       "    </tr>\n",
       "    <tr>\n",
       "      <th>top</th>\n",
       "      <td>Other countries</td>\n",
       "      <td>NaN</td>\n",
       "      <td>NaN</td>\n",
       "      <td>NaN</td>\n",
       "      <td>NaN</td>\n",
       "      <td>NaN</td>\n",
       "      <td>NaN</td>\n",
       "      <td>NaN</td>\n",
       "      <td>NaN</td>\n",
       "      <td>NaN</td>\n",
       "      <td>...</td>\n",
       "      <td>NaN</td>\n",
       "      <td>NaN</td>\n",
       "      <td>NaN</td>\n",
       "      <td>NaN</td>\n",
       "      <td>NaN</td>\n",
       "      <td>NaN</td>\n",
       "      <td>NaN</td>\n",
       "      <td>NaN</td>\n",
       "      <td>NaN</td>\n",
       "      <td>NaN</td>\n",
       "    </tr>\n",
       "    <tr>\n",
       "      <th>freq</th>\n",
       "      <td>2</td>\n",
       "      <td>NaN</td>\n",
       "      <td>NaN</td>\n",
       "      <td>NaN</td>\n",
       "      <td>NaN</td>\n",
       "      <td>NaN</td>\n",
       "      <td>NaN</td>\n",
       "      <td>NaN</td>\n",
       "      <td>NaN</td>\n",
       "      <td>NaN</td>\n",
       "      <td>...</td>\n",
       "      <td>NaN</td>\n",
       "      <td>NaN</td>\n",
       "      <td>NaN</td>\n",
       "      <td>NaN</td>\n",
       "      <td>NaN</td>\n",
       "      <td>NaN</td>\n",
       "      <td>NaN</td>\n",
       "      <td>NaN</td>\n",
       "      <td>NaN</td>\n",
       "      <td>NaN</td>\n",
       "    </tr>\n",
       "    <tr>\n",
       "      <th>mean</th>\n",
       "      <td>NaN</td>\n",
       "      <td>139.016667</td>\n",
       "      <td>8984.666667</td>\n",
       "      <td>9827.102575</td>\n",
       "      <td>3044.703704</td>\n",
       "      <td>4860.439939</td>\n",
       "      <td>4068.142055</td>\n",
       "      <td>5920.487506</td>\n",
       "      <td>12365.604606</td>\n",
       "      <td>18221.522208</td>\n",
       "      <td>...</td>\n",
       "      <td>3.803983e+04</td>\n",
       "      <td>3.781286e+04</td>\n",
       "      <td>6.934470e+04</td>\n",
       "      <td>6.345373e+04</td>\n",
       "      <td>6.078465e+04</td>\n",
       "      <td>7.333091e+04</td>\n",
       "      <td>4.876033e+04</td>\n",
       "      <td>4.938948e+04</td>\n",
       "      <td>21165.823743</td>\n",
       "      <td>4.265139e+04</td>\n",
       "    </tr>\n",
       "    <tr>\n",
       "      <th>std</th>\n",
       "      <td>NaN</td>\n",
       "      <td>713.265242</td>\n",
       "      <td>35889.069853</td>\n",
       "      <td>38795.186939</td>\n",
       "      <td>14036.778023</td>\n",
       "      <td>18467.613455</td>\n",
       "      <td>15045.649121</td>\n",
       "      <td>23719.452802</td>\n",
       "      <td>44809.913894</td>\n",
       "      <td>65107.169313</td>\n",
       "      <td>...</td>\n",
       "      <td>1.351663e+05</td>\n",
       "      <td>1.333432e+05</td>\n",
       "      <td>2.433453e+05</td>\n",
       "      <td>2.292981e+05</td>\n",
       "      <td>2.178825e+05</td>\n",
       "      <td>2.602933e+05</td>\n",
       "      <td>1.719509e+05</td>\n",
       "      <td>1.773130e+05</td>\n",
       "      <td>89959.160900</td>\n",
       "      <td>1.679632e+05</td>\n",
       "    </tr>\n",
       "    <tr>\n",
       "      <th>min</th>\n",
       "      <td>NaN</td>\n",
       "      <td>0.000000</td>\n",
       "      <td>0.000000</td>\n",
       "      <td>-2667.560000</td>\n",
       "      <td>-547.404634</td>\n",
       "      <td>-50.950742</td>\n",
       "      <td>-36.425596</td>\n",
       "      <td>-2215.848880</td>\n",
       "      <td>0.000000</td>\n",
       "      <td>0.000000</td>\n",
       "      <td>...</td>\n",
       "      <td>-5.435377e+03</td>\n",
       "      <td>-4.428540e+04</td>\n",
       "      <td>-1.059804e+05</td>\n",
       "      <td>-3.463844e+04</td>\n",
       "      <td>-8.831696e+04</td>\n",
       "      <td>-9.450772e+04</td>\n",
       "      <td>-8.644045e+04</td>\n",
       "      <td>-3.471626e+04</td>\n",
       "      <td>-210092.413900</td>\n",
       "      <td>-3.977760e+04</td>\n",
       "    </tr>\n",
       "    <tr>\n",
       "      <th>25%</th>\n",
       "      <td>NaN</td>\n",
       "      <td>0.000000</td>\n",
       "      <td>0.000000</td>\n",
       "      <td>0.000000</td>\n",
       "      <td>0.000000</td>\n",
       "      <td>0.000000</td>\n",
       "      <td>0.000000</td>\n",
       "      <td>0.000000</td>\n",
       "      <td>0.000000</td>\n",
       "      <td>0.000000</td>\n",
       "      <td>...</td>\n",
       "      <td>0.000000e+00</td>\n",
       "      <td>0.000000e+00</td>\n",
       "      <td>6.327700e+01</td>\n",
       "      <td>0.000000e+00</td>\n",
       "      <td>7.645000e+00</td>\n",
       "      <td>4.671882e+02</td>\n",
       "      <td>5.052137e+02</td>\n",
       "      <td>5.135460e+01</td>\n",
       "      <td>-84.348800</td>\n",
       "      <td>1.921103e+02</td>\n",
       "    </tr>\n",
       "    <tr>\n",
       "      <th>50%</th>\n",
       "      <td>NaN</td>\n",
       "      <td>0.000000</td>\n",
       "      <td>0.000000</td>\n",
       "      <td>0.000000</td>\n",
       "      <td>0.000000</td>\n",
       "      <td>0.000000</td>\n",
       "      <td>0.000000</td>\n",
       "      <td>0.000000</td>\n",
       "      <td>0.000000</td>\n",
       "      <td>0.000000</td>\n",
       "      <td>...</td>\n",
       "      <td>2.269497e+03</td>\n",
       "      <td>2.190028e+03</td>\n",
       "      <td>2.030814e+03</td>\n",
       "      <td>2.204768e+03</td>\n",
       "      <td>3.094233e+03</td>\n",
       "      <td>2.516090e+03</td>\n",
       "      <td>2.028227e+03</td>\n",
       "      <td>2.735859e+03</td>\n",
       "      <td>976.633700</td>\n",
       "      <td>2.508438e+03</td>\n",
       "    </tr>\n",
       "    <tr>\n",
       "      <th>75%</th>\n",
       "      <td>NaN</td>\n",
       "      <td>0.000000</td>\n",
       "      <td>0.000000</td>\n",
       "      <td>0.000000</td>\n",
       "      <td>0.000000</td>\n",
       "      <td>41.003056</td>\n",
       "      <td>0.000000</td>\n",
       "      <td>87.774160</td>\n",
       "      <td>1438.500247</td>\n",
       "      <td>1280.000006</td>\n",
       "      <td>...</td>\n",
       "      <td>2.201732e+04</td>\n",
       "      <td>2.310090e+04</td>\n",
       "      <td>2.004815e+04</td>\n",
       "      <td>1.862883e+04</td>\n",
       "      <td>2.548083e+04</td>\n",
       "      <td>1.291344e+04</td>\n",
       "      <td>1.736101e+04</td>\n",
       "      <td>2.240869e+04</td>\n",
       "      <td>6970.890000</td>\n",
       "      <td>9.274351e+03</td>\n",
       "    </tr>\n",
       "    <tr>\n",
       "      <th>max</th>\n",
       "      <td>NaN</td>\n",
       "      <td>3753.450000</td>\n",
       "      <td>242586.000000</td>\n",
       "      <td>265331.769513</td>\n",
       "      <td>82207.000000</td>\n",
       "      <td>131231.878347</td>\n",
       "      <td>109839.835488</td>\n",
       "      <td>160211.960454</td>\n",
       "      <td>334567.841620</td>\n",
       "      <td>492329.440023</td>\n",
       "      <td>...</td>\n",
       "      <td>1.048227e+06</td>\n",
       "      <td>1.039174e+06</td>\n",
       "      <td>1.836980e+06</td>\n",
       "      <td>1.728758e+06</td>\n",
       "      <td>1.653993e+06</td>\n",
       "      <td>1.980773e+06</td>\n",
       "      <td>1.317071e+06</td>\n",
       "      <td>1.335811e+06</td>\n",
       "      <td>571963.256100</td>\n",
       "      <td>1.152818e+06</td>\n",
       "    </tr>\n",
       "  </tbody>\n",
       "</table>\n",
       "<p>11 rows × 27 columns</p>\n",
       "</div>"
      ],
      "text/plain": [
       "              Countries         1996           1997           1998  \\\n",
       "count                81    81.000000      81.000000      81.000000   \n",
       "unique               80          NaN            NaN            NaN   \n",
       "top     Other countries          NaN            NaN            NaN   \n",
       "freq                  2          NaN            NaN            NaN   \n",
       "mean                NaN   139.016667    8984.666667    9827.102575   \n",
       "std                 NaN   713.265242   35889.069853   38795.186939   \n",
       "min                 NaN     0.000000       0.000000   -2667.560000   \n",
       "25%                 NaN     0.000000       0.000000       0.000000   \n",
       "50%                 NaN     0.000000       0.000000       0.000000   \n",
       "75%                 NaN     0.000000       0.000000       0.000000   \n",
       "max                 NaN  3753.450000  242586.000000  265331.769513   \n",
       "\n",
       "                1999           2000           2001           2002  \\\n",
       "count      81.000000      81.000000      81.000000      81.000000   \n",
       "unique           NaN            NaN            NaN            NaN   \n",
       "top              NaN            NaN            NaN            NaN   \n",
       "freq             NaN            NaN            NaN            NaN   \n",
       "mean     3044.703704    4860.439939    4068.142055    5920.487506   \n",
       "std     14036.778023   18467.613455   15045.649121   23719.452802   \n",
       "min      -547.404634     -50.950742     -36.425596   -2215.848880   \n",
       "25%         0.000000       0.000000       0.000000       0.000000   \n",
       "50%         0.000000       0.000000       0.000000       0.000000   \n",
       "75%         0.000000      41.003056       0.000000      87.774160   \n",
       "max     82207.000000  131231.878347  109839.835488  160211.960454   \n",
       "\n",
       "                 2003           2004  ...          2012          2013  \\\n",
       "count       81.000000      81.000000  ...  8.100000e+01  8.100000e+01   \n",
       "unique            NaN            NaN  ...           NaN           NaN   \n",
       "top               NaN            NaN  ...           NaN           NaN   \n",
       "freq              NaN            NaN  ...           NaN           NaN   \n",
       "mean     12365.604606   18221.522208  ...  3.803983e+04  3.781286e+04   \n",
       "std      44809.913894   65107.169313  ...  1.351663e+05  1.333432e+05   \n",
       "min          0.000000       0.000000  ... -5.435377e+03 -4.428540e+04   \n",
       "25%          0.000000       0.000000  ...  0.000000e+00  0.000000e+00   \n",
       "50%          0.000000       0.000000  ...  2.269497e+03  2.190028e+03   \n",
       "75%       1438.500247    1280.000006  ...  2.201732e+04  2.310090e+04   \n",
       "max     334567.841620  492329.440023  ...  1.048227e+06  1.039174e+06   \n",
       "\n",
       "                2014          2015          2016          2017          2018  \\\n",
       "count   8.100000e+01  8.100000e+01  8.100000e+01  8.100000e+01  8.100000e+01   \n",
       "unique           NaN           NaN           NaN           NaN           NaN   \n",
       "top              NaN           NaN           NaN           NaN           NaN   \n",
       "freq             NaN           NaN           NaN           NaN           NaN   \n",
       "mean    6.934470e+04  6.345373e+04  6.078465e+04  7.333091e+04  4.876033e+04   \n",
       "std     2.433453e+05  2.292981e+05  2.178825e+05  2.602933e+05  1.719509e+05   \n",
       "min    -1.059804e+05 -3.463844e+04 -8.831696e+04 -9.450772e+04 -8.644045e+04   \n",
       "25%     6.327700e+01  0.000000e+00  7.645000e+00  4.671882e+02  5.052137e+02   \n",
       "50%     2.030814e+03  2.204768e+03  3.094233e+03  2.516090e+03  2.028227e+03   \n",
       "75%     2.004815e+04  1.862883e+04  2.548083e+04  1.291344e+04  1.736101e+04   \n",
       "max     1.836980e+06  1.728758e+06  1.653993e+06  1.980773e+06  1.317071e+06   \n",
       "\n",
       "                2019           2020          2021  \n",
       "count   8.100000e+01      81.000000  8.100000e+01  \n",
       "unique           NaN            NaN           NaN  \n",
       "top              NaN            NaN           NaN  \n",
       "freq             NaN            NaN           NaN  \n",
       "mean    4.938948e+04   21165.823743  4.265139e+04  \n",
       "std     1.773130e+05   89959.160900  1.679632e+05  \n",
       "min    -3.471626e+04 -210092.413900 -3.977760e+04  \n",
       "25%     5.135460e+01     -84.348800  1.921103e+02  \n",
       "50%     2.735859e+03     976.633700  2.508438e+03  \n",
       "75%     2.240869e+04    6970.890000  9.274351e+03  \n",
       "max     1.335811e+06  571963.256100  1.152818e+06  \n",
       "\n",
       "[11 rows x 27 columns]"
      ]
     },
     "execution_count": 12,
     "metadata": {},
     "output_type": "execute_result"
    }
   ],
   "source": [
    "df_FDICountry.describe(include=\"all\")"
   ]
  },
  {
   "cell_type": "code",
   "execution_count": 13,
   "id": "6d148df4-3350-4af0-8da0-8092d65f0b20",
   "metadata": {},
   "outputs": [
    {
     "data": {
      "text/plain": [
       "Countries    80\n",
       "1996          2\n",
       "1997         20\n",
       "1998         22\n",
       "1999         19\n",
       "2000         23\n",
       "2001         22\n",
       "2002         27\n",
       "2003         35\n",
       "2004         30\n",
       "2005         48\n",
       "2006         54\n",
       "2007         60\n",
       "2008         59\n",
       "2009         65\n",
       "2010         67\n",
       "2011         70\n",
       "2012         70\n",
       "2013         76\n",
       "2014         76\n",
       "2015         78\n",
       "2016         79\n",
       "2017         81\n",
       "2018         79\n",
       "2019         79\n",
       "2020         79\n",
       "2021         81\n",
       "dtype: int64"
      ]
     },
     "execution_count": 13,
     "metadata": {},
     "output_type": "execute_result"
    }
   ],
   "source": [
    "df_FDICountry.nunique()"
   ]
  },
  {
   "cell_type": "code",
   "execution_count": 14,
   "id": "eef382ca-9483-4b23-9a7a-ebd597e2e5e1",
   "metadata": {},
   "outputs": [
    {
     "data": {
      "text/plain": [
       "<AxesSubplot:>"
      ]
     },
     "execution_count": 14,
     "metadata": {},
     "output_type": "execute_result"
    },
    {
     "data": {
      "image/png": "[encoded data removed]",
      "text/plain": [
       "<Figure size 1800x360 with 1 Axes>"
      ]
     },
     "metadata": {
      "needs_background": "light"
     },
     "output_type": "display_data"
    }
   ],
   "source": [
    "df_FDICountry.set_index(\"Countries\").T.plot(kind = 'bar', figsize = (25,5), legend = False)"
   ]
  },
  {
   "cell_type": "code",
   "execution_count": 15,
   "id": "75c94763-9ed6-41ef-954a-7ec65c616ac7",
   "metadata": {},
   "outputs": [],
   "source": [
    "df_FDICountry.set_index(\"Countries\", drop = False, inplace = True) #keep Countries also as alist for Plotly"
   ]
  },
  {
   "cell_type": "code",
   "execution_count": 17,
   "id": "2135d309-ae0d-4175-a1ad-969ad11a0928",
   "metadata": {},
   "outputs": [
    {
     "data": {
      "application/vnd.plotly.v1+json": {
       "config": {
        "plotlyServerURL": "https://plot.ly"
       },
       "data": [
        {
         "domain": {
          "x": [
           0,
           1
          ],
          "y": [
           0,
           1
          ]
         },
         "hovertemplate": "Countries=%{label}<br>2021=%{value}<extra></extra>",
         "labels": [
          "EU countries",
          "CIS countries",
          "Other countries",
          "Other countries"
         ],
         "legendgroup": "",
         "name": "",
         "showlegend": true,
         "textinfo": "percent+label",
         "textposition": "inside",
         "type": "pie",
         "values": [
          327877.64619999996,
          68202.59509999995,
          753047.3181999999,
          13401.755200000001
         ]
        }
       ],
       "layout": {
        "height": 750,
        "legend": {
         "tracegroupgap": 0
        },
        "template": {
         "data": {
          "bar": [
           {
            "error_x": {
             "color": "#2a3f5f"
            },
            "error_y": {
             "color": "#2a3f5f"
            },
            "marker": {
             "line": {
              "color": "#E5ECF6",
              "width": 0.5
             },
             "pattern": {
              "fillmode": "overlay",
              "size": 10,
              "solidity": 0.2
             }
            },
            "type": "bar"
           }
          ],
          "barpolar": [
           {
            "marker": {
             "line": {
              "color": "#E5ECF6",
              "width": 0.5
             },
             "pattern": {
              "fillmode": "overlay",
              "size": 10,
              "solidity": 0.2
             }
            },
            "type": "barpolar"
           }
          ],
          "carpet": [
           {
            "aaxis": {
             "endlinecolor": "#2a3f5f",
             "gridcolor": "white",
             "linecolor": "white",
             "minorgridcolor": "white",
             "startlinecolor": "#2a3f5f"
            },
            "baxis": {
             "endlinecolor": "#2a3f5f",
             "gridcolor": "white",
             "linecolor": "white",
             "minorgridcolor": "white",
             "startlinecolor": "#2a3f5f"
            },
            "type": "carpet"
           }
          ],
          "choropleth": [
           {
            "colorbar": {
             "outlinewidth": 0,
             "ticks": ""
            },
            "type": "choropleth"
           }
          ],
          "contour": [
           {
            "colorbar": {
             "outlinewidth": 0,
             "ticks": ""
            },
            "colorscale": [
             [
              0,
              "#0d0887"
             ],
             [
              0.1111111111111111,
              "#46039f"
             ],
             [
              0.2222222222222222,
              "#7201a8"
             ],
             [
              0.3333333333333333,
              "#9c179e"
             ],
             [
              0.4444444444444444,
              "#bd3786"
             ],
             [
              0.5555555555555556,
              "#d8576b"
             ],
             [
              0.6666666666666666,
              "#ed7953"
             ],
             [
              0.7777777777777778,
              "#fb9f3a"
             ],
             [
              0.8888888888888888,
              "#fdca26"
             ],
             [
              1,
              "#f0f921"
             ]
            ],
            "type": "contour"
           }
          ],
          "contourcarpet": [
           {
            "colorbar": {
             "outlinewidth": 0,
             "ticks": ""
            },
            "type": "contourcarpet"
           }
          ],
          "heatmap": [
           {
            "colorbar": {
             "outlinewidth": 0,
             "ticks": ""
            },
            "colorscale": [
             [
              0,
              "#0d0887"
             ],
             [
              0.1111111111111111,
              "#46039f"
             ],
             [
              0.2222222222222222,
              "#7201a8"
             ],
             [
              0.3333333333333333,
              "#9c179e"
             ],
             [
              0.4444444444444444,
              "#bd3786"
             ],
             [
              0.5555555555555556,
              "#d8576b"
             ],
             [
              0.6666666666666666,
              "#ed7953"
             ],
             [
              0.7777777777777778,
              "#fb9f3a"
             ],
             [
              0.8888888888888888,
              "#fdca26"
             ],
             [
              1,
              "#f0f921"
             ]
            ],
            "type": "heatmap"
           }
          ],
          "heatmapgl": [
           {
            "colorbar": {
             "outlinewidth": 0,
             "ticks": ""
            },
            "colorscale": [
             [
              0,
              "#0d0887"
             ],
             [
              0.1111111111111111,
              "#46039f"
             ],
             [
              0.2222222222222222,
              "#7201a8"
             ],
             [
              0.3333333333333333,
              "#9c179e"
             ],
             [
              0.4444444444444444,
              "#bd3786"
             ],
             [
              0.5555555555555556,
              "#d8576b"
             ],
             [
              0.6666666666666666,
              "#ed7953"
             ],
             [
              0.7777777777777778,
              "#fb9f3a"
             ],
             [
              0.8888888888888888,
              "#fdca26"
             ],
             [
              1,
              "#f0f921"
             ]
            ],
            "type": "heatmapgl"
           }
          ],
          "histogram": [
           {
            "marker": {
             "pattern": {
              "fillmode": "overlay",
              "size": 10,
              "solidity": 0.2
             }
            },
            "type": "histogram"
           }
          ],
          "histogram2d": [
           {
            "colorbar": {
             "outlinewidth": 0,
             "ticks": ""
            },
            "colorscale": [
             [
              0,
              "#0d0887"
             ],
             [
              0.1111111111111111,
              "#46039f"
             ],
             [
              0.2222222222222222,
              "#7201a8"
             ],
             [
              0.3333333333333333,
              "#9c179e"
             ],
             [
              0.4444444444444444,
              "#bd3786"
             ],
             [
              0.5555555555555556,
              "#d8576b"
             ],
             [
              0.6666666666666666,
              "#ed7953"
             ],
             [
              0.7777777777777778,
              "#fb9f3a"
             ],
             [
              0.8888888888888888,
              "#fdca26"
             ],
             [
              1,
              "#f0f921"
             ]
            ],
            "type": "histogram2d"
           }
          ],
          "histogram2dcontour": [
           {
            "colorbar": {
             "outlinewidth": 0,
             "ticks": ""
            },
            "colorscale": [
             [
              0,
              "#0d0887"
             ],
             [
              0.1111111111111111,
              "#46039f"
             ],
             [
              0.2222222222222222,
              "#7201a8"
             ],
             [
              0.3333333333333333,
              "#9c179e"
             ],
             [
              0.4444444444444444,
              "#bd3786"
             ],
             [
              0.5555555555555556,
              "#d8576b"
             ],
             [
              0.6666666666666666,
              "#ed7953"
             ],
             [
              0.7777777777777778,
              "#fb9f3a"
             ],
             [
              0.8888888888888888,
              "#fdca26"
             ],
             [
              1,
              "#f0f921"
             ]
            ],
            "type": "histogram2dcontour"
           }
          ],
          "mesh3d": [
           {
            "colorbar": {
             "outlinewidth": 0,
             "ticks": ""
            },
            "type": "mesh3d"
           }
          ],
          "parcoords": [
           {
            "line": {
             "colorbar": {
              "outlinewidth": 0,
              "ticks": ""
             }
            },
            "type": "parcoords"
           }
          ],
          "pie": [
           {
            "automargin": true,
            "type": "pie"
           }
          ],
          "scatter": [
           {
            "marker": {
             "colorbar": {
              "outlinewidth": 0,
              "ticks": ""
             }
            },
            "type": "scatter"
           }
          ],
          "scatter3d": [
           {
            "line": {
             "colorbar": {
              "outlinewidth": 0,
              "ticks": ""
             }
            },
            "marker": {
             "colorbar": {
              "outlinewidth": 0,
              "ticks": ""
             }
            },
            "type": "scatter3d"
           }
          ],
          "scattercarpet": [
           {
            "marker": {
             "colorbar": {
              "outlinewidth": 0,
              "ticks": ""
             }
            },
            "type": "scattercarpet"
           }
          ],
          "scattergeo": [
           {
            "marker": {
             "colorbar": {
              "outlinewidth": 0,
              "ticks": ""
             }
            },
            "type": "scattergeo"
           }
          ],
          "scattergl": [
           {
            "marker": {
             "colorbar": {
              "outlinewidth": 0,
              "ticks": ""
             }
            },
            "type": "scattergl"
           }
          ],
          "scattermapbox": [
           {
            "marker": {
             "colorbar": {
              "outlinewidth": 0,
              "ticks": ""
             }
            },
            "type": "scattermapbox"
           }
          ],
          "scatterpolar": [
           {
            "marker": {
             "colorbar": {
              "outlinewidth": 0,
              "ticks": ""
             }
            },
            "type": "scatterpolar"
           }
          ],
          "scatterpolargl": [
           {
            "marker": {
             "colorbar": {
              "outlinewidth": 0,
              "ticks": ""
             }
            },
            "type": "scatterpolargl"
           }
          ],
          "scatterternary": [
           {
            "marker": {
             "colorbar": {
              "outlinewidth": 0,
              "ticks": ""
             }
            },
            "type": "scatterternary"
           }
          ],
          "surface": [
           {
            "colorbar": {
             "outlinewidth": 0,
             "ticks": ""
            },
            "colorscale": [
             [
              0,
              "#0d0887"
             ],
             [
              0.1111111111111111,
              "#46039f"
             ],
             [
              0.2222222222222222,
              "#7201a8"
             ],
             [
              0.3333333333333333,
              "#9c179e"
             ],
             [
              0.4444444444444444,
              "#bd3786"
             ],
             [
              0.5555555555555556,
              "#d8576b"
             ],
             [
              0.6666666666666666,
              "#ed7953"
             ],
             [
              0.7777777777777778,
              "#fb9f3a"
             ],
             [
              0.8888888888888888,
              "#fdca26"
             ],
             [
              1,
              "#f0f921"
             ]
            ],
            "type": "surface"
           }
          ],
          "table": [
           {
            "cells": {
             "fill": {
              "color": "#EBF0F8"
             },
             "line": {
              "color": "white"
             }
            },
            "header": {
             "fill": {
              "color": "#C8D4E3"
             },
             "line": {
              "color": "white"
             }
            },
            "type": "table"
           }
          ]
         },
         "layout": {
          "annotationdefaults": {
           "arrowcolor": "#2a3f5f",
           "arrowhead": 0,
           "arrowwidth": 1
          },
          "autotypenumbers": "strict",
          "coloraxis": {
           "colorbar": {
            "outlinewidth": 0,
            "ticks": ""
           }
          },
          "colorscale": {
           "diverging": [
            [
             0,
             "#8e0152"
            ],
            [
             0.1,
             "#c51b7d"
            ],
            [
             0.2,
             "#de77ae"
            ],
            [
             0.3,
             "#f1b6da"
            ],
            [
             0.4,
             "#fde0ef"
            ],
            [
             0.5,
             "#f7f7f7"
            ],
            [
             0.6,
             "#e6f5d0"
            ],
            [
             0.7,
             "#b8e186"
            ],
            [
             0.8,
             "#7fbc41"
            ],
            [
             0.9,
             "#4d9221"
            ],
            [
             1,
             "#276419"
            ]
           ],
           "sequential": [
            [
             0,
             "#0d0887"
            ],
            [
             0.1111111111111111,
             "#46039f"
            ],
            [
             0.2222222222222222,
             "#7201a8"
            ],
            [
             0.3333333333333333,
             "#9c179e"
            ],
            [
             0.4444444444444444,
             "#bd3786"
            ],
            [
             0.5555555555555556,
             "#d8576b"
            ],
            [
             0.6666666666666666,
             "#ed7953"
            ],
            [
             0.7777777777777778,
             "#fb9f3a"
            ],
            [
             0.8888888888888888,
             "#fdca26"
            ],
            [
             1,
             "#f0f921"
            ]
           ],
           "sequentialminus": [
            [
             0,
             "#0d0887"
            ],
            [
             0.1111111111111111,
             "#46039f"
            ],
            [
             0.2222222222222222,
             "#7201a8"
            ],
            [
             0.3333333333333333,
             "#9c179e"
            ],
            [
             0.4444444444444444,
             "#bd3786"
            ],
            [
             0.5555555555555556,
             "#d8576b"
            ],
            [
             0.6666666666666666,
             "#ed7953"
            ],
            [
             0.7777777777777778,
             "#fb9f3a"
            ],
            [
             0.8888888888888888,
             "#fdca26"
            ],
            [
             1,
             "#f0f921"
            ]
           ]
          },
          "colorway": [
           "#636efa",
           "#EF553B",
           "#00cc96",
           "#ab63fa",
           "#FFA15A",
           "#19d3f3",
           "#FF6692",
           "#B6E880",
           "#FF97FF",
           "#FECB52"
          ],
          "font": {
           "color": "#2a3f5f"
          },
          "geo": {
           "bgcolor": "white",
           "lakecolor": "white",
           "landcolor": "#E5ECF6",
           "showlakes": true,
           "showland": true,
           "subunitcolor": "white"
          },
          "hoverlabel": {
           "align": "left"
          },
          "hovermode": "closest",
          "mapbox": {
           "style": "light"
          },
          "paper_bgcolor": "white",
          "plot_bgcolor": "#E5ECF6",
          "polar": {
           "angularaxis": {
            "gridcolor": "white",
            "linecolor": "white",
            "ticks": ""
           },
           "bgcolor": "#E5ECF6",
           "radialaxis": {
            "gridcolor": "white",
            "linecolor": "white",
            "ticks": ""
           }
          },
          "scene": {
           "xaxis": {
            "backgroundcolor": "#E5ECF6",
            "gridcolor": "white",
            "gridwidth": 2,
            "linecolor": "white",
            "showbackground": true,
            "ticks": "",
            "zerolinecolor": "white"
           },
           "yaxis": {
            "backgroundcolor": "#E5ECF6",
            "gridcolor": "white",
            "gridwidth": 2,
            "linecolor": "white",
            "showbackground": true,
            "ticks": "",
            "zerolinecolor": "white"
           },
           "zaxis": {
            "backgroundcolor": "#E5ECF6",
            "gridcolor": "white",
            "gridwidth": 2,
            "linecolor": "white",
            "showbackground": true,
            "ticks": "",
            "zerolinecolor": "white"
           }
          },
          "shapedefaults": {
           "line": {
            "color": "#2a3f5f"
           }
          },
          "ternary": {
           "aaxis": {
            "gridcolor": "white",
            "linecolor": "white",
            "ticks": ""
           },
           "baxis": {
            "gridcolor": "white",
            "linecolor": "white",
            "ticks": ""
           },
           "bgcolor": "#E5ECF6",
           "caxis": {
            "gridcolor": "white",
            "linecolor": "white",
            "ticks": ""
           }
          },
          "title": {
           "x": 0.05
          },
          "xaxis": {
           "automargin": true,
           "gridcolor": "white",
           "linecolor": "white",
           "ticks": "",
           "title": {
            "standoff": 15
           },
           "zerolinecolor": "white",
           "zerolinewidth": 2
          },
          "yaxis": {
           "automargin": true,
           "gridcolor": "white",
           "linecolor": "white",
           "ticks": "",
           "title": {
            "standoff": 15
           },
           "zerolinecolor": "white",
           "zerolinewidth": 2
          }
         }
        },
        "title": {
         "text": "FDI by Country groups in 2021 (preliminary values)"
        }
       }
      }
     },
     "metadata": {},
     "output_type": "display_data"
    }
   ],
   "source": [
    "fig1 = px.pie(df_FDICountry.loc[[\"EU countries\",\"CIS countries\", \"Other countries\"]], values = 2021,names = \"Countries\", title = \"FDI by Country groups in 2021 (preliminary values)\", height = 750)\n",
    "fig1.update_traces(textposition='inside', textinfo='percent+label')\n",
    "fig1.show()"
   ]
  },
  {
   "cell_type": "code",
   "execution_count": 18,
   "id": "5a55e17f-75b8-4149-a9c0-6ca23f859b63",
   "metadata": {},
   "outputs": [],
   "source": [
    "df_FDICountry2 = df_FDICountry.drop(index = [\"Total\", \"EU countries\", \"Other countries\", \"CIS countries\"])\n",
    "df_FDICountry2.drop(columns = \"Countries\", inplace = True)\n",
    "df_FDICountry2 = df_FDICountry2.T\n",
    "df_FDICountry2.reset_index(drop= False, inplace= True)"
   ]
  },
  {
   "cell_type": "code",
   "execution_count": 19,
   "id": "c1ad7b6f",
   "metadata": {
    "scrolled": true
   },
   "outputs": [
    {
     "data": {
      "text/html": [
       "<div>\n",
       "<style scoped>\n",
       "    .dataframe tbody tr th:only-of-type {\n",
       "        vertical-align: middle;\n",
       "    }\n",
       "\n",
       "    .dataframe tbody tr th {\n",
       "        vertical-align: top;\n",
       "    }\n",
       "\n",
       "    .dataframe thead th {\n",
       "        text-align: right;\n",
       "    }\n",
       "</style>\n",
       "<table border=\"1\" class=\"dataframe\">\n",
       "  <thead>\n",
       "    <tr style=\"text-align: right;\">\n",
       "      <th>Countries</th>\n",
       "      <th>index</th>\n",
       "      <th>Austria</th>\n",
       "      <th>Belgium</th>\n",
       "      <th>Bulgaria</th>\n",
       "      <th>Croatia</th>\n",
       "      <th>Cyprus</th>\n",
       "      <th>Czech Republic</th>\n",
       "      <th>Denmark</th>\n",
       "      <th>Estonia</th>\n",
       "      <th>Finland</th>\n",
       "      <th>...</th>\n",
       "      <th>Seychelles</th>\n",
       "      <th>Switzerland</th>\n",
       "      <th>Syrian</th>\n",
       "      <th>United Arab Emirates</th>\n",
       "      <th>Turkey</th>\n",
       "      <th>Egypt</th>\n",
       "      <th>United Kingdom</th>\n",
       "      <th>United States</th>\n",
       "      <th>Unknown</th>\n",
       "      <th>International Organizations</th>\n",
       "    </tr>\n",
       "  </thead>\n",
       "  <tbody>\n",
       "    <tr>\n",
       "      <th>0</th>\n",
       "      <td>1996</td>\n",
       "      <td>0.000000</td>\n",
       "      <td>0.000000</td>\n",
       "      <td>0.000000</td>\n",
       "      <td>0.0000</td>\n",
       "      <td>0.000000</td>\n",
       "      <td>0.000000</td>\n",
       "      <td>0.000000</td>\n",
       "      <td>0.000000</td>\n",
       "      <td>0.0000</td>\n",
       "      <td>...</td>\n",
       "      <td>0.000000</td>\n",
       "      <td>0.000000</td>\n",
       "      <td>0.000000</td>\n",
       "      <td>0.000000</td>\n",
       "      <td>0.000000</td>\n",
       "      <td>0.000000</td>\n",
       "      <td>0.000000</td>\n",
       "      <td>0.000000</td>\n",
       "      <td>0.00000</td>\n",
       "      <td>0.000000</td>\n",
       "    </tr>\n",
       "    <tr>\n",
       "      <th>1</th>\n",
       "      <td>1997</td>\n",
       "      <td>18688.224320</td>\n",
       "      <td>0.000000</td>\n",
       "      <td>0.000000</td>\n",
       "      <td>0.0000</td>\n",
       "      <td>0.000000</td>\n",
       "      <td>0.000000</td>\n",
       "      <td>0.000000</td>\n",
       "      <td>0.000000</td>\n",
       "      <td>0.0000</td>\n",
       "      <td>...</td>\n",
       "      <td>0.000000</td>\n",
       "      <td>0.000000</td>\n",
       "      <td>0.000000</td>\n",
       "      <td>0.000000</td>\n",
       "      <td>14950.579456</td>\n",
       "      <td>0.000000</td>\n",
       "      <td>24985.511495</td>\n",
       "      <td>96651.887424</td>\n",
       "      <td>0.00000</td>\n",
       "      <td>0.000000</td>\n",
       "    </tr>\n",
       "    <tr>\n",
       "      <th>2</th>\n",
       "      <td>1998</td>\n",
       "      <td>18876.639337</td>\n",
       "      <td>0.000000</td>\n",
       "      <td>0.000000</td>\n",
       "      <td>0.0000</td>\n",
       "      <td>0.000000</td>\n",
       "      <td>0.000000</td>\n",
       "      <td>0.000000</td>\n",
       "      <td>0.000000</td>\n",
       "      <td>0.0000</td>\n",
       "      <td>...</td>\n",
       "      <td>0.000000</td>\n",
       "      <td>0.000000</td>\n",
       "      <td>0.000000</td>\n",
       "      <td>0.000000</td>\n",
       "      <td>15101.311470</td>\n",
       "      <td>0.000000</td>\n",
       "      <td>26471.589257</td>\n",
       "      <td>104427.226180</td>\n",
       "      <td>0.00000</td>\n",
       "      <td>0.000000</td>\n",
       "    </tr>\n",
       "    <tr>\n",
       "      <th>3</th>\n",
       "      <td>1999</td>\n",
       "      <td>0.000000</td>\n",
       "      <td>0.000000</td>\n",
       "      <td>46.930700</td>\n",
       "      <td>0.0000</td>\n",
       "      <td>895.013450</td>\n",
       "      <td>0.000000</td>\n",
       "      <td>0.000000</td>\n",
       "      <td>0.000000</td>\n",
       "      <td>0.0000</td>\n",
       "      <td>...</td>\n",
       "      <td>0.000000</td>\n",
       "      <td>0.000000</td>\n",
       "      <td>0.000000</td>\n",
       "      <td>0.000000</td>\n",
       "      <td>9831.127839</td>\n",
       "      <td>0.000000</td>\n",
       "      <td>5036.176714</td>\n",
       "      <td>59151.289331</td>\n",
       "      <td>0.00000</td>\n",
       "      <td>0.000000</td>\n",
       "    </tr>\n",
       "    <tr>\n",
       "      <th>4</th>\n",
       "      <td>2000</td>\n",
       "      <td>0.000000</td>\n",
       "      <td>0.000000</td>\n",
       "      <td>2172.174954</td>\n",
       "      <td>0.0000</td>\n",
       "      <td>3921.109728</td>\n",
       "      <td>0.000000</td>\n",
       "      <td>0.000000</td>\n",
       "      <td>0.000000</td>\n",
       "      <td>0.0000</td>\n",
       "      <td>...</td>\n",
       "      <td>0.000000</td>\n",
       "      <td>599.017874</td>\n",
       "      <td>0.000000</td>\n",
       "      <td>0.000000</td>\n",
       "      <td>28601.024958</td>\n",
       "      <td>0.000000</td>\n",
       "      <td>4823.975704</td>\n",
       "      <td>38717.651556</td>\n",
       "      <td>0.00000</td>\n",
       "      <td>0.000000</td>\n",
       "    </tr>\n",
       "    <tr>\n",
       "      <th>5</th>\n",
       "      <td>2001</td>\n",
       "      <td>0.000000</td>\n",
       "      <td>0.000000</td>\n",
       "      <td>2238.914739</td>\n",
       "      <td>0.0000</td>\n",
       "      <td>19209.077981</td>\n",
       "      <td>0.000000</td>\n",
       "      <td>0.000000</td>\n",
       "      <td>0.000000</td>\n",
       "      <td>0.0000</td>\n",
       "      <td>...</td>\n",
       "      <td>0.000000</td>\n",
       "      <td>0.000000</td>\n",
       "      <td>0.000000</td>\n",
       "      <td>0.000000</td>\n",
       "      <td>8456.082302</td>\n",
       "      <td>0.000000</td>\n",
       "      <td>8508.687993</td>\n",
       "      <td>23281.158381</td>\n",
       "      <td>0.00000</td>\n",
       "      <td>0.000000</td>\n",
       "    </tr>\n",
       "    <tr>\n",
       "      <th>6</th>\n",
       "      <td>2002</td>\n",
       "      <td>-137.208960</td>\n",
       "      <td>0.000000</td>\n",
       "      <td>0.000000</td>\n",
       "      <td>0.0000</td>\n",
       "      <td>1062.712164</td>\n",
       "      <td>0.000000</td>\n",
       "      <td>0.000000</td>\n",
       "      <td>0.000000</td>\n",
       "      <td>0.0000</td>\n",
       "      <td>...</td>\n",
       "      <td>0.000000</td>\n",
       "      <td>0.000000</td>\n",
       "      <td>0.000000</td>\n",
       "      <td>0.000000</td>\n",
       "      <td>8246.377340</td>\n",
       "      <td>0.000000</td>\n",
       "      <td>14719.529864</td>\n",
       "      <td>81609.826028</td>\n",
       "      <td>627.86159</td>\n",
       "      <td>448.531800</td>\n",
       "    </tr>\n",
       "    <tr>\n",
       "      <th>7</th>\n",
       "      <td>2003</td>\n",
       "      <td>17971.165858</td>\n",
       "      <td>0.000000</td>\n",
       "      <td>0.000000</td>\n",
       "      <td>0.0000</td>\n",
       "      <td>675.727949</td>\n",
       "      <td>249.770687</td>\n",
       "      <td>0.000000</td>\n",
       "      <td>0.000000</td>\n",
       "      <td>0.0000</td>\n",
       "      <td>...</td>\n",
       "      <td>0.000000</td>\n",
       "      <td>24.812340</td>\n",
       "      <td>0.000000</td>\n",
       "      <td>291.142848</td>\n",
       "      <td>16673.840354</td>\n",
       "      <td>0.000000</td>\n",
       "      <td>34842.840181</td>\n",
       "      <td>71603.885369</td>\n",
       "      <td>853.61444</td>\n",
       "      <td>1235.937360</td>\n",
       "    </tr>\n",
       "    <tr>\n",
       "      <th>8</th>\n",
       "      <td>2004</td>\n",
       "      <td>23019.989682</td>\n",
       "      <td>0.000000</td>\n",
       "      <td>0.000000</td>\n",
       "      <td>0.0000</td>\n",
       "      <td>21333.115095</td>\n",
       "      <td>276.575717</td>\n",
       "      <td>0.000000</td>\n",
       "      <td>0.000000</td>\n",
       "      <td>0.0000</td>\n",
       "      <td>...</td>\n",
       "      <td>0.000000</td>\n",
       "      <td>42.634570</td>\n",
       "      <td>0.000000</td>\n",
       "      <td>0.000000</td>\n",
       "      <td>33325.950050</td>\n",
       "      <td>0.000000</td>\n",
       "      <td>85099.450378</td>\n",
       "      <td>80753.732613</td>\n",
       "      <td>268.31440</td>\n",
       "      <td>776.706830</td>\n",
       "    </tr>\n",
       "    <tr>\n",
       "      <th>9</th>\n",
       "      <td>2005</td>\n",
       "      <td>14784.520351</td>\n",
       "      <td>0.000000</td>\n",
       "      <td>70.760471</td>\n",
       "      <td>0.0000</td>\n",
       "      <td>47537.321268</td>\n",
       "      <td>1279.555401</td>\n",
       "      <td>318.976155</td>\n",
       "      <td>0.000000</td>\n",
       "      <td>0.0000</td>\n",
       "      <td>...</td>\n",
       "      <td>154.312890</td>\n",
       "      <td>348.385135</td>\n",
       "      <td>0.000000</td>\n",
       "      <td>280.461811</td>\n",
       "      <td>21519.854918</td>\n",
       "      <td>0.000000</td>\n",
       "      <td>131546.397550</td>\n",
       "      <td>15088.925954</td>\n",
       "      <td>328.45036</td>\n",
       "      <td>3279.470620</td>\n",
       "    </tr>\n",
       "    <tr>\n",
       "      <th>10</th>\n",
       "      <td>2006</td>\n",
       "      <td>10646.520741</td>\n",
       "      <td>0.000000</td>\n",
       "      <td>318.914190</td>\n",
       "      <td>0.0000</td>\n",
       "      <td>55450.316277</td>\n",
       "      <td>15032.248579</td>\n",
       "      <td>42001.900360</td>\n",
       "      <td>0.000000</td>\n",
       "      <td>0.0000</td>\n",
       "      <td>...</td>\n",
       "      <td>0.000000</td>\n",
       "      <td>342.194547</td>\n",
       "      <td>0.000000</td>\n",
       "      <td>422.649717</td>\n",
       "      <td>126790.274190</td>\n",
       "      <td>0.000000</td>\n",
       "      <td>174535.072460</td>\n",
       "      <td>100833.329080</td>\n",
       "      <td>-312.16201</td>\n",
       "      <td>14619.299679</td>\n",
       "    </tr>\n",
       "    <tr>\n",
       "      <th>11</th>\n",
       "      <td>2007</td>\n",
       "      <td>8946.585591</td>\n",
       "      <td>1436.232428</td>\n",
       "      <td>20.644949</td>\n",
       "      <td>0.0000</td>\n",
       "      <td>140599.564480</td>\n",
       "      <td>209229.387270</td>\n",
       "      <td>144931.448530</td>\n",
       "      <td>7630.928448</td>\n",
       "      <td>0.0000</td>\n",
       "      <td>...</td>\n",
       "      <td>4306.180352</td>\n",
       "      <td>9961.991406</td>\n",
       "      <td>3.851737</td>\n",
       "      <td>120186.579320</td>\n",
       "      <td>79510.192512</td>\n",
       "      <td>0.000000</td>\n",
       "      <td>132178.025960</td>\n",
       "      <td>68439.861562</td>\n",
       "      <td>0.00000</td>\n",
       "      <td>13066.105543</td>\n",
       "    </tr>\n",
       "    <tr>\n",
       "      <th>12</th>\n",
       "      <td>2008</td>\n",
       "      <td>51463.374336</td>\n",
       "      <td>61.970842</td>\n",
       "      <td>12.662226</td>\n",
       "      <td>0.0000</td>\n",
       "      <td>26165.766062</td>\n",
       "      <td>34857.631753</td>\n",
       "      <td>256.277100</td>\n",
       "      <td>5049.808185</td>\n",
       "      <td>0.0000</td>\n",
       "      <td>...</td>\n",
       "      <td>4350.516236</td>\n",
       "      <td>89958.560934</td>\n",
       "      <td>9.174790</td>\n",
       "      <td>306576.322150</td>\n",
       "      <td>167403.120925</td>\n",
       "      <td>0.000000</td>\n",
       "      <td>148179.798047</td>\n",
       "      <td>167920.667860</td>\n",
       "      <td>0.00000</td>\n",
       "      <td>23650.953120</td>\n",
       "    </tr>\n",
       "    <tr>\n",
       "      <th>13</th>\n",
       "      <td>2009</td>\n",
       "      <td>29709.042000</td>\n",
       "      <td>112.690000</td>\n",
       "      <td>-291.404500</td>\n",
       "      <td>0.0000</td>\n",
       "      <td>-1612.051200</td>\n",
       "      <td>45679.039600</td>\n",
       "      <td>-427.316800</td>\n",
       "      <td>8074.903006</td>\n",
       "      <td>0.0000</td>\n",
       "      <td>...</td>\n",
       "      <td>1481.575900</td>\n",
       "      <td>-11984.003300</td>\n",
       "      <td>12.765500</td>\n",
       "      <td>162756.461900</td>\n",
       "      <td>97984.235843</td>\n",
       "      <td>55750.580000</td>\n",
       "      <td>72439.294405</td>\n",
       "      <td>-10025.984700</td>\n",
       "      <td>11066.78250</td>\n",
       "      <td>30739.225200</td>\n",
       "    </tr>\n",
       "    <tr>\n",
       "      <th>14</th>\n",
       "      <td>2010</td>\n",
       "      <td>10684.739782</td>\n",
       "      <td>23.368200</td>\n",
       "      <td>-89.994200</td>\n",
       "      <td>0.0000</td>\n",
       "      <td>40387.743300</td>\n",
       "      <td>24213.499817</td>\n",
       "      <td>18.067100</td>\n",
       "      <td>-51.868700</td>\n",
       "      <td>1533.3327</td>\n",
       "      <td>...</td>\n",
       "      <td>5467.517900</td>\n",
       "      <td>21885.065543</td>\n",
       "      <td>63.344600</td>\n",
       "      <td>55530.659800</td>\n",
       "      <td>91786.514500</td>\n",
       "      <td>18000.000100</td>\n",
       "      <td>62336.275460</td>\n",
       "      <td>141210.377831</td>\n",
       "      <td>0.00000</td>\n",
       "      <td>45186.041700</td>\n",
       "    </tr>\n",
       "    <tr>\n",
       "      <th>15</th>\n",
       "      <td>2011</td>\n",
       "      <td>32738.295908</td>\n",
       "      <td>-19.524000</td>\n",
       "      <td>1095.963654</td>\n",
       "      <td>0.0000</td>\n",
       "      <td>12145.540981</td>\n",
       "      <td>46598.262500</td>\n",
       "      <td>2504.368900</td>\n",
       "      <td>-332.451900</td>\n",
       "      <td>992.9875</td>\n",
       "      <td>...</td>\n",
       "      <td>8637.259500</td>\n",
       "      <td>29534.490496</td>\n",
       "      <td>103.416200</td>\n",
       "      <td>48612.111914</td>\n",
       "      <td>77708.803450</td>\n",
       "      <td>11787.500000</td>\n",
       "      <td>57216.501610</td>\n",
       "      <td>35291.754620</td>\n",
       "      <td>0.00000</td>\n",
       "      <td>94896.504400</td>\n",
       "    </tr>\n",
       "    <tr>\n",
       "      <th>16</th>\n",
       "      <td>2012</td>\n",
       "      <td>25999.225115</td>\n",
       "      <td>-844.806600</td>\n",
       "      <td>2269.496800</td>\n",
       "      <td>0.0000</td>\n",
       "      <td>45960.292137</td>\n",
       "      <td>8031.399100</td>\n",
       "      <td>6558.114900</td>\n",
       "      <td>385.463200</td>\n",
       "      <td>1085.6838</td>\n",
       "      <td>...</td>\n",
       "      <td>8761.468000</td>\n",
       "      <td>22027.450397</td>\n",
       "      <td>-10.284800</td>\n",
       "      <td>25470.100486</td>\n",
       "      <td>107222.391386</td>\n",
       "      <td>0.000000</td>\n",
       "      <td>95536.664823</td>\n",
       "      <td>20253.999100</td>\n",
       "      <td>0.00000</td>\n",
       "      <td>63454.726500</td>\n",
       "    </tr>\n",
       "    <tr>\n",
       "      <th>17</th>\n",
       "      <td>2013</td>\n",
       "      <td>7008.170988</td>\n",
       "      <td>637.326800</td>\n",
       "      <td>2566.307524</td>\n",
       "      <td>0.0000</td>\n",
       "      <td>-44285.398773</td>\n",
       "      <td>43578.338200</td>\n",
       "      <td>9572.371800</td>\n",
       "      <td>482.212900</td>\n",
       "      <td>1235.8589</td>\n",
       "      <td>...</td>\n",
       "      <td>1249.934700</td>\n",
       "      <td>24272.350875</td>\n",
       "      <td>26.130100</td>\n",
       "      <td>68948.381158</td>\n",
       "      <td>51433.753532</td>\n",
       "      <td>1488.712127</td>\n",
       "      <td>55171.312715</td>\n",
       "      <td>53885.224061</td>\n",
       "      <td>0.00000</td>\n",
       "      <td>54680.836317</td>\n",
       "    </tr>\n",
       "    <tr>\n",
       "      <th>18</th>\n",
       "      <td>2014</td>\n",
       "      <td>8000.442038</td>\n",
       "      <td>1485.556000</td>\n",
       "      <td>9151.545297</td>\n",
       "      <td>0.0000</td>\n",
       "      <td>-5141.807923</td>\n",
       "      <td>51961.843700</td>\n",
       "      <td>12730.183100</td>\n",
       "      <td>4066.405700</td>\n",
       "      <td>887.0842</td>\n",
       "      <td>...</td>\n",
       "      <td>-1580.394300</td>\n",
       "      <td>8326.995679</td>\n",
       "      <td>116.897300</td>\n",
       "      <td>25872.252388</td>\n",
       "      <td>72305.960548</td>\n",
       "      <td>373.477036</td>\n",
       "      <td>108850.796451</td>\n",
       "      <td>184442.755304</td>\n",
       "      <td>0.00000</td>\n",
       "      <td>-105980.379157</td>\n",
       "    </tr>\n",
       "    <tr>\n",
       "      <th>19</th>\n",
       "      <td>2015</td>\n",
       "      <td>19621.375218</td>\n",
       "      <td>280.287500</td>\n",
       "      <td>7196.698753</td>\n",
       "      <td>0.0000</td>\n",
       "      <td>-26983.805912</td>\n",
       "      <td>16672.502800</td>\n",
       "      <td>12141.545600</td>\n",
       "      <td>13203.928900</td>\n",
       "      <td>358.4226</td>\n",
       "      <td>...</td>\n",
       "      <td>6473.271100</td>\n",
       "      <td>741.408706</td>\n",
       "      <td>442.078700</td>\n",
       "      <td>36556.135803</td>\n",
       "      <td>74893.758202</td>\n",
       "      <td>-1101.273630</td>\n",
       "      <td>399346.841345</td>\n",
       "      <td>18898.423706</td>\n",
       "      <td>6743.03470</td>\n",
       "      <td>39779.528091</td>\n",
       "    </tr>\n",
       "    <tr>\n",
       "      <th>20</th>\n",
       "      <td>2016</td>\n",
       "      <td>27805.278900</td>\n",
       "      <td>17867.449300</td>\n",
       "      <td>1647.167600</td>\n",
       "      <td>0.0000</td>\n",
       "      <td>-6497.459100</td>\n",
       "      <td>87529.205600</td>\n",
       "      <td>-7282.573400</td>\n",
       "      <td>19714.234700</td>\n",
       "      <td>306.3299</td>\n",
       "      <td>...</td>\n",
       "      <td>-4513.496200</td>\n",
       "      <td>7112.013800</td>\n",
       "      <td>386.673500</td>\n",
       "      <td>55294.345700</td>\n",
       "      <td>220272.236000</td>\n",
       "      <td>-292.849700</td>\n",
       "      <td>87849.542000</td>\n",
       "      <td>59817.104400</td>\n",
       "      <td>-4702.34550</td>\n",
       "      <td>43125.717500</td>\n",
       "    </tr>\n",
       "    <tr>\n",
       "      <th>21</th>\n",
       "      <td>2017</td>\n",
       "      <td>6287.270500</td>\n",
       "      <td>4313.471200</td>\n",
       "      <td>4858.656200</td>\n",
       "      <td>467.1882</td>\n",
       "      <td>12913.440700</td>\n",
       "      <td>129097.274000</td>\n",
       "      <td>-4457.082700</td>\n",
       "      <td>18489.077800</td>\n",
       "      <td>-435.8257</td>\n",
       "      <td>...</td>\n",
       "      <td>5165.387900</td>\n",
       "      <td>35654.277200</td>\n",
       "      <td>983.190300</td>\n",
       "      <td>147084.053800</td>\n",
       "      <td>256215.300400</td>\n",
       "      <td>-281.082700</td>\n",
       "      <td>249032.362000</td>\n",
       "      <td>79115.334700</td>\n",
       "      <td>0.00000</td>\n",
       "      <td>2516.089900</td>\n",
       "    </tr>\n",
       "    <tr>\n",
       "      <th>22</th>\n",
       "      <td>2018</td>\n",
       "      <td>17361.008600</td>\n",
       "      <td>3482.845300</td>\n",
       "      <td>7426.746500</td>\n",
       "      <td>2028.2268</td>\n",
       "      <td>-86440.447500</td>\n",
       "      <td>75517.499400</td>\n",
       "      <td>15248.811600</td>\n",
       "      <td>15371.392800</td>\n",
       "      <td>53.5148</td>\n",
       "      <td>...</td>\n",
       "      <td>3395.739700</td>\n",
       "      <td>49370.569400</td>\n",
       "      <td>193.559800</td>\n",
       "      <td>33912.872800</td>\n",
       "      <td>49185.742700</td>\n",
       "      <td>661.522700</td>\n",
       "      <td>182923.835300</td>\n",
       "      <td>104964.062200</td>\n",
       "      <td>0.00000</td>\n",
       "      <td>1627.471100</td>\n",
       "    </tr>\n",
       "    <tr>\n",
       "      <th>23</th>\n",
       "      <td>2019</td>\n",
       "      <td>15231.207800</td>\n",
       "      <td>1522.731400</td>\n",
       "      <td>5857.046700</td>\n",
       "      <td>794.0375</td>\n",
       "      <td>23659.579800</td>\n",
       "      <td>17592.692500</td>\n",
       "      <td>2754.372300</td>\n",
       "      <td>3879.199400</td>\n",
       "      <td>2216.4144</td>\n",
       "      <td>...</td>\n",
       "      <td>3056.047600</td>\n",
       "      <td>-3753.067800</td>\n",
       "      <td>362.127300</td>\n",
       "      <td>26268.382000</td>\n",
       "      <td>174174.721800</td>\n",
       "      <td>558.950000</td>\n",
       "      <td>236860.484400</td>\n",
       "      <td>115592.258500</td>\n",
       "      <td>0.00000</td>\n",
       "      <td>6883.749300</td>\n",
       "    </tr>\n",
       "    <tr>\n",
       "      <th>24</th>\n",
       "      <td>2020</td>\n",
       "      <td>-10654.251500</td>\n",
       "      <td>4857.851300</td>\n",
       "      <td>-1739.184400</td>\n",
       "      <td>-326.6672</td>\n",
       "      <td>-42690.180400</td>\n",
       "      <td>-6963.380100</td>\n",
       "      <td>28906.117900</td>\n",
       "      <td>6970.890000</td>\n",
       "      <td>731.2886</td>\n",
       "      <td>...</td>\n",
       "      <td>-907.587400</td>\n",
       "      <td>-8277.007200</td>\n",
       "      <td>-71.409100</td>\n",
       "      <td>-12654.671900</td>\n",
       "      <td>79041.692700</td>\n",
       "      <td>2566.815900</td>\n",
       "      <td>302984.890800</td>\n",
       "      <td>98440.933200</td>\n",
       "      <td>0.00000</td>\n",
       "      <td>1458.045100</td>\n",
       "    </tr>\n",
       "    <tr>\n",
       "      <th>25</th>\n",
       "      <td>2021</td>\n",
       "      <td>5937.884600</td>\n",
       "      <td>2079.779100</td>\n",
       "      <td>4050.176400</td>\n",
       "      <td>48.2965</td>\n",
       "      <td>-27719.597300</td>\n",
       "      <td>81771.262800</td>\n",
       "      <td>1945.052900</td>\n",
       "      <td>9139.967900</td>\n",
       "      <td>206.8843</td>\n",
       "      <td>...</td>\n",
       "      <td>19827.779000</td>\n",
       "      <td>6481.784500</td>\n",
       "      <td>2.744500</td>\n",
       "      <td>34798.973200</td>\n",
       "      <td>64730.564000</td>\n",
       "      <td>2740.452900</td>\n",
       "      <td>596616.969400</td>\n",
       "      <td>6150.976800</td>\n",
       "      <td>0.00000</td>\n",
       "      <td>3690.059100</td>\n",
       "    </tr>\n",
       "  </tbody>\n",
       "</table>\n",
       "<p>26 rows × 77 columns</p>\n",
       "</div>"
      ],
      "text/plain": [
       "Countries  index       Austria       Belgium     Bulgaria    Croatia  \\\n",
       "0           1996      0.000000      0.000000     0.000000     0.0000   \n",
       "1           1997  18688.224320      0.000000     0.000000     0.0000   \n",
       "2           1998  18876.639337      0.000000     0.000000     0.0000   \n",
       "3           1999      0.000000      0.000000    46.930700     0.0000   \n",
       "4           2000      0.000000      0.000000  2172.174954     0.0000   \n",
       "5           2001      0.000000      0.000000  2238.914739     0.0000   \n",
       "6           2002   -137.208960      0.000000     0.000000     0.0000   \n",
       "7           2003  17971.165858      0.000000     0.000000     0.0000   \n",
       "8           2004  23019.989682      0.000000     0.000000     0.0000   \n",
       "9           2005  14784.520351      0.000000    70.760471     0.0000   \n",
       "10          2006  10646.520741      0.000000   318.914190     0.0000   \n",
       "11          2007   8946.585591   1436.232428    20.644949     0.0000   \n",
       "12          2008  51463.374336     61.970842    12.662226     0.0000   \n",
       "13          2009  29709.042000    112.690000  -291.404500     0.0000   \n",
       "14          2010  10684.739782     23.368200   -89.994200     0.0000   \n",
       "15          2011  32738.295908    -19.524000  1095.963654     0.0000   \n",
       "16          2012  25999.225115   -844.806600  2269.496800     0.0000   \n",
       "17          2013   7008.170988    637.326800  2566.307524     0.0000   \n",
       "18          2014   8000.442038   1485.556000  9151.545297     0.0000   \n",
       "19          2015  19621.375218    280.287500  7196.698753     0.0000   \n",
       "20          2016  27805.278900  17867.449300  1647.167600     0.0000   \n",
       "21          2017   6287.270500   4313.471200  4858.656200   467.1882   \n",
       "22          2018  17361.008600   3482.845300  7426.746500  2028.2268   \n",
       "23          2019  15231.207800   1522.731400  5857.046700   794.0375   \n",
       "24          2020 -10654.251500   4857.851300 -1739.184400  -326.6672   \n",
       "25          2021   5937.884600   2079.779100  4050.176400    48.2965   \n",
       "\n",
       "Countries         Cyprus  Czech Republic        Denmark       Estonia  \\\n",
       "0               0.000000        0.000000       0.000000      0.000000   \n",
       "1               0.000000        0.000000       0.000000      0.000000   \n",
       "2               0.000000        0.000000       0.000000      0.000000   \n",
       "3             895.013450        0.000000       0.000000      0.000000   \n",
       "4            3921.109728        0.000000       0.000000      0.000000   \n",
       "5           19209.077981        0.000000       0.000000      0.000000   \n",
       "6            1062.712164        0.000000       0.000000      0.000000   \n",
       "7             675.727949      249.770687       0.000000      0.000000   \n",
       "8           21333.115095      276.575717       0.000000      0.000000   \n",
       "9           47537.321268     1279.555401     318.976155      0.000000   \n",
       "10          55450.316277    15032.248579   42001.900360      0.000000   \n",
       "11         140599.564480   209229.387270  144931.448530   7630.928448   \n",
       "12          26165.766062    34857.631753     256.277100   5049.808185   \n",
       "13          -1612.051200    45679.039600    -427.316800   8074.903006   \n",
       "14          40387.743300    24213.499817      18.067100    -51.868700   \n",
       "15          12145.540981    46598.262500    2504.368900   -332.451900   \n",
       "16          45960.292137     8031.399100    6558.114900    385.463200   \n",
       "17         -44285.398773    43578.338200    9572.371800    482.212900   \n",
       "18          -5141.807923    51961.843700   12730.183100   4066.405700   \n",
       "19         -26983.805912    16672.502800   12141.545600  13203.928900   \n",
       "20          -6497.459100    87529.205600   -7282.573400  19714.234700   \n",
       "21          12913.440700   129097.274000   -4457.082700  18489.077800   \n",
       "22         -86440.447500    75517.499400   15248.811600  15371.392800   \n",
       "23          23659.579800    17592.692500    2754.372300   3879.199400   \n",
       "24         -42690.180400    -6963.380100   28906.117900   6970.890000   \n",
       "25         -27719.597300    81771.262800    1945.052900   9139.967900   \n",
       "\n",
       "Countries    Finland  ...    Seychelles   Switzerland      Syrian  \\\n",
       "0             0.0000  ...      0.000000      0.000000    0.000000   \n",
       "1             0.0000  ...      0.000000      0.000000    0.000000   \n",
       "2             0.0000  ...      0.000000      0.000000    0.000000   \n",
       "3             0.0000  ...      0.000000      0.000000    0.000000   \n",
       "4             0.0000  ...      0.000000    599.017874    0.000000   \n",
       "5             0.0000  ...      0.000000      0.000000    0.000000   \n",
       "6             0.0000  ...      0.000000      0.000000    0.000000   \n",
       "7             0.0000  ...      0.000000     24.812340    0.000000   \n",
       "8             0.0000  ...      0.000000     42.634570    0.000000   \n",
       "9             0.0000  ...    154.312890    348.385135    0.000000   \n",
       "10            0.0000  ...      0.000000    342.194547    0.000000   \n",
       "11            0.0000  ...   4306.180352   9961.991406    3.851737   \n",
       "12            0.0000  ...   4350.516236  89958.560934    9.174790   \n",
       "13            0.0000  ...   1481.575900 -11984.003300   12.765500   \n",
       "14         1533.3327  ...   5467.517900  21885.065543   63.344600   \n",
       "15          992.9875  ...   8637.259500  29534.490496  103.416200   \n",
       "16         1085.6838  ...   8761.468000  22027.450397  -10.284800   \n",
       "17         1235.8589  ...   1249.934700  24272.350875   26.130100   \n",
       "18          887.0842  ...  -1580.394300   8326.995679  116.897300   \n",
       "19          358.4226  ...   6473.271100    741.408706  442.078700   \n",
       "20          306.3299  ...  -4513.496200   7112.013800  386.673500   \n",
       "21         -435.8257  ...   5165.387900  35654.277200  983.190300   \n",
       "22           53.5148  ...   3395.739700  49370.569400  193.559800   \n",
       "23         2216.4144  ...   3056.047600  -3753.067800  362.127300   \n",
       "24          731.2886  ...   -907.587400  -8277.007200  -71.409100   \n",
       "25          206.8843  ...  19827.779000   6481.784500    2.744500   \n",
       "\n",
       "Countries  United Arab Emirates         Turkey         Egypt  United Kingdom  \\\n",
       "0                      0.000000       0.000000      0.000000        0.000000   \n",
       "1                      0.000000   14950.579456      0.000000    24985.511495   \n",
       "2                      0.000000   15101.311470      0.000000    26471.589257   \n",
       "3                      0.000000    9831.127839      0.000000     5036.176714   \n",
       "4                      0.000000   28601.024958      0.000000     4823.975704   \n",
       "5                      0.000000    8456.082302      0.000000     8508.687993   \n",
       "6                      0.000000    8246.377340      0.000000    14719.529864   \n",
       "7                    291.142848   16673.840354      0.000000    34842.840181   \n",
       "8                      0.000000   33325.950050      0.000000    85099.450378   \n",
       "9                    280.461811   21519.854918      0.000000   131546.397550   \n",
       "10                   422.649717  126790.274190      0.000000   174535.072460   \n",
       "11                120186.579320   79510.192512      0.000000   132178.025960   \n",
       "12                306576.322150  167403.120925      0.000000   148179.798047   \n",
       "13                162756.461900   97984.235843  55750.580000    72439.294405   \n",
       "14                 55530.659800   91786.514500  18000.000100    62336.275460   \n",
       "15                 48612.111914   77708.803450  11787.500000    57216.501610   \n",
       "16                 25470.100486  107222.391386      0.000000    95536.664823   \n",
       "17                 68948.381158   51433.753532   1488.712127    55171.312715   \n",
       "18                 25872.252388   72305.960548    373.477036   108850.796451   \n",
       "19                 36556.135803   74893.758202  -1101.273630   399346.841345   \n",
       "20                 55294.345700  220272.236000   -292.849700    87849.542000   \n",
       "21                147084.053800  256215.300400   -281.082700   249032.362000   \n",
       "22                 33912.872800   49185.742700    661.522700   182923.835300   \n",
       "23                 26268.382000  174174.721800    558.950000   236860.484400   \n",
       "24                -12654.671900   79041.692700   2566.815900   302984.890800   \n",
       "25                 34798.973200   64730.564000   2740.452900   596616.969400   \n",
       "\n",
       "Countries  United States      Unknown  International Organizations  \n",
       "0               0.000000      0.00000                     0.000000  \n",
       "1           96651.887424      0.00000                     0.000000  \n",
       "2          104427.226180      0.00000                     0.000000  \n",
       "3           59151.289331      0.00000                     0.000000  \n",
       "4           38717.651556      0.00000                     0.000000  \n",
       "5           23281.158381      0.00000                     0.000000  \n",
       "6           81609.826028    627.86159                   448.531800  \n",
       "7           71603.885369    853.61444                  1235.937360  \n",
       "8           80753.732613    268.31440                   776.706830  \n",
       "9           15088.925954    328.45036                  3279.470620  \n",
       "10         100833.329080   -312.16201                 14619.299679  \n",
       "11          68439.861562      0.00000                 13066.105543  \n",
       "12         167920.667860      0.00000                 23650.953120  \n",
       "13         -10025.984700  11066.78250                 30739.225200  \n",
       "14         141210.377831      0.00000                 45186.041700  \n",
       "15          35291.754620      0.00000                 94896.504400  \n",
       "16          20253.999100      0.00000                 63454.726500  \n",
       "17          53885.224061      0.00000                 54680.836317  \n",
       "18         184442.755304      0.00000               -105980.379157  \n",
       "19          18898.423706   6743.03470                 39779.528091  \n",
       "20          59817.104400  -4702.34550                 43125.717500  \n",
       "21          79115.334700      0.00000                  2516.089900  \n",
       "22         104964.062200      0.00000                  1627.471100  \n",
       "23         115592.258500      0.00000                  6883.749300  \n",
       "24          98440.933200      0.00000                  1458.045100  \n",
       "25           6150.976800      0.00000                  3690.059100  \n",
       "\n",
       "[26 rows x 77 columns]"
      ]
     },
     "execution_count": 19,
     "metadata": {},
     "output_type": "execute_result"
    }
   ],
   "source": [
    "df_FDICountry2"
   ]
  },
  {
   "cell_type": "code",
   "execution_count": 20,
   "id": "76370e53",
   "metadata": {},
   "outputs": [
    {
     "data": {
      "text/plain": [
       "'index'"
      ]
     },
     "execution_count": 20,
     "metadata": {},
     "output_type": "execute_result"
    }
   ],
   "source": [
    "fig2list = list(df_FDICountry2.columns.values)\n",
    "#fig2list = list(range(1996,2022))\n",
    "fig2list.pop(0)"
   ]
  },
  {
   "cell_type": "code",
   "execution_count": 21,
   "id": "9eddfb20",
   "metadata": {},
   "outputs": [
    {
     "data": {
      "text/html": [
       "<div>\n",
       "<style scoped>\n",
       "    .dataframe tbody tr th:only-of-type {\n",
       "        vertical-align: middle;\n",
       "    }\n",
       "\n",
       "    .dataframe tbody tr th {\n",
       "        vertical-align: top;\n",
       "    }\n",
       "\n",
       "    .dataframe thead th {\n",
       "        text-align: right;\n",
       "    }\n",
       "</style>\n",
       "<table border=\"1\" class=\"dataframe\">\n",
       "  <thead>\n",
       "    <tr style=\"text-align: right;\">\n",
       "      <th>Countries</th>\n",
       "      <th>index</th>\n",
       "      <th>Austria</th>\n",
       "      <th>Belgium</th>\n",
       "      <th>Bulgaria</th>\n",
       "      <th>Croatia</th>\n",
       "      <th>Cyprus</th>\n",
       "      <th>Czech Republic</th>\n",
       "      <th>Denmark</th>\n",
       "      <th>Estonia</th>\n",
       "      <th>Finland</th>\n",
       "      <th>...</th>\n",
       "      <th>Seychelles</th>\n",
       "      <th>Switzerland</th>\n",
       "      <th>Syrian</th>\n",
       "      <th>United Arab Emirates</th>\n",
       "      <th>Turkey</th>\n",
       "      <th>Egypt</th>\n",
       "      <th>United Kingdom</th>\n",
       "      <th>United States</th>\n",
       "      <th>Unknown</th>\n",
       "      <th>International Organizations</th>\n",
       "    </tr>\n",
       "  </thead>\n",
       "  <tbody>\n",
       "    <tr>\n",
       "      <th>count</th>\n",
       "      <td>26.000000</td>\n",
       "      <td>26.000000</td>\n",
       "      <td>26.000000</td>\n",
       "      <td>26.000000</td>\n",
       "      <td>26.000000</td>\n",
       "      <td>26.000000</td>\n",
       "      <td>26.000000</td>\n",
       "      <td>26.000000</td>\n",
       "      <td>26.000000</td>\n",
       "      <td>26.000000</td>\n",
       "      <td>...</td>\n",
       "      <td>26.000000</td>\n",
       "      <td>26.000000</td>\n",
       "      <td>26.000000</td>\n",
       "      <td>26.000000</td>\n",
       "      <td>26.000000</td>\n",
       "      <td>26.000000</td>\n",
       "      <td>26.000000</td>\n",
       "      <td>26.000000</td>\n",
       "      <td>26.000000</td>\n",
       "      <td>26.000000</td>\n",
       "    </tr>\n",
       "    <tr>\n",
       "      <th>mean</th>\n",
       "      <td>2008.500000</td>\n",
       "      <td>13845.750046</td>\n",
       "      <td>1434.508799</td>\n",
       "      <td>1880.008637</td>\n",
       "      <td>115.810838</td>\n",
       "      <td>8097.906664</td>\n",
       "      <td>33930.946512</td>\n",
       "      <td>10296.947513</td>\n",
       "      <td>4310.542013</td>\n",
       "      <td>352.768308</td>\n",
       "      <td>...</td>\n",
       "      <td>2512.519726</td>\n",
       "      <td>10871.920196</td>\n",
       "      <td>100.933093</td>\n",
       "      <td>43700.277496</td>\n",
       "      <td>74898.669668</td>\n",
       "      <td>3548.184797</td>\n",
       "      <td>126849.724089</td>\n",
       "      <td>69866.025425</td>\n",
       "      <td>572.059634</td>\n",
       "      <td>13043.639231</td>\n",
       "    </tr>\n",
       "    <tr>\n",
       "      <th>std</th>\n",
       "      <td>7.648529</td>\n",
       "      <td>13224.372210</td>\n",
       "      <td>3645.310685</td>\n",
       "      <td>2840.628448</td>\n",
       "      <td>434.639732</td>\n",
       "      <td>41165.623212</td>\n",
       "      <td>49858.374066</td>\n",
       "      <td>29404.541364</td>\n",
       "      <td>6232.709199</td>\n",
       "      <td>616.432166</td>\n",
       "      <td>...</td>\n",
       "      <td>4752.548190</td>\n",
       "      <td>21579.796799</td>\n",
       "      <td>223.595147</td>\n",
       "      <td>71001.075357</td>\n",
       "      <td>67624.650551</td>\n",
       "      <td>11423.352074</td>\n",
       "      <td>138838.980941</td>\n",
       "      <td>50350.747471</td>\n",
       "      <td>2705.149699</td>\n",
       "      <td>34806.930287</td>\n",
       "    </tr>\n",
       "    <tr>\n",
       "      <th>min</th>\n",
       "      <td>1996.000000</td>\n",
       "      <td>-10654.251500</td>\n",
       "      <td>-844.806600</td>\n",
       "      <td>-1739.184400</td>\n",
       "      <td>-326.667200</td>\n",
       "      <td>-86440.447500</td>\n",
       "      <td>-6963.380100</td>\n",
       "      <td>-7282.573400</td>\n",
       "      <td>-332.451900</td>\n",
       "      <td>-435.825700</td>\n",
       "      <td>...</td>\n",
       "      <td>-4513.496200</td>\n",
       "      <td>-11984.003300</td>\n",
       "      <td>-71.409100</td>\n",
       "      <td>-12654.671900</td>\n",
       "      <td>0.000000</td>\n",
       "      <td>-1101.273630</td>\n",
       "      <td>0.000000</td>\n",
       "      <td>-10025.984700</td>\n",
       "      <td>-4702.345500</td>\n",
       "      <td>-105980.379157</td>\n",
       "    </tr>\n",
       "    <tr>\n",
       "      <th>25%</th>\n",
       "      <td>2002.250000</td>\n",
       "      <td>6025.231075</td>\n",
       "      <td>0.000000</td>\n",
       "      <td>0.000000</td>\n",
       "      <td>0.000000</td>\n",
       "      <td>-4259.368743</td>\n",
       "      <td>0.000000</td>\n",
       "      <td>0.000000</td>\n",
       "      <td>0.000000</td>\n",
       "      <td>0.000000</td>\n",
       "      <td>...</td>\n",
       "      <td>0.000000</td>\n",
       "      <td>0.000000</td>\n",
       "      <td>0.000000</td>\n",
       "      <td>0.000000</td>\n",
       "      <td>17885.343995</td>\n",
       "      <td>0.000000</td>\n",
       "      <td>28564.401988</td>\n",
       "      <td>26283.807441</td>\n",
       "      <td>0.000000</td>\n",
       "      <td>112.132950</td>\n",
       "    </tr>\n",
       "    <tr>\n",
       "      <th>50%</th>\n",
       "      <td>2008.500000</td>\n",
       "      <td>12734.630066</td>\n",
       "      <td>11.684100</td>\n",
       "      <td>194.837330</td>\n",
       "      <td>0.000000</td>\n",
       "      <td>978.862807</td>\n",
       "      <td>15852.375690</td>\n",
       "      <td>137.172100</td>\n",
       "      <td>192.731600</td>\n",
       "      <td>0.000000</td>\n",
       "      <td>...</td>\n",
       "      <td>77.156445</td>\n",
       "      <td>473.701504</td>\n",
       "      <td>1.372250</td>\n",
       "      <td>25671.176437</td>\n",
       "      <td>68518.262274</td>\n",
       "      <td>0.000000</td>\n",
       "      <td>86474.496189</td>\n",
       "      <td>70021.873465</td>\n",
       "      <td>0.000000</td>\n",
       "      <td>2897.780260</td>\n",
       "    </tr>\n",
       "    <tr>\n",
       "      <th>75%</th>\n",
       "      <td>2014.750000</td>\n",
       "      <td>19435.191248</td>\n",
       "      <td>1473.225107</td>\n",
       "      <td>2492.104843</td>\n",
       "      <td>0.000000</td>\n",
       "      <td>23077.963624</td>\n",
       "      <td>46368.456775</td>\n",
       "      <td>8818.807575</td>\n",
       "      <td>7465.918836</td>\n",
       "      <td>638.072100</td>\n",
       "      <td>...</td>\n",
       "      <td>4339.432265</td>\n",
       "      <td>18904.297008</td>\n",
       "      <td>93.398300</td>\n",
       "      <td>53623.787254</td>\n",
       "      <td>96434.805507</td>\n",
       "      <td>635.879525</td>\n",
       "      <td>167946.253857</td>\n",
       "      <td>100235.230110</td>\n",
       "      <td>0.000000</td>\n",
       "      <td>28967.157180</td>\n",
       "    </tr>\n",
       "    <tr>\n",
       "      <th>max</th>\n",
       "      <td>2021.000000</td>\n",
       "      <td>51463.374336</td>\n",
       "      <td>17867.449300</td>\n",
       "      <td>9151.545297</td>\n",
       "      <td>2028.226800</td>\n",
       "      <td>140599.564480</td>\n",
       "      <td>209229.387270</td>\n",
       "      <td>144931.448530</td>\n",
       "      <td>19714.234700</td>\n",
       "      <td>2216.414400</td>\n",
       "      <td>...</td>\n",
       "      <td>19827.779000</td>\n",
       "      <td>89958.560934</td>\n",
       "      <td>983.190300</td>\n",
       "      <td>306576.322150</td>\n",
       "      <td>256215.300400</td>\n",
       "      <td>55750.580000</td>\n",
       "      <td>596616.969400</td>\n",
       "      <td>184442.755304</td>\n",
       "      <td>11066.782500</td>\n",
       "      <td>94896.504400</td>\n",
       "    </tr>\n",
       "  </tbody>\n",
       "</table>\n",
       "<p>8 rows × 77 columns</p>\n",
       "</div>"
      ],
      "text/plain": [
       "Countries        index       Austria       Belgium     Bulgaria      Croatia  \\\n",
       "count        26.000000     26.000000     26.000000    26.000000    26.000000   \n",
       "mean       2008.500000  13845.750046   1434.508799  1880.008637   115.810838   \n",
       "std           7.648529  13224.372210   3645.310685  2840.628448   434.639732   \n",
       "min        1996.000000 -10654.251500   -844.806600 -1739.184400  -326.667200   \n",
       "25%        2002.250000   6025.231075      0.000000     0.000000     0.000000   \n",
       "50%        2008.500000  12734.630066     11.684100   194.837330     0.000000   \n",
       "75%        2014.750000  19435.191248   1473.225107  2492.104843     0.000000   \n",
       "max        2021.000000  51463.374336  17867.449300  9151.545297  2028.226800   \n",
       "\n",
       "Countries         Cyprus  Czech Republic        Denmark       Estonia  \\\n",
       "count          26.000000       26.000000      26.000000     26.000000   \n",
       "mean         8097.906664    33930.946512   10296.947513   4310.542013   \n",
       "std         41165.623212    49858.374066   29404.541364   6232.709199   \n",
       "min        -86440.447500    -6963.380100   -7282.573400   -332.451900   \n",
       "25%         -4259.368743        0.000000       0.000000      0.000000   \n",
       "50%           978.862807    15852.375690     137.172100    192.731600   \n",
       "75%         23077.963624    46368.456775    8818.807575   7465.918836   \n",
       "max        140599.564480   209229.387270  144931.448530  19714.234700   \n",
       "\n",
       "Countries      Finland  ...    Seychelles   Switzerland      Syrian  \\\n",
       "count        26.000000  ...     26.000000     26.000000   26.000000   \n",
       "mean        352.768308  ...   2512.519726  10871.920196  100.933093   \n",
       "std         616.432166  ...   4752.548190  21579.796799  223.595147   \n",
       "min        -435.825700  ...  -4513.496200 -11984.003300  -71.409100   \n",
       "25%           0.000000  ...      0.000000      0.000000    0.000000   \n",
       "50%           0.000000  ...     77.156445    473.701504    1.372250   \n",
       "75%         638.072100  ...   4339.432265  18904.297008   93.398300   \n",
       "max        2216.414400  ...  19827.779000  89958.560934  983.190300   \n",
       "\n",
       "Countries  United Arab Emirates         Turkey         Egypt  United Kingdom  \\\n",
       "count                 26.000000      26.000000     26.000000       26.000000   \n",
       "mean               43700.277496   74898.669668   3548.184797   126849.724089   \n",
       "std                71001.075357   67624.650551  11423.352074   138838.980941   \n",
       "min               -12654.671900       0.000000  -1101.273630        0.000000   \n",
       "25%                    0.000000   17885.343995      0.000000    28564.401988   \n",
       "50%                25671.176437   68518.262274      0.000000    86474.496189   \n",
       "75%                53623.787254   96434.805507    635.879525   167946.253857   \n",
       "max               306576.322150  256215.300400  55750.580000   596616.969400   \n",
       "\n",
       "Countries  United States       Unknown  International Organizations  \n",
       "count          26.000000     26.000000                    26.000000  \n",
       "mean        69866.025425    572.059634                 13043.639231  \n",
       "std         50350.747471   2705.149699                 34806.930287  \n",
       "min        -10025.984700  -4702.345500               -105980.379157  \n",
       "25%         26283.807441      0.000000                   112.132950  \n",
       "50%         70021.873465      0.000000                  2897.780260  \n",
       "75%        100235.230110      0.000000                 28967.157180  \n",
       "max        184442.755304  11066.782500                 94896.504400  \n",
       "\n",
       "[8 rows x 77 columns]"
      ]
     },
     "execution_count": 21,
     "metadata": {},
     "output_type": "execute_result"
    }
   ],
   "source": [
    "df_FDICountry2.describe(include=\"all\")"
   ]
  },
  {
   "cell_type": "code",
   "execution_count": 22,
   "id": "605519c2",
   "metadata": {},
   "outputs": [
    {
     "data": {
      "text/plain": [
       "0        0.000000\n",
       "1        0.000000\n",
       "2        0.000000\n",
       "3        0.000000\n",
       "4        0.000000\n",
       "5        0.000000\n",
       "6        0.000000\n",
       "7        0.000000\n",
       "8        0.000000\n",
       "9      160.449563\n",
       "10     189.499026\n",
       "11    6223.508038\n",
       "12    7634.829303\n",
       "13   -8831.449900\n",
       "14   -1596.081900\n",
       "15   -3615.206800\n",
       "16   -4464.534700\n",
       "17    5265.196400\n",
       "18    1059.053300\n",
       "19    8726.692100\n",
       "20    3094.232600\n",
       "21    2039.670700\n",
       "22    1070.660300\n",
       "23    4706.552100\n",
       "24    7697.589000\n",
       "25    3876.176200\n",
       "Name: Sweden, dtype: float64"
      ]
     },
     "execution_count": 22,
     "metadata": {},
     "output_type": "execute_result"
    }
   ],
   "source": [
    "df_FDICountry2.loc[:,'Sweden']"
   ]
  },
  {
   "cell_type": "code",
   "execution_count": 23,
   "id": "59f5d6a8",
   "metadata": {},
   "outputs": [
    {
     "data": {
      "application/vnd.plotly.v1+json": {
       "config": {
        "plotlyServerURL": "https://plot.ly"
       },
       "data": [
        {
         "line": {
          "color": "#004490",
          "width": 0.5
         },
         "mode": "lines",
         "name": "Austria",
         "stackgroup": "one",
         "type": "scatter",
         "x": [
          1996,
          1997,
          1998,
          1999,
          2000,
          2001,
          2002,
          2003,
          2004,
          2005,
          2006,
          2007,
          2008,
          2009,
          2010,
          2011,
          2012,
          2013,
          2014,
          2015,
          2016,
          2017,
          2018,
          2019,
          2020,
          2021
         ],
         "y": [
          0,
          18688.22432,
          18876.639337,
          0,
          0,
          0,
          -137.20896,
          17971.165858,
          23019.989682,
          14784.520351,
          10646.520741,
          8946.585591000001,
          51463.374336,
          29709.042,
          10684.739781871547,
          32738.29590789663,
          25999.225114940324,
          7008.1709880333,
          8000.442037674498,
          19621.3752181773,
          27805.2789,
          6287.270499999998,
          17361.008599999994,
          15231.207800000004,
          -10654.251500000002,
          5937.884600000001
         ]
        },
        {
         "line": {
          "color": "#004490",
          "width": 0.5
         },
         "mode": "lines",
         "name": "Belgium",
         "stackgroup": "one",
         "type": "scatter",
         "x": [
          1996,
          1997,
          1998,
          1999,
          2000,
          2001,
          2002,
          2003,
          2004,
          2005,
          2006,
          2007,
          2008,
          2009,
          2010,
          2011,
          2012,
          2013,
          2014,
          2015,
          2016,
          2017,
          2018,
          2019,
          2020,
          2021
         ],
         "y": [
          0,
          0,
          0,
          0,
          0,
          0,
          0,
          0,
          0,
          0,
          0,
          1436.2324282000002,
          61.97084204,
          112.69,
          23.368199999999995,
          -19.524000000000015,
          -844.8065999999999,
          637.3267999999999,
          1485.556,
          280.2874999999999,
          17867.4493,
          4313.4712,
          3482.8453,
          1522.7314000000001,
          4857.8513,
          2079.7791
         ]
        },
        {
         "line": {
          "color": "#004490",
          "width": 0.5
         },
         "mode": "lines",
         "name": "Bulgaria",
         "stackgroup": "one",
         "type": "scatter",
         "x": [
          1996,
          1997,
          1998,
          1999,
          2000,
          2001,
          2002,
          2003,
          2004,
          2005,
          2006,
          2007,
          2008,
          2009,
          2010,
          2011,
          2012,
          2013,
          2014,
          2015,
          2016,
          2017,
          2018,
          2019,
          2020,
          2021
         ],
         "y": [
          0,
          0,
          0,
          46.930699776,
          2172.1749541,
          2238.9147392,
          0,
          0,
          0,
          70.760470514,
          318.91419048,
          20.644948898,
          12.662226,
          -291.40450000000004,
          -89.9942,
          1095.963653571215,
          2269.4968,
          2566.3075242995005,
          9151.5452970577,
          7196.6987528605005,
          1647.1676000000002,
          4858.6562,
          7426.746499999999,
          5857.0467,
          -1739.1843999999999,
          4050.1763999999994
         ]
        },
        {
         "line": {
          "color": "#004490",
          "width": 0.5
         },
         "mode": "lines",
         "name": "Croatia",
         "stackgroup": "one",
         "type": "scatter",
         "x": [
          1996,
          1997,
          1998,
          1999,
          2000,
          2001,
          2002,
          2003,
          2004,
          2005,
          2006,
          2007,
          2008,
          2009,
          2010,
          2011,
          2012,
          2013,
          2014,
          2015,
          2016,
          2017,
          2018,
          2019,
          2020,
          2021
         ],
         "y": [
          0,
          0,
          0,
          0,
          0,
          0,
          0,
          0,
          0,
          0,
          0,
          0,
          0,
          0,
          0,
          0,
          0,
          0,
          0,
          0,
          0,
          467.18820000000005,
          2028.2268000000001,
          794.0374999999999,
          -326.6672,
          48.29650000000001
         ]
        },
        {
         "line": {
          "color": "#004490",
          "width": 0.5
         },
         "mode": "lines",
         "name": "Cyprus",
         "stackgroup": "one",
         "type": "scatter",
         "x": [
          1996,
          1997,
          1998,
          1999,
          2000,
          2001,
          2002,
          2003,
          2004,
          2005,
          2006,
          2007,
          2008,
          2009,
          2010,
          2011,
          2012,
          2013,
          2014,
          2015,
          2016,
          2017,
          2018,
          2019,
          2020,
          2021
         ],
         "y": [
          0,
          0,
          0,
          895.01345031,
          3921.1097283,
          19209.077981,
          1062.7121643,
          675.72794869,
          21333.115095,
          47537.321268,
          55450.316277,
          140599.56448,
          26165.766062,
          -1612.0512000000017,
          40387.743299999995,
          12145.5409811,
          45960.292137386525,
          -44285.3987733415,
          -5141.807923482399,
          -26983.8059116478,
          -6497.459100000002,
          12913.440700000006,
          -86440.44750000001,
          23659.5798,
          -42690.1804,
          -27719.5973
         ]
        },
        {
         "line": {
          "color": "#004490",
          "width": 0.5
         },
         "mode": "lines",
         "name": "Czech Republic",
         "stackgroup": "one",
         "type": "scatter",
         "x": [
          1996,
          1997,
          1998,
          1999,
          2000,
          2001,
          2002,
          2003,
          2004,
          2005,
          2006,
          2007,
          2008,
          2009,
          2010,
          2011,
          2012,
          2013,
          2014,
          2015,
          2016,
          2017,
          2018,
          2019,
          2020,
          2021
         ],
         "y": [
          0,
          0,
          0,
          0,
          0,
          0,
          0,
          249.77068715,
          276.57571677,
          1279.5554012,
          15032.248579,
          209229.38727,
          34857.631753,
          45679.039600000004,
          24213.499817000004,
          46598.26250000001,
          8031.3991000000005,
          43578.33819999999,
          51961.84369999999,
          16672.502800000002,
          87529.2056,
          129097.274,
          75517.4994,
          17592.692500000005,
          -6963.3800999999985,
          81771.26280000001
         ]
        },
        {
         "line": {
          "color": "#004490",
          "width": 0.5
         },
         "mode": "lines",
         "name": "Denmark",
         "stackgroup": "one",
         "type": "scatter",
         "x": [
          1996,
          1997,
          1998,
          1999,
          2000,
          2001,
          2002,
          2003,
          2004,
          2005,
          2006,
          2007,
          2008,
          2009,
          2010,
          2011,
          2012,
          2013,
          2014,
          2015,
          2016,
          2017,
          2018,
          2019,
          2020,
          2021
         ],
         "y": [
          0,
          0,
          0,
          0,
          0,
          0,
          0,
          0,
          0,
          318.97615472,
          42001.90036,
          144931.44853,
          256.2771,
          -427.31679999999994,
          18.06710000000003,
          2504.3689,
          6558.114899999999,
          9572.371799999999,
          12730.1831,
          12141.545600000001,
          -7282.573399999996,
          -4457.082700000002,
          15248.8116,
          2754.372300000001,
          28906.117900000005,
          1945.052899999997
         ]
        },
        {
         "line": {
          "color": "#004490",
          "width": 0.5
         },
         "mode": "lines",
         "name": "Estonia",
         "stackgroup": "one",
         "type": "scatter",
         "x": [
          1996,
          1997,
          1998,
          1999,
          2000,
          2001,
          2002,
          2003,
          2004,
          2005,
          2006,
          2007,
          2008,
          2009,
          2010,
          2011,
          2012,
          2013,
          2014,
          2015,
          2016,
          2017,
          2018,
          2019,
          2020,
          2021
         ],
         "y": [
          0,
          0,
          0,
          0,
          0,
          0,
          0,
          0,
          0,
          0,
          0,
          7630.928448414468,
          5049.8081847,
          8074.903005800001,
          -51.86870000000002,
          -332.4519,
          385.4632,
          482.2129000000001,
          4066.4057000000003,
          13203.9289,
          19714.2347,
          18489.0778,
          15371.392800000001,
          3879.199399999999,
          6970.890000000001,
          9139.9679
         ]
        },
        {
         "line": {
          "color": "#004491",
          "width": 0.5
         },
         "mode": "lines",
         "name": "Finland",
         "stackgroup": "one",
         "type": "scatter",
         "x": [
          1996,
          1997,
          1998,
          1999,
          2000,
          2001,
          2002,
          2003,
          2004,
          2005,
          2006,
          2007,
          2008,
          2009,
          2010,
          2011,
          2012,
          2013,
          2014,
          2015,
          2016,
          2017,
          2018,
          2019,
          2020,
          2021
         ],
         "y": [
          0,
          0,
          0,
          0,
          0,
          0,
          0,
          0,
          0,
          0,
          0,
          0,
          0,
          0,
          1533.3327,
          992.9875,
          1085.6838,
          1235.8589,
          887.0842,
          358.42260000000005,
          306.3299,
          -435.8257,
          53.51480000000004,
          2216.4143999999997,
          731.2886,
          206.88430000000002
         ]
        },
        {
         "line": {
          "color": "#004491",
          "width": 0.5
         },
         "mode": "lines",
         "name": "France",
         "stackgroup": "one",
         "type": "scatter",
         "x": [
          1996,
          1997,
          1998,
          1999,
          2000,
          2001,
          2002,
          2003,
          2004,
          2005,
          2006,
          2007,
          2008,
          2009,
          2010,
          2011,
          2012,
          2013,
          2014,
          2015,
          2016,
          2017,
          2018,
          2019,
          2020,
          2021
         ],
         "y": [
          0,
          0,
          0,
          0,
          0,
          17391.679748,
          6025.7279608,
          16448.098513,
          22592.907247,
          14121.949396,
          15679.700162000001,
          37484.439025,
          8179.6659331,
          11958.3897,
          -7820.127981500002,
          7353.0830000000005,
          25863.8317,
          11175.525672887801,
          20143.0675966074,
          22636.483492657895,
          -88316.95740000001,
          21092.414900000003,
          25066.608099999998,
          20114.753600000004,
          11780.3921,
          18697.264599999995
         ]
        },
        {
         "line": {
          "color": "#004491",
          "width": 0.5
         },
         "mode": "lines",
         "name": "Germany",
         "stackgroup": "one",
         "type": "scatter",
         "x": [
          1996,
          1997,
          1998,
          1999,
          2000,
          2001,
          2002,
          2003,
          2004,
          2005,
          2006,
          2007,
          2008,
          2009,
          2010,
          2011,
          2012,
          2013,
          2014,
          2015,
          2016,
          2017,
          2018,
          2019,
          2020,
          2021
         ],
         "y": [
          0,
          2081.4815364,
          2102.467071,
          2227.6398996,
          3209.7660714,
          13377.787084,
          4475.3194458,
          4624.2856232,
          5513.9169622,
          6217.4835103000005,
          19472.689886,
          51898.425348,
          40590.621487,
          21344.950499999995,
          12848.001200000002,
          46570.7578170115,
          142405.5651236,
          31927.3691519776,
          4186.941183478099,
          -2608.9812469351996,
          24315.591500000002,
          -94507.71600000001,
          40729.2298,
          23663.853700000003,
          36543.435099999995,
          31601.92470000001
         ]
        },
        {
         "line": {
          "color": "#004491",
          "width": 0.5
         },
         "mode": "lines",
         "name": "Greece",
         "stackgroup": "one",
         "type": "scatter",
         "x": [
          1996,
          1997,
          1998,
          1999,
          2000,
          2001,
          2002,
          2003,
          2004,
          2005,
          2006,
          2007,
          2008,
          2009,
          2010,
          2011,
          2012,
          2013,
          2014,
          2015,
          2016,
          2017,
          2018,
          2019,
          2020,
          2021
         ],
         "y": [
          0,
          0,
          2050.6539506,
          0,
          0,
          145.87661435,
          19424.897126,
          2434.498722,
          2384.0621053,
          3054.5145955999997,
          2507.4110432,
          1023.0277838,
          -1850.419659,
          1521.6229999999998,
          4485.3388,
          1184.8247000000001,
          177.87139999999994,
          -552.6471628594002,
          718.6416867650998,
          -1331.7708947709,
          -479.06149999999997,
          675.7194999999999,
          1971.6806000000004,
          1286.5997,
          1548.9981,
          982.0949
         ]
        },
        {
         "line": {
          "color": "#004491",
          "width": 0.5
         },
         "mode": "lines",
         "name": "Hungary",
         "stackgroup": "one",
         "type": "scatter",
         "x": [
          1996,
          1997,
          1998,
          1999,
          2000,
          2001,
          2002,
          2003,
          2004,
          2005,
          2006,
          2007,
          2008,
          2009,
          2010,
          2011,
          2012,
          2013,
          2014,
          2015,
          2016,
          2017,
          2018,
          2019,
          2020,
          2021
         ],
         "y": [
          0,
          0,
          0,
          0,
          0,
          0,
          0,
          33.8538195,
          0,
          327.04231567,
          314.75285391,
          922.9083499999999,
          1025.3158478,
          -46.925700000000006,
          0,
          0,
          -32.478300000000004,
          -79.5033,
          904.509,
          430.47159999999997,
          976.8398,
          2105.6886,
          1465.3579,
          2735.8586999999998,
          1147.4504,
          2803.9716000000003
         ]
        },
        {
         "line": {
          "color": "#004491",
          "width": 0.5
         },
         "mode": "lines",
         "name": "Ireland",
         "stackgroup": "one",
         "type": "scatter",
         "x": [
          1996,
          1997,
          1998,
          1999,
          2000,
          2001,
          2002,
          2003,
          2004,
          2005,
          2006,
          2007,
          2008,
          2009,
          2010,
          2011,
          2012,
          2013,
          2014,
          2015,
          2016,
          2017,
          2018,
          2019,
          2020,
          2021
         ],
         "y": [
          0,
          38.665291697,
          39.055115871,
          228.42992846,
          14082.859544,
          0,
          37.273765058,
          37.465603072,
          41.486357516,
          798.16892012,
          1058.9956843,
          -1663.1553395,
          223.5458792,
          64.62490000000001,
          316.1852,
          278.5027,
          206.5143,
          733.6552999999999,
          1058.0412999999999,
          807.8284,
          -350.64239999999995,
          190.4969,
          3157.7115,
          133240.9951,
          706.7917,
          590.7387
         ]
        },
        {
         "line": {
          "color": "#004491",
          "width": 0.5
         },
         "mode": "lines",
         "name": "Italy",
         "stackgroup": "one",
         "type": "scatter",
         "x": [
          1996,
          1997,
          1998,
          1999,
          2000,
          2001,
          2002,
          2003,
          2004,
          2005,
          2006,
          2007,
          2008,
          2009,
          2010,
          2011,
          2012,
          2013,
          2014,
          2015,
          2016,
          2017,
          2018,
          2019,
          2020,
          2021
         ],
         "y": [
          0,
          0,
          0,
          127.25956782,
          2971.6418604,
          6975.787021,
          9163.0742364,
          15194.558303999998,
          31751.867512,
          22132.37919,
          57511.73811200001,
          7645.624897,
          5762.381466201412,
          1733.2055587600005,
          5140.7743,
          -5233.3183,
          529.2086999999999,
          -141.6525698821999,
          3850.8930846965,
          -4159.7584742021,
          -3001.1893999999993,
          8260.9008,
          -2885.2652,
          -266.4677999999999,
          405.4325000000001,
          1876.8716000000002
         ]
        },
        {
         "line": {
          "color": "#004491",
          "width": 0.5
         },
         "mode": "lines",
         "name": "Latvia",
         "stackgroup": "one",
         "type": "scatter",
         "x": [
          1996,
          1997,
          1998,
          1999,
          2000,
          2001,
          2002,
          2003,
          2004,
          2005,
          2006,
          2007,
          2008,
          2009,
          2010,
          2011,
          2012,
          2013,
          2014,
          2015,
          2016,
          2017,
          2018,
          2019,
          2020,
          2021
         ],
         "y": [
          0,
          0,
          0,
          0,
          0,
          0,
          0,
          0,
          0,
          0,
          0,
          2849.2987169999997,
          756.48328,
          -18.0392,
          -0.535588,
          -102.95540000000001,
          1052.3802000000003,
          -1815.15745,
          21399.546230000004,
          18628.83439,
          27254.375900000003,
          -33854.2047,
          4154.3387999999995,
          2108.8642,
          4625.9314,
          4992.1502
         ]
        },
        {
         "line": {
          "color": "#004492",
          "width": 0.5
         },
         "mode": "lines",
         "name": "Lithuania (Lietuva)",
         "stackgroup": "one",
         "type": "scatter",
         "x": [
          1996,
          1997,
          1998,
          1999,
          2000,
          2001,
          2002,
          2003,
          2004,
          2005,
          2006,
          2007,
          2008,
          2009,
          2010,
          2011,
          2012,
          2013,
          2014,
          2015,
          2016,
          2017,
          2018,
          2019,
          2020,
          2021
         ],
         "y": [
          0,
          0,
          0,
          0,
          0,
          0,
          0,
          0,
          0,
          17.124850000000002,
          3424.18133,
          327.33967578,
          -113.9313644,
          3560.3453999999997,
          2441.0511,
          -1847.0764000000001,
          578.3941000000001,
          5390.8539408792985,
          3750.3926011861995,
          2204.7679523644,
          -4423.324900000001,
          2506.653,
          592.2303999999999,
          3994.64,
          1021.082,
          3439.5586
         ]
        },
        {
         "line": {
          "color": "#004492",
          "width": 0.5
         },
         "mode": "lines",
         "name": "Luxembourg",
         "stackgroup": "one",
         "type": "scatter",
         "x": [
          1996,
          1997,
          1998,
          1999,
          2000,
          2001,
          2002,
          2003,
          2004,
          2005,
          2006,
          2007,
          2008,
          2009,
          2010,
          2011,
          2012,
          2013,
          2014,
          2015,
          2016,
          2017,
          2018,
          2019,
          2020,
          2021
         ],
         "y": [
          0,
          0,
          0,
          0,
          0,
          0,
          337.23680346,
          249.77068715,
          276.57571677,
          553.05907647,
          261.06027645,
          8480.1252107,
          5731.045185,
          9496.6265,
          7059.928999999999,
          43284.0354,
          42031.6184,
          91735.7464,
          109633.1309,
          127265.28130000002,
          115746.32149999998,
          100714.59220000001,
          50135.965500000006,
          68838.7905,
          21614.3057,
          40996.8202
         ]
        },
        {
         "line": {
          "color": "#004492",
          "width": 0.5
         },
         "mode": "lines",
         "name": "Malta",
         "stackgroup": "one",
         "type": "scatter",
         "x": [
          1996,
          1997,
          1998,
          1999,
          2000,
          2001,
          2002,
          2003,
          2004,
          2005,
          2006,
          2007,
          2008,
          2009,
          2010,
          2011,
          2012,
          2013,
          2014,
          2015,
          2016,
          2017,
          2018,
          2019,
          2020,
          2021
         ],
         "y": [
          0,
          0,
          0,
          0,
          0,
          0,
          0,
          0,
          0,
          0,
          0,
          0,
          0,
          0,
          16767.859200000003,
          6788.9115600000005,
          32204.212399999997,
          44301.7202,
          45809.03690000001,
          28115.025100000003,
          29418.274999999998,
          9984.076200000003,
          25095.777500000004,
          1201.4031000000032,
          45932.889500000005,
          5803.967800000002
         ]
        },
        {
         "line": {
          "color": "#004492",
          "width": 0.5
         },
         "mode": "lines",
         "name": "Netherlands",
         "stackgroup": "one",
         "type": "scatter",
         "x": [
          1996,
          1997,
          1998,
          1999,
          2000,
          2001,
          2002,
          2003,
          2004,
          2005,
          2006,
          2007,
          2008,
          2009,
          2010,
          2011,
          2012,
          2013,
          2014,
          2015,
          2016,
          2017,
          2018,
          2019,
          2020,
          2021
         ],
         "y": [
          0,
          0,
          0,
          0,
          4422.1381858,
          1500.6031406,
          80.4024,
          143.86195,
          35.615629999999996,
          632.00773225,
          69405.60935399999,
          274706.79691000003,
          138706.523502,
          34324.9851128,
          73008.93953050021,
          244536.25783875003,
          34210.31129150002,
          159181.12874856865,
          420490.83215626166,
          164899.074528573,
          77343.81179999986,
          355278.9608,
          211615.04210000002,
          88054.33260000002,
          200656.64299999998,
          125911.925
         ]
        },
        {
         "line": {
          "color": "#004492",
          "width": 0.5
         },
         "mode": "lines",
         "name": "Poland",
         "stackgroup": "one",
         "type": "scatter",
         "x": [
          1996,
          1997,
          1998,
          1999,
          2000,
          2001,
          2002,
          2003,
          2004,
          2005,
          2006,
          2007,
          2008,
          2009,
          2010,
          2011,
          2012,
          2013,
          2014,
          2015,
          2016,
          2017,
          2018,
          2019,
          2020,
          2021
         ],
         "y": [
          0,
          0,
          0,
          0,
          5947.1495793,
          2581.6232849,
          0,
          0,
          0,
          293.80701768,
          502.22276298,
          19.052144358,
          22.9110413,
          10.7583,
          52.99431250000001,
          152.26570000000004,
          -13.615700000000002,
          1363.7974,
          378.66290000000004,
          1650.4062,
          1992.1548999999998,
          1310.9894,
          2867.5122999999994,
          3600.0191000000004,
          780.9683,
          5261.286999999999
         ]
        },
        {
         "line": {
          "color": "#004492",
          "width": 0.5
         },
         "mode": "lines",
         "name": "Portugal",
         "stackgroup": "one",
         "type": "scatter",
         "x": [
          1996,
          1997,
          1998,
          1999,
          2000,
          2001,
          2002,
          2003,
          2004,
          2005,
          2006,
          2007,
          2008,
          2009,
          2010,
          2011,
          2012,
          2013,
          2014,
          2015,
          2016,
          2017,
          2018,
          2019,
          2020,
          2021
         ],
         "y": [
          0,
          0,
          0,
          0,
          0,
          0,
          0,
          0,
          0,
          0,
          0,
          13.198258189,
          117.22646775,
          24.4091,
          21.581300000000006,
          -3.7229,
          1128.8817862,
          2489.92,
          2030.8138000000001,
          2635.1572000000006,
          1404.9785,
          885.4689000000001,
          19.005900000000025,
          -154.5442,
          0,
          459.03330000000005
         ]
        },
        {
         "line": {
          "color": "#004492",
          "width": 0.5
         },
         "mode": "lines",
         "name": "Romania",
         "stackgroup": "one",
         "type": "scatter",
         "x": [
          1996,
          1997,
          1998,
          1999,
          2000,
          2001,
          2002,
          2003,
          2004,
          2005,
          2006,
          2007,
          2008,
          2009,
          2010,
          2011,
          2012,
          2013,
          2014,
          2015,
          2016,
          2017,
          2018,
          2019,
          2020,
          2021
         ],
         "y": [
          0,
          0,
          0,
          0,
          0,
          0,
          0,
          0,
          0,
          0,
          0,
          0,
          5430.6369112,
          0,
          -11.247299999999996,
          41.277100000000004,
          0,
          80.6187,
          187.7075,
          -31.224699999999988,
          800.8825,
          727.3345999999999,
          607.1059999999999,
          278.6114,
          124.3547,
          192.1103
         ]
        },
        {
         "line": {
          "color": "#004492",
          "width": 0.5
         },
         "mode": "lines",
         "name": "Slovakia",
         "stackgroup": "one",
         "type": "scatter",
         "x": [
          1996,
          1997,
          1998,
          1999,
          2000,
          2001,
          2002,
          2003,
          2004,
          2005,
          2006,
          2007,
          2008,
          2009,
          2010,
          2011,
          2012,
          2013,
          2014,
          2015,
          2016,
          2017,
          2018,
          2019,
          2020,
          2021
         ],
         "y": [
          0,
          0,
          0,
          0,
          0,
          0,
          0,
          0,
          0,
          0,
          0,
          0,
          0,
          23.2862,
          8.799899999999994,
          20.1012,
          3795.7796434,
          -277.984,
          3578.3338999999996,
          3450.1634999999997,
          -1033.681,
          2753.7078,
          3651.813,
          1881.5939999999998,
          16613.315300000002,
          -7161.4534
         ]
        },
        {
         "line": {
          "color": "#004493",
          "width": 0.5
         },
         "mode": "lines",
         "name": "Slovenia",
         "stackgroup": "one",
         "type": "scatter",
         "x": [
          1996,
          1997,
          1998,
          1999,
          2000,
          2001,
          2002,
          2003,
          2004,
          2005,
          2006,
          2007,
          2008,
          2009,
          2010,
          2011,
          2012,
          2013,
          2014,
          2015,
          2016,
          2017,
          2018,
          2019,
          2020,
          2021
         ],
         "y": [
          0,
          0,
          0,
          0,
          0,
          0,
          0,
          0,
          0,
          0,
          0,
          0,
          0,
          0,
          0,
          0,
          0,
          0,
          63.277,
          -4.494,
          865.0127,
          997.0346000000001,
          887.3559,
          1184.4070000000002,
          -6.1889,
          52.9576
         ]
        },
        {
         "line": {
          "color": "#004493",
          "width": 0.5
         },
         "mode": "lines",
         "name": "Spain",
         "stackgroup": "one",
         "type": "scatter",
         "x": [
          1996,
          1997,
          1998,
          1999,
          2000,
          2001,
          2002,
          2003,
          2004,
          2005,
          2006,
          2007,
          2008,
          2009,
          2010,
          2011,
          2012,
          2013,
          2014,
          2015,
          2016,
          2017,
          2018,
          2019,
          2020,
          2021
         ],
         "y": [
          0,
          0,
          0,
          0,
          0,
          0,
          0,
          0,
          0,
          0,
          0,
          3297.6308245,
          5474.79025,
          137.0427,
          91.3662,
          30.201299999999947,
          941.8611999999994,
          -1645.0932,
          4730.2446,
          1345.4906,
          1115.7976000000003,
          5835.863800000001,
          -3487.280400000001,
          -3058.918600000001,
          2843.6231,
          10040.5401
         ]
        },
        {
         "line": {
          "color": "#004493",
          "width": 0.5
         },
         "mode": "lines",
         "name": "Sweden",
         "stackgroup": "one",
         "type": "scatter",
         "x": [
          1996,
          1997,
          1998,
          1999,
          2000,
          2001,
          2002,
          2003,
          2004,
          2005,
          2006,
          2007,
          2008,
          2009,
          2010,
          2011,
          2012,
          2013,
          2014,
          2015,
          2016,
          2017,
          2018,
          2019,
          2020,
          2021
         ],
         "y": [
          0,
          0,
          0,
          0,
          0,
          0,
          0,
          0,
          0,
          160.44956263,
          189.4990264,
          6223.5080376000005,
          7634.8293032,
          -8831.4499,
          -1596.0819000000001,
          -3615.2068,
          -4464.534699999999,
          5265.1964,
          1059.0533,
          8726.6921,
          3094.2326,
          2039.6707000000001,
          1070.6603,
          4706.552100000001,
          7697.588999999999,
          3876.176200000001
         ]
        },
        {
         "line": {
          "color": "#004493",
          "width": 0.5
         },
         "mode": "lines",
         "name": "Azerbaijan",
         "stackgroup": "one",
         "type": "scatter",
         "x": [
          1996,
          1997,
          1998,
          1999,
          2000,
          2001,
          2002,
          2003,
          2004,
          2005,
          2006,
          2007,
          2008,
          2009,
          2010,
          2011,
          2012,
          2013,
          2014,
          2015,
          2016,
          2017,
          2018,
          2019,
          2020,
          2021
         ],
         "y": [
          0,
          12888.430566,
          13018.371957,
          0,
          0,
          0,
          -2215.84888,
          27481.697179,
          66883.569148,
          64704.396681000006,
          71020.98143300001,
          19766.912873999994,
          23371.880167802825,
          29923.288917520003,
          62859.642099,
          69454.57742300001,
          61287.42417459794,
          84620.42528288659,
          340549.8357754304,
          581739.0563986137,
          555138.156,
          460500.84010000015,
          246692.94050000006,
          38878.952700000016,
          -16382.717,
          207.3744000000006
         ]
        },
        {
         "line": {
          "color": "#970000",
          "width": 0.5
         },
         "mode": "lines",
         "name": "Armenia",
         "stackgroup": "one",
         "type": "scatter",
         "x": [
          1996,
          1997,
          1998,
          1999,
          2000,
          2001,
          2002,
          2003,
          2004,
          2005,
          2006,
          2007,
          2008,
          2009,
          2010,
          2011,
          2012,
          2013,
          2014,
          2015,
          2016,
          2017,
          2018,
          2019,
          2020,
          2021
         ],
         "y": [
          0,
          0,
          0,
          0,
          0,
          0,
          0,
          249.77068715,
          276.57571677,
          493.54602496999996,
          690.5067109,
          -4895.3510278,
          11818.48120401,
          1841.2896999999996,
          19514.31789425,
          3195.7363712999995,
          7623.209987499999,
          3689.156903422,
          12767.5667326256,
          11980.961099999999,
          4391.4367999999995,
          6931.9268,
          9713.466100000001,
          14766.711399999998,
          10320.309400000002,
          7094.7468
         ]
        },
        {
         "line": {
          "color": "#970000",
          "width": 0.5
         },
         "mode": "lines",
         "name": "Belarus",
         "stackgroup": "one",
         "type": "scatter",
         "x": [
          1996,
          1997,
          1998,
          1999,
          2000,
          2001,
          2002,
          2003,
          2004,
          2005,
          2006,
          2007,
          2008,
          2009,
          2010,
          2011,
          2012,
          2013,
          2014,
          2015,
          2016,
          2017,
          2018,
          2019,
          2020,
          2021
         ],
         "y": [
          0,
          0,
          0,
          0,
          0,
          0,
          0,
          0,
          0,
          0,
          0,
          52.797222679,
          102.41150944,
          -223.3678,
          -92.02809999999998,
          151.8493,
          -257.1497,
          40.8154,
          52.44949999999999,
          2639.6713999999997,
          252.3271000000001,
          538.9898000000001,
          691.9482,
          293.908,
          4222.821199999999,
          562.7729999999999
         ]
        },
        {
         "line": {
          "color": "#970000",
          "width": 0.5
         },
         "mode": "lines",
         "name": "Kazakhstan",
         "stackgroup": "one",
         "type": "scatter",
         "x": [
          1996,
          1997,
          1998,
          1999,
          2000,
          2001,
          2002,
          2003,
          2004,
          2005,
          2006,
          2007,
          2008,
          2009,
          2010,
          2011,
          2012,
          2013,
          2014,
          2015,
          2016,
          2017,
          2018,
          2019,
          2020,
          2021
         ],
         "y": [
          0,
          0,
          0,
          0,
          0,
          0,
          0,
          0,
          0,
          337.18444999999997,
          161917.04747000002,
          47656.65536277321,
          65941.73292,
          -31972.6394,
          -17904.241246600002,
          12856.4192,
          4305.965,
          23100.898441349393,
          12651.857438053603,
          10484.9908867336,
          8936.618400000003,
          -9408.809100000002,
          -39816.4197,
          7398.1469000000025,
          -149.23440000000005,
          11020.030700000001
         ]
        },
        {
         "line": {
          "color": "#970000",
          "width": 0.5
         },
         "mode": "lines",
         "name": "Kyrgyzstan",
         "stackgroup": "one",
         "type": "scatter",
         "x": [
          1996,
          1997,
          1998,
          1999,
          2000,
          2001,
          2002,
          2003,
          2004,
          2005,
          2006,
          2007,
          2008,
          2009,
          2010,
          2011,
          2012,
          2013,
          2014,
          2015,
          2016,
          2017,
          2018,
          2019,
          2020,
          2021
         ],
         "y": [
          0,
          0,
          0,
          0,
          0,
          0,
          0,
          0,
          0,
          0,
          0,
          0,
          -0.0469,
          -6.3176,
          14075.012730000002,
          5029.3909,
          2670.7412,
          2649.0264,
          -2283.0598999999997,
          -167.9391,
          829.9276999999998,
          122.4244,
          1390.1558,
          51.35460000000009,
          -632.1688000000001,
          -24393.822299999996
         ]
        },
        {
         "line": {
          "color": "#980000",
          "width": 0.5
         },
         "mode": "lines",
         "name": "Moldova",
         "stackgroup": "one",
         "type": "scatter",
         "x": [
          1996,
          1997,
          1998,
          1999,
          2000,
          2001,
          2002,
          2003,
          2004,
          2005,
          2006,
          2007,
          2008,
          2009,
          2010,
          2011,
          2012,
          2013,
          2014,
          2015,
          2016,
          2017,
          2018,
          2019,
          2020,
          2021
         ],
         "y": [
          0,
          0,
          0,
          0,
          0,
          0,
          0,
          0,
          0,
          0,
          0,
          0,
          0,
          -84.8159,
          0,
          41.9414,
          -103.7608,
          -766.9517999999999,
          -227.8321,
          -248.18690000000004,
          -22.980600000000006,
          43.558600000000006,
          79.1423,
          18.945000000000004,
          34.03020000000001,
          379.98249999999996
         ]
        },
        {
         "line": {
          "color": "#980000",
          "width": 0.5
         },
         "mode": "lines",
         "name": "Russia",
         "stackgroup": "one",
         "type": "scatter",
         "x": [
          1996,
          1997,
          1998,
          1999,
          2000,
          2001,
          2002,
          2003,
          2004,
          2005,
          2006,
          2007,
          2008,
          2009,
          2010,
          2011,
          2012,
          2013,
          2014,
          2015,
          2016,
          2017,
          2018,
          2019,
          2020,
          2021
         ],
         "y": [
          0,
          14435.042234,
          27598.948549,
          1072.6448079,
          6139.0290127,
          5072.7730321,
          7029.336350899999,
          41997.4569,
          43165.080429,
          40124.322022,
          30987.820763000003,
          75162.30569200001,
          26212.175149,
          10253.3809,
          50974.0375237,
          58017.61901425,
          22017.321399999993,
          7813.8212580673935,
          87908.6323998438,
          52369.6255640169,
          28497.6457,
          51318.7092,
          74314.00600000001,
          55228.18860000001,
          39172.82459999999,
          58583.67019999996
         ]
        },
        {
         "line": {
          "color": "#980000",
          "width": 0.5
         },
         "mode": "lines",
         "name": "Turkmenistan",
         "stackgroup": "one",
         "type": "scatter",
         "x": [
          1996,
          1997,
          1998,
          1999,
          2000,
          2001,
          2002,
          2003,
          2004,
          2005,
          2006,
          2007,
          2008,
          2009,
          2010,
          2011,
          2012,
          2013,
          2014,
          2015,
          2016,
          2017,
          2018,
          2019,
          2020,
          2021
         ],
         "y": [
          0,
          0,
          0,
          0,
          0,
          0,
          0,
          0,
          0,
          0,
          0,
          0,
          0,
          0,
          0,
          0,
          7.0924,
          361.1922,
          -85.5539,
          -43.938500000000005,
          194.2136,
          2586.9372000000008,
          -285.5521,
          1656.7801,
          70.54979999999999,
          1945.8577
         ]
        },
        {
         "line": {
          "color": "#980000",
          "width": 0.5
         },
         "mode": "lines",
         "name": "Ukraine",
         "stackgroup": "one",
         "type": "scatter",
         "x": [
          1996,
          1997,
          1998,
          1999,
          2000,
          2001,
          2002,
          2003,
          2004,
          2005,
          2006,
          2007,
          2008,
          2009,
          2010,
          2011,
          2012,
          2013,
          2014,
          2015,
          2016,
          2017,
          2018,
          2019,
          2020,
          2021
         ],
         "y": [
          3753.45,
          403.11,
          -2667.56,
          -547.40463362,
          -50.950741939,
          -36.425595809,
          -37.81212725,
          1438.5002472,
          1280.0000057,
          1700.8810614,
          1055.7597171,
          22308.507207000002,
          -6441.9638143,
          -1563.5478,
          4396.0625,
          1648.2133,
          1234.22044,
          22939.0334711236,
          3422.5825303473002,
          -27261.6689539292,
          10967.181399999998,
          5512.206900000002,
          1464.1579000000029,
          25877.76299999999,
          16306.864300000005,
          10717.9004
         ]
        },
        {
         "line": {
          "color": "#990000",
          "width": 0.5
         },
         "mode": "lines",
         "name": "Uzbekistan",
         "stackgroup": "one",
         "type": "scatter",
         "x": [
          1996,
          1997,
          1998,
          1999,
          2000,
          2001,
          2002,
          2003,
          2004,
          2005,
          2006,
          2007,
          2008,
          2009,
          2010,
          2011,
          2012,
          2013,
          2014,
          2015,
          2016,
          2017,
          2018,
          2019,
          2020,
          2021
         ],
         "y": [
          0,
          0,
          0,
          0,
          0,
          0,
          0,
          0,
          0,
          0,
          0,
          0,
          0,
          175.3256,
          22.98018,
          -65.2351,
          -206.5675,
          -17.8822,
          2933.8681,
          2535.4821,
          1284.6891999999998,
          1196.0973000000004,
          1144.6042999999997,
          802.8506,
          -84.34880000000001,
          2084.0817
         ]
        },
        {
         "line": {
          "color": "#990000",
          "width": 0.5
         },
         "mode": "lines",
         "name": "Argentina",
         "stackgroup": "one",
         "type": "scatter",
         "x": [
          1996,
          1997,
          1998,
          1999,
          2000,
          2001,
          2002,
          2003,
          2004,
          2005,
          2006,
          2007,
          2008,
          2009,
          2010,
          2011,
          2012,
          2013,
          2014,
          2015,
          2016,
          2017,
          2018,
          2019,
          2020,
          2021
         ],
         "y": [
          0,
          0,
          0,
          0,
          0,
          0,
          0,
          0,
          0,
          93.090463818,
          100.51153314,
          40.578568543,
          -90.1567621,
          0,
          0,
          0,
          0,
          0,
          0,
          0,
          0,
          69.393,
          -104.0258,
          0,
          -1.0892,
          -0.5505
         ]
        },
        {
         "mode": "lines",
         "name": "Australia",
         "stackgroup": "one",
         "type": "scatter",
         "x": [
          1996,
          1997,
          1998,
          1999,
          2000,
          2001,
          2002,
          2003,
          2004,
          2005,
          2006,
          2007,
          2008,
          2009,
          2010,
          2011,
          2012,
          2013,
          2014,
          2015,
          2016,
          2017,
          2018,
          2019,
          2020,
          2021
         ],
         "y": [
          0,
          27065.704188,
          27270.917295,
          0,
          2409.1636691,
          0,
          0,
          26225.92215,
          0,
          921.53805755,
          1939.404722,
          207.50525823,
          109.2164225,
          99.199,
          -238.17770000000002,
          95.6349,
          139.49450000000002,
          -255.49720000000002,
          25.462300000000006,
          1.6278000000000021,
          4180.9058,
          3469.6208000000006,
          585.9809,
          2624.9260999999997,
          1012.7366,
          2095.7920000000004
         ]
        },
        {
         "mode": "lines",
         "name": "Bahamas",
         "stackgroup": "one",
         "type": "scatter",
         "x": [
          1996,
          1997,
          1998,
          1999,
          2000,
          2001,
          2002,
          2003,
          2004,
          2005,
          2006,
          2007,
          2008,
          2009,
          2010,
          2011,
          2012,
          2013,
          2014,
          2015,
          2016,
          2017,
          2018,
          2019,
          2020,
          2021
         ],
         "y": [
          0,
          0,
          0,
          0,
          0,
          0,
          0,
          0,
          0,
          0,
          0,
          -3.1941305311,
          0,
          0,
          0,
          184.4282,
          417.9381,
          -430.676,
          0,
          59.7579,
          7.645,
          97.463,
          231.3201,
          -2801.4893,
          -3428.774,
          89.563
         ]
        },
        {
         "mode": "lines",
         "name": "Belize",
         "stackgroup": "one",
         "type": "scatter",
         "x": [
          1996,
          1997,
          1998,
          1999,
          2000,
          2001,
          2002,
          2003,
          2004,
          2005,
          2006,
          2007,
          2008,
          2009,
          2010,
          2011,
          2012,
          2013,
          2014,
          2015,
          2016,
          2017,
          2018,
          2019,
          2020,
          2021
         ],
         "y": [
          0,
          0,
          0,
          0,
          0,
          0,
          0,
          155.7275697,
          0,
          694.96492081,
          -264.23182896,
          9462.338178,
          37822.532076,
          3100.7033,
          689.0926000000001,
          30315.370221899997,
          14907.3522,
          -7158.329100000001,
          36987.175200000005,
          -23230.24650000001,
          6576.018999999999,
          2055.9574000000002,
          3249.2126999999996,
          -11248.292900000002,
          -12738.968499999999,
          -39777.6033
         ]
        },
        {
         "mode": "lines",
         "name": "Virgin Islands, British",
         "stackgroup": "one",
         "type": "scatter",
         "x": [
          1996,
          1997,
          1998,
          1999,
          2000,
          2001,
          2002,
          2003,
          2004,
          2005,
          2006,
          2007,
          2008,
          2009,
          2010,
          2011,
          2012,
          2013,
          2014,
          2015,
          2016,
          2017,
          2018,
          2019,
          2020,
          2021
         ],
         "y": [
          0,
          6424.882637,
          6489.6584205,
          0,
          0,
          0,
          0,
          6225.5343771,
          6903.4810206,
          5198.6146147,
          55826.427604,
          174268.630502817,
          132629.5559572,
          28286.161102000002,
          9672.92809220001,
          27977.01780234001,
          26592.3135119024,
          30293.8254150029,
          5241.563962479099,
          30746.961885628392,
          37298.2112,
          -23034.190500000004,
          -48988.3569,
          -34716.2577,
          -69679.99829999999,
          -11596.602299999997
         ]
        },
        {
         "mode": "lines",
         "name": "Canada",
         "stackgroup": "one",
         "type": "scatter",
         "x": [
          1996,
          1997,
          1998,
          1999,
          2000,
          2001,
          2002,
          2003,
          2004,
          2005,
          2006,
          2007,
          2008,
          2009,
          2010,
          2011,
          2012,
          2013,
          2014,
          2015,
          2016,
          2017,
          2018,
          2019,
          2020,
          2021
         ],
         "y": [
          0,
          0,
          0,
          0,
          0,
          0,
          0,
          0,
          0,
          0,
          6000,
          1232.5273942000001,
          -104.046314,
          -96.3282,
          362.0058,
          3124.6049000000003,
          1034.9461,
          -664.3519,
          2773.9876,
          115.81950000000003,
          -1.4746999999999986,
          193.00779999999992,
          -152.28159999999997,
          325.78550000000007,
          936.3405000000001,
          724.4779
         ]
        },
        {
         "mode": "lines",
         "name": "Cayman Islands",
         "stackgroup": "one",
         "type": "scatter",
         "x": [
          1996,
          1997,
          1998,
          1999,
          2000,
          2001,
          2002,
          2003,
          2004,
          2005,
          2006,
          2007,
          2008,
          2009,
          2010,
          2011,
          2012,
          2013,
          2014,
          2015,
          2016,
          2017,
          2018,
          2019,
          2020,
          2021
         ],
         "y": [
          0,
          0,
          0,
          0,
          0,
          0,
          0,
          0,
          0,
          0,
          6698.1672497,
          2830.5324123,
          -7007.2642465,
          2161.0807,
          12332.2625,
          21660.3964,
          6529.132799999999,
          6362.3177156569,
          898.246367638699,
          -30549.011938514206,
          8725.004500000001,
          -1638.5926000000004,
          3105.977999999999,
          -3711.6037000000006,
          2989.7791,
          2508.4376
         ]
        },
        {
         "mode": "lines",
         "name": "China",
         "stackgroup": "one",
         "type": "scatter",
         "x": [
          1996,
          1997,
          1998,
          1999,
          2000,
          2001,
          2002,
          2003,
          2004,
          2005,
          2006,
          2007,
          2008,
          2009,
          2010,
          2011,
          2012,
          2013,
          2014,
          2015,
          2016,
          2017,
          2018,
          2019,
          2020,
          2021
         ],
         "y": [
          0,
          0,
          0,
          0,
          0,
          0,
          2562.0325038,
          19070.414976,
          7338.0992234,
          5668.5255203,
          5445.267389,
          6028.6861263,
          -2271.4043811,
          -2236.9719,
          -7882.0231,
          30382.743825,
          70156.8004,
          101129.66156029991,
          220099.17697483004,
          66947.633819704,
          25480.8252,
          19364.383700000006,
          75991.0711,
          43751.85690000001,
          -35521.48299999999,
          19259.866800000003
         ]
        },
        {
         "mode": "lines",
         "name": "Gibraltar",
         "stackgroup": "one",
         "type": "scatter",
         "x": [
          1996,
          1997,
          1998,
          1999,
          2000,
          2001,
          2002,
          2003,
          2004,
          2005,
          2006,
          2007,
          2008,
          2009,
          2010,
          2011,
          2012,
          2013,
          2014,
          2015,
          2016,
          2017,
          2018,
          2019,
          2020,
          2021
         ],
         "y": [
          0,
          0,
          0,
          0,
          0,
          0,
          0,
          115.1029863,
          0,
          90.174558941,
          955.37407224,
          5619.7284164,
          5307.0150739,
          4088.9758,
          986.309948129001,
          -802.8544999999999,
          -629.969699999999,
          469.0521,
          545.5634,
          1285.7403,
          479.52010000000007,
          1914.3475999999998,
          1042.796,
          1191.5364,
          421.1143,
          -1410.7389
         ]
        },
        {
         "mode": "lines",
         "name": "Hong Kong, SAR of China",
         "stackgroup": "one",
         "type": "scatter",
         "x": [
          1996,
          1997,
          1998,
          1999,
          2000,
          2001,
          2002,
          2003,
          2004,
          2005,
          2006,
          2007,
          2008,
          2009,
          2010,
          2011,
          2012,
          2013,
          2014,
          2015,
          2016,
          2017,
          2018,
          2019,
          2020,
          2021
         ],
         "y": [
          0,
          0,
          0,
          0,
          0,
          0,
          0,
          0,
          0,
          0,
          0,
          0,
          0,
          0,
          0,
          0,
          0,
          2190.0277,
          -47.877599999999994,
          -0.1936,
          4070.1412,
          1577.6401,
          4810.8122,
          -7595.501199999999,
          -2495.1841000000004,
          2184.7160000000003
         ]
        },
        {
         "mode": "lines",
         "name": "Iceland",
         "stackgroup": "one",
         "type": "scatter",
         "x": [
          1996,
          1997,
          1998,
          1999,
          2000,
          2001,
          2002,
          2003,
          2004,
          2005,
          2006,
          2007,
          2008,
          2009,
          2010,
          2011,
          2012,
          2013,
          2014,
          2015,
          2016,
          2017,
          2018,
          2019,
          2020,
          2021
         ],
         "y": [
          0,
          0,
          0,
          0,
          0,
          0,
          0,
          0,
          0,
          0,
          0,
          181.66160995,
          0,
          185.0661,
          715.8330000000001,
          117.1026,
          -62.900800000000004,
          124.6813,
          262.3555,
          -711.378,
          -331.95059999999995,
          -653.1487,
          79.2436,
          -1452.7458000000004,
          -20.6595,
          34.045100000000005
         ]
        },
        {
         "mode": "lines",
         "name": "India",
         "stackgroup": "one",
         "type": "scatter",
         "x": [
          1996,
          1997,
          1998,
          1999,
          2000,
          2001,
          2002,
          2003,
          2004,
          2005,
          2006,
          2007,
          2008,
          2009,
          2010,
          2011,
          2012,
          2013,
          2014,
          2015,
          2016,
          2017,
          2018,
          2019,
          2020,
          2021
         ],
         "y": [
          0,
          0,
          0,
          821.10302839,
          0,
          0,
          0,
          0,
          0,
          29.028381612,
          54.933841946,
          61.941818182,
          26998.38238,
          271.0611,
          16886.6267,
          16269.903100000003,
          5149.667799999999,
          -12574.154899999998,
          249.3962999999998,
          532.3095,
          -857.7759999999996,
          9311.537399999997,
          -4050.152800000001,
          6517.469900000002,
          3269.2210999999998,
          8931.287100000001
         ]
        },
        {
         "mode": "lines",
         "name": "Iran",
         "stackgroup": "one",
         "type": "scatter",
         "x": [
          1996,
          1997,
          1998,
          1999,
          2000,
          2001,
          2002,
          2003,
          2004,
          2005,
          2006,
          2007,
          2008,
          2009,
          2010,
          2011,
          2012,
          2013,
          2014,
          2015,
          2016,
          2017,
          2018,
          2019,
          2020,
          2021
         ],
         "y": [
          0,
          0,
          0,
          0,
          0,
          0,
          0,
          0,
          0,
          0,
          42.887938313,
          108.27282939,
          1448.5049907,
          1188.0814,
          1083.8579,
          1059.1167,
          3131.2023677999996,
          6990.960099999999,
          2136.6546,
          536.5068000000001,
          3332.589799999999,
          5506.6249,
          8062.4283000000005,
          3078.0895000000014,
          678.6043999999995,
          1291.7235
         ]
        },
        {
         "mode": "lines",
         "name": "Iraq",
         "stackgroup": "one",
         "type": "scatter",
         "x": [
          1996,
          1997,
          1998,
          1999,
          2000,
          2001,
          2002,
          2003,
          2004,
          2005,
          2006,
          2007,
          2008,
          2009,
          2010,
          2011,
          2012,
          2013,
          2014,
          2015,
          2016,
          2017,
          2018,
          2019,
          2020,
          2021
         ],
         "y": [
          0,
          0,
          0,
          0,
          0,
          0,
          0,
          0,
          0,
          0,
          1.3224597752,
          35.375671886,
          0,
          0,
          0,
          0,
          0,
          -1.4715,
          -27.2556,
          0.14180000000000018,
          210.77839999999986,
          540.7538999999999,
          -6664.4913,
          -13025.869600000002,
          17969.464399999997,
          -4396.5413
         ]
        },
        {
         "mode": "lines",
         "name": "Israel",
         "stackgroup": "one",
         "type": "scatter",
         "x": [
          1996,
          1997,
          1998,
          1999,
          2000,
          2001,
          2002,
          2003,
          2004,
          2005,
          2006,
          2007,
          2008,
          2009,
          2010,
          2011,
          2012,
          2013,
          2014,
          2015,
          2016,
          2017,
          2018,
          2019,
          2020,
          2021
         ],
         "y": [
          0,
          0,
          0,
          0,
          0,
          152.84944721,
          4321.5679591,
          487.05283994,
          539.32264771,
          1704.0831216,
          4084.2077205,
          8640.9584799,
          -2047.6576677,
          1230.011,
          7954.441699999999,
          7566.2072,
          10327.3648,
          9146.5983268346,
          20048.1481379398,
          37661.79790594461,
          2536.2457999999997,
          6737.869799999997,
          -1457.0593000000006,
          22290.256999999998,
          8572.083399999998,
          9274.351100000002
         ]
        },
        {
         "mode": "lines",
         "name": "Japan",
         "stackgroup": "one",
         "type": "scatter",
         "x": [
          1996,
          1997,
          1998,
          1999,
          2000,
          2001,
          2002,
          2003,
          2004,
          2005,
          2006,
          2007,
          2008,
          2009,
          2010,
          2011,
          2012,
          2013,
          2014,
          2015,
          2016,
          2017,
          2018,
          2019,
          2020,
          2021
         ],
         "y": [
          0,
          5026.4879206,
          5077.1650632,
          0,
          0,
          0,
          0,
          8617.7422397,
          12089.536697,
          16610.085868,
          34008.274956999994,
          29673.463881,
          11369.941629901412,
          -30759.26394124,
          17492.450399999998,
          23010.6177,
          13850.448199999999,
          28974.311,
          -15029.7206,
          -34638.4402,
          5833.213300000003,
          18364.4159,
          4843.066299999999,
          39535.8166,
          6491.005599999995,
          3635.918399999995
         ]
        },
        {
         "mode": "lines",
         "name": "Jordan",
         "stackgroup": "one",
         "type": "scatter",
         "x": [
          1996,
          1997,
          1998,
          1999,
          2000,
          2001,
          2002,
          2003,
          2004,
          2005,
          2006,
          2007,
          2008,
          2009,
          2010,
          2011,
          2012,
          2013,
          2014,
          2015,
          2016,
          2017,
          2018,
          2019,
          2020,
          2021
         ],
         "y": [
          0,
          0,
          0,
          0,
          0,
          0,
          0,
          0,
          0,
          0,
          0,
          0,
          0,
          -78.8384,
          -4086.3064,
          -692.5388999999998,
          453.1014000000002,
          -668.2545,
          -30366.267200000002,
          1777.6065000000003,
          969.9827999999999,
          1026.5032,
          667.8401000000001,
          -1216.6981,
          -41.43760000000009,
          809.4219
         ]
        },
        {
         "mode": "lines",
         "name": "Korea",
         "stackgroup": "one",
         "type": "scatter",
         "x": [
          1996,
          1997,
          1998,
          1999,
          2000,
          2001,
          2002,
          2003,
          2004,
          2005,
          2006,
          2007,
          2008,
          2009,
          2010,
          2011,
          2012,
          2013,
          2014,
          2015,
          2016,
          2017,
          2018,
          2019,
          2020,
          2021
         ],
         "y": [
          0,
          5799.7937546,
          5858.2673806,
          1487.6822717,
          9406.0971957,
          0,
          0,
          8317.363882,
          9486.2705096,
          6446.9326952,
          3064.2435604,
          0,
          0,
          0,
          0,
          0,
          0,
          164.9514,
          636.7104,
          29869.7634,
          29735.451399999998,
          36238.7756,
          32734.366899999997,
          22408.687400000003,
          2043.5100999999997,
          2967.1687999999995
         ]
        },
        {
         "mode": "lines",
         "name": "Lebanon",
         "stackgroup": "one",
         "type": "scatter",
         "x": [
          1996,
          1997,
          1998,
          1999,
          2000,
          2001,
          2002,
          2003,
          2004,
          2005,
          2006,
          2007,
          2008,
          2009,
          2010,
          2011,
          2012,
          2013,
          2014,
          2015,
          2016,
          2017,
          2018,
          2019,
          2020,
          2021
         ],
         "y": [
          0,
          0,
          338.31907164,
          1784.7825287,
          2004.61981,
          121.1881,
          87.77416,
          133.45581,
          177.18539,
          84.66927043,
          -7869.8897841,
          135.8504796,
          212.1489572,
          0,
          102.26150000000001,
          1250.243,
          -460.91850000000005,
          74.0649,
          210.5127,
          60.040099999999995,
          523.129,
          2402.7376,
          1358.1785,
          2211.5312999999996,
          4641.4003999999995,
          930.8565000000001
         ]
        },
        {
         "mode": "lines",
         "name": "Libya",
         "stackgroup": "one",
         "type": "scatter",
         "x": [
          1996,
          1997,
          1998,
          1999,
          2000,
          2001,
          2002,
          2003,
          2004,
          2005,
          2006,
          2007,
          2008,
          2009,
          2010,
          2011,
          2012,
          2013,
          2014,
          2015,
          2016,
          2017,
          2018,
          2019,
          2020,
          2021
         ],
         "y": [
          0,
          0,
          0,
          0,
          1814.4063318,
          789.85279855,
          0,
          0,
          0,
          33.019919548,
          21.636042143,
          0,
          0,
          0,
          0,
          0,
          0,
          0,
          0,
          0,
          0,
          90.81200000000001,
          0,
          0,
          0,
          9.4633
         ]
        },
        {
         "mode": "lines",
         "name": "Liechtenstein",
         "stackgroup": "one",
         "type": "scatter",
         "x": [
          1996,
          1997,
          1998,
          1999,
          2000,
          2001,
          2002,
          2003,
          2004,
          2005,
          2006,
          2007,
          2008,
          2009,
          2010,
          2011,
          2012,
          2013,
          2014,
          2015,
          2016,
          2017,
          2018,
          2019,
          2020,
          2021
         ],
         "y": [
          0,
          0,
          0,
          0,
          0,
          0,
          0,
          0,
          0,
          0,
          0,
          2445.7171985,
          5015.9575061,
          1912.9143,
          35044.6192,
          -8466.2845,
          1678.7301,
          -7070.1006379785995,
          -1199.4311,
          1959.1445,
          5611.7032,
          2861.3175,
          1946.7208999999998,
          493.14869999999996,
          976.6337,
          -338.3963
         ]
        },
        {
         "mode": "lines",
         "name": "Mauritius",
         "stackgroup": "one",
         "type": "scatter",
         "x": [
          1996,
          1997,
          1998,
          1999,
          2000,
          2001,
          2002,
          2003,
          2004,
          2005,
          2006,
          2007,
          2008,
          2009,
          2010,
          2011,
          2012,
          2013,
          2014,
          2015,
          2016,
          2017,
          2018,
          2019,
          2020,
          2021
         ],
         "y": [
          0,
          0,
          0,
          0,
          0,
          0,
          0,
          0,
          0,
          0,
          0,
          0,
          0,
          0,
          -98.51110000000001,
          13701.431900000001,
          5029.435900000001,
          5003.4367,
          813.4784,
          3250.2733999999996,
          6162.8583,
          -7804.530599999999,
          1653.5759000000003,
          4032.2229,
          -488.00300000000004,
          -217.6058
         ]
        },
        {
         "mode": "lines",
         "name": "Norway",
         "stackgroup": "one",
         "type": "scatter",
         "x": [
          1996,
          1997,
          1998,
          1999,
          2000,
          2001,
          2002,
          2003,
          2004,
          2005,
          2006,
          2007,
          2008,
          2009,
          2010,
          2011,
          2012,
          2013,
          2014,
          2015,
          2016,
          2017,
          2018,
          2019,
          2020,
          2021
         ],
         "y": [
          0,
          10955.165981,
          11065.616163,
          0,
          0,
          0,
          2194.3439906000003,
          10462.969168,
          36697.41837,
          22821.608714,
          75925.52273400001,
          23063.474448,
          1965.5536267986026,
          1131.363004838,
          2022.5783999999996,
          3048.9488,
          4120.1822999999995,
          3239.7565210483003,
          449.0673084716,
          343.3759646982,
          -2056.1713,
          730.6708,
          5687.340299999999,
          -120.2650999999999,
          1144.6262000000002,
          1169.6045
         ]
        },
        {
         "mode": "lines",
         "name": "Marshall Islands",
         "stackgroup": "one",
         "type": "scatter",
         "x": [
          1996,
          1997,
          1998,
          1999,
          2000,
          2001,
          2002,
          2003,
          2004,
          2005,
          2006,
          2007,
          2008,
          2009,
          2010,
          2011,
          2012,
          2013,
          2014,
          2015,
          2016,
          2017,
          2018,
          2019,
          2020,
          2021
         ],
         "y": [
          0,
          0,
          0,
          0,
          0,
          0,
          0,
          0,
          0,
          0,
          3197.7,
          1309.2551195,
          1742.1003495,
          6484.6851,
          10338.807168199999,
          9055.0978,
          8384.5049282,
          -589.3070999999991,
          3465.7834,
          6939.987799999999,
          4182.9339,
          2861.7898999999998,
          1862.9507000000012,
          34010.9644,
          6824.2258,
          21316.3262
         ]
        },
        {
         "mode": "lines",
         "name": "Panama",
         "stackgroup": "one",
         "type": "scatter",
         "x": [
          1996,
          1997,
          1998,
          1999,
          2000,
          2001,
          2002,
          2003,
          2004,
          2005,
          2006,
          2007,
          2008,
          2009,
          2010,
          2011,
          2012,
          2013,
          2014,
          2015,
          2016,
          2017,
          2018,
          2019,
          2020,
          2021
         ],
         "y": [
          0,
          0,
          0,
          0,
          0,
          0,
          0,
          0,
          0,
          0,
          4493.76349092,
          5649.8907892,
          -2470.040285,
          74742.1949,
          -5024.983,
          2181.5110000000004,
          10685.0193,
          25750.033,
          70663.5357,
          9524.015000000001,
          77663.18170000002,
          27175.4701,
          76985.8866,
          76830.09879999999,
          -210092.41389999999,
          -7667.651099999997
         ]
        },
        {
         "mode": "lines",
         "name": "Philippines",
         "stackgroup": "one",
         "type": "scatter",
         "x": [
          1996,
          1997,
          1998,
          1999,
          2000,
          2001,
          2002,
          2003,
          2004,
          2005,
          2006,
          2007,
          2008,
          2009,
          2010,
          2011,
          2012,
          2013,
          2014,
          2015,
          2016,
          2017,
          2018,
          2019,
          2020,
          2021
         ],
         "y": [
          0,
          0,
          0,
          0,
          0,
          0,
          0,
          0,
          0,
          0,
          0,
          0,
          0,
          0,
          1620.2767000000001,
          0,
          0,
          0,
          0,
          0,
          14.456499999999998,
          -0.3630000000000002,
          0,
          46.0643,
          1.9971999999999999,
          110.7399
         ]
        },
        {
         "mode": "lines",
         "name": "Qatar",
         "stackgroup": "one",
         "type": "scatter",
         "x": [
          1996,
          1997,
          1998,
          1999,
          2000,
          2001,
          2002,
          2003,
          2004,
          2005,
          2006,
          2007,
          2008,
          2009,
          2010,
          2011,
          2012,
          2013,
          2014,
          2015,
          2016,
          2017,
          2018,
          2019,
          2020,
          2021
         ],
         "y": [
          0,
          0,
          0,
          0,
          0,
          0,
          0,
          0,
          0,
          0,
          0,
          0,
          0,
          0,
          0,
          0,
          0,
          4221.4892,
          -16.3704,
          2549.096,
          4164.3936,
          8661.428600000001,
          7596.3351,
          7450.3099,
          1922.4850000000001,
          3161.708
         ]
        },
        {
         "mode": "lines",
         "name": "Saint Kitts and Nevis",
         "stackgroup": "one",
         "type": "scatter",
         "x": [
          1996,
          1997,
          1998,
          1999,
          2000,
          2001,
          2002,
          2003,
          2004,
          2005,
          2006,
          2007,
          2008,
          2009,
          2010,
          2011,
          2012,
          2013,
          2014,
          2015,
          2016,
          2017,
          2018,
          2019,
          2020,
          2021
         ],
         "y": [
          0,
          0,
          0,
          0,
          0,
          0,
          0,
          0,
          0,
          0,
          509.66386328,
          0,
          0,
          0,
          0,
          -107.07430000000001,
          -5435.3768,
          -4553.2185,
          385.0776,
          7811.7384999999995,
          -5940.1331,
          1090.1009,
          505.2137000000003,
          -1684.1855000000005,
          -3991.1721,
          3087.6737000000003
         ]
        },
        {
         "mode": "lines",
         "name": "Saudi Arabia",
         "stackgroup": "one",
         "type": "scatter",
         "x": [
          1996,
          1997,
          1998,
          1999,
          2000,
          2001,
          2002,
          2003,
          2004,
          2005,
          2006,
          2007,
          2008,
          2009,
          2010,
          2011,
          2012,
          2013,
          2014,
          2015,
          2016,
          2017,
          2018,
          2019,
          2020,
          2021
         ],
         "y": [
          0,
          2191.0331962,
          2213.1232327,
          44.324567218,
          41.003055892,
          72.319416688,
          149.00493368,
          0,
          0,
          150.24663007,
          263.8002969,
          0,
          0,
          -2.1347,
          0,
          2037.6595,
          39475.447199999995,
          8698.1376,
          27502.376700000004,
          -32930.568,
          17399.6307,
          -4456.338100000001,
          3059.0927999999994,
          -214.8637000000001,
          -219.89110000000016,
          -9892.1331
         ]
        },
        {
         "mode": "lines",
         "name": "Seychelles",
         "stackgroup": "one",
         "type": "scatter",
         "x": [
          1996,
          1997,
          1998,
          1999,
          2000,
          2001,
          2002,
          2003,
          2004,
          2005,
          2006,
          2007,
          2008,
          2009,
          2010,
          2011,
          2012,
          2013,
          2014,
          2015,
          2016,
          2017,
          2018,
          2019,
          2020,
          2021
         ],
         "y": [
          0,
          0,
          0,
          0,
          0,
          0,
          0,
          0,
          0,
          154.31288999999998,
          0,
          4306.1803521,
          4350.5162363,
          1481.5759,
          5467.5179,
          8637.259500000002,
          8761.467999999999,
          1249.9346999999998,
          -1580.3942999999997,
          6473.2711,
          -4513.4962000000005,
          5165.3879,
          3395.7397,
          3056.0476,
          -907.5874000000003,
          19827.779
         ]
        },
        {
         "mode": "lines",
         "name": "Switzerland",
         "stackgroup": "one",
         "type": "scatter",
         "x": [
          1996,
          1997,
          1998,
          1999,
          2000,
          2001,
          2002,
          2003,
          2004,
          2005,
          2006,
          2007,
          2008,
          2009,
          2010,
          2011,
          2012,
          2013,
          2014,
          2015,
          2016,
          2017,
          2018,
          2019,
          2020,
          2021
         ],
         "y": [
          0,
          0,
          0,
          0,
          599.01787398,
          0,
          0,
          24.81234,
          42.63457,
          348.38513502,
          342.19454701,
          9961.991406,
          89958.560934,
          -11984.0033,
          21885.0655425,
          29534.490496000006,
          22027.450397200002,
          24272.350874996304,
          8326.995679213602,
          741.4087056563001,
          7112.013800000001,
          35654.277200000004,
          49370.56940000001,
          -3753.0678000000044,
          -8277.007200000002,
          6481.784500000002
         ]
        },
        {
         "mode": "lines",
         "name": "Syrian",
         "stackgroup": "one",
         "type": "scatter",
         "x": [
          1996,
          1997,
          1998,
          1999,
          2000,
          2001,
          2002,
          2003,
          2004,
          2005,
          2006,
          2007,
          2008,
          2009,
          2010,
          2011,
          2012,
          2013,
          2014,
          2015,
          2016,
          2017,
          2018,
          2019,
          2020,
          2021
         ],
         "y": [
          0,
          0,
          0,
          0,
          0,
          0,
          0,
          0,
          0,
          0,
          0,
          3.8517365735,
          9.17479,
          12.7655,
          63.3446,
          103.4162,
          -10.284799999999997,
          26.130100000000002,
          116.8973,
          442.0787,
          386.6735,
          983.1902999999998,
          193.55980000000005,
          362.1273,
          -71.40910000000001,
          2.744500000000004
         ]
        },
        {
         "mode": "lines",
         "name": "United Arab Emirates",
         "stackgroup": "one",
         "type": "scatter",
         "x": [
          1996,
          1997,
          1998,
          1999,
          2000,
          2001,
          2002,
          2003,
          2004,
          2005,
          2006,
          2007,
          2008,
          2009,
          2010,
          2011,
          2012,
          2013,
          2014,
          2015,
          2016,
          2017,
          2018,
          2019,
          2020,
          2021
         ],
         "y": [
          0,
          0,
          0,
          0,
          0,
          0,
          0,
          291.1428477,
          0,
          280.4618106,
          422.64971738,
          120186.57932,
          306576.32215,
          162756.4619,
          55530.659799999994,
          48612.1119142857,
          25470.100485714283,
          68948.38115830331,
          25872.2523880729,
          36556.13580339651,
          55294.3457,
          147084.0538,
          33912.8728,
          26268.382,
          -12654.671900000005,
          34798.97320000001
         ]
        },
        {
         "mode": "lines",
         "name": "Turkey",
         "stackgroup": "one",
         "type": "scatter",
         "x": [
          1996,
          1997,
          1998,
          1999,
          2000,
          2001,
          2002,
          2003,
          2004,
          2005,
          2006,
          2007,
          2008,
          2009,
          2010,
          2011,
          2012,
          2013,
          2014,
          2015,
          2016,
          2017,
          2018,
          2019,
          2020,
          2021
         ],
         "y": [
          0,
          14950.579456,
          15101.31147,
          9831.1278386,
          28601.024958,
          8456.0823017,
          8246.3773396,
          16673.840354,
          33325.95005,
          21519.854918,
          126790.27419,
          79510.19251200001,
          167403.12092501126,
          97984.235842884,
          91786.5145,
          77708.80345,
          107222.39138597605,
          51433.753532009,
          72305.96054774571,
          74893.75820228092,
          220272.23599999992,
          256215.3004,
          49185.742700000024,
          174174.72179999988,
          79041.69269999999,
          64730.56399999998
         ]
        },
        {
         "mode": "lines",
         "name": "Egypt",
         "stackgroup": "one",
         "type": "scatter",
         "x": [
          1996,
          1997,
          1998,
          1999,
          2000,
          2001,
          2002,
          2003,
          2004,
          2005,
          2006,
          2007,
          2008,
          2009,
          2010,
          2011,
          2012,
          2013,
          2014,
          2015,
          2016,
          2017,
          2018,
          2019,
          2020,
          2021
         ],
         "y": [
          0,
          0,
          0,
          0,
          0,
          0,
          0,
          0,
          0,
          0,
          0,
          0,
          0,
          55750.58,
          18000.0001,
          11787.5,
          0,
          1488.7121267051002,
          373.4770364788,
          -1101.2736302157002,
          -292.8497,
          -281.0827,
          661.5227,
          558.9499999999999,
          2566.8158999999996,
          2740.4529
         ]
        },
        {
         "mode": "lines",
         "name": "United Kingdom",
         "stackgroup": "one",
         "type": "scatter",
         "x": [
          1996,
          1997,
          1998,
          1999,
          2000,
          2001,
          2002,
          2003,
          2004,
          2005,
          2006,
          2007,
          2008,
          2009,
          2010,
          2011,
          2012,
          2013,
          2014,
          2015,
          2016,
          2017,
          2018,
          2019,
          2020,
          2021
         ],
         "y": [
          0,
          24985.511495,
          26471.589257,
          5036.1767139,
          4823.9757035,
          8508.6879934,
          14719.529864,
          34842.840181,
          85099.450378,
          131546.39755,
          174535.07246,
          132178.02596000003,
          148179.7980471986,
          72439.294404838,
          62336.275460000004,
          57216.50161000001,
          95536.664823,
          55171.31271461829,
          108850.79645079242,
          399346.8413453128,
          87849.54199999999,
          249032.36200000002,
          182923.83529999998,
          236860.4844,
          302984.8908,
          596616.9694
         ]
        },
        {
         "mode": "lines",
         "name": "United States",
         "stackgroup": "one",
         "type": "scatter",
         "x": [
          1996,
          1997,
          1998,
          1999,
          2000,
          2001,
          2002,
          2003,
          2004,
          2005,
          2006,
          2007,
          2008,
          2009,
          2010,
          2011,
          2012,
          2013,
          2014,
          2015,
          2016,
          2017,
          2018,
          2019,
          2020,
          2021
         ],
         "y": [
          0,
          96651.887424,
          104427.22618,
          59151.289331,
          38717.651556,
          23281.158381,
          81609.82602800001,
          71603.885369,
          80753.732613,
          15088.925954,
          100833.32908,
          68439.86156199999,
          167920.66786,
          -10025.9847,
          141210.37783100002,
          35291.75462000001,
          20253.99910000001,
          53885.22406068121,
          184442.7553040261,
          18898.4237058562,
          59817.104400000026,
          79115.3347,
          104964.06220000001,
          115592.2585,
          98440.9332,
          6150.9767999999785
         ]
        },
        {
         "mode": "lines",
         "name": "Unknown",
         "stackgroup": "one",
         "type": "scatter",
         "x": [
          1996,
          1997,
          1998,
          1999,
          2000,
          2001,
          2002,
          2003,
          2004,
          2005,
          2006,
          2007,
          2008,
          2009,
          2010,
          2011,
          2012,
          2013,
          2014,
          2015,
          2016,
          2017,
          2018,
          2019,
          2020,
          2021
         ],
         "y": [
          0,
          0,
          0,
          0,
          0,
          0,
          627.86159,
          853.61444,
          268.31440000000003,
          328.45036,
          -312.16201,
          0,
          0,
          11066.7825,
          0,
          0,
          0,
          0,
          0,
          6743.0346999702,
          -4702.3455,
          0,
          0,
          0,
          0,
          0
         ]
        },
        {
         "mode": "lines",
         "name": "International Organizations",
         "stackgroup": "one",
         "type": "scatter",
         "x": [
          1996,
          1997,
          1998,
          1999,
          2000,
          2001,
          2002,
          2003,
          2004,
          2005,
          2006,
          2007,
          2008,
          2009,
          2010,
          2011,
          2012,
          2013,
          2014,
          2015,
          2016,
          2017,
          2018,
          2019,
          2020,
          2021
         ],
         "y": [
          0,
          0,
          0,
          0,
          0,
          0,
          448.5318,
          1235.9373600000001,
          776.70683,
          3279.4706199999996,
          14619.29967914029,
          13066.1055431365,
          23650.953120131377,
          30739.225200000004,
          45186.041699999994,
          94896.5044,
          63454.7265,
          54680.83631688521,
          -105980.37915729971,
          39779.52809143661,
          43125.7175,
          2516.0898999999995,
          1627.4711000000007,
          6883.7492999999995,
          1458.0450999999973,
          3690.0591000000013
         ]
        }
       ],
       "layout": {
        "template": {
         "data": {
          "bar": [
           {
            "error_x": {
             "color": "#2a3f5f"
            },
            "error_y": {
             "color": "#2a3f5f"
            },
            "marker": {
             "line": {
              "color": "#E5ECF6",
              "width": 0.5
             },
             "pattern": {
              "fillmode": "overlay",
              "size": 10,
              "solidity": 0.2
             }
            },
            "type": "bar"
           }
          ],
          "barpolar": [
           {
            "marker": {
             "line": {
              "color": "#E5ECF6",
              "width": 0.5
             },
             "pattern": {
              "fillmode": "overlay",
              "size": 10,
              "solidity": 0.2
             }
            },
            "type": "barpolar"
           }
          ],
          "carpet": [
           {
            "aaxis": {
             "endlinecolor": "#2a3f5f",
             "gridcolor": "white",
             "linecolor": "white",
             "minorgridcolor": "white",
             "startlinecolor": "#2a3f5f"
            },
            "baxis": {
             "endlinecolor": "#2a3f5f",
             "gridcolor": "white",
             "linecolor": "white",
             "minorgridcolor": "white",
             "startlinecolor": "#2a3f5f"
            },
            "type": "carpet"
           }
          ],
          "choropleth": [
           {
            "colorbar": {
             "outlinewidth": 0,
             "ticks": ""
            },
            "type": "choropleth"
           }
          ],
          "contour": [
           {
            "colorbar": {
             "outlinewidth": 0,
             "ticks": ""
            },
            "colorscale": [
             [
              0,
              "#0d0887"
             ],
             [
              0.1111111111111111,
              "#46039f"
             ],
             [
              0.2222222222222222,
              "#7201a8"
             ],
             [
              0.3333333333333333,
              "#9c179e"
             ],
             [
              0.4444444444444444,
              "#bd3786"
             ],
             [
              0.5555555555555556,
              "#d8576b"
             ],
             [
              0.6666666666666666,
              "#ed7953"
             ],
             [
              0.7777777777777778,
              "#fb9f3a"
             ],
             [
              0.8888888888888888,
              "#fdca26"
             ],
             [
              1,
              "#f0f921"
             ]
            ],
            "type": "contour"
           }
          ],
          "contourcarpet": [
           {
            "colorbar": {
             "outlinewidth": 0,
             "ticks": ""
            },
            "type": "contourcarpet"
           }
          ],
          "heatmap": [
           {
            "colorbar": {
             "outlinewidth": 0,
             "ticks": ""
            },
            "colorscale": [
             [
              0,
              "#0d0887"
             ],
             [
              0.1111111111111111,
              "#46039f"
             ],
             [
              0.2222222222222222,
              "#7201a8"
             ],
             [
              0.3333333333333333,
              "#9c179e"
             ],
             [
              0.4444444444444444,
              "#bd3786"
             ],
             [
              0.5555555555555556,
              "#d8576b"
             ],
             [
              0.6666666666666666,
              "#ed7953"
             ],
             [
              0.7777777777777778,
              "#fb9f3a"
             ],
             [
              0.8888888888888888,
              "#fdca26"
             ],
             [
              1,
              "#f0f921"
             ]
            ],
            "type": "heatmap"
           }
          ],
          "heatmapgl": [
           {
            "colorbar": {
             "outlinewidth": 0,
             "ticks": ""
            },
            "colorscale": [
             [
              0,
              "#0d0887"
             ],
             [
              0.1111111111111111,
              "#46039f"
             ],
             [
              0.2222222222222222,
              "#7201a8"
             ],
             [
              0.3333333333333333,
              "#9c179e"
             ],
             [
              0.4444444444444444,
              "#bd3786"
             ],
             [
              0.5555555555555556,
              "#d8576b"
             ],
             [
              0.6666666666666666,
              "#ed7953"
             ],
             [
              0.7777777777777778,
              "#fb9f3a"
             ],
             [
              0.8888888888888888,
              "#fdca26"
             ],
             [
              1,
              "#f0f921"
             ]
            ],
            "type": "heatmapgl"
           }
          ],
          "histogram": [
           {
            "marker": {
             "pattern": {
              "fillmode": "overlay",
              "size": 10,
              "solidity": 0.2
             }
            },
            "type": "histogram"
           }
          ],
          "histogram2d": [
           {
            "colorbar": {
             "outlinewidth": 0,
             "ticks": ""
            },
            "colorscale": [
             [
              0,
              "#0d0887"
             ],
             [
              0.1111111111111111,
              "#46039f"
             ],
             [
              0.2222222222222222,
              "#7201a8"
             ],
             [
              0.3333333333333333,
              "#9c179e"
             ],
             [
              0.4444444444444444,
              "#bd3786"
             ],
             [
              0.5555555555555556,
              "#d8576b"
             ],
             [
              0.6666666666666666,
              "#ed7953"
             ],
             [
              0.7777777777777778,
              "#fb9f3a"
             ],
             [
              0.8888888888888888,
              "#fdca26"
             ],
             [
              1,
              "#f0f921"
             ]
            ],
            "type": "histogram2d"
           }
          ],
          "histogram2dcontour": [
           {
            "colorbar": {
             "outlinewidth": 0,
             "ticks": ""
            },
            "colorscale": [
             [
              0,
              "#0d0887"
             ],
             [
              0.1111111111111111,
              "#46039f"
             ],
             [
              0.2222222222222222,
              "#7201a8"
             ],
             [
              0.3333333333333333,
              "#9c179e"
             ],
             [
              0.4444444444444444,
              "#bd3786"
             ],
             [
              0.5555555555555556,
              "#d8576b"
             ],
             [
              0.6666666666666666,
              "#ed7953"
             ],
             [
              0.7777777777777778,
              "#fb9f3a"
             ],
             [
              0.8888888888888888,
              "#fdca26"
             ],
             [
              1,
              "#f0f921"
             ]
            ],
            "type": "histogram2dcontour"
           }
          ],
          "mesh3d": [
           {
            "colorbar": {
             "outlinewidth": 0,
             "ticks": ""
            },
            "type": "mesh3d"
           }
          ],
          "parcoords": [
           {
            "line": {
             "colorbar": {
              "outlinewidth": 0,
              "ticks": ""
             }
            },
            "type": "parcoords"
           }
          ],
          "pie": [
           {
            "automargin": true,
            "type": "pie"
           }
          ],
          "scatter": [
           {
            "marker": {
             "colorbar": {
              "outlinewidth": 0,
              "ticks": ""
             }
            },
            "type": "scatter"
           }
          ],
          "scatter3d": [
           {
            "line": {
             "colorbar": {
              "outlinewidth": 0,
              "ticks": ""
             }
            },
            "marker": {
             "colorbar": {
              "outlinewidth": 0,
              "ticks": ""
             }
            },
            "type": "scatter3d"
           }
          ],
          "scattercarpet": [
           {
            "marker": {
             "colorbar": {
              "outlinewidth": 0,
              "ticks": ""
             }
            },
            "type": "scattercarpet"
           }
          ],
          "scattergeo": [
           {
            "marker": {
             "colorbar": {
              "outlinewidth": 0,
              "ticks": ""
             }
            },
            "type": "scattergeo"
           }
          ],
          "scattergl": [
           {
            "marker": {
             "colorbar": {
              "outlinewidth": 0,
              "ticks": ""
             }
            },
            "type": "scattergl"
           }
          ],
          "scattermapbox": [
           {
            "marker": {
             "colorbar": {
              "outlinewidth": 0,
              "ticks": ""
             }
            },
            "type": "scattermapbox"
           }
          ],
          "scatterpolar": [
           {
            "marker": {
             "colorbar": {
              "outlinewidth": 0,
              "ticks": ""
             }
            },
            "type": "scatterpolar"
           }
          ],
          "scatterpolargl": [
           {
            "marker": {
             "colorbar": {
              "outlinewidth": 0,
              "ticks": ""
             }
            },
            "type": "scatterpolargl"
           }
          ],
          "scatterternary": [
           {
            "marker": {
             "colorbar": {
              "outlinewidth": 0,
              "ticks": ""
             }
            },
            "type": "scatterternary"
           }
          ],
          "surface": [
           {
            "colorbar": {
             "outlinewidth": 0,
             "ticks": ""
            },
            "colorscale": [
             [
              0,
              "#0d0887"
             ],
             [
              0.1111111111111111,
              "#46039f"
             ],
             [
              0.2222222222222222,
              "#7201a8"
             ],
             [
              0.3333333333333333,
              "#9c179e"
             ],
             [
              0.4444444444444444,
              "#bd3786"
             ],
             [
              0.5555555555555556,
              "#d8576b"
             ],
             [
              0.6666666666666666,
              "#ed7953"
             ],
             [
              0.7777777777777778,
              "#fb9f3a"
             ],
             [
              0.8888888888888888,
              "#fdca26"
             ],
             [
              1,
              "#f0f921"
             ]
            ],
            "type": "surface"
           }
          ],
          "table": [
           {
            "cells": {
             "fill": {
              "color": "#EBF0F8"
             },
             "line": {
              "color": "white"
             }
            },
            "header": {
             "fill": {
              "color": "#C8D4E3"
             },
             "line": {
              "color": "white"
             }
            },
            "type": "table"
           }
          ]
         },
         "layout": {
          "annotationdefaults": {
           "arrowcolor": "#2a3f5f",
           "arrowhead": 0,
           "arrowwidth": 1
          },
          "autotypenumbers": "strict",
          "coloraxis": {
           "colorbar": {
            "outlinewidth": 0,
            "ticks": ""
           }
          },
          "colorscale": {
           "diverging": [
            [
             0,
             "#8e0152"
            ],
            [
             0.1,
             "#c51b7d"
            ],
            [
             0.2,
             "#de77ae"
            ],
            [
             0.3,
             "#f1b6da"
            ],
            [
             0.4,
             "#fde0ef"
            ],
            [
             0.5,
             "#f7f7f7"
            ],
            [
             0.6,
             "#e6f5d0"
            ],
            [
             0.7,
             "#b8e186"
            ],
            [
             0.8,
             "#7fbc41"
            ],
            [
             0.9,
             "#4d9221"
            ],
            [
             1,
             "#276419"
            ]
           ],
           "sequential": [
            [
             0,
             "#0d0887"
            ],
            [
             0.1111111111111111,
             "#46039f"
            ],
            [
             0.2222222222222222,
             "#7201a8"
            ],
            [
             0.3333333333333333,
             "#9c179e"
            ],
            [
             0.4444444444444444,
             "#bd3786"
            ],
            [
             0.5555555555555556,
             "#d8576b"
            ],
            [
             0.6666666666666666,
             "#ed7953"
            ],
            [
             0.7777777777777778,
             "#fb9f3a"
            ],
            [
             0.8888888888888888,
             "#fdca26"
            ],
            [
             1,
             "#f0f921"
            ]
           ],
           "sequentialminus": [
            [
             0,
             "#0d0887"
            ],
            [
             0.1111111111111111,
             "#46039f"
            ],
            [
             0.2222222222222222,
             "#7201a8"
            ],
            [
             0.3333333333333333,
             "#9c179e"
            ],
            [
             0.4444444444444444,
             "#bd3786"
            ],
            [
             0.5555555555555556,
             "#d8576b"
            ],
            [
             0.6666666666666666,
             "#ed7953"
            ],
            [
             0.7777777777777778,
             "#fb9f3a"
            ],
            [
             0.8888888888888888,
             "#fdca26"
            ],
            [
             1,
             "#f0f921"
            ]
           ]
          },
          "colorway": [
           "#636efa",
           "#EF553B",
           "#00cc96",
           "#ab63fa",
           "#FFA15A",
           "#19d3f3",
           "#FF6692",
           "#B6E880",
           "#FF97FF",
           "#FECB52"
          ],
          "font": {
           "color": "#2a3f5f"
          },
          "geo": {
           "bgcolor": "white",
           "lakecolor": "white",
           "landcolor": "#E5ECF6",
           "showlakes": true,
           "showland": true,
           "subunitcolor": "white"
          },
          "hoverlabel": {
           "align": "left"
          },
          "hovermode": "closest",
          "mapbox": {
           "style": "light"
          },
          "paper_bgcolor": "white",
          "plot_bgcolor": "#E5ECF6",
          "polar": {
           "angularaxis": {
            "gridcolor": "white",
            "linecolor": "white",
            "ticks": ""
           },
           "bgcolor": "#E5ECF6",
           "radialaxis": {
            "gridcolor": "white",
            "linecolor": "white",
            "ticks": ""
           }
          },
          "scene": {
           "xaxis": {
            "backgroundcolor": "#E5ECF6",
            "gridcolor": "white",
            "gridwidth": 2,
            "linecolor": "white",
            "showbackground": true,
            "ticks": "",
            "zerolinecolor": "white"
           },
           "yaxis": {
            "backgroundcolor": "#E5ECF6",
            "gridcolor": "white",
            "gridwidth": 2,
            "linecolor": "white",
            "showbackground": true,
            "ticks": "",
            "zerolinecolor": "white"
           },
           "zaxis": {
            "backgroundcolor": "#E5ECF6",
            "gridcolor": "white",
            "gridwidth": 2,
            "linecolor": "white",
            "showbackground": true,
            "ticks": "",
            "zerolinecolor": "white"
           }
          },
          "shapedefaults": {
           "line": {
            "color": "#2a3f5f"
           }
          },
          "ternary": {
           "aaxis": {
            "gridcolor": "white",
            "linecolor": "white",
            "ticks": ""
           },
           "baxis": {
            "gridcolor": "white",
            "linecolor": "white",
            "ticks": ""
           },
           "bgcolor": "#E5ECF6",
           "caxis": {
            "gridcolor": "white",
            "linecolor": "white",
            "ticks": ""
           }
          },
          "title": {
           "x": 0.05
          },
          "xaxis": {
           "automargin": true,
           "gridcolor": "white",
           "linecolor": "white",
           "ticks": "",
           "title": {
            "standoff": 15
           },
           "zerolinecolor": "white",
           "zerolinewidth": 2
          },
          "yaxis": {
           "automargin": true,
           "gridcolor": "white",
           "linecolor": "white",
           "ticks": "",
           "title": {
            "standoff": 15
           },
           "zerolinecolor": "white",
           "zerolinewidth": 2
          }
         }
        },
        "title": {
         "text": "FDI by Country (blue EU, red CIS)"
        },
        "xaxis": {
         "title": {
          "text": "Year"
         }
        },
        "yaxis": {
         "title": {
          "text": "in thousand  US-$"
         }
        }
       }
      }
     },
     "metadata": {},
     "output_type": "display_data"
    }
   ],
   "source": [
    "fig2 = go.Figure()\n",
    "colorlist1 = list(range(28))\n",
    "for CountryNo, CountryName in enumerate(fig2list):\n",
    "    if CountryNo < 28: #EU Countries\n",
    "        fig2.add_trace(go.Scatter(\n",
    "            x = df_FDICountry2['index'], \n",
    "            y = df_FDICountry2[CountryName],\n",
    "            name = CountryName,\n",
    "            mode = 'lines',\n",
    "            #marker_color='blue',\n",
    "            #marker_color='Denim Blue',\n",
    "            #line=dict(width=0.5, color='#004494'),\n",
    "            line=dict(width=0.5, color=\"#{}{}{}\".format('00', '44', str(int(CountryNo/8)+90))),\n",
    "            #line=dict(width=0.5,cmin=0,cmax=27, color=colorlist1, colorscale=\"Viridis\"),\n",
    "            stackgroup= 'one',\n",
    "            ))\n",
    "\n",
    "    elif CountryNo < 38:  #CIS Countries\n",
    "        fig2.add_trace(go.Scatter(\n",
    "            x = df_FDICountry2['index'], \n",
    "            y = df_FDICountry2[CountryName],\n",
    "            name = CountryName,\n",
    "            mode = 'lines',\n",
    "            stackgroup= 'one',\n",
    "            #marker_color='LightCoral'\n",
    "            #line=dict(width=0.5, color='#CD0000')\n",
    "            line=dict(width=0.5, color=\"#{}{}{}\".format(str(int(CountryNo/4)+90), '00','00')),\n",
    "            ))\n",
    "    else:\n",
    "        fig2.add_trace(go.Scatter(\n",
    "            x = df_FDICountry2['index'], \n",
    "            y = df_FDICountry2[CountryName],\n",
    "            name = CountryName,\n",
    "            mode = 'lines',\n",
    "            stackgroup= 'one'\n",
    "            ))\n",
    "fig2.update_layout(title = \"FDI by Country (blue EU, red CIS)\", xaxis_title = \"Year\", yaxis_title= \"in thousand  US-$\")\n",
    "fig2.show()"
   ]
  },
  {
   "cell_type": "code",
   "execution_count": 24,
   "id": "e0b26f6f",
   "metadata": {},
   "outputs": [
    {
     "data": {
      "application/vnd.plotly.v1+json": {
       "config": {
        "plotlyServerURL": "https://plot.ly"
       },
       "data": [
        {
         "domain": {
          "x": [
           0,
           1
          ],
          "y": [
           0,
           1
          ]
         },
         "hovertemplate": "Countries=%{label}<br>2019=%{value}<extra></extra>",
         "labels": [
          "EU countries",
          "CIS countries",
          "Other countries",
          "Other countries"
         ],
         "legendgroup": "",
         "name": "",
         "showlegend": true,
         "textinfo": "percent+label",
         "textposition": "inside",
         "type": "pie",
         "values": [
          426918.62600000005,
          144973.60090000002,
          757034.6676999999,
          14903.7709
         ]
        }
       ],
       "layout": {
        "height": 750,
        "legend": {
         "tracegroupgap": 0
        },
        "template": {
         "data": {
          "bar": [
           {
            "error_x": {
             "color": "#2a3f5f"
            },
            "error_y": {
             "color": "#2a3f5f"
            },
            "marker": {
             "line": {
              "color": "#E5ECF6",
              "width": 0.5
             },
             "pattern": {
              "fillmode": "overlay",
              "size": 10,
              "solidity": 0.2
             }
            },
            "type": "bar"
           }
          ],
          "barpolar": [
           {
            "marker": {
             "line": {
              "color": "#E5ECF6",
              "width": 0.5
             },
             "pattern": {
              "fillmode": "overlay",
              "size": 10,
              "solidity": 0.2
             }
            },
            "type": "barpolar"
           }
          ],
          "carpet": [
           {
            "aaxis": {
             "endlinecolor": "#2a3f5f",
             "gridcolor": "white",
             "linecolor": "white",
             "minorgridcolor": "white",
             "startlinecolor": "#2a3f5f"
            },
            "baxis": {
             "endlinecolor": "#2a3f5f",
             "gridcolor": "white",
             "linecolor": "white",
             "minorgridcolor": "white",
             "startlinecolor": "#2a3f5f"
            },
            "type": "carpet"
           }
          ],
          "choropleth": [
           {
            "colorbar": {
             "outlinewidth": 0,
             "ticks": ""
            },
            "type": "choropleth"
           }
          ],
          "contour": [
           {
            "colorbar": {
             "outlinewidth": 0,
             "ticks": ""
            },
            "colorscale": [
             [
              0,
              "#0d0887"
             ],
             [
              0.1111111111111111,
              "#46039f"
             ],
             [
              0.2222222222222222,
              "#7201a8"
             ],
             [
              0.3333333333333333,
              "#9c179e"
             ],
             [
              0.4444444444444444,
              "#bd3786"
             ],
             [
              0.5555555555555556,
              "#d8576b"
             ],
             [
              0.6666666666666666,
              "#ed7953"
             ],
             [
              0.7777777777777778,
              "#fb9f3a"
             ],
             [
              0.8888888888888888,
              "#fdca26"
             ],
             [
              1,
              "#f0f921"
             ]
            ],
            "type": "contour"
           }
          ],
          "contourcarpet": [
           {
            "colorbar": {
             "outlinewidth": 0,
             "ticks": ""
            },
            "type": "contourcarpet"
           }
          ],
          "heatmap": [
           {
            "colorbar": {
             "outlinewidth": 0,
             "ticks": ""
            },
            "colorscale": [
             [
              0,
              "#0d0887"
             ],
             [
              0.1111111111111111,
              "#46039f"
             ],
             [
              0.2222222222222222,
              "#7201a8"
             ],
             [
              0.3333333333333333,
              "#9c179e"
             ],
             [
              0.4444444444444444,
              "#bd3786"
             ],
             [
              0.5555555555555556,
              "#d8576b"
             ],
             [
              0.6666666666666666,
              "#ed7953"
             ],
             [
              0.7777777777777778,
              "#fb9f3a"
             ],
             [
              0.8888888888888888,
              "#fdca26"
             ],
             [
              1,
              "#f0f921"
             ]
            ],
            "type": "heatmap"
           }
          ],
          "heatmapgl": [
           {
            "colorbar": {
             "outlinewidth": 0,
             "ticks": ""
            },
            "colorscale": [
             [
              0,
              "#0d0887"
             ],
             [
              0.1111111111111111,
              "#46039f"
             ],
             [
              0.2222222222222222,
              "#7201a8"
             ],
             [
              0.3333333333333333,
              "#9c179e"
             ],
             [
              0.4444444444444444,
              "#bd3786"
             ],
             [
              0.5555555555555556,
              "#d8576b"
             ],
             [
              0.6666666666666666,
              "#ed7953"
             ],
             [
              0.7777777777777778,
              "#fb9f3a"
             ],
             [
              0.8888888888888888,
              "#fdca26"
             ],
             [
              1,
              "#f0f921"
             ]
            ],
            "type": "heatmapgl"
           }
          ],
          "histogram": [
           {
            "marker": {
             "pattern": {
              "fillmode": "overlay",
              "size": 10,
              "solidity": 0.2
             }
            },
            "type": "histogram"
           }
          ],
          "histogram2d": [
           {
            "colorbar": {
             "outlinewidth": 0,
             "ticks": ""
            },
            "colorscale": [
             [
              0,
              "#0d0887"
             ],
             [
              0.1111111111111111,
              "#46039f"
             ],
             [
              0.2222222222222222,
              "#7201a8"
             ],
             [
              0.3333333333333333,
              "#9c179e"
             ],
             [
              0.4444444444444444,
              "#bd3786"
             ],
             [
              0.5555555555555556,
              "#d8576b"
             ],
             [
              0.6666666666666666,
              "#ed7953"
             ],
             [
              0.7777777777777778,
              "#fb9f3a"
             ],
             [
              0.8888888888888888,
              "#fdca26"
             ],
             [
              1,
              "#f0f921"
             ]
            ],
            "type": "histogram2d"
           }
          ],
          "histogram2dcontour": [
           {
            "colorbar": {
             "outlinewidth": 0,
             "ticks": ""
            },
            "colorscale": [
             [
              0,
              "#0d0887"
             ],
             [
              0.1111111111111111,
              "#46039f"
             ],
             [
              0.2222222222222222,
              "#7201a8"
             ],
             [
              0.3333333333333333,
              "#9c179e"
             ],
             [
              0.4444444444444444,
              "#bd3786"
             ],
             [
              0.5555555555555556,
              "#d8576b"
             ],
             [
              0.6666666666666666,
              "#ed7953"
             ],
             [
              0.7777777777777778,
              "#fb9f3a"
             ],
             [
              0.8888888888888888,
              "#fdca26"
             ],
             [
              1,
              "#f0f921"
             ]
            ],
            "type": "histogram2dcontour"
           }
          ],
          "mesh3d": [
           {
            "colorbar": {
             "outlinewidth": 0,
             "ticks": ""
            },
            "type": "mesh3d"
           }
          ],
          "parcoords": [
           {
            "line": {
             "colorbar": {
              "outlinewidth": 0,
              "ticks": ""
             }
            },
            "type": "parcoords"
           }
          ],
          "pie": [
           {
            "automargin": true,
            "type": "pie"
           }
          ],
          "scatter": [
           {
            "marker": {
             "colorbar": {
              "outlinewidth": 0,
              "ticks": ""
             }
            },
            "type": "scatter"
           }
          ],
          "scatter3d": [
           {
            "line": {
             "colorbar": {
              "outlinewidth": 0,
              "ticks": ""
             }
            },
            "marker": {
             "colorbar": {
              "outlinewidth": 0,
              "ticks": ""
             }
            },
            "type": "scatter3d"
           }
          ],
          "scattercarpet": [
           {
            "marker": {
             "colorbar": {
              "outlinewidth": 0,
              "ticks": ""
             }
            },
            "type": "scattercarpet"
           }
          ],
          "scattergeo": [
           {
            "marker": {
             "colorbar": {
              "outlinewidth": 0,
              "ticks": ""
             }
            },
            "type": "scattergeo"
           }
          ],
          "scattergl": [
           {
            "marker": {
             "colorbar": {
              "outlinewidth": 0,
              "ticks": ""
             }
            },
            "type": "scattergl"
           }
          ],
          "scattermapbox": [
           {
            "marker": {
             "colorbar": {
              "outlinewidth": 0,
              "ticks": ""
             }
            },
            "type": "scattermapbox"
           }
          ],
          "scatterpolar": [
           {
            "marker": {
             "colorbar": {
              "outlinewidth": 0,
              "ticks": ""
             }
            },
            "type": "scatterpolar"
           }
          ],
          "scatterpolargl": [
           {
            "marker": {
             "colorbar": {
              "outlinewidth": 0,
              "ticks": ""
             }
            },
            "type": "scatterpolargl"
           }
          ],
          "scatterternary": [
           {
            "marker": {
             "colorbar": {
              "outlinewidth": 0,
              "ticks": ""
             }
            },
            "type": "scatterternary"
           }
          ],
          "surface": [
           {
            "colorbar": {
             "outlinewidth": 0,
             "ticks": ""
            },
            "colorscale": [
             [
              0,
              "#0d0887"
             ],
             [
              0.1111111111111111,
              "#46039f"
             ],
             [
              0.2222222222222222,
              "#7201a8"
             ],
             [
              0.3333333333333333,
              "#9c179e"
             ],
             [
              0.4444444444444444,
              "#bd3786"
             ],
             [
              0.5555555555555556,
              "#d8576b"
             ],
             [
              0.6666666666666666,
              "#ed7953"
             ],
             [
              0.7777777777777778,
              "#fb9f3a"
             ],
             [
              0.8888888888888888,
              "#fdca26"
             ],
             [
              1,
              "#f0f921"
             ]
            ],
            "type": "surface"
           }
          ],
          "table": [
           {
            "cells": {
             "fill": {
              "color": "#EBF0F8"
             },
             "line": {
              "color": "white"
             }
            },
            "header": {
             "fill": {
              "color": "#C8D4E3"
             },
             "line": {
              "color": "white"
             }
            },
            "type": "table"
           }
          ]
         },
         "layout": {
          "annotationdefaults": {
           "arrowcolor": "#2a3f5f",
           "arrowhead": 0,
           "arrowwidth": 1
          },
          "autotypenumbers": "strict",
          "coloraxis": {
           "colorbar": {
            "outlinewidth": 0,
            "ticks": ""
           }
          },
          "colorscale": {
           "diverging": [
            [
             0,
             "#8e0152"
            ],
            [
             0.1,
             "#c51b7d"
            ],
            [
             0.2,
             "#de77ae"
            ],
            [
             0.3,
             "#f1b6da"
            ],
            [
             0.4,
             "#fde0ef"
            ],
            [
             0.5,
             "#f7f7f7"
            ],
            [
             0.6,
             "#e6f5d0"
            ],
            [
             0.7,
             "#b8e186"
            ],
            [
             0.8,
             "#7fbc41"
            ],
            [
             0.9,
             "#4d9221"
            ],
            [
             1,
             "#276419"
            ]
           ],
           "sequential": [
            [
             0,
             "#0d0887"
            ],
            [
             0.1111111111111111,
             "#46039f"
            ],
            [
             0.2222222222222222,
             "#7201a8"
            ],
            [
             0.3333333333333333,
             "#9c179e"
            ],
            [
             0.4444444444444444,
             "#bd3786"
            ],
            [
             0.5555555555555556,
             "#d8576b"
            ],
            [
             0.6666666666666666,
             "#ed7953"
            ],
            [
             0.7777777777777778,
             "#fb9f3a"
            ],
            [
             0.8888888888888888,
             "#fdca26"
            ],
            [
             1,
             "#f0f921"
            ]
           ],
           "sequentialminus": [
            [
             0,
             "#0d0887"
            ],
            [
             0.1111111111111111,
             "#46039f"
            ],
            [
             0.2222222222222222,
             "#7201a8"
            ],
            [
             0.3333333333333333,
             "#9c179e"
            ],
            [
             0.4444444444444444,
             "#bd3786"
            ],
            [
             0.5555555555555556,
             "#d8576b"
            ],
            [
             0.6666666666666666,
             "#ed7953"
            ],
            [
             0.7777777777777778,
             "#fb9f3a"
            ],
            [
             0.8888888888888888,
             "#fdca26"
            ],
            [
             1,
             "#f0f921"
            ]
           ]
          },
          "colorway": [
           "#636efa",
           "#EF553B",
           "#00cc96",
           "#ab63fa",
           "#FFA15A",
           "#19d3f3",
           "#FF6692",
           "#B6E880",
           "#FF97FF",
           "#FECB52"
          ],
          "font": {
           "color": "#2a3f5f"
          },
          "geo": {
           "bgcolor": "white",
           "lakecolor": "white",
           "landcolor": "#E5ECF6",
           "showlakes": true,
           "showland": true,
           "subunitcolor": "white"
          },
          "hoverlabel": {
           "align": "left"
          },
          "hovermode": "closest",
          "mapbox": {
           "style": "light"
          },
          "paper_bgcolor": "white",
          "plot_bgcolor": "#E5ECF6",
          "polar": {
           "angularaxis": {
            "gridcolor": "white",
            "linecolor": "white",
            "ticks": ""
           },
           "bgcolor": "#E5ECF6",
           "radialaxis": {
            "gridcolor": "white",
            "linecolor": "white",
            "ticks": ""
           }
          },
          "scene": {
           "xaxis": {
            "backgroundcolor": "#E5ECF6",
            "gridcolor": "white",
            "gridwidth": 2,
            "linecolor": "white",
            "showbackground": true,
            "ticks": "",
            "zerolinecolor": "white"
           },
           "yaxis": {
            "backgroundcolor": "#E5ECF6",
            "gridcolor": "white",
            "gridwidth": 2,
            "linecolor": "white",
            "showbackground": true,
            "ticks": "",
            "zerolinecolor": "white"
           },
           "zaxis": {
            "backgroundcolor": "#E5ECF6",
            "gridcolor": "white",
            "gridwidth": 2,
            "linecolor": "white",
            "showbackground": true,
            "ticks": "",
            "zerolinecolor": "white"
           }
          },
          "shapedefaults": {
           "line": {
            "color": "#2a3f5f"
           }
          },
          "ternary": {
           "aaxis": {
            "gridcolor": "white",
            "linecolor": "white",
            "ticks": ""
           },
           "baxis": {
            "gridcolor": "white",
            "linecolor": "white",
            "ticks": ""
           },
           "bgcolor": "#E5ECF6",
           "caxis": {
            "gridcolor": "white",
            "linecolor": "white",
            "ticks": ""
           }
          },
          "title": {
           "x": 0.05
          },
          "xaxis": {
           "automargin": true,
           "gridcolor": "white",
           "linecolor": "white",
           "ticks": "",
           "title": {
            "standoff": 15
           },
           "zerolinecolor": "white",
           "zerolinewidth": 2
          },
          "yaxis": {
           "automargin": true,
           "gridcolor": "white",
           "linecolor": "white",
           "ticks": "",
           "title": {
            "standoff": 15
           },
           "zerolinecolor": "white",
           "zerolinewidth": 2
          }
         }
        },
        "title": {
         "text": "FDI by Country in 2019 (preliminary values)"
        }
       }
      }
     },
     "metadata": {},
     "output_type": "display_data"
    }
   ],
   "source": [
    "fig3 = px.pie(df_FDICountry.loc[[\"EU countries\",\"CIS countries\", \"Other countries\"]], values = 2019,names = \"Countries\", title = \"FDI by Country in 2019 (preliminary values)\", height = 750)\n",
    "fig3.update_traces(textposition='inside', textinfo='percent+label')\n",
    "fig3.show()"
   ]
  },
  {
   "cell_type": "code",
   "execution_count": 25,
   "id": "3876d125",
   "metadata": {},
   "outputs": [
    {
     "data": {
      "application/vnd.plotly.v1+json": {
       "config": {
        "plotlyServerURL": "https://plot.ly"
       },
       "data": [
        {
         "domain": {
          "x": [
           0,
           1
          ],
          "y": [
           0,
           1
          ]
         },
         "hovertemplate": "Countries=%{label}<br>2017=%{value}<extra></extra>",
         "labels": [
          "EU countries",
          "CIS countries",
          "Other countries",
          "Other countries"
         ],
         "legendgroup": "",
         "name": "",
         "showlegend": true,
         "textinfo": "percent+label",
         "textposition": "inside",
         "type": "pie",
         "values": [
          558531.1222,
          519342.8812000001,
          900383.2493000001,
          12658.967700000005
         ]
        }
       ],
       "layout": {
        "height": 750,
        "legend": {
         "tracegroupgap": 0
        },
        "template": {
         "data": {
          "bar": [
           {
            "error_x": {
             "color": "#2a3f5f"
            },
            "error_y": {
             "color": "#2a3f5f"
            },
            "marker": {
             "line": {
              "color": "#E5ECF6",
              "width": 0.5
             },
             "pattern": {
              "fillmode": "overlay",
              "size": 10,
              "solidity": 0.2
             }
            },
            "type": "bar"
           }
          ],
          "barpolar": [
           {
            "marker": {
             "line": {
              "color": "#E5ECF6",
              "width": 0.5
             },
             "pattern": {
              "fillmode": "overlay",
              "size": 10,
              "solidity": 0.2
             }
            },
            "type": "barpolar"
           }
          ],
          "carpet": [
           {
            "aaxis": {
             "endlinecolor": "#2a3f5f",
             "gridcolor": "white",
             "linecolor": "white",
             "minorgridcolor": "white",
             "startlinecolor": "#2a3f5f"
            },
            "baxis": {
             "endlinecolor": "#2a3f5f",
             "gridcolor": "white",
             "linecolor": "white",
             "minorgridcolor": "white",
             "startlinecolor": "#2a3f5f"
            },
            "type": "carpet"
           }
          ],
          "choropleth": [
           {
            "colorbar": {
             "outlinewidth": 0,
             "ticks": ""
            },
            "type": "choropleth"
           }
          ],
          "contour": [
           {
            "colorbar": {
             "outlinewidth": 0,
             "ticks": ""
            },
            "colorscale": [
             [
              0,
              "#0d0887"
             ],
             [
              0.1111111111111111,
              "#46039f"
             ],
             [
              0.2222222222222222,
              "#7201a8"
             ],
             [
              0.3333333333333333,
              "#9c179e"
             ],
             [
              0.4444444444444444,
              "#bd3786"
             ],
             [
              0.5555555555555556,
              "#d8576b"
             ],
             [
              0.6666666666666666,
              "#ed7953"
             ],
             [
              0.7777777777777778,
              "#fb9f3a"
             ],
             [
              0.8888888888888888,
              "#fdca26"
             ],
             [
              1,
              "#f0f921"
             ]
            ],
            "type": "contour"
           }
          ],
          "contourcarpet": [
           {
            "colorbar": {
             "outlinewidth": 0,
             "ticks": ""
            },
            "type": "contourcarpet"
           }
          ],
          "heatmap": [
           {
            "colorbar": {
             "outlinewidth": 0,
             "ticks": ""
            },
            "colorscale": [
             [
              0,
              "#0d0887"
             ],
             [
              0.1111111111111111,
              "#46039f"
             ],
             [
              0.2222222222222222,
              "#7201a8"
             ],
             [
              0.3333333333333333,
              "#9c179e"
             ],
             [
              0.4444444444444444,
              "#bd3786"
             ],
             [
              0.5555555555555556,
              "#d8576b"
             ],
             [
              0.6666666666666666,
              "#ed7953"
             ],
             [
              0.7777777777777778,
              "#fb9f3a"
             ],
             [
              0.8888888888888888,
              "#fdca26"
             ],
             [
              1,
              "#f0f921"
             ]
            ],
            "type": "heatmap"
           }
          ],
          "heatmapgl": [
           {
            "colorbar": {
             "outlinewidth": 0,
             "ticks": ""
            },
            "colorscale": [
             [
              0,
              "#0d0887"
             ],
             [
              0.1111111111111111,
              "#46039f"
             ],
             [
              0.2222222222222222,
              "#7201a8"
             ],
             [
              0.3333333333333333,
              "#9c179e"
             ],
             [
              0.4444444444444444,
              "#bd3786"
             ],
             [
              0.5555555555555556,
              "#d8576b"
             ],
             [
              0.6666666666666666,
              "#ed7953"
             ],
             [
              0.7777777777777778,
              "#fb9f3a"
             ],
             [
              0.8888888888888888,
              "#fdca26"
             ],
             [
              1,
              "#f0f921"
             ]
            ],
            "type": "heatmapgl"
           }
          ],
          "histogram": [
           {
            "marker": {
             "pattern": {
              "fillmode": "overlay",
              "size": 10,
              "solidity": 0.2
             }
            },
            "type": "histogram"
           }
          ],
          "histogram2d": [
           {
            "colorbar": {
             "outlinewidth": 0,
             "ticks": ""
            },
            "colorscale": [
             [
              0,
              "#0d0887"
             ],
             [
              0.1111111111111111,
              "#46039f"
             ],
             [
              0.2222222222222222,
              "#7201a8"
             ],
             [
              0.3333333333333333,
              "#9c179e"
             ],
             [
              0.4444444444444444,
              "#bd3786"
             ],
             [
              0.5555555555555556,
              "#d8576b"
             ],
             [
              0.6666666666666666,
              "#ed7953"
             ],
             [
              0.7777777777777778,
              "#fb9f3a"
             ],
             [
              0.8888888888888888,
              "#fdca26"
             ],
             [
              1,
              "#f0f921"
             ]
            ],
            "type": "histogram2d"
           }
          ],
          "histogram2dcontour": [
           {
            "colorbar": {
             "outlinewidth": 0,
             "ticks": ""
            },
            "colorscale": [
             [
              0,
              "#0d0887"
             ],
             [
              0.1111111111111111,
              "#46039f"
             ],
             [
              0.2222222222222222,
              "#7201a8"
             ],
             [
              0.3333333333333333,
              "#9c179e"
             ],
             [
              0.4444444444444444,
              "#bd3786"
             ],
             [
              0.5555555555555556,
              "#d8576b"
             ],
             [
              0.6666666666666666,
              "#ed7953"
             ],
             [
              0.7777777777777778,
              "#fb9f3a"
             ],
             [
              0.8888888888888888,
              "#fdca26"
             ],
             [
              1,
              "#f0f921"
             ]
            ],
            "type": "histogram2dcontour"
           }
          ],
          "mesh3d": [
           {
            "colorbar": {
             "outlinewidth": 0,
             "ticks": ""
            },
            "type": "mesh3d"
           }
          ],
          "parcoords": [
           {
            "line": {
             "colorbar": {
              "outlinewidth": 0,
              "ticks": ""
             }
            },
            "type": "parcoords"
           }
          ],
          "pie": [
           {
            "automargin": true,
            "type": "pie"
           }
          ],
          "scatter": [
           {
            "marker": {
             "colorbar": {
              "outlinewidth": 0,
              "ticks": ""
             }
            },
            "type": "scatter"
           }
          ],
          "scatter3d": [
           {
            "line": {
             "colorbar": {
              "outlinewidth": 0,
              "ticks": ""
             }
            },
            "marker": {
             "colorbar": {
              "outlinewidth": 0,
              "ticks": ""
             }
            },
            "type": "scatter3d"
           }
          ],
          "scattercarpet": [
           {
            "marker": {
             "colorbar": {
              "outlinewidth": 0,
              "ticks": ""
             }
            },
            "type": "scattercarpet"
           }
          ],
          "scattergeo": [
           {
            "marker": {
             "colorbar": {
              "outlinewidth": 0,
              "ticks": ""
             }
            },
            "type": "scattergeo"
           }
          ],
          "scattergl": [
           {
            "marker": {
             "colorbar": {
              "outlinewidth": 0,
              "ticks": ""
             }
            },
            "type": "scattergl"
           }
          ],
          "scattermapbox": [
           {
            "marker": {
             "colorbar": {
              "outlinewidth": 0,
              "ticks": ""
             }
            },
            "type": "scattermapbox"
           }
          ],
          "scatterpolar": [
           {
            "marker": {
             "colorbar": {
              "outlinewidth": 0,
              "ticks": ""
             }
            },
            "type": "scatterpolar"
           }
          ],
          "scatterpolargl": [
           {
            "marker": {
             "colorbar": {
              "outlinewidth": 0,
              "ticks": ""
             }
            },
            "type": "scatterpolargl"
           }
          ],
          "scatterternary": [
           {
            "marker": {
             "colorbar": {
              "outlinewidth": 0,
              "ticks": ""
             }
            },
            "type": "scatterternary"
           }
          ],
          "surface": [
           {
            "colorbar": {
             "outlinewidth": 0,
             "ticks": ""
            },
            "colorscale": [
             [
              0,
              "#0d0887"
             ],
             [
              0.1111111111111111,
              "#46039f"
             ],
             [
              0.2222222222222222,
              "#7201a8"
             ],
             [
              0.3333333333333333,
              "#9c179e"
             ],
             [
              0.4444444444444444,
              "#bd3786"
             ],
             [
              0.5555555555555556,
              "#d8576b"
             ],
             [
              0.6666666666666666,
              "#ed7953"
             ],
             [
              0.7777777777777778,
              "#fb9f3a"
             ],
             [
              0.8888888888888888,
              "#fdca26"
             ],
             [
              1,
              "#f0f921"
             ]
            ],
            "type": "surface"
           }
          ],
          "table": [
           {
            "cells": {
             "fill": {
              "color": "#EBF0F8"
             },
             "line": {
              "color": "white"
             }
            },
            "header": {
             "fill": {
              "color": "#C8D4E3"
             },
             "line": {
              "color": "white"
             }
            },
            "type": "table"
           }
          ]
         },
         "layout": {
          "annotationdefaults": {
           "arrowcolor": "#2a3f5f",
           "arrowhead": 0,
           "arrowwidth": 1
          },
          "autotypenumbers": "strict",
          "coloraxis": {
           "colorbar": {
            "outlinewidth": 0,
            "ticks": ""
           }
          },
          "colorscale": {
           "diverging": [
            [
             0,
             "#8e0152"
            ],
            [
             0.1,
             "#c51b7d"
            ],
            [
             0.2,
             "#de77ae"
            ],
            [
             0.3,
             "#f1b6da"
            ],
            [
             0.4,
             "#fde0ef"
            ],
            [
             0.5,
             "#f7f7f7"
            ],
            [
             0.6,
             "#e6f5d0"
            ],
            [
             0.7,
             "#b8e186"
            ],
            [
             0.8,
             "#7fbc41"
            ],
            [
             0.9,
             "#4d9221"
            ],
            [
             1,
             "#276419"
            ]
           ],
           "sequential": [
            [
             0,
             "#0d0887"
            ],
            [
             0.1111111111111111,
             "#46039f"
            ],
            [
             0.2222222222222222,
             "#7201a8"
            ],
            [
             0.3333333333333333,
             "#9c179e"
            ],
            [
             0.4444444444444444,
             "#bd3786"
            ],
            [
             0.5555555555555556,
             "#d8576b"
            ],
            [
             0.6666666666666666,
             "#ed7953"
            ],
            [
             0.7777777777777778,
             "#fb9f3a"
            ],
            [
             0.8888888888888888,
             "#fdca26"
            ],
            [
             1,
             "#f0f921"
            ]
           ],
           "sequentialminus": [
            [
             0,
             "#0d0887"
            ],
            [
             0.1111111111111111,
             "#46039f"
            ],
            [
             0.2222222222222222,
             "#7201a8"
            ],
            [
             0.3333333333333333,
             "#9c179e"
            ],
            [
             0.4444444444444444,
             "#bd3786"
            ],
            [
             0.5555555555555556,
             "#d8576b"
            ],
            [
             0.6666666666666666,
             "#ed7953"
            ],
            [
             0.7777777777777778,
             "#fb9f3a"
            ],
            [
             0.8888888888888888,
             "#fdca26"
            ],
            [
             1,
             "#f0f921"
            ]
           ]
          },
          "colorway": [
           "#636efa",
           "#EF553B",
           "#00cc96",
           "#ab63fa",
           "#FFA15A",
           "#19d3f3",
           "#FF6692",
           "#B6E880",
           "#FF97FF",
           "#FECB52"
          ],
          "font": {
           "color": "#2a3f5f"
          },
          "geo": {
           "bgcolor": "white",
           "lakecolor": "white",
           "landcolor": "#E5ECF6",
           "showlakes": true,
           "showland": true,
           "subunitcolor": "white"
          },
          "hoverlabel": {
           "align": "left"
          },
          "hovermode": "closest",
          "mapbox": {
           "style": "light"
          },
          "paper_bgcolor": "white",
          "plot_bgcolor": "#E5ECF6",
          "polar": {
           "angularaxis": {
            "gridcolor": "white",
            "linecolor": "white",
            "ticks": ""
           },
           "bgcolor": "#E5ECF6",
           "radialaxis": {
            "gridcolor": "white",
            "linecolor": "white",
            "ticks": ""
           }
          },
          "scene": {
           "xaxis": {
            "backgroundcolor": "#E5ECF6",
            "gridcolor": "white",
            "gridwidth": 2,
            "linecolor": "white",
            "showbackground": true,
            "ticks": "",
            "zerolinecolor": "white"
           },
           "yaxis": {
            "backgroundcolor": "#E5ECF6",
            "gridcolor": "white",
            "gridwidth": 2,
            "linecolor": "white",
            "showbackground": true,
            "ticks": "",
            "zerolinecolor": "white"
           },
           "zaxis": {
            "backgroundcolor": "#E5ECF6",
            "gridcolor": "white",
            "gridwidth": 2,
            "linecolor": "white",
            "showbackground": true,
            "ticks": "",
            "zerolinecolor": "white"
           }
          },
          "shapedefaults": {
           "line": {
            "color": "#2a3f5f"
           }
          },
          "ternary": {
           "aaxis": {
            "gridcolor": "white",
            "linecolor": "white",
            "ticks": ""
           },
           "baxis": {
            "gridcolor": "white",
            "linecolor": "white",
            "ticks": ""
           },
           "bgcolor": "#E5ECF6",
           "caxis": {
            "gridcolor": "white",
            "linecolor": "white",
            "ticks": ""
           }
          },
          "title": {
           "x": 0.05
          },
          "xaxis": {
           "automargin": true,
           "gridcolor": "white",
           "linecolor": "white",
           "ticks": "",
           "title": {
            "standoff": 15
           },
           "zerolinecolor": "white",
           "zerolinewidth": 2
          },
          "yaxis": {
           "automargin": true,
           "gridcolor": "white",
           "linecolor": "white",
           "ticks": "",
           "title": {
            "standoff": 15
           },
           "zerolinecolor": "white",
           "zerolinewidth": 2
          }
         }
        },
        "title": {
         "text": "FDI by Country in 2017 (preliminary values)"
        }
       }
      }
     },
     "metadata": {},
     "output_type": "display_data"
    }
   ],
   "source": [
    "fig4 = px.pie(df_FDICountry.loc[[\"EU countries\",\"CIS countries\", \"Other countries\"]], values = 2017,names = \"Countries\", title = \"FDI by Country in 2017 (preliminary values)\", height = 750)\n",
    "fig4.update_traces(textposition='inside', textinfo='percent+label')\n",
    "fig4.show()"
   ]
  },
  {
   "cell_type": "code",
   "execution_count": 26,
   "id": "ba6e3f56",
   "metadata": {},
   "outputs": [
    {
     "data": {
      "application/vnd.plotly.v1+json": {
       "config": {
        "plotlyServerURL": "https://plot.ly"
       },
       "data": [
        {
         "domain": {
          "x": [
           0,
           1
          ],
          "y": [
           0,
           1
          ]
         },
         "hovertemplate": "Countries=%{label}<br>2017=%{value}<extra></extra>",
         "labels": [
          "Austria",
          "Belgium",
          "Bulgaria",
          "Croatia",
          "Cyprus",
          "Czech Republic",
          "Denmark",
          "Estonia",
          "Finland",
          "France",
          "Germany",
          "Greece",
          "Hungary",
          "Ireland",
          "Italy",
          "Latvia",
          "Lithuania (Lietuva)",
          "Luxembourg",
          "Malta",
          "Netherlands",
          "Poland",
          "Portugal",
          "Romania",
          "Slovakia",
          "Slovenia",
          "Spain",
          "Sweden",
          "Azerbaijan",
          "Armenia",
          "Belarus",
          "Kazakhstan",
          "Kyrgyzstan",
          "Moldova",
          "Russia",
          "Turkmenistan",
          "Ukraine",
          "Uzbekistan",
          "Argentina",
          "Australia",
          "Bahamas",
          "Belize",
          "Virgin Islands, British",
          "Canada",
          "Cayman Islands",
          "China",
          "Gibraltar",
          "Hong Kong, SAR of China",
          "Iceland",
          "India",
          "Iran",
          "Iraq",
          "Israel",
          "Japan",
          "Jordan",
          "Korea",
          "Lebanon",
          "Libya",
          "Liechtenstein",
          "Mauritius",
          "Norway",
          "Marshall Islands",
          "Panama",
          "Philippines",
          "Qatar",
          "Saint Kitts and Nevis",
          "Saudi Arabia",
          "Seychelles",
          "Switzerland",
          "Syrian",
          "United Arab Emirates",
          "Turkey",
          "Egypt",
          "United Kingdom",
          "United States",
          "Unknown",
          "International Organizations"
         ],
         "legendgroup": "",
         "name": "",
         "showlegend": true,
         "textinfo": "percent+label",
         "textposition": "inside",
         "type": "pie",
         "values": [
          6287.270499999998,
          4313.4712,
          4858.6562,
          467.18820000000005,
          12913.440700000006,
          129097.274,
          -4457.082700000002,
          18489.0778,
          -435.8257,
          21092.414900000003,
          -94507.71600000001,
          675.7194999999999,
          2105.6886,
          190.4969,
          8260.9008,
          -33854.2047,
          2506.653,
          100714.59220000001,
          9984.076200000003,
          355278.9608,
          1310.9894,
          885.4689000000001,
          727.3345999999999,
          2753.7078,
          997.0346000000001,
          5835.863800000001,
          2039.6707000000001,
          460500.84010000015,
          6931.9268,
          538.9898000000001,
          -9408.809100000002,
          122.4244,
          43.558600000000006,
          51318.7092,
          2586.9372000000008,
          5512.206900000002,
          1196.0973000000004,
          69.393,
          3469.6208000000006,
          97.463,
          2055.9574000000002,
          -23034.190500000004,
          193.00779999999992,
          -1638.5926000000004,
          19364.383700000006,
          1914.3475999999998,
          1577.6401,
          -653.1487,
          9311.537399999997,
          5506.6249,
          540.7538999999999,
          6737.869799999997,
          18364.4159,
          1026.5032,
          36238.7756,
          2402.7376,
          90.81200000000001,
          2861.3175,
          -7804.530599999999,
          730.6708,
          2861.7898999999998,
          27175.4701,
          -0.3630000000000002,
          8661.428600000001,
          1090.1009,
          -4456.338100000001,
          5165.3879,
          35654.277200000004,
          983.1902999999998,
          147084.0538,
          256215.3004,
          -281.0827,
          249032.36200000002,
          79115.3347,
          0,
          2516.0898999999995
         ]
        }
       ],
       "layout": {
        "height": 750,
        "legend": {
         "tracegroupgap": 0
        },
        "template": {
         "data": {
          "bar": [
           {
            "error_x": {
             "color": "#2a3f5f"
            },
            "error_y": {
             "color": "#2a3f5f"
            },
            "marker": {
             "line": {
              "color": "#E5ECF6",
              "width": 0.5
             },
             "pattern": {
              "fillmode": "overlay",
              "size": 10,
              "solidity": 0.2
             }
            },
            "type": "bar"
           }
          ],
          "barpolar": [
           {
            "marker": {
             "line": {
              "color": "#E5ECF6",
              "width": 0.5
             },
             "pattern": {
              "fillmode": "overlay",
              "size": 10,
              "solidity": 0.2
             }
            },
            "type": "barpolar"
           }
          ],
          "carpet": [
           {
            "aaxis": {
             "endlinecolor": "#2a3f5f",
             "gridcolor": "white",
             "linecolor": "white",
             "minorgridcolor": "white",
             "startlinecolor": "#2a3f5f"
            },
            "baxis": {
             "endlinecolor": "#2a3f5f",
             "gridcolor": "white",
             "linecolor": "white",
             "minorgridcolor": "white",
             "startlinecolor": "#2a3f5f"
            },
            "type": "carpet"
           }
          ],
          "choropleth": [
           {
            "colorbar": {
             "outlinewidth": 0,
             "ticks": ""
            },
            "type": "choropleth"
           }
          ],
          "contour": [
           {
            "colorbar": {
             "outlinewidth": 0,
             "ticks": ""
            },
            "colorscale": [
             [
              0,
              "#0d0887"
             ],
             [
              0.1111111111111111,
              "#46039f"
             ],
             [
              0.2222222222222222,
              "#7201a8"
             ],
             [
              0.3333333333333333,
              "#9c179e"
             ],
             [
              0.4444444444444444,
              "#bd3786"
             ],
             [
              0.5555555555555556,
              "#d8576b"
             ],
             [
              0.6666666666666666,
              "#ed7953"
             ],
             [
              0.7777777777777778,
              "#fb9f3a"
             ],
             [
              0.8888888888888888,
              "#fdca26"
             ],
             [
              1,
              "#f0f921"
             ]
            ],
            "type": "contour"
           }
          ],
          "contourcarpet": [
           {
            "colorbar": {
             "outlinewidth": 0,
             "ticks": ""
            },
            "type": "contourcarpet"
           }
          ],
          "heatmap": [
           {
            "colorbar": {
             "outlinewidth": 0,
             "ticks": ""
            },
            "colorscale": [
             [
              0,
              "#0d0887"
             ],
             [
              0.1111111111111111,
              "#46039f"
             ],
             [
              0.2222222222222222,
              "#7201a8"
             ],
             [
              0.3333333333333333,
              "#9c179e"
             ],
             [
              0.4444444444444444,
              "#bd3786"
             ],
             [
              0.5555555555555556,
              "#d8576b"
             ],
             [
              0.6666666666666666,
              "#ed7953"
             ],
             [
              0.7777777777777778,
              "#fb9f3a"
             ],
             [
              0.8888888888888888,
              "#fdca26"
             ],
             [
              1,
              "#f0f921"
             ]
            ],
            "type": "heatmap"
           }
          ],
          "heatmapgl": [
           {
            "colorbar": {
             "outlinewidth": 0,
             "ticks": ""
            },
            "colorscale": [
             [
              0,
              "#0d0887"
             ],
             [
              0.1111111111111111,
              "#46039f"
             ],
             [
              0.2222222222222222,
              "#7201a8"
             ],
             [
              0.3333333333333333,
              "#9c179e"
             ],
             [
              0.4444444444444444,
              "#bd3786"
             ],
             [
              0.5555555555555556,
              "#d8576b"
             ],
             [
              0.6666666666666666,
              "#ed7953"
             ],
             [
              0.7777777777777778,
              "#fb9f3a"
             ],
             [
              0.8888888888888888,
              "#fdca26"
             ],
             [
              1,
              "#f0f921"
             ]
            ],
            "type": "heatmapgl"
           }
          ],
          "histogram": [
           {
            "marker": {
             "pattern": {
              "fillmode": "overlay",
              "size": 10,
              "solidity": 0.2
             }
            },
            "type": "histogram"
           }
          ],
          "histogram2d": [
           {
            "colorbar": {
             "outlinewidth": 0,
             "ticks": ""
            },
            "colorscale": [
             [
              0,
              "#0d0887"
             ],
             [
              0.1111111111111111,
              "#46039f"
             ],
             [
              0.2222222222222222,
              "#7201a8"
             ],
             [
              0.3333333333333333,
              "#9c179e"
             ],
             [
              0.4444444444444444,
              "#bd3786"
             ],
             [
              0.5555555555555556,
              "#d8576b"
             ],
             [
              0.6666666666666666,
              "#ed7953"
             ],
             [
              0.7777777777777778,
              "#fb9f3a"
             ],
             [
              0.8888888888888888,
              "#fdca26"
             ],
             [
              1,
              "#f0f921"
             ]
            ],
            "type": "histogram2d"
           }
          ],
          "histogram2dcontour": [
           {
            "colorbar": {
             "outlinewidth": 0,
             "ticks": ""
            },
            "colorscale": [
             [
              0,
              "#0d0887"
             ],
             [
              0.1111111111111111,
              "#46039f"
             ],
             [
              0.2222222222222222,
              "#7201a8"
             ],
             [
              0.3333333333333333,
              "#9c179e"
             ],
             [
              0.4444444444444444,
              "#bd3786"
             ],
             [
              0.5555555555555556,
              "#d8576b"
             ],
             [
              0.6666666666666666,
              "#ed7953"
             ],
             [
              0.7777777777777778,
              "#fb9f3a"
             ],
             [
              0.8888888888888888,
              "#fdca26"
             ],
             [
              1,
              "#f0f921"
             ]
            ],
            "type": "histogram2dcontour"
           }
          ],
          "mesh3d": [
           {
            "colorbar": {
             "outlinewidth": 0,
             "ticks": ""
            },
            "type": "mesh3d"
           }
          ],
          "parcoords": [
           {
            "line": {
             "colorbar": {
              "outlinewidth": 0,
              "ticks": ""
             }
            },
            "type": "parcoords"
           }
          ],
          "pie": [
           {
            "automargin": true,
            "type": "pie"
           }
          ],
          "scatter": [
           {
            "marker": {
             "colorbar": {
              "outlinewidth": 0,
              "ticks": ""
             }
            },
            "type": "scatter"
           }
          ],
          "scatter3d": [
           {
            "line": {
             "colorbar": {
              "outlinewidth": 0,
              "ticks": ""
             }
            },
            "marker": {
             "colorbar": {
              "outlinewidth": 0,
              "ticks": ""
             }
            },
            "type": "scatter3d"
           }
          ],
          "scattercarpet": [
           {
            "marker": {
             "colorbar": {
              "outlinewidth": 0,
              "ticks": ""
             }
            },
            "type": "scattercarpet"
           }
          ],
          "scattergeo": [
           {
            "marker": {
             "colorbar": {
              "outlinewidth": 0,
              "ticks": ""
             }
            },
            "type": "scattergeo"
           }
          ],
          "scattergl": [
           {
            "marker": {
             "colorbar": {
              "outlinewidth": 0,
              "ticks": ""
             }
            },
            "type": "scattergl"
           }
          ],
          "scattermapbox": [
           {
            "marker": {
             "colorbar": {
              "outlinewidth": 0,
              "ticks": ""
             }
            },
            "type": "scattermapbox"
           }
          ],
          "scatterpolar": [
           {
            "marker": {
             "colorbar": {
              "outlinewidth": 0,
              "ticks": ""
             }
            },
            "type": "scatterpolar"
           }
          ],
          "scatterpolargl": [
           {
            "marker": {
             "colorbar": {
              "outlinewidth": 0,
              "ticks": ""
             }
            },
            "type": "scatterpolargl"
           }
          ],
          "scatterternary": [
           {
            "marker": {
             "colorbar": {
              "outlinewidth": 0,
              "ticks": ""
             }
            },
            "type": "scatterternary"
           }
          ],
          "surface": [
           {
            "colorbar": {
             "outlinewidth": 0,
             "ticks": ""
            },
            "colorscale": [
             [
              0,
              "#0d0887"
             ],
             [
              0.1111111111111111,
              "#46039f"
             ],
             [
              0.2222222222222222,
              "#7201a8"
             ],
             [
              0.3333333333333333,
              "#9c179e"
             ],
             [
              0.4444444444444444,
              "#bd3786"
             ],
             [
              0.5555555555555556,
              "#d8576b"
             ],
             [
              0.6666666666666666,
              "#ed7953"
             ],
             [
              0.7777777777777778,
              "#fb9f3a"
             ],
             [
              0.8888888888888888,
              "#fdca26"
             ],
             [
              1,
              "#f0f921"
             ]
            ],
            "type": "surface"
           }
          ],
          "table": [
           {
            "cells": {
             "fill": {
              "color": "#EBF0F8"
             },
             "line": {
              "color": "white"
             }
            },
            "header": {
             "fill": {
              "color": "#C8D4E3"
             },
             "line": {
              "color": "white"
             }
            },
            "type": "table"
           }
          ]
         },
         "layout": {
          "annotationdefaults": {
           "arrowcolor": "#2a3f5f",
           "arrowhead": 0,
           "arrowwidth": 1
          },
          "autotypenumbers": "strict",
          "coloraxis": {
           "colorbar": {
            "outlinewidth": 0,
            "ticks": ""
           }
          },
          "colorscale": {
           "diverging": [
            [
             0,
             "#8e0152"
            ],
            [
             0.1,
             "#c51b7d"
            ],
            [
             0.2,
             "#de77ae"
            ],
            [
             0.3,
             "#f1b6da"
            ],
            [
             0.4,
             "#fde0ef"
            ],
            [
             0.5,
             "#f7f7f7"
            ],
            [
             0.6,
             "#e6f5d0"
            ],
            [
             0.7,
             "#b8e186"
            ],
            [
             0.8,
             "#7fbc41"
            ],
            [
             0.9,
             "#4d9221"
            ],
            [
             1,
             "#276419"
            ]
           ],
           "sequential": [
            [
             0,
             "#0d0887"
            ],
            [
             0.1111111111111111,
             "#46039f"
            ],
            [
             0.2222222222222222,
             "#7201a8"
            ],
            [
             0.3333333333333333,
             "#9c179e"
            ],
            [
             0.4444444444444444,
             "#bd3786"
            ],
            [
             0.5555555555555556,
             "#d8576b"
            ],
            [
             0.6666666666666666,
             "#ed7953"
            ],
            [
             0.7777777777777778,
             "#fb9f3a"
            ],
            [
             0.8888888888888888,
             "#fdca26"
            ],
            [
             1,
             "#f0f921"
            ]
           ],
           "sequentialminus": [
            [
             0,
             "#0d0887"
            ],
            [
             0.1111111111111111,
             "#46039f"
            ],
            [
             0.2222222222222222,
             "#7201a8"
            ],
            [
             0.3333333333333333,
             "#9c179e"
            ],
            [
             0.4444444444444444,
             "#bd3786"
            ],
            [
             0.5555555555555556,
             "#d8576b"
            ],
            [
             0.6666666666666666,
             "#ed7953"
            ],
            [
             0.7777777777777778,
             "#fb9f3a"
            ],
            [
             0.8888888888888888,
             "#fdca26"
            ],
            [
             1,
             "#f0f921"
            ]
           ]
          },
          "colorway": [
           "#636efa",
           "#EF553B",
           "#00cc96",
           "#ab63fa",
           "#FFA15A",
           "#19d3f3",
           "#FF6692",
           "#B6E880",
           "#FF97FF",
           "#FECB52"
          ],
          "font": {
           "color": "#2a3f5f"
          },
          "geo": {
           "bgcolor": "white",
           "lakecolor": "white",
           "landcolor": "#E5ECF6",
           "showlakes": true,
           "showland": true,
           "subunitcolor": "white"
          },
          "hoverlabel": {
           "align": "left"
          },
          "hovermode": "closest",
          "mapbox": {
           "style": "light"
          },
          "paper_bgcolor": "white",
          "plot_bgcolor": "#E5ECF6",
          "polar": {
           "angularaxis": {
            "gridcolor": "white",
            "linecolor": "white",
            "ticks": ""
           },
           "bgcolor": "#E5ECF6",
           "radialaxis": {
            "gridcolor": "white",
            "linecolor": "white",
            "ticks": ""
           }
          },
          "scene": {
           "xaxis": {
            "backgroundcolor": "#E5ECF6",
            "gridcolor": "white",
            "gridwidth": 2,
            "linecolor": "white",
            "showbackground": true,
            "ticks": "",
            "zerolinecolor": "white"
           },
           "yaxis": {
            "backgroundcolor": "#E5ECF6",
            "gridcolor": "white",
            "gridwidth": 2,
            "linecolor": "white",
            "showbackground": true,
            "ticks": "",
            "zerolinecolor": "white"
           },
           "zaxis": {
            "backgroundcolor": "#E5ECF6",
            "gridcolor": "white",
            "gridwidth": 2,
            "linecolor": "white",
            "showbackground": true,
            "ticks": "",
            "zerolinecolor": "white"
           }
          },
          "shapedefaults": {
           "line": {
            "color": "#2a3f5f"
           }
          },
          "ternary": {
           "aaxis": {
            "gridcolor": "white",
            "linecolor": "white",
            "ticks": ""
           },
           "baxis": {
            "gridcolor": "white",
            "linecolor": "white",
            "ticks": ""
           },
           "bgcolor": "#E5ECF6",
           "caxis": {
            "gridcolor": "white",
            "linecolor": "white",
            "ticks": ""
           }
          },
          "title": {
           "x": 0.05
          },
          "xaxis": {
           "automargin": true,
           "gridcolor": "white",
           "linecolor": "white",
           "ticks": "",
           "title": {
            "standoff": 15
           },
           "zerolinecolor": "white",
           "zerolinewidth": 2
          },
          "yaxis": {
           "automargin": true,
           "gridcolor": "white",
           "linecolor": "white",
           "ticks": "",
           "title": {
            "standoff": 15
           },
           "zerolinecolor": "white",
           "zerolinewidth": 2
          }
         }
        },
        "title": {
         "text": "FDI by Country in 2017 (preliminary values)"
        }
       }
      }
     },
     "metadata": {},
     "output_type": "display_data"
    }
   ],
   "source": [
    "fig5 = px.pie(df_FDICountry2.set_index('index').T.reset_index(), values = 2017,names = \"Countries\", title = \"FDI by Country in 2017 (preliminary values)\", height = 750)\n",
    "fig5.update_traces(textposition='inside', textinfo='percent+label')\n",
    "fig5.show()"
   ]
  },
  {
   "cell_type": "code",
   "execution_count": 27,
   "id": "a827a198",
   "metadata": {},
   "outputs": [
    {
     "data": {
      "text/html": [
       "<div>\n",
       "<style scoped>\n",
       "    .dataframe tbody tr th:only-of-type {\n",
       "        vertical-align: middle;\n",
       "    }\n",
       "\n",
       "    .dataframe tbody tr th {\n",
       "        vertical-align: top;\n",
       "    }\n",
       "\n",
       "    .dataframe thead th {\n",
       "        text-align: right;\n",
       "    }\n",
       "</style>\n",
       "<table border=\"1\" class=\"dataframe\">\n",
       "  <thead>\n",
       "    <tr style=\"text-align: right;\">\n",
       "      <th>index</th>\n",
       "      <th>Countries</th>\n",
       "      <th>1996</th>\n",
       "      <th>1997</th>\n",
       "      <th>1998</th>\n",
       "      <th>1999</th>\n",
       "      <th>2000</th>\n",
       "      <th>2001</th>\n",
       "      <th>2002</th>\n",
       "      <th>2003</th>\n",
       "      <th>2004</th>\n",
       "      <th>...</th>\n",
       "      <th>2012</th>\n",
       "      <th>2013</th>\n",
       "      <th>2014</th>\n",
       "      <th>2015</th>\n",
       "      <th>2016</th>\n",
       "      <th>2017</th>\n",
       "      <th>2018</th>\n",
       "      <th>2019</th>\n",
       "      <th>2020</th>\n",
       "      <th>2021</th>\n",
       "    </tr>\n",
       "  </thead>\n",
       "  <tbody>\n",
       "    <tr>\n",
       "      <th>0</th>\n",
       "      <td>Austria</td>\n",
       "      <td>0.0</td>\n",
       "      <td>18688.224320</td>\n",
       "      <td>18876.639337</td>\n",
       "      <td>0.000000</td>\n",
       "      <td>0.000000</td>\n",
       "      <td>0.000000</td>\n",
       "      <td>-137.208960</td>\n",
       "      <td>17971.165858</td>\n",
       "      <td>23019.989682</td>\n",
       "      <td>...</td>\n",
       "      <td>25999.225115</td>\n",
       "      <td>7008.170988</td>\n",
       "      <td>8000.442038</td>\n",
       "      <td>19621.375218</td>\n",
       "      <td>27805.2789</td>\n",
       "      <td>6287.2705</td>\n",
       "      <td>17361.0086</td>\n",
       "      <td>15231.2078</td>\n",
       "      <td>-10654.2515</td>\n",
       "      <td>5937.8846</td>\n",
       "    </tr>\n",
       "    <tr>\n",
       "      <th>1</th>\n",
       "      <td>Belgium</td>\n",
       "      <td>0.0</td>\n",
       "      <td>0.000000</td>\n",
       "      <td>0.000000</td>\n",
       "      <td>0.000000</td>\n",
       "      <td>0.000000</td>\n",
       "      <td>0.000000</td>\n",
       "      <td>0.000000</td>\n",
       "      <td>0.000000</td>\n",
       "      <td>0.000000</td>\n",
       "      <td>...</td>\n",
       "      <td>-844.806600</td>\n",
       "      <td>637.326800</td>\n",
       "      <td>1485.556000</td>\n",
       "      <td>280.287500</td>\n",
       "      <td>17867.4493</td>\n",
       "      <td>4313.4712</td>\n",
       "      <td>3482.8453</td>\n",
       "      <td>1522.7314</td>\n",
       "      <td>4857.8513</td>\n",
       "      <td>2079.7791</td>\n",
       "    </tr>\n",
       "    <tr>\n",
       "      <th>2</th>\n",
       "      <td>Bulgaria</td>\n",
       "      <td>0.0</td>\n",
       "      <td>0.000000</td>\n",
       "      <td>0.000000</td>\n",
       "      <td>46.930700</td>\n",
       "      <td>2172.174954</td>\n",
       "      <td>2238.914739</td>\n",
       "      <td>0.000000</td>\n",
       "      <td>0.000000</td>\n",
       "      <td>0.000000</td>\n",
       "      <td>...</td>\n",
       "      <td>2269.496800</td>\n",
       "      <td>2566.307524</td>\n",
       "      <td>9151.545297</td>\n",
       "      <td>7196.698753</td>\n",
       "      <td>1647.1676</td>\n",
       "      <td>4858.6562</td>\n",
       "      <td>7426.7465</td>\n",
       "      <td>5857.0467</td>\n",
       "      <td>-1739.1844</td>\n",
       "      <td>4050.1764</td>\n",
       "    </tr>\n",
       "    <tr>\n",
       "      <th>3</th>\n",
       "      <td>Croatia</td>\n",
       "      <td>0.0</td>\n",
       "      <td>0.000000</td>\n",
       "      <td>0.000000</td>\n",
       "      <td>0.000000</td>\n",
       "      <td>0.000000</td>\n",
       "      <td>0.000000</td>\n",
       "      <td>0.000000</td>\n",
       "      <td>0.000000</td>\n",
       "      <td>0.000000</td>\n",
       "      <td>...</td>\n",
       "      <td>0.000000</td>\n",
       "      <td>0.000000</td>\n",
       "      <td>0.000000</td>\n",
       "      <td>0.000000</td>\n",
       "      <td>0.0000</td>\n",
       "      <td>467.1882</td>\n",
       "      <td>2028.2268</td>\n",
       "      <td>794.0375</td>\n",
       "      <td>-326.6672</td>\n",
       "      <td>48.2965</td>\n",
       "    </tr>\n",
       "    <tr>\n",
       "      <th>4</th>\n",
       "      <td>Cyprus</td>\n",
       "      <td>0.0</td>\n",
       "      <td>0.000000</td>\n",
       "      <td>0.000000</td>\n",
       "      <td>895.013450</td>\n",
       "      <td>3921.109728</td>\n",
       "      <td>19209.077981</td>\n",
       "      <td>1062.712164</td>\n",
       "      <td>675.727949</td>\n",
       "      <td>21333.115095</td>\n",
       "      <td>...</td>\n",
       "      <td>45960.292137</td>\n",
       "      <td>-44285.398773</td>\n",
       "      <td>-5141.807923</td>\n",
       "      <td>-26983.805912</td>\n",
       "      <td>-6497.4591</td>\n",
       "      <td>12913.4407</td>\n",
       "      <td>-86440.4475</td>\n",
       "      <td>23659.5798</td>\n",
       "      <td>-42690.1804</td>\n",
       "      <td>-27719.5973</td>\n",
       "    </tr>\n",
       "    <tr>\n",
       "      <th>...</th>\n",
       "      <td>...</td>\n",
       "      <td>...</td>\n",
       "      <td>...</td>\n",
       "      <td>...</td>\n",
       "      <td>...</td>\n",
       "      <td>...</td>\n",
       "      <td>...</td>\n",
       "      <td>...</td>\n",
       "      <td>...</td>\n",
       "      <td>...</td>\n",
       "      <td>...</td>\n",
       "      <td>...</td>\n",
       "      <td>...</td>\n",
       "      <td>...</td>\n",
       "      <td>...</td>\n",
       "      <td>...</td>\n",
       "      <td>...</td>\n",
       "      <td>...</td>\n",
       "      <td>...</td>\n",
       "      <td>...</td>\n",
       "      <td>...</td>\n",
       "    </tr>\n",
       "    <tr>\n",
       "      <th>71</th>\n",
       "      <td>Egypt</td>\n",
       "      <td>0.0</td>\n",
       "      <td>0.000000</td>\n",
       "      <td>0.000000</td>\n",
       "      <td>0.000000</td>\n",
       "      <td>0.000000</td>\n",
       "      <td>0.000000</td>\n",
       "      <td>0.000000</td>\n",
       "      <td>0.000000</td>\n",
       "      <td>0.000000</td>\n",
       "      <td>...</td>\n",
       "      <td>0.000000</td>\n",
       "      <td>1488.712127</td>\n",
       "      <td>373.477036</td>\n",
       "      <td>-1101.273630</td>\n",
       "      <td>-292.8497</td>\n",
       "      <td>-281.0827</td>\n",
       "      <td>661.5227</td>\n",
       "      <td>558.9500</td>\n",
       "      <td>2566.8159</td>\n",
       "      <td>2740.4529</td>\n",
       "    </tr>\n",
       "    <tr>\n",
       "      <th>72</th>\n",
       "      <td>United Kingdom</td>\n",
       "      <td>0.0</td>\n",
       "      <td>24985.511495</td>\n",
       "      <td>26471.589257</td>\n",
       "      <td>5036.176714</td>\n",
       "      <td>4823.975704</td>\n",
       "      <td>8508.687993</td>\n",
       "      <td>14719.529864</td>\n",
       "      <td>34842.840181</td>\n",
       "      <td>85099.450378</td>\n",
       "      <td>...</td>\n",
       "      <td>95536.664823</td>\n",
       "      <td>55171.312715</td>\n",
       "      <td>108850.796451</td>\n",
       "      <td>399346.841345</td>\n",
       "      <td>87849.5420</td>\n",
       "      <td>249032.3620</td>\n",
       "      <td>182923.8353</td>\n",
       "      <td>236860.4844</td>\n",
       "      <td>302984.8908</td>\n",
       "      <td>596616.9694</td>\n",
       "    </tr>\n",
       "    <tr>\n",
       "      <th>73</th>\n",
       "      <td>United States</td>\n",
       "      <td>0.0</td>\n",
       "      <td>96651.887424</td>\n",
       "      <td>104427.226180</td>\n",
       "      <td>59151.289331</td>\n",
       "      <td>38717.651556</td>\n",
       "      <td>23281.158381</td>\n",
       "      <td>81609.826028</td>\n",
       "      <td>71603.885369</td>\n",
       "      <td>80753.732613</td>\n",
       "      <td>...</td>\n",
       "      <td>20253.999100</td>\n",
       "      <td>53885.224061</td>\n",
       "      <td>184442.755304</td>\n",
       "      <td>18898.423706</td>\n",
       "      <td>59817.1044</td>\n",
       "      <td>79115.3347</td>\n",
       "      <td>104964.0622</td>\n",
       "      <td>115592.2585</td>\n",
       "      <td>98440.9332</td>\n",
       "      <td>6150.9768</td>\n",
       "    </tr>\n",
       "    <tr>\n",
       "      <th>74</th>\n",
       "      <td>Unknown</td>\n",
       "      <td>0.0</td>\n",
       "      <td>0.000000</td>\n",
       "      <td>0.000000</td>\n",
       "      <td>0.000000</td>\n",
       "      <td>0.000000</td>\n",
       "      <td>0.000000</td>\n",
       "      <td>627.861590</td>\n",
       "      <td>853.614440</td>\n",
       "      <td>268.314400</td>\n",
       "      <td>...</td>\n",
       "      <td>0.000000</td>\n",
       "      <td>0.000000</td>\n",
       "      <td>0.000000</td>\n",
       "      <td>6743.034700</td>\n",
       "      <td>-4702.3455</td>\n",
       "      <td>0.0000</td>\n",
       "      <td>0.0000</td>\n",
       "      <td>0.0000</td>\n",
       "      <td>0.0000</td>\n",
       "      <td>0.0000</td>\n",
       "    </tr>\n",
       "    <tr>\n",
       "      <th>75</th>\n",
       "      <td>International Organizations</td>\n",
       "      <td>0.0</td>\n",
       "      <td>0.000000</td>\n",
       "      <td>0.000000</td>\n",
       "      <td>0.000000</td>\n",
       "      <td>0.000000</td>\n",
       "      <td>0.000000</td>\n",
       "      <td>448.531800</td>\n",
       "      <td>1235.937360</td>\n",
       "      <td>776.706830</td>\n",
       "      <td>...</td>\n",
       "      <td>63454.726500</td>\n",
       "      <td>54680.836317</td>\n",
       "      <td>-105980.379157</td>\n",
       "      <td>39779.528091</td>\n",
       "      <td>43125.7175</td>\n",
       "      <td>2516.0899</td>\n",
       "      <td>1627.4711</td>\n",
       "      <td>6883.7493</td>\n",
       "      <td>1458.0451</td>\n",
       "      <td>3690.0591</td>\n",
       "    </tr>\n",
       "  </tbody>\n",
       "</table>\n",
       "<p>76 rows × 27 columns</p>\n",
       "</div>"
      ],
      "text/plain": [
       "index                    Countries  1996          1997           1998  \\\n",
       "0                          Austria   0.0  18688.224320   18876.639337   \n",
       "1                          Belgium   0.0      0.000000       0.000000   \n",
       "2                         Bulgaria   0.0      0.000000       0.000000   \n",
       "3                          Croatia   0.0      0.000000       0.000000   \n",
       "4                           Cyprus   0.0      0.000000       0.000000   \n",
       "..                             ...   ...           ...            ...   \n",
       "71                           Egypt   0.0      0.000000       0.000000   \n",
       "72                  United Kingdom   0.0  24985.511495   26471.589257   \n",
       "73                   United States   0.0  96651.887424  104427.226180   \n",
       "74                         Unknown   0.0      0.000000       0.000000   \n",
       "75     International Organizations   0.0      0.000000       0.000000   \n",
       "\n",
       "index          1999          2000          2001          2002          2003  \\\n",
       "0          0.000000      0.000000      0.000000   -137.208960  17971.165858   \n",
       "1          0.000000      0.000000      0.000000      0.000000      0.000000   \n",
       "2         46.930700   2172.174954   2238.914739      0.000000      0.000000   \n",
       "3          0.000000      0.000000      0.000000      0.000000      0.000000   \n",
       "4        895.013450   3921.109728  19209.077981   1062.712164    675.727949   \n",
       "..              ...           ...           ...           ...           ...   \n",
       "71         0.000000      0.000000      0.000000      0.000000      0.000000   \n",
       "72      5036.176714   4823.975704   8508.687993  14719.529864  34842.840181   \n",
       "73     59151.289331  38717.651556  23281.158381  81609.826028  71603.885369   \n",
       "74         0.000000      0.000000      0.000000    627.861590    853.614440   \n",
       "75         0.000000      0.000000      0.000000    448.531800   1235.937360   \n",
       "\n",
       "index          2004  ...          2012          2013           2014  \\\n",
       "0      23019.989682  ...  25999.225115   7008.170988    8000.442038   \n",
       "1          0.000000  ...   -844.806600    637.326800    1485.556000   \n",
       "2          0.000000  ...   2269.496800   2566.307524    9151.545297   \n",
       "3          0.000000  ...      0.000000      0.000000       0.000000   \n",
       "4      21333.115095  ...  45960.292137 -44285.398773   -5141.807923   \n",
       "..              ...  ...           ...           ...            ...   \n",
       "71         0.000000  ...      0.000000   1488.712127     373.477036   \n",
       "72     85099.450378  ...  95536.664823  55171.312715  108850.796451   \n",
       "73     80753.732613  ...  20253.999100  53885.224061  184442.755304   \n",
       "74       268.314400  ...      0.000000      0.000000       0.000000   \n",
       "75       776.706830  ...  63454.726500  54680.836317 -105980.379157   \n",
       "\n",
       "index           2015        2016         2017         2018         2019  \\\n",
       "0       19621.375218  27805.2789    6287.2705   17361.0086   15231.2078   \n",
       "1         280.287500  17867.4493    4313.4712    3482.8453    1522.7314   \n",
       "2        7196.698753   1647.1676    4858.6562    7426.7465    5857.0467   \n",
       "3           0.000000      0.0000     467.1882    2028.2268     794.0375   \n",
       "4      -26983.805912  -6497.4591   12913.4407  -86440.4475   23659.5798   \n",
       "..               ...         ...          ...          ...          ...   \n",
       "71      -1101.273630   -292.8497    -281.0827     661.5227     558.9500   \n",
       "72     399346.841345  87849.5420  249032.3620  182923.8353  236860.4844   \n",
       "73      18898.423706  59817.1044   79115.3347  104964.0622  115592.2585   \n",
       "74       6743.034700  -4702.3455       0.0000       0.0000       0.0000   \n",
       "75      39779.528091  43125.7175    2516.0899    1627.4711    6883.7493   \n",
       "\n",
       "index         2020         2021  \n",
       "0      -10654.2515    5937.8846  \n",
       "1        4857.8513    2079.7791  \n",
       "2       -1739.1844    4050.1764  \n",
       "3        -326.6672      48.2965  \n",
       "4      -42690.1804  -27719.5973  \n",
       "..             ...          ...  \n",
       "71       2566.8159    2740.4529  \n",
       "72     302984.8908  596616.9694  \n",
       "73      98440.9332    6150.9768  \n",
       "74          0.0000       0.0000  \n",
       "75       1458.0451    3690.0591  \n",
       "\n",
       "[76 rows x 27 columns]"
      ]
     },
     "execution_count": 27,
     "metadata": {},
     "output_type": "execute_result"
    }
   ],
   "source": [
    "df_FDICountry2.set_index('index').T.reset_index()"
   ]
  },
  {
   "cell_type": "code",
   "execution_count": 28,
   "id": "a090f9a0",
   "metadata": {},
   "outputs": [
    {
     "data": {
      "application/vnd.plotly.v1+json": {
       "config": {
        "plotlyServerURL": "https://plot.ly"
       },
       "data": [
        {
         "domain": {
          "x": [
           0,
           1
          ],
          "y": [
           0,
           1
          ]
         },
         "hovertemplate": "Countries=%{label}<br>2019=%{value}<extra></extra>",
         "labels": [
          "Austria",
          "Belgium",
          "Bulgaria",
          "Croatia",
          "Cyprus",
          "Czech Republic",
          "Denmark",
          "Estonia",
          "Finland",
          "France",
          "Germany",
          "Greece",
          "Hungary",
          "Ireland",
          "Italy",
          "Latvia",
          "Lithuania (Lietuva)",
          "Luxembourg",
          "Malta",
          "Netherlands",
          "Poland",
          "Portugal",
          "Romania",
          "Slovakia",
          "Slovenia",
          "Spain",
          "Sweden",
          "Azerbaijan",
          "Armenia",
          "Belarus",
          "Kazakhstan",
          "Kyrgyzstan",
          "Moldova",
          "Russia",
          "Turkmenistan",
          "Ukraine",
          "Uzbekistan",
          "Argentina",
          "Australia",
          "Bahamas",
          "Belize",
          "Virgin Islands, British",
          "Canada",
          "Cayman Islands",
          "China",
          "Gibraltar",
          "Hong Kong, SAR of China",
          "Iceland",
          "India",
          "Iran",
          "Iraq",
          "Israel",
          "Japan",
          "Jordan",
          "Korea",
          "Lebanon",
          "Libya",
          "Liechtenstein",
          "Mauritius",
          "Norway",
          "Marshall Islands",
          "Panama",
          "Philippines",
          "Qatar",
          "Saint Kitts and Nevis",
          "Saudi Arabia",
          "Seychelles",
          "Switzerland",
          "Syrian",
          "United Arab Emirates",
          "Turkey",
          "Egypt",
          "United Kingdom",
          "United States",
          "Unknown",
          "International Organizations"
         ],
         "legendgroup": "",
         "name": "",
         "showlegend": true,
         "textinfo": "percent+label",
         "textposition": "inside",
         "type": "pie",
         "values": [
          15231.207800000004,
          1522.7314000000001,
          5857.0467,
          794.0374999999999,
          23659.5798,
          17592.692500000005,
          2754.372300000001,
          3879.199399999999,
          2216.4143999999997,
          20114.753600000004,
          23663.853700000003,
          1286.5997,
          2735.8586999999998,
          133240.9951,
          -266.4677999999999,
          2108.8642,
          3994.64,
          68838.7905,
          1201.4031000000032,
          88054.33260000002,
          3600.0191000000004,
          -154.5442,
          278.6114,
          1881.5939999999998,
          1184.4070000000002,
          -3058.918600000001,
          4706.552100000001,
          38878.952700000016,
          14766.711399999998,
          293.908,
          7398.1469000000025,
          51.35460000000009,
          18.945000000000004,
          55228.18860000001,
          1656.7801,
          25877.76299999999,
          802.8506,
          0,
          2624.9260999999997,
          -2801.4893,
          -11248.292900000002,
          -34716.2577,
          325.78550000000007,
          -3711.6037000000006,
          43751.85690000001,
          1191.5364,
          -7595.501199999999,
          -1452.7458000000004,
          6517.469900000002,
          3078.0895000000014,
          -13025.869600000002,
          22290.256999999998,
          39535.8166,
          -1216.6981,
          22408.687400000003,
          2211.5312999999996,
          0,
          493.14869999999996,
          4032.2229,
          -120.2650999999999,
          34010.9644,
          76830.09879999999,
          46.0643,
          7450.3099,
          -1684.1855000000005,
          -214.8637000000001,
          3056.0476,
          -3753.0678000000044,
          362.1273,
          26268.382,
          174174.72179999988,
          558.9499999999999,
          236860.4844,
          115592.2585,
          0,
          6883.7492999999995
         ]
        }
       ],
       "layout": {
        "height": 750,
        "legend": {
         "tracegroupgap": 0
        },
        "template": {
         "data": {
          "bar": [
           {
            "error_x": {
             "color": "#2a3f5f"
            },
            "error_y": {
             "color": "#2a3f5f"
            },
            "marker": {
             "line": {
              "color": "#E5ECF6",
              "width": 0.5
             },
             "pattern": {
              "fillmode": "overlay",
              "size": 10,
              "solidity": 0.2
             }
            },
            "type": "bar"
           }
          ],
          "barpolar": [
           {
            "marker": {
             "line": {
              "color": "#E5ECF6",
              "width": 0.5
             },
             "pattern": {
              "fillmode": "overlay",
              "size": 10,
              "solidity": 0.2
             }
            },
            "type": "barpolar"
           }
          ],
          "carpet": [
           {
            "aaxis": {
             "endlinecolor": "#2a3f5f",
             "gridcolor": "white",
             "linecolor": "white",
             "minorgridcolor": "white",
             "startlinecolor": "#2a3f5f"
            },
            "baxis": {
             "endlinecolor": "#2a3f5f",
             "gridcolor": "white",
             "linecolor": "white",
             "minorgridcolor": "white",
             "startlinecolor": "#2a3f5f"
            },
            "type": "carpet"
           }
          ],
          "choropleth": [
           {
            "colorbar": {
             "outlinewidth": 0,
             "ticks": ""
            },
            "type": "choropleth"
           }
          ],
          "contour": [
           {
            "colorbar": {
             "outlinewidth": 0,
             "ticks": ""
            },
            "colorscale": [
             [
              0,
              "#0d0887"
             ],
             [
              0.1111111111111111,
              "#46039f"
             ],
             [
              0.2222222222222222,
              "#7201a8"
             ],
             [
              0.3333333333333333,
              "#9c179e"
             ],
             [
              0.4444444444444444,
              "#bd3786"
             ],
             [
              0.5555555555555556,
              "#d8576b"
             ],
             [
              0.6666666666666666,
              "#ed7953"
             ],
             [
              0.7777777777777778,
              "#fb9f3a"
             ],
             [
              0.8888888888888888,
              "#fdca26"
             ],
             [
              1,
              "#f0f921"
             ]
            ],
            "type": "contour"
           }
          ],
          "contourcarpet": [
           {
            "colorbar": {
             "outlinewidth": 0,
             "ticks": ""
            },
            "type": "contourcarpet"
           }
          ],
          "heatmap": [
           {
            "colorbar": {
             "outlinewidth": 0,
             "ticks": ""
            },
            "colorscale": [
             [
              0,
              "#0d0887"
             ],
             [
              0.1111111111111111,
              "#46039f"
             ],
             [
              0.2222222222222222,
              "#7201a8"
             ],
             [
              0.3333333333333333,
              "#9c179e"
             ],
             [
              0.4444444444444444,
              "#bd3786"
             ],
             [
              0.5555555555555556,
              "#d8576b"
             ],
             [
              0.6666666666666666,
              "#ed7953"
             ],
             [
              0.7777777777777778,
              "#fb9f3a"
             ],
             [
              0.8888888888888888,
              "#fdca26"
             ],
             [
              1,
              "#f0f921"
             ]
            ],
            "type": "heatmap"
           }
          ],
          "heatmapgl": [
           {
            "colorbar": {
             "outlinewidth": 0,
             "ticks": ""
            },
            "colorscale": [
             [
              0,
              "#0d0887"
             ],
             [
              0.1111111111111111,
              "#46039f"
             ],
             [
              0.2222222222222222,
              "#7201a8"
             ],
             [
              0.3333333333333333,
              "#9c179e"
             ],
             [
              0.4444444444444444,
              "#bd3786"
             ],
             [
              0.5555555555555556,
              "#d8576b"
             ],
             [
              0.6666666666666666,
              "#ed7953"
             ],
             [
              0.7777777777777778,
              "#fb9f3a"
             ],
             [
              0.8888888888888888,
              "#fdca26"
             ],
             [
              1,
              "#f0f921"
             ]
            ],
            "type": "heatmapgl"
           }
          ],
          "histogram": [
           {
            "marker": {
             "pattern": {
              "fillmode": "overlay",
              "size": 10,
              "solidity": 0.2
             }
            },
            "type": "histogram"
           }
          ],
          "histogram2d": [
           {
            "colorbar": {
             "outlinewidth": 0,
             "ticks": ""
            },
            "colorscale": [
             [
              0,
              "#0d0887"
             ],
             [
              0.1111111111111111,
              "#46039f"
             ],
             [
              0.2222222222222222,
              "#7201a8"
             ],
             [
              0.3333333333333333,
              "#9c179e"
             ],
             [
              0.4444444444444444,
              "#bd3786"
             ],
             [
              0.5555555555555556,
              "#d8576b"
             ],
             [
              0.6666666666666666,
              "#ed7953"
             ],
             [
              0.7777777777777778,
              "#fb9f3a"
             ],
             [
              0.8888888888888888,
              "#fdca26"
             ],
             [
              1,
              "#f0f921"
             ]
            ],
            "type": "histogram2d"
           }
          ],
          "histogram2dcontour": [
           {
            "colorbar": {
             "outlinewidth": 0,
             "ticks": ""
            },
            "colorscale": [
             [
              0,
              "#0d0887"
             ],
             [
              0.1111111111111111,
              "#46039f"
             ],
             [
              0.2222222222222222,
              "#7201a8"
             ],
             [
              0.3333333333333333,
              "#9c179e"
             ],
             [
              0.4444444444444444,
              "#bd3786"
             ],
             [
              0.5555555555555556,
              "#d8576b"
             ],
             [
              0.6666666666666666,
              "#ed7953"
             ],
             [
              0.7777777777777778,
              "#fb9f3a"
             ],
             [
              0.8888888888888888,
              "#fdca26"
             ],
             [
              1,
              "#f0f921"
             ]
            ],
            "type": "histogram2dcontour"
           }
          ],
          "mesh3d": [
           {
            "colorbar": {
             "outlinewidth": 0,
             "ticks": ""
            },
            "type": "mesh3d"
           }
          ],
          "parcoords": [
           {
            "line": {
             "colorbar": {
              "outlinewidth": 0,
              "ticks": ""
             }
            },
            "type": "parcoords"
           }
          ],
          "pie": [
           {
            "automargin": true,
            "type": "pie"
           }
          ],
          "scatter": [
           {
            "marker": {
             "colorbar": {
              "outlinewidth": 0,
              "ticks": ""
             }
            },
            "type": "scatter"
           }
          ],
          "scatter3d": [
           {
            "line": {
             "colorbar": {
              "outlinewidth": 0,
              "ticks": ""
             }
            },
            "marker": {
             "colorbar": {
              "outlinewidth": 0,
              "ticks": ""
             }
            },
            "type": "scatter3d"
           }
          ],
          "scattercarpet": [
           {
            "marker": {
             "colorbar": {
              "outlinewidth": 0,
              "ticks": ""
             }
            },
            "type": "scattercarpet"
           }
          ],
          "scattergeo": [
           {
            "marker": {
             "colorbar": {
              "outlinewidth": 0,
              "ticks": ""
             }
            },
            "type": "scattergeo"
           }
          ],
          "scattergl": [
           {
            "marker": {
             "colorbar": {
              "outlinewidth": 0,
              "ticks": ""
             }
            },
            "type": "scattergl"
           }
          ],
          "scattermapbox": [
           {
            "marker": {
             "colorbar": {
              "outlinewidth": 0,
              "ticks": ""
             }
            },
            "type": "scattermapbox"
           }
          ],
          "scatterpolar": [
           {
            "marker": {
             "colorbar": {
              "outlinewidth": 0,
              "ticks": ""
             }
            },
            "type": "scatterpolar"
           }
          ],
          "scatterpolargl": [
           {
            "marker": {
             "colorbar": {
              "outlinewidth": 0,
              "ticks": ""
             }
            },
            "type": "scatterpolargl"
           }
          ],
          "scatterternary": [
           {
            "marker": {
             "colorbar": {
              "outlinewidth": 0,
              "ticks": ""
             }
            },
            "type": "scatterternary"
           }
          ],
          "surface": [
           {
            "colorbar": {
             "outlinewidth": 0,
             "ticks": ""
            },
            "colorscale": [
             [
              0,
              "#0d0887"
             ],
             [
              0.1111111111111111,
              "#46039f"
             ],
             [
              0.2222222222222222,
              "#7201a8"
             ],
             [
              0.3333333333333333,
              "#9c179e"
             ],
             [
              0.4444444444444444,
              "#bd3786"
             ],
             [
              0.5555555555555556,
              "#d8576b"
             ],
             [
              0.6666666666666666,
              "#ed7953"
             ],
             [
              0.7777777777777778,
              "#fb9f3a"
             ],
             [
              0.8888888888888888,
              "#fdca26"
             ],
             [
              1,
              "#f0f921"
             ]
            ],
            "type": "surface"
           }
          ],
          "table": [
           {
            "cells": {
             "fill": {
              "color": "#EBF0F8"
             },
             "line": {
              "color": "white"
             }
            },
            "header": {
             "fill": {
              "color": "#C8D4E3"
             },
             "line": {
              "color": "white"
             }
            },
            "type": "table"
           }
          ]
         },
         "layout": {
          "annotationdefaults": {
           "arrowcolor": "#2a3f5f",
           "arrowhead": 0,
           "arrowwidth": 1
          },
          "autotypenumbers": "strict",
          "coloraxis": {
           "colorbar": {
            "outlinewidth": 0,
            "ticks": ""
           }
          },
          "colorscale": {
           "diverging": [
            [
             0,
             "#8e0152"
            ],
            [
             0.1,
             "#c51b7d"
            ],
            [
             0.2,
             "#de77ae"
            ],
            [
             0.3,
             "#f1b6da"
            ],
            [
             0.4,
             "#fde0ef"
            ],
            [
             0.5,
             "#f7f7f7"
            ],
            [
             0.6,
             "#e6f5d0"
            ],
            [
             0.7,
             "#b8e186"
            ],
            [
             0.8,
             "#7fbc41"
            ],
            [
             0.9,
             "#4d9221"
            ],
            [
             1,
             "#276419"
            ]
           ],
           "sequential": [
            [
             0,
             "#0d0887"
            ],
            [
             0.1111111111111111,
             "#46039f"
            ],
            [
             0.2222222222222222,
             "#7201a8"
            ],
            [
             0.3333333333333333,
             "#9c179e"
            ],
            [
             0.4444444444444444,
             "#bd3786"
            ],
            [
             0.5555555555555556,
             "#d8576b"
            ],
            [
             0.6666666666666666,
             "#ed7953"
            ],
            [
             0.7777777777777778,
             "#fb9f3a"
            ],
            [
             0.8888888888888888,
             "#fdca26"
            ],
            [
             1,
             "#f0f921"
            ]
           ],
           "sequentialminus": [
            [
             0,
             "#0d0887"
            ],
            [
             0.1111111111111111,
             "#46039f"
            ],
            [
             0.2222222222222222,
             "#7201a8"
            ],
            [
             0.3333333333333333,
             "#9c179e"
            ],
            [
             0.4444444444444444,
             "#bd3786"
            ],
            [
             0.5555555555555556,
             "#d8576b"
            ],
            [
             0.6666666666666666,
             "#ed7953"
            ],
            [
             0.7777777777777778,
             "#fb9f3a"
            ],
            [
             0.8888888888888888,
             "#fdca26"
            ],
            [
             1,
             "#f0f921"
            ]
           ]
          },
          "colorway": [
           "#636efa",
           "#EF553B",
           "#00cc96",
           "#ab63fa",
           "#FFA15A",
           "#19d3f3",
           "#FF6692",
           "#B6E880",
           "#FF97FF",
           "#FECB52"
          ],
          "font": {
           "color": "#2a3f5f"
          },
          "geo": {
           "bgcolor": "white",
           "lakecolor": "white",
           "landcolor": "#E5ECF6",
           "showlakes": true,
           "showland": true,
           "subunitcolor": "white"
          },
          "hoverlabel": {
           "align": "left"
          },
          "hovermode": "closest",
          "mapbox": {
           "style": "light"
          },
          "paper_bgcolor": "white",
          "plot_bgcolor": "#E5ECF6",
          "polar": {
           "angularaxis": {
            "gridcolor": "white",
            "linecolor": "white",
            "ticks": ""
           },
           "bgcolor": "#E5ECF6",
           "radialaxis": {
            "gridcolor": "white",
            "linecolor": "white",
            "ticks": ""
           }
          },
          "scene": {
           "xaxis": {
            "backgroundcolor": "#E5ECF6",
            "gridcolor": "white",
            "gridwidth": 2,
            "linecolor": "white",
            "showbackground": true,
            "ticks": "",
            "zerolinecolor": "white"
           },
           "yaxis": {
            "backgroundcolor": "#E5ECF6",
            "gridcolor": "white",
            "gridwidth": 2,
            "linecolor": "white",
            "showbackground": true,
            "ticks": "",
            "zerolinecolor": "white"
           },
           "zaxis": {
            "backgroundcolor": "#E5ECF6",
            "gridcolor": "white",
            "gridwidth": 2,
            "linecolor": "white",
            "showbackground": true,
            "ticks": "",
            "zerolinecolor": "white"
           }
          },
          "shapedefaults": {
           "line": {
            "color": "#2a3f5f"
           }
          },
          "ternary": {
           "aaxis": {
            "gridcolor": "white",
            "linecolor": "white",
            "ticks": ""
           },
           "baxis": {
            "gridcolor": "white",
            "linecolor": "white",
            "ticks": ""
           },
           "bgcolor": "#E5ECF6",
           "caxis": {
            "gridcolor": "white",
            "linecolor": "white",
            "ticks": ""
           }
          },
          "title": {
           "x": 0.05
          },
          "xaxis": {
           "automargin": true,
           "gridcolor": "white",
           "linecolor": "white",
           "ticks": "",
           "title": {
            "standoff": 15
           },
           "zerolinecolor": "white",
           "zerolinewidth": 2
          },
          "yaxis": {
           "automargin": true,
           "gridcolor": "white",
           "linecolor": "white",
           "ticks": "",
           "title": {
            "standoff": 15
           },
           "zerolinecolor": "white",
           "zerolinewidth": 2
          }
         }
        },
        "title": {
         "text": "FDI by Country in 2019 (preliminary values)"
        }
       }
      }
     },
     "metadata": {},
     "output_type": "display_data"
    }
   ],
   "source": [
    "fig6 = px.pie(df_FDICountry2.set_index('index').T.reset_index(), values = 2019,names = \"Countries\", title = \"FDI by Country in 2019 (preliminary values)\", height = 750)\n",
    "fig6.update_traces(textposition='inside', textinfo='percent+label')\n",
    "fig6.show()"
   ]
  },
  {
   "cell_type": "code",
   "execution_count": 29,
   "id": "0f02c69f",
   "metadata": {},
   "outputs": [
    {
     "data": {
      "application/vnd.plotly.v1+json": {
       "config": {
        "plotlyServerURL": "https://plot.ly"
       },
       "data": [
        {
         "domain": {
          "x": [
           0,
           1
          ],
          "y": [
           0,
           1
          ]
         },
         "hovertemplate": "Countries=%{label}<br>2021=%{value}<extra></extra>",
         "labels": [
          "Austria",
          "Belgium",
          "Bulgaria",
          "Croatia",
          "Cyprus",
          "Czech Republic",
          "Denmark",
          "Estonia",
          "Finland",
          "France",
          "Germany",
          "Greece",
          "Hungary",
          "Ireland",
          "Italy",
          "Latvia",
          "Lithuania (Lietuva)",
          "Luxembourg",
          "Malta",
          "Netherlands",
          "Poland",
          "Portugal",
          "Romania",
          "Slovakia",
          "Slovenia",
          "Spain",
          "Sweden",
          "Azerbaijan",
          "Armenia",
          "Belarus",
          "Kazakhstan",
          "Kyrgyzstan",
          "Moldova",
          "Russia",
          "Turkmenistan",
          "Ukraine",
          "Uzbekistan",
          "Argentina",
          "Australia",
          "Bahamas",
          "Belize",
          "Virgin Islands, British",
          "Canada",
          "Cayman Islands",
          "China",
          "Gibraltar",
          "Hong Kong, SAR of China",
          "Iceland",
          "India",
          "Iran",
          "Iraq",
          "Israel",
          "Japan",
          "Jordan",
          "Korea",
          "Lebanon",
          "Libya",
          "Liechtenstein",
          "Mauritius",
          "Norway",
          "Marshall Islands",
          "Panama",
          "Philippines",
          "Qatar",
          "Saint Kitts and Nevis",
          "Saudi Arabia",
          "Seychelles",
          "Switzerland",
          "Syrian",
          "United Arab Emirates",
          "Turkey",
          "Egypt",
          "United Kingdom",
          "United States",
          "Unknown",
          "International Organizations"
         ],
         "legendgroup": "",
         "name": "",
         "showlegend": true,
         "textinfo": "percent+label",
         "textposition": "inside",
         "type": "pie",
         "values": [
          5937.884600000001,
          2079.7791,
          4050.1763999999994,
          48.29650000000001,
          -27719.5973,
          81771.26280000001,
          1945.052899999997,
          9139.9679,
          206.88430000000002,
          18697.264599999995,
          31601.92470000001,
          982.0949,
          2803.9716000000003,
          590.7387,
          1876.8716000000002,
          4992.1502,
          3439.5586,
          40996.8202,
          5803.967800000002,
          125911.925,
          5261.286999999999,
          459.03330000000005,
          192.1103,
          -7161.4534,
          52.9576,
          10040.5401,
          3876.176200000001,
          207.3744000000006,
          7094.7468,
          562.7729999999999,
          11020.030700000001,
          -24393.822299999996,
          379.98249999999996,
          58583.67019999996,
          1945.8577,
          10717.9004,
          2084.0817,
          -0.5505,
          2095.7920000000004,
          89.563,
          -39777.6033,
          -11596.602299999997,
          724.4779,
          2508.4376,
          19259.866800000003,
          -1410.7389,
          2184.7160000000003,
          34.045100000000005,
          8931.287100000001,
          1291.7235,
          -4396.5413,
          9274.351100000002,
          3635.918399999995,
          809.4219,
          2967.1687999999995,
          930.8565000000001,
          9.4633,
          -338.3963,
          -217.6058,
          1169.6045,
          21316.3262,
          -7667.651099999997,
          110.7399,
          3161.708,
          3087.6737000000003,
          -9892.1331,
          19827.779,
          6481.784500000002,
          2.744500000000004,
          34798.97320000001,
          64730.56399999998,
          2740.4529,
          596616.9694,
          6150.9767999999785,
          0,
          3690.0591000000013
         ]
        }
       ],
       "layout": {
        "height": 750,
        "legend": {
         "tracegroupgap": 0
        },
        "template": {
         "data": {
          "bar": [
           {
            "error_x": {
             "color": "#2a3f5f"
            },
            "error_y": {
             "color": "#2a3f5f"
            },
            "marker": {
             "line": {
              "color": "#E5ECF6",
              "width": 0.5
             },
             "pattern": {
              "fillmode": "overlay",
              "size": 10,
              "solidity": 0.2
             }
            },
            "type": "bar"
           }
          ],
          "barpolar": [
           {
            "marker": {
             "line": {
              "color": "#E5ECF6",
              "width": 0.5
             },
             "pattern": {
              "fillmode": "overlay",
              "size": 10,
              "solidity": 0.2
             }
            },
            "type": "barpolar"
           }
          ],
          "carpet": [
           {
            "aaxis": {
             "endlinecolor": "#2a3f5f",
             "gridcolor": "white",
             "linecolor": "white",
             "minorgridcolor": "white",
             "startlinecolor": "#2a3f5f"
            },
            "baxis": {
             "endlinecolor": "#2a3f5f",
             "gridcolor": "white",
             "linecolor": "white",
             "minorgridcolor": "white",
             "startlinecolor": "#2a3f5f"
            },
            "type": "carpet"
           }
          ],
          "choropleth": [
           {
            "colorbar": {
             "outlinewidth": 0,
             "ticks": ""
            },
            "type": "choropleth"
           }
          ],
          "contour": [
           {
            "colorbar": {
             "outlinewidth": 0,
             "ticks": ""
            },
            "colorscale": [
             [
              0,
              "#0d0887"
             ],
             [
              0.1111111111111111,
              "#46039f"
             ],
             [
              0.2222222222222222,
              "#7201a8"
             ],
             [
              0.3333333333333333,
              "#9c179e"
             ],
             [
              0.4444444444444444,
              "#bd3786"
             ],
             [
              0.5555555555555556,
              "#d8576b"
             ],
             [
              0.6666666666666666,
              "#ed7953"
             ],
             [
              0.7777777777777778,
              "#fb9f3a"
             ],
             [
              0.8888888888888888,
              "#fdca26"
             ],
             [
              1,
              "#f0f921"
             ]
            ],
            "type": "contour"
           }
          ],
          "contourcarpet": [
           {
            "colorbar": {
             "outlinewidth": 0,
             "ticks": ""
            },
            "type": "contourcarpet"
           }
          ],
          "heatmap": [
           {
            "colorbar": {
             "outlinewidth": 0,
             "ticks": ""
            },
            "colorscale": [
             [
              0,
              "#0d0887"
             ],
             [
              0.1111111111111111,
              "#46039f"
             ],
             [
              0.2222222222222222,
              "#7201a8"
             ],
             [
              0.3333333333333333,
              "#9c179e"
             ],
             [
              0.4444444444444444,
              "#bd3786"
             ],
             [
              0.5555555555555556,
              "#d8576b"
             ],
             [
              0.6666666666666666,
              "#ed7953"
             ],
             [
              0.7777777777777778,
              "#fb9f3a"
             ],
             [
              0.8888888888888888,
              "#fdca26"
             ],
             [
              1,
              "#f0f921"
             ]
            ],
            "type": "heatmap"
           }
          ],
          "heatmapgl": [
           {
            "colorbar": {
             "outlinewidth": 0,
             "ticks": ""
            },
            "colorscale": [
             [
              0,
              "#0d0887"
             ],
             [
              0.1111111111111111,
              "#46039f"
             ],
             [
              0.2222222222222222,
              "#7201a8"
             ],
             [
              0.3333333333333333,
              "#9c179e"
             ],
             [
              0.4444444444444444,
              "#bd3786"
             ],
             [
              0.5555555555555556,
              "#d8576b"
             ],
             [
              0.6666666666666666,
              "#ed7953"
             ],
             [
              0.7777777777777778,
              "#fb9f3a"
             ],
             [
              0.8888888888888888,
              "#fdca26"
             ],
             [
              1,
              "#f0f921"
             ]
            ],
            "type": "heatmapgl"
           }
          ],
          "histogram": [
           {
            "marker": {
             "pattern": {
              "fillmode": "overlay",
              "size": 10,
              "solidity": 0.2
             }
            },
            "type": "histogram"
           }
          ],
          "histogram2d": [
           {
            "colorbar": {
             "outlinewidth": 0,
             "ticks": ""
            },
            "colorscale": [
             [
              0,
              "#0d0887"
             ],
             [
              0.1111111111111111,
              "#46039f"
             ],
             [
              0.2222222222222222,
              "#7201a8"
             ],
             [
              0.3333333333333333,
              "#9c179e"
             ],
             [
              0.4444444444444444,
              "#bd3786"
             ],
             [
              0.5555555555555556,
              "#d8576b"
             ],
             [
              0.6666666666666666,
              "#ed7953"
             ],
             [
              0.7777777777777778,
              "#fb9f3a"
             ],
             [
              0.8888888888888888,
              "#fdca26"
             ],
             [
              1,
              "#f0f921"
             ]
            ],
            "type": "histogram2d"
           }
          ],
          "histogram2dcontour": [
           {
            "colorbar": {
             "outlinewidth": 0,
             "ticks": ""
            },
            "colorscale": [
             [
              0,
              "#0d0887"
             ],
             [
              0.1111111111111111,
              "#46039f"
             ],
             [
              0.2222222222222222,
              "#7201a8"
             ],
             [
              0.3333333333333333,
              "#9c179e"
             ],
             [
              0.4444444444444444,
              "#bd3786"
             ],
             [
              0.5555555555555556,
              "#d8576b"
             ],
             [
              0.6666666666666666,
              "#ed7953"
             ],
             [
              0.7777777777777778,
              "#fb9f3a"
             ],
             [
              0.8888888888888888,
              "#fdca26"
             ],
             [
              1,
              "#f0f921"
             ]
            ],
            "type": "histogram2dcontour"
           }
          ],
          "mesh3d": [
           {
            "colorbar": {
             "outlinewidth": 0,
             "ticks": ""
            },
            "type": "mesh3d"
           }
          ],
          "parcoords": [
           {
            "line": {
             "colorbar": {
              "outlinewidth": 0,
              "ticks": ""
             }
            },
            "type": "parcoords"
           }
          ],
          "pie": [
           {
            "automargin": true,
            "type": "pie"
           }
          ],
          "scatter": [
           {
            "marker": {
             "colorbar": {
              "outlinewidth": 0,
              "ticks": ""
             }
            },
            "type": "scatter"
           }
          ],
          "scatter3d": [
           {
            "line": {
             "colorbar": {
              "outlinewidth": 0,
              "ticks": ""
             }
            },
            "marker": {
             "colorbar": {
              "outlinewidth": 0,
              "ticks": ""
             }
            },
            "type": "scatter3d"
           }
          ],
          "scattercarpet": [
           {
            "marker": {
             "colorbar": {
              "outlinewidth": 0,
              "ticks": ""
             }
            },
            "type": "scattercarpet"
           }
          ],
          "scattergeo": [
           {
            "marker": {
             "colorbar": {
              "outlinewidth": 0,
              "ticks": ""
             }
            },
            "type": "scattergeo"
           }
          ],
          "scattergl": [
           {
            "marker": {
             "colorbar": {
              "outlinewidth": 0,
              "ticks": ""
             }
            },
            "type": "scattergl"
           }
          ],
          "scattermapbox": [
           {
            "marker": {
             "colorbar": {
              "outlinewidth": 0,
              "ticks": ""
             }
            },
            "type": "scattermapbox"
           }
          ],
          "scatterpolar": [
           {
            "marker": {
             "colorbar": {
              "outlinewidth": 0,
              "ticks": ""
             }
            },
            "type": "scatterpolar"
           }
          ],
          "scatterpolargl": [
           {
            "marker": {
             "colorbar": {
              "outlinewidth": 0,
              "ticks": ""
             }
            },
            "type": "scatterpolargl"
           }
          ],
          "scatterternary": [
           {
            "marker": {
             "colorbar": {
              "outlinewidth": 0,
              "ticks": ""
             }
            },
            "type": "scatterternary"
           }
          ],
          "surface": [
           {
            "colorbar": {
             "outlinewidth": 0,
             "ticks": ""
            },
            "colorscale": [
             [
              0,
              "#0d0887"
             ],
             [
              0.1111111111111111,
              "#46039f"
             ],
             [
              0.2222222222222222,
              "#7201a8"
             ],
             [
              0.3333333333333333,
              "#9c179e"
             ],
             [
              0.4444444444444444,
              "#bd3786"
             ],
             [
              0.5555555555555556,
              "#d8576b"
             ],
             [
              0.6666666666666666,
              "#ed7953"
             ],
             [
              0.7777777777777778,
              "#fb9f3a"
             ],
             [
              0.8888888888888888,
              "#fdca26"
             ],
             [
              1,
              "#f0f921"
             ]
            ],
            "type": "surface"
           }
          ],
          "table": [
           {
            "cells": {
             "fill": {
              "color": "#EBF0F8"
             },
             "line": {
              "color": "white"
             }
            },
            "header": {
             "fill": {
              "color": "#C8D4E3"
             },
             "line": {
              "color": "white"
             }
            },
            "type": "table"
           }
          ]
         },
         "layout": {
          "annotationdefaults": {
           "arrowcolor": "#2a3f5f",
           "arrowhead": 0,
           "arrowwidth": 1
          },
          "autotypenumbers": "strict",
          "coloraxis": {
           "colorbar": {
            "outlinewidth": 0,
            "ticks": ""
           }
          },
          "colorscale": {
           "diverging": [
            [
             0,
             "#8e0152"
            ],
            [
             0.1,
             "#c51b7d"
            ],
            [
             0.2,
             "#de77ae"
            ],
            [
             0.3,
             "#f1b6da"
            ],
            [
             0.4,
             "#fde0ef"
            ],
            [
             0.5,
             "#f7f7f7"
            ],
            [
             0.6,
             "#e6f5d0"
            ],
            [
             0.7,
             "#b8e186"
            ],
            [
             0.8,
             "#7fbc41"
            ],
            [
             0.9,
             "#4d9221"
            ],
            [
             1,
             "#276419"
            ]
           ],
           "sequential": [
            [
             0,
             "#0d0887"
            ],
            [
             0.1111111111111111,
             "#46039f"
            ],
            [
             0.2222222222222222,
             "#7201a8"
            ],
            [
             0.3333333333333333,
             "#9c179e"
            ],
            [
             0.4444444444444444,
             "#bd3786"
            ],
            [
             0.5555555555555556,
             "#d8576b"
            ],
            [
             0.6666666666666666,
             "#ed7953"
            ],
            [
             0.7777777777777778,
             "#fb9f3a"
            ],
            [
             0.8888888888888888,
             "#fdca26"
            ],
            [
             1,
             "#f0f921"
            ]
           ],
           "sequentialminus": [
            [
             0,
             "#0d0887"
            ],
            [
             0.1111111111111111,
             "#46039f"
            ],
            [
             0.2222222222222222,
             "#7201a8"
            ],
            [
             0.3333333333333333,
             "#9c179e"
            ],
            [
             0.4444444444444444,
             "#bd3786"
            ],
            [
             0.5555555555555556,
             "#d8576b"
            ],
            [
             0.6666666666666666,
             "#ed7953"
            ],
            [
             0.7777777777777778,
             "#fb9f3a"
            ],
            [
             0.8888888888888888,
             "#fdca26"
            ],
            [
             1,
             "#f0f921"
            ]
           ]
          },
          "colorway": [
           "#636efa",
           "#EF553B",
           "#00cc96",
           "#ab63fa",
           "#FFA15A",
           "#19d3f3",
           "#FF6692",
           "#B6E880",
           "#FF97FF",
           "#FECB52"
          ],
          "font": {
           "color": "#2a3f5f"
          },
          "geo": {
           "bgcolor": "white",
           "lakecolor": "white",
           "landcolor": "#E5ECF6",
           "showlakes": true,
           "showland": true,
           "subunitcolor": "white"
          },
          "hoverlabel": {
           "align": "left"
          },
          "hovermode": "closest",
          "mapbox": {
           "style": "light"
          },
          "paper_bgcolor": "white",
          "plot_bgcolor": "#E5ECF6",
          "polar": {
           "angularaxis": {
            "gridcolor": "white",
            "linecolor": "white",
            "ticks": ""
           },
           "bgcolor": "#E5ECF6",
           "radialaxis": {
            "gridcolor": "white",
            "linecolor": "white",
            "ticks": ""
           }
          },
          "scene": {
           "xaxis": {
            "backgroundcolor": "#E5ECF6",
            "gridcolor": "white",
            "gridwidth": 2,
            "linecolor": "white",
            "showbackground": true,
            "ticks": "",
            "zerolinecolor": "white"
           },
           "yaxis": {
            "backgroundcolor": "#E5ECF6",
            "gridcolor": "white",
            "gridwidth": 2,
            "linecolor": "white",
            "showbackground": true,
            "ticks": "",
            "zerolinecolor": "white"
           },
           "zaxis": {
            "backgroundcolor": "#E5ECF6",
            "gridcolor": "white",
            "gridwidth": 2,
            "linecolor": "white",
            "showbackground": true,
            "ticks": "",
            "zerolinecolor": "white"
           }
          },
          "shapedefaults": {
           "line": {
            "color": "#2a3f5f"
           }
          },
          "ternary": {
           "aaxis": {
            "gridcolor": "white",
            "linecolor": "white",
            "ticks": ""
           },
           "baxis": {
            "gridcolor": "white",
            "linecolor": "white",
            "ticks": ""
           },
           "bgcolor": "#E5ECF6",
           "caxis": {
            "gridcolor": "white",
            "linecolor": "white",
            "ticks": ""
           }
          },
          "title": {
           "x": 0.05
          },
          "xaxis": {
           "automargin": true,
           "gridcolor": "white",
           "linecolor": "white",
           "ticks": "",
           "title": {
            "standoff": 15
           },
           "zerolinecolor": "white",
           "zerolinewidth": 2
          },
          "yaxis": {
           "automargin": true,
           "gridcolor": "white",
           "linecolor": "white",
           "ticks": "",
           "title": {
            "standoff": 15
           },
           "zerolinecolor": "white",
           "zerolinewidth": 2
          }
         }
        },
        "title": {
         "text": "FDI by Country in 2019 (preliminary values)"
        }
       }
      }
     },
     "metadata": {},
     "output_type": "display_data"
    }
   ],
   "source": [
    "fig7 = px.pie(df_FDICountry2.set_index('index').T.reset_index(), values = 2021,names = \"Countries\", title = \"FDI by Country in 2019 (preliminary values)\", height = 750)\n",
    "fig7.update_traces(textposition='inside', textinfo='percent+label')\n",
    "fig7.show()"
   ]
  },
  {
   "cell_type": "code",
   "execution_count": 30,
   "id": "c30cd11d",
   "metadata": {},
   "outputs": [],
   "source": [
    "df_FDICountry.to_pickle('df_FDICountryAndRegion.pkl')\n",
    "df_FDICountry2.to_pickle('df_FDICountryOnly')"
   ]
  },
  {
   "cell_type": "markdown",
   "id": "be0d83ed",
   "metadata": {},
   "source": [
    "# GDP"
   ]
  },
  {
   "cell_type": "code",
   "execution_count": 2,
   "id": "f2cf11cc",
   "metadata": {},
   "outputs": [],
   "source": [
    "url_RealGDP=\"https://geostat.ge/media/44078/GDP-at-constant-prices.xlsx\" #reference value is 2015\n",
    "import openpyxl\n",
    "df_RealGDP = pd.read_excel(url_RealGDP, sheet_name = \"GDP at constat 2015 prices\",header = 1, skipfooter=2)"
   ]
  },
  {
   "cell_type": "code",
   "execution_count": 3,
   "id": "5b01d8bd",
   "metadata": {},
   "outputs": [],
   "source": [
    "df_RealGDP.rename(columns={\"2021*\":2021}, inplace = True)"
   ]
  },
  {
   "cell_type": "code",
   "execution_count": 4,
   "id": "0c4bc3dd",
   "metadata": {},
   "outputs": [
    {
     "data": {
      "text/plain": [
       "(28, 62)"
      ]
     },
     "execution_count": 4,
     "metadata": {},
     "output_type": "execute_result"
    }
   ],
   "source": [
    "df_RealGDP.shape"
   ]
  },
  {
   "cell_type": "code",
   "execution_count": 5,
   "id": "7054be68",
   "metadata": {},
   "outputs": [
    {
     "data": {
      "text/plain": [
       "NACE \\nRev.2            object\n",
       "Economic Activities     object\n",
       "I 10                   float64\n",
       "II 10                  float64\n",
       "III 10                 float64\n",
       "                        ...   \n",
       "I 21*                  float64\n",
       "II 21*                 float64\n",
       "III 21*                float64\n",
       "IV 21*                 float64\n",
       "2021                   float64\n",
       "Length: 62, dtype: object"
      ]
     },
     "execution_count": 5,
     "metadata": {},
     "output_type": "execute_result"
    }
   ],
   "source": [
    "df_RealGDP.dtypes"
   ]
  },
  {
   "cell_type": "code",
   "execution_count": 6,
   "id": "8b497eec",
   "metadata": {},
   "outputs": [],
   "source": [
    "cols =[\"Economic Activities\"]\n",
    "for helperVar in range(6,62, 5):\n",
    "    cols.append(df_RealGDP.columns[helperVar])\n",
    "\n",
    "\n",
    "#[column_name for column_name in df_RealGDP.columns if column_name != 'I*'] \n",
    "df_RealGDP_Ann = df_RealGDP[cols]\n"
   ]
  },
  {
   "cell_type": "code",
   "execution_count": 7,
   "id": "b0db9781",
   "metadata": {},
   "outputs": [
    {
     "data": {
      "text/html": [
       "<div>\n",
       "<style scoped>\n",
       "    .dataframe tbody tr th:only-of-type {\n",
       "        vertical-align: middle;\n",
       "    }\n",
       "\n",
       "    .dataframe tbody tr th {\n",
       "        vertical-align: top;\n",
       "    }\n",
       "\n",
       "    .dataframe thead th {\n",
       "        text-align: right;\n",
       "    }\n",
       "</style>\n",
       "<table border=\"1\" class=\"dataframe\">\n",
       "  <thead>\n",
       "    <tr style=\"text-align: right;\">\n",
       "      <th></th>\n",
       "      <th>Economic Activities</th>\n",
       "      <th>2010</th>\n",
       "      <th>2011</th>\n",
       "      <th>2012</th>\n",
       "      <th>2013</th>\n",
       "      <th>2014</th>\n",
       "      <th>2015</th>\n",
       "      <th>2016</th>\n",
       "      <th>2017</th>\n",
       "      <th>2018</th>\n",
       "      <th>2019</th>\n",
       "      <th>2020</th>\n",
       "      <th>2021</th>\n",
       "    </tr>\n",
       "  </thead>\n",
       "  <tbody>\n",
       "    <tr>\n",
       "      <th>23</th>\n",
       "      <td>(=) GDP at market prices</td>\n",
       "      <td>26640.664350</td>\n",
       "      <td>28601.593505</td>\n",
       "      <td>30436.893887</td>\n",
       "      <td>31537.356136</td>\n",
       "      <td>32938.103074</td>\n",
       "      <td>33935.015583</td>\n",
       "      <td>34921.107495</td>\n",
       "      <td>36612.463501</td>\n",
       "      <td>38385.509177</td>\n",
       "      <td>40298.009769</td>\n",
       "      <td>37573.687129</td>\n",
       "      <td>41465.923810</td>\n",
       "    </tr>\n",
       "    <tr>\n",
       "      <th>24</th>\n",
       "      <td>GDP per capita in GEL</td>\n",
       "      <td>7035.334071</td>\n",
       "      <td>7614.014785</td>\n",
       "      <td>8162.490330</td>\n",
       "      <td>8483.102950</td>\n",
       "      <td>8855.724988</td>\n",
       "      <td>9109.396346</td>\n",
       "      <td>9368.493804</td>\n",
       "      <td>9820.930560</td>\n",
       "      <td>10300.552690</td>\n",
       "      <td>10832.329507</td>\n",
       "      <td>10093.085848</td>\n",
       "      <td>11121.124304</td>\n",
       "    </tr>\n",
       "    <tr>\n",
       "      <th>25</th>\n",
       "      <td>GDP per capita, USD</td>\n",
       "      <td>3946.648842</td>\n",
       "      <td>4515.907793</td>\n",
       "      <td>4943.183803</td>\n",
       "      <td>5099.802053</td>\n",
       "      <td>5014.972932</td>\n",
       "      <td>4012.633687</td>\n",
       "      <td>3958.435794</td>\n",
       "      <td>3914.849797</td>\n",
       "      <td>4064.067905</td>\n",
       "      <td>3842.399129</td>\n",
       "      <td>3245.681164</td>\n",
       "      <td>3452.768818</td>\n",
       "    </tr>\n",
       "    <tr>\n",
       "      <th>26</th>\n",
       "      <td>GDP in mil. USD</td>\n",
       "      <td>14944.755438</td>\n",
       "      <td>16963.738928</td>\n",
       "      <td>18432.507089</td>\n",
       "      <td>18959.368347</td>\n",
       "      <td>18652.758026</td>\n",
       "      <td>14948.167971</td>\n",
       "      <td>14755.089213</td>\n",
       "      <td>14594.573743</td>\n",
       "      <td>15144.946157</td>\n",
       "      <td>14294.343386</td>\n",
       "      <td>12082.747578</td>\n",
       "      <td>12873.900590</td>\n",
       "    </tr>\n",
       "    <tr>\n",
       "      <th>27</th>\n",
       "      <td>Exchange rate, USD/GEL, average of the same pe...</td>\n",
       "      <td>1.782610</td>\n",
       "      <td>1.686043</td>\n",
       "      <td>1.651262</td>\n",
       "      <td>1.663418</td>\n",
       "      <td>1.765857</td>\n",
       "      <td>2.270179</td>\n",
       "      <td>2.366716</td>\n",
       "      <td>2.508635</td>\n",
       "      <td>2.534542</td>\n",
       "      <td>2.819158</td>\n",
       "      <td>3.109697</td>\n",
       "      <td>3.220929</td>\n",
       "    </tr>\n",
       "  </tbody>\n",
       "</table>\n",
       "</div>"
      ],
      "text/plain": [
       "                                  Economic Activities          2010  \\\n",
       "23                           (=) GDP at market prices  26640.664350   \n",
       "24                              GDP per capita in GEL   7035.334071   \n",
       "25                                GDP per capita, USD   3946.648842   \n",
       "26                                    GDP in mil. USD  14944.755438   \n",
       "27  Exchange rate, USD/GEL, average of the same pe...      1.782610   \n",
       "\n",
       "            2011          2012          2013          2014          2015  \\\n",
       "23  28601.593505  30436.893887  31537.356136  32938.103074  33935.015583   \n",
       "24   7614.014785   8162.490330   8483.102950   8855.724988   9109.396346   \n",
       "25   4515.907793   4943.183803   5099.802053   5014.972932   4012.633687   \n",
       "26  16963.738928  18432.507089  18959.368347  18652.758026  14948.167971   \n",
       "27      1.686043      1.651262      1.663418      1.765857      2.270179   \n",
       "\n",
       "            2016          2017          2018          2019          2020  \\\n",
       "23  34921.107495  36612.463501  38385.509177  40298.009769  37573.687129   \n",
       "24   9368.493804   9820.930560  10300.552690  10832.329507  10093.085848   \n",
       "25   3958.435794   3914.849797   4064.067905   3842.399129   3245.681164   \n",
       "26  14755.089213  14594.573743  15144.946157  14294.343386  12082.747578   \n",
       "27      2.366716      2.508635      2.534542      2.819158      3.109697   \n",
       "\n",
       "            2021  \n",
       "23  41465.923810  \n",
       "24  11121.124304  \n",
       "25   3452.768818  \n",
       "26  12873.900590  \n",
       "27      3.220929  "
      ]
     },
     "execution_count": 7,
     "metadata": {},
     "output_type": "execute_result"
    }
   ],
   "source": [
    "df_RealGDP_Ann.tail()"
   ]
  },
  {
   "cell_type": "code",
   "execution_count": 8,
   "id": "991c6559",
   "metadata": {},
   "outputs": [],
   "source": [
    "df_RealGDP_Ann.index.rename(\"Year\", inplace= True)"
   ]
  },
  {
   "cell_type": "code",
   "execution_count": 9,
   "id": "624f7485",
   "metadata": {},
   "outputs": [],
   "source": [
    "df_RealGDP_Ann =  df_RealGDP_Ann.set_index(\"Economic Activities\").T.reset_index().rename(columns={\"index\":\"Year\"})"
   ]
  },
  {
   "cell_type": "code",
   "execution_count": 10,
   "id": "ed327f32",
   "metadata": {},
   "outputs": [
    {
     "data": {
      "application/vnd.plotly.v1+json": {
       "config": {
        "plotlyServerURL": "https://plot.ly"
       },
       "data": [
        {
         "hovertemplate": "Year=%{x}<br>GDP in mil. USD=%{y}<extra></extra>",
         "legendgroup": "",
         "line": {
          "color": "#636efa",
          "dash": "solid"
         },
         "marker": {
          "symbol": "circle"
         },
         "mode": "lines",
         "name": "",
         "orientation": "v",
         "showlegend": false,
         "type": "scatter",
         "x": [
          2010,
          2011,
          2012,
          2013,
          2014,
          2015,
          2016,
          2017,
          2018,
          2019,
          2020,
          2021
         ],
         "xaxis": "x",
         "y": [
          14944.755437998567,
          16963.738927728173,
          18432.507088888262,
          18959.36834744878,
          18652.758026175426,
          14948.167971026842,
          14755.089212854793,
          14594.57374344356,
          15144.94615707562,
          14294.343385813541,
          12082.747577514816,
          12873.900590151074
         ],
         "yaxis": "y"
        }
       ],
       "layout": {
        "legend": {
         "tracegroupgap": 0
        },
        "margin": {
         "t": 60
        },
        "template": {
         "data": {
          "bar": [
           {
            "error_x": {
             "color": "#2a3f5f"
            },
            "error_y": {
             "color": "#2a3f5f"
            },
            "marker": {
             "line": {
              "color": "#E5ECF6",
              "width": 0.5
             },
             "pattern": {
              "fillmode": "overlay",
              "size": 10,
              "solidity": 0.2
             }
            },
            "type": "bar"
           }
          ],
          "barpolar": [
           {
            "marker": {
             "line": {
              "color": "#E5ECF6",
              "width": 0.5
             },
             "pattern": {
              "fillmode": "overlay",
              "size": 10,
              "solidity": 0.2
             }
            },
            "type": "barpolar"
           }
          ],
          "carpet": [
           {
            "aaxis": {
             "endlinecolor": "#2a3f5f",
             "gridcolor": "white",
             "linecolor": "white",
             "minorgridcolor": "white",
             "startlinecolor": "#2a3f5f"
            },
            "baxis": {
             "endlinecolor": "#2a3f5f",
             "gridcolor": "white",
             "linecolor": "white",
             "minorgridcolor": "white",
             "startlinecolor": "#2a3f5f"
            },
            "type": "carpet"
           }
          ],
          "choropleth": [
           {
            "colorbar": {
             "outlinewidth": 0,
             "ticks": ""
            },
            "type": "choropleth"
           }
          ],
          "contour": [
           {
            "colorbar": {
             "outlinewidth": 0,
             "ticks": ""
            },
            "colorscale": [
             [
              0,
              "#0d0887"
             ],
             [
              0.1111111111111111,
              "#46039f"
             ],
             [
              0.2222222222222222,
              "#7201a8"
             ],
             [
              0.3333333333333333,
              "#9c179e"
             ],
             [
              0.4444444444444444,
              "#bd3786"
             ],
             [
              0.5555555555555556,
              "#d8576b"
             ],
             [
              0.6666666666666666,
              "#ed7953"
             ],
             [
              0.7777777777777778,
              "#fb9f3a"
             ],
             [
              0.8888888888888888,
              "#fdca26"
             ],
             [
              1,
              "#f0f921"
             ]
            ],
            "type": "contour"
           }
          ],
          "contourcarpet": [
           {
            "colorbar": {
             "outlinewidth": 0,
             "ticks": ""
            },
            "type": "contourcarpet"
           }
          ],
          "heatmap": [
           {
            "colorbar": {
             "outlinewidth": 0,
             "ticks": ""
            },
            "colorscale": [
             [
              0,
              "#0d0887"
             ],
             [
              0.1111111111111111,
              "#46039f"
             ],
             [
              0.2222222222222222,
              "#7201a8"
             ],
             [
              0.3333333333333333,
              "#9c179e"
             ],
             [
              0.4444444444444444,
              "#bd3786"
             ],
             [
              0.5555555555555556,
              "#d8576b"
             ],
             [
              0.6666666666666666,
              "#ed7953"
             ],
             [
              0.7777777777777778,
              "#fb9f3a"
             ],
             [
              0.8888888888888888,
              "#fdca26"
             ],
             [
              1,
              "#f0f921"
             ]
            ],
            "type": "heatmap"
           }
          ],
          "heatmapgl": [
           {
            "colorbar": {
             "outlinewidth": 0,
             "ticks": ""
            },
            "colorscale": [
             [
              0,
              "#0d0887"
             ],
             [
              0.1111111111111111,
              "#46039f"
             ],
             [
              0.2222222222222222,
              "#7201a8"
             ],
             [
              0.3333333333333333,
              "#9c179e"
             ],
             [
              0.4444444444444444,
              "#bd3786"
             ],
             [
              0.5555555555555556,
              "#d8576b"
             ],
             [
              0.6666666666666666,
              "#ed7953"
             ],
             [
              0.7777777777777778,
              "#fb9f3a"
             ],
             [
              0.8888888888888888,
              "#fdca26"
             ],
             [
              1,
              "#f0f921"
             ]
            ],
            "type": "heatmapgl"
           }
          ],
          "histogram": [
           {
            "marker": {
             "pattern": {
              "fillmode": "overlay",
              "size": 10,
              "solidity": 0.2
             }
            },
            "type": "histogram"
           }
          ],
          "histogram2d": [
           {
            "colorbar": {
             "outlinewidth": 0,
             "ticks": ""
            },
            "colorscale": [
             [
              0,
              "#0d0887"
             ],
             [
              0.1111111111111111,
              "#46039f"
             ],
             [
              0.2222222222222222,
              "#7201a8"
             ],
             [
              0.3333333333333333,
              "#9c179e"
             ],
             [
              0.4444444444444444,
              "#bd3786"
             ],
             [
              0.5555555555555556,
              "#d8576b"
             ],
             [
              0.6666666666666666,
              "#ed7953"
             ],
             [
              0.7777777777777778,
              "#fb9f3a"
             ],
             [
              0.8888888888888888,
              "#fdca26"
             ],
             [
              1,
              "#f0f921"
             ]
            ],
            "type": "histogram2d"
           }
          ],
          "histogram2dcontour": [
           {
            "colorbar": {
             "outlinewidth": 0,
             "ticks": ""
            },
            "colorscale": [
             [
              0,
              "#0d0887"
             ],
             [
              0.1111111111111111,
              "#46039f"
             ],
             [
              0.2222222222222222,
              "#7201a8"
             ],
             [
              0.3333333333333333,
              "#9c179e"
             ],
             [
              0.4444444444444444,
              "#bd3786"
             ],
             [
              0.5555555555555556,
              "#d8576b"
             ],
             [
              0.6666666666666666,
              "#ed7953"
             ],
             [
              0.7777777777777778,
              "#fb9f3a"
             ],
             [
              0.8888888888888888,
              "#fdca26"
             ],
             [
              1,
              "#f0f921"
             ]
            ],
            "type": "histogram2dcontour"
           }
          ],
          "mesh3d": [
           {
            "colorbar": {
             "outlinewidth": 0,
             "ticks": ""
            },
            "type": "mesh3d"
           }
          ],
          "parcoords": [
           {
            "line": {
             "colorbar": {
              "outlinewidth": 0,
              "ticks": ""
             }
            },
            "type": "parcoords"
           }
          ],
          "pie": [
           {
            "automargin": true,
            "type": "pie"
           }
          ],
          "scatter": [
           {
            "marker": {
             "colorbar": {
              "outlinewidth": 0,
              "ticks": ""
             }
            },
            "type": "scatter"
           }
          ],
          "scatter3d": [
           {
            "line": {
             "colorbar": {
              "outlinewidth": 0,
              "ticks": ""
             }
            },
            "marker": {
             "colorbar": {
              "outlinewidth": 0,
              "ticks": ""
             }
            },
            "type": "scatter3d"
           }
          ],
          "scattercarpet": [
           {
            "marker": {
             "colorbar": {
              "outlinewidth": 0,
              "ticks": ""
             }
            },
            "type": "scattercarpet"
           }
          ],
          "scattergeo": [
           {
            "marker": {
             "colorbar": {
              "outlinewidth": 0,
              "ticks": ""
             }
            },
            "type": "scattergeo"
           }
          ],
          "scattergl": [
           {
            "marker": {
             "colorbar": {
              "outlinewidth": 0,
              "ticks": ""
             }
            },
            "type": "scattergl"
           }
          ],
          "scattermapbox": [
           {
            "marker": {
             "colorbar": {
              "outlinewidth": 0,
              "ticks": ""
             }
            },
            "type": "scattermapbox"
           }
          ],
          "scatterpolar": [
           {
            "marker": {
             "colorbar": {
              "outlinewidth": 0,
              "ticks": ""
             }
            },
            "type": "scatterpolar"
           }
          ],
          "scatterpolargl": [
           {
            "marker": {
             "colorbar": {
              "outlinewidth": 0,
              "ticks": ""
             }
            },
            "type": "scatterpolargl"
           }
          ],
          "scatterternary": [
           {
            "marker": {
             "colorbar": {
              "outlinewidth": 0,
              "ticks": ""
             }
            },
            "type": "scatterternary"
           }
          ],
          "surface": [
           {
            "colorbar": {
             "outlinewidth": 0,
             "ticks": ""
            },
            "colorscale": [
             [
              0,
              "#0d0887"
             ],
             [
              0.1111111111111111,
              "#46039f"
             ],
             [
              0.2222222222222222,
              "#7201a8"
             ],
             [
              0.3333333333333333,
              "#9c179e"
             ],
             [
              0.4444444444444444,
              "#bd3786"
             ],
             [
              0.5555555555555556,
              "#d8576b"
             ],
             [
              0.6666666666666666,
              "#ed7953"
             ],
             [
              0.7777777777777778,
              "#fb9f3a"
             ],
             [
              0.8888888888888888,
              "#fdca26"
             ],
             [
              1,
              "#f0f921"
             ]
            ],
            "type": "surface"
           }
          ],
          "table": [
           {
            "cells": {
             "fill": {
              "color": "#EBF0F8"
             },
             "line": {
              "color": "white"
             }
            },
            "header": {
             "fill": {
              "color": "#C8D4E3"
             },
             "line": {
              "color": "white"
             }
            },
            "type": "table"
           }
          ]
         },
         "layout": {
          "annotationdefaults": {
           "arrowcolor": "#2a3f5f",
           "arrowhead": 0,
           "arrowwidth": 1
          },
          "autotypenumbers": "strict",
          "coloraxis": {
           "colorbar": {
            "outlinewidth": 0,
            "ticks": ""
           }
          },
          "colorscale": {
           "diverging": [
            [
             0,
             "#8e0152"
            ],
            [
             0.1,
             "#c51b7d"
            ],
            [
             0.2,
             "#de77ae"
            ],
            [
             0.3,
             "#f1b6da"
            ],
            [
             0.4,
             "#fde0ef"
            ],
            [
             0.5,
             "#f7f7f7"
            ],
            [
             0.6,
             "#e6f5d0"
            ],
            [
             0.7,
             "#b8e186"
            ],
            [
             0.8,
             "#7fbc41"
            ],
            [
             0.9,
             "#4d9221"
            ],
            [
             1,
             "#276419"
            ]
           ],
           "sequential": [
            [
             0,
             "#0d0887"
            ],
            [
             0.1111111111111111,
             "#46039f"
            ],
            [
             0.2222222222222222,
             "#7201a8"
            ],
            [
             0.3333333333333333,
             "#9c179e"
            ],
            [
             0.4444444444444444,
             "#bd3786"
            ],
            [
             0.5555555555555556,
             "#d8576b"
            ],
            [
             0.6666666666666666,
             "#ed7953"
            ],
            [
             0.7777777777777778,
             "#fb9f3a"
            ],
            [
             0.8888888888888888,
             "#fdca26"
            ],
            [
             1,
             "#f0f921"
            ]
           ],
           "sequentialminus": [
            [
             0,
             "#0d0887"
            ],
            [
             0.1111111111111111,
             "#46039f"
            ],
            [
             0.2222222222222222,
             "#7201a8"
            ],
            [
             0.3333333333333333,
             "#9c179e"
            ],
            [
             0.4444444444444444,
             "#bd3786"
            ],
            [
             0.5555555555555556,
             "#d8576b"
            ],
            [
             0.6666666666666666,
             "#ed7953"
            ],
            [
             0.7777777777777778,
             "#fb9f3a"
            ],
            [
             0.8888888888888888,
             "#fdca26"
            ],
            [
             1,
             "#f0f921"
            ]
           ]
          },
          "colorway": [
           "#636efa",
           "#EF553B",
           "#00cc96",
           "#ab63fa",
           "#FFA15A",
           "#19d3f3",
           "#FF6692",
           "#B6E880",
           "#FF97FF",
           "#FECB52"
          ],
          "font": {
           "color": "#2a3f5f"
          },
          "geo": {
           "bgcolor": "white",
           "lakecolor": "white",
           "landcolor": "#E5ECF6",
           "showlakes": true,
           "showland": true,
           "subunitcolor": "white"
          },
          "hoverlabel": {
           "align": "left"
          },
          "hovermode": "closest",
          "mapbox": {
           "style": "light"
          },
          "paper_bgcolor": "white",
          "plot_bgcolor": "#E5ECF6",
          "polar": {
           "angularaxis": {
            "gridcolor": "white",
            "linecolor": "white",
            "ticks": ""
           },
           "bgcolor": "#E5ECF6",
           "radialaxis": {
            "gridcolor": "white",
            "linecolor": "white",
            "ticks": ""
           }
          },
          "scene": {
           "xaxis": {
            "backgroundcolor": "#E5ECF6",
            "gridcolor": "white",
            "gridwidth": 2,
            "linecolor": "white",
            "showbackground": true,
            "ticks": "",
            "zerolinecolor": "white"
           },
           "yaxis": {
            "backgroundcolor": "#E5ECF6",
            "gridcolor": "white",
            "gridwidth": 2,
            "linecolor": "white",
            "showbackground": true,
            "ticks": "",
            "zerolinecolor": "white"
           },
           "zaxis": {
            "backgroundcolor": "#E5ECF6",
            "gridcolor": "white",
            "gridwidth": 2,
            "linecolor": "white",
            "showbackground": true,
            "ticks": "",
            "zerolinecolor": "white"
           }
          },
          "shapedefaults": {
           "line": {
            "color": "#2a3f5f"
           }
          },
          "ternary": {
           "aaxis": {
            "gridcolor": "white",
            "linecolor": "white",
            "ticks": ""
           },
           "baxis": {
            "gridcolor": "white",
            "linecolor": "white",
            "ticks": ""
           },
           "bgcolor": "#E5ECF6",
           "caxis": {
            "gridcolor": "white",
            "linecolor": "white",
            "ticks": ""
           }
          },
          "title": {
           "x": 0.05
          },
          "xaxis": {
           "automargin": true,
           "gridcolor": "white",
           "linecolor": "white",
           "ticks": "",
           "title": {
            "standoff": 15
           },
           "zerolinecolor": "white",
           "zerolinewidth": 2
          },
          "yaxis": {
           "automargin": true,
           "gridcolor": "white",
           "linecolor": "white",
           "ticks": "",
           "title": {
            "standoff": 15
           },
           "zerolinecolor": "white",
           "zerolinewidth": 2
          }
         }
        },
        "title": {
         "text": "Real annual GDP (reference year 2015"
        },
        "xaxis": {
         "anchor": "y",
         "domain": [
          0,
          1
         ],
         "title": {
          "text": "Year"
         }
        },
        "yaxis": {
         "anchor": "x",
         "domain": [
          0,
          1
         ],
         "title": {
          "text": "GDP in mil. USD"
         }
        }
       }
      }
     },
     "metadata": {},
     "output_type": "display_data"
    }
   ],
   "source": [
    "fig11 = px.line(df_RealGDP_Ann, x = 'Year', y =\"GDP in mil. USD\")\n",
    "fig11.update_layout(title = \"Real annual GDP (reference year 2015\")\n",
    "fig11.show()"
   ]
  },
  {
   "cell_type": "code",
   "execution_count": 11,
   "id": "e4cdfa79",
   "metadata": {},
   "outputs": [],
   "source": [
    "cols =list(df_RealGDP.columns)\n",
    "for helperVar in range(6,62,5):\n",
    "    cols.remove(df_RealGDP.columns[helperVar])\n",
    "\n",
    "\n",
    "df_RealGDP_Quarter = df_RealGDP[cols]"
   ]
  },
  {
   "cell_type": "code",
   "execution_count": 12,
   "id": "90cfeb0f",
   "metadata": {},
   "outputs": [],
   "source": [
    "df_RealGDP_Quarter.index.rename(\"Year\", inplace= True)\n",
    "df_RealGDP_Quarter =  df_RealGDP_Quarter.set_index(\"Economic Activities\").T.reset_index().rename(columns={\"index\":\"Year\"})"
   ]
  },
  {
   "cell_type": "code",
   "execution_count": 13,
   "id": "c61fd7d0",
   "metadata": {},
   "outputs": [],
   "source": [
    "df_RealGDP_Quarter.drop(index=0, inplace= True)"
   ]
  },
  {
   "cell_type": "code",
   "execution_count": 14,
   "id": "418a2bd7",
   "metadata": {},
   "outputs": [
    {
     "data": {
      "text/html": [
       "<div>\n",
       "<style scoped>\n",
       "    .dataframe tbody tr th:only-of-type {\n",
       "        vertical-align: middle;\n",
       "    }\n",
       "\n",
       "    .dataframe tbody tr th {\n",
       "        vertical-align: top;\n",
       "    }\n",
       "\n",
       "    .dataframe thead th {\n",
       "        text-align: right;\n",
       "    }\n",
       "</style>\n",
       "<table border=\"1\" class=\"dataframe\">\n",
       "  <thead>\n",
       "    <tr style=\"text-align: right;\">\n",
       "      <th>Economic Activities</th>\n",
       "      <th>Year</th>\n",
       "      <th>Agriculture, forestry and fishing</th>\n",
       "      <th>Mining and quarrying</th>\n",
       "      <th>Manufacturing</th>\n",
       "      <th>Electricity, gas, steam and air conditioning supply</th>\n",
       "      <th>Water supply; sewerage, waste management and remediation activities</th>\n",
       "      <th>Construction</th>\n",
       "      <th>Wholesale and retail trade; repair of motor vehicles and motorcycles</th>\n",
       "      <th>Transportation and storage</th>\n",
       "      <th>Accommodation and food service activities</th>\n",
       "      <th>...</th>\n",
       "      <th>Other service activities</th>\n",
       "      <th>Activities of households as employers; undifferentiated goods and servicies producing activities of household for own use</th>\n",
       "      <th>(=) GDP at basic prices</th>\n",
       "      <th>(+) Taxes on products</th>\n",
       "      <th>(-) Subsidies on products</th>\n",
       "      <th>(=) GDP at market prices</th>\n",
       "      <th>GDP per capita in GEL</th>\n",
       "      <th>GDP per capita, USD</th>\n",
       "      <th>GDP in mil. USD</th>\n",
       "      <th>Exchange rate, USD/GEL, average of the same period</th>\n",
       "    </tr>\n",
       "  </thead>\n",
       "  <tbody>\n",
       "    <tr>\n",
       "      <th>1</th>\n",
       "      <td>I 10</td>\n",
       "      <td>502.417976</td>\n",
       "      <td>45.792857</td>\n",
       "      <td>369.209557</td>\n",
       "      <td>125.094924</td>\n",
       "      <td>51.318634</td>\n",
       "      <td>188.458591</td>\n",
       "      <td>825.008984</td>\n",
       "      <td>325.606993</td>\n",
       "      <td>193.01631</td>\n",
       "      <td>...</td>\n",
       "      <td>20.89371</td>\n",
       "      <td>6.010969</td>\n",
       "      <td>4768.083379</td>\n",
       "      <td>509.792152</td>\n",
       "      <td>27.589392</td>\n",
       "      <td>5244.717507</td>\n",
       "      <td>1385.038274</td>\n",
       "      <td>804.681968</td>\n",
       "      <td>3047.085186</td>\n",
       "      <td>1.721224</td>\n",
       "    </tr>\n",
       "    <tr>\n",
       "      <th>2</th>\n",
       "      <td>II 10</td>\n",
       "      <td>553.721875</td>\n",
       "      <td>68.759478</td>\n",
       "      <td>494.487376</td>\n",
       "      <td>124.214128</td>\n",
       "      <td>60.392278</td>\n",
       "      <td>326.09484</td>\n",
       "      <td>994.891987</td>\n",
       "      <td>362.6207</td>\n",
       "      <td>247.615195</td>\n",
       "      <td>...</td>\n",
       "      <td>33.574333</td>\n",
       "      <td>6.29287</td>\n",
       "      <td>5649.171285</td>\n",
       "      <td>814.734032</td>\n",
       "      <td>34.383261</td>\n",
       "      <td>6420.93998</td>\n",
       "      <td>1695.658082</td>\n",
       "      <td>943.943783</td>\n",
       "      <td>3574.427202</td>\n",
       "      <td>1.796355</td>\n",
       "    </tr>\n",
       "    <tr>\n",
       "      <th>3</th>\n",
       "      <td>III 10</td>\n",
       "      <td>606.568429</td>\n",
       "      <td>103.015279</td>\n",
       "      <td>792.68183</td>\n",
       "      <td>120.216865</td>\n",
       "      <td>60.969622</td>\n",
       "      <td>316.890524</td>\n",
       "      <td>1072.558089</td>\n",
       "      <td>397.868281</td>\n",
       "      <td>229.655196</td>\n",
       "      <td>...</td>\n",
       "      <td>47.927361</td>\n",
       "      <td>6.38939</td>\n",
       "      <td>6321.337715</td>\n",
       "      <td>820.346746</td>\n",
       "      <td>28.115119</td>\n",
       "      <td>7110.17477</td>\n",
       "      <td>1877.67295</td>\n",
       "      <td>1021.311847</td>\n",
       "      <td>3867.396464</td>\n",
       "      <td>1.838491</td>\n",
       "    </tr>\n",
       "    <tr>\n",
       "      <th>4</th>\n",
       "      <td>IV 10</td>\n",
       "      <td>634.143871</td>\n",
       "      <td>47.713335</td>\n",
       "      <td>736.818061</td>\n",
       "      <td>133.385213</td>\n",
       "      <td>50.981676</td>\n",
       "      <td>473.945227</td>\n",
       "      <td>1146.889392</td>\n",
       "      <td>375.446656</td>\n",
       "      <td>220.646873</td>\n",
       "      <td>...</td>\n",
       "      <td>138.352151</td>\n",
       "      <td>7.152392</td>\n",
       "      <td>6997.405639</td>\n",
       "      <td>931.423739</td>\n",
       "      <td>33.317586</td>\n",
       "      <td>7879.441815</td>\n",
       "      <td>2080.822938</td>\n",
       "      <td>1173.496135</td>\n",
       "      <td>4443.671947</td>\n",
       "      <td>1.773183</td>\n",
       "    </tr>\n",
       "    <tr>\n",
       "      <th>5</th>\n",
       "      <td>I 11</td>\n",
       "      <td>521.400641</td>\n",
       "      <td>45.300688</td>\n",
       "      <td>409.430585</td>\n",
       "      <td>130.968142</td>\n",
       "      <td>31.700952</td>\n",
       "      <td>173.423431</td>\n",
       "      <td>832.14954</td>\n",
       "      <td>345.472382</td>\n",
       "      <td>230.310106</td>\n",
       "      <td>...</td>\n",
       "      <td>42.851396</td>\n",
       "      <td>7.652718</td>\n",
       "      <td>5076.010888</td>\n",
       "      <td>587.853124</td>\n",
       "      <td>33.111436</td>\n",
       "      <td>5631.724057</td>\n",
       "      <td>1499.218224</td>\n",
       "      <td>851.393165</td>\n",
       "      <td>3198.207767</td>\n",
       "      <td>1.7609</td>\n",
       "    </tr>\n",
       "  </tbody>\n",
       "</table>\n",
       "<p>5 rows × 29 columns</p>\n",
       "</div>"
      ],
      "text/plain": [
       "Economic Activities    Year Agriculture, forestry and fishing  \\\n",
       "1                      I 10                        502.417976   \n",
       "2                     II 10                        553.721875   \n",
       "3                    III 10                        606.568429   \n",
       "4                     IV 10                        634.143871   \n",
       "5                      I 11                        521.400641   \n",
       "\n",
       "Economic Activities Mining and quarrying Manufacturing  \\\n",
       "1                              45.792857    369.209557   \n",
       "2                              68.759478    494.487376   \n",
       "3                             103.015279     792.68183   \n",
       "4                              47.713335    736.818061   \n",
       "5                              45.300688    409.430585   \n",
       "\n",
       "Economic Activities Electricity, gas, steam and air conditioning supply  \\\n",
       "1                                                           125.094924    \n",
       "2                                                           124.214128    \n",
       "3                                                           120.216865    \n",
       "4                                                           133.385213    \n",
       "5                                                           130.968142    \n",
       "\n",
       "Economic Activities Water supply; sewerage, waste management and remediation activities  \\\n",
       "1                                                            51.318634                    \n",
       "2                                                            60.392278                    \n",
       "3                                                            60.969622                    \n",
       "4                                                            50.981676                    \n",
       "5                                                            31.700952                    \n",
       "\n",
       "Economic Activities Construction  \\\n",
       "1                     188.458591   \n",
       "2                      326.09484   \n",
       "3                     316.890524   \n",
       "4                     473.945227   \n",
       "5                     173.423431   \n",
       "\n",
       "Economic Activities Wholesale and retail trade; repair of motor vehicles and motorcycles   \\\n",
       "1                                                           825.008984                      \n",
       "2                                                           994.891987                      \n",
       "3                                                          1072.558089                      \n",
       "4                                                          1146.889392                      \n",
       "5                                                            832.14954                      \n",
       "\n",
       "Economic Activities Transportation and storage  \\\n",
       "1                                   325.606993   \n",
       "2                                     362.6207   \n",
       "3                                   397.868281   \n",
       "4                                   375.446656   \n",
       "5                                   345.472382   \n",
       "\n",
       "Economic Activities Accommodation and food service activities  ...  \\\n",
       "1                                                   193.01631  ...   \n",
       "2                                                  247.615195  ...   \n",
       "3                                                  229.655196  ...   \n",
       "4                                                  220.646873  ...   \n",
       "5                                                  230.310106  ...   \n",
       "\n",
       "Economic Activities Other service activities  \\\n",
       "1                                   20.89371   \n",
       "2                                  33.574333   \n",
       "3                                  47.927361   \n",
       "4                                 138.352151   \n",
       "5                                  42.851396   \n",
       "\n",
       "Economic Activities Activities of households as employers; undifferentiated goods and servicies producing activities of household for own use  \\\n",
       "1                                                             6.010969                                                                          \n",
       "2                                                              6.29287                                                                          \n",
       "3                                                              6.38939                                                                          \n",
       "4                                                             7.152392                                                                          \n",
       "5                                                             7.652718                                                                          \n",
       "\n",
       "Economic Activities (=) GDP at basic prices (+) Taxes on products  \\\n",
       "1                               4768.083379            509.792152   \n",
       "2                               5649.171285            814.734032   \n",
       "3                               6321.337715            820.346746   \n",
       "4                               6997.405639            931.423739   \n",
       "5                               5076.010888            587.853124   \n",
       "\n",
       "Economic Activities (-) Subsidies on products (=) GDP at market prices  \\\n",
       "1                                   27.589392              5244.717507   \n",
       "2                                   34.383261               6420.93998   \n",
       "3                                   28.115119               7110.17477   \n",
       "4                                   33.317586              7879.441815   \n",
       "5                                   33.111436              5631.724057   \n",
       "\n",
       "Economic Activities GDP per capita in GEL GDP per capita, USD GDP in mil. USD  \\\n",
       "1                             1385.038274          804.681968     3047.085186   \n",
       "2                             1695.658082          943.943783     3574.427202   \n",
       "3                              1877.67295         1021.311847     3867.396464   \n",
       "4                             2080.822938         1173.496135     4443.671947   \n",
       "5                             1499.218224          851.393165     3198.207767   \n",
       "\n",
       "Economic Activities Exchange rate, USD/GEL, average of the same period  \n",
       "1                                                             1.721224  \n",
       "2                                                             1.796355  \n",
       "3                                                             1.838491  \n",
       "4                                                             1.773183  \n",
       "5                                                               1.7609  \n",
       "\n",
       "[5 rows x 29 columns]"
      ]
     },
     "execution_count": 14,
     "metadata": {},
     "output_type": "execute_result"
    }
   ],
   "source": [
    "df_RealGDP_Quarter.head()"
   ]
  },
  {
   "cell_type": "code",
   "execution_count": 15,
   "id": "4500271e",
   "metadata": {},
   "outputs": [
    {
     "data": {
      "application/vnd.plotly.v1+json": {
       "config": {
        "plotlyServerURL": "https://plot.ly"
       },
       "data": [
        {
         "hovertemplate": "Year=%{x}<br>GDP in mil. USD=%{y}<extra></extra>",
         "legendgroup": "",
         "line": {
          "color": "#636efa",
          "dash": "solid"
         },
         "marker": {
          "symbol": "circle"
         },
         "mode": "lines",
         "name": "",
         "orientation": "v",
         "showlegend": false,
         "type": "scatter",
         "x": [
          "I 10",
          "II 10",
          "III 10",
          "IV 10",
          "I 11",
          "II 11",
          "III 11",
          "IV 11",
          "I 12",
          "II 12",
          "III 12",
          "IV 12",
          "I 13",
          "II 13",
          "III 13",
          "IV 13",
          "I 14",
          "II 14",
          "III 14",
          "IV 14",
          "I 15",
          "II 15",
          "III 15",
          "IV 15",
          "I 16",
          "II 16",
          "III 16",
          "IV 16",
          "I 17",
          "II 17",
          "III 17",
          "IV 17",
          "I 18",
          "II 18",
          "III 18",
          "IV 18",
          "I 19",
          "II 19",
          "III 19",
          "IV 19",
          "I 20",
          "II 20",
          "III 20",
          "IV 20",
          "I 21*",
          "II 21*",
          "III 21*",
          "IV 21*"
         ],
         "xaxis": "x",
         "y": [
          3047.085186289694,
          3574.427201817481,
          3867.3964640410973,
          4443.671947049414,
          3198.2077669551786,
          4164.704201554467,
          4612.517776016831,
          5057.631155693246,
          3709.599130861652,
          4560.5367032827535,
          4888.124673545351,
          5276.634818919867,
          3855.4537511010503,
          4659.693564473473,
          5013.749012705537,
          5421.880092161271,
          3902.146862949939,
          4573.995998730008,
          4976.209122709862,
          5186.693208163578,
          3433.824682263446,
          3678.3337207492514,
          3838.7696638987013,
          3962.921255643036,
          3021.812430411134,
          3963.8024343886214,
          3911.5204087969582,
          3889.8735966304894,
          3018.60664206584,
          3789.301942294676,
          3918.4566373074213,
          3896.379791002207,
          3387.646841908352,
          3972.999698485363,
          3886.670201689821,
          3897.3757429563366,
          3321.3523932139965,
          3717.4470966029617,
          3548.1627641160676,
          3701.6779609739187,
          3127.47186991618,
          2775.890001198689,
          3111.4238246436053,
          3088.3519406288906,
          2648.7558220065193,
          3373.481558190996,
          3373.855790548568,
          3516.2042070684374
         ],
         "yaxis": "y"
        }
       ],
       "layout": {
        "legend": {
         "tracegroupgap": 0
        },
        "margin": {
         "t": 60
        },
        "template": {
         "data": {
          "bar": [
           {
            "error_x": {
             "color": "#2a3f5f"
            },
            "error_y": {
             "color": "#2a3f5f"
            },
            "marker": {
             "line": {
              "color": "#E5ECF6",
              "width": 0.5
             },
             "pattern": {
              "fillmode": "overlay",
              "size": 10,
              "solidity": 0.2
             }
            },
            "type": "bar"
           }
          ],
          "barpolar": [
           {
            "marker": {
             "line": {
              "color": "#E5ECF6",
              "width": 0.5
             },
             "pattern": {
              "fillmode": "overlay",
              "size": 10,
              "solidity": 0.2
             }
            },
            "type": "barpolar"
           }
          ],
          "carpet": [
           {
            "aaxis": {
             "endlinecolor": "#2a3f5f",
             "gridcolor": "white",
             "linecolor": "white",
             "minorgridcolor": "white",
             "startlinecolor": "#2a3f5f"
            },
            "baxis": {
             "endlinecolor": "#2a3f5f",
             "gridcolor": "white",
             "linecolor": "white",
             "minorgridcolor": "white",
             "startlinecolor": "#2a3f5f"
            },
            "type": "carpet"
           }
          ],
          "choropleth": [
           {
            "colorbar": {
             "outlinewidth": 0,
             "ticks": ""
            },
            "type": "choropleth"
           }
          ],
          "contour": [
           {
            "colorbar": {
             "outlinewidth": 0,
             "ticks": ""
            },
            "colorscale": [
             [
              0,
              "#0d0887"
             ],
             [
              0.1111111111111111,
              "#46039f"
             ],
             [
              0.2222222222222222,
              "#7201a8"
             ],
             [
              0.3333333333333333,
              "#9c179e"
             ],
             [
              0.4444444444444444,
              "#bd3786"
             ],
             [
              0.5555555555555556,
              "#d8576b"
             ],
             [
              0.6666666666666666,
              "#ed7953"
             ],
             [
              0.7777777777777778,
              "#fb9f3a"
             ],
             [
              0.8888888888888888,
              "#fdca26"
             ],
             [
              1,
              "#f0f921"
             ]
            ],
            "type": "contour"
           }
          ],
          "contourcarpet": [
           {
            "colorbar": {
             "outlinewidth": 0,
             "ticks": ""
            },
            "type": "contourcarpet"
           }
          ],
          "heatmap": [
           {
            "colorbar": {
             "outlinewidth": 0,
             "ticks": ""
            },
            "colorscale": [
             [
              0,
              "#0d0887"
             ],
             [
              0.1111111111111111,
              "#46039f"
             ],
             [
              0.2222222222222222,
              "#7201a8"
             ],
             [
              0.3333333333333333,
              "#9c179e"
             ],
             [
              0.4444444444444444,
              "#bd3786"
             ],
             [
              0.5555555555555556,
              "#d8576b"
             ],
             [
              0.6666666666666666,
              "#ed7953"
             ],
             [
              0.7777777777777778,
              "#fb9f3a"
             ],
             [
              0.8888888888888888,
              "#fdca26"
             ],
             [
              1,
              "#f0f921"
             ]
            ],
            "type": "heatmap"
           }
          ],
          "heatmapgl": [
           {
            "colorbar": {
             "outlinewidth": 0,
             "ticks": ""
            },
            "colorscale": [
             [
              0,
              "#0d0887"
             ],
             [
              0.1111111111111111,
              "#46039f"
             ],
             [
              0.2222222222222222,
              "#7201a8"
             ],
             [
              0.3333333333333333,
              "#9c179e"
             ],
             [
              0.4444444444444444,
              "#bd3786"
             ],
             [
              0.5555555555555556,
              "#d8576b"
             ],
             [
              0.6666666666666666,
              "#ed7953"
             ],
             [
              0.7777777777777778,
              "#fb9f3a"
             ],
             [
              0.8888888888888888,
              "#fdca26"
             ],
             [
              1,
              "#f0f921"
             ]
            ],
            "type": "heatmapgl"
           }
          ],
          "histogram": [
           {
            "marker": {
             "pattern": {
              "fillmode": "overlay",
              "size": 10,
              "solidity": 0.2
             }
            },
            "type": "histogram"
           }
          ],
          "histogram2d": [
           {
            "colorbar": {
             "outlinewidth": 0,
             "ticks": ""
            },
            "colorscale": [
             [
              0,
              "#0d0887"
             ],
             [
              0.1111111111111111,
              "#46039f"
             ],
             [
              0.2222222222222222,
              "#7201a8"
             ],
             [
              0.3333333333333333,
              "#9c179e"
             ],
             [
              0.4444444444444444,
              "#bd3786"
             ],
             [
              0.5555555555555556,
              "#d8576b"
             ],
             [
              0.6666666666666666,
              "#ed7953"
             ],
             [
              0.7777777777777778,
              "#fb9f3a"
             ],
             [
              0.8888888888888888,
              "#fdca26"
             ],
             [
              1,
              "#f0f921"
             ]
            ],
            "type": "histogram2d"
           }
          ],
          "histogram2dcontour": [
           {
            "colorbar": {
             "outlinewidth": 0,
             "ticks": ""
            },
            "colorscale": [
             [
              0,
              "#0d0887"
             ],
             [
              0.1111111111111111,
              "#46039f"
             ],
             [
              0.2222222222222222,
              "#7201a8"
             ],
             [
              0.3333333333333333,
              "#9c179e"
             ],
             [
              0.4444444444444444,
              "#bd3786"
             ],
             [
              0.5555555555555556,
              "#d8576b"
             ],
             [
              0.6666666666666666,
              "#ed7953"
             ],
             [
              0.7777777777777778,
              "#fb9f3a"
             ],
             [
              0.8888888888888888,
              "#fdca26"
             ],
             [
              1,
              "#f0f921"
             ]
            ],
            "type": "histogram2dcontour"
           }
          ],
          "mesh3d": [
           {
            "colorbar": {
             "outlinewidth": 0,
             "ticks": ""
            },
            "type": "mesh3d"
           }
          ],
          "parcoords": [
           {
            "line": {
             "colorbar": {
              "outlinewidth": 0,
              "ticks": ""
             }
            },
            "type": "parcoords"
           }
          ],
          "pie": [
           {
            "automargin": true,
            "type": "pie"
           }
          ],
          "scatter": [
           {
            "marker": {
             "colorbar": {
              "outlinewidth": 0,
              "ticks": ""
             }
            },
            "type": "scatter"
           }
          ],
          "scatter3d": [
           {
            "line": {
             "colorbar": {
              "outlinewidth": 0,
              "ticks": ""
             }
            },
            "marker": {
             "colorbar": {
              "outlinewidth": 0,
              "ticks": ""
             }
            },
            "type": "scatter3d"
           }
          ],
          "scattercarpet": [
           {
            "marker": {
             "colorbar": {
              "outlinewidth": 0,
              "ticks": ""
             }
            },
            "type": "scattercarpet"
           }
          ],
          "scattergeo": [
           {
            "marker": {
             "colorbar": {
              "outlinewidth": 0,
              "ticks": ""
             }
            },
            "type": "scattergeo"
           }
          ],
          "scattergl": [
           {
            "marker": {
             "colorbar": {
              "outlinewidth": 0,
              "ticks": ""
             }
            },
            "type": "scattergl"
           }
          ],
          "scattermapbox": [
           {
            "marker": {
             "colorbar": {
              "outlinewidth": 0,
              "ticks": ""
             }
            },
            "type": "scattermapbox"
           }
          ],
          "scatterpolar": [
           {
            "marker": {
             "colorbar": {
              "outlinewidth": 0,
              "ticks": ""
             }
            },
            "type": "scatterpolar"
           }
          ],
          "scatterpolargl": [
           {
            "marker": {
             "colorbar": {
              "outlinewidth": 0,
              "ticks": ""
             }
            },
            "type": "scatterpolargl"
           }
          ],
          "scatterternary": [
           {
            "marker": {
             "colorbar": {
              "outlinewidth": 0,
              "ticks": ""
             }
            },
            "type": "scatterternary"
           }
          ],
          "surface": [
           {
            "colorbar": {
             "outlinewidth": 0,
             "ticks": ""
            },
            "colorscale": [
             [
              0,
              "#0d0887"
             ],
             [
              0.1111111111111111,
              "#46039f"
             ],
             [
              0.2222222222222222,
              "#7201a8"
             ],
             [
              0.3333333333333333,
              "#9c179e"
             ],
             [
              0.4444444444444444,
              "#bd3786"
             ],
             [
              0.5555555555555556,
              "#d8576b"
             ],
             [
              0.6666666666666666,
              "#ed7953"
             ],
             [
              0.7777777777777778,
              "#fb9f3a"
             ],
             [
              0.8888888888888888,
              "#fdca26"
             ],
             [
              1,
              "#f0f921"
             ]
            ],
            "type": "surface"
           }
          ],
          "table": [
           {
            "cells": {
             "fill": {
              "color": "#EBF0F8"
             },
             "line": {
              "color": "white"
             }
            },
            "header": {
             "fill": {
              "color": "#C8D4E3"
             },
             "line": {
              "color": "white"
             }
            },
            "type": "table"
           }
          ]
         },
         "layout": {
          "annotationdefaults": {
           "arrowcolor": "#2a3f5f",
           "arrowhead": 0,
           "arrowwidth": 1
          },
          "autotypenumbers": "strict",
          "coloraxis": {
           "colorbar": {
            "outlinewidth": 0,
            "ticks": ""
           }
          },
          "colorscale": {
           "diverging": [
            [
             0,
             "#8e0152"
            ],
            [
             0.1,
             "#c51b7d"
            ],
            [
             0.2,
             "#de77ae"
            ],
            [
             0.3,
             "#f1b6da"
            ],
            [
             0.4,
             "#fde0ef"
            ],
            [
             0.5,
             "#f7f7f7"
            ],
            [
             0.6,
             "#e6f5d0"
            ],
            [
             0.7,
             "#b8e186"
            ],
            [
             0.8,
             "#7fbc41"
            ],
            [
             0.9,
             "#4d9221"
            ],
            [
             1,
             "#276419"
            ]
           ],
           "sequential": [
            [
             0,
             "#0d0887"
            ],
            [
             0.1111111111111111,
             "#46039f"
            ],
            [
             0.2222222222222222,
             "#7201a8"
            ],
            [
             0.3333333333333333,
             "#9c179e"
            ],
            [
             0.4444444444444444,
             "#bd3786"
            ],
            [
             0.5555555555555556,
             "#d8576b"
            ],
            [
             0.6666666666666666,
             "#ed7953"
            ],
            [
             0.7777777777777778,
             "#fb9f3a"
            ],
            [
             0.8888888888888888,
             "#fdca26"
            ],
            [
             1,
             "#f0f921"
            ]
           ],
           "sequentialminus": [
            [
             0,
             "#0d0887"
            ],
            [
             0.1111111111111111,
             "#46039f"
            ],
            [
             0.2222222222222222,
             "#7201a8"
            ],
            [
             0.3333333333333333,
             "#9c179e"
            ],
            [
             0.4444444444444444,
             "#bd3786"
            ],
            [
             0.5555555555555556,
             "#d8576b"
            ],
            [
             0.6666666666666666,
             "#ed7953"
            ],
            [
             0.7777777777777778,
             "#fb9f3a"
            ],
            [
             0.8888888888888888,
             "#fdca26"
            ],
            [
             1,
             "#f0f921"
            ]
           ]
          },
          "colorway": [
           "#636efa",
           "#EF553B",
           "#00cc96",
           "#ab63fa",
           "#FFA15A",
           "#19d3f3",
           "#FF6692",
           "#B6E880",
           "#FF97FF",
           "#FECB52"
          ],
          "font": {
           "color": "#2a3f5f"
          },
          "geo": {
           "bgcolor": "white",
           "lakecolor": "white",
           "landcolor": "#E5ECF6",
           "showlakes": true,
           "showland": true,
           "subunitcolor": "white"
          },
          "hoverlabel": {
           "align": "left"
          },
          "hovermode": "closest",
          "mapbox": {
           "style": "light"
          },
          "paper_bgcolor": "white",
          "plot_bgcolor": "#E5ECF6",
          "polar": {
           "angularaxis": {
            "gridcolor": "white",
            "linecolor": "white",
            "ticks": ""
           },
           "bgcolor": "#E5ECF6",
           "radialaxis": {
            "gridcolor": "white",
            "linecolor": "white",
            "ticks": ""
           }
          },
          "scene": {
           "xaxis": {
            "backgroundcolor": "#E5ECF6",
            "gridcolor": "white",
            "gridwidth": 2,
            "linecolor": "white",
            "showbackground": true,
            "ticks": "",
            "zerolinecolor": "white"
           },
           "yaxis": {
            "backgroundcolor": "#E5ECF6",
            "gridcolor": "white",
            "gridwidth": 2,
            "linecolor": "white",
            "showbackground": true,
            "ticks": "",
            "zerolinecolor": "white"
           },
           "zaxis": {
            "backgroundcolor": "#E5ECF6",
            "gridcolor": "white",
            "gridwidth": 2,
            "linecolor": "white",
            "showbackground": true,
            "ticks": "",
            "zerolinecolor": "white"
           }
          },
          "shapedefaults": {
           "line": {
            "color": "#2a3f5f"
           }
          },
          "ternary": {
           "aaxis": {
            "gridcolor": "white",
            "linecolor": "white",
            "ticks": ""
           },
           "baxis": {
            "gridcolor": "white",
            "linecolor": "white",
            "ticks": ""
           },
           "bgcolor": "#E5ECF6",
           "caxis": {
            "gridcolor": "white",
            "linecolor": "white",
            "ticks": ""
           }
          },
          "title": {
           "x": 0.05
          },
          "xaxis": {
           "automargin": true,
           "gridcolor": "white",
           "linecolor": "white",
           "ticks": "",
           "title": {
            "standoff": 15
           },
           "zerolinecolor": "white",
           "zerolinewidth": 2
          },
          "yaxis": {
           "automargin": true,
           "gridcolor": "white",
           "linecolor": "white",
           "ticks": "",
           "title": {
            "standoff": 15
           },
           "zerolinecolor": "white",
           "zerolinewidth": 2
          }
         }
        },
        "title": {
         "text": "Real annual GDP (reference year 2015"
        },
        "xaxis": {
         "anchor": "y",
         "domain": [
          0,
          1
         ],
         "title": {
          "text": "Year"
         }
        },
        "yaxis": {
         "anchor": "x",
         "domain": [
          0,
          1
         ],
         "title": {
          "text": "GDP in mil. USD"
         }
        }
       }
      }
     },
     "metadata": {},
     "output_type": "display_data"
    }
   ],
   "source": [
    "fig12 = px.line(df_RealGDP_Quarter, x = 'Year', y =\"GDP in mil. USD\")\n",
    "fig12.update_layout(title = \"Real annual GDP (reference year 2015\")\n",
    "fig12.show()"
   ]
  },
  {
   "cell_type": "code",
   "execution_count": 16,
   "id": "31837e49",
   "metadata": {},
   "outputs": [],
   "source": [
    "df_RealGDP_Ann.to_pickle(\"df_RealGDP_Ann.pkl\")\n",
    "df_RealGDP_Quarter.to_pickle(\"df_RealGDP_Quarter.pkl\")"
   ]
  },
  {
   "cell_type": "markdown",
   "id": "a0b3c82d",
   "metadata": {},
   "source": [
    "# Money Transfer / Remissions"
   ]
  },
  {
   "cell_type": "code",
   "execution_count": 48,
   "id": "14d5e923",
   "metadata": {},
   "outputs": [],
   "source": [
    "url_Remissions = \"https://nbg.gov.ge/fm/%E1%83%A1%E1%83%A2%E1%83%90%E1%83%A2%E1%83%98%E1%83%A1%E1%83%A2%E1%83%98%E1%83%99%E1%83%90/external_sector/eng/money-transfers-by-countries-eng.xlsx\"\n",
    "#import openpyxl\n",
    "df_Remissions = pd.read_excel(url_Remissions, sheet_name = \"2010-2011 (eng)\",skiprows = 3, header = [0,1])"
   ]
  },
  {
   "cell_type": "code",
   "execution_count": 49,
   "id": "9c5e068d",
   "metadata": {},
   "outputs": [
    {
     "data": {
      "text/html": [
       "<div>\n",
       "<style scoped>\n",
       "    .dataframe tbody tr th:only-of-type {\n",
       "        vertical-align: middle;\n",
       "    }\n",
       "\n",
       "    .dataframe tbody tr th {\n",
       "        vertical-align: top;\n",
       "    }\n",
       "\n",
       "    .dataframe thead tr th {\n",
       "        text-align: left;\n",
       "    }\n",
       "</style>\n",
       "<table border=\"1\" class=\"dataframe\">\n",
       "  <thead>\n",
       "    <tr>\n",
       "      <th></th>\n",
       "      <th>country</th>\n",
       "      <th colspan=\"2\" halign=\"left\">2010_1</th>\n",
       "      <th colspan=\"2\" halign=\"left\">2010_2</th>\n",
       "      <th colspan=\"2\" halign=\"left\">2010_3</th>\n",
       "      <th colspan=\"2\" halign=\"left\">2010_4</th>\n",
       "      <th>2010_5</th>\n",
       "      <th>...</th>\n",
       "      <th colspan=\"2\" halign=\"left\">2011_8</th>\n",
       "      <th colspan=\"2\" halign=\"left\">2011_9</th>\n",
       "      <th colspan=\"2\" halign=\"left\">2011_10</th>\n",
       "      <th colspan=\"2\" halign=\"left\">2011_11</th>\n",
       "      <th colspan=\"2\" halign=\"left\">2011_12</th>\n",
       "    </tr>\n",
       "    <tr>\n",
       "      <th></th>\n",
       "      <th>Unnamed: 0_level_1</th>\n",
       "      <th>Inflow</th>\n",
       "      <th>Outflow</th>\n",
       "      <th>Inflow</th>\n",
       "      <th>Outflow</th>\n",
       "      <th>Inflow</th>\n",
       "      <th>Outflow</th>\n",
       "      <th>Inflow</th>\n",
       "      <th>Outflow</th>\n",
       "      <th>Inflow</th>\n",
       "      <th>...</th>\n",
       "      <th>Inflow</th>\n",
       "      <th>Outflow</th>\n",
       "      <th>Inflow</th>\n",
       "      <th>Outflow</th>\n",
       "      <th>Inflow</th>\n",
       "      <th>Outflow</th>\n",
       "      <th>Inflow</th>\n",
       "      <th>Outflow</th>\n",
       "      <th>Inflow</th>\n",
       "      <th>Outflow</th>\n",
       "    </tr>\n",
       "  </thead>\n",
       "  <tbody>\n",
       "    <tr>\n",
       "      <th>0</th>\n",
       "      <td>Total</td>\n",
       "      <td>65282.094118</td>\n",
       "      <td>5630.326645</td>\n",
       "      <td>71125.689936</td>\n",
       "      <td>6093.613082</td>\n",
       "      <td>92985.126657</td>\n",
       "      <td>7627.998001</td>\n",
       "      <td>84503.458312</td>\n",
       "      <td>6953.173070</td>\n",
       "      <td>83103.497531</td>\n",
       "      <td>...</td>\n",
       "      <td>114486.094013</td>\n",
       "      <td>8586.108567</td>\n",
       "      <td>114118.737394</td>\n",
       "      <td>8286.121104</td>\n",
       "      <td>108966.473838</td>\n",
       "      <td>9163.590988</td>\n",
       "      <td>104160.863425</td>\n",
       "      <td>8378.429096</td>\n",
       "      <td>124901.501086</td>\n",
       "      <td>9208.151122</td>\n",
       "    </tr>\n",
       "    <tr>\n",
       "      <th>1</th>\n",
       "      <td>of Which:</td>\n",
       "      <td>NaN</td>\n",
       "      <td>NaN</td>\n",
       "      <td>NaN</td>\n",
       "      <td>NaN</td>\n",
       "      <td>NaN</td>\n",
       "      <td>NaN</td>\n",
       "      <td>NaN</td>\n",
       "      <td>NaN</td>\n",
       "      <td>NaN</td>\n",
       "      <td>...</td>\n",
       "      <td>NaN</td>\n",
       "      <td>NaN</td>\n",
       "      <td>NaN</td>\n",
       "      <td>NaN</td>\n",
       "      <td>NaN</td>\n",
       "      <td>NaN</td>\n",
       "      <td>NaN</td>\n",
       "      <td>NaN</td>\n",
       "      <td>NaN</td>\n",
       "      <td>NaN</td>\n",
       "    </tr>\n",
       "    <tr>\n",
       "      <th>2</th>\n",
       "      <td>Russian Federation</td>\n",
       "      <td>30894.292213</td>\n",
       "      <td>1838.355105</td>\n",
       "      <td>34489.193394</td>\n",
       "      <td>2284.811719</td>\n",
       "      <td>47460.358242</td>\n",
       "      <td>2846.982813</td>\n",
       "      <td>43810.491217</td>\n",
       "      <td>2762.989677</td>\n",
       "      <td>41281.275133</td>\n",
       "      <td>...</td>\n",
       "      <td>63807.035583</td>\n",
       "      <td>2975.583780</td>\n",
       "      <td>61373.530737</td>\n",
       "      <td>2814.681863</td>\n",
       "      <td>57354.604160</td>\n",
       "      <td>3309.555531</td>\n",
       "      <td>54907.321060</td>\n",
       "      <td>2835.128595</td>\n",
       "      <td>66343.365701</td>\n",
       "      <td>3337.177679</td>\n",
       "    </tr>\n",
       "    <tr>\n",
       "      <th>3</th>\n",
       "      <td>Italy</td>\n",
       "      <td>5662.810282</td>\n",
       "      <td>67.037832</td>\n",
       "      <td>5946.351729</td>\n",
       "      <td>87.652371</td>\n",
       "      <td>6966.017311</td>\n",
       "      <td>91.810450</td>\n",
       "      <td>6034.675989</td>\n",
       "      <td>79.467909</td>\n",
       "      <td>5911.069432</td>\n",
       "      <td>...</td>\n",
       "      <td>9296.107636</td>\n",
       "      <td>164.319550</td>\n",
       "      <td>9479.814549</td>\n",
       "      <td>171.045691</td>\n",
       "      <td>9430.480119</td>\n",
       "      <td>240.945239</td>\n",
       "      <td>8796.650090</td>\n",
       "      <td>158.255424</td>\n",
       "      <td>9896.730341</td>\n",
       "      <td>182.800243</td>\n",
       "    </tr>\n",
       "    <tr>\n",
       "      <th>4</th>\n",
       "      <td>Greece</td>\n",
       "      <td>8273.374332</td>\n",
       "      <td>335.544711</td>\n",
       "      <td>8412.861337</td>\n",
       "      <td>377.937925</td>\n",
       "      <td>10515.666640</td>\n",
       "      <td>463.677133</td>\n",
       "      <td>9043.791615</td>\n",
       "      <td>400.690623</td>\n",
       "      <td>9860.619376</td>\n",
       "      <td>...</td>\n",
       "      <td>12358.476946</td>\n",
       "      <td>741.624633</td>\n",
       "      <td>12911.028748</td>\n",
       "      <td>693.763130</td>\n",
       "      <td>12872.327952</td>\n",
       "      <td>728.016390</td>\n",
       "      <td>11597.517206</td>\n",
       "      <td>676.753096</td>\n",
       "      <td>13267.391088</td>\n",
       "      <td>665.257176</td>\n",
       "    </tr>\n",
       "    <tr>\n",
       "      <th>...</th>\n",
       "      <td>...</td>\n",
       "      <td>...</td>\n",
       "      <td>...</td>\n",
       "      <td>...</td>\n",
       "      <td>...</td>\n",
       "      <td>...</td>\n",
       "      <td>...</td>\n",
       "      <td>...</td>\n",
       "      <td>...</td>\n",
       "      <td>...</td>\n",
       "      <td>...</td>\n",
       "      <td>...</td>\n",
       "      <td>...</td>\n",
       "      <td>...</td>\n",
       "      <td>...</td>\n",
       "      <td>...</td>\n",
       "      <td>...</td>\n",
       "      <td>...</td>\n",
       "      <td>...</td>\n",
       "      <td>...</td>\n",
       "      <td>...</td>\n",
       "    </tr>\n",
       "    <tr>\n",
       "      <th>245</th>\n",
       "      <td>Sint Maarten (Dutch part)</td>\n",
       "      <td>0.000000</td>\n",
       "      <td>0.000000</td>\n",
       "      <td>0.000000</td>\n",
       "      <td>0.000000</td>\n",
       "      <td>0.000000</td>\n",
       "      <td>0.000000</td>\n",
       "      <td>0.000000</td>\n",
       "      <td>0.000000</td>\n",
       "      <td>0.000000</td>\n",
       "      <td>...</td>\n",
       "      <td>0.000000</td>\n",
       "      <td>0.000000</td>\n",
       "      <td>0.000000</td>\n",
       "      <td>0.000000</td>\n",
       "      <td>0.000000</td>\n",
       "      <td>0.000000</td>\n",
       "      <td>0.000000</td>\n",
       "      <td>0.000000</td>\n",
       "      <td>0.000000</td>\n",
       "      <td>0.000000</td>\n",
       "    </tr>\n",
       "    <tr>\n",
       "      <th>246</th>\n",
       "      <td>New Caledonia</td>\n",
       "      <td>0.000000</td>\n",
       "      <td>0.000000</td>\n",
       "      <td>0.000000</td>\n",
       "      <td>0.000000</td>\n",
       "      <td>0.000000</td>\n",
       "      <td>0.000000</td>\n",
       "      <td>0.000000</td>\n",
       "      <td>0.000000</td>\n",
       "      <td>0.000000</td>\n",
       "      <td>...</td>\n",
       "      <td>0.000000</td>\n",
       "      <td>0.000000</td>\n",
       "      <td>0.000000</td>\n",
       "      <td>0.000000</td>\n",
       "      <td>0.000000</td>\n",
       "      <td>0.000000</td>\n",
       "      <td>0.000000</td>\n",
       "      <td>0.000000</td>\n",
       "      <td>0.000000</td>\n",
       "      <td>0.000000</td>\n",
       "    </tr>\n",
       "    <tr>\n",
       "      <th>247</th>\n",
       "      <td>Niue</td>\n",
       "      <td>0.000000</td>\n",
       "      <td>0.000000</td>\n",
       "      <td>0.000000</td>\n",
       "      <td>0.000000</td>\n",
       "      <td>0.000000</td>\n",
       "      <td>0.000000</td>\n",
       "      <td>0.000000</td>\n",
       "      <td>0.000000</td>\n",
       "      <td>0.000000</td>\n",
       "      <td>...</td>\n",
       "      <td>0.000000</td>\n",
       "      <td>0.000000</td>\n",
       "      <td>0.000000</td>\n",
       "      <td>0.000000</td>\n",
       "      <td>0.000000</td>\n",
       "      <td>0.000000</td>\n",
       "      <td>0.000000</td>\n",
       "      <td>0.000000</td>\n",
       "      <td>0.000000</td>\n",
       "      <td>0.000000</td>\n",
       "    </tr>\n",
       "    <tr>\n",
       "      <th>248</th>\n",
       "      <td>Svalbard and Jan Mayen</td>\n",
       "      <td>0.000000</td>\n",
       "      <td>0.000000</td>\n",
       "      <td>0.000000</td>\n",
       "      <td>0.000000</td>\n",
       "      <td>0.000000</td>\n",
       "      <td>0.000000</td>\n",
       "      <td>0.000000</td>\n",
       "      <td>0.000000</td>\n",
       "      <td>0.000000</td>\n",
       "      <td>...</td>\n",
       "      <td>0.000000</td>\n",
       "      <td>0.000000</td>\n",
       "      <td>0.000000</td>\n",
       "      <td>0.000000</td>\n",
       "      <td>0.000000</td>\n",
       "      <td>0.000000</td>\n",
       "      <td>0.000000</td>\n",
       "      <td>0.000000</td>\n",
       "      <td>0.000000</td>\n",
       "      <td>0.000000</td>\n",
       "    </tr>\n",
       "    <tr>\n",
       "      <th>249</th>\n",
       "      <td>Areas not elsewhere specified</td>\n",
       "      <td>21.011324</td>\n",
       "      <td>11.343390</td>\n",
       "      <td>15.669560</td>\n",
       "      <td>12.417903</td>\n",
       "      <td>21.199184</td>\n",
       "      <td>14.791000</td>\n",
       "      <td>22.203288</td>\n",
       "      <td>0.000000</td>\n",
       "      <td>3.972360</td>\n",
       "      <td>...</td>\n",
       "      <td>4.861140</td>\n",
       "      <td>0.075000</td>\n",
       "      <td>30.299000</td>\n",
       "      <td>7.717530</td>\n",
       "      <td>34.813660</td>\n",
       "      <td>4.433834</td>\n",
       "      <td>67.980410</td>\n",
       "      <td>4.920820</td>\n",
       "      <td>24.344000</td>\n",
       "      <td>3.194390</td>\n",
       "    </tr>\n",
       "  </tbody>\n",
       "</table>\n",
       "<p>250 rows × 49 columns</p>\n",
       "</div>"
      ],
      "text/plain": [
       "                           country        2010_1                     2010_2  \\\n",
       "                Unnamed: 0_level_1        Inflow      Outflow        Inflow   \n",
       "0                            Total  65282.094118  5630.326645  71125.689936   \n",
       "1                        of Which:           NaN          NaN           NaN   \n",
       "2               Russian Federation  30894.292213  1838.355105  34489.193394   \n",
       "3                            Italy   5662.810282    67.037832   5946.351729   \n",
       "4                           Greece   8273.374332   335.544711   8412.861337   \n",
       "..                             ...           ...          ...           ...   \n",
       "245      Sint Maarten (Dutch part)      0.000000     0.000000      0.000000   \n",
       "246                  New Caledonia      0.000000     0.000000      0.000000   \n",
       "247                           Niue      0.000000     0.000000      0.000000   \n",
       "248         Svalbard and Jan Mayen      0.000000     0.000000      0.000000   \n",
       "249  Areas not elsewhere specified     21.011324    11.343390     15.669560   \n",
       "\n",
       "                        2010_3                     2010_4               \\\n",
       "         Outflow        Inflow      Outflow        Inflow      Outflow   \n",
       "0    6093.613082  92985.126657  7627.998001  84503.458312  6953.173070   \n",
       "1            NaN           NaN          NaN           NaN          NaN   \n",
       "2    2284.811719  47460.358242  2846.982813  43810.491217  2762.989677   \n",
       "3      87.652371   6966.017311    91.810450   6034.675989    79.467909   \n",
       "4     377.937925  10515.666640   463.677133   9043.791615   400.690623   \n",
       "..           ...           ...          ...           ...          ...   \n",
       "245     0.000000      0.000000     0.000000      0.000000     0.000000   \n",
       "246     0.000000      0.000000     0.000000      0.000000     0.000000   \n",
       "247     0.000000      0.000000     0.000000      0.000000     0.000000   \n",
       "248     0.000000      0.000000     0.000000      0.000000     0.000000   \n",
       "249    12.417903     21.199184    14.791000     22.203288     0.000000   \n",
       "\n",
       "           2010_5  ...         2011_8                      2011_9  \\\n",
       "           Inflow  ...         Inflow      Outflow         Inflow   \n",
       "0    83103.497531  ...  114486.094013  8586.108567  114118.737394   \n",
       "1             NaN  ...            NaN          NaN            NaN   \n",
       "2    41281.275133  ...   63807.035583  2975.583780   61373.530737   \n",
       "3     5911.069432  ...    9296.107636   164.319550    9479.814549   \n",
       "4     9860.619376  ...   12358.476946   741.624633   12911.028748   \n",
       "..            ...  ...            ...          ...            ...   \n",
       "245      0.000000  ...       0.000000     0.000000       0.000000   \n",
       "246      0.000000  ...       0.000000     0.000000       0.000000   \n",
       "247      0.000000  ...       0.000000     0.000000       0.000000   \n",
       "248      0.000000  ...       0.000000     0.000000       0.000000   \n",
       "249      3.972360  ...       4.861140     0.075000      30.299000   \n",
       "\n",
       "                        2011_10                     2011_11               \\\n",
       "         Outflow         Inflow      Outflow         Inflow      Outflow   \n",
       "0    8286.121104  108966.473838  9163.590988  104160.863425  8378.429096   \n",
       "1            NaN            NaN          NaN            NaN          NaN   \n",
       "2    2814.681863   57354.604160  3309.555531   54907.321060  2835.128595   \n",
       "3     171.045691    9430.480119   240.945239    8796.650090   158.255424   \n",
       "4     693.763130   12872.327952   728.016390   11597.517206   676.753096   \n",
       "..           ...            ...          ...            ...          ...   \n",
       "245     0.000000       0.000000     0.000000       0.000000     0.000000   \n",
       "246     0.000000       0.000000     0.000000       0.000000     0.000000   \n",
       "247     0.000000       0.000000     0.000000       0.000000     0.000000   \n",
       "248     0.000000       0.000000     0.000000       0.000000     0.000000   \n",
       "249     7.717530      34.813660     4.433834      67.980410     4.920820   \n",
       "\n",
       "           2011_12               \n",
       "            Inflow      Outflow  \n",
       "0    124901.501086  9208.151122  \n",
       "1              NaN          NaN  \n",
       "2     66343.365701  3337.177679  \n",
       "3      9896.730341   182.800243  \n",
       "4     13267.391088   665.257176  \n",
       "..             ...          ...  \n",
       "245       0.000000     0.000000  \n",
       "246       0.000000     0.000000  \n",
       "247       0.000000     0.000000  \n",
       "248       0.000000     0.000000  \n",
       "249      24.344000     3.194390  \n",
       "\n",
       "[250 rows x 49 columns]"
      ]
     },
     "execution_count": 49,
     "metadata": {},
     "output_type": "execute_result"
    }
   ],
   "source": [
    "df_Remissions"
   ]
  },
  {
   "cell_type": "code",
   "execution_count": 50,
   "id": "8e11ae83",
   "metadata": {},
   "outputs": [],
   "source": [
    "df_Remissions = df_Remissions.drop(1)"
   ]
  },
  {
   "cell_type": "code",
   "execution_count": 51,
   "id": "aeef7164",
   "metadata": {},
   "outputs": [],
   "source": [
    "df_Remissions.rename(columns={\"country\":\"Country\"}, inplace=True)"
   ]
  },
  {
   "cell_type": "code",
   "execution_count": 52,
   "id": "71b42feb",
   "metadata": {},
   "outputs": [
    {
     "data": {
      "text/html": [
       "<div>\n",
       "<style scoped>\n",
       "    .dataframe tbody tr th:only-of-type {\n",
       "        vertical-align: middle;\n",
       "    }\n",
       "\n",
       "    .dataframe tbody tr th {\n",
       "        vertical-align: top;\n",
       "    }\n",
       "\n",
       "    .dataframe thead tr th {\n",
       "        text-align: left;\n",
       "    }\n",
       "</style>\n",
       "<table border=\"1\" class=\"dataframe\">\n",
       "  <thead>\n",
       "    <tr>\n",
       "      <th></th>\n",
       "      <th>Country</th>\n",
       "      <th colspan=\"2\" halign=\"left\">2012-01-31 00:00:00</th>\n",
       "      <th colspan=\"2\" halign=\"left\">2012-02-29 00:00:00</th>\n",
       "      <th colspan=\"2\" halign=\"left\">2012-03-31 00:00:00</th>\n",
       "      <th colspan=\"2\" halign=\"left\">2012-04-30 00:00:00</th>\n",
       "      <th>2012-05-31 00:00:00</th>\n",
       "      <th>...</th>\n",
       "      <th colspan=\"2\" halign=\"left\">2021-11-30 00:00:00</th>\n",
       "      <th colspan=\"2\" halign=\"left\">2021-12-31 00:00:00</th>\n",
       "      <th colspan=\"2\" halign=\"left\">2022-01-31 00:00:00</th>\n",
       "      <th colspan=\"2\" halign=\"left\">2022-02-28 00:00:00</th>\n",
       "      <th colspan=\"2\" halign=\"left\">2022-03-31 00:00:00</th>\n",
       "    </tr>\n",
       "    <tr>\n",
       "      <th></th>\n",
       "      <th>Unnamed: 0_level_1</th>\n",
       "      <th>Inflow</th>\n",
       "      <th>Outflow</th>\n",
       "      <th>Inflow</th>\n",
       "      <th>Outflow</th>\n",
       "      <th>Inflow</th>\n",
       "      <th>Outflow</th>\n",
       "      <th>Inflow</th>\n",
       "      <th>Outflow</th>\n",
       "      <th>Inflow</th>\n",
       "      <th>...</th>\n",
       "      <th>Inflow</th>\n",
       "      <th>Outflow</th>\n",
       "      <th>Inflow</th>\n",
       "      <th>Outflow</th>\n",
       "      <th>Inflow</th>\n",
       "      <th>Outflow</th>\n",
       "      <th>Inflow</th>\n",
       "      <th>Outflow</th>\n",
       "      <th>Inflow</th>\n",
       "      <th>Outflow</th>\n",
       "    </tr>\n",
       "  </thead>\n",
       "  <tbody>\n",
       "    <tr>\n",
       "      <th>0</th>\n",
       "      <td>Total</td>\n",
       "      <td>84423.769</td>\n",
       "      <td>6879.219</td>\n",
       "      <td>96052.297</td>\n",
       "      <td>7547.522</td>\n",
       "      <td>108095.916</td>\n",
       "      <td>8411.361</td>\n",
       "      <td>112085.523</td>\n",
       "      <td>7808.379</td>\n",
       "      <td>116678.571</td>\n",
       "      <td>...</td>\n",
       "      <td>207337.549247</td>\n",
       "      <td>31765.767033</td>\n",
       "      <td>229487.011781</td>\n",
       "      <td>33323.421849</td>\n",
       "      <td>168840.496906</td>\n",
       "      <td>23320.709308</td>\n",
       "      <td>183418.777012</td>\n",
       "      <td>26744.311641</td>\n",
       "      <td>193065.277880</td>\n",
       "      <td>23983.799021</td>\n",
       "    </tr>\n",
       "    <tr>\n",
       "      <th>2</th>\n",
       "      <td>Italy</td>\n",
       "      <td>8203.666</td>\n",
       "      <td>199.413</td>\n",
       "      <td>8285.893</td>\n",
       "      <td>155.962</td>\n",
       "      <td>9426.712</td>\n",
       "      <td>216.485</td>\n",
       "      <td>8469.791</td>\n",
       "      <td>204.671</td>\n",
       "      <td>9270.185</td>\n",
       "      <td>...</td>\n",
       "      <td>32062.058689</td>\n",
       "      <td>665.186287</td>\n",
       "      <td>37882.303986</td>\n",
       "      <td>605.742198</td>\n",
       "      <td>33327.657269</td>\n",
       "      <td>515.955059</td>\n",
       "      <td>32955.519052</td>\n",
       "      <td>567.721472</td>\n",
       "      <td>36046.938709</td>\n",
       "      <td>688.975274</td>\n",
       "    </tr>\n",
       "    <tr>\n",
       "      <th>3</th>\n",
       "      <td>Russian Federation</td>\n",
       "      <td>41674.984</td>\n",
       "      <td>2162.151</td>\n",
       "      <td>51300.115</td>\n",
       "      <td>2460.171</td>\n",
       "      <td>58878.089</td>\n",
       "      <td>2714.789</td>\n",
       "      <td>63284.450</td>\n",
       "      <td>2405.064</td>\n",
       "      <td>65531.373</td>\n",
       "      <td>...</td>\n",
       "      <td>34396.171583</td>\n",
       "      <td>8269.529183</td>\n",
       "      <td>39701.700066</td>\n",
       "      <td>9130.770100</td>\n",
       "      <td>22382.214555</td>\n",
       "      <td>5924.171282</td>\n",
       "      <td>21943.964040</td>\n",
       "      <td>6292.664133</td>\n",
       "      <td>27001.902819</td>\n",
       "      <td>2716.279532</td>\n",
       "    </tr>\n",
       "    <tr>\n",
       "      <th>4</th>\n",
       "      <td>United States of America</td>\n",
       "      <td>5535.781</td>\n",
       "      <td>216.319</td>\n",
       "      <td>5734.941</td>\n",
       "      <td>127.710</td>\n",
       "      <td>6474.944</td>\n",
       "      <td>125.695</td>\n",
       "      <td>6478.448</td>\n",
       "      <td>136.629</td>\n",
       "      <td>6666.622</td>\n",
       "      <td>...</td>\n",
       "      <td>23975.889235</td>\n",
       "      <td>480.473746</td>\n",
       "      <td>26653.849411</td>\n",
       "      <td>550.946914</td>\n",
       "      <td>20300.954354</td>\n",
       "      <td>472.882130</td>\n",
       "      <td>21096.045814</td>\n",
       "      <td>620.511116</td>\n",
       "      <td>25640.587091</td>\n",
       "      <td>856.938495</td>\n",
       "    </tr>\n",
       "    <tr>\n",
       "      <th>5</th>\n",
       "      <td>Greece</td>\n",
       "      <td>11366.031</td>\n",
       "      <td>526.899</td>\n",
       "      <td>11873.848</td>\n",
       "      <td>555.044</td>\n",
       "      <td>12692.941</td>\n",
       "      <td>802.204</td>\n",
       "      <td>14411.441</td>\n",
       "      <td>653.751</td>\n",
       "      <td>14189.559</td>\n",
       "      <td>...</td>\n",
       "      <td>18948.444365</td>\n",
       "      <td>1318.634610</td>\n",
       "      <td>20488.948389</td>\n",
       "      <td>1698.530650</td>\n",
       "      <td>16891.693199</td>\n",
       "      <td>1263.006707</td>\n",
       "      <td>15465.996833</td>\n",
       "      <td>1341.553687</td>\n",
       "      <td>18945.479169</td>\n",
       "      <td>1659.071446</td>\n",
       "    </tr>\n",
       "  </tbody>\n",
       "</table>\n",
       "<p>5 rows × 247 columns</p>\n",
       "</div>"
      ],
      "text/plain": [
       "                    Country 2012-01-31 00:00:00           2012-02-29 00:00:00  \\\n",
       "         Unnamed: 0_level_1              Inflow   Outflow              Inflow   \n",
       "0                     Total           84423.769  6879.219           96052.297   \n",
       "2                     Italy            8203.666   199.413            8285.893   \n",
       "3        Russian Federation           41674.984  2162.151           51300.115   \n",
       "4  United States of America            5535.781   216.319            5734.941   \n",
       "5                    Greece           11366.031   526.899           11873.848   \n",
       "\n",
       "            2012-03-31 00:00:00           2012-04-30 00:00:00            \\\n",
       "    Outflow              Inflow   Outflow              Inflow   Outflow   \n",
       "0  7547.522          108095.916  8411.361          112085.523  7808.379   \n",
       "2   155.962            9426.712   216.485            8469.791   204.671   \n",
       "3  2460.171           58878.089  2714.789           63284.450  2405.064   \n",
       "4   127.710            6474.944   125.695            6478.448   136.629   \n",
       "5   555.044           12692.941   802.204           14411.441   653.751   \n",
       "\n",
       "  2012-05-31 00:00:00  ... 2021-11-30 00:00:00                \\\n",
       "               Inflow  ...              Inflow       Outflow   \n",
       "0          116678.571  ...       207337.549247  31765.767033   \n",
       "2            9270.185  ...        32062.058689    665.186287   \n",
       "3           65531.373  ...        34396.171583   8269.529183   \n",
       "4            6666.622  ...        23975.889235    480.473746   \n",
       "5           14189.559  ...        18948.444365   1318.634610   \n",
       "\n",
       "  2021-12-31 00:00:00               2022-01-31 00:00:00                \\\n",
       "               Inflow       Outflow              Inflow       Outflow   \n",
       "0       229487.011781  33323.421849       168840.496906  23320.709308   \n",
       "2        37882.303986    605.742198        33327.657269    515.955059   \n",
       "3        39701.700066   9130.770100        22382.214555   5924.171282   \n",
       "4        26653.849411    550.946914        20300.954354    472.882130   \n",
       "5        20488.948389   1698.530650        16891.693199   1263.006707   \n",
       "\n",
       "  2022-02-28 00:00:00               2022-03-31 00:00:00                \n",
       "               Inflow       Outflow              Inflow       Outflow  \n",
       "0       183418.777012  26744.311641       193065.277880  23983.799021  \n",
       "2        32955.519052    567.721472        36046.938709    688.975274  \n",
       "3        21943.964040   6292.664133        27001.902819   2716.279532  \n",
       "4        21096.045814    620.511116        25640.587091    856.938495  \n",
       "5        15465.996833   1341.553687        18945.479169   1659.071446  \n",
       "\n",
       "[5 rows x 247 columns]"
      ]
     },
     "execution_count": 52,
     "metadata": {},
     "output_type": "execute_result"
    }
   ],
   "source": [
    "df_Remissions_part2 = pd.read_excel(url_Remissions, sheet_name = \"2012-2021 (eng) \",skiprows = 3, header = [0,1])\n",
    "df_Remissions_part2 = df_Remissions_part2.drop(1)\n",
    "df_Remissions_part2.head()"
   ]
  },
  {
   "cell_type": "code",
   "execution_count": 53,
   "id": "6c45397d",
   "metadata": {},
   "outputs": [],
   "source": [
    "df_Remissions_part2.set_index([(\"Country\", \"Unnamed: 0_level_1\")], inplace=True)\n"
   ]
  },
  {
   "cell_type": "code",
   "execution_count": 54,
   "id": "e8dfd85b",
   "metadata": {},
   "outputs": [
    {
     "data": {
      "text/html": [
       "<div>\n",
       "<style scoped>\n",
       "    .dataframe tbody tr th:only-of-type {\n",
       "        vertical-align: middle;\n",
       "    }\n",
       "\n",
       "    .dataframe tbody tr th {\n",
       "        vertical-align: top;\n",
       "    }\n",
       "\n",
       "    .dataframe thead tr th {\n",
       "        text-align: left;\n",
       "    }\n",
       "\n",
       "    .dataframe thead tr:last-of-type th {\n",
       "        text-align: right;\n",
       "    }\n",
       "</style>\n",
       "<table border=\"1\" class=\"dataframe\">\n",
       "  <thead>\n",
       "    <tr>\n",
       "      <th></th>\n",
       "      <th colspan=\"2\" halign=\"left\">2012-01-31</th>\n",
       "      <th colspan=\"2\" halign=\"left\">2012-02-29</th>\n",
       "      <th colspan=\"2\" halign=\"left\">2012-03-31</th>\n",
       "      <th colspan=\"2\" halign=\"left\">2012-04-30</th>\n",
       "      <th colspan=\"2\" halign=\"left\">2012-05-31</th>\n",
       "      <th>...</th>\n",
       "      <th colspan=\"2\" halign=\"left\">2021-11-30</th>\n",
       "      <th colspan=\"2\" halign=\"left\">2021-12-31</th>\n",
       "      <th colspan=\"2\" halign=\"left\">2022-01-31</th>\n",
       "      <th colspan=\"2\" halign=\"left\">2022-02-28</th>\n",
       "      <th colspan=\"2\" halign=\"left\">2022-03-31</th>\n",
       "    </tr>\n",
       "    <tr>\n",
       "      <th></th>\n",
       "      <th>Inflow</th>\n",
       "      <th>Outflow</th>\n",
       "      <th>Inflow</th>\n",
       "      <th>Outflow</th>\n",
       "      <th>Inflow</th>\n",
       "      <th>Outflow</th>\n",
       "      <th>Inflow</th>\n",
       "      <th>Outflow</th>\n",
       "      <th>Inflow</th>\n",
       "      <th>Outflow</th>\n",
       "      <th>...</th>\n",
       "      <th>Inflow</th>\n",
       "      <th>Outflow</th>\n",
       "      <th>Inflow</th>\n",
       "      <th>Outflow</th>\n",
       "      <th>Inflow</th>\n",
       "      <th>Outflow</th>\n",
       "      <th>Inflow</th>\n",
       "      <th>Outflow</th>\n",
       "      <th>Inflow</th>\n",
       "      <th>Outflow</th>\n",
       "    </tr>\n",
       "    <tr>\n",
       "      <th>(Country, Unnamed: 0_level_1)</th>\n",
       "      <th></th>\n",
       "      <th></th>\n",
       "      <th></th>\n",
       "      <th></th>\n",
       "      <th></th>\n",
       "      <th></th>\n",
       "      <th></th>\n",
       "      <th></th>\n",
       "      <th></th>\n",
       "      <th></th>\n",
       "      <th></th>\n",
       "      <th></th>\n",
       "      <th></th>\n",
       "      <th></th>\n",
       "      <th></th>\n",
       "      <th></th>\n",
       "      <th></th>\n",
       "      <th></th>\n",
       "      <th></th>\n",
       "      <th></th>\n",
       "      <th></th>\n",
       "    </tr>\n",
       "  </thead>\n",
       "  <tbody>\n",
       "    <tr>\n",
       "      <th>Total</th>\n",
       "      <td>84423.769</td>\n",
       "      <td>6879.219</td>\n",
       "      <td>96052.297</td>\n",
       "      <td>7547.522</td>\n",
       "      <td>108095.916</td>\n",
       "      <td>8411.361</td>\n",
       "      <td>112085.523</td>\n",
       "      <td>7808.379</td>\n",
       "      <td>116678.571</td>\n",
       "      <td>9003.885</td>\n",
       "      <td>...</td>\n",
       "      <td>207337.549247</td>\n",
       "      <td>31765.767033</td>\n",
       "      <td>229487.011781</td>\n",
       "      <td>33323.421849</td>\n",
       "      <td>168840.496906</td>\n",
       "      <td>23320.709308</td>\n",
       "      <td>183418.777012</td>\n",
       "      <td>26744.311641</td>\n",
       "      <td>193065.277880</td>\n",
       "      <td>23983.799021</td>\n",
       "    </tr>\n",
       "    <tr>\n",
       "      <th>Italy</th>\n",
       "      <td>8203.666</td>\n",
       "      <td>199.413</td>\n",
       "      <td>8285.893</td>\n",
       "      <td>155.962</td>\n",
       "      <td>9426.712</td>\n",
       "      <td>216.485</td>\n",
       "      <td>8469.791</td>\n",
       "      <td>204.671</td>\n",
       "      <td>9270.185</td>\n",
       "      <td>203.907</td>\n",
       "      <td>...</td>\n",
       "      <td>32062.058689</td>\n",
       "      <td>665.186287</td>\n",
       "      <td>37882.303986</td>\n",
       "      <td>605.742198</td>\n",
       "      <td>33327.657269</td>\n",
       "      <td>515.955059</td>\n",
       "      <td>32955.519052</td>\n",
       "      <td>567.721472</td>\n",
       "      <td>36046.938709</td>\n",
       "      <td>688.975274</td>\n",
       "    </tr>\n",
       "    <tr>\n",
       "      <th>Russian Federation</th>\n",
       "      <td>41674.984</td>\n",
       "      <td>2162.151</td>\n",
       "      <td>51300.115</td>\n",
       "      <td>2460.171</td>\n",
       "      <td>58878.089</td>\n",
       "      <td>2714.789</td>\n",
       "      <td>63284.450</td>\n",
       "      <td>2405.064</td>\n",
       "      <td>65531.373</td>\n",
       "      <td>3105.701</td>\n",
       "      <td>...</td>\n",
       "      <td>34396.171583</td>\n",
       "      <td>8269.529183</td>\n",
       "      <td>39701.700066</td>\n",
       "      <td>9130.770100</td>\n",
       "      <td>22382.214555</td>\n",
       "      <td>5924.171282</td>\n",
       "      <td>21943.964040</td>\n",
       "      <td>6292.664133</td>\n",
       "      <td>27001.902819</td>\n",
       "      <td>2716.279532</td>\n",
       "    </tr>\n",
       "    <tr>\n",
       "      <th>United States of America</th>\n",
       "      <td>5535.781</td>\n",
       "      <td>216.319</td>\n",
       "      <td>5734.941</td>\n",
       "      <td>127.710</td>\n",
       "      <td>6474.944</td>\n",
       "      <td>125.695</td>\n",
       "      <td>6478.448</td>\n",
       "      <td>136.629</td>\n",
       "      <td>6666.622</td>\n",
       "      <td>162.852</td>\n",
       "      <td>...</td>\n",
       "      <td>23975.889235</td>\n",
       "      <td>480.473746</td>\n",
       "      <td>26653.849411</td>\n",
       "      <td>550.946914</td>\n",
       "      <td>20300.954354</td>\n",
       "      <td>472.882130</td>\n",
       "      <td>21096.045814</td>\n",
       "      <td>620.511116</td>\n",
       "      <td>25640.587091</td>\n",
       "      <td>856.938495</td>\n",
       "    </tr>\n",
       "    <tr>\n",
       "      <th>Greece</th>\n",
       "      <td>11366.031</td>\n",
       "      <td>526.899</td>\n",
       "      <td>11873.848</td>\n",
       "      <td>555.044</td>\n",
       "      <td>12692.941</td>\n",
       "      <td>802.204</td>\n",
       "      <td>14411.441</td>\n",
       "      <td>653.751</td>\n",
       "      <td>14189.559</td>\n",
       "      <td>761.615</td>\n",
       "      <td>...</td>\n",
       "      <td>18948.444365</td>\n",
       "      <td>1318.634610</td>\n",
       "      <td>20488.948389</td>\n",
       "      <td>1698.530650</td>\n",
       "      <td>16891.693199</td>\n",
       "      <td>1263.006707</td>\n",
       "      <td>15465.996833</td>\n",
       "      <td>1341.553687</td>\n",
       "      <td>18945.479169</td>\n",
       "      <td>1659.071446</td>\n",
       "    </tr>\n",
       "    <tr>\n",
       "      <th>...</th>\n",
       "      <td>...</td>\n",
       "      <td>...</td>\n",
       "      <td>...</td>\n",
       "      <td>...</td>\n",
       "      <td>...</td>\n",
       "      <td>...</td>\n",
       "      <td>...</td>\n",
       "      <td>...</td>\n",
       "      <td>...</td>\n",
       "      <td>...</td>\n",
       "      <td>...</td>\n",
       "      <td>...</td>\n",
       "      <td>...</td>\n",
       "      <td>...</td>\n",
       "      <td>...</td>\n",
       "      <td>...</td>\n",
       "      <td>...</td>\n",
       "      <td>...</td>\n",
       "      <td>...</td>\n",
       "      <td>...</td>\n",
       "      <td>...</td>\n",
       "    </tr>\n",
       "    <tr>\n",
       "      <th>Saint Helena, Ascension and Tristan da Cunha</th>\n",
       "      <td>0.000</td>\n",
       "      <td>0.000</td>\n",
       "      <td>0.000</td>\n",
       "      <td>0.000</td>\n",
       "      <td>0.000</td>\n",
       "      <td>0.000</td>\n",
       "      <td>0.000</td>\n",
       "      <td>0.000</td>\n",
       "      <td>0.000</td>\n",
       "      <td>0.000</td>\n",
       "      <td>...</td>\n",
       "      <td>0.000000</td>\n",
       "      <td>0.000000</td>\n",
       "      <td>0.000000</td>\n",
       "      <td>0.000000</td>\n",
       "      <td>0.000000</td>\n",
       "      <td>0.000000</td>\n",
       "      <td>0.000000</td>\n",
       "      <td>0.000000</td>\n",
       "      <td>0.000000</td>\n",
       "      <td>0.000000</td>\n",
       "    </tr>\n",
       "    <tr>\n",
       "      <th>Svalbard and Jan Mayen</th>\n",
       "      <td>0.000</td>\n",
       "      <td>0.000</td>\n",
       "      <td>0.000</td>\n",
       "      <td>0.000</td>\n",
       "      <td>0.000</td>\n",
       "      <td>0.000</td>\n",
       "      <td>0.000</td>\n",
       "      <td>0.000</td>\n",
       "      <td>0.000</td>\n",
       "      <td>0.000</td>\n",
       "      <td>...</td>\n",
       "      <td>0.000000</td>\n",
       "      <td>0.000000</td>\n",
       "      <td>0.000000</td>\n",
       "      <td>0.000000</td>\n",
       "      <td>0.000000</td>\n",
       "      <td>0.000000</td>\n",
       "      <td>0.000000</td>\n",
       "      <td>0.000000</td>\n",
       "      <td>0.000000</td>\n",
       "      <td>0.000000</td>\n",
       "    </tr>\n",
       "    <tr>\n",
       "      <th>Wallis and Futuna</th>\n",
       "      <td>0.000</td>\n",
       "      <td>0.000</td>\n",
       "      <td>0.000</td>\n",
       "      <td>0.000</td>\n",
       "      <td>0.000</td>\n",
       "      <td>0.000</td>\n",
       "      <td>0.000</td>\n",
       "      <td>0.000</td>\n",
       "      <td>0.000</td>\n",
       "      <td>0.000</td>\n",
       "      <td>...</td>\n",
       "      <td>0.000000</td>\n",
       "      <td>0.000000</td>\n",
       "      <td>0.000000</td>\n",
       "      <td>0.000000</td>\n",
       "      <td>0.000000</td>\n",
       "      <td>0.000000</td>\n",
       "      <td>0.000000</td>\n",
       "      <td>0.000000</td>\n",
       "      <td>0.000000</td>\n",
       "      <td>0.000000</td>\n",
       "    </tr>\n",
       "    <tr>\n",
       "      <th>Falkland Islands (Malvinas)</th>\n",
       "      <td>0.848</td>\n",
       "      <td>0.000</td>\n",
       "      <td>0.717</td>\n",
       "      <td>0.000</td>\n",
       "      <td>0.727</td>\n",
       "      <td>0.000</td>\n",
       "      <td>0.000</td>\n",
       "      <td>0.000</td>\n",
       "      <td>0.000</td>\n",
       "      <td>0.000</td>\n",
       "      <td>...</td>\n",
       "      <td>0.000000</td>\n",
       "      <td>0.000000</td>\n",
       "      <td>0.000000</td>\n",
       "      <td>0.000000</td>\n",
       "      <td>0.000000</td>\n",
       "      <td>0.000000</td>\n",
       "      <td>0.200000</td>\n",
       "      <td>0.000000</td>\n",
       "      <td>0.000000</td>\n",
       "      <td>0.000000</td>\n",
       "    </tr>\n",
       "    <tr>\n",
       "      <th>Northern Mariana Islands</th>\n",
       "      <td>0.000</td>\n",
       "      <td>0.000</td>\n",
       "      <td>0.000</td>\n",
       "      <td>0.000</td>\n",
       "      <td>0.000</td>\n",
       "      <td>0.000</td>\n",
       "      <td>0.000</td>\n",
       "      <td>0.000</td>\n",
       "      <td>0.000</td>\n",
       "      <td>0.000</td>\n",
       "      <td>...</td>\n",
       "      <td>0.000000</td>\n",
       "      <td>0.000000</td>\n",
       "      <td>0.000000</td>\n",
       "      <td>0.000000</td>\n",
       "      <td>0.000000</td>\n",
       "      <td>0.000000</td>\n",
       "      <td>0.000000</td>\n",
       "      <td>0.000000</td>\n",
       "      <td>0.000000</td>\n",
       "      <td>0.000000</td>\n",
       "    </tr>\n",
       "  </tbody>\n",
       "</table>\n",
       "<p>250 rows × 246 columns</p>\n",
       "</div>"
      ],
      "text/plain": [
       "                                             2012-01-31           2012-02-29  \\\n",
       "                                                 Inflow   Outflow     Inflow   \n",
       "(Country, Unnamed: 0_level_1)                                                  \n",
       "Total                                         84423.769  6879.219  96052.297   \n",
       "Italy                                          8203.666   199.413   8285.893   \n",
       "Russian Federation                            41674.984  2162.151  51300.115   \n",
       "United States of America                       5535.781   216.319   5734.941   \n",
       "Greece                                        11366.031   526.899  11873.848   \n",
       "...                                                 ...       ...        ...   \n",
       "Saint Helena, Ascension and Tristan da Cunha      0.000     0.000      0.000   \n",
       "Svalbard and Jan Mayen                            0.000     0.000      0.000   \n",
       "Wallis and Futuna                                 0.000     0.000      0.000   \n",
       "Falkland Islands (Malvinas)                       0.848     0.000      0.717   \n",
       "Northern Mariana Islands                          0.000     0.000      0.000   \n",
       "\n",
       "                                                        2012-03-31            \\\n",
       "                                               Outflow      Inflow   Outflow   \n",
       "(Country, Unnamed: 0_level_1)                                                  \n",
       "Total                                         7547.522  108095.916  8411.361   \n",
       "Italy                                          155.962    9426.712   216.485   \n",
       "Russian Federation                            2460.171   58878.089  2714.789   \n",
       "United States of America                       127.710    6474.944   125.695   \n",
       "Greece                                         555.044   12692.941   802.204   \n",
       "...                                                ...         ...       ...   \n",
       "Saint Helena, Ascension and Tristan da Cunha     0.000       0.000     0.000   \n",
       "Svalbard and Jan Mayen                           0.000       0.000     0.000   \n",
       "Wallis and Futuna                                0.000       0.000     0.000   \n",
       "Falkland Islands (Malvinas)                      0.000       0.727     0.000   \n",
       "Northern Mariana Islands                         0.000       0.000     0.000   \n",
       "\n",
       "                                              2012-04-30            \\\n",
       "                                                  Inflow   Outflow   \n",
       "(Country, Unnamed: 0_level_1)                                        \n",
       "Total                                         112085.523  7808.379   \n",
       "Italy                                           8469.791   204.671   \n",
       "Russian Federation                             63284.450  2405.064   \n",
       "United States of America                        6478.448   136.629   \n",
       "Greece                                         14411.441   653.751   \n",
       "...                                                  ...       ...   \n",
       "Saint Helena, Ascension and Tristan da Cunha       0.000     0.000   \n",
       "Svalbard and Jan Mayen                             0.000     0.000   \n",
       "Wallis and Futuna                                  0.000     0.000   \n",
       "Falkland Islands (Malvinas)                        0.000     0.000   \n",
       "Northern Mariana Islands                           0.000     0.000   \n",
       "\n",
       "                                              2012-05-31            ...  \\\n",
       "                                                  Inflow   Outflow  ...   \n",
       "(Country, Unnamed: 0_level_1)                                       ...   \n",
       "Total                                         116678.571  9003.885  ...   \n",
       "Italy                                           9270.185   203.907  ...   \n",
       "Russian Federation                             65531.373  3105.701  ...   \n",
       "United States of America                        6666.622   162.852  ...   \n",
       "Greece                                         14189.559   761.615  ...   \n",
       "...                                                  ...       ...  ...   \n",
       "Saint Helena, Ascension and Tristan da Cunha       0.000     0.000  ...   \n",
       "Svalbard and Jan Mayen                             0.000     0.000  ...   \n",
       "Wallis and Futuna                                  0.000     0.000  ...   \n",
       "Falkland Islands (Malvinas)                        0.000     0.000  ...   \n",
       "Northern Mariana Islands                           0.000     0.000  ...   \n",
       "\n",
       "                                                 2021-11-30                \\\n",
       "                                                     Inflow       Outflow   \n",
       "(Country, Unnamed: 0_level_1)                                               \n",
       "Total                                         207337.549247  31765.767033   \n",
       "Italy                                          32062.058689    665.186287   \n",
       "Russian Federation                             34396.171583   8269.529183   \n",
       "United States of America                       23975.889235    480.473746   \n",
       "Greece                                         18948.444365   1318.634610   \n",
       "...                                                     ...           ...   \n",
       "Saint Helena, Ascension and Tristan da Cunha       0.000000      0.000000   \n",
       "Svalbard and Jan Mayen                             0.000000      0.000000   \n",
       "Wallis and Futuna                                  0.000000      0.000000   \n",
       "Falkland Islands (Malvinas)                        0.000000      0.000000   \n",
       "Northern Mariana Islands                           0.000000      0.000000   \n",
       "\n",
       "                                                 2021-12-31                \\\n",
       "                                                     Inflow       Outflow   \n",
       "(Country, Unnamed: 0_level_1)                                               \n",
       "Total                                         229487.011781  33323.421849   \n",
       "Italy                                          37882.303986    605.742198   \n",
       "Russian Federation                             39701.700066   9130.770100   \n",
       "United States of America                       26653.849411    550.946914   \n",
       "Greece                                         20488.948389   1698.530650   \n",
       "...                                                     ...           ...   \n",
       "Saint Helena, Ascension and Tristan da Cunha       0.000000      0.000000   \n",
       "Svalbard and Jan Mayen                             0.000000      0.000000   \n",
       "Wallis and Futuna                                  0.000000      0.000000   \n",
       "Falkland Islands (Malvinas)                        0.000000      0.000000   \n",
       "Northern Mariana Islands                           0.000000      0.000000   \n",
       "\n",
       "                                                 2022-01-31                \\\n",
       "                                                     Inflow       Outflow   \n",
       "(Country, Unnamed: 0_level_1)                                               \n",
       "Total                                         168840.496906  23320.709308   \n",
       "Italy                                          33327.657269    515.955059   \n",
       "Russian Federation                             22382.214555   5924.171282   \n",
       "United States of America                       20300.954354    472.882130   \n",
       "Greece                                         16891.693199   1263.006707   \n",
       "...                                                     ...           ...   \n",
       "Saint Helena, Ascension and Tristan da Cunha       0.000000      0.000000   \n",
       "Svalbard and Jan Mayen                             0.000000      0.000000   \n",
       "Wallis and Futuna                                  0.000000      0.000000   \n",
       "Falkland Islands (Malvinas)                        0.000000      0.000000   \n",
       "Northern Mariana Islands                           0.000000      0.000000   \n",
       "\n",
       "                                                 2022-02-28                \\\n",
       "                                                     Inflow       Outflow   \n",
       "(Country, Unnamed: 0_level_1)                                               \n",
       "Total                                         183418.777012  26744.311641   \n",
       "Italy                                          32955.519052    567.721472   \n",
       "Russian Federation                             21943.964040   6292.664133   \n",
       "United States of America                       21096.045814    620.511116   \n",
       "Greece                                         15465.996833   1341.553687   \n",
       "...                                                     ...           ...   \n",
       "Saint Helena, Ascension and Tristan da Cunha       0.000000      0.000000   \n",
       "Svalbard and Jan Mayen                             0.000000      0.000000   \n",
       "Wallis and Futuna                                  0.000000      0.000000   \n",
       "Falkland Islands (Malvinas)                        0.200000      0.000000   \n",
       "Northern Mariana Islands                           0.000000      0.000000   \n",
       "\n",
       "                                                 2022-03-31                \n",
       "                                                     Inflow       Outflow  \n",
       "(Country, Unnamed: 0_level_1)                                              \n",
       "Total                                         193065.277880  23983.799021  \n",
       "Italy                                          36046.938709    688.975274  \n",
       "Russian Federation                             27001.902819   2716.279532  \n",
       "United States of America                       25640.587091    856.938495  \n",
       "Greece                                         18945.479169   1659.071446  \n",
       "...                                                     ...           ...  \n",
       "Saint Helena, Ascension and Tristan da Cunha       0.000000      0.000000  \n",
       "Svalbard and Jan Mayen                             0.000000      0.000000  \n",
       "Wallis and Futuna                                  0.000000      0.000000  \n",
       "Falkland Islands (Malvinas)                        0.000000      0.000000  \n",
       "Northern Mariana Islands                           0.000000      0.000000  \n",
       "\n",
       "[250 rows x 246 columns]"
      ]
     },
     "execution_count": 54,
     "metadata": {},
     "output_type": "execute_result"
    }
   ],
   "source": [
    "df_Remissions_part2"
   ]
  },
  {
   "cell_type": "code",
   "execution_count": 55,
   "id": "dbc04876",
   "metadata": {},
   "outputs": [
    {
     "data": {
      "text/html": [
       "<div>\n",
       "<style scoped>\n",
       "    .dataframe tbody tr th:only-of-type {\n",
       "        vertical-align: middle;\n",
       "    }\n",
       "\n",
       "    .dataframe tbody tr th {\n",
       "        vertical-align: top;\n",
       "    }\n",
       "\n",
       "    .dataframe thead th {\n",
       "        text-align: right;\n",
       "    }\n",
       "</style>\n",
       "<table border=\"1\" class=\"dataframe\">\n",
       "  <thead>\n",
       "    <tr style=\"text-align: right;\">\n",
       "      <th>(Country, Unnamed: 0_level_1)</th>\n",
       "      <th>Total</th>\n",
       "      <th>Italy</th>\n",
       "      <th>Russian Federation</th>\n",
       "      <th>United States of America</th>\n",
       "      <th>Greece</th>\n",
       "      <th>Israel</th>\n",
       "      <th>Germany</th>\n",
       "      <th>Turkey</th>\n",
       "      <th>Kazakhstan</th>\n",
       "      <th>Azerbaijan</th>\n",
       "      <th>...</th>\n",
       "      <th>Palau</th>\n",
       "      <th>Papua New Guinea</th>\n",
       "      <th>French Southern Territories</th>\n",
       "      <th>Saint Barthélemy</th>\n",
       "      <th>Saint Pierre and Miquelon</th>\n",
       "      <th>Saint Helena, Ascension and Tristan da Cunha</th>\n",
       "      <th>Svalbard and Jan Mayen</th>\n",
       "      <th>Wallis and Futuna</th>\n",
       "      <th>Falkland Islands (Malvinas)</th>\n",
       "      <th>Northern Mariana Islands</th>\n",
       "    </tr>\n",
       "  </thead>\n",
       "  <tbody>\n",
       "    <tr>\n",
       "      <th>count</th>\n",
       "      <td>246.000000</td>\n",
       "      <td>246.000000</td>\n",
       "      <td>246.000000</td>\n",
       "      <td>246.000000</td>\n",
       "      <td>246.000000</td>\n",
       "      <td>246.000000</td>\n",
       "      <td>246.000000</td>\n",
       "      <td>246.000000</td>\n",
       "      <td>246.000000</td>\n",
       "      <td>246.000000</td>\n",
       "      <td>...</td>\n",
       "      <td>244.000000</td>\n",
       "      <td>246.000000</td>\n",
       "      <td>244.000000</td>\n",
       "      <td>246.000000</td>\n",
       "      <td>246.000000</td>\n",
       "      <td>238.000000</td>\n",
       "      <td>244.000000</td>\n",
       "      <td>244.000000</td>\n",
       "      <td>246.000000</td>\n",
       "      <td>244.000000</td>\n",
       "    </tr>\n",
       "    <tr>\n",
       "      <th>mean</th>\n",
       "      <td>73528.949742</td>\n",
       "      <td>8021.200400</td>\n",
       "      <td>24557.267259</td>\n",
       "      <td>6279.539191</td>\n",
       "      <td>7909.280192</td>\n",
       "      <td>4099.222931</td>\n",
       "      <td>2019.330680</td>\n",
       "      <td>4375.032648</td>\n",
       "      <td>1158.824204</td>\n",
       "      <td>1602.219436</td>\n",
       "      <td>...</td>\n",
       "      <td>0.034746</td>\n",
       "      <td>0.085411</td>\n",
       "      <td>0.008217</td>\n",
       "      <td>0.071020</td>\n",
       "      <td>0.005882</td>\n",
       "      <td>0.000840</td>\n",
       "      <td>0.000709</td>\n",
       "      <td>0.010262</td>\n",
       "      <td>0.194415</td>\n",
       "      <td>0.060061</td>\n",
       "    </tr>\n",
       "    <tr>\n",
       "      <th>std</th>\n",
       "      <td>61626.327698</td>\n",
       "      <td>9704.510293</td>\n",
       "      <td>21131.703002</td>\n",
       "      <td>7305.887590</td>\n",
       "      <td>7439.514317</td>\n",
       "      <td>5520.583627</td>\n",
       "      <td>2564.690486</td>\n",
       "      <td>3286.666756</td>\n",
       "      <td>1649.110098</td>\n",
       "      <td>1631.545551</td>\n",
       "      <td>...</td>\n",
       "      <td>0.213049</td>\n",
       "      <td>0.462063</td>\n",
       "      <td>0.045557</td>\n",
       "      <td>0.641003</td>\n",
       "      <td>0.058988</td>\n",
       "      <td>0.012964</td>\n",
       "      <td>0.011075</td>\n",
       "      <td>0.085791</td>\n",
       "      <td>0.707915</td>\n",
       "      <td>0.429780</td>\n",
       "    </tr>\n",
       "    <tr>\n",
       "      <th>min</th>\n",
       "      <td>6879.219000</td>\n",
       "      <td>142.641000</td>\n",
       "      <td>2162.151000</td>\n",
       "      <td>125.695000</td>\n",
       "      <td>8.451000</td>\n",
       "      <td>51.366000</td>\n",
       "      <td>141.673000</td>\n",
       "      <td>219.166000</td>\n",
       "      <td>92.108000</td>\n",
       "      <td>153.383000</td>\n",
       "      <td>...</td>\n",
       "      <td>0.000000</td>\n",
       "      <td>0.000000</td>\n",
       "      <td>0.000000</td>\n",
       "      <td>0.000000</td>\n",
       "      <td>0.000000</td>\n",
       "      <td>0.000000</td>\n",
       "      <td>0.000000</td>\n",
       "      <td>0.000000</td>\n",
       "      <td>0.000000</td>\n",
       "      <td>0.000000</td>\n",
       "    </tr>\n",
       "    <tr>\n",
       "      <th>25%</th>\n",
       "      <td>16909.840000</td>\n",
       "      <td>307.567250</td>\n",
       "      <td>6639.184750</td>\n",
       "      <td>260.422000</td>\n",
       "      <td>936.918250</td>\n",
       "      <td>269.817500</td>\n",
       "      <td>316.865750</td>\n",
       "      <td>1152.448000</td>\n",
       "      <td>356.020750</td>\n",
       "      <td>757.141750</td>\n",
       "      <td>...</td>\n",
       "      <td>0.000000</td>\n",
       "      <td>0.000000</td>\n",
       "      <td>0.000000</td>\n",
       "      <td>0.000000</td>\n",
       "      <td>0.000000</td>\n",
       "      <td>0.000000</td>\n",
       "      <td>0.000000</td>\n",
       "      <td>0.000000</td>\n",
       "      <td>0.000000</td>\n",
       "      <td>0.000000</td>\n",
       "    </tr>\n",
       "    <tr>\n",
       "      <th>50%</th>\n",
       "      <td>49947.913925</td>\n",
       "      <td>4233.794137</td>\n",
       "      <td>11307.360500</td>\n",
       "      <td>2973.992747</td>\n",
       "      <td>1805.127000</td>\n",
       "      <td>792.955500</td>\n",
       "      <td>708.863882</td>\n",
       "      <td>3906.844000</td>\n",
       "      <td>755.844000</td>\n",
       "      <td>1216.522000</td>\n",
       "      <td>...</td>\n",
       "      <td>0.000000</td>\n",
       "      <td>0.000000</td>\n",
       "      <td>0.000000</td>\n",
       "      <td>0.000000</td>\n",
       "      <td>0.000000</td>\n",
       "      <td>0.000000</td>\n",
       "      <td>0.000000</td>\n",
       "      <td>0.000000</td>\n",
       "      <td>0.000000</td>\n",
       "      <td>0.000000</td>\n",
       "    </tr>\n",
       "    <tr>\n",
       "      <th>75%</th>\n",
       "      <td>123789.821000</td>\n",
       "      <td>11182.486750</td>\n",
       "      <td>38196.239250</td>\n",
       "      <td>11113.582250</td>\n",
       "      <td>14863.733750</td>\n",
       "      <td>7066.754000</td>\n",
       "      <td>2643.751750</td>\n",
       "      <td>7405.917250</td>\n",
       "      <td>1328.722500</td>\n",
       "      <td>1603.628000</td>\n",
       "      <td>...</td>\n",
       "      <td>0.000000</td>\n",
       "      <td>0.000000</td>\n",
       "      <td>0.000000</td>\n",
       "      <td>0.000000</td>\n",
       "      <td>0.000000</td>\n",
       "      <td>0.000000</td>\n",
       "      <td>0.000000</td>\n",
       "      <td>0.000000</td>\n",
       "      <td>0.000000</td>\n",
       "      <td>0.000000</td>\n",
       "    </tr>\n",
       "    <tr>\n",
       "      <th>max</th>\n",
       "      <td>229487.011781</td>\n",
       "      <td>37882.303986</td>\n",
       "      <td>82597.074000</td>\n",
       "      <td>26653.849411</td>\n",
       "      <td>22424.755000</td>\n",
       "      <td>17654.844273</td>\n",
       "      <td>11568.761119</td>\n",
       "      <td>11219.836000</td>\n",
       "      <td>13781.985709</td>\n",
       "      <td>9059.229000</td>\n",
       "      <td>...</td>\n",
       "      <td>2.000000</td>\n",
       "      <td>4.784000</td>\n",
       "      <td>0.371000</td>\n",
       "      <td>7.715000</td>\n",
       "      <td>0.800000</td>\n",
       "      <td>0.200000</td>\n",
       "      <td>0.173000</td>\n",
       "      <td>1.154000</td>\n",
       "      <td>7.420000</td>\n",
       "      <td>4.500000</td>\n",
       "    </tr>\n",
       "  </tbody>\n",
       "</table>\n",
       "<p>8 rows × 250 columns</p>\n",
       "</div>"
      ],
      "text/plain": [
       "('Country', 'Unnamed: 0_level_1')          Total         Italy  \\\n",
       "count                                 246.000000    246.000000   \n",
       "mean                                73528.949742   8021.200400   \n",
       "std                                 61626.327698   9704.510293   \n",
       "min                                  6879.219000    142.641000   \n",
       "25%                                 16909.840000    307.567250   \n",
       "50%                                 49947.913925   4233.794137   \n",
       "75%                                123789.821000  11182.486750   \n",
       "max                                229487.011781  37882.303986   \n",
       "\n",
       "('Country', 'Unnamed: 0_level_1')  Russian Federation  \\\n",
       "count                                      246.000000   \n",
       "mean                                     24557.267259   \n",
       "std                                      21131.703002   \n",
       "min                                       2162.151000   \n",
       "25%                                       6639.184750   \n",
       "50%                                      11307.360500   \n",
       "75%                                      38196.239250   \n",
       "max                                      82597.074000   \n",
       "\n",
       "('Country', 'Unnamed: 0_level_1')  United States of America        Greece  \\\n",
       "count                                            246.000000    246.000000   \n",
       "mean                                            6279.539191   7909.280192   \n",
       "std                                             7305.887590   7439.514317   \n",
       "min                                              125.695000      8.451000   \n",
       "25%                                              260.422000    936.918250   \n",
       "50%                                             2973.992747   1805.127000   \n",
       "75%                                            11113.582250  14863.733750   \n",
       "max                                            26653.849411  22424.755000   \n",
       "\n",
       "('Country', 'Unnamed: 0_level_1')        Israel       Germany        Turkey  \\\n",
       "count                                246.000000    246.000000    246.000000   \n",
       "mean                                4099.222931   2019.330680   4375.032648   \n",
       "std                                 5520.583627   2564.690486   3286.666756   \n",
       "min                                   51.366000    141.673000    219.166000   \n",
       "25%                                  269.817500    316.865750   1152.448000   \n",
       "50%                                  792.955500    708.863882   3906.844000   \n",
       "75%                                 7066.754000   2643.751750   7405.917250   \n",
       "max                                17654.844273  11568.761119  11219.836000   \n",
       "\n",
       "('Country', 'Unnamed: 0_level_1')    Kazakhstan   Azerbaijan  ...       Palau  \\\n",
       "count                                246.000000   246.000000  ...  244.000000   \n",
       "mean                                1158.824204  1602.219436  ...    0.034746   \n",
       "std                                 1649.110098  1631.545551  ...    0.213049   \n",
       "min                                   92.108000   153.383000  ...    0.000000   \n",
       "25%                                  356.020750   757.141750  ...    0.000000   \n",
       "50%                                  755.844000  1216.522000  ...    0.000000   \n",
       "75%                                 1328.722500  1603.628000  ...    0.000000   \n",
       "max                                13781.985709  9059.229000  ...    2.000000   \n",
       "\n",
       "('Country', 'Unnamed: 0_level_1')  Papua New Guinea  \\\n",
       "count                                    246.000000   \n",
       "mean                                       0.085411   \n",
       "std                                        0.462063   \n",
       "min                                        0.000000   \n",
       "25%                                        0.000000   \n",
       "50%                                        0.000000   \n",
       "75%                                        0.000000   \n",
       "max                                        4.784000   \n",
       "\n",
       "('Country', 'Unnamed: 0_level_1')  French Southern Territories  \\\n",
       "count                                               244.000000   \n",
       "mean                                                  0.008217   \n",
       "std                                                   0.045557   \n",
       "min                                                   0.000000   \n",
       "25%                                                   0.000000   \n",
       "50%                                                   0.000000   \n",
       "75%                                                   0.000000   \n",
       "max                                                   0.371000   \n",
       "\n",
       "('Country', 'Unnamed: 0_level_1')  Saint Barthélemy  \\\n",
       "count                                    246.000000   \n",
       "mean                                       0.071020   \n",
       "std                                        0.641003   \n",
       "min                                        0.000000   \n",
       "25%                                        0.000000   \n",
       "50%                                        0.000000   \n",
       "75%                                        0.000000   \n",
       "max                                        7.715000   \n",
       "\n",
       "('Country', 'Unnamed: 0_level_1')  Saint Pierre and Miquelon  \\\n",
       "count                                             246.000000   \n",
       "mean                                                0.005882   \n",
       "std                                                 0.058988   \n",
       "min                                                 0.000000   \n",
       "25%                                                 0.000000   \n",
       "50%                                                 0.000000   \n",
       "75%                                                 0.000000   \n",
       "max                                                 0.800000   \n",
       "\n",
       "('Country', 'Unnamed: 0_level_1')  Saint Helena, Ascension and Tristan da Cunha  \\\n",
       "count                                                                238.000000   \n",
       "mean                                                                   0.000840   \n",
       "std                                                                    0.012964   \n",
       "min                                                                    0.000000   \n",
       "25%                                                                    0.000000   \n",
       "50%                                                                    0.000000   \n",
       "75%                                                                    0.000000   \n",
       "max                                                                    0.200000   \n",
       "\n",
       "('Country', 'Unnamed: 0_level_1')  Svalbard and Jan Mayen  Wallis and Futuna  \\\n",
       "count                                          244.000000         244.000000   \n",
       "mean                                             0.000709           0.010262   \n",
       "std                                              0.011075           0.085791   \n",
       "min                                              0.000000           0.000000   \n",
       "25%                                              0.000000           0.000000   \n",
       "50%                                              0.000000           0.000000   \n",
       "75%                                              0.000000           0.000000   \n",
       "max                                              0.173000           1.154000   \n",
       "\n",
       "('Country', 'Unnamed: 0_level_1')  Falkland Islands (Malvinas)  \\\n",
       "count                                               246.000000   \n",
       "mean                                                  0.194415   \n",
       "std                                                   0.707915   \n",
       "min                                                   0.000000   \n",
       "25%                                                   0.000000   \n",
       "50%                                                   0.000000   \n",
       "75%                                                   0.000000   \n",
       "max                                                   7.420000   \n",
       "\n",
       "('Country', 'Unnamed: 0_level_1')  Northern Mariana Islands  \n",
       "count                                            244.000000  \n",
       "mean                                               0.060061  \n",
       "std                                                0.429780  \n",
       "min                                                0.000000  \n",
       "25%                                                0.000000  \n",
       "50%                                                0.000000  \n",
       "75%                                                0.000000  \n",
       "max                                                4.500000  \n",
       "\n",
       "[8 rows x 250 columns]"
      ]
     },
     "execution_count": 55,
     "metadata": {},
     "output_type": "execute_result"
    }
   ],
   "source": [
    "df_Remissions_part2.T.describe(include= 'all')"
   ]
  },
  {
   "cell_type": "code",
   "execution_count": 56,
   "id": "096c38d7",
   "metadata": {},
   "outputs": [
    {
     "data": {
      "text/plain": [
       "(Country, Unnamed: 0_level_1)\n",
       "Total                                           False\n",
       "Italy                                           False\n",
       "Russian Federation                              False\n",
       "United States of America                        False\n",
       "Greece                                          False\n",
       "                                                ...  \n",
       "Saint Helena, Ascension and Tristan da Cunha     True\n",
       "Svalbard and Jan Mayen                           True\n",
       "Wallis and Futuna                                True\n",
       "Falkland Islands (Malvinas)                     False\n",
       "Northern Mariana Islands                         True\n",
       "Length: 250, dtype: bool"
      ]
     },
     "execution_count": 56,
     "metadata": {},
     "output_type": "execute_result"
    }
   ],
   "source": [
    "df_Remissions_part2.isna().any(axis=1)"
   ]
  },
  {
   "cell_type": "code",
   "execution_count": 57,
   "id": "142a4ab2",
   "metadata": {},
   "outputs": [
    {
     "data": {
      "text/plain": [
       "0      False\n",
       "2      False\n",
       "3      False\n",
       "4      False\n",
       "5      False\n",
       "       ...  \n",
       "245    False\n",
       "246    False\n",
       "247    False\n",
       "248    False\n",
       "249    False\n",
       "Length: 249, dtype: bool"
      ]
     },
     "execution_count": 57,
     "metadata": {},
     "output_type": "execute_result"
    }
   ],
   "source": [
    "df_Remissions.isna().any(axis=1)"
   ]
  },
  {
   "cell_type": "code",
   "execution_count": 58,
   "id": "6985e619",
   "metadata": {},
   "outputs": [],
   "source": [
    "df_Remissions.set_index([(\"Country\", \"Unnamed: 0_level_1\")], inplace=True)"
   ]
  },
  {
   "cell_type": "code",
   "execution_count": 81,
   "id": "8ccaa94b",
   "metadata": {},
   "outputs": [
    {
     "data": {
      "text/html": [
       "<div>\n",
       "<style scoped>\n",
       "    .dataframe tbody tr th:only-of-type {\n",
       "        vertical-align: middle;\n",
       "    }\n",
       "\n",
       "    .dataframe tbody tr th {\n",
       "        vertical-align: top;\n",
       "    }\n",
       "\n",
       "    .dataframe thead tr th {\n",
       "        text-align: left;\n",
       "    }\n",
       "\n",
       "    .dataframe thead tr:last-of-type th {\n",
       "        text-align: right;\n",
       "    }\n",
       "</style>\n",
       "<table border=\"1\" class=\"dataframe\">\n",
       "  <thead>\n",
       "    <tr>\n",
       "      <th></th>\n",
       "      <th colspan=\"2\" halign=\"left\">2010_1</th>\n",
       "      <th colspan=\"2\" halign=\"left\">2010_2</th>\n",
       "      <th colspan=\"2\" halign=\"left\">2010_3</th>\n",
       "      <th colspan=\"2\" halign=\"left\">2010_4</th>\n",
       "      <th colspan=\"2\" halign=\"left\">2010_5</th>\n",
       "      <th>...</th>\n",
       "      <th colspan=\"2\" halign=\"left\">2021_11</th>\n",
       "      <th colspan=\"2\" halign=\"left\">2021_12</th>\n",
       "      <th colspan=\"2\" halign=\"left\">2022_1</th>\n",
       "      <th colspan=\"2\" halign=\"left\">2022_2</th>\n",
       "      <th colspan=\"2\" halign=\"left\">2022_3</th>\n",
       "    </tr>\n",
       "    <tr>\n",
       "      <th></th>\n",
       "      <th>Inflow</th>\n",
       "      <th>Outflow</th>\n",
       "      <th>Inflow</th>\n",
       "      <th>Outflow</th>\n",
       "      <th>Inflow</th>\n",
       "      <th>Outflow</th>\n",
       "      <th>Inflow</th>\n",
       "      <th>Outflow</th>\n",
       "      <th>Inflow</th>\n",
       "      <th>Outflow</th>\n",
       "      <th>...</th>\n",
       "      <th>Inflow</th>\n",
       "      <th>Outflow</th>\n",
       "      <th>Inflow</th>\n",
       "      <th>Outflow</th>\n",
       "      <th>Inflow</th>\n",
       "      <th>Outflow</th>\n",
       "      <th>Inflow</th>\n",
       "      <th>Outflow</th>\n",
       "      <th>Inflow</th>\n",
       "      <th>Outflow</th>\n",
       "    </tr>\n",
       "    <tr>\n",
       "      <th>(Country, Unnamed: 0_level_1)</th>\n",
       "      <th></th>\n",
       "      <th></th>\n",
       "      <th></th>\n",
       "      <th></th>\n",
       "      <th></th>\n",
       "      <th></th>\n",
       "      <th></th>\n",
       "      <th></th>\n",
       "      <th></th>\n",
       "      <th></th>\n",
       "      <th></th>\n",
       "      <th></th>\n",
       "      <th></th>\n",
       "      <th></th>\n",
       "      <th></th>\n",
       "      <th></th>\n",
       "      <th></th>\n",
       "      <th></th>\n",
       "      <th></th>\n",
       "      <th></th>\n",
       "      <th></th>\n",
       "    </tr>\n",
       "  </thead>\n",
       "  <tbody>\n",
       "    <tr>\n",
       "      <th>Total</th>\n",
       "      <td>65282.094118</td>\n",
       "      <td>5630.326645</td>\n",
       "      <td>71125.689936</td>\n",
       "      <td>6093.613082</td>\n",
       "      <td>92985.126657</td>\n",
       "      <td>7627.998001</td>\n",
       "      <td>84503.458312</td>\n",
       "      <td>6953.173070</td>\n",
       "      <td>83103.497531</td>\n",
       "      <td>6460.226895</td>\n",
       "      <td>...</td>\n",
       "      <td>207337.549247</td>\n",
       "      <td>31765.767033</td>\n",
       "      <td>229487.011781</td>\n",
       "      <td>33323.421849</td>\n",
       "      <td>168840.496906</td>\n",
       "      <td>23320.709308</td>\n",
       "      <td>183418.777012</td>\n",
       "      <td>26744.311641</td>\n",
       "      <td>193065.277880</td>\n",
       "      <td>23983.799021</td>\n",
       "    </tr>\n",
       "    <tr>\n",
       "      <th>Russian Federation</th>\n",
       "      <td>30894.292213</td>\n",
       "      <td>1838.355105</td>\n",
       "      <td>34489.193394</td>\n",
       "      <td>2284.811719</td>\n",
       "      <td>47460.358242</td>\n",
       "      <td>2846.982813</td>\n",
       "      <td>43810.491217</td>\n",
       "      <td>2762.989677</td>\n",
       "      <td>41281.275133</td>\n",
       "      <td>2496.034494</td>\n",
       "      <td>...</td>\n",
       "      <td>34396.171583</td>\n",
       "      <td>8269.529183</td>\n",
       "      <td>39701.700066</td>\n",
       "      <td>9130.770100</td>\n",
       "      <td>22382.214555</td>\n",
       "      <td>5924.171282</td>\n",
       "      <td>21943.964040</td>\n",
       "      <td>6292.664133</td>\n",
       "      <td>27001.902819</td>\n",
       "      <td>2716.279532</td>\n",
       "    </tr>\n",
       "    <tr>\n",
       "      <th>Greece</th>\n",
       "      <td>8273.374332</td>\n",
       "      <td>335.544711</td>\n",
       "      <td>8412.861337</td>\n",
       "      <td>377.937925</td>\n",
       "      <td>10515.666640</td>\n",
       "      <td>463.677133</td>\n",
       "      <td>9043.791615</td>\n",
       "      <td>400.690623</td>\n",
       "      <td>9860.619376</td>\n",
       "      <td>451.274882</td>\n",
       "      <td>...</td>\n",
       "      <td>18948.444365</td>\n",
       "      <td>1318.634610</td>\n",
       "      <td>20488.948389</td>\n",
       "      <td>1698.530650</td>\n",
       "      <td>16891.693199</td>\n",
       "      <td>1263.006707</td>\n",
       "      <td>15465.996833</td>\n",
       "      <td>1341.553687</td>\n",
       "      <td>18945.479169</td>\n",
       "      <td>1659.071446</td>\n",
       "    </tr>\n",
       "    <tr>\n",
       "      <th>Italy</th>\n",
       "      <td>5662.810282</td>\n",
       "      <td>67.037832</td>\n",
       "      <td>5946.351729</td>\n",
       "      <td>87.652371</td>\n",
       "      <td>6966.017311</td>\n",
       "      <td>91.810450</td>\n",
       "      <td>6034.675989</td>\n",
       "      <td>79.467909</td>\n",
       "      <td>5911.069432</td>\n",
       "      <td>94.714989</td>\n",
       "      <td>...</td>\n",
       "      <td>32062.058689</td>\n",
       "      <td>665.186287</td>\n",
       "      <td>37882.303986</td>\n",
       "      <td>605.742198</td>\n",
       "      <td>33327.657269</td>\n",
       "      <td>515.955059</td>\n",
       "      <td>32955.519052</td>\n",
       "      <td>567.721472</td>\n",
       "      <td>36046.938709</td>\n",
       "      <td>688.975274</td>\n",
       "    </tr>\n",
       "    <tr>\n",
       "      <th>United States</th>\n",
       "      <td>4851.012420</td>\n",
       "      <td>166.902497</td>\n",
       "      <td>5188.801043</td>\n",
       "      <td>170.690175</td>\n",
       "      <td>6661.216810</td>\n",
       "      <td>200.670875</td>\n",
       "      <td>5929.437960</td>\n",
       "      <td>147.961507</td>\n",
       "      <td>6708.923849</td>\n",
       "      <td>139.709309</td>\n",
       "      <td>...</td>\n",
       "      <td>NaN</td>\n",
       "      <td>NaN</td>\n",
       "      <td>NaN</td>\n",
       "      <td>NaN</td>\n",
       "      <td>NaN</td>\n",
       "      <td>NaN</td>\n",
       "      <td>NaN</td>\n",
       "      <td>NaN</td>\n",
       "      <td>NaN</td>\n",
       "      <td>NaN</td>\n",
       "    </tr>\n",
       "    <tr>\n",
       "      <th>Ukraine</th>\n",
       "      <td>4546.094079</td>\n",
       "      <td>901.580137</td>\n",
       "      <td>4739.516633</td>\n",
       "      <td>1038.183665</td>\n",
       "      <td>5984.386055</td>\n",
       "      <td>1362.386549</td>\n",
       "      <td>5569.286992</td>\n",
       "      <td>1257.104537</td>\n",
       "      <td>4925.983180</td>\n",
       "      <td>1158.226910</td>\n",
       "      <td>...</td>\n",
       "      <td>7493.736147</td>\n",
       "      <td>2902.877852</td>\n",
       "      <td>7842.140484</td>\n",
       "      <td>2973.298364</td>\n",
       "      <td>5477.862983</td>\n",
       "      <td>2139.109535</td>\n",
       "      <td>5082.670407</td>\n",
       "      <td>2452.689817</td>\n",
       "      <td>70.238162</td>\n",
       "      <td>2377.726248</td>\n",
       "    </tr>\n",
       "    <tr>\n",
       "      <th>Spain</th>\n",
       "      <td>2017.726733</td>\n",
       "      <td>81.775739</td>\n",
       "      <td>2237.812266</td>\n",
       "      <td>82.746912</td>\n",
       "      <td>2693.691649</td>\n",
       "      <td>107.602455</td>\n",
       "      <td>2231.520948</td>\n",
       "      <td>87.866900</td>\n",
       "      <td>2286.873958</td>\n",
       "      <td>74.996162</td>\n",
       "      <td>...</td>\n",
       "      <td>4417.331745</td>\n",
       "      <td>377.735780</td>\n",
       "      <td>5114.181168</td>\n",
       "      <td>431.438696</td>\n",
       "      <td>4071.832083</td>\n",
       "      <td>264.490920</td>\n",
       "      <td>4407.146488</td>\n",
       "      <td>399.216453</td>\n",
       "      <td>4693.989813</td>\n",
       "      <td>535.735465</td>\n",
       "    </tr>\n",
       "    <tr>\n",
       "      <th>Turkey</th>\n",
       "      <td>1819.440359</td>\n",
       "      <td>372.299476</td>\n",
       "      <td>1934.329513</td>\n",
       "      <td>361.846618</td>\n",
       "      <td>2561.933478</td>\n",
       "      <td>334.848525</td>\n",
       "      <td>2494.417231</td>\n",
       "      <td>356.909037</td>\n",
       "      <td>3030.029112</td>\n",
       "      <td>362.966725</td>\n",
       "      <td>...</td>\n",
       "      <td>8297.806856</td>\n",
       "      <td>7518.746499</td>\n",
       "      <td>8127.269275</td>\n",
       "      <td>7252.755764</td>\n",
       "      <td>6349.372479</td>\n",
       "      <td>5136.659833</td>\n",
       "      <td>7349.372252</td>\n",
       "      <td>5420.177224</td>\n",
       "      <td>8379.326041</td>\n",
       "      <td>5100.816925</td>\n",
       "    </tr>\n",
       "    <tr>\n",
       "      <th>India</th>\n",
       "      <td>18.282280</td>\n",
       "      <td>16.046650</td>\n",
       "      <td>30.322500</td>\n",
       "      <td>14.361130</td>\n",
       "      <td>80.322570</td>\n",
       "      <td>22.210361</td>\n",
       "      <td>29.730100</td>\n",
       "      <td>18.720895</td>\n",
       "      <td>0.000000</td>\n",
       "      <td>36.205943</td>\n",
       "      <td>...</td>\n",
       "      <td>20.687000</td>\n",
       "      <td>42.348520</td>\n",
       "      <td>4.522000</td>\n",
       "      <td>35.605581</td>\n",
       "      <td>2.026000</td>\n",
       "      <td>29.945720</td>\n",
       "      <td>24.945640</td>\n",
       "      <td>42.182390</td>\n",
       "      <td>3.360000</td>\n",
       "      <td>36.164820</td>\n",
       "    </tr>\n",
       "    <tr>\n",
       "      <th>United Kingdom</th>\n",
       "      <td>897.083403</td>\n",
       "      <td>101.737943</td>\n",
       "      <td>1032.812480</td>\n",
       "      <td>122.029382</td>\n",
       "      <td>1203.498481</td>\n",
       "      <td>104.237060</td>\n",
       "      <td>833.507864</td>\n",
       "      <td>101.766479</td>\n",
       "      <td>1050.628261</td>\n",
       "      <td>118.580469</td>\n",
       "      <td>...</td>\n",
       "      <td>NaN</td>\n",
       "      <td>NaN</td>\n",
       "      <td>NaN</td>\n",
       "      <td>NaN</td>\n",
       "      <td>NaN</td>\n",
       "      <td>NaN</td>\n",
       "      <td>NaN</td>\n",
       "      <td>NaN</td>\n",
       "      <td>NaN</td>\n",
       "      <td>NaN</td>\n",
       "    </tr>\n",
       "    <tr>\n",
       "      <th>Israel</th>\n",
       "      <td>643.439873</td>\n",
       "      <td>106.504147</td>\n",
       "      <td>755.396960</td>\n",
       "      <td>99.103565</td>\n",
       "      <td>829.232557</td>\n",
       "      <td>116.338709</td>\n",
       "      <td>1096.612202</td>\n",
       "      <td>102.506695</td>\n",
       "      <td>974.288086</td>\n",
       "      <td>125.525039</td>\n",
       "      <td>...</td>\n",
       "      <td>16968.677922</td>\n",
       "      <td>444.924807</td>\n",
       "      <td>17654.844273</td>\n",
       "      <td>508.466210</td>\n",
       "      <td>14913.304817</td>\n",
       "      <td>439.596126</td>\n",
       "      <td>14095.235096</td>\n",
       "      <td>479.515975</td>\n",
       "      <td>16974.273373</td>\n",
       "      <td>571.044900</td>\n",
       "    </tr>\n",
       "    <tr>\n",
       "      <th>Germany</th>\n",
       "      <td>718.181894</td>\n",
       "      <td>156.761450</td>\n",
       "      <td>752.798514</td>\n",
       "      <td>181.182575</td>\n",
       "      <td>968.873911</td>\n",
       "      <td>125.919830</td>\n",
       "      <td>935.390315</td>\n",
       "      <td>114.071111</td>\n",
       "      <td>1244.242044</td>\n",
       "      <td>142.519805</td>\n",
       "      <td>...</td>\n",
       "      <td>10885.052985</td>\n",
       "      <td>529.831259</td>\n",
       "      <td>11568.761119</td>\n",
       "      <td>561.810980</td>\n",
       "      <td>8817.241315</td>\n",
       "      <td>470.075802</td>\n",
       "      <td>11375.354154</td>\n",
       "      <td>563.145718</td>\n",
       "      <td>11310.307886</td>\n",
       "      <td>649.267765</td>\n",
       "    </tr>\n",
       "    <tr>\n",
       "      <th>Kazakhstan</th>\n",
       "      <td>374.081938</td>\n",
       "      <td>463.563611</td>\n",
       "      <td>521.365014</td>\n",
       "      <td>237.082856</td>\n",
       "      <td>606.050003</td>\n",
       "      <td>251.349615</td>\n",
       "      <td>634.723318</td>\n",
       "      <td>123.108979</td>\n",
       "      <td>594.293241</td>\n",
       "      <td>89.293658</td>\n",
       "      <td>...</td>\n",
       "      <td>9308.970701</td>\n",
       "      <td>831.452278</td>\n",
       "      <td>13341.045523</td>\n",
       "      <td>837.503484</td>\n",
       "      <td>6614.887414</td>\n",
       "      <td>584.181292</td>\n",
       "      <td>13781.985709</td>\n",
       "      <td>821.802185</td>\n",
       "      <td>7551.208363</td>\n",
       "      <td>728.741281</td>\n",
       "    </tr>\n",
       "    <tr>\n",
       "      <th>France</th>\n",
       "      <td>362.625008</td>\n",
       "      <td>76.445142</td>\n",
       "      <td>334.742081</td>\n",
       "      <td>81.074859</td>\n",
       "      <td>472.911557</td>\n",
       "      <td>95.142356</td>\n",
       "      <td>421.269467</td>\n",
       "      <td>93.549846</td>\n",
       "      <td>307.490217</td>\n",
       "      <td>75.230666</td>\n",
       "      <td>...</td>\n",
       "      <td>3355.135981</td>\n",
       "      <td>454.575607</td>\n",
       "      <td>3506.739559</td>\n",
       "      <td>519.452445</td>\n",
       "      <td>2790.995432</td>\n",
       "      <td>356.775312</td>\n",
       "      <td>3818.016493</td>\n",
       "      <td>387.183267</td>\n",
       "      <td>3685.645390</td>\n",
       "      <td>449.611907</td>\n",
       "    </tr>\n",
       "    <tr>\n",
       "      <th>Mexico</th>\n",
       "      <td>39.379420</td>\n",
       "      <td>1.246520</td>\n",
       "      <td>251.656660</td>\n",
       "      <td>1.000000</td>\n",
       "      <td>91.689060</td>\n",
       "      <td>2.100000</td>\n",
       "      <td>73.495240</td>\n",
       "      <td>5.043330</td>\n",
       "      <td>0.100000</td>\n",
       "      <td>0.000000</td>\n",
       "      <td>...</td>\n",
       "      <td>0.854300</td>\n",
       "      <td>9.679000</td>\n",
       "      <td>3.918560</td>\n",
       "      <td>2.579000</td>\n",
       "      <td>0.283020</td>\n",
       "      <td>8.296000</td>\n",
       "      <td>0.695000</td>\n",
       "      <td>10.588027</td>\n",
       "      <td>2.336270</td>\n",
       "      <td>8.443000</td>\n",
       "    </tr>\n",
       "    <tr>\n",
       "      <th>Azerbaijan</th>\n",
       "      <td>268.017057</td>\n",
       "      <td>121.648775</td>\n",
       "      <td>276.269591</td>\n",
       "      <td>137.817970</td>\n",
       "      <td>397.661653</td>\n",
       "      <td>192.009326</td>\n",
       "      <td>386.660706</td>\n",
       "      <td>201.596691</td>\n",
       "      <td>258.355689</td>\n",
       "      <td>166.167548</td>\n",
       "      <td>...</td>\n",
       "      <td>7169.390111</td>\n",
       "      <td>1802.332373</td>\n",
       "      <td>6787.357478</td>\n",
       "      <td>2109.370973</td>\n",
       "      <td>4419.629228</td>\n",
       "      <td>1443.129468</td>\n",
       "      <td>4796.641657</td>\n",
       "      <td>1531.631204</td>\n",
       "      <td>4756.890579</td>\n",
       "      <td>1651.885256</td>\n",
       "    </tr>\n",
       "    <tr>\n",
       "      <th>Cyprus</th>\n",
       "      <td>715.494377</td>\n",
       "      <td>6.650023</td>\n",
       "      <td>756.999367</td>\n",
       "      <td>11.598459</td>\n",
       "      <td>1056.741888</td>\n",
       "      <td>14.713097</td>\n",
       "      <td>966.599801</td>\n",
       "      <td>27.996685</td>\n",
       "      <td>920.742688</td>\n",
       "      <td>14.308283</td>\n",
       "      <td>...</td>\n",
       "      <td>1599.474456</td>\n",
       "      <td>89.957952</td>\n",
       "      <td>1587.752122</td>\n",
       "      <td>78.338708</td>\n",
       "      <td>1105.716483</td>\n",
       "      <td>48.346336</td>\n",
       "      <td>892.396001</td>\n",
       "      <td>71.895602</td>\n",
       "      <td>1332.928001</td>\n",
       "      <td>86.681420</td>\n",
       "    </tr>\n",
       "    <tr>\n",
       "      <th>Canada</th>\n",
       "      <td>231.004413</td>\n",
       "      <td>24.171828</td>\n",
       "      <td>250.767976</td>\n",
       "      <td>18.156545</td>\n",
       "      <td>316.067445</td>\n",
       "      <td>25.022264</td>\n",
       "      <td>397.320995</td>\n",
       "      <td>24.392832</td>\n",
       "      <td>339.283940</td>\n",
       "      <td>20.797319</td>\n",
       "      <td>...</td>\n",
       "      <td>1732.041266</td>\n",
       "      <td>32.907206</td>\n",
       "      <td>1856.352193</td>\n",
       "      <td>53.662768</td>\n",
       "      <td>1278.587078</td>\n",
       "      <td>61.913912</td>\n",
       "      <td>1310.763278</td>\n",
       "      <td>22.642208</td>\n",
       "      <td>1703.430540</td>\n",
       "      <td>69.653260</td>\n",
       "    </tr>\n",
       "    <tr>\n",
       "      <th>Portugal</th>\n",
       "      <td>229.459303</td>\n",
       "      <td>8.689395</td>\n",
       "      <td>235.956356</td>\n",
       "      <td>4.566944</td>\n",
       "      <td>299.004387</td>\n",
       "      <td>9.243243</td>\n",
       "      <td>209.835104</td>\n",
       "      <td>7.310264</td>\n",
       "      <td>187.714585</td>\n",
       "      <td>3.653934</td>\n",
       "      <td>...</td>\n",
       "      <td>182.589076</td>\n",
       "      <td>9.347483</td>\n",
       "      <td>235.315044</td>\n",
       "      <td>85.773317</td>\n",
       "      <td>167.237020</td>\n",
       "      <td>24.518179</td>\n",
       "      <td>193.301984</td>\n",
       "      <td>44.983381</td>\n",
       "      <td>256.388346</td>\n",
       "      <td>47.742973</td>\n",
       "    </tr>\n",
       "    <tr>\n",
       "      <th>Armenia</th>\n",
       "      <td>605.235700</td>\n",
       "      <td>56.914669</td>\n",
       "      <td>808.595827</td>\n",
       "      <td>74.594711</td>\n",
       "      <td>860.602523</td>\n",
       "      <td>131.510534</td>\n",
       "      <td>705.395928</td>\n",
       "      <td>133.227774</td>\n",
       "      <td>680.368587</td>\n",
       "      <td>74.064175</td>\n",
       "      <td>...</td>\n",
       "      <td>1214.002381</td>\n",
       "      <td>1003.456493</td>\n",
       "      <td>1203.126307</td>\n",
       "      <td>1323.318558</td>\n",
       "      <td>779.740499</td>\n",
       "      <td>688.364528</td>\n",
       "      <td>1034.716822</td>\n",
       "      <td>781.607900</td>\n",
       "      <td>1009.293795</td>\n",
       "      <td>942.813050</td>\n",
       "    </tr>\n",
       "  </tbody>\n",
       "</table>\n",
       "<p>20 rows × 294 columns</p>\n",
       "</div>"
      ],
      "text/plain": [
       "                                     2010_1                     2010_2  \\\n",
       "                                     Inflow      Outflow        Inflow   \n",
       "(Country, Unnamed: 0_level_1)                                            \n",
       "Total                          65282.094118  5630.326645  71125.689936   \n",
       "Russian Federation             30894.292213  1838.355105  34489.193394   \n",
       "Greece                          8273.374332   335.544711   8412.861337   \n",
       "Italy                           5662.810282    67.037832   5946.351729   \n",
       "United States                   4851.012420   166.902497   5188.801043   \n",
       "Ukraine                         4546.094079   901.580137   4739.516633   \n",
       "Spain                           2017.726733    81.775739   2237.812266   \n",
       "Turkey                          1819.440359   372.299476   1934.329513   \n",
       "India                             18.282280    16.046650     30.322500   \n",
       "United Kingdom                   897.083403   101.737943   1032.812480   \n",
       "Israel                           643.439873   106.504147    755.396960   \n",
       "Germany                          718.181894   156.761450    752.798514   \n",
       "Kazakhstan                       374.081938   463.563611    521.365014   \n",
       "France                           362.625008    76.445142    334.742081   \n",
       "Mexico                            39.379420     1.246520    251.656660   \n",
       "Azerbaijan                       268.017057   121.648775    276.269591   \n",
       "Cyprus                           715.494377     6.650023    756.999367   \n",
       "Canada                           231.004413    24.171828    250.767976   \n",
       "Portugal                         229.459303     8.689395    235.956356   \n",
       "Armenia                          605.235700    56.914669    808.595827   \n",
       "\n",
       "                                                  2010_3               \\\n",
       "                                   Outflow        Inflow      Outflow   \n",
       "(Country, Unnamed: 0_level_1)                                           \n",
       "Total                          6093.613082  92985.126657  7627.998001   \n",
       "Russian Federation             2284.811719  47460.358242  2846.982813   \n",
       "Greece                          377.937925  10515.666640   463.677133   \n",
       "Italy                            87.652371   6966.017311    91.810450   \n",
       "United States                   170.690175   6661.216810   200.670875   \n",
       "Ukraine                        1038.183665   5984.386055  1362.386549   \n",
       "Spain                            82.746912   2693.691649   107.602455   \n",
       "Turkey                          361.846618   2561.933478   334.848525   \n",
       "India                            14.361130     80.322570    22.210361   \n",
       "United Kingdom                  122.029382   1203.498481   104.237060   \n",
       "Israel                           99.103565    829.232557   116.338709   \n",
       "Germany                         181.182575    968.873911   125.919830   \n",
       "Kazakhstan                      237.082856    606.050003   251.349615   \n",
       "France                           81.074859    472.911557    95.142356   \n",
       "Mexico                            1.000000     91.689060     2.100000   \n",
       "Azerbaijan                      137.817970    397.661653   192.009326   \n",
       "Cyprus                           11.598459   1056.741888    14.713097   \n",
       "Canada                           18.156545    316.067445    25.022264   \n",
       "Portugal                          4.566944    299.004387     9.243243   \n",
       "Armenia                          74.594711    860.602523   131.510534   \n",
       "\n",
       "                                     2010_4                     2010_5  \\\n",
       "                                     Inflow      Outflow        Inflow   \n",
       "(Country, Unnamed: 0_level_1)                                            \n",
       "Total                          84503.458312  6953.173070  83103.497531   \n",
       "Russian Federation             43810.491217  2762.989677  41281.275133   \n",
       "Greece                          9043.791615   400.690623   9860.619376   \n",
       "Italy                           6034.675989    79.467909   5911.069432   \n",
       "United States                   5929.437960   147.961507   6708.923849   \n",
       "Ukraine                         5569.286992  1257.104537   4925.983180   \n",
       "Spain                           2231.520948    87.866900   2286.873958   \n",
       "Turkey                          2494.417231   356.909037   3030.029112   \n",
       "India                             29.730100    18.720895      0.000000   \n",
       "United Kingdom                   833.507864   101.766479   1050.628261   \n",
       "Israel                          1096.612202   102.506695    974.288086   \n",
       "Germany                          935.390315   114.071111   1244.242044   \n",
       "Kazakhstan                       634.723318   123.108979    594.293241   \n",
       "France                           421.269467    93.549846    307.490217   \n",
       "Mexico                            73.495240     5.043330      0.100000   \n",
       "Azerbaijan                       386.660706   201.596691    258.355689   \n",
       "Cyprus                           966.599801    27.996685    920.742688   \n",
       "Canada                           397.320995    24.392832    339.283940   \n",
       "Portugal                         209.835104     7.310264    187.714585   \n",
       "Armenia                          705.395928   133.227774    680.368587   \n",
       "\n",
       "                                            ...        2021_11                \\\n",
       "                                   Outflow  ...         Inflow       Outflow   \n",
       "(Country, Unnamed: 0_level_1)               ...                                \n",
       "Total                          6460.226895  ...  207337.549247  31765.767033   \n",
       "Russian Federation             2496.034494  ...   34396.171583   8269.529183   \n",
       "Greece                          451.274882  ...   18948.444365   1318.634610   \n",
       "Italy                            94.714989  ...   32062.058689    665.186287   \n",
       "United States                   139.709309  ...            NaN           NaN   \n",
       "Ukraine                        1158.226910  ...    7493.736147   2902.877852   \n",
       "Spain                            74.996162  ...    4417.331745    377.735780   \n",
       "Turkey                          362.966725  ...    8297.806856   7518.746499   \n",
       "India                            36.205943  ...      20.687000     42.348520   \n",
       "United Kingdom                  118.580469  ...            NaN           NaN   \n",
       "Israel                          125.525039  ...   16968.677922    444.924807   \n",
       "Germany                         142.519805  ...   10885.052985    529.831259   \n",
       "Kazakhstan                       89.293658  ...    9308.970701    831.452278   \n",
       "France                           75.230666  ...    3355.135981    454.575607   \n",
       "Mexico                            0.000000  ...       0.854300      9.679000   \n",
       "Azerbaijan                      166.167548  ...    7169.390111   1802.332373   \n",
       "Cyprus                           14.308283  ...    1599.474456     89.957952   \n",
       "Canada                           20.797319  ...    1732.041266     32.907206   \n",
       "Portugal                          3.653934  ...     182.589076      9.347483   \n",
       "Armenia                          74.064175  ...    1214.002381   1003.456493   \n",
       "\n",
       "                                     2021_12                       2022_1  \\\n",
       "                                      Inflow       Outflow         Inflow   \n",
       "(Country, Unnamed: 0_level_1)                                               \n",
       "Total                          229487.011781  33323.421849  168840.496906   \n",
       "Russian Federation              39701.700066   9130.770100   22382.214555   \n",
       "Greece                          20488.948389   1698.530650   16891.693199   \n",
       "Italy                           37882.303986    605.742198   33327.657269   \n",
       "United States                            NaN           NaN            NaN   \n",
       "Ukraine                          7842.140484   2973.298364    5477.862983   \n",
       "Spain                            5114.181168    431.438696    4071.832083   \n",
       "Turkey                           8127.269275   7252.755764    6349.372479   \n",
       "India                               4.522000     35.605581       2.026000   \n",
       "United Kingdom                           NaN           NaN            NaN   \n",
       "Israel                          17654.844273    508.466210   14913.304817   \n",
       "Germany                         11568.761119    561.810980    8817.241315   \n",
       "Kazakhstan                      13341.045523    837.503484    6614.887414   \n",
       "France                           3506.739559    519.452445    2790.995432   \n",
       "Mexico                              3.918560      2.579000       0.283020   \n",
       "Azerbaijan                       6787.357478   2109.370973    4419.629228   \n",
       "Cyprus                           1587.752122     78.338708    1105.716483   \n",
       "Canada                           1856.352193     53.662768    1278.587078   \n",
       "Portugal                          235.315044     85.773317     167.237020   \n",
       "Armenia                          1203.126307   1323.318558     779.740499   \n",
       "\n",
       "                                                    2022_2                \\\n",
       "                                    Outflow         Inflow       Outflow   \n",
       "(Country, Unnamed: 0_level_1)                                              \n",
       "Total                          23320.709308  183418.777012  26744.311641   \n",
       "Russian Federation              5924.171282   21943.964040   6292.664133   \n",
       "Greece                          1263.006707   15465.996833   1341.553687   \n",
       "Italy                            515.955059   32955.519052    567.721472   \n",
       "United States                           NaN            NaN           NaN   \n",
       "Ukraine                         2139.109535    5082.670407   2452.689817   \n",
       "Spain                            264.490920    4407.146488    399.216453   \n",
       "Turkey                          5136.659833    7349.372252   5420.177224   \n",
       "India                             29.945720      24.945640     42.182390   \n",
       "United Kingdom                          NaN            NaN           NaN   \n",
       "Israel                           439.596126   14095.235096    479.515975   \n",
       "Germany                          470.075802   11375.354154    563.145718   \n",
       "Kazakhstan                       584.181292   13781.985709    821.802185   \n",
       "France                           356.775312    3818.016493    387.183267   \n",
       "Mexico                             8.296000       0.695000     10.588027   \n",
       "Azerbaijan                      1443.129468    4796.641657   1531.631204   \n",
       "Cyprus                            48.346336     892.396001     71.895602   \n",
       "Canada                            61.913912    1310.763278     22.642208   \n",
       "Portugal                          24.518179     193.301984     44.983381   \n",
       "Armenia                          688.364528    1034.716822    781.607900   \n",
       "\n",
       "                                      2022_3                \n",
       "                                      Inflow       Outflow  \n",
       "(Country, Unnamed: 0_level_1)                               \n",
       "Total                          193065.277880  23983.799021  \n",
       "Russian Federation              27001.902819   2716.279532  \n",
       "Greece                          18945.479169   1659.071446  \n",
       "Italy                           36046.938709    688.975274  \n",
       "United States                            NaN           NaN  \n",
       "Ukraine                            70.238162   2377.726248  \n",
       "Spain                            4693.989813    535.735465  \n",
       "Turkey                           8379.326041   5100.816925  \n",
       "India                               3.360000     36.164820  \n",
       "United Kingdom                           NaN           NaN  \n",
       "Israel                          16974.273373    571.044900  \n",
       "Germany                         11310.307886    649.267765  \n",
       "Kazakhstan                       7551.208363    728.741281  \n",
       "France                           3685.645390    449.611907  \n",
       "Mexico                              2.336270      8.443000  \n",
       "Azerbaijan                       4756.890579   1651.885256  \n",
       "Cyprus                           1332.928001     86.681420  \n",
       "Canada                           1703.430540     69.653260  \n",
       "Portugal                          256.388346     47.742973  \n",
       "Armenia                          1009.293795    942.813050  \n",
       "\n",
       "[20 rows x 294 columns]"
      ]
     },
     "execution_count": 81,
     "metadata": {},
     "output_type": "execute_result"
    }
   ],
   "source": [
    "df_Remissions.sort_values(by= [('2011_12','Inflow')], axis=0, ascending= False).head(20)"
   ]
  },
  {
   "cell_type": "code",
   "execution_count": 60,
   "id": "5045331a",
   "metadata": {},
   "outputs": [],
   "source": [
    "df_Remissions_part2.fillna(value=0, inplace= True)"
   ]
  },
  {
   "cell_type": "code",
   "execution_count": 61,
   "id": "e87fa02a",
   "metadata": {},
   "outputs": [],
   "source": [
    "column_name = []\n",
    "for year_prefix in range(2012,2023):\n",
    "    for month_suffix in range(1,13):\n",
    "        column_name.append(str(\"{}_{}\".format(year_prefix, month_suffix)))"
   ]
  },
  {
   "cell_type": "code",
   "execution_count": 62,
   "id": "908ed416",
   "metadata": {},
   "outputs": [],
   "source": [
    "column_name.remove(\"2022_4\")\n",
    "column_name.remove(\"2022_5\")\n",
    "column_name.remove(\"2022_6\")\n",
    "column_name.remove(\"2022_7\")\n",
    "column_name.remove(\"2022_8\")\n",
    "column_name.remove(\"2022_9\")\n",
    "column_name.remove(\"2022_10\")\n",
    "column_name.remove(\"2022_11\") \n",
    "column_name.remove(\"2022_12\")"
   ]
  },
  {
   "cell_type": "code",
   "execution_count": 63,
   "id": "6849a688",
   "metadata": {},
   "outputs": [],
   "source": [
    "for x in range(0, len(column_name)):\n",
    "    df_Remissions_part2.rename(columns={df_Remissions_part2.columns.values[x*2][0]:column_name[x], df_Remissions_part2.columns.values[x*2+1][0]:column_name[x]}, inplace=True)"
   ]
  },
  {
   "cell_type": "code",
   "execution_count": 84,
   "id": "36d676a0",
   "metadata": {},
   "outputs": [
    {
     "data": {
      "text/html": [
       "<div>\n",
       "<style scoped>\n",
       "    .dataframe tbody tr th:only-of-type {\n",
       "        vertical-align: middle;\n",
       "    }\n",
       "\n",
       "    .dataframe tbody tr th {\n",
       "        vertical-align: top;\n",
       "    }\n",
       "\n",
       "    .dataframe thead tr th {\n",
       "        text-align: left;\n",
       "    }\n",
       "\n",
       "    .dataframe thead tr:last-of-type th {\n",
       "        text-align: right;\n",
       "    }\n",
       "</style>\n",
       "<table border=\"1\" class=\"dataframe\">\n",
       "  <thead>\n",
       "    <tr>\n",
       "      <th></th>\n",
       "      <th colspan=\"2\" halign=\"left\">2012_1</th>\n",
       "      <th colspan=\"2\" halign=\"left\">2012_2</th>\n",
       "      <th colspan=\"2\" halign=\"left\">2012_3</th>\n",
       "      <th colspan=\"2\" halign=\"left\">2012_4</th>\n",
       "      <th colspan=\"2\" halign=\"left\">2012_5</th>\n",
       "      <th>...</th>\n",
       "      <th colspan=\"2\" halign=\"left\">2021_11</th>\n",
       "      <th colspan=\"2\" halign=\"left\">2021_12</th>\n",
       "      <th colspan=\"2\" halign=\"left\">2022_1</th>\n",
       "      <th colspan=\"2\" halign=\"left\">2022_2</th>\n",
       "      <th colspan=\"2\" halign=\"left\">2022_3</th>\n",
       "    </tr>\n",
       "    <tr>\n",
       "      <th></th>\n",
       "      <th>Inflow</th>\n",
       "      <th>Outflow</th>\n",
       "      <th>Inflow</th>\n",
       "      <th>Outflow</th>\n",
       "      <th>Inflow</th>\n",
       "      <th>Outflow</th>\n",
       "      <th>Inflow</th>\n",
       "      <th>Outflow</th>\n",
       "      <th>Inflow</th>\n",
       "      <th>Outflow</th>\n",
       "      <th>...</th>\n",
       "      <th>Inflow</th>\n",
       "      <th>Outflow</th>\n",
       "      <th>Inflow</th>\n",
       "      <th>Outflow</th>\n",
       "      <th>Inflow</th>\n",
       "      <th>Outflow</th>\n",
       "      <th>Inflow</th>\n",
       "      <th>Outflow</th>\n",
       "      <th>Inflow</th>\n",
       "      <th>Outflow</th>\n",
       "    </tr>\n",
       "    <tr>\n",
       "      <th>(Country, Unnamed: 0_level_1)</th>\n",
       "      <th></th>\n",
       "      <th></th>\n",
       "      <th></th>\n",
       "      <th></th>\n",
       "      <th></th>\n",
       "      <th></th>\n",
       "      <th></th>\n",
       "      <th></th>\n",
       "      <th></th>\n",
       "      <th></th>\n",
       "      <th></th>\n",
       "      <th></th>\n",
       "      <th></th>\n",
       "      <th></th>\n",
       "      <th></th>\n",
       "      <th></th>\n",
       "      <th></th>\n",
       "      <th></th>\n",
       "      <th></th>\n",
       "      <th></th>\n",
       "      <th></th>\n",
       "    </tr>\n",
       "  </thead>\n",
       "  <tbody>\n",
       "    <tr>\n",
       "      <th>Total</th>\n",
       "      <td>84423.769</td>\n",
       "      <td>6879.219</td>\n",
       "      <td>96052.297</td>\n",
       "      <td>7547.522</td>\n",
       "      <td>108095.916</td>\n",
       "      <td>8411.361</td>\n",
       "      <td>112085.523</td>\n",
       "      <td>7808.379</td>\n",
       "      <td>116678.571</td>\n",
       "      <td>9003.885</td>\n",
       "      <td>...</td>\n",
       "      <td>207337.549247</td>\n",
       "      <td>31765.767033</td>\n",
       "      <td>229487.011781</td>\n",
       "      <td>33323.421849</td>\n",
       "      <td>168840.496906</td>\n",
       "      <td>23320.709308</td>\n",
       "      <td>183418.777012</td>\n",
       "      <td>26744.311641</td>\n",
       "      <td>193065.277880</td>\n",
       "      <td>23983.799021</td>\n",
       "    </tr>\n",
       "    <tr>\n",
       "      <th>Italy</th>\n",
       "      <td>8203.666</td>\n",
       "      <td>199.413</td>\n",
       "      <td>8285.893</td>\n",
       "      <td>155.962</td>\n",
       "      <td>9426.712</td>\n",
       "      <td>216.485</td>\n",
       "      <td>8469.791</td>\n",
       "      <td>204.671</td>\n",
       "      <td>9270.185</td>\n",
       "      <td>203.907</td>\n",
       "      <td>...</td>\n",
       "      <td>32062.058689</td>\n",
       "      <td>665.186287</td>\n",
       "      <td>37882.303986</td>\n",
       "      <td>605.742198</td>\n",
       "      <td>33327.657269</td>\n",
       "      <td>515.955059</td>\n",
       "      <td>32955.519052</td>\n",
       "      <td>567.721472</td>\n",
       "      <td>36046.938709</td>\n",
       "      <td>688.975274</td>\n",
       "    </tr>\n",
       "    <tr>\n",
       "      <th>Russian Federation</th>\n",
       "      <td>41674.984</td>\n",
       "      <td>2162.151</td>\n",
       "      <td>51300.115</td>\n",
       "      <td>2460.171</td>\n",
       "      <td>58878.089</td>\n",
       "      <td>2714.789</td>\n",
       "      <td>63284.450</td>\n",
       "      <td>2405.064</td>\n",
       "      <td>65531.373</td>\n",
       "      <td>3105.701</td>\n",
       "      <td>...</td>\n",
       "      <td>34396.171583</td>\n",
       "      <td>8269.529183</td>\n",
       "      <td>39701.700066</td>\n",
       "      <td>9130.770100</td>\n",
       "      <td>22382.214555</td>\n",
       "      <td>5924.171282</td>\n",
       "      <td>21943.964040</td>\n",
       "      <td>6292.664133</td>\n",
       "      <td>27001.902819</td>\n",
       "      <td>2716.279532</td>\n",
       "    </tr>\n",
       "    <tr>\n",
       "      <th>United States of America</th>\n",
       "      <td>5535.781</td>\n",
       "      <td>216.319</td>\n",
       "      <td>5734.941</td>\n",
       "      <td>127.710</td>\n",
       "      <td>6474.944</td>\n",
       "      <td>125.695</td>\n",
       "      <td>6478.448</td>\n",
       "      <td>136.629</td>\n",
       "      <td>6666.622</td>\n",
       "      <td>162.852</td>\n",
       "      <td>...</td>\n",
       "      <td>23975.889235</td>\n",
       "      <td>480.473746</td>\n",
       "      <td>26653.849411</td>\n",
       "      <td>550.946914</td>\n",
       "      <td>20300.954354</td>\n",
       "      <td>472.882130</td>\n",
       "      <td>21096.045814</td>\n",
       "      <td>620.511116</td>\n",
       "      <td>25640.587091</td>\n",
       "      <td>856.938495</td>\n",
       "    </tr>\n",
       "    <tr>\n",
       "      <th>Greece</th>\n",
       "      <td>11366.031</td>\n",
       "      <td>526.899</td>\n",
       "      <td>11873.848</td>\n",
       "      <td>555.044</td>\n",
       "      <td>12692.941</td>\n",
       "      <td>802.204</td>\n",
       "      <td>14411.441</td>\n",
       "      <td>653.751</td>\n",
       "      <td>14189.559</td>\n",
       "      <td>761.615</td>\n",
       "      <td>...</td>\n",
       "      <td>18948.444365</td>\n",
       "      <td>1318.634610</td>\n",
       "      <td>20488.948389</td>\n",
       "      <td>1698.530650</td>\n",
       "      <td>16891.693199</td>\n",
       "      <td>1263.006707</td>\n",
       "      <td>15465.996833</td>\n",
       "      <td>1341.553687</td>\n",
       "      <td>18945.479169</td>\n",
       "      <td>1659.071446</td>\n",
       "    </tr>\n",
       "    <tr>\n",
       "      <th>Israel</th>\n",
       "      <td>938.644</td>\n",
       "      <td>86.530</td>\n",
       "      <td>1251.012</td>\n",
       "      <td>66.544</td>\n",
       "      <td>1401.647</td>\n",
       "      <td>104.219</td>\n",
       "      <td>1455.038</td>\n",
       "      <td>119.942</td>\n",
       "      <td>1396.004</td>\n",
       "      <td>77.020</td>\n",
       "      <td>...</td>\n",
       "      <td>16968.677922</td>\n",
       "      <td>444.924807</td>\n",
       "      <td>17654.844273</td>\n",
       "      <td>508.466210</td>\n",
       "      <td>14913.304817</td>\n",
       "      <td>439.596126</td>\n",
       "      <td>14095.235096</td>\n",
       "      <td>479.515975</td>\n",
       "      <td>16974.273373</td>\n",
       "      <td>571.044900</td>\n",
       "    </tr>\n",
       "    <tr>\n",
       "      <th>Germany</th>\n",
       "      <td>768.460</td>\n",
       "      <td>203.353</td>\n",
       "      <td>1035.780</td>\n",
       "      <td>172.124</td>\n",
       "      <td>1086.938</td>\n",
       "      <td>246.146</td>\n",
       "      <td>1120.981</td>\n",
       "      <td>303.259</td>\n",
       "      <td>1174.706</td>\n",
       "      <td>200.943</td>\n",
       "      <td>...</td>\n",
       "      <td>10885.052985</td>\n",
       "      <td>529.831259</td>\n",
       "      <td>11568.761119</td>\n",
       "      <td>561.810980</td>\n",
       "      <td>8817.241315</td>\n",
       "      <td>470.075802</td>\n",
       "      <td>11375.354154</td>\n",
       "      <td>563.145718</td>\n",
       "      <td>11310.307886</td>\n",
       "      <td>649.267765</td>\n",
       "    </tr>\n",
       "    <tr>\n",
       "      <th>Turkey</th>\n",
       "      <td>1667.464</td>\n",
       "      <td>268.409</td>\n",
       "      <td>2333.564</td>\n",
       "      <td>257.756</td>\n",
       "      <td>2459.959</td>\n",
       "      <td>283.285</td>\n",
       "      <td>2024.836</td>\n",
       "      <td>243.831</td>\n",
       "      <td>2966.858</td>\n",
       "      <td>344.363</td>\n",
       "      <td>...</td>\n",
       "      <td>8297.806856</td>\n",
       "      <td>7518.746499</td>\n",
       "      <td>8127.269275</td>\n",
       "      <td>7252.755764</td>\n",
       "      <td>6349.372479</td>\n",
       "      <td>5136.659833</td>\n",
       "      <td>7349.372252</td>\n",
       "      <td>5420.177224</td>\n",
       "      <td>8379.326041</td>\n",
       "      <td>5100.816925</td>\n",
       "    </tr>\n",
       "    <tr>\n",
       "      <th>Kazakhstan</th>\n",
       "      <td>654.905</td>\n",
       "      <td>125.865</td>\n",
       "      <td>622.557</td>\n",
       "      <td>106.920</td>\n",
       "      <td>934.528</td>\n",
       "      <td>122.053</td>\n",
       "      <td>788.970</td>\n",
       "      <td>121.436</td>\n",
       "      <td>809.065</td>\n",
       "      <td>178.890</td>\n",
       "      <td>...</td>\n",
       "      <td>9308.970701</td>\n",
       "      <td>831.452278</td>\n",
       "      <td>13341.045523</td>\n",
       "      <td>837.503484</td>\n",
       "      <td>6614.887414</td>\n",
       "      <td>584.181292</td>\n",
       "      <td>13781.985709</td>\n",
       "      <td>821.802185</td>\n",
       "      <td>7551.208363</td>\n",
       "      <td>728.741281</td>\n",
       "    </tr>\n",
       "    <tr>\n",
       "      <th>Azerbaijan</th>\n",
       "      <td>532.320</td>\n",
       "      <td>153.383</td>\n",
       "      <td>618.012</td>\n",
       "      <td>192.612</td>\n",
       "      <td>705.319</td>\n",
       "      <td>188.180</td>\n",
       "      <td>764.976</td>\n",
       "      <td>227.687</td>\n",
       "      <td>745.122</td>\n",
       "      <td>214.798</td>\n",
       "      <td>...</td>\n",
       "      <td>7169.390111</td>\n",
       "      <td>1802.332373</td>\n",
       "      <td>6787.357478</td>\n",
       "      <td>2109.370973</td>\n",
       "      <td>4419.629228</td>\n",
       "      <td>1443.129468</td>\n",
       "      <td>4796.641657</td>\n",
       "      <td>1531.631204</td>\n",
       "      <td>4756.890579</td>\n",
       "      <td>1651.885256</td>\n",
       "    </tr>\n",
       "    <tr>\n",
       "      <th>Spain</th>\n",
       "      <td>2294.540</td>\n",
       "      <td>94.093</td>\n",
       "      <td>2604.733</td>\n",
       "      <td>133.288</td>\n",
       "      <td>2650.508</td>\n",
       "      <td>123.880</td>\n",
       "      <td>2350.921</td>\n",
       "      <td>116.068</td>\n",
       "      <td>2462.785</td>\n",
       "      <td>152.386</td>\n",
       "      <td>...</td>\n",
       "      <td>4417.331745</td>\n",
       "      <td>377.735780</td>\n",
       "      <td>5114.181168</td>\n",
       "      <td>431.438696</td>\n",
       "      <td>4071.832083</td>\n",
       "      <td>264.490920</td>\n",
       "      <td>4407.146488</td>\n",
       "      <td>399.216453</td>\n",
       "      <td>4693.989813</td>\n",
       "      <td>535.735465</td>\n",
       "    </tr>\n",
       "    <tr>\n",
       "      <th>France</th>\n",
       "      <td>567.219</td>\n",
       "      <td>114.973</td>\n",
       "      <td>742.868</td>\n",
       "      <td>143.618</td>\n",
       "      <td>765.811</td>\n",
       "      <td>93.769</td>\n",
       "      <td>743.928</td>\n",
       "      <td>125.882</td>\n",
       "      <td>770.815</td>\n",
       "      <td>111.081</td>\n",
       "      <td>...</td>\n",
       "      <td>3355.135981</td>\n",
       "      <td>454.575607</td>\n",
       "      <td>3506.739559</td>\n",
       "      <td>519.452445</td>\n",
       "      <td>2790.995432</td>\n",
       "      <td>356.775312</td>\n",
       "      <td>3818.016493</td>\n",
       "      <td>387.183267</td>\n",
       "      <td>3685.645390</td>\n",
       "      <td>449.611907</td>\n",
       "    </tr>\n",
       "    <tr>\n",
       "      <th>United Kingdom of Great Britain and Northern Ireland</th>\n",
       "      <td>1026.920</td>\n",
       "      <td>128.599</td>\n",
       "      <td>1160.158</td>\n",
       "      <td>116.431</td>\n",
       "      <td>1450.378</td>\n",
       "      <td>134.253</td>\n",
       "      <td>1437.378</td>\n",
       "      <td>120.213</td>\n",
       "      <td>1572.247</td>\n",
       "      <td>149.786</td>\n",
       "      <td>...</td>\n",
       "      <td>1791.951806</td>\n",
       "      <td>88.113511</td>\n",
       "      <td>2020.058800</td>\n",
       "      <td>108.907103</td>\n",
       "      <td>2115.798204</td>\n",
       "      <td>75.537138</td>\n",
       "      <td>2445.874328</td>\n",
       "      <td>88.177086</td>\n",
       "      <td>2948.932940</td>\n",
       "      <td>200.623447</td>\n",
       "    </tr>\n",
       "    <tr>\n",
       "      <th>Poland</th>\n",
       "      <td>53.927</td>\n",
       "      <td>79.220</td>\n",
       "      <td>39.522</td>\n",
       "      <td>37.115</td>\n",
       "      <td>53.076</td>\n",
       "      <td>60.254</td>\n",
       "      <td>54.681</td>\n",
       "      <td>49.487</td>\n",
       "      <td>50.389</td>\n",
       "      <td>49.646</td>\n",
       "      <td>...</td>\n",
       "      <td>2951.980834</td>\n",
       "      <td>1020.907595</td>\n",
       "      <td>3000.664401</td>\n",
       "      <td>1138.809087</td>\n",
       "      <td>2520.813566</td>\n",
       "      <td>982.030665</td>\n",
       "      <td>2516.423525</td>\n",
       "      <td>1085.258776</td>\n",
       "      <td>2926.407408</td>\n",
       "      <td>1420.928316</td>\n",
       "    </tr>\n",
       "    <tr>\n",
       "      <th>Kyrgyzstan</th>\n",
       "      <td>151.977</td>\n",
       "      <td>130.136</td>\n",
       "      <td>208.862</td>\n",
       "      <td>148.614</td>\n",
       "      <td>64.595</td>\n",
       "      <td>199.547</td>\n",
       "      <td>67.219</td>\n",
       "      <td>84.470</td>\n",
       "      <td>105.976</td>\n",
       "      <td>119.541</td>\n",
       "      <td>...</td>\n",
       "      <td>6377.474000</td>\n",
       "      <td>423.546714</td>\n",
       "      <td>5814.226764</td>\n",
       "      <td>300.104684</td>\n",
       "      <td>2833.129882</td>\n",
       "      <td>309.247409</td>\n",
       "      <td>3372.643117</td>\n",
       "      <td>209.412957</td>\n",
       "      <td>2148.701414</td>\n",
       "      <td>218.266128</td>\n",
       "    </tr>\n",
       "    <tr>\n",
       "      <th>Ireland</th>\n",
       "      <td>256.935</td>\n",
       "      <td>30.941</td>\n",
       "      <td>347.291</td>\n",
       "      <td>24.788</td>\n",
       "      <td>324.485</td>\n",
       "      <td>40.466</td>\n",
       "      <td>295.337</td>\n",
       "      <td>17.849</td>\n",
       "      <td>335.779</td>\n",
       "      <td>17.071</td>\n",
       "      <td>...</td>\n",
       "      <td>1776.393135</td>\n",
       "      <td>30.542514</td>\n",
       "      <td>1892.162890</td>\n",
       "      <td>46.347414</td>\n",
       "      <td>1377.453905</td>\n",
       "      <td>30.815158</td>\n",
       "      <td>2456.037222</td>\n",
       "      <td>44.013751</td>\n",
       "      <td>1743.458887</td>\n",
       "      <td>40.740561</td>\n",
       "    </tr>\n",
       "    <tr>\n",
       "      <th>Canada</th>\n",
       "      <td>354.851</td>\n",
       "      <td>29.241</td>\n",
       "      <td>379.643</td>\n",
       "      <td>24.535</td>\n",
       "      <td>420.714</td>\n",
       "      <td>19.267</td>\n",
       "      <td>437.655</td>\n",
       "      <td>32.140</td>\n",
       "      <td>439.392</td>\n",
       "      <td>31.194</td>\n",
       "      <td>...</td>\n",
       "      <td>1732.041266</td>\n",
       "      <td>32.907206</td>\n",
       "      <td>1856.352193</td>\n",
       "      <td>53.662768</td>\n",
       "      <td>1278.587078</td>\n",
       "      <td>61.913912</td>\n",
       "      <td>1310.763278</td>\n",
       "      <td>22.642208</td>\n",
       "      <td>1703.430540</td>\n",
       "      <td>69.653260</td>\n",
       "    </tr>\n",
       "    <tr>\n",
       "      <th>United Arab Emirates</th>\n",
       "      <td>201.938</td>\n",
       "      <td>44.482</td>\n",
       "      <td>284.118</td>\n",
       "      <td>56.707</td>\n",
       "      <td>243.238</td>\n",
       "      <td>77.346</td>\n",
       "      <td>235.859</td>\n",
       "      <td>59.377</td>\n",
       "      <td>248.675</td>\n",
       "      <td>85.787</td>\n",
       "      <td>...</td>\n",
       "      <td>1281.698760</td>\n",
       "      <td>79.949284</td>\n",
       "      <td>1225.219695</td>\n",
       "      <td>101.466154</td>\n",
       "      <td>1019.355655</td>\n",
       "      <td>79.690811</td>\n",
       "      <td>951.045109</td>\n",
       "      <td>117.526212</td>\n",
       "      <td>1334.376127</td>\n",
       "      <td>130.896337</td>\n",
       "    </tr>\n",
       "    <tr>\n",
       "      <th>Cyprus</th>\n",
       "      <td>285.535</td>\n",
       "      <td>13.339</td>\n",
       "      <td>288.533</td>\n",
       "      <td>14.840</td>\n",
       "      <td>328.603</td>\n",
       "      <td>16.780</td>\n",
       "      <td>334.532</td>\n",
       "      <td>11.227</td>\n",
       "      <td>337.459</td>\n",
       "      <td>13.926</td>\n",
       "      <td>...</td>\n",
       "      <td>1599.474456</td>\n",
       "      <td>89.957952</td>\n",
       "      <td>1587.752122</td>\n",
       "      <td>78.338708</td>\n",
       "      <td>1105.716483</td>\n",
       "      <td>48.346336</td>\n",
       "      <td>892.396001</td>\n",
       "      <td>71.895602</td>\n",
       "      <td>1332.928001</td>\n",
       "      <td>86.681420</td>\n",
       "    </tr>\n",
       "    <tr>\n",
       "      <th>Armenia</th>\n",
       "      <td>261.120</td>\n",
       "      <td>127.591</td>\n",
       "      <td>439.223</td>\n",
       "      <td>216.105</td>\n",
       "      <td>484.954</td>\n",
       "      <td>181.840</td>\n",
       "      <td>297.474</td>\n",
       "      <td>171.778</td>\n",
       "      <td>378.207</td>\n",
       "      <td>329.431</td>\n",
       "      <td>...</td>\n",
       "      <td>1214.002381</td>\n",
       "      <td>1003.456493</td>\n",
       "      <td>1203.126307</td>\n",
       "      <td>1323.318558</td>\n",
       "      <td>779.740499</td>\n",
       "      <td>688.364528</td>\n",
       "      <td>1034.716822</td>\n",
       "      <td>781.607900</td>\n",
       "      <td>1009.293795</td>\n",
       "      <td>942.813050</td>\n",
       "    </tr>\n",
       "  </tbody>\n",
       "</table>\n",
       "<p>20 rows × 246 columns</p>\n",
       "</div>"
      ],
      "text/plain": [
       "                                                       2012_1            \\\n",
       "                                                       Inflow   Outflow   \n",
       "(Country, Unnamed: 0_level_1)                                             \n",
       "Total                                               84423.769  6879.219   \n",
       "Italy                                                8203.666   199.413   \n",
       "Russian Federation                                  41674.984  2162.151   \n",
       "United States of America                             5535.781   216.319   \n",
       "Greece                                              11366.031   526.899   \n",
       "Israel                                                938.644    86.530   \n",
       "Germany                                               768.460   203.353   \n",
       "Turkey                                               1667.464   268.409   \n",
       "Kazakhstan                                            654.905   125.865   \n",
       "Azerbaijan                                            532.320   153.383   \n",
       "Spain                                                2294.540    94.093   \n",
       "France                                                567.219   114.973   \n",
       "United Kingdom of Great Britain and Northern Ir...   1026.920   128.599   \n",
       "Poland                                                 53.927    79.220   \n",
       "Kyrgyzstan                                            151.977   130.136   \n",
       "Ireland                                               256.935    30.941   \n",
       "Canada                                                354.851    29.241   \n",
       "United Arab Emirates                                  201.938    44.482   \n",
       "Cyprus                                                285.535    13.339   \n",
       "Armenia                                               261.120   127.591   \n",
       "\n",
       "                                                       2012_2            \\\n",
       "                                                       Inflow   Outflow   \n",
       "(Country, Unnamed: 0_level_1)                                             \n",
       "Total                                               96052.297  7547.522   \n",
       "Italy                                                8285.893   155.962   \n",
       "Russian Federation                                  51300.115  2460.171   \n",
       "United States of America                             5734.941   127.710   \n",
       "Greece                                              11873.848   555.044   \n",
       "Israel                                               1251.012    66.544   \n",
       "Germany                                              1035.780   172.124   \n",
       "Turkey                                               2333.564   257.756   \n",
       "Kazakhstan                                            622.557   106.920   \n",
       "Azerbaijan                                            618.012   192.612   \n",
       "Spain                                                2604.733   133.288   \n",
       "France                                                742.868   143.618   \n",
       "United Kingdom of Great Britain and Northern Ir...   1160.158   116.431   \n",
       "Poland                                                 39.522    37.115   \n",
       "Kyrgyzstan                                            208.862   148.614   \n",
       "Ireland                                               347.291    24.788   \n",
       "Canada                                                379.643    24.535   \n",
       "United Arab Emirates                                  284.118    56.707   \n",
       "Cyprus                                                288.533    14.840   \n",
       "Armenia                                               439.223   216.105   \n",
       "\n",
       "                                                        2012_3            \\\n",
       "                                                        Inflow   Outflow   \n",
       "(Country, Unnamed: 0_level_1)                                              \n",
       "Total                                               108095.916  8411.361   \n",
       "Italy                                                 9426.712   216.485   \n",
       "Russian Federation                                   58878.089  2714.789   \n",
       "United States of America                              6474.944   125.695   \n",
       "Greece                                               12692.941   802.204   \n",
       "Israel                                                1401.647   104.219   \n",
       "Germany                                               1086.938   246.146   \n",
       "Turkey                                                2459.959   283.285   \n",
       "Kazakhstan                                             934.528   122.053   \n",
       "Azerbaijan                                             705.319   188.180   \n",
       "Spain                                                 2650.508   123.880   \n",
       "France                                                 765.811    93.769   \n",
       "United Kingdom of Great Britain and Northern Ir...    1450.378   134.253   \n",
       "Poland                                                  53.076    60.254   \n",
       "Kyrgyzstan                                              64.595   199.547   \n",
       "Ireland                                                324.485    40.466   \n",
       "Canada                                                 420.714    19.267   \n",
       "United Arab Emirates                                   243.238    77.346   \n",
       "Cyprus                                                 328.603    16.780   \n",
       "Armenia                                                484.954   181.840   \n",
       "\n",
       "                                                        2012_4            \\\n",
       "                                                        Inflow   Outflow   \n",
       "(Country, Unnamed: 0_level_1)                                              \n",
       "Total                                               112085.523  7808.379   \n",
       "Italy                                                 8469.791   204.671   \n",
       "Russian Federation                                   63284.450  2405.064   \n",
       "United States of America                              6478.448   136.629   \n",
       "Greece                                               14411.441   653.751   \n",
       "Israel                                                1455.038   119.942   \n",
       "Germany                                               1120.981   303.259   \n",
       "Turkey                                                2024.836   243.831   \n",
       "Kazakhstan                                             788.970   121.436   \n",
       "Azerbaijan                                             764.976   227.687   \n",
       "Spain                                                 2350.921   116.068   \n",
       "France                                                 743.928   125.882   \n",
       "United Kingdom of Great Britain and Northern Ir...    1437.378   120.213   \n",
       "Poland                                                  54.681    49.487   \n",
       "Kyrgyzstan                                              67.219    84.470   \n",
       "Ireland                                                295.337    17.849   \n",
       "Canada                                                 437.655    32.140   \n",
       "United Arab Emirates                                   235.859    59.377   \n",
       "Cyprus                                                 334.532    11.227   \n",
       "Armenia                                                297.474   171.778   \n",
       "\n",
       "                                                        2012_5            ...  \\\n",
       "                                                        Inflow   Outflow  ...   \n",
       "(Country, Unnamed: 0_level_1)                                             ...   \n",
       "Total                                               116678.571  9003.885  ...   \n",
       "Italy                                                 9270.185   203.907  ...   \n",
       "Russian Federation                                   65531.373  3105.701  ...   \n",
       "United States of America                              6666.622   162.852  ...   \n",
       "Greece                                               14189.559   761.615  ...   \n",
       "Israel                                                1396.004    77.020  ...   \n",
       "Germany                                               1174.706   200.943  ...   \n",
       "Turkey                                                2966.858   344.363  ...   \n",
       "Kazakhstan                                             809.065   178.890  ...   \n",
       "Azerbaijan                                             745.122   214.798  ...   \n",
       "Spain                                                 2462.785   152.386  ...   \n",
       "France                                                 770.815   111.081  ...   \n",
       "United Kingdom of Great Britain and Northern Ir...    1572.247   149.786  ...   \n",
       "Poland                                                  50.389    49.646  ...   \n",
       "Kyrgyzstan                                             105.976   119.541  ...   \n",
       "Ireland                                                335.779    17.071  ...   \n",
       "Canada                                                 439.392    31.194  ...   \n",
       "United Arab Emirates                                   248.675    85.787  ...   \n",
       "Cyprus                                                 337.459    13.926  ...   \n",
       "Armenia                                                378.207   329.431  ...   \n",
       "\n",
       "                                                          2021_11  \\\n",
       "                                                           Inflow   \n",
       "(Country, Unnamed: 0_level_1)                                       \n",
       "Total                                               207337.549247   \n",
       "Italy                                                32062.058689   \n",
       "Russian Federation                                   34396.171583   \n",
       "United States of America                             23975.889235   \n",
       "Greece                                               18948.444365   \n",
       "Israel                                               16968.677922   \n",
       "Germany                                              10885.052985   \n",
       "Turkey                                                8297.806856   \n",
       "Kazakhstan                                            9308.970701   \n",
       "Azerbaijan                                            7169.390111   \n",
       "Spain                                                 4417.331745   \n",
       "France                                                3355.135981   \n",
       "United Kingdom of Great Britain and Northern Ir...    1791.951806   \n",
       "Poland                                                2951.980834   \n",
       "Kyrgyzstan                                            6377.474000   \n",
       "Ireland                                               1776.393135   \n",
       "Canada                                                1732.041266   \n",
       "United Arab Emirates                                  1281.698760   \n",
       "Cyprus                                                1599.474456   \n",
       "Armenia                                               1214.002381   \n",
       "\n",
       "                                                                  \\\n",
       "                                                         Outflow   \n",
       "(Country, Unnamed: 0_level_1)                                      \n",
       "Total                                               31765.767033   \n",
       "Italy                                                 665.186287   \n",
       "Russian Federation                                   8269.529183   \n",
       "United States of America                              480.473746   \n",
       "Greece                                               1318.634610   \n",
       "Israel                                                444.924807   \n",
       "Germany                                               529.831259   \n",
       "Turkey                                               7518.746499   \n",
       "Kazakhstan                                            831.452278   \n",
       "Azerbaijan                                           1802.332373   \n",
       "Spain                                                 377.735780   \n",
       "France                                                454.575607   \n",
       "United Kingdom of Great Britain and Northern Ir...     88.113511   \n",
       "Poland                                               1020.907595   \n",
       "Kyrgyzstan                                            423.546714   \n",
       "Ireland                                                30.542514   \n",
       "Canada                                                 32.907206   \n",
       "United Arab Emirates                                   79.949284   \n",
       "Cyprus                                                 89.957952   \n",
       "Armenia                                              1003.456493   \n",
       "\n",
       "                                                          2021_12  \\\n",
       "                                                           Inflow   \n",
       "(Country, Unnamed: 0_level_1)                                       \n",
       "Total                                               229487.011781   \n",
       "Italy                                                37882.303986   \n",
       "Russian Federation                                   39701.700066   \n",
       "United States of America                             26653.849411   \n",
       "Greece                                               20488.948389   \n",
       "Israel                                               17654.844273   \n",
       "Germany                                              11568.761119   \n",
       "Turkey                                                8127.269275   \n",
       "Kazakhstan                                           13341.045523   \n",
       "Azerbaijan                                            6787.357478   \n",
       "Spain                                                 5114.181168   \n",
       "France                                                3506.739559   \n",
       "United Kingdom of Great Britain and Northern Ir...    2020.058800   \n",
       "Poland                                                3000.664401   \n",
       "Kyrgyzstan                                            5814.226764   \n",
       "Ireland                                               1892.162890   \n",
       "Canada                                                1856.352193   \n",
       "United Arab Emirates                                  1225.219695   \n",
       "Cyprus                                                1587.752122   \n",
       "Armenia                                               1203.126307   \n",
       "\n",
       "                                                                  \\\n",
       "                                                         Outflow   \n",
       "(Country, Unnamed: 0_level_1)                                      \n",
       "Total                                               33323.421849   \n",
       "Italy                                                 605.742198   \n",
       "Russian Federation                                   9130.770100   \n",
       "United States of America                              550.946914   \n",
       "Greece                                               1698.530650   \n",
       "Israel                                                508.466210   \n",
       "Germany                                               561.810980   \n",
       "Turkey                                               7252.755764   \n",
       "Kazakhstan                                            837.503484   \n",
       "Azerbaijan                                           2109.370973   \n",
       "Spain                                                 431.438696   \n",
       "France                                                519.452445   \n",
       "United Kingdom of Great Britain and Northern Ir...    108.907103   \n",
       "Poland                                               1138.809087   \n",
       "Kyrgyzstan                                            300.104684   \n",
       "Ireland                                                46.347414   \n",
       "Canada                                                 53.662768   \n",
       "United Arab Emirates                                  101.466154   \n",
       "Cyprus                                                 78.338708   \n",
       "Armenia                                              1323.318558   \n",
       "\n",
       "                                                           2022_1  \\\n",
       "                                                           Inflow   \n",
       "(Country, Unnamed: 0_level_1)                                       \n",
       "Total                                               168840.496906   \n",
       "Italy                                                33327.657269   \n",
       "Russian Federation                                   22382.214555   \n",
       "United States of America                             20300.954354   \n",
       "Greece                                               16891.693199   \n",
       "Israel                                               14913.304817   \n",
       "Germany                                               8817.241315   \n",
       "Turkey                                                6349.372479   \n",
       "Kazakhstan                                            6614.887414   \n",
       "Azerbaijan                                            4419.629228   \n",
       "Spain                                                 4071.832083   \n",
       "France                                                2790.995432   \n",
       "United Kingdom of Great Britain and Northern Ir...    2115.798204   \n",
       "Poland                                                2520.813566   \n",
       "Kyrgyzstan                                            2833.129882   \n",
       "Ireland                                               1377.453905   \n",
       "Canada                                                1278.587078   \n",
       "United Arab Emirates                                  1019.355655   \n",
       "Cyprus                                                1105.716483   \n",
       "Armenia                                                779.740499   \n",
       "\n",
       "                                                                  \\\n",
       "                                                         Outflow   \n",
       "(Country, Unnamed: 0_level_1)                                      \n",
       "Total                                               23320.709308   \n",
       "Italy                                                 515.955059   \n",
       "Russian Federation                                   5924.171282   \n",
       "United States of America                              472.882130   \n",
       "Greece                                               1263.006707   \n",
       "Israel                                                439.596126   \n",
       "Germany                                               470.075802   \n",
       "Turkey                                               5136.659833   \n",
       "Kazakhstan                                            584.181292   \n",
       "Azerbaijan                                           1443.129468   \n",
       "Spain                                                 264.490920   \n",
       "France                                                356.775312   \n",
       "United Kingdom of Great Britain and Northern Ir...     75.537138   \n",
       "Poland                                                982.030665   \n",
       "Kyrgyzstan                                            309.247409   \n",
       "Ireland                                                30.815158   \n",
       "Canada                                                 61.913912   \n",
       "United Arab Emirates                                   79.690811   \n",
       "Cyprus                                                 48.346336   \n",
       "Armenia                                               688.364528   \n",
       "\n",
       "                                                           2022_2  \\\n",
       "                                                           Inflow   \n",
       "(Country, Unnamed: 0_level_1)                                       \n",
       "Total                                               183418.777012   \n",
       "Italy                                                32955.519052   \n",
       "Russian Federation                                   21943.964040   \n",
       "United States of America                             21096.045814   \n",
       "Greece                                               15465.996833   \n",
       "Israel                                               14095.235096   \n",
       "Germany                                              11375.354154   \n",
       "Turkey                                                7349.372252   \n",
       "Kazakhstan                                           13781.985709   \n",
       "Azerbaijan                                            4796.641657   \n",
       "Spain                                                 4407.146488   \n",
       "France                                                3818.016493   \n",
       "United Kingdom of Great Britain and Northern Ir...    2445.874328   \n",
       "Poland                                                2516.423525   \n",
       "Kyrgyzstan                                            3372.643117   \n",
       "Ireland                                               2456.037222   \n",
       "Canada                                                1310.763278   \n",
       "United Arab Emirates                                   951.045109   \n",
       "Cyprus                                                 892.396001   \n",
       "Armenia                                               1034.716822   \n",
       "\n",
       "                                                                  \\\n",
       "                                                         Outflow   \n",
       "(Country, Unnamed: 0_level_1)                                      \n",
       "Total                                               26744.311641   \n",
       "Italy                                                 567.721472   \n",
       "Russian Federation                                   6292.664133   \n",
       "United States of America                              620.511116   \n",
       "Greece                                               1341.553687   \n",
       "Israel                                                479.515975   \n",
       "Germany                                               563.145718   \n",
       "Turkey                                               5420.177224   \n",
       "Kazakhstan                                            821.802185   \n",
       "Azerbaijan                                           1531.631204   \n",
       "Spain                                                 399.216453   \n",
       "France                                                387.183267   \n",
       "United Kingdom of Great Britain and Northern Ir...     88.177086   \n",
       "Poland                                               1085.258776   \n",
       "Kyrgyzstan                                            209.412957   \n",
       "Ireland                                                44.013751   \n",
       "Canada                                                 22.642208   \n",
       "United Arab Emirates                                  117.526212   \n",
       "Cyprus                                                 71.895602   \n",
       "Armenia                                               781.607900   \n",
       "\n",
       "                                                           2022_3  \\\n",
       "                                                           Inflow   \n",
       "(Country, Unnamed: 0_level_1)                                       \n",
       "Total                                               193065.277880   \n",
       "Italy                                                36046.938709   \n",
       "Russian Federation                                   27001.902819   \n",
       "United States of America                             25640.587091   \n",
       "Greece                                               18945.479169   \n",
       "Israel                                               16974.273373   \n",
       "Germany                                              11310.307886   \n",
       "Turkey                                                8379.326041   \n",
       "Kazakhstan                                            7551.208363   \n",
       "Azerbaijan                                            4756.890579   \n",
       "Spain                                                 4693.989813   \n",
       "France                                                3685.645390   \n",
       "United Kingdom of Great Britain and Northern Ir...    2948.932940   \n",
       "Poland                                                2926.407408   \n",
       "Kyrgyzstan                                            2148.701414   \n",
       "Ireland                                               1743.458887   \n",
       "Canada                                                1703.430540   \n",
       "United Arab Emirates                                  1334.376127   \n",
       "Cyprus                                                1332.928001   \n",
       "Armenia                                               1009.293795   \n",
       "\n",
       "                                                                  \n",
       "                                                         Outflow  \n",
       "(Country, Unnamed: 0_level_1)                                     \n",
       "Total                                               23983.799021  \n",
       "Italy                                                 688.975274  \n",
       "Russian Federation                                   2716.279532  \n",
       "United States of America                              856.938495  \n",
       "Greece                                               1659.071446  \n",
       "Israel                                                571.044900  \n",
       "Germany                                               649.267765  \n",
       "Turkey                                               5100.816925  \n",
       "Kazakhstan                                            728.741281  \n",
       "Azerbaijan                                           1651.885256  \n",
       "Spain                                                 535.735465  \n",
       "France                                                449.611907  \n",
       "United Kingdom of Great Britain and Northern Ir...    200.623447  \n",
       "Poland                                               1420.928316  \n",
       "Kyrgyzstan                                            218.266128  \n",
       "Ireland                                                40.740561  \n",
       "Canada                                                 69.653260  \n",
       "United Arab Emirates                                  130.896337  \n",
       "Cyprus                                                 86.681420  \n",
       "Armenia                                               942.813050  \n",
       "\n",
       "[20 rows x 246 columns]"
      ]
     },
     "execution_count": 84,
     "metadata": {},
     "output_type": "execute_result"
    }
   ],
   "source": [
    "df_Remissions_part2.sort_values(by=[('2022_3', 'Inflow')], ascending=False).head(20)"
   ]
  },
  {
   "cell_type": "code",
   "execution_count": 64,
   "id": "193a6144",
   "metadata": {},
   "outputs": [],
   "source": [
    "df_Remissions=df_Remissions.join(df_Remissions_part2)"
   ]
  },
  {
   "cell_type": "code",
   "execution_count": 65,
   "id": "540e9452",
   "metadata": {},
   "outputs": [
    {
     "data": {
      "text/html": [
       "<div>\n",
       "<style scoped>\n",
       "    .dataframe tbody tr th:only-of-type {\n",
       "        vertical-align: middle;\n",
       "    }\n",
       "\n",
       "    .dataframe tbody tr th {\n",
       "        vertical-align: top;\n",
       "    }\n",
       "\n",
       "    .dataframe thead tr th {\n",
       "        text-align: left;\n",
       "    }\n",
       "\n",
       "    .dataframe thead tr:last-of-type th {\n",
       "        text-align: right;\n",
       "    }\n",
       "</style>\n",
       "<table border=\"1\" class=\"dataframe\">\n",
       "  <thead>\n",
       "    <tr>\n",
       "      <th></th>\n",
       "      <th colspan=\"2\" halign=\"left\">2010_1</th>\n",
       "      <th colspan=\"2\" halign=\"left\">2010_2</th>\n",
       "      <th colspan=\"2\" halign=\"left\">2010_3</th>\n",
       "      <th colspan=\"2\" halign=\"left\">2010_4</th>\n",
       "      <th colspan=\"2\" halign=\"left\">2010_5</th>\n",
       "      <th>...</th>\n",
       "      <th colspan=\"2\" halign=\"left\">2021_11</th>\n",
       "      <th colspan=\"2\" halign=\"left\">2021_12</th>\n",
       "      <th colspan=\"2\" halign=\"left\">2022_1</th>\n",
       "      <th colspan=\"2\" halign=\"left\">2022_2</th>\n",
       "      <th colspan=\"2\" halign=\"left\">2022_3</th>\n",
       "    </tr>\n",
       "    <tr>\n",
       "      <th></th>\n",
       "      <th>Inflow</th>\n",
       "      <th>Outflow</th>\n",
       "      <th>Inflow</th>\n",
       "      <th>Outflow</th>\n",
       "      <th>Inflow</th>\n",
       "      <th>Outflow</th>\n",
       "      <th>Inflow</th>\n",
       "      <th>Outflow</th>\n",
       "      <th>Inflow</th>\n",
       "      <th>Outflow</th>\n",
       "      <th>...</th>\n",
       "      <th>Inflow</th>\n",
       "      <th>Outflow</th>\n",
       "      <th>Inflow</th>\n",
       "      <th>Outflow</th>\n",
       "      <th>Inflow</th>\n",
       "      <th>Outflow</th>\n",
       "      <th>Inflow</th>\n",
       "      <th>Outflow</th>\n",
       "      <th>Inflow</th>\n",
       "      <th>Outflow</th>\n",
       "    </tr>\n",
       "    <tr>\n",
       "      <th>(Country, Unnamed: 0_level_1)</th>\n",
       "      <th></th>\n",
       "      <th></th>\n",
       "      <th></th>\n",
       "      <th></th>\n",
       "      <th></th>\n",
       "      <th></th>\n",
       "      <th></th>\n",
       "      <th></th>\n",
       "      <th></th>\n",
       "      <th></th>\n",
       "      <th></th>\n",
       "      <th></th>\n",
       "      <th></th>\n",
       "      <th></th>\n",
       "      <th></th>\n",
       "      <th></th>\n",
       "      <th></th>\n",
       "      <th></th>\n",
       "      <th></th>\n",
       "      <th></th>\n",
       "      <th></th>\n",
       "    </tr>\n",
       "  </thead>\n",
       "  <tbody>\n",
       "    <tr>\n",
       "      <th>Total</th>\n",
       "      <td>65282.094118</td>\n",
       "      <td>5630.326645</td>\n",
       "      <td>71125.689936</td>\n",
       "      <td>6093.613082</td>\n",
       "      <td>92985.126657</td>\n",
       "      <td>7627.998001</td>\n",
       "      <td>84503.458312</td>\n",
       "      <td>6953.173070</td>\n",
       "      <td>83103.497531</td>\n",
       "      <td>6460.226895</td>\n",
       "      <td>...</td>\n",
       "      <td>207337.549247</td>\n",
       "      <td>31765.767033</td>\n",
       "      <td>229487.011781</td>\n",
       "      <td>33323.421849</td>\n",
       "      <td>168840.496906</td>\n",
       "      <td>23320.709308</td>\n",
       "      <td>183418.777012</td>\n",
       "      <td>26744.311641</td>\n",
       "      <td>193065.277880</td>\n",
       "      <td>23983.799021</td>\n",
       "    </tr>\n",
       "    <tr>\n",
       "      <th>Russian Federation</th>\n",
       "      <td>30894.292213</td>\n",
       "      <td>1838.355105</td>\n",
       "      <td>34489.193394</td>\n",
       "      <td>2284.811719</td>\n",
       "      <td>47460.358242</td>\n",
       "      <td>2846.982813</td>\n",
       "      <td>43810.491217</td>\n",
       "      <td>2762.989677</td>\n",
       "      <td>41281.275133</td>\n",
       "      <td>2496.034494</td>\n",
       "      <td>...</td>\n",
       "      <td>34396.171583</td>\n",
       "      <td>8269.529183</td>\n",
       "      <td>39701.700066</td>\n",
       "      <td>9130.770100</td>\n",
       "      <td>22382.214555</td>\n",
       "      <td>5924.171282</td>\n",
       "      <td>21943.964040</td>\n",
       "      <td>6292.664133</td>\n",
       "      <td>27001.902819</td>\n",
       "      <td>2716.279532</td>\n",
       "    </tr>\n",
       "    <tr>\n",
       "      <th>Italy</th>\n",
       "      <td>5662.810282</td>\n",
       "      <td>67.037832</td>\n",
       "      <td>5946.351729</td>\n",
       "      <td>87.652371</td>\n",
       "      <td>6966.017311</td>\n",
       "      <td>91.810450</td>\n",
       "      <td>6034.675989</td>\n",
       "      <td>79.467909</td>\n",
       "      <td>5911.069432</td>\n",
       "      <td>94.714989</td>\n",
       "      <td>...</td>\n",
       "      <td>32062.058689</td>\n",
       "      <td>665.186287</td>\n",
       "      <td>37882.303986</td>\n",
       "      <td>605.742198</td>\n",
       "      <td>33327.657269</td>\n",
       "      <td>515.955059</td>\n",
       "      <td>32955.519052</td>\n",
       "      <td>567.721472</td>\n",
       "      <td>36046.938709</td>\n",
       "      <td>688.975274</td>\n",
       "    </tr>\n",
       "    <tr>\n",
       "      <th>Greece</th>\n",
       "      <td>8273.374332</td>\n",
       "      <td>335.544711</td>\n",
       "      <td>8412.861337</td>\n",
       "      <td>377.937925</td>\n",
       "      <td>10515.666640</td>\n",
       "      <td>463.677133</td>\n",
       "      <td>9043.791615</td>\n",
       "      <td>400.690623</td>\n",
       "      <td>9860.619376</td>\n",
       "      <td>451.274882</td>\n",
       "      <td>...</td>\n",
       "      <td>18948.444365</td>\n",
       "      <td>1318.634610</td>\n",
       "      <td>20488.948389</td>\n",
       "      <td>1698.530650</td>\n",
       "      <td>16891.693199</td>\n",
       "      <td>1263.006707</td>\n",
       "      <td>15465.996833</td>\n",
       "      <td>1341.553687</td>\n",
       "      <td>18945.479169</td>\n",
       "      <td>1659.071446</td>\n",
       "    </tr>\n",
       "    <tr>\n",
       "      <th>United States</th>\n",
       "      <td>4851.012420</td>\n",
       "      <td>166.902497</td>\n",
       "      <td>5188.801043</td>\n",
       "      <td>170.690175</td>\n",
       "      <td>6661.216810</td>\n",
       "      <td>200.670875</td>\n",
       "      <td>5929.437960</td>\n",
       "      <td>147.961507</td>\n",
       "      <td>6708.923849</td>\n",
       "      <td>139.709309</td>\n",
       "      <td>...</td>\n",
       "      <td>NaN</td>\n",
       "      <td>NaN</td>\n",
       "      <td>NaN</td>\n",
       "      <td>NaN</td>\n",
       "      <td>NaN</td>\n",
       "      <td>NaN</td>\n",
       "      <td>NaN</td>\n",
       "      <td>NaN</td>\n",
       "      <td>NaN</td>\n",
       "      <td>NaN</td>\n",
       "    </tr>\n",
       "    <tr>\n",
       "      <th>...</th>\n",
       "      <td>...</td>\n",
       "      <td>...</td>\n",
       "      <td>...</td>\n",
       "      <td>...</td>\n",
       "      <td>...</td>\n",
       "      <td>...</td>\n",
       "      <td>...</td>\n",
       "      <td>...</td>\n",
       "      <td>...</td>\n",
       "      <td>...</td>\n",
       "      <td>...</td>\n",
       "      <td>...</td>\n",
       "      <td>...</td>\n",
       "      <td>...</td>\n",
       "      <td>...</td>\n",
       "      <td>...</td>\n",
       "      <td>...</td>\n",
       "      <td>...</td>\n",
       "      <td>...</td>\n",
       "      <td>...</td>\n",
       "      <td>...</td>\n",
       "    </tr>\n",
       "    <tr>\n",
       "      <th>Sint Maarten (Dutch part)</th>\n",
       "      <td>0.000000</td>\n",
       "      <td>0.000000</td>\n",
       "      <td>0.000000</td>\n",
       "      <td>0.000000</td>\n",
       "      <td>0.000000</td>\n",
       "      <td>0.000000</td>\n",
       "      <td>0.000000</td>\n",
       "      <td>0.000000</td>\n",
       "      <td>0.000000</td>\n",
       "      <td>0.000000</td>\n",
       "      <td>...</td>\n",
       "      <td>0.400000</td>\n",
       "      <td>0.000000</td>\n",
       "      <td>0.500000</td>\n",
       "      <td>0.000000</td>\n",
       "      <td>0.400000</td>\n",
       "      <td>0.000000</td>\n",
       "      <td>0.185350</td>\n",
       "      <td>0.000000</td>\n",
       "      <td>0.471700</td>\n",
       "      <td>0.000000</td>\n",
       "    </tr>\n",
       "    <tr>\n",
       "      <th>New Caledonia</th>\n",
       "      <td>0.000000</td>\n",
       "      <td>0.000000</td>\n",
       "      <td>0.000000</td>\n",
       "      <td>0.000000</td>\n",
       "      <td>0.000000</td>\n",
       "      <td>0.000000</td>\n",
       "      <td>0.000000</td>\n",
       "      <td>0.000000</td>\n",
       "      <td>0.000000</td>\n",
       "      <td>0.000000</td>\n",
       "      <td>...</td>\n",
       "      <td>0.000000</td>\n",
       "      <td>0.000000</td>\n",
       "      <td>0.000000</td>\n",
       "      <td>0.000000</td>\n",
       "      <td>0.000000</td>\n",
       "      <td>0.000000</td>\n",
       "      <td>0.000000</td>\n",
       "      <td>0.000000</td>\n",
       "      <td>0.000000</td>\n",
       "      <td>0.000000</td>\n",
       "    </tr>\n",
       "    <tr>\n",
       "      <th>Niue</th>\n",
       "      <td>0.000000</td>\n",
       "      <td>0.000000</td>\n",
       "      <td>0.000000</td>\n",
       "      <td>0.000000</td>\n",
       "      <td>0.000000</td>\n",
       "      <td>0.000000</td>\n",
       "      <td>0.000000</td>\n",
       "      <td>0.000000</td>\n",
       "      <td>0.000000</td>\n",
       "      <td>0.000000</td>\n",
       "      <td>...</td>\n",
       "      <td>0.000000</td>\n",
       "      <td>0.000000</td>\n",
       "      <td>0.000000</td>\n",
       "      <td>0.000000</td>\n",
       "      <td>0.000000</td>\n",
       "      <td>0.000000</td>\n",
       "      <td>0.000000</td>\n",
       "      <td>0.000000</td>\n",
       "      <td>0.000000</td>\n",
       "      <td>0.000000</td>\n",
       "    </tr>\n",
       "    <tr>\n",
       "      <th>Svalbard and Jan Mayen</th>\n",
       "      <td>0.000000</td>\n",
       "      <td>0.000000</td>\n",
       "      <td>0.000000</td>\n",
       "      <td>0.000000</td>\n",
       "      <td>0.000000</td>\n",
       "      <td>0.000000</td>\n",
       "      <td>0.000000</td>\n",
       "      <td>0.000000</td>\n",
       "      <td>0.000000</td>\n",
       "      <td>0.000000</td>\n",
       "      <td>...</td>\n",
       "      <td>0.000000</td>\n",
       "      <td>0.000000</td>\n",
       "      <td>0.000000</td>\n",
       "      <td>0.000000</td>\n",
       "      <td>0.000000</td>\n",
       "      <td>0.000000</td>\n",
       "      <td>0.000000</td>\n",
       "      <td>0.000000</td>\n",
       "      <td>0.000000</td>\n",
       "      <td>0.000000</td>\n",
       "    </tr>\n",
       "    <tr>\n",
       "      <th>Areas not elsewhere specified</th>\n",
       "      <td>21.011324</td>\n",
       "      <td>11.343390</td>\n",
       "      <td>15.669560</td>\n",
       "      <td>12.417903</td>\n",
       "      <td>21.199184</td>\n",
       "      <td>14.791000</td>\n",
       "      <td>22.203288</td>\n",
       "      <td>0.000000</td>\n",
       "      <td>3.972360</td>\n",
       "      <td>0.038870</td>\n",
       "      <td>...</td>\n",
       "      <td>NaN</td>\n",
       "      <td>NaN</td>\n",
       "      <td>NaN</td>\n",
       "      <td>NaN</td>\n",
       "      <td>NaN</td>\n",
       "      <td>NaN</td>\n",
       "      <td>NaN</td>\n",
       "      <td>NaN</td>\n",
       "      <td>NaN</td>\n",
       "      <td>NaN</td>\n",
       "    </tr>\n",
       "  </tbody>\n",
       "</table>\n",
       "<p>249 rows × 294 columns</p>\n",
       "</div>"
      ],
      "text/plain": [
       "                                     2010_1                     2010_2  \\\n",
       "                                     Inflow      Outflow        Inflow   \n",
       "(Country, Unnamed: 0_level_1)                                            \n",
       "Total                          65282.094118  5630.326645  71125.689936   \n",
       "Russian Federation             30894.292213  1838.355105  34489.193394   \n",
       "Italy                           5662.810282    67.037832   5946.351729   \n",
       "Greece                          8273.374332   335.544711   8412.861337   \n",
       "United States                   4851.012420   166.902497   5188.801043   \n",
       "...                                     ...          ...           ...   \n",
       "Sint Maarten (Dutch part)          0.000000     0.000000      0.000000   \n",
       "New Caledonia                      0.000000     0.000000      0.000000   \n",
       "Niue                               0.000000     0.000000      0.000000   \n",
       "Svalbard and Jan Mayen             0.000000     0.000000      0.000000   \n",
       "Areas not elsewhere specified     21.011324    11.343390     15.669560   \n",
       "\n",
       "                                                  2010_3               \\\n",
       "                                   Outflow        Inflow      Outflow   \n",
       "(Country, Unnamed: 0_level_1)                                           \n",
       "Total                          6093.613082  92985.126657  7627.998001   \n",
       "Russian Federation             2284.811719  47460.358242  2846.982813   \n",
       "Italy                            87.652371   6966.017311    91.810450   \n",
       "Greece                          377.937925  10515.666640   463.677133   \n",
       "United States                   170.690175   6661.216810   200.670875   \n",
       "...                                    ...           ...          ...   \n",
       "Sint Maarten (Dutch part)         0.000000      0.000000     0.000000   \n",
       "New Caledonia                     0.000000      0.000000     0.000000   \n",
       "Niue                              0.000000      0.000000     0.000000   \n",
       "Svalbard and Jan Mayen            0.000000      0.000000     0.000000   \n",
       "Areas not elsewhere specified    12.417903     21.199184    14.791000   \n",
       "\n",
       "                                     2010_4                     2010_5  \\\n",
       "                                     Inflow      Outflow        Inflow   \n",
       "(Country, Unnamed: 0_level_1)                                            \n",
       "Total                          84503.458312  6953.173070  83103.497531   \n",
       "Russian Federation             43810.491217  2762.989677  41281.275133   \n",
       "Italy                           6034.675989    79.467909   5911.069432   \n",
       "Greece                          9043.791615   400.690623   9860.619376   \n",
       "United States                   5929.437960   147.961507   6708.923849   \n",
       "...                                     ...          ...           ...   \n",
       "Sint Maarten (Dutch part)          0.000000     0.000000      0.000000   \n",
       "New Caledonia                      0.000000     0.000000      0.000000   \n",
       "Niue                               0.000000     0.000000      0.000000   \n",
       "Svalbard and Jan Mayen             0.000000     0.000000      0.000000   \n",
       "Areas not elsewhere specified     22.203288     0.000000      3.972360   \n",
       "\n",
       "                                            ...        2021_11                \\\n",
       "                                   Outflow  ...         Inflow       Outflow   \n",
       "(Country, Unnamed: 0_level_1)               ...                                \n",
       "Total                          6460.226895  ...  207337.549247  31765.767033   \n",
       "Russian Federation             2496.034494  ...   34396.171583   8269.529183   \n",
       "Italy                            94.714989  ...   32062.058689    665.186287   \n",
       "Greece                          451.274882  ...   18948.444365   1318.634610   \n",
       "United States                   139.709309  ...            NaN           NaN   \n",
       "...                                    ...  ...            ...           ...   \n",
       "Sint Maarten (Dutch part)         0.000000  ...       0.400000      0.000000   \n",
       "New Caledonia                     0.000000  ...       0.000000      0.000000   \n",
       "Niue                              0.000000  ...       0.000000      0.000000   \n",
       "Svalbard and Jan Mayen            0.000000  ...       0.000000      0.000000   \n",
       "Areas not elsewhere specified     0.038870  ...            NaN           NaN   \n",
       "\n",
       "                                     2021_12                       2022_1  \\\n",
       "                                      Inflow       Outflow         Inflow   \n",
       "(Country, Unnamed: 0_level_1)                                               \n",
       "Total                          229487.011781  33323.421849  168840.496906   \n",
       "Russian Federation              39701.700066   9130.770100   22382.214555   \n",
       "Italy                           37882.303986    605.742198   33327.657269   \n",
       "Greece                          20488.948389   1698.530650   16891.693199   \n",
       "United States                            NaN           NaN            NaN   \n",
       "...                                      ...           ...            ...   \n",
       "Sint Maarten (Dutch part)           0.500000      0.000000       0.400000   \n",
       "New Caledonia                       0.000000      0.000000       0.000000   \n",
       "Niue                                0.000000      0.000000       0.000000   \n",
       "Svalbard and Jan Mayen              0.000000      0.000000       0.000000   \n",
       "Areas not elsewhere specified            NaN           NaN            NaN   \n",
       "\n",
       "                                                    2022_2                \\\n",
       "                                    Outflow         Inflow       Outflow   \n",
       "(Country, Unnamed: 0_level_1)                                              \n",
       "Total                          23320.709308  183418.777012  26744.311641   \n",
       "Russian Federation              5924.171282   21943.964040   6292.664133   \n",
       "Italy                            515.955059   32955.519052    567.721472   \n",
       "Greece                          1263.006707   15465.996833   1341.553687   \n",
       "United States                           NaN            NaN           NaN   \n",
       "...                                     ...            ...           ...   \n",
       "Sint Maarten (Dutch part)          0.000000       0.185350      0.000000   \n",
       "New Caledonia                      0.000000       0.000000      0.000000   \n",
       "Niue                               0.000000       0.000000      0.000000   \n",
       "Svalbard and Jan Mayen             0.000000       0.000000      0.000000   \n",
       "Areas not elsewhere specified           NaN            NaN           NaN   \n",
       "\n",
       "                                      2022_3                \n",
       "                                      Inflow       Outflow  \n",
       "(Country, Unnamed: 0_level_1)                               \n",
       "Total                          193065.277880  23983.799021  \n",
       "Russian Federation              27001.902819   2716.279532  \n",
       "Italy                           36046.938709    688.975274  \n",
       "Greece                          18945.479169   1659.071446  \n",
       "United States                            NaN           NaN  \n",
       "...                                      ...           ...  \n",
       "Sint Maarten (Dutch part)           0.471700      0.000000  \n",
       "New Caledonia                       0.000000      0.000000  \n",
       "Niue                                0.000000      0.000000  \n",
       "Svalbard and Jan Mayen              0.000000      0.000000  \n",
       "Areas not elsewhere specified            NaN           NaN  \n",
       "\n",
       "[249 rows x 294 columns]"
      ]
     },
     "execution_count": 65,
     "metadata": {},
     "output_type": "execute_result"
    }
   ],
   "source": [
    "df_Remissions"
   ]
  },
  {
   "cell_type": "code",
   "execution_count": 70,
   "id": "b1a29851",
   "metadata": {},
   "outputs": [],
   "source": [
    "df_Remissions_Inflow = df_Remissions.loc[:, idx[:,\"Inflow\"]]\n",
    "df_Remissions_Inflow = df_Remissions_Inflow.reset_index().droplevel(1, axis = 1)\n",
    "df_Remissions_Inflow.set_index(\"Country\", inplace= True)\n",
    "df_Remissions_Inflow = df_Remissions_Inflow.T.reset_index().rename(columns = {\"index\":\"Year\"})"
   ]
  },
  {
   "cell_type": "code",
   "execution_count": 71,
   "metadata": {},
   "outputs": [
    {
     "data": {
      "text/html": [
       "<div>\n",
       "<style scoped>\n",
       "    .dataframe tbody tr th:only-of-type {\n",
       "        vertical-align: middle;\n",
       "    }\n",
       "\n",
       "    .dataframe tbody tr th {\n",
       "        vertical-align: top;\n",
       "    }\n",
       "\n",
       "    .dataframe thead th {\n",
       "        text-align: right;\n",
       "    }\n",
       "</style>\n",
       "<table border=\"1\" class=\"dataframe\">\n",
       "  <thead>\n",
       "    <tr style=\"text-align: right;\">\n",
       "      <th>Country</th>\n",
       "      <th>Year</th>\n",
       "      <th>Total</th>\n",
       "      <th>Russian Federation</th>\n",
       "      <th>Italy</th>\n",
       "      <th>Greece</th>\n",
       "      <th>United States</th>\n",
       "      <th>Israel</th>\n",
       "      <th>Turkey</th>\n",
       "      <th>Spain</th>\n",
       "      <th>Germany</th>\n",
       "      <th>...</th>\n",
       "      <th>Antarctica</th>\n",
       "      <th>Timor-LESTE</th>\n",
       "      <th>Saint Helena</th>\n",
       "      <th>Mayotte</th>\n",
       "      <th>Martinique</th>\n",
       "      <th>Sint Maarten (Dutch part)</th>\n",
       "      <th>New Caledonia</th>\n",
       "      <th>Niue</th>\n",
       "      <th>Svalbard and Jan Mayen</th>\n",
       "      <th>Areas not elsewhere specified</th>\n",
       "    </tr>\n",
       "  </thead>\n",
       "  <tbody>\n",
       "    <tr>\n",
       "      <th>0</th>\n",
       "      <td>2010_1</td>\n",
       "      <td>65282.094118</td>\n",
       "      <td>30894.292213</td>\n",
       "      <td>5662.810282</td>\n",
       "      <td>8273.374332</td>\n",
       "      <td>4851.012420</td>\n",
       "      <td>643.439873</td>\n",
       "      <td>1819.440359</td>\n",
       "      <td>2017.726733</td>\n",
       "      <td>718.181894</td>\n",
       "      <td>...</td>\n",
       "      <td>0.00</td>\n",
       "      <td>33.210066</td>\n",
       "      <td>0.0</td>\n",
       "      <td>0.0</td>\n",
       "      <td>0.0</td>\n",
       "      <td>0.0</td>\n",
       "      <td>0.0</td>\n",
       "      <td>0.0</td>\n",
       "      <td>0.0</td>\n",
       "      <td>21.011324</td>\n",
       "    </tr>\n",
       "    <tr>\n",
       "      <th>1</th>\n",
       "      <td>2010_2</td>\n",
       "      <td>71125.689936</td>\n",
       "      <td>34489.193394</td>\n",
       "      <td>5946.351729</td>\n",
       "      <td>8412.861337</td>\n",
       "      <td>5188.801043</td>\n",
       "      <td>755.396960</td>\n",
       "      <td>1934.329513</td>\n",
       "      <td>2237.812266</td>\n",
       "      <td>752.798514</td>\n",
       "      <td>...</td>\n",
       "      <td>0.00</td>\n",
       "      <td>0.000000</td>\n",
       "      <td>0.0</td>\n",
       "      <td>0.0</td>\n",
       "      <td>0.0</td>\n",
       "      <td>0.0</td>\n",
       "      <td>0.0</td>\n",
       "      <td>0.0</td>\n",
       "      <td>0.0</td>\n",
       "      <td>15.669560</td>\n",
       "    </tr>\n",
       "    <tr>\n",
       "      <th>2</th>\n",
       "      <td>2010_3</td>\n",
       "      <td>92985.126657</td>\n",
       "      <td>47460.358242</td>\n",
       "      <td>6966.017311</td>\n",
       "      <td>10515.666640</td>\n",
       "      <td>6661.216810</td>\n",
       "      <td>829.232557</td>\n",
       "      <td>2561.933478</td>\n",
       "      <td>2693.691649</td>\n",
       "      <td>968.873911</td>\n",
       "      <td>...</td>\n",
       "      <td>0.00</td>\n",
       "      <td>0.000000</td>\n",
       "      <td>0.0</td>\n",
       "      <td>0.0</td>\n",
       "      <td>0.0</td>\n",
       "      <td>0.0</td>\n",
       "      <td>0.0</td>\n",
       "      <td>0.0</td>\n",
       "      <td>0.0</td>\n",
       "      <td>21.199184</td>\n",
       "    </tr>\n",
       "    <tr>\n",
       "      <th>3</th>\n",
       "      <td>2010_4</td>\n",
       "      <td>84503.458312</td>\n",
       "      <td>43810.491217</td>\n",
       "      <td>6034.675989</td>\n",
       "      <td>9043.791615</td>\n",
       "      <td>5929.437960</td>\n",
       "      <td>1096.612202</td>\n",
       "      <td>2494.417231</td>\n",
       "      <td>2231.520948</td>\n",
       "      <td>935.390315</td>\n",
       "      <td>...</td>\n",
       "      <td>0.00</td>\n",
       "      <td>0.000000</td>\n",
       "      <td>0.0</td>\n",
       "      <td>0.0</td>\n",
       "      <td>0.0</td>\n",
       "      <td>0.0</td>\n",
       "      <td>0.0</td>\n",
       "      <td>0.0</td>\n",
       "      <td>0.0</td>\n",
       "      <td>22.203288</td>\n",
       "    </tr>\n",
       "    <tr>\n",
       "      <th>4</th>\n",
       "      <td>2010_5</td>\n",
       "      <td>83103.497531</td>\n",
       "      <td>41281.275133</td>\n",
       "      <td>5911.069432</td>\n",
       "      <td>9860.619376</td>\n",
       "      <td>6708.923849</td>\n",
       "      <td>974.288086</td>\n",
       "      <td>3030.029112</td>\n",
       "      <td>2286.873958</td>\n",
       "      <td>1244.242044</td>\n",
       "      <td>...</td>\n",
       "      <td>0.85</td>\n",
       "      <td>0.000000</td>\n",
       "      <td>0.0</td>\n",
       "      <td>0.0</td>\n",
       "      <td>0.0</td>\n",
       "      <td>0.0</td>\n",
       "      <td>0.0</td>\n",
       "      <td>0.0</td>\n",
       "      <td>0.0</td>\n",
       "      <td>3.972360</td>\n",
       "    </tr>\n",
       "  </tbody>\n",
       "</table>\n",
       "<p>5 rows × 250 columns</p>\n",
       "</div>"
      ],
      "text/plain": [
       "Country    Year         Total  Russian Federation        Italy        Greece  \\\n",
       "0        2010_1  65282.094118        30894.292213  5662.810282   8273.374332   \n",
       "1        2010_2  71125.689936        34489.193394  5946.351729   8412.861337   \n",
       "2        2010_3  92985.126657        47460.358242  6966.017311  10515.666640   \n",
       "3        2010_4  84503.458312        43810.491217  6034.675989   9043.791615   \n",
       "4        2010_5  83103.497531        41281.275133  5911.069432   9860.619376   \n",
       "\n",
       "Country  United States       Israel       Turkey        Spain      Germany  \\\n",
       "0          4851.012420   643.439873  1819.440359  2017.726733   718.181894   \n",
       "1          5188.801043   755.396960  1934.329513  2237.812266   752.798514   \n",
       "2          6661.216810   829.232557  2561.933478  2693.691649   968.873911   \n",
       "3          5929.437960  1096.612202  2494.417231  2231.520948   935.390315   \n",
       "4          6708.923849   974.288086  3030.029112  2286.873958  1244.242044   \n",
       "\n",
       "Country  ...  Antarctica  Timor-LESTE  Saint Helena  Mayotte  Martinique  \\\n",
       "0        ...        0.00    33.210066           0.0      0.0         0.0   \n",
       "1        ...        0.00     0.000000           0.0      0.0         0.0   \n",
       "2        ...        0.00     0.000000           0.0      0.0         0.0   \n",
       "3        ...        0.00     0.000000           0.0      0.0         0.0   \n",
       "4        ...        0.85     0.000000           0.0      0.0         0.0   \n",
       "\n",
       "Country  Sint Maarten (Dutch part)  New Caledonia  Niue  \\\n",
       "0                              0.0            0.0   0.0   \n",
       "1                              0.0            0.0   0.0   \n",
       "2                              0.0            0.0   0.0   \n",
       "3                              0.0            0.0   0.0   \n",
       "4                              0.0            0.0   0.0   \n",
       "\n",
       "Country  Svalbard and Jan Mayen  Areas not elsewhere specified  \n",
       "0                           0.0                      21.011324  \n",
       "1                           0.0                      15.669560  \n",
       "2                           0.0                      21.199184  \n",
       "3                           0.0                      22.203288  \n",
       "4                           0.0                       3.972360  \n",
       "\n",
       "[5 rows x 250 columns]"
      ]
     },
     "execution_count": 71,
     "metadata": {},
     "output_type": "execute_result"
    }
   ],
   "source": [
    "df_Remissions_Inflow.head()"
   ]
  },
  {
   "cell_type": "code",
   "execution_count": 72,
   "id": "5b2c3152",
   "metadata": {},
   "outputs": [
    {
     "data": {
      "text/html": [
       "<div>\n",
       "<style scoped>\n",
       "    .dataframe tbody tr th:only-of-type {\n",
       "        vertical-align: middle;\n",
       "    }\n",
       "\n",
       "    .dataframe tbody tr th {\n",
       "        vertical-align: top;\n",
       "    }\n",
       "\n",
       "    .dataframe thead th {\n",
       "        text-align: right;\n",
       "    }\n",
       "</style>\n",
       "<table border=\"1\" class=\"dataframe\">\n",
       "  <thead>\n",
       "    <tr style=\"text-align: right;\">\n",
       "      <th>Country</th>\n",
       "      <th>Year</th>\n",
       "      <th>Total</th>\n",
       "      <th>Russian Federation</th>\n",
       "      <th>Italy</th>\n",
       "      <th>Greece</th>\n",
       "      <th>United States</th>\n",
       "      <th>Israel</th>\n",
       "      <th>Turkey</th>\n",
       "      <th>Spain</th>\n",
       "      <th>Germany</th>\n",
       "      <th>...</th>\n",
       "      <th>Antarctica</th>\n",
       "      <th>Timor-LESTE</th>\n",
       "      <th>Saint Helena</th>\n",
       "      <th>Mayotte</th>\n",
       "      <th>Martinique</th>\n",
       "      <th>Sint Maarten (Dutch part)</th>\n",
       "      <th>New Caledonia</th>\n",
       "      <th>Niue</th>\n",
       "      <th>Svalbard and Jan Mayen</th>\n",
       "      <th>Areas not elsewhere specified</th>\n",
       "    </tr>\n",
       "  </thead>\n",
       "  <tbody>\n",
       "    <tr>\n",
       "      <th>0</th>\n",
       "      <td>2010_1</td>\n",
       "      <td>5630.326645</td>\n",
       "      <td>1838.355105</td>\n",
       "      <td>67.037832</td>\n",
       "      <td>335.544711</td>\n",
       "      <td>166.902497</td>\n",
       "      <td>106.504147</td>\n",
       "      <td>372.299476</td>\n",
       "      <td>81.775739</td>\n",
       "      <td>156.761450</td>\n",
       "      <td>...</td>\n",
       "      <td>0.00</td>\n",
       "      <td>4.675504</td>\n",
       "      <td>0.0</td>\n",
       "      <td>0.0</td>\n",
       "      <td>0.0</td>\n",
       "      <td>0.0</td>\n",
       "      <td>0.0</td>\n",
       "      <td>0.0</td>\n",
       "      <td>0.0</td>\n",
       "      <td>11.343390</td>\n",
       "    </tr>\n",
       "    <tr>\n",
       "      <th>1</th>\n",
       "      <td>2010_2</td>\n",
       "      <td>6093.613082</td>\n",
       "      <td>2284.811719</td>\n",
       "      <td>87.652371</td>\n",
       "      <td>377.937925</td>\n",
       "      <td>170.690175</td>\n",
       "      <td>99.103565</td>\n",
       "      <td>361.846618</td>\n",
       "      <td>82.746912</td>\n",
       "      <td>181.182575</td>\n",
       "      <td>...</td>\n",
       "      <td>0.00</td>\n",
       "      <td>0.000000</td>\n",
       "      <td>0.0</td>\n",
       "      <td>0.0</td>\n",
       "      <td>0.0</td>\n",
       "      <td>0.0</td>\n",
       "      <td>0.0</td>\n",
       "      <td>0.0</td>\n",
       "      <td>0.0</td>\n",
       "      <td>12.417903</td>\n",
       "    </tr>\n",
       "    <tr>\n",
       "      <th>2</th>\n",
       "      <td>2010_3</td>\n",
       "      <td>7627.998001</td>\n",
       "      <td>2846.982813</td>\n",
       "      <td>91.810450</td>\n",
       "      <td>463.677133</td>\n",
       "      <td>200.670875</td>\n",
       "      <td>116.338709</td>\n",
       "      <td>334.848525</td>\n",
       "      <td>107.602455</td>\n",
       "      <td>125.919830</td>\n",
       "      <td>...</td>\n",
       "      <td>0.00</td>\n",
       "      <td>0.000000</td>\n",
       "      <td>0.0</td>\n",
       "      <td>0.0</td>\n",
       "      <td>0.0</td>\n",
       "      <td>0.0</td>\n",
       "      <td>0.0</td>\n",
       "      <td>0.0</td>\n",
       "      <td>0.0</td>\n",
       "      <td>14.791000</td>\n",
       "    </tr>\n",
       "    <tr>\n",
       "      <th>3</th>\n",
       "      <td>2010_4</td>\n",
       "      <td>6953.173070</td>\n",
       "      <td>2762.989677</td>\n",
       "      <td>79.467909</td>\n",
       "      <td>400.690623</td>\n",
       "      <td>147.961507</td>\n",
       "      <td>102.506695</td>\n",
       "      <td>356.909037</td>\n",
       "      <td>87.866900</td>\n",
       "      <td>114.071111</td>\n",
       "      <td>...</td>\n",
       "      <td>0.00</td>\n",
       "      <td>0.000000</td>\n",
       "      <td>0.0</td>\n",
       "      <td>0.0</td>\n",
       "      <td>0.0</td>\n",
       "      <td>0.0</td>\n",
       "      <td>0.0</td>\n",
       "      <td>0.0</td>\n",
       "      <td>0.0</td>\n",
       "      <td>0.000000</td>\n",
       "    </tr>\n",
       "    <tr>\n",
       "      <th>4</th>\n",
       "      <td>2010_5</td>\n",
       "      <td>6460.226895</td>\n",
       "      <td>2496.034494</td>\n",
       "      <td>94.714989</td>\n",
       "      <td>451.274882</td>\n",
       "      <td>139.709309</td>\n",
       "      <td>125.525039</td>\n",
       "      <td>362.966725</td>\n",
       "      <td>74.996162</td>\n",
       "      <td>142.519805</td>\n",
       "      <td>...</td>\n",
       "      <td>0.85</td>\n",
       "      <td>0.000000</td>\n",
       "      <td>0.0</td>\n",
       "      <td>0.0</td>\n",
       "      <td>0.0</td>\n",
       "      <td>0.0</td>\n",
       "      <td>0.0</td>\n",
       "      <td>0.0</td>\n",
       "      <td>0.0</td>\n",
       "      <td>0.038870</td>\n",
       "    </tr>\n",
       "  </tbody>\n",
       "</table>\n",
       "<p>5 rows × 250 columns</p>\n",
       "</div>"
      ],
      "text/plain": [
       "Country    Year        Total  Russian Federation      Italy      Greece  \\\n",
       "0        2010_1  5630.326645         1838.355105  67.037832  335.544711   \n",
       "1        2010_2  6093.613082         2284.811719  87.652371  377.937925   \n",
       "2        2010_3  7627.998001         2846.982813  91.810450  463.677133   \n",
       "3        2010_4  6953.173070         2762.989677  79.467909  400.690623   \n",
       "4        2010_5  6460.226895         2496.034494  94.714989  451.274882   \n",
       "\n",
       "Country  United States      Israel      Turkey       Spain     Germany  ...  \\\n",
       "0           166.902497  106.504147  372.299476   81.775739  156.761450  ...   \n",
       "1           170.690175   99.103565  361.846618   82.746912  181.182575  ...   \n",
       "2           200.670875  116.338709  334.848525  107.602455  125.919830  ...   \n",
       "3           147.961507  102.506695  356.909037   87.866900  114.071111  ...   \n",
       "4           139.709309  125.525039  362.966725   74.996162  142.519805  ...   \n",
       "\n",
       "Country  Antarctica  Timor-LESTE  Saint Helena  Mayotte  Martinique  \\\n",
       "0              0.00     4.675504           0.0      0.0         0.0   \n",
       "1              0.00     0.000000           0.0      0.0         0.0   \n",
       "2              0.00     0.000000           0.0      0.0         0.0   \n",
       "3              0.00     0.000000           0.0      0.0         0.0   \n",
       "4              0.85     0.000000           0.0      0.0         0.0   \n",
       "\n",
       "Country  Sint Maarten (Dutch part)  New Caledonia  Niue  \\\n",
       "0                              0.0            0.0   0.0   \n",
       "1                              0.0            0.0   0.0   \n",
       "2                              0.0            0.0   0.0   \n",
       "3                              0.0            0.0   0.0   \n",
       "4                              0.0            0.0   0.0   \n",
       "\n",
       "Country  Svalbard and Jan Mayen  Areas not elsewhere specified  \n",
       "0                           0.0                      11.343390  \n",
       "1                           0.0                      12.417903  \n",
       "2                           0.0                      14.791000  \n",
       "3                           0.0                       0.000000  \n",
       "4                           0.0                       0.038870  \n",
       "\n",
       "[5 rows x 250 columns]"
      ]
     },
     "execution_count": 72,
     "metadata": {},
     "output_type": "execute_result"
    }
   ],
   "source": [
    "df_Remissions_Outflow = df_Remissions.loc[:, idx[:,\"Outflow\"]]\n",
    "df_Remissions_Outflow = df_Remissions_Outflow.reset_index().droplevel(1, axis = 1)\n",
    "df_Remissions_Outflow.set_index(\"Country\", inplace= True)\n",
    "df_Remissions_Outflow = df_Remissions_Outflow.T.reset_index().rename(columns = {\"index\":\"Year\"})\n",
    "df_Remissions_Outflow.head()"
   ]
  },
  {
   "cell_type": "code",
   "execution_count": 73,
   "id": "0b2c3328",
   "metadata": {},
   "outputs": [],
   "source": [
    "df_Remissions_netflow = df_Remissions_Inflow.set_index(\"Year\").subtract(df_Remissions_Outflow.set_index(\"Year\")).reset_index()"
   ]
  },
  {
   "cell_type": "code",
   "execution_count": 74,
   "id": "e516926f",
   "metadata": {},
   "outputs": [
    {
     "data": {
      "text/html": [
       "<div>\n",
       "<style scoped>\n",
       "    .dataframe tbody tr th:only-of-type {\n",
       "        vertical-align: middle;\n",
       "    }\n",
       "\n",
       "    .dataframe tbody tr th {\n",
       "        vertical-align: top;\n",
       "    }\n",
       "\n",
       "    .dataframe thead th {\n",
       "        text-align: right;\n",
       "    }\n",
       "</style>\n",
       "<table border=\"1\" class=\"dataframe\">\n",
       "  <thead>\n",
       "    <tr style=\"text-align: right;\">\n",
       "      <th>Country</th>\n",
       "      <th>Total</th>\n",
       "      <th>Russian Federation</th>\n",
       "      <th>Italy</th>\n",
       "      <th>Greece</th>\n",
       "      <th>United States</th>\n",
       "      <th>Israel</th>\n",
       "      <th>Turkey</th>\n",
       "      <th>Spain</th>\n",
       "      <th>Germany</th>\n",
       "      <th>Ukraine</th>\n",
       "      <th>...</th>\n",
       "      <th>Antarctica</th>\n",
       "      <th>Timor-LESTE</th>\n",
       "      <th>Saint Helena</th>\n",
       "      <th>Mayotte</th>\n",
       "      <th>Martinique</th>\n",
       "      <th>Sint Maarten (Dutch part)</th>\n",
       "      <th>New Caledonia</th>\n",
       "      <th>Niue</th>\n",
       "      <th>Svalbard and Jan Mayen</th>\n",
       "      <th>Areas not elsewhere specified</th>\n",
       "    </tr>\n",
       "  </thead>\n",
       "  <tbody>\n",
       "    <tr>\n",
       "      <th>count</th>\n",
       "      <td>147.000000</td>\n",
       "      <td>147.000000</td>\n",
       "      <td>147.000000</td>\n",
       "      <td>147.000000</td>\n",
       "      <td>24.000000</td>\n",
       "      <td>147.000000</td>\n",
       "      <td>147.000000</td>\n",
       "      <td>147.000000</td>\n",
       "      <td>147.000000</td>\n",
       "      <td>147.000000</td>\n",
       "      <td>...</td>\n",
       "      <td>147.000000</td>\n",
       "      <td>24.000000</td>\n",
       "      <td>24.0</td>\n",
       "      <td>147.000000</td>\n",
       "      <td>147.000000</td>\n",
       "      <td>147.000000</td>\n",
       "      <td>147.000000</td>\n",
       "      <td>147.000000</td>\n",
       "      <td>147.000000</td>\n",
       "      <td>24.000000</td>\n",
       "    </tr>\n",
       "    <tr>\n",
       "      <th>mean</th>\n",
       "      <td>108581.637477</td>\n",
       "      <td>38450.541653</td>\n",
       "      <td>14083.737081</td>\n",
       "      <td>13040.958048</td>\n",
       "      <td>6113.566050</td>\n",
       "      <td>6577.059805</td>\n",
       "      <td>4407.993095</td>\n",
       "      <td>2806.840338</td>\n",
       "      <td>2984.207963</td>\n",
       "      <td>1994.602970</td>\n",
       "      <td>...</td>\n",
       "      <td>0.053088</td>\n",
       "      <td>1.249367</td>\n",
       "      <td>0.0</td>\n",
       "      <td>-0.003653</td>\n",
       "      <td>0.014795</td>\n",
       "      <td>0.120871</td>\n",
       "      <td>0.008014</td>\n",
       "      <td>0.010354</td>\n",
       "      <td>0.001177</td>\n",
       "      <td>9.225172</td>\n",
       "    </tr>\n",
       "    <tr>\n",
       "      <th>std</th>\n",
       "      <td>29990.700360</td>\n",
       "      <td>15258.228049</td>\n",
       "      <td>8147.351386</td>\n",
       "      <td>3935.679198</td>\n",
       "      <td>557.526500</td>\n",
       "      <td>5608.918236</td>\n",
       "      <td>2026.195484</td>\n",
       "      <td>868.266453</td>\n",
       "      <td>2593.453568</td>\n",
       "      <td>2184.695755</td>\n",
       "      <td>...</td>\n",
       "      <td>0.378659</td>\n",
       "      <td>5.815428</td>\n",
       "      <td>0.0</td>\n",
       "      <td>0.044291</td>\n",
       "      <td>0.174103</td>\n",
       "      <td>0.388431</td>\n",
       "      <td>0.152626</td>\n",
       "      <td>0.094267</td>\n",
       "      <td>0.014269</td>\n",
       "      <td>14.160000</td>\n",
       "    </tr>\n",
       "    <tr>\n",
       "      <th>min</th>\n",
       "      <td>54686.127000</td>\n",
       "      <td>9622.448000</td>\n",
       "      <td>5006.109048</td>\n",
       "      <td>843.725000</td>\n",
       "      <td>4684.109923</td>\n",
       "      <td>536.935725</td>\n",
       "      <td>779.060357</td>\n",
       "      <td>1501.948000</td>\n",
       "      <td>561.420444</td>\n",
       "      <td>-2307.488086</td>\n",
       "      <td>...</td>\n",
       "      <td>0.000000</td>\n",
       "      <td>0.000000</td>\n",
       "      <td>0.0</td>\n",
       "      <td>-0.537000</td>\n",
       "      <td>-1.190000</td>\n",
       "      <td>-1.314000</td>\n",
       "      <td>-1.000000</td>\n",
       "      <td>0.000000</td>\n",
       "      <td>0.000000</td>\n",
       "      <td>0.150000</td>\n",
       "    </tr>\n",
       "    <tr>\n",
       "      <th>25%</th>\n",
       "      <td>85206.239500</td>\n",
       "      <td>28077.451000</td>\n",
       "      <td>8712.800000</td>\n",
       "      <td>10840.997500</td>\n",
       "      <td>5827.659398</td>\n",
       "      <td>1345.845000</td>\n",
       "      <td>2660.719736</td>\n",
       "      <td>2133.844000</td>\n",
       "      <td>1192.807210</td>\n",
       "      <td>303.748500</td>\n",
       "      <td>...</td>\n",
       "      <td>0.000000</td>\n",
       "      <td>0.000000</td>\n",
       "      <td>0.0</td>\n",
       "      <td>0.000000</td>\n",
       "      <td>0.000000</td>\n",
       "      <td>0.000000</td>\n",
       "      <td>0.000000</td>\n",
       "      <td>0.000000</td>\n",
       "      <td>0.000000</td>\n",
       "      <td>2.261796</td>\n",
       "    </tr>\n",
       "    <tr>\n",
       "      <th>50%</th>\n",
       "      <td>105456.171000</td>\n",
       "      <td>32142.456000</td>\n",
       "      <td>10069.094000</td>\n",
       "      <td>12887.048000</td>\n",
       "      <td>6229.145680</td>\n",
       "      <td>3783.326000</td>\n",
       "      <td>4414.259000</td>\n",
       "      <td>2526.628000</td>\n",
       "      <td>2151.128000</td>\n",
       "      <td>1480.775000</td>\n",
       "      <td>...</td>\n",
       "      <td>0.000000</td>\n",
       "      <td>0.000000</td>\n",
       "      <td>0.0</td>\n",
       "      <td>0.000000</td>\n",
       "      <td>0.000000</td>\n",
       "      <td>0.000000</td>\n",
       "      <td>0.000000</td>\n",
       "      <td>0.000000</td>\n",
       "      <td>0.000000</td>\n",
       "      <td>3.812562</td>\n",
       "    </tr>\n",
       "    <tr>\n",
       "      <th>75%</th>\n",
       "      <td>119586.306000</td>\n",
       "      <td>50766.476711</td>\n",
       "      <td>17206.026000</td>\n",
       "      <td>15785.969000</td>\n",
       "      <td>6467.939563</td>\n",
       "      <td>12635.137000</td>\n",
       "      <td>5651.949500</td>\n",
       "      <td>3339.365000</td>\n",
       "      <td>3455.014500</td>\n",
       "      <td>2691.854329</td>\n",
       "      <td>...</td>\n",
       "      <td>0.000000</td>\n",
       "      <td>0.000000</td>\n",
       "      <td>0.0</td>\n",
       "      <td>0.000000</td>\n",
       "      <td>0.000000</td>\n",
       "      <td>0.000000</td>\n",
       "      <td>0.000000</td>\n",
       "      <td>0.000000</td>\n",
       "      <td>0.000000</td>\n",
       "      <td>7.223121</td>\n",
       "    </tr>\n",
       "    <tr>\n",
       "      <th>max</th>\n",
       "      <td>196163.589932</td>\n",
       "      <td>77212.683000</td>\n",
       "      <td>37276.561788</td>\n",
       "      <td>21442.584000</td>\n",
       "      <td>7133.772366</td>\n",
       "      <td>17146.378063</td>\n",
       "      <td>8876.776000</td>\n",
       "      <td>5114.014000</td>\n",
       "      <td>11006.950139</td>\n",
       "      <td>10794.390000</td>\n",
       "      <td>...</td>\n",
       "      <td>4.085060</td>\n",
       "      <td>28.534562</td>\n",
       "      <td>0.0</td>\n",
       "      <td>0.000000</td>\n",
       "      <td>1.500000</td>\n",
       "      <td>2.300000</td>\n",
       "      <td>1.228000</td>\n",
       "      <td>1.098000</td>\n",
       "      <td>0.173000</td>\n",
       "      <td>63.059590</td>\n",
       "    </tr>\n",
       "  </tbody>\n",
       "</table>\n",
       "<p>8 rows × 249 columns</p>\n",
       "</div>"
      ],
      "text/plain": [
       "Country          Total  Russian Federation         Italy        Greece  \\\n",
       "count       147.000000          147.000000    147.000000    147.000000   \n",
       "mean     108581.637477        38450.541653  14083.737081  13040.958048   \n",
       "std       29990.700360        15258.228049   8147.351386   3935.679198   \n",
       "min       54686.127000         9622.448000   5006.109048    843.725000   \n",
       "25%       85206.239500        28077.451000   8712.800000  10840.997500   \n",
       "50%      105456.171000        32142.456000  10069.094000  12887.048000   \n",
       "75%      119586.306000        50766.476711  17206.026000  15785.969000   \n",
       "max      196163.589932        77212.683000  37276.561788  21442.584000   \n",
       "\n",
       "Country  United States        Israel       Turkey        Spain       Germany  \\\n",
       "count        24.000000    147.000000   147.000000   147.000000    147.000000   \n",
       "mean       6113.566050   6577.059805  4407.993095  2806.840338   2984.207963   \n",
       "std         557.526500   5608.918236  2026.195484   868.266453   2593.453568   \n",
       "min        4684.109923    536.935725   779.060357  1501.948000    561.420444   \n",
       "25%        5827.659398   1345.845000  2660.719736  2133.844000   1192.807210   \n",
       "50%        6229.145680   3783.326000  4414.259000  2526.628000   2151.128000   \n",
       "75%        6467.939563  12635.137000  5651.949500  3339.365000   3455.014500   \n",
       "max        7133.772366  17146.378063  8876.776000  5114.014000  11006.950139   \n",
       "\n",
       "Country       Ukraine  ...  Antarctica  Timor-LESTE  Saint Helena     Mayotte  \\\n",
       "count      147.000000  ...  147.000000    24.000000          24.0  147.000000   \n",
       "mean      1994.602970  ...    0.053088     1.249367           0.0   -0.003653   \n",
       "std       2184.695755  ...    0.378659     5.815428           0.0    0.044291   \n",
       "min      -2307.488086  ...    0.000000     0.000000           0.0   -0.537000   \n",
       "25%        303.748500  ...    0.000000     0.000000           0.0    0.000000   \n",
       "50%       1480.775000  ...    0.000000     0.000000           0.0    0.000000   \n",
       "75%       2691.854329  ...    0.000000     0.000000           0.0    0.000000   \n",
       "max      10794.390000  ...    4.085060    28.534562           0.0    0.000000   \n",
       "\n",
       "Country  Martinique  Sint Maarten (Dutch part)  New Caledonia        Niue  \\\n",
       "count    147.000000                 147.000000     147.000000  147.000000   \n",
       "mean       0.014795                   0.120871       0.008014    0.010354   \n",
       "std        0.174103                   0.388431       0.152626    0.094267   \n",
       "min       -1.190000                  -1.314000      -1.000000    0.000000   \n",
       "25%        0.000000                   0.000000       0.000000    0.000000   \n",
       "50%        0.000000                   0.000000       0.000000    0.000000   \n",
       "75%        0.000000                   0.000000       0.000000    0.000000   \n",
       "max        1.500000                   2.300000       1.228000    1.098000   \n",
       "\n",
       "Country  Svalbard and Jan Mayen  Areas not elsewhere specified  \n",
       "count                147.000000                      24.000000  \n",
       "mean                   0.001177                       9.225172  \n",
       "std                    0.014269                      14.160000  \n",
       "min                    0.000000                       0.150000  \n",
       "25%                    0.000000                       2.261796  \n",
       "50%                    0.000000                       3.812562  \n",
       "75%                    0.000000                       7.223121  \n",
       "max                    0.173000                      63.059590  \n",
       "\n",
       "[8 rows x 249 columns]"
      ]
     },
     "execution_count": 74,
     "metadata": {},
     "output_type": "execute_result"
    }
   ],
   "source": [
    "df_Remissions_netflow.describe()"
   ]
  },
  {
   "cell_type": "code",
   "execution_count": 75,
   "id": "deacd732",
   "metadata": {},
   "outputs": [
    {
     "data": {
      "application/vnd.plotly.v1+json": {
       "config": {
        "plotlyServerURL": "https://plot.ly"
       },
       "data": [
        {
         "hovertemplate": "variable=Total<br>Year=%{x}<br>value=%{y}<extra></extra>",
         "legendgroup": "Total",
         "line": {
          "color": "#636efa",
          "dash": "solid"
         },
         "marker": {
          "symbol": "circle"
         },
         "mode": "lines",
         "name": "Total",
         "showlegend": true,
         "type": "scattergl",
         "x": [
          "2010_1",
          "2010_2",
          "2010_3",
          "2010_4",
          "2010_5",
          "2010_6",
          "2010_7",
          "2010_8",
          "2010_9",
          "2010_10",
          "2010_11",
          "2010_12",
          "2011_1",
          "2011_2",
          "2011_3",
          "2011_4",
          "2011_5",
          "2011_6",
          "2011_7",
          "2011_8",
          "2011_9",
          "2011_10",
          "2011_11",
          "2011_12",
          "2012_1",
          "2012_2",
          "2012_3",
          "2012_4",
          "2012_5",
          "2012_6",
          "2012_7",
          "2012_8",
          "2012_9",
          "2012_10",
          "2012_11",
          "2012_12",
          "2013_1",
          "2013_2",
          "2013_3",
          "2013_4",
          "2013_5",
          "2013_6",
          "2013_7",
          "2013_8",
          "2013_9",
          "2013_10",
          "2013_11",
          "2013_12",
          "2014_1",
          "2014_2",
          "2014_3",
          "2014_4",
          "2014_5",
          "2014_6",
          "2014_7",
          "2014_8",
          "2014_9",
          "2014_10",
          "2014_11",
          "2014_12",
          "2015_1",
          "2015_2",
          "2015_3",
          "2015_4",
          "2015_5",
          "2015_6",
          "2015_7",
          "2015_8",
          "2015_9",
          "2015_10",
          "2015_11",
          "2015_12",
          "2016_1",
          "2016_2",
          "2016_3",
          "2016_4",
          "2016_5",
          "2016_6",
          "2016_7",
          "2016_8",
          "2016_9",
          "2016_10",
          "2016_11",
          "2016_12",
          "2017_1",
          "2017_2",
          "2017_3",
          "2017_4",
          "2017_5",
          "2017_6",
          "2017_7",
          "2017_8",
          "2017_9",
          "2017_10",
          "2017_11",
          "2017_12",
          "2018_1",
          "2018_2",
          "2018_3",
          "2018_4",
          "2018_5",
          "2018_6",
          "2018_7",
          "2018_8",
          "2018_9",
          "2018_10",
          "2018_11",
          "2018_12",
          "2019_1",
          "2019_2",
          "2019_3",
          "2019_4",
          "2019_5",
          "2019_6",
          "2019_7",
          "2019_8",
          "2019_9",
          "2019_10",
          "2019_11",
          "2019_12",
          "2020_1",
          "2020_2",
          "2020_3",
          "2020_4",
          "2020_5",
          "2020_6",
          "2020_7",
          "2020_8",
          "2020_9",
          "2020_10",
          "2020_11",
          "2020_12",
          "2021_1",
          "2021_2",
          "2021_3",
          "2021_4",
          "2021_5",
          "2021_6",
          "2021_7",
          "2021_8",
          "2021_9",
          "2021_10",
          "2021_11",
          "2021_12",
          "2022_1",
          "2022_2",
          "2022_3"
         ],
         "xaxis": "x",
         "y": [
          59651.76747237345,
          65032.07685398507,
          85357.12865600537,
          77550.28524174746,
          76643.2706359115,
          79022.39308689213,
          80116.97954527581,
          80922.19931218236,
          82424.28568570773,
          84429.90341223944,
          81186.76010881976,
          96544.8231149268,
          65191.97128207285,
          72851.89632688001,
          95552.6354469778,
          98626.36770197815,
          101925.8853973303,
          105867.08979219128,
          104844.78602431949,
          105899.98544608499,
          105832.61629070851,
          99802.88284913426,
          95782.43432890081,
          115693.34996407865,
          77544.55000000003,
          88504.7750000001,
          99684.555,
          104277.14399999997,
          107674.68600000002,
          99033.085,
          109074.05299999999,
          107011.594,
          106054.77100000002,
          104572.49299999994,
          100480.95700000007,
          122305.81300000008,
          84686.16200000005,
          92822.99299999996,
          101458.26100000001,
          108631.96900000001,
          102568.18100000004,
          109436.09800000001,
          122671.48200000002,
          115495.62000000008,
          117547.42400000009,
          117611.59800000003,
          109711.78699999992,
          139201.60000000015,
          86358.18699999998,
          92056.1040000001,
          106392.41900000001,
          107031.714,
          111984.69799999996,
          112672.35599999999,
          121756.23000000016,
          115558.03499999996,
          117230.51100000009,
          106887.4330000001,
          88546.40800000002,
          95571.89400000006,
          62908.9589999999,
          67383.03200000006,
          76917.43299999996,
          76570.97899999999,
          84424.27800000002,
          86099.21000000005,
          78641.131,
          71948.75899999996,
          74780.37600000009,
          74824.953,
          70462.59600000002,
          84159.79699999993,
          54686.12700000002,
          64170.41900000002,
          74138.73300000005,
          78446.91000000006,
          77108.1630000001,
          84263.28700000001,
          84977.53300000001,
          88483.58300000003,
          85308.6379999999,
          85103.84099999999,
          81234.61499999998,
          101330.69200000001,
          72149.30899999992,
          80136.87100000001,
          95829.54800000004,
          90775.05,
          97705.98000000001,
          100219.167,
          105430.56600000002,
          102458.26099999994,
          105863.00500000008,
          104756.134,
          102713.108,
          119323.38300000005,
          95079.65999999997,
          95854.1569999999,
          111468.27800000006,
          106028.0839999999,
          110734.37600000002,
          117254.20700000002,
          125453.86799999996,
          116827.31299999997,
          112236.10199999993,
          116177.71899999994,
          113592.11499999989,
          129213.28800000009,
          100186.86299999998,
          107730.19899999994,
          119849.22900000018,
          117986.68799999997,
          125330.4469999999,
          126166.67200000004,
          135288.07300000003,
          127390.59900000005,
          129300.07000000021,
          130751.50299999994,
          129162.49399999998,
          146750.20999999996,
          107170.40400000001,
          115613.98800000011,
          105456.17099999999,
          69078.67199999993,
          118277.60500000004,
          147334.283,
          166488.13899999985,
          161089.83100000003,
          167666.45500000005,
          157859.05599999992,
          148067.3680000001,
          175015.74799999988,
          132523.25599999988,
          140414.09100000004,
          163289.90800000008,
          168294.72200000015,
          164857.32299999995,
          175433.7799999999,
          181761.8539999999,
          177458.4770000001,
          180538.421,
          176391.99916552193,
          175571.7822134872,
          196163.58993222986,
          145519.78759850908,
          156674.4653716041,
          169081.4788591529
         ],
         "yaxis": "y"
        },
        {
         "hovertemplate": "variable=Russian Federation<br>Year=%{x}<br>value=%{y}<extra></extra>",
         "legendgroup": "Russian Federation",
         "line": {
          "color": "#EF553B",
          "dash": "solid"
         },
         "marker": {
          "symbol": "circle"
         },
         "mode": "lines",
         "name": "Russian Federation",
         "showlegend": true,
         "type": "scattergl",
         "x": [
          "2010_1",
          "2010_2",
          "2010_3",
          "2010_4",
          "2010_5",
          "2010_6",
          "2010_7",
          "2010_8",
          "2010_9",
          "2010_10",
          "2010_11",
          "2010_12",
          "2011_1",
          "2011_2",
          "2011_3",
          "2011_4",
          "2011_5",
          "2011_6",
          "2011_7",
          "2011_8",
          "2011_9",
          "2011_10",
          "2011_11",
          "2011_12",
          "2012_1",
          "2012_2",
          "2012_3",
          "2012_4",
          "2012_5",
          "2012_6",
          "2012_7",
          "2012_8",
          "2012_9",
          "2012_10",
          "2012_11",
          "2012_12",
          "2013_1",
          "2013_2",
          "2013_3",
          "2013_4",
          "2013_5",
          "2013_6",
          "2013_7",
          "2013_8",
          "2013_9",
          "2013_10",
          "2013_11",
          "2013_12",
          "2014_1",
          "2014_2",
          "2014_3",
          "2014_4",
          "2014_5",
          "2014_6",
          "2014_7",
          "2014_8",
          "2014_9",
          "2014_10",
          "2014_11",
          "2014_12",
          "2015_1",
          "2015_2",
          "2015_3",
          "2015_4",
          "2015_5",
          "2015_6",
          "2015_7",
          "2015_8",
          "2015_9",
          "2015_10",
          "2015_11",
          "2015_12",
          "2016_1",
          "2016_2",
          "2016_3",
          "2016_4",
          "2016_5",
          "2016_6",
          "2016_7",
          "2016_8",
          "2016_9",
          "2016_10",
          "2016_11",
          "2016_12",
          "2017_1",
          "2017_2",
          "2017_3",
          "2017_4",
          "2017_5",
          "2017_6",
          "2017_7",
          "2017_8",
          "2017_9",
          "2017_10",
          "2017_11",
          "2017_12",
          "2018_1",
          "2018_2",
          "2018_3",
          "2018_4",
          "2018_5",
          "2018_6",
          "2018_7",
          "2018_8",
          "2018_9",
          "2018_10",
          "2018_11",
          "2018_12",
          "2019_1",
          "2019_2",
          "2019_3",
          "2019_4",
          "2019_5",
          "2019_6",
          "2019_7",
          "2019_8",
          "2019_9",
          "2019_10",
          "2019_11",
          "2019_12",
          "2020_1",
          "2020_2",
          "2020_3",
          "2020_4",
          "2020_5",
          "2020_6",
          "2020_7",
          "2020_8",
          "2020_9",
          "2020_10",
          "2020_11",
          "2020_12",
          "2021_1",
          "2021_2",
          "2021_3",
          "2021_4",
          "2021_5",
          "2021_6",
          "2021_7",
          "2021_8",
          "2021_9",
          "2021_10",
          "2021_11",
          "2021_12",
          "2022_1",
          "2022_2",
          "2022_3"
         ],
         "xaxis": "x",
         "y": [
          29055.93710773383,
          32204.381674351444,
          44613.37542851025,
          41047.50153903767,
          38785.240638595504,
          43371.41795399707,
          47775.15349160884,
          48936.60981177131,
          48783.75945503559,
          49094.3930031693,
          45652.797718501766,
          54003.549285901616,
          34591.31894449434,
          39252.0280860971,
          49451.78179030376,
          49293.327285752566,
          49460.760957624254,
          53487.5271741306,
          58702.19560163315,
          60831.451803047894,
          58558.84887386797,
          54045.04862891732,
          52072.19246536061,
          63006.1880220453,
          39512.833,
          48839.943999999996,
          56163.3,
          60879.386,
          62425.672,
          56438.755,
          65435.91100000001,
          66659.954,
          62988.663,
          62125.64599999999,
          59968.44300000001,
          70574.867,
          45743.797,
          52689.316000000006,
          56839.297999999995,
          61742.846,
          57007.852,
          61747.115,
          72023.426,
          68204.887,
          67715.059,
          68129.52399999999,
          61153.73700000001,
          77212.68299999999,
          42656.949,
          45797.475999999995,
          54197.147000000004,
          56555.581000000006,
          58637.023,
          58962.371,
          66659.009,
          61715.4,
          60196.437000000005,
          54585.649999999994,
          39003.903999999995,
          37429.113000000005,
          20772.327999999998,
          21410.344,
          27063.616,
          30063.380000000005,
          32026.818,
          35162.899,
          37987.007,
          31830.586999999996,
          30467.965000000004,
          28925.163,
          27066.195000000003,
          32211.813,
          14216.295999999998,
          17309.281,
          22094.693,
          24056.027,
          23923.471999999998,
          28268.595999999998,
          30814.496,
          29530.507999999998,
          28337.796000000002,
          27084.016999999996,
          28128.733,
          33512.829,
          21184.598,
          23663.574999999997,
          31070.824,
          28591.660999999996,
          30056.025999999998,
          31959.222,
          35284.532,
          31664.522000000004,
          32901.3,
          32142.456,
          31044.407,
          36252.195,
          25507.464,
          25835.278,
          29340.726000000002,
          27469.893999999997,
          28878.537999999997,
          32020.038,
          35519.556,
          34076.094,
          30434.732000000004,
          31524.98,
          30654.172000000002,
          35546.96799999999,
          22291.947,
          25293.038999999997,
          29321.329000000005,
          27842.716,
          28197.341999999997,
          28590.602000000003,
          32740.112999999998,
          28916.088,
          29752.979,
          30707.522,
          31076.235,
          35592.187999999995,
          20447.409,
          21684.074999999997,
          17686.544,
          9622.448,
          15045.274000000001,
          26162.164,
          33705.195,
          27768.507,
          28026.169,
          27846.392000000003,
          25011.733,
          32017.242000000006,
          17926.569,
          18752.164,
          24694.357,
          24965.978,
          24524.229,
          31503.374,
          32555.756,
          30125.01,
          30794.346000000005,
          28365.671410275,
          26126.642400074,
          30570.92996606,
          16458.043273887,
          15651.299906450005,
          24285.623287264996
         ],
         "yaxis": "y"
        },
        {
         "hovertemplate": "variable=Germany<br>Year=%{x}<br>value=%{y}<extra></extra>",
         "legendgroup": "Germany",
         "line": {
          "color": "#00cc96",
          "dash": "solid"
         },
         "marker": {
          "symbol": "circle"
         },
         "mode": "lines",
         "name": "Germany",
         "showlegend": true,
         "type": "scattergl",
         "x": [
          "2010_1",
          "2010_2",
          "2010_3",
          "2010_4",
          "2010_5",
          "2010_6",
          "2010_7",
          "2010_8",
          "2010_9",
          "2010_10",
          "2010_11",
          "2010_12",
          "2011_1",
          "2011_2",
          "2011_3",
          "2011_4",
          "2011_5",
          "2011_6",
          "2011_7",
          "2011_8",
          "2011_9",
          "2011_10",
          "2011_11",
          "2011_12",
          "2012_1",
          "2012_2",
          "2012_3",
          "2012_4",
          "2012_5",
          "2012_6",
          "2012_7",
          "2012_8",
          "2012_9",
          "2012_10",
          "2012_11",
          "2012_12",
          "2013_1",
          "2013_2",
          "2013_3",
          "2013_4",
          "2013_5",
          "2013_6",
          "2013_7",
          "2013_8",
          "2013_9",
          "2013_10",
          "2013_11",
          "2013_12",
          "2014_1",
          "2014_2",
          "2014_3",
          "2014_4",
          "2014_5",
          "2014_6",
          "2014_7",
          "2014_8",
          "2014_9",
          "2014_10",
          "2014_11",
          "2014_12",
          "2015_1",
          "2015_2",
          "2015_3",
          "2015_4",
          "2015_5",
          "2015_6",
          "2015_7",
          "2015_8",
          "2015_9",
          "2015_10",
          "2015_11",
          "2015_12",
          "2016_1",
          "2016_2",
          "2016_3",
          "2016_4",
          "2016_5",
          "2016_6",
          "2016_7",
          "2016_8",
          "2016_9",
          "2016_10",
          "2016_11",
          "2016_12",
          "2017_1",
          "2017_2",
          "2017_3",
          "2017_4",
          "2017_5",
          "2017_6",
          "2017_7",
          "2017_8",
          "2017_9",
          "2017_10",
          "2017_11",
          "2017_12",
          "2018_1",
          "2018_2",
          "2018_3",
          "2018_4",
          "2018_5",
          "2018_6",
          "2018_7",
          "2018_8",
          "2018_9",
          "2018_10",
          "2018_11",
          "2018_12",
          "2019_1",
          "2019_2",
          "2019_3",
          "2019_4",
          "2019_5",
          "2019_6",
          "2019_7",
          "2019_8",
          "2019_9",
          "2019_10",
          "2019_11",
          "2019_12",
          "2020_1",
          "2020_2",
          "2020_3",
          "2020_4",
          "2020_5",
          "2020_6",
          "2020_7",
          "2020_8",
          "2020_9",
          "2020_10",
          "2020_11",
          "2020_12",
          "2021_1",
          "2021_2",
          "2021_3",
          "2021_4",
          "2021_5",
          "2021_6",
          "2021_7",
          "2021_8",
          "2021_9",
          "2021_10",
          "2021_11",
          "2021_12",
          "2022_1",
          "2022_2",
          "2022_3"
         ],
         "xaxis": "x",
         "y": [
          561.4204444565144,
          571.6159388176168,
          842.9540809785897,
          821.3192032582778,
          1101.722238265725,
          1250.2600533091083,
          1197.4024208755507,
          1231.8979034947079,
          1276.963785704138,
          1362.152504543089,
          1242.533783390968,
          1435.6772068357627,
          930.459725980774,
          1070.9463458052533,
          865.0399000847236,
          835.9363769610168,
          863.9832769287789,
          968.5257946359278,
          881.9618792987956,
          718.1385890336778,
          771.8325455733933,
          825.3556212714967,
          778.9500498640452,
          974.8143715798955,
          565.107,
          863.656,
          840.7920000000001,
          817.722,
          973.7629999999999,
          883.8019999999999,
          778.4169999999999,
          779.4399999999999,
          816.196,
          810.629,
          904.029,
          1163.807,
          881.4069999999999,
          1043.551,
          1095.182,
          1234.801,
          1161.452,
          1114.5040000000001,
          1141.205,
          1115.796,
          1188.212,
          1319.1979999999999,
          1272.564,
          1647.2340000000002,
          1235.107,
          1408.372,
          1621.931,
          1598.195,
          1679.885,
          1745.608,
          1691.617,
          1729.274,
          1810.607,
          1843.7399999999998,
          1746.3809999999999,
          2288.273,
          1566.7340000000002,
          1693.435,
          1742.7359999999999,
          1634.676,
          1952.3310000000001,
          1875.748,
          1931.025,
          1908.322,
          2210.5640000000003,
          2249.978,
          1992.1140000000003,
          2509.3199999999997,
          1801.618,
          2168.017,
          2297.353,
          2396.4669999999996,
          2086.9320000000002,
          2347.44,
          2079.598,
          1991.123,
          2213.591,
          2242.54,
          2193.4790000000003,
          2601.107,
          2041.5529999999999,
          2151.1279999999997,
          2310.152,
          2276.185,
          2433.395,
          2423.743,
          2462.05,
          2509.837,
          2806.955,
          2823.816,
          2823.022,
          3262.063,
          2398.4489999999996,
          2686.1059999999998,
          3182.495,
          3077.8469999999998,
          3109.413,
          3290.649,
          3118.52,
          2929.2290000000003,
          3071.6949999999997,
          3419.6189999999997,
          3310.192,
          3749.376,
          2726.293,
          3279.031,
          3580.6589999999997,
          3448.594,
          3983.937,
          3757.918,
          4042.782,
          3896.9390000000003,
          3976.5190000000002,
          4075.0409999999997,
          4201.8240000000005,
          4820.327,
          3461.435,
          4284.809,
          4588.704,
          3587.224,
          5132.648,
          6298.841,
          6513.005999999999,
          6421.164,
          7028.412,
          7402.536999999999,
          7073.187,
          7926.958,
          5700.253000000001,
          6657.558,
          8021.883999999999,
          8339.565,
          8699.705,
          9229.999,
          9489.34,
          9563.679,
          10388.654999999999,
          10349.50058741,
          10355.221725725001,
          11006.950138803999,
          8347.165512861999,
          10812.208435952998,
          10661.040121526003
         ],
         "yaxis": "y"
        },
        {
         "hovertemplate": "variable=France<br>Year=%{x}<br>value=%{y}<extra></extra>",
         "legendgroup": "France",
         "line": {
          "color": "#ab63fa",
          "dash": "solid"
         },
         "marker": {
          "symbol": "circle"
         },
         "mode": "lines",
         "name": "France",
         "showlegend": true,
         "type": "scattergl",
         "x": [
          "2010_1",
          "2010_2",
          "2010_3",
          "2010_4",
          "2010_5",
          "2010_6",
          "2010_7",
          "2010_8",
          "2010_9",
          "2010_10",
          "2010_11",
          "2010_12",
          "2011_1",
          "2011_2",
          "2011_3",
          "2011_4",
          "2011_5",
          "2011_6",
          "2011_7",
          "2011_8",
          "2011_9",
          "2011_10",
          "2011_11",
          "2011_12",
          "2012_1",
          "2012_2",
          "2012_3",
          "2012_4",
          "2012_5",
          "2012_6",
          "2012_7",
          "2012_8",
          "2012_9",
          "2012_10",
          "2012_11",
          "2012_12",
          "2013_1",
          "2013_2",
          "2013_3",
          "2013_4",
          "2013_5",
          "2013_6",
          "2013_7",
          "2013_8",
          "2013_9",
          "2013_10",
          "2013_11",
          "2013_12",
          "2014_1",
          "2014_2",
          "2014_3",
          "2014_4",
          "2014_5",
          "2014_6",
          "2014_7",
          "2014_8",
          "2014_9",
          "2014_10",
          "2014_11",
          "2014_12",
          "2015_1",
          "2015_2",
          "2015_3",
          "2015_4",
          "2015_5",
          "2015_6",
          "2015_7",
          "2015_8",
          "2015_9",
          "2015_10",
          "2015_11",
          "2015_12",
          "2016_1",
          "2016_2",
          "2016_3",
          "2016_4",
          "2016_5",
          "2016_6",
          "2016_7",
          "2016_8",
          "2016_9",
          "2016_10",
          "2016_11",
          "2016_12",
          "2017_1",
          "2017_2",
          "2017_3",
          "2017_4",
          "2017_5",
          "2017_6",
          "2017_7",
          "2017_8",
          "2017_9",
          "2017_10",
          "2017_11",
          "2017_12",
          "2018_1",
          "2018_2",
          "2018_3",
          "2018_4",
          "2018_5",
          "2018_6",
          "2018_7",
          "2018_8",
          "2018_9",
          "2018_10",
          "2018_11",
          "2018_12",
          "2019_1",
          "2019_2",
          "2019_3",
          "2019_4",
          "2019_5",
          "2019_6",
          "2019_7",
          "2019_8",
          "2019_9",
          "2019_10",
          "2019_11",
          "2019_12",
          "2020_1",
          "2020_2",
          "2020_3",
          "2020_4",
          "2020_5",
          "2020_6",
          "2020_7",
          "2020_8",
          "2020_9",
          "2020_10",
          "2020_11",
          "2020_12",
          "2021_1",
          "2021_2",
          "2021_3",
          "2021_4",
          "2021_5",
          "2021_6",
          "2021_7",
          "2021_8",
          "2021_9",
          "2021_10",
          "2021_11",
          "2021_12",
          "2022_1",
          "2022_2",
          "2022_3"
         ],
         "xaxis": "x",
         "y": [
          286.179866011633,
          253.66722176543252,
          377.7692011290246,
          327.71962154775736,
          232.25955062606835,
          256.75511756593863,
          200.2034455778306,
          296.49998058036505,
          325.6794105093199,
          391.21956817371483,
          435.0767572827708,
          436.48354246357303,
          347.6266409917355,
          408.2455144340314,
          594.1001896781228,
          533.7738720539999,
          594.126313159767,
          655.1105673,
          610.4092443416221,
          678.219741825178,
          762.5082788042746,
          744.4475162389584,
          577.2191822712658,
          818.3087974500629,
          452.24600000000004,
          599.25,
          672.042,
          618.046,
          659.734,
          703.297,
          630.164,
          708.54,
          787.4739999999999,
          736.895,
          678.183,
          780.951,
          693.64,
          667.917,
          703.357,
          764.984,
          653.047,
          668.948,
          897.6120000000001,
          790.8299999999999,
          791.56,
          764.029,
          683.101,
          784.768,
          561.4549999999999,
          719.639,
          754.3220000000001,
          766.108,
          836.653,
          721.8779999999999,
          782.39,
          821.354,
          804.977,
          759.7550000000001,
          740.273,
          788.308,
          605.929,
          658.49,
          726.604,
          731.101,
          774.3240000000001,
          751.294,
          724.602,
          718.8330000000001,
          781.678,
          882.033,
          692.349,
          802.528,
          641.217,
          795.961,
          845.169,
          897.0889999999999,
          708.228,
          816.689,
          861.4,
          1044.194,
          837.8919999999999,
          870.8520000000001,
          667.4019999999999,
          1033.5459999999998,
          718.7040000000001,
          845.043,
          1041.181,
          965.9839999999999,
          982.9490000000001,
          1003.115,
          852.5260000000001,
          975.587,
          1065.196,
          1248.448,
          1355.732,
          1334.5710000000001,
          1047.399,
          1214.826,
          1292.096,
          1230.824,
          1265.346,
          1442.26,
          1439.297,
          1499.398,
          1536.312,
          1497.2240000000002,
          1443.622,
          1643.6970000000001,
          1433.969,
          1625.498,
          1804.5570000000002,
          1849.28,
          2106.011,
          2163.059,
          2194.299,
          2285.996,
          2036.6510000000003,
          2031.1820000000002,
          1678.569,
          1938.935,
          1514.156,
          1725.6870000000001,
          1461.32,
          928.079,
          1714.768,
          2181.118,
          2501.483,
          2540.18,
          2714.463,
          2730.352,
          2230.94,
          2866.066,
          2129.687,
          2396.737,
          2619.676,
          2730.646,
          2745.868,
          2846.215,
          2936.8050000000003,
          3164.067,
          3040.594,
          2941.562468256,
          2900.560374533,
          2987.2871147739997,
          2434.2201193319997,
          3430.833225483,
          3236.033483714
         ],
         "yaxis": "y"
        },
        {
         "hovertemplate": "variable=United Kingdom<br>Year=%{x}<br>value=%{y}<extra></extra>",
         "legendgroup": "United Kingdom",
         "line": {
          "color": "#FFA15A",
          "dash": "solid"
         },
         "marker": {
          "symbol": "circle"
         },
         "mode": "lines",
         "name": "United Kingdom",
         "showlegend": true,
         "type": "scattergl",
         "x": [
          "2010_1",
          "2010_2",
          "2010_3",
          "2010_4",
          "2010_5",
          "2010_6",
          "2010_7",
          "2010_8",
          "2010_9",
          "2010_10",
          "2010_11",
          "2010_12",
          "2011_1",
          "2011_2",
          "2011_3",
          "2011_4",
          "2011_5",
          "2011_6",
          "2011_7",
          "2011_8",
          "2011_9",
          "2011_10",
          "2011_11",
          "2011_12",
          "2012_1",
          "2012_2",
          "2012_3",
          "2012_4",
          "2012_5",
          "2012_6",
          "2012_7",
          "2012_8",
          "2012_9",
          "2012_10",
          "2012_11",
          "2012_12",
          "2013_1",
          "2013_2",
          "2013_3",
          "2013_4",
          "2013_5",
          "2013_6",
          "2013_7",
          "2013_8",
          "2013_9",
          "2013_10",
          "2013_11",
          "2013_12",
          "2014_1",
          "2014_2",
          "2014_3",
          "2014_4",
          "2014_5",
          "2014_6",
          "2014_7",
          "2014_8",
          "2014_9",
          "2014_10",
          "2014_11",
          "2014_12",
          "2015_1",
          "2015_2",
          "2015_3",
          "2015_4",
          "2015_5",
          "2015_6",
          "2015_7",
          "2015_8",
          "2015_9",
          "2015_10",
          "2015_11",
          "2015_12",
          "2016_1",
          "2016_2",
          "2016_3",
          "2016_4",
          "2016_5",
          "2016_6",
          "2016_7",
          "2016_8",
          "2016_9",
          "2016_10",
          "2016_11",
          "2016_12",
          "2017_1",
          "2017_2",
          "2017_3",
          "2017_4",
          "2017_5",
          "2017_6",
          "2017_7",
          "2017_8",
          "2017_9",
          "2017_10",
          "2017_11",
          "2017_12",
          "2018_1",
          "2018_2",
          "2018_3",
          "2018_4",
          "2018_5",
          "2018_6",
          "2018_7",
          "2018_8",
          "2018_9",
          "2018_10",
          "2018_11",
          "2018_12",
          "2019_1",
          "2019_2",
          "2019_3",
          "2019_4",
          "2019_5",
          "2019_6",
          "2019_7",
          "2019_8",
          "2019_9",
          "2019_10",
          "2019_11",
          "2019_12",
          "2020_1",
          "2020_2",
          "2020_3",
          "2020_4",
          "2020_5",
          "2020_6",
          "2020_7",
          "2020_8",
          "2020_9",
          "2020_10",
          "2020_11",
          "2020_12",
          "2021_1",
          "2021_2",
          "2021_3",
          "2021_4",
          "2021_5",
          "2021_6",
          "2021_7",
          "2021_8",
          "2021_9",
          "2021_10",
          "2021_11",
          "2021_12",
          "2022_1",
          "2022_2",
          "2022_3"
         ],
         "xaxis": "x",
         "y": [
          795.3454590662119,
          910.7830978375811,
          1099.2614211248338,
          731.7413854548736,
          932.0477913621247,
          1225.7488667285895,
          1025.4003139852289,
          1198.3988120072818,
          822.7008946555147,
          1048.1901676559232,
          1132.2340605678737,
          1084.0840480649465,
          856.2808507590809,
          910.9435359046752,
          1409.1435820952681,
          1516.9552127646323,
          1284.1563229975986,
          1207.0180019560569,
          847.0562168435085,
          1124.217261974294,
          1095.3849478797952,
          978.8395928668281,
          876.1159335728435,
          1164.9366251357271,
          null,
          null,
          null,
          null,
          null,
          null,
          null,
          null,
          null,
          null,
          null,
          null,
          null,
          null,
          null,
          null,
          null,
          null,
          null,
          null,
          null,
          null,
          null,
          null,
          null,
          null,
          null,
          null,
          null,
          null,
          null,
          null,
          null,
          null,
          null,
          null,
          null,
          null,
          null,
          null,
          null,
          null,
          null,
          null,
          null,
          null,
          null,
          null,
          null,
          null,
          null,
          null,
          null,
          null,
          null,
          null,
          null,
          null,
          null,
          null,
          null,
          null,
          null,
          null,
          null,
          null,
          null,
          null,
          null,
          null,
          null,
          null,
          null,
          null,
          null,
          null,
          null,
          null,
          null,
          null,
          null,
          null,
          null,
          null,
          null,
          null,
          null,
          null,
          null,
          null,
          null,
          null,
          null,
          null,
          null,
          null,
          null,
          null,
          null,
          null,
          null,
          null,
          null,
          null,
          null,
          null,
          null,
          null,
          null,
          null,
          null,
          null,
          null,
          null,
          null,
          null,
          null,
          null,
          null,
          null,
          null,
          null,
          null
         ],
         "yaxis": "y"
        },
        {
         "hovertemplate": "variable=United States<br>Year=%{x}<br>value=%{y}<extra></extra>",
         "legendgroup": "United States",
         "line": {
          "color": "#19d3f3",
          "dash": "solid"
         },
         "marker": {
          "symbol": "circle"
         },
         "mode": "lines",
         "name": "United States",
         "showlegend": true,
         "type": "scattergl",
         "x": [
          "2010_1",
          "2010_2",
          "2010_3",
          "2010_4",
          "2010_5",
          "2010_6",
          "2010_7",
          "2010_8",
          "2010_9",
          "2010_10",
          "2010_11",
          "2010_12",
          "2011_1",
          "2011_2",
          "2011_3",
          "2011_4",
          "2011_5",
          "2011_6",
          "2011_7",
          "2011_8",
          "2011_9",
          "2011_10",
          "2011_11",
          "2011_12",
          "2012_1",
          "2012_2",
          "2012_3",
          "2012_4",
          "2012_5",
          "2012_6",
          "2012_7",
          "2012_8",
          "2012_9",
          "2012_10",
          "2012_11",
          "2012_12",
          "2013_1",
          "2013_2",
          "2013_3",
          "2013_4",
          "2013_5",
          "2013_6",
          "2013_7",
          "2013_8",
          "2013_9",
          "2013_10",
          "2013_11",
          "2013_12",
          "2014_1",
          "2014_2",
          "2014_3",
          "2014_4",
          "2014_5",
          "2014_6",
          "2014_7",
          "2014_8",
          "2014_9",
          "2014_10",
          "2014_11",
          "2014_12",
          "2015_1",
          "2015_2",
          "2015_3",
          "2015_4",
          "2015_5",
          "2015_6",
          "2015_7",
          "2015_8",
          "2015_9",
          "2015_10",
          "2015_11",
          "2015_12",
          "2016_1",
          "2016_2",
          "2016_3",
          "2016_4",
          "2016_5",
          "2016_6",
          "2016_7",
          "2016_8",
          "2016_9",
          "2016_10",
          "2016_11",
          "2016_12",
          "2017_1",
          "2017_2",
          "2017_3",
          "2017_4",
          "2017_5",
          "2017_6",
          "2017_7",
          "2017_8",
          "2017_9",
          "2017_10",
          "2017_11",
          "2017_12",
          "2018_1",
          "2018_2",
          "2018_3",
          "2018_4",
          "2018_5",
          "2018_6",
          "2018_7",
          "2018_8",
          "2018_9",
          "2018_10",
          "2018_11",
          "2018_12",
          "2019_1",
          "2019_2",
          "2019_3",
          "2019_4",
          "2019_5",
          "2019_6",
          "2019_7",
          "2019_8",
          "2019_9",
          "2019_10",
          "2019_11",
          "2019_12",
          "2020_1",
          "2020_2",
          "2020_3",
          "2020_4",
          "2020_5",
          "2020_6",
          "2020_7",
          "2020_8",
          "2020_9",
          "2020_10",
          "2020_11",
          "2020_12",
          "2021_1",
          "2021_2",
          "2021_3",
          "2021_4",
          "2021_5",
          "2021_6",
          "2021_7",
          "2021_8",
          "2021_9",
          "2021_10",
          "2021_11",
          "2021_12",
          "2022_1",
          "2022_2",
          "2022_3"
         ],
         "xaxis": "x",
         "y": [
          4684.1099230068085,
          5018.1108683091,
          6460.545934420566,
          5781.476453064842,
          6569.214539863287,
          6447.448813487647,
          6456.304569444127,
          6352.406861892008,
          6543.893316525505,
          6338.229414412281,
          6027.28274135077,
          6626.915565109751,
          5243.017133017397,
          5595.162389645994,
          5801.197377101445,
          5836.480071666766,
          6074.4549412,
          6097.133646718995,
          6137.2454602431635,
          6321.045900079802,
          6608.485316088281,
          6490.1204487098075,
          6081.531146263576,
          7133.772365922974,
          null,
          null,
          null,
          null,
          null,
          null,
          null,
          null,
          null,
          null,
          null,
          null,
          null,
          null,
          null,
          null,
          null,
          null,
          null,
          null,
          null,
          null,
          null,
          null,
          null,
          null,
          null,
          null,
          null,
          null,
          null,
          null,
          null,
          null,
          null,
          null,
          null,
          null,
          null,
          null,
          null,
          null,
          null,
          null,
          null,
          null,
          null,
          null,
          null,
          null,
          null,
          null,
          null,
          null,
          null,
          null,
          null,
          null,
          null,
          null,
          null,
          null,
          null,
          null,
          null,
          null,
          null,
          null,
          null,
          null,
          null,
          null,
          null,
          null,
          null,
          null,
          null,
          null,
          null,
          null,
          null,
          null,
          null,
          null,
          null,
          null,
          null,
          null,
          null,
          null,
          null,
          null,
          null,
          null,
          null,
          null,
          null,
          null,
          null,
          null,
          null,
          null,
          null,
          null,
          null,
          null,
          null,
          null,
          null,
          null,
          null,
          null,
          null,
          null,
          null,
          null,
          null,
          null,
          null,
          null,
          null,
          null,
          null
         ],
         "yaxis": "y"
        },
        {
         "hovertemplate": "variable=Azerbaijan<br>Year=%{x}<br>value=%{y}<extra></extra>",
         "legendgroup": "Azerbaijan",
         "line": {
          "color": "#FF6692",
          "dash": "solid"
         },
         "marker": {
          "symbol": "circle"
         },
         "mode": "lines",
         "name": "Azerbaijan",
         "showlegend": true,
         "type": "scattergl",
         "x": [
          "2010_1",
          "2010_2",
          "2010_3",
          "2010_4",
          "2010_5",
          "2010_6",
          "2010_7",
          "2010_8",
          "2010_9",
          "2010_10",
          "2010_11",
          "2010_12",
          "2011_1",
          "2011_2",
          "2011_3",
          "2011_4",
          "2011_5",
          "2011_6",
          "2011_7",
          "2011_8",
          "2011_9",
          "2011_10",
          "2011_11",
          "2011_12",
          "2012_1",
          "2012_2",
          "2012_3",
          "2012_4",
          "2012_5",
          "2012_6",
          "2012_7",
          "2012_8",
          "2012_9",
          "2012_10",
          "2012_11",
          "2012_12",
          "2013_1",
          "2013_2",
          "2013_3",
          "2013_4",
          "2013_5",
          "2013_6",
          "2013_7",
          "2013_8",
          "2013_9",
          "2013_10",
          "2013_11",
          "2013_12",
          "2014_1",
          "2014_2",
          "2014_3",
          "2014_4",
          "2014_5",
          "2014_6",
          "2014_7",
          "2014_8",
          "2014_9",
          "2014_10",
          "2014_11",
          "2014_12",
          "2015_1",
          "2015_2",
          "2015_3",
          "2015_4",
          "2015_5",
          "2015_6",
          "2015_7",
          "2015_8",
          "2015_9",
          "2015_10",
          "2015_11",
          "2015_12",
          "2016_1",
          "2016_2",
          "2016_3",
          "2016_4",
          "2016_5",
          "2016_6",
          "2016_7",
          "2016_8",
          "2016_9",
          "2016_10",
          "2016_11",
          "2016_12",
          "2017_1",
          "2017_2",
          "2017_3",
          "2017_4",
          "2017_5",
          "2017_6",
          "2017_7",
          "2017_8",
          "2017_9",
          "2017_10",
          "2017_11",
          "2017_12",
          "2018_1",
          "2018_2",
          "2018_3",
          "2018_4",
          "2018_5",
          "2018_6",
          "2018_7",
          "2018_8",
          "2018_9",
          "2018_10",
          "2018_11",
          "2018_12",
          "2019_1",
          "2019_2",
          "2019_3",
          "2019_4",
          "2019_5",
          "2019_6",
          "2019_7",
          "2019_8",
          "2019_9",
          "2019_10",
          "2019_11",
          "2019_12",
          "2020_1",
          "2020_2",
          "2020_3",
          "2020_4",
          "2020_5",
          "2020_6",
          "2020_7",
          "2020_8",
          "2020_9",
          "2020_10",
          "2020_11",
          "2020_12",
          "2021_1",
          "2021_2",
          "2021_3",
          "2021_4",
          "2021_5",
          "2021_6",
          "2021_7",
          "2021_8",
          "2021_9",
          "2021_10",
          "2021_11",
          "2021_12",
          "2022_1",
          "2022_2",
          "2022_3"
         ],
         "xaxis": "x",
         "y": [
          146.36828176160176,
          138.451620256603,
          205.6523269617463,
          185.06401502971266,
          92.18814153800008,
          242.54184092813833,
          366.9122759752103,
          348.03057546869593,
          317.9018479947765,
          242.7432307940388,
          294.39585649270975,
          380.13301064778994,
          229.59424075893415,
          322.9319304954733,
          358.27324050000004,
          425.07018859999994,
          409.8220925999999,
          363.8364949999999,
          413.8832311,
          390.14087229999996,
          444.1933802,
          516.3110555000001,
          436.9340336,
          411.00571479999996,
          378.937,
          425.4,
          517.1389999999999,
          537.289,
          530.324,
          659.8900000000001,
          704.671,
          591.332,
          735.9860000000001,
          701.297,
          675.7860000000001,
          900.589,
          822.4910000000001,
          919.6709999999999,
          728.279,
          699.1700000000001,
          696.681,
          561.994,
          821.433,
          757.531,
          817.3709999999999,
          707.613,
          1027.6550000000002,
          1210.536,
          774.181,
          712.74,
          710.1220000000001,
          739.86,
          689.5759999999999,
          831.3670000000001,
          844.159,
          742.0350000000001,
          875.8040000000001,
          1098.718,
          889.7470000000001,
          1406.605,
          772.973,
          656.9720000000001,
          684.7179999999998,
          657.9140000000001,
          764.631,
          653.603,
          734.489,
          709.921,
          295.5239999999999,
          824.869,
          653.113,
          729.0009999999999,
          483.852,
          340.173,
          444.13899999999995,
          496.00700000000006,
          349.1170000000001,
          177.52599999999995,
          275.456,
          1173.0359999999998,
          545.446,
          317.8430000000001,
          366.144,
          985.571,
          754.5629999999999,
          681.7040000000001,
          622.4459999999999,
          585.577,
          522.381,
          431.6379999999999,
          461.26300000000003,
          468.8860000000001,
          36.003000000000156,
          154.529,
          659.8080000000001,
          470.65100000000007,
          637.6819999999999,
          466.255,
          719.358,
          519.498,
          459.71399999999994,
          601.737,
          665.9839999999999,
          902.721,
          469.47800000000007,
          821.31,
          923.6509999999998,
          1053.9270000000001,
          768.3090000000001,
          575.085,
          734.093,
          598.434,
          253.30099999999993,
          556.2629999999999,
          897.0610000000001,
          600.893,
          723.221,
          841.6569999999999,
          470.0730000000001,
          665.4309999999998,
          468.125,
          782.5880000000002,
          1309.4460000000001,
          1676.8680000000002,
          2347.788,
          3134.5789999999997,
          4551.522,
          5565.061,
          5838.235,
          3822.75,
          4091.2110000000002,
          4114.831,
          4181.866,
          4680.388,
          5908.731,
          7378.869,
          6211.643,
          5206.674,
          4747.796,
          5355.627,
          6048.253,
          5240.761937314999,
          5367.057737503001,
          4677.986504865001,
          2976.4997606089996,
          3265.0104533660005,
          3105.005323425
         ],
         "yaxis": "y"
        },
        {
         "hovertemplate": "variable=Armenia<br>Year=%{x}<br>value=%{y}<extra></extra>",
         "legendgroup": "Armenia",
         "line": {
          "color": "#B6E880",
          "dash": "solid"
         },
         "marker": {
          "symbol": "circle"
         },
         "mode": "lines",
         "name": "Armenia",
         "showlegend": true,
         "type": "scattergl",
         "x": [
          "2010_1",
          "2010_2",
          "2010_3",
          "2010_4",
          "2010_5",
          "2010_6",
          "2010_7",
          "2010_8",
          "2010_9",
          "2010_10",
          "2010_11",
          "2010_12",
          "2011_1",
          "2011_2",
          "2011_3",
          "2011_4",
          "2011_5",
          "2011_6",
          "2011_7",
          "2011_8",
          "2011_9",
          "2011_10",
          "2011_11",
          "2011_12",
          "2012_1",
          "2012_2",
          "2012_3",
          "2012_4",
          "2012_5",
          "2012_6",
          "2012_7",
          "2012_8",
          "2012_9",
          "2012_10",
          "2012_11",
          "2012_12",
          "2013_1",
          "2013_2",
          "2013_3",
          "2013_4",
          "2013_5",
          "2013_6",
          "2013_7",
          "2013_8",
          "2013_9",
          "2013_10",
          "2013_11",
          "2013_12",
          "2014_1",
          "2014_2",
          "2014_3",
          "2014_4",
          "2014_5",
          "2014_6",
          "2014_7",
          "2014_8",
          "2014_9",
          "2014_10",
          "2014_11",
          "2014_12",
          "2015_1",
          "2015_2",
          "2015_3",
          "2015_4",
          "2015_5",
          "2015_6",
          "2015_7",
          "2015_8",
          "2015_9",
          "2015_10",
          "2015_11",
          "2015_12",
          "2016_1",
          "2016_2",
          "2016_3",
          "2016_4",
          "2016_5",
          "2016_6",
          "2016_7",
          "2016_8",
          "2016_9",
          "2016_10",
          "2016_11",
          "2016_12",
          "2017_1",
          "2017_2",
          "2017_3",
          "2017_4",
          "2017_5",
          "2017_6",
          "2017_7",
          "2017_8",
          "2017_9",
          "2017_10",
          "2017_11",
          "2017_12",
          "2018_1",
          "2018_2",
          "2018_3",
          "2018_4",
          "2018_5",
          "2018_6",
          "2018_7",
          "2018_8",
          "2018_9",
          "2018_10",
          "2018_11",
          "2018_12",
          "2019_1",
          "2019_2",
          "2019_3",
          "2019_4",
          "2019_5",
          "2019_6",
          "2019_7",
          "2019_8",
          "2019_9",
          "2019_10",
          "2019_11",
          "2019_12",
          "2020_1",
          "2020_2",
          "2020_3",
          "2020_4",
          "2020_5",
          "2020_6",
          "2020_7",
          "2020_8",
          "2020_9",
          "2020_10",
          "2020_11",
          "2020_12",
          "2021_1",
          "2021_2",
          "2021_3",
          "2021_4",
          "2021_5",
          "2021_6",
          "2021_7",
          "2021_8",
          "2021_9",
          "2021_10",
          "2021_11",
          "2021_12",
          "2022_1",
          "2022_2",
          "2022_3"
         ],
         "xaxis": "x",
         "y": [
          548.3210310030605,
          734.0011158906556,
          729.091989335175,
          572.1681538845044,
          606.3044118160684,
          188.20197842282334,
          178.5820705552132,
          221.81869350356243,
          239.02289126570463,
          74.2428766273618,
          160.8392615886513,
          223.44866181773048,
          124.84878942360636,
          171.89200832945846,
          160.39924051378583,
          114.14048281199996,
          156.85880166389728,
          299.9639451,
          150.49068930000004,
          395.37345890000006,
          280.5147459,
          184.54779910000002,
          139.61304267824977,
          226.34309334497365,
          133.529,
          223.11800000000002,
          303.11400000000003,
          125.696,
          48.77600000000001,
          212.842,
          320.597,
          460.411,
          122.63099999999997,
          173.676,
          250.094,
          322.712,
          297.496,
          215.76999999999998,
          140.50099999999998,
          347.584,
          186.277,
          162.60199999999998,
          294.79499999999996,
          394.63500000000005,
          164.50499999999994,
          178.48099999999994,
          253.88400000000007,
          393.89700000000005,
          -15.427999999999997,
          101.78900000000004,
          -112.005,
          121.08300000000008,
          100.32599999999996,
          227.33800000000002,
          326.712,
          266.52099999999996,
          288.417,
          186.89599999999996,
          254.60999999999996,
          243.50900000000001,
          72.375,
          100.60300000000001,
          93.24399999999997,
          76.39000000000004,
          131.87900000000002,
          124.64900000000006,
          286.745,
          140.478,
          168.61100000000005,
          59.45600000000002,
          83.67400000000004,
          308.01099999999997,
          19.238,
          -87.23699999999997,
          -346.332,
          -97.46100000000001,
          103.22899999999993,
          130.36899999999997,
          72.76099999999997,
          147.06500000000005,
          163.83400000000006,
          30.980999999999995,
          -68.00200000000007,
          104.20899999999995,
          -22.932000000000016,
          88.28500000000003,
          55.434000000000026,
          146.43399999999997,
          109.043,
          109.86099999999999,
          90.42700000000002,
          133.22299999999996,
          67.572,
          56.35500000000002,
          68.63200000000006,
          -27.851999999999975,
          175.44599999999997,
          120.43099999999998,
          60.05600000000004,
          100.83500000000004,
          167.20800000000003,
          -73.19800000000009,
          186.22299999999996,
          313.99,
          225.95299999999997,
          65.05200000000002,
          174.84399999999994,
          71.61000000000001,
          169.65100000000007,
          262.65600000000006,
          210.755,
          194.16999999999996,
          310.3650000000001,
          344.78700000000003,
          339.822,
          608.55,
          607.86,
          743.5070000000001,
          832.618,
          1120.117,
          300.94499999999994,
          181.70299999999997,
          446.90200000000004,
          158.87,
          102.61800000000005,
          226.30900000000008,
          512.823,
          361.038,
          -32.055000000000064,
          -400.0830000000001,
          -123.51199999999994,
          -202.57100000000014,
          -170.02600000000007,
          -50.31400000000008,
          -102.481,
          -230.817,
          35.22000000000003,
          -99.51499999999999,
          89.25900000000001,
          281.033,
          182.80899999999997,
          262.348116421,
          210.54588816700027,
          -120.19225125099956,
          91.37597114599987,
          253.10892274999992,
          66.48074481300023
         ],
         "yaxis": "y"
        }
       ],
       "layout": {
        "legend": {
         "title": {
          "text": "variable"
         },
         "tracegroupgap": 0
        },
        "margin": {
         "t": 60
        },
        "template": {
         "data": {
          "bar": [
           {
            "error_x": {
             "color": "#2a3f5f"
            },
            "error_y": {
             "color": "#2a3f5f"
            },
            "marker": {
             "line": {
              "color": "#E5ECF6",
              "width": 0.5
             },
             "pattern": {
              "fillmode": "overlay",
              "size": 10,
              "solidity": 0.2
             }
            },
            "type": "bar"
           }
          ],
          "barpolar": [
           {
            "marker": {
             "line": {
              "color": "#E5ECF6",
              "width": 0.5
             },
             "pattern": {
              "fillmode": "overlay",
              "size": 10,
              "solidity": 0.2
             }
            },
            "type": "barpolar"
           }
          ],
          "carpet": [
           {
            "aaxis": {
             "endlinecolor": "#2a3f5f",
             "gridcolor": "white",
             "linecolor": "white",
             "minorgridcolor": "white",
             "startlinecolor": "#2a3f5f"
            },
            "baxis": {
             "endlinecolor": "#2a3f5f",
             "gridcolor": "white",
             "linecolor": "white",
             "minorgridcolor": "white",
             "startlinecolor": "#2a3f5f"
            },
            "type": "carpet"
           }
          ],
          "choropleth": [
           {
            "colorbar": {
             "outlinewidth": 0,
             "ticks": ""
            },
            "type": "choropleth"
           }
          ],
          "contour": [
           {
            "colorbar": {
             "outlinewidth": 0,
             "ticks": ""
            },
            "colorscale": [
             [
              0,
              "#0d0887"
             ],
             [
              0.1111111111111111,
              "#46039f"
             ],
             [
              0.2222222222222222,
              "#7201a8"
             ],
             [
              0.3333333333333333,
              "#9c179e"
             ],
             [
              0.4444444444444444,
              "#bd3786"
             ],
             [
              0.5555555555555556,
              "#d8576b"
             ],
             [
              0.6666666666666666,
              "#ed7953"
             ],
             [
              0.7777777777777778,
              "#fb9f3a"
             ],
             [
              0.8888888888888888,
              "#fdca26"
             ],
             [
              1,
              "#f0f921"
             ]
            ],
            "type": "contour"
           }
          ],
          "contourcarpet": [
           {
            "colorbar": {
             "outlinewidth": 0,
             "ticks": ""
            },
            "type": "contourcarpet"
           }
          ],
          "heatmap": [
           {
            "colorbar": {
             "outlinewidth": 0,
             "ticks": ""
            },
            "colorscale": [
             [
              0,
              "#0d0887"
             ],
             [
              0.1111111111111111,
              "#46039f"
             ],
             [
              0.2222222222222222,
              "#7201a8"
             ],
             [
              0.3333333333333333,
              "#9c179e"
             ],
             [
              0.4444444444444444,
              "#bd3786"
             ],
             [
              0.5555555555555556,
              "#d8576b"
             ],
             [
              0.6666666666666666,
              "#ed7953"
             ],
             [
              0.7777777777777778,
              "#fb9f3a"
             ],
             [
              0.8888888888888888,
              "#fdca26"
             ],
             [
              1,
              "#f0f921"
             ]
            ],
            "type": "heatmap"
           }
          ],
          "heatmapgl": [
           {
            "colorbar": {
             "outlinewidth": 0,
             "ticks": ""
            },
            "colorscale": [
             [
              0,
              "#0d0887"
             ],
             [
              0.1111111111111111,
              "#46039f"
             ],
             [
              0.2222222222222222,
              "#7201a8"
             ],
             [
              0.3333333333333333,
              "#9c179e"
             ],
             [
              0.4444444444444444,
              "#bd3786"
             ],
             [
              0.5555555555555556,
              "#d8576b"
             ],
             [
              0.6666666666666666,
              "#ed7953"
             ],
             [
              0.7777777777777778,
              "#fb9f3a"
             ],
             [
              0.8888888888888888,
              "#fdca26"
             ],
             [
              1,
              "#f0f921"
             ]
            ],
            "type": "heatmapgl"
           }
          ],
          "histogram": [
           {
            "marker": {
             "pattern": {
              "fillmode": "overlay",
              "size": 10,
              "solidity": 0.2
             }
            },
            "type": "histogram"
           }
          ],
          "histogram2d": [
           {
            "colorbar": {
             "outlinewidth": 0,
             "ticks": ""
            },
            "colorscale": [
             [
              0,
              "#0d0887"
             ],
             [
              0.1111111111111111,
              "#46039f"
             ],
             [
              0.2222222222222222,
              "#7201a8"
             ],
             [
              0.3333333333333333,
              "#9c179e"
             ],
             [
              0.4444444444444444,
              "#bd3786"
             ],
             [
              0.5555555555555556,
              "#d8576b"
             ],
             [
              0.6666666666666666,
              "#ed7953"
             ],
             [
              0.7777777777777778,
              "#fb9f3a"
             ],
             [
              0.8888888888888888,
              "#fdca26"
             ],
             [
              1,
              "#f0f921"
             ]
            ],
            "type": "histogram2d"
           }
          ],
          "histogram2dcontour": [
           {
            "colorbar": {
             "outlinewidth": 0,
             "ticks": ""
            },
            "colorscale": [
             [
              0,
              "#0d0887"
             ],
             [
              0.1111111111111111,
              "#46039f"
             ],
             [
              0.2222222222222222,
              "#7201a8"
             ],
             [
              0.3333333333333333,
              "#9c179e"
             ],
             [
              0.4444444444444444,
              "#bd3786"
             ],
             [
              0.5555555555555556,
              "#d8576b"
             ],
             [
              0.6666666666666666,
              "#ed7953"
             ],
             [
              0.7777777777777778,
              "#fb9f3a"
             ],
             [
              0.8888888888888888,
              "#fdca26"
             ],
             [
              1,
              "#f0f921"
             ]
            ],
            "type": "histogram2dcontour"
           }
          ],
          "mesh3d": [
           {
            "colorbar": {
             "outlinewidth": 0,
             "ticks": ""
            },
            "type": "mesh3d"
           }
          ],
          "parcoords": [
           {
            "line": {
             "colorbar": {
              "outlinewidth": 0,
              "ticks": ""
             }
            },
            "type": "parcoords"
           }
          ],
          "pie": [
           {
            "automargin": true,
            "type": "pie"
           }
          ],
          "scatter": [
           {
            "marker": {
             "colorbar": {
              "outlinewidth": 0,
              "ticks": ""
             }
            },
            "type": "scatter"
           }
          ],
          "scatter3d": [
           {
            "line": {
             "colorbar": {
              "outlinewidth": 0,
              "ticks": ""
             }
            },
            "marker": {
             "colorbar": {
              "outlinewidth": 0,
              "ticks": ""
             }
            },
            "type": "scatter3d"
           }
          ],
          "scattercarpet": [
           {
            "marker": {
             "colorbar": {
              "outlinewidth": 0,
              "ticks": ""
             }
            },
            "type": "scattercarpet"
           }
          ],
          "scattergeo": [
           {
            "marker": {
             "colorbar": {
              "outlinewidth": 0,
              "ticks": ""
             }
            },
            "type": "scattergeo"
           }
          ],
          "scattergl": [
           {
            "marker": {
             "colorbar": {
              "outlinewidth": 0,
              "ticks": ""
             }
            },
            "type": "scattergl"
           }
          ],
          "scattermapbox": [
           {
            "marker": {
             "colorbar": {
              "outlinewidth": 0,
              "ticks": ""
             }
            },
            "type": "scattermapbox"
           }
          ],
          "scatterpolar": [
           {
            "marker": {
             "colorbar": {
              "outlinewidth": 0,
              "ticks": ""
             }
            },
            "type": "scatterpolar"
           }
          ],
          "scatterpolargl": [
           {
            "marker": {
             "colorbar": {
              "outlinewidth": 0,
              "ticks": ""
             }
            },
            "type": "scatterpolargl"
           }
          ],
          "scatterternary": [
           {
            "marker": {
             "colorbar": {
              "outlinewidth": 0,
              "ticks": ""
             }
            },
            "type": "scatterternary"
           }
          ],
          "surface": [
           {
            "colorbar": {
             "outlinewidth": 0,
             "ticks": ""
            },
            "colorscale": [
             [
              0,
              "#0d0887"
             ],
             [
              0.1111111111111111,
              "#46039f"
             ],
             [
              0.2222222222222222,
              "#7201a8"
             ],
             [
              0.3333333333333333,
              "#9c179e"
             ],
             [
              0.4444444444444444,
              "#bd3786"
             ],
             [
              0.5555555555555556,
              "#d8576b"
             ],
             [
              0.6666666666666666,
              "#ed7953"
             ],
             [
              0.7777777777777778,
              "#fb9f3a"
             ],
             [
              0.8888888888888888,
              "#fdca26"
             ],
             [
              1,
              "#f0f921"
             ]
            ],
            "type": "surface"
           }
          ],
          "table": [
           {
            "cells": {
             "fill": {
              "color": "#EBF0F8"
             },
             "line": {
              "color": "white"
             }
            },
            "header": {
             "fill": {
              "color": "#C8D4E3"
             },
             "line": {
              "color": "white"
             }
            },
            "type": "table"
           }
          ]
         },
         "layout": {
          "annotationdefaults": {
           "arrowcolor": "#2a3f5f",
           "arrowhead": 0,
           "arrowwidth": 1
          },
          "autotypenumbers": "strict",
          "coloraxis": {
           "colorbar": {
            "outlinewidth": 0,
            "ticks": ""
           }
          },
          "colorscale": {
           "diverging": [
            [
             0,
             "#8e0152"
            ],
            [
             0.1,
             "#c51b7d"
            ],
            [
             0.2,
             "#de77ae"
            ],
            [
             0.3,
             "#f1b6da"
            ],
            [
             0.4,
             "#fde0ef"
            ],
            [
             0.5,
             "#f7f7f7"
            ],
            [
             0.6,
             "#e6f5d0"
            ],
            [
             0.7,
             "#b8e186"
            ],
            [
             0.8,
             "#7fbc41"
            ],
            [
             0.9,
             "#4d9221"
            ],
            [
             1,
             "#276419"
            ]
           ],
           "sequential": [
            [
             0,
             "#0d0887"
            ],
            [
             0.1111111111111111,
             "#46039f"
            ],
            [
             0.2222222222222222,
             "#7201a8"
            ],
            [
             0.3333333333333333,
             "#9c179e"
            ],
            [
             0.4444444444444444,
             "#bd3786"
            ],
            [
             0.5555555555555556,
             "#d8576b"
            ],
            [
             0.6666666666666666,
             "#ed7953"
            ],
            [
             0.7777777777777778,
             "#fb9f3a"
            ],
            [
             0.8888888888888888,
             "#fdca26"
            ],
            [
             1,
             "#f0f921"
            ]
           ],
           "sequentialminus": [
            [
             0,
             "#0d0887"
            ],
            [
             0.1111111111111111,
             "#46039f"
            ],
            [
             0.2222222222222222,
             "#7201a8"
            ],
            [
             0.3333333333333333,
             "#9c179e"
            ],
            [
             0.4444444444444444,
             "#bd3786"
            ],
            [
             0.5555555555555556,
             "#d8576b"
            ],
            [
             0.6666666666666666,
             "#ed7953"
            ],
            [
             0.7777777777777778,
             "#fb9f3a"
            ],
            [
             0.8888888888888888,
             "#fdca26"
            ],
            [
             1,
             "#f0f921"
            ]
           ]
          },
          "colorway": [
           "#636efa",
           "#EF553B",
           "#00cc96",
           "#ab63fa",
           "#FFA15A",
           "#19d3f3",
           "#FF6692",
           "#B6E880",
           "#FF97FF",
           "#FECB52"
          ],
          "font": {
           "color": "#2a3f5f"
          },
          "geo": {
           "bgcolor": "white",
           "lakecolor": "white",
           "landcolor": "#E5ECF6",
           "showlakes": true,
           "showland": true,
           "subunitcolor": "white"
          },
          "hoverlabel": {
           "align": "left"
          },
          "hovermode": "closest",
          "mapbox": {
           "style": "light"
          },
          "paper_bgcolor": "white",
          "plot_bgcolor": "#E5ECF6",
          "polar": {
           "angularaxis": {
            "gridcolor": "white",
            "linecolor": "white",
            "ticks": ""
           },
           "bgcolor": "#E5ECF6",
           "radialaxis": {
            "gridcolor": "white",
            "linecolor": "white",
            "ticks": ""
           }
          },
          "scene": {
           "xaxis": {
            "backgroundcolor": "#E5ECF6",
            "gridcolor": "white",
            "gridwidth": 2,
            "linecolor": "white",
            "showbackground": true,
            "ticks": "",
            "zerolinecolor": "white"
           },
           "yaxis": {
            "backgroundcolor": "#E5ECF6",
            "gridcolor": "white",
            "gridwidth": 2,
            "linecolor": "white",
            "showbackground": true,
            "ticks": "",
            "zerolinecolor": "white"
           },
           "zaxis": {
            "backgroundcolor": "#E5ECF6",
            "gridcolor": "white",
            "gridwidth": 2,
            "linecolor": "white",
            "showbackground": true,
            "ticks": "",
            "zerolinecolor": "white"
           }
          },
          "shapedefaults": {
           "line": {
            "color": "#2a3f5f"
           }
          },
          "ternary": {
           "aaxis": {
            "gridcolor": "white",
            "linecolor": "white",
            "ticks": ""
           },
           "baxis": {
            "gridcolor": "white",
            "linecolor": "white",
            "ticks": ""
           },
           "bgcolor": "#E5ECF6",
           "caxis": {
            "gridcolor": "white",
            "linecolor": "white",
            "ticks": ""
           }
          },
          "title": {
           "x": 0.05
          },
          "xaxis": {
           "automargin": true,
           "gridcolor": "white",
           "linecolor": "white",
           "ticks": "",
           "title": {
            "standoff": 15
           },
           "zerolinecolor": "white",
           "zerolinewidth": 2
          },
          "yaxis": {
           "automargin": true,
           "gridcolor": "white",
           "linecolor": "white",
           "ticks": "",
           "title": {
            "standoff": 15
           },
           "zerolinecolor": "white",
           "zerolinewidth": 2
          }
         }
        },
        "xaxis": {
         "anchor": "y",
         "domain": [
          0,
          1
         ],
         "title": {
          "text": "Year"
         }
        },
        "yaxis": {
         "anchor": "x",
         "domain": [
          0,
          1
         ],
         "title": {
          "text": "value"
         }
        }
       }
      }
     },
     "metadata": {},
     "output_type": "display_data"
    }
   ],
   "source": [
    "fig20 = px.line(df_Remissions_netflow, x = \"Year\", y=[\"Total\", \"Russian Federation\", \"Germany\", \"France\", \"United Kingdom\", \"United States\", \"Azerbaijan\", \"Armenia\"])\n",
    "fig20.show()"
   ]
  },
  {
   "cell_type": "code",
   "execution_count": 85,
   "id": "7ca9543f",
   "metadata": {},
   "outputs": [],
   "source": [
    "df_Remissions2_Inflow = df_Remissions_part2.loc[:, idx[:,\"Inflow\"]]\n",
    "df_Remissions2_Inflow = df_Remissions2_Inflow.reset_index().droplevel(1, axis = 1)\n",
    "df_Remissions2_Inflow.set_index(\"Country\", inplace= True)\n",
    "df_Remissions2_Inflow = df_Remissions2_Inflow.T.reset_index().rename(columns = {\"index\":\"Year\"})\n",
    "\n",
    "df_Remissions2_Outflow = df_Remissions_part2.loc[:, idx[:,\"Outflow\"]]\n",
    "df_Remissions2_Outflow = df_Remissions2_Outflow.reset_index().droplevel(1, axis = 1)\n",
    "df_Remissions2_Outflow.set_index(\"Country\", inplace= True)\n",
    "df_Remissions2_Outflow = df_Remissions2_Outflow.T.reset_index().rename(columns = {\"index\":\"Year\"})"
   ]
  },
  {
   "cell_type": "code",
   "execution_count": 86,
   "id": "783deec9",
   "metadata": {},
   "outputs": [
    {
     "data": {
      "text/html": [
       "<div>\n",
       "<style scoped>\n",
       "    .dataframe tbody tr th:only-of-type {\n",
       "        vertical-align: middle;\n",
       "    }\n",
       "\n",
       "    .dataframe tbody tr th {\n",
       "        vertical-align: top;\n",
       "    }\n",
       "\n",
       "    .dataframe thead th {\n",
       "        text-align: right;\n",
       "    }\n",
       "</style>\n",
       "<table border=\"1\" class=\"dataframe\">\n",
       "  <thead>\n",
       "    <tr style=\"text-align: right;\">\n",
       "      <th>Country</th>\n",
       "      <th>Total</th>\n",
       "      <th>Italy</th>\n",
       "      <th>Russian Federation</th>\n",
       "      <th>United States of America</th>\n",
       "      <th>Greece</th>\n",
       "      <th>Israel</th>\n",
       "      <th>Germany</th>\n",
       "      <th>Turkey</th>\n",
       "      <th>Kazakhstan</th>\n",
       "      <th>Azerbaijan</th>\n",
       "      <th>...</th>\n",
       "      <th>Palau</th>\n",
       "      <th>Papua New Guinea</th>\n",
       "      <th>French Southern Territories</th>\n",
       "      <th>Saint Barthélemy</th>\n",
       "      <th>Saint Pierre and Miquelon</th>\n",
       "      <th>Saint Helena, Ascension and Tristan da Cunha</th>\n",
       "      <th>Svalbard and Jan Mayen</th>\n",
       "      <th>Wallis and Futuna</th>\n",
       "      <th>Falkland Islands (Malvinas)</th>\n",
       "      <th>Northern Mariana Islands</th>\n",
       "    </tr>\n",
       "  </thead>\n",
       "  <tbody>\n",
       "    <tr>\n",
       "      <th>count</th>\n",
       "      <td>123.000000</td>\n",
       "      <td>123.000000</td>\n",
       "      <td>123.000000</td>\n",
       "      <td>123.000000</td>\n",
       "      <td>123.000000</td>\n",
       "      <td>123.000000</td>\n",
       "      <td>123.000000</td>\n",
       "      <td>123.000000</td>\n",
       "      <td>123.000000</td>\n",
       "      <td>123.000000</td>\n",
       "      <td>...</td>\n",
       "      <td>123.000000</td>\n",
       "      <td>123.000000</td>\n",
       "      <td>123.000000</td>\n",
       "      <td>123.000000</td>\n",
       "      <td>123.000000</td>\n",
       "      <td>123.000000</td>\n",
       "      <td>123.000000</td>\n",
       "      <td>123.000000</td>\n",
       "      <td>123.000000</td>\n",
       "      <td>123.000000</td>\n",
       "    </tr>\n",
       "    <tr>\n",
       "      <th>mean</th>\n",
       "      <td>112558.918172</td>\n",
       "      <td>15390.195321</td>\n",
       "      <td>36635.388913</td>\n",
       "      <td>11969.046850</td>\n",
       "      <td>13782.681426</td>\n",
       "      <td>7665.057757</td>\n",
       "      <td>3376.395988</td>\n",
       "      <td>4834.047019</td>\n",
       "      <td>1562.269115</td>\n",
       "      <td>1425.738006</td>\n",
       "      <td>...</td>\n",
       "      <td>0.024146</td>\n",
       "      <td>0.120285</td>\n",
       "      <td>0.011016</td>\n",
       "      <td>0.140398</td>\n",
       "      <td>0.011764</td>\n",
       "      <td>0.001626</td>\n",
       "      <td>0.001407</td>\n",
       "      <td>0.020358</td>\n",
       "      <td>0.388829</td>\n",
       "      <td>0.076691</td>\n",
       "    </tr>\n",
       "    <tr>\n",
       "      <th>std</th>\n",
       "      <td>30588.205082</td>\n",
       "      <td>8263.136318</td>\n",
       "      <td>15610.496827</td>\n",
       "      <td>5845.468631</td>\n",
       "      <td>3700.825691</td>\n",
       "      <td>5507.517436</td>\n",
       "      <td>2662.397263</td>\n",
       "      <td>1938.423653</td>\n",
       "      <td>1934.827054</td>\n",
       "      <td>1671.755414</td>\n",
       "      <td>...</td>\n",
       "      <td>0.303702</td>\n",
       "      <td>0.654887</td>\n",
       "      <td>0.064393</td>\n",
       "      <td>0.903014</td>\n",
       "      <td>0.083174</td>\n",
       "      <td>0.018033</td>\n",
       "      <td>0.015599</td>\n",
       "      <td>0.120220</td>\n",
       "      <td>0.964459</td>\n",
       "      <td>0.607612</td>\n",
       "    </tr>\n",
       "    <tr>\n",
       "      <th>min</th>\n",
       "      <td>54686.127000</td>\n",
       "      <td>7530.377000</td>\n",
       "      <td>9622.448000</td>\n",
       "      <td>4893.349000</td>\n",
       "      <td>843.725000</td>\n",
       "      <td>852.114000</td>\n",
       "      <td>565.107000</td>\n",
       "      <td>779.060357</td>\n",
       "      <td>353.693000</td>\n",
       "      <td>36.003000</td>\n",
       "      <td>...</td>\n",
       "      <td>-2.000000</td>\n",
       "      <td>-3.080000</td>\n",
       "      <td>-0.275000</td>\n",
       "      <td>-0.101000</td>\n",
       "      <td>0.000000</td>\n",
       "      <td>0.000000</td>\n",
       "      <td>0.000000</td>\n",
       "      <td>0.000000</td>\n",
       "      <td>0.000000</td>\n",
       "      <td>-2.611000</td>\n",
       "    </tr>\n",
       "    <tr>\n",
       "      <th>25%</th>\n",
       "      <td>89660.729000</td>\n",
       "      <td>8980.284000</td>\n",
       "      <td>27075.106000</td>\n",
       "      <td>6812.216000</td>\n",
       "      <td>11354.039500</td>\n",
       "      <td>1844.861000</td>\n",
       "      <td>1685.751000</td>\n",
       "      <td>3404.376000</td>\n",
       "      <td>731.263500</td>\n",
       "      <td>559.128500</td>\n",
       "      <td>...</td>\n",
       "      <td>0.000000</td>\n",
       "      <td>0.000000</td>\n",
       "      <td>0.000000</td>\n",
       "      <td>0.000000</td>\n",
       "      <td>0.000000</td>\n",
       "      <td>0.000000</td>\n",
       "      <td>0.000000</td>\n",
       "      <td>0.000000</td>\n",
       "      <td>0.000000</td>\n",
       "      <td>0.000000</td>\n",
       "    </tr>\n",
       "    <tr>\n",
       "      <th>50%</th>\n",
       "      <td>107170.404000</td>\n",
       "      <td>10919.291000</td>\n",
       "      <td>31044.407000</td>\n",
       "      <td>10818.871000</td>\n",
       "      <td>13859.910000</td>\n",
       "      <td>6765.621000</td>\n",
       "      <td>2396.467000</td>\n",
       "      <td>4790.182000</td>\n",
       "      <td>1008.078000</td>\n",
       "      <td>723.221000</td>\n",
       "      <td>...</td>\n",
       "      <td>0.000000</td>\n",
       "      <td>0.000000</td>\n",
       "      <td>0.000000</td>\n",
       "      <td>0.000000</td>\n",
       "      <td>0.000000</td>\n",
       "      <td>0.000000</td>\n",
       "      <td>0.000000</td>\n",
       "      <td>0.000000</td>\n",
       "      <td>0.000000</td>\n",
       "      <td>0.000000</td>\n",
       "    </tr>\n",
       "    <tr>\n",
       "      <th>75%</th>\n",
       "      <td>125810.270000</td>\n",
       "      <td>19802.397000</td>\n",
       "      <td>45770.636500</td>\n",
       "      <td>14688.306500</td>\n",
       "      <td>16268.410500</td>\n",
       "      <td>13023.220500</td>\n",
       "      <td>3936.729000</td>\n",
       "      <td>5913.300500</td>\n",
       "      <td>1406.218000</td>\n",
       "      <td>1006.613000</td>\n",
       "      <td>...</td>\n",
       "      <td>0.000000</td>\n",
       "      <td>0.000000</td>\n",
       "      <td>0.000000</td>\n",
       "      <td>0.000000</td>\n",
       "      <td>0.000000</td>\n",
       "      <td>0.000000</td>\n",
       "      <td>0.000000</td>\n",
       "      <td>0.000000</td>\n",
       "      <td>0.200000</td>\n",
       "      <td>0.000000</td>\n",
       "    </tr>\n",
       "    <tr>\n",
       "      <th>max</th>\n",
       "      <td>196163.589932</td>\n",
       "      <td>37276.561788</td>\n",
       "      <td>77212.683000</td>\n",
       "      <td>26102.902497</td>\n",
       "      <td>21442.584000</td>\n",
       "      <td>17146.378063</td>\n",
       "      <td>11006.950139</td>\n",
       "      <td>8876.776000</td>\n",
       "      <td>12960.183524</td>\n",
       "      <td>7378.869000</td>\n",
       "      <td>...</td>\n",
       "      <td>2.000000</td>\n",
       "      <td>4.784000</td>\n",
       "      <td>0.371000</td>\n",
       "      <td>7.715000</td>\n",
       "      <td>0.800000</td>\n",
       "      <td>0.200000</td>\n",
       "      <td>0.173000</td>\n",
       "      <td>1.154000</td>\n",
       "      <td>7.420000</td>\n",
       "      <td>4.500000</td>\n",
       "    </tr>\n",
       "  </tbody>\n",
       "</table>\n",
       "<p>8 rows × 250 columns</p>\n",
       "</div>"
      ],
      "text/plain": [
       "Country          Total         Italy  Russian Federation  \\\n",
       "count       123.000000    123.000000          123.000000   \n",
       "mean     112558.918172  15390.195321        36635.388913   \n",
       "std       30588.205082   8263.136318        15610.496827   \n",
       "min       54686.127000   7530.377000         9622.448000   \n",
       "25%       89660.729000   8980.284000        27075.106000   \n",
       "50%      107170.404000  10919.291000        31044.407000   \n",
       "75%      125810.270000  19802.397000        45770.636500   \n",
       "max      196163.589932  37276.561788        77212.683000   \n",
       "\n",
       "Country  United States of America        Greece        Israel       Germany  \\\n",
       "count                  123.000000    123.000000    123.000000    123.000000   \n",
       "mean                 11969.046850  13782.681426   7665.057757   3376.395988   \n",
       "std                   5845.468631   3700.825691   5507.517436   2662.397263   \n",
       "min                   4893.349000    843.725000    852.114000    565.107000   \n",
       "25%                   6812.216000  11354.039500   1844.861000   1685.751000   \n",
       "50%                  10818.871000  13859.910000   6765.621000   2396.467000   \n",
       "75%                  14688.306500  16268.410500  13023.220500   3936.729000   \n",
       "max                  26102.902497  21442.584000  17146.378063  11006.950139   \n",
       "\n",
       "Country       Turkey    Kazakhstan   Azerbaijan  ...       Palau  \\\n",
       "count     123.000000    123.000000   123.000000  ...  123.000000   \n",
       "mean     4834.047019   1562.269115  1425.738006  ...    0.024146   \n",
       "std      1938.423653   1934.827054  1671.755414  ...    0.303702   \n",
       "min       779.060357    353.693000    36.003000  ...   -2.000000   \n",
       "25%      3404.376000    731.263500   559.128500  ...    0.000000   \n",
       "50%      4790.182000   1008.078000   723.221000  ...    0.000000   \n",
       "75%      5913.300500   1406.218000  1006.613000  ...    0.000000   \n",
       "max      8876.776000  12960.183524  7378.869000  ...    2.000000   \n",
       "\n",
       "Country  Papua New Guinea  French Southern Territories  Saint Barthélemy  \\\n",
       "count          123.000000                   123.000000        123.000000   \n",
       "mean             0.120285                     0.011016          0.140398   \n",
       "std              0.654887                     0.064393          0.903014   \n",
       "min             -3.080000                    -0.275000         -0.101000   \n",
       "25%              0.000000                     0.000000          0.000000   \n",
       "50%              0.000000                     0.000000          0.000000   \n",
       "75%              0.000000                     0.000000          0.000000   \n",
       "max              4.784000                     0.371000          7.715000   \n",
       "\n",
       "Country  Saint Pierre and Miquelon  \\\n",
       "count                   123.000000   \n",
       "mean                      0.011764   \n",
       "std                       0.083174   \n",
       "min                       0.000000   \n",
       "25%                       0.000000   \n",
       "50%                       0.000000   \n",
       "75%                       0.000000   \n",
       "max                       0.800000   \n",
       "\n",
       "Country  Saint Helena, Ascension and Tristan da Cunha  Svalbard and Jan Mayen  \\\n",
       "count                                      123.000000              123.000000   \n",
       "mean                                         0.001626                0.001407   \n",
       "std                                          0.018033                0.015599   \n",
       "min                                          0.000000                0.000000   \n",
       "25%                                          0.000000                0.000000   \n",
       "50%                                          0.000000                0.000000   \n",
       "75%                                          0.000000                0.000000   \n",
       "max                                          0.200000                0.173000   \n",
       "\n",
       "Country  Wallis and Futuna  Falkland Islands (Malvinas)  \\\n",
       "count           123.000000                   123.000000   \n",
       "mean              0.020358                     0.388829   \n",
       "std               0.120220                     0.964459   \n",
       "min               0.000000                     0.000000   \n",
       "25%               0.000000                     0.000000   \n",
       "50%               0.000000                     0.000000   \n",
       "75%               0.000000                     0.200000   \n",
       "max               1.154000                     7.420000   \n",
       "\n",
       "Country  Northern Mariana Islands  \n",
       "count                  123.000000  \n",
       "mean                     0.076691  \n",
       "std                      0.607612  \n",
       "min                     -2.611000  \n",
       "25%                      0.000000  \n",
       "50%                      0.000000  \n",
       "75%                      0.000000  \n",
       "max                      4.500000  \n",
       "\n",
       "[8 rows x 250 columns]"
      ]
     },
     "execution_count": 86,
     "metadata": {},
     "output_type": "execute_result"
    }
   ],
   "source": [
    "df_Remissions2_netflow = df_Remissions2_Inflow.set_index(\"Year\").subtract(df_Remissions2_Outflow.set_index(\"Year\")).reset_index()\n",
    "df_Remissions2_netflow.describe()"
   ]
  },
  {
   "cell_type": "code",
   "execution_count": 101,
   "id": "8bae3262",
   "metadata": {},
   "outputs": [
    {
     "data": {
      "application/vnd.plotly.v1+json": {
       "config": {
        "plotlyServerURL": "https://plot.ly"
       },
       "data": [
        {
         "hovertemplate": "variable=Total<br>Year=%{x}<br>value=%{y}<extra></extra>",
         "legendgroup": "Total",
         "line": {
          "color": "#636efa",
          "dash": "solid"
         },
         "marker": {
          "symbol": "circle"
         },
         "mode": "lines",
         "name": "Total",
         "showlegend": true,
         "type": "scattergl",
         "x": [
          "2012_1",
          "2012_2",
          "2012_3",
          "2012_4",
          "2012_5",
          "2012_6",
          "2012_7",
          "2012_8",
          "2012_9",
          "2012_10",
          "2012_11",
          "2012_12",
          "2013_1",
          "2013_2",
          "2013_3",
          "2013_4",
          "2013_5",
          "2013_6",
          "2013_7",
          "2013_8",
          "2013_9",
          "2013_10",
          "2013_11",
          "2013_12",
          "2014_1",
          "2014_2",
          "2014_3",
          "2014_4",
          "2014_5",
          "2014_6",
          "2014_7",
          "2014_8",
          "2014_9",
          "2014_10",
          "2014_11",
          "2014_12",
          "2015_1",
          "2015_2",
          "2015_3",
          "2015_4",
          "2015_5",
          "2015_6",
          "2015_7",
          "2015_8",
          "2015_9",
          "2015_10",
          "2015_11",
          "2015_12",
          "2016_1",
          "2016_2",
          "2016_3",
          "2016_4",
          "2016_5",
          "2016_6",
          "2016_7",
          "2016_8",
          "2016_9",
          "2016_10",
          "2016_11",
          "2016_12",
          "2017_1",
          "2017_2",
          "2017_3",
          "2017_4",
          "2017_5",
          "2017_6",
          "2017_7",
          "2017_8",
          "2017_9",
          "2017_10",
          "2017_11",
          "2017_12",
          "2018_1",
          "2018_2",
          "2018_3",
          "2018_4",
          "2018_5",
          "2018_6",
          "2018_7",
          "2018_8",
          "2018_9",
          "2018_10",
          "2018_11",
          "2018_12",
          "2019_1",
          "2019_2",
          "2019_3",
          "2019_4",
          "2019_5",
          "2019_6",
          "2019_7",
          "2019_8",
          "2019_9",
          "2019_10",
          "2019_11",
          "2019_12",
          "2020_1",
          "2020_2",
          "2020_3",
          "2020_4",
          "2020_5",
          "2020_6",
          "2020_7",
          "2020_8",
          "2020_9",
          "2020_10",
          "2020_11",
          "2020_12",
          "2021_1",
          "2021_2",
          "2021_3",
          "2021_4",
          "2021_5",
          "2021_6",
          "2021_7",
          "2021_8",
          "2021_9",
          "2021_10",
          "2021_11",
          "2021_12",
          "2022_1",
          "2022_2",
          "2022_3"
         ],
         "xaxis": "x",
         "y": [
          77544.55000000003,
          88504.7750000001,
          99684.555,
          104277.14399999997,
          107674.68600000002,
          99033.085,
          109074.05299999999,
          107011.594,
          106054.77100000002,
          104572.49299999994,
          100480.95700000007,
          122305.81300000008,
          84686.16200000005,
          92822.99299999996,
          101458.26100000001,
          108631.96900000001,
          102568.18100000004,
          109436.09800000001,
          122671.48200000002,
          115495.62000000008,
          117547.42400000009,
          117611.59800000003,
          109711.78699999992,
          139201.60000000015,
          86358.18699999998,
          92056.1040000001,
          106392.41900000001,
          107031.714,
          111984.69799999996,
          112672.35599999999,
          121756.23000000016,
          115558.03499999996,
          117230.51100000009,
          106887.4330000001,
          88546.40800000002,
          95571.89400000006,
          62908.9589999999,
          67383.03200000006,
          76917.43299999996,
          76570.97899999999,
          84424.27800000002,
          86099.21000000005,
          78641.131,
          71948.75899999996,
          74780.37600000009,
          74824.953,
          70462.59600000002,
          84159.79699999993,
          54686.12700000002,
          64170.41900000002,
          74138.73300000005,
          78446.91000000006,
          77108.1630000001,
          84263.28700000001,
          84977.53300000001,
          88483.58300000003,
          85308.6379999999,
          85103.84099999999,
          81234.61499999998,
          101330.69200000001,
          72149.30899999992,
          80136.87100000001,
          95829.54800000004,
          90775.05,
          97705.98000000001,
          100219.167,
          105430.56600000002,
          102458.26099999994,
          105863.00500000008,
          104756.134,
          102713.108,
          119323.38300000005,
          95079.65999999997,
          95854.1569999999,
          111468.27800000006,
          106028.0839999999,
          110734.37600000002,
          117254.20700000002,
          125453.86799999996,
          116827.31299999997,
          112236.10199999993,
          116177.71899999994,
          113592.11499999989,
          129213.28800000009,
          100186.86299999998,
          107730.19899999994,
          119849.22900000018,
          117986.68799999997,
          125330.4469999999,
          126166.67200000004,
          135288.07300000003,
          127390.59900000005,
          129300.07000000021,
          130751.50299999994,
          129162.49399999998,
          146750.20999999996,
          107170.40400000001,
          115613.98800000011,
          105456.17099999999,
          69078.67199999993,
          118277.60500000004,
          147334.283,
          166488.13899999985,
          161089.83100000003,
          167666.45500000005,
          157859.05599999992,
          148067.3680000001,
          175015.74799999988,
          132523.25599999988,
          140414.09100000004,
          163289.90800000008,
          168294.72200000015,
          164857.32299999995,
          175433.7799999999,
          181761.8539999999,
          177458.4770000001,
          180538.421,
          176391.99916552193,
          175571.7822134872,
          196163.58993222986,
          145519.78759850908,
          156674.4653716041,
          169081.4788591529
         ],
         "yaxis": "y"
        },
        {
         "hovertemplate": "variable=Italy<br>Year=%{x}<br>value=%{y}<extra></extra>",
         "legendgroup": "Italy",
         "line": {
          "color": "#EF553B",
          "dash": "solid"
         },
         "marker": {
          "symbol": "circle"
         },
         "mode": "lines",
         "name": "Italy",
         "showlegend": true,
         "type": "scattergl",
         "x": [
          "2012_1",
          "2012_2",
          "2012_3",
          "2012_4",
          "2012_5",
          "2012_6",
          "2012_7",
          "2012_8",
          "2012_9",
          "2012_10",
          "2012_11",
          "2012_12",
          "2013_1",
          "2013_2",
          "2013_3",
          "2013_4",
          "2013_5",
          "2013_6",
          "2013_7",
          "2013_8",
          "2013_9",
          "2013_10",
          "2013_11",
          "2013_12",
          "2014_1",
          "2014_2",
          "2014_3",
          "2014_4",
          "2014_5",
          "2014_6",
          "2014_7",
          "2014_8",
          "2014_9",
          "2014_10",
          "2014_11",
          "2014_12",
          "2015_1",
          "2015_2",
          "2015_3",
          "2015_4",
          "2015_5",
          "2015_6",
          "2015_7",
          "2015_8",
          "2015_9",
          "2015_10",
          "2015_11",
          "2015_12",
          "2016_1",
          "2016_2",
          "2016_3",
          "2016_4",
          "2016_5",
          "2016_6",
          "2016_7",
          "2016_8",
          "2016_9",
          "2016_10",
          "2016_11",
          "2016_12",
          "2017_1",
          "2017_2",
          "2017_3",
          "2017_4",
          "2017_5",
          "2017_6",
          "2017_7",
          "2017_8",
          "2017_9",
          "2017_10",
          "2017_11",
          "2017_12",
          "2018_1",
          "2018_2",
          "2018_3",
          "2018_4",
          "2018_5",
          "2018_6",
          "2018_7",
          "2018_8",
          "2018_9",
          "2018_10",
          "2018_11",
          "2018_12",
          "2019_1",
          "2019_2",
          "2019_3",
          "2019_4",
          "2019_5",
          "2019_6",
          "2019_7",
          "2019_8",
          "2019_9",
          "2019_10",
          "2019_11",
          "2019_12",
          "2020_1",
          "2020_2",
          "2020_3",
          "2020_4",
          "2020_5",
          "2020_6",
          "2020_7",
          "2020_8",
          "2020_9",
          "2020_10",
          "2020_11",
          "2020_12",
          "2021_1",
          "2021_2",
          "2021_3",
          "2021_4",
          "2021_5",
          "2021_6",
          "2021_7",
          "2021_8",
          "2021_9",
          "2021_10",
          "2021_11",
          "2021_12",
          "2022_1",
          "2022_2",
          "2022_3"
         ],
         "xaxis": "x",
         "y": [
          8004.252999999999,
          8129.9310000000005,
          9210.226999999999,
          8265.119999999999,
          9066.278,
          8269.474,
          8025.121,
          7941.214,
          7530.377,
          8157.628000000001,
          7925.5869999999995,
          9725.956,
          8028.281000000001,
          8154.377,
          8939.826000000001,
          8664.83,
          8575.389,
          8682.888,
          8756.382000000001,
          9236.347000000002,
          8713.423999999999,
          8932.735999999999,
          8840.045,
          10722.728,
          8908.643,
          9020.742,
          10216.118999999999,
          9444.083,
          10779.393,
          10029.393999999998,
          10252.14,
          10532.911,
          9779.073,
          9204.658000000001,
          8655.741,
          10919.291000000001,
          8323.421,
          8740.088,
          8664.658,
          8032.379000000001,
          9425.385,
          8451.773,
          8865.343,
          8712.176,
          8766.1,
          9318.88,
          8323.264,
          10616.867,
          8377.213,
          9502.606,
          9511.545,
          9520.057,
          9930.699,
          9956.073,
          9717.142,
          10282.627,
          10155.619999999999,
          10282.815,
          10069.094000000001,
          12542.049,
          9835.314,
          10235.616,
          11454.208999999999,
          10346.397,
          11884.219,
          12025.132,
          12261.836,
          12799.911,
          13168.222000000002,
          12762.721,
          12914.253999999999,
          15527.323,
          13435.322,
          13809.471,
          15685.241,
          14341.25,
          15492.726,
          15278.241000000002,
          16175.869,
          16091.811000000002,
          16236.878999999999,
          16475.324,
          16319.801000000001,
          19626.188,
          17268.474000000002,
          17143.578,
          18581.496,
          18135.678,
          19978.606,
          18970.142,
          20530.71,
          20280.447,
          20721.546000000002,
          20585.112,
          19398.781,
          23452.967999999997,
          20710.163,
          21273.325,
          17019.125,
          13220.606,
          27347.208000000002,
          26426.033,
          27680.234999999997,
          27606.940000000002,
          28808.729,
          27081.363999999998,
          24838.269999999997,
          31384.774,
          27026.95,
          28209.677,
          30088.595,
          31311.838,
          31364.353000000003,
          31224.03,
          32792.816,
          33007.291000000005,
          33411.91,
          32369.599068571,
          31396.872402467,
          37276.56178825,
          32811.70221025102,
          32387.797579298996,
          35357.963434993995
         ],
         "yaxis": "y"
        },
        {
         "hovertemplate": "variable=Russian Federation<br>Year=%{x}<br>value=%{y}<extra></extra>",
         "legendgroup": "Russian Federation",
         "line": {
          "color": "#00cc96",
          "dash": "solid"
         },
         "marker": {
          "symbol": "circle"
         },
         "mode": "lines",
         "name": "Russian Federation",
         "showlegend": true,
         "type": "scattergl",
         "x": [
          "2012_1",
          "2012_2",
          "2012_3",
          "2012_4",
          "2012_5",
          "2012_6",
          "2012_7",
          "2012_8",
          "2012_9",
          "2012_10",
          "2012_11",
          "2012_12",
          "2013_1",
          "2013_2",
          "2013_3",
          "2013_4",
          "2013_5",
          "2013_6",
          "2013_7",
          "2013_8",
          "2013_9",
          "2013_10",
          "2013_11",
          "2013_12",
          "2014_1",
          "2014_2",
          "2014_3",
          "2014_4",
          "2014_5",
          "2014_6",
          "2014_7",
          "2014_8",
          "2014_9",
          "2014_10",
          "2014_11",
          "2014_12",
          "2015_1",
          "2015_2",
          "2015_3",
          "2015_4",
          "2015_5",
          "2015_6",
          "2015_7",
          "2015_8",
          "2015_9",
          "2015_10",
          "2015_11",
          "2015_12",
          "2016_1",
          "2016_2",
          "2016_3",
          "2016_4",
          "2016_5",
          "2016_6",
          "2016_7",
          "2016_8",
          "2016_9",
          "2016_10",
          "2016_11",
          "2016_12",
          "2017_1",
          "2017_2",
          "2017_3",
          "2017_4",
          "2017_5",
          "2017_6",
          "2017_7",
          "2017_8",
          "2017_9",
          "2017_10",
          "2017_11",
          "2017_12",
          "2018_1",
          "2018_2",
          "2018_3",
          "2018_4",
          "2018_5",
          "2018_6",
          "2018_7",
          "2018_8",
          "2018_9",
          "2018_10",
          "2018_11",
          "2018_12",
          "2019_1",
          "2019_2",
          "2019_3",
          "2019_4",
          "2019_5",
          "2019_6",
          "2019_7",
          "2019_8",
          "2019_9",
          "2019_10",
          "2019_11",
          "2019_12",
          "2020_1",
          "2020_2",
          "2020_3",
          "2020_4",
          "2020_5",
          "2020_6",
          "2020_7",
          "2020_8",
          "2020_9",
          "2020_10",
          "2020_11",
          "2020_12",
          "2021_1",
          "2021_2",
          "2021_3",
          "2021_4",
          "2021_5",
          "2021_6",
          "2021_7",
          "2021_8",
          "2021_9",
          "2021_10",
          "2021_11",
          "2021_12",
          "2022_1",
          "2022_2",
          "2022_3"
         ],
         "xaxis": "x",
         "y": [
          39512.833,
          48839.943999999996,
          56163.3,
          60879.386,
          62425.672,
          56438.755,
          65435.91100000001,
          66659.954,
          62988.663,
          62125.64599999999,
          59968.44300000001,
          70574.867,
          45743.797,
          52689.316000000006,
          56839.297999999995,
          61742.846,
          57007.852,
          61747.115,
          72023.426,
          68204.887,
          67715.059,
          68129.52399999999,
          61153.73700000001,
          77212.68299999999,
          42656.949,
          45797.475999999995,
          54197.147000000004,
          56555.581000000006,
          58637.023,
          58962.371,
          66659.009,
          61715.4,
          60196.437000000005,
          54585.649999999994,
          39003.903999999995,
          37429.113000000005,
          20772.327999999998,
          21410.344,
          27063.616,
          30063.380000000005,
          32026.818,
          35162.899,
          37987.007,
          31830.586999999996,
          30467.965000000004,
          28925.163,
          27066.195000000003,
          32211.813,
          14216.295999999998,
          17309.281,
          22094.693,
          24056.027,
          23923.471999999998,
          28268.595999999998,
          30814.496,
          29530.507999999998,
          28337.796000000002,
          27084.016999999996,
          28128.733,
          33512.829,
          21184.598,
          23663.574999999997,
          31070.824,
          28591.660999999996,
          30056.025999999998,
          31959.222,
          35284.532,
          31664.522000000004,
          32901.3,
          32142.456,
          31044.407,
          36252.195,
          25507.464,
          25835.278,
          29340.726000000002,
          27469.893999999997,
          28878.537999999997,
          32020.038,
          35519.556,
          34076.094,
          30434.732000000004,
          31524.98,
          30654.172000000002,
          35546.96799999999,
          22291.947,
          25293.038999999997,
          29321.329000000005,
          27842.716,
          28197.341999999997,
          28590.602000000003,
          32740.112999999998,
          28916.088,
          29752.979,
          30707.522,
          31076.235,
          35592.187999999995,
          20447.409,
          21684.074999999997,
          17686.544,
          9622.448,
          15045.274000000001,
          26162.164,
          33705.195,
          27768.507,
          28026.169,
          27846.392000000003,
          25011.733,
          32017.242000000006,
          17926.569,
          18752.164,
          24694.357,
          24965.978,
          24524.229,
          31503.374,
          32555.756,
          30125.01,
          30794.346000000005,
          28365.671410275,
          26126.642400074,
          30570.92996606,
          16458.043273887,
          15651.299906450005,
          24285.623287264996
         ],
         "yaxis": "y"
        },
        {
         "hovertemplate": "variable=United States of America<br>Year=%{x}<br>value=%{y}<extra></extra>",
         "legendgroup": "United States of America",
         "line": {
          "color": "#ab63fa",
          "dash": "solid"
         },
         "marker": {
          "symbol": "circle"
         },
         "mode": "lines",
         "name": "United States of America",
         "showlegend": true,
         "type": "scattergl",
         "x": [
          "2012_1",
          "2012_2",
          "2012_3",
          "2012_4",
          "2012_5",
          "2012_6",
          "2012_7",
          "2012_8",
          "2012_9",
          "2012_10",
          "2012_11",
          "2012_12",
          "2013_1",
          "2013_2",
          "2013_3",
          "2013_4",
          "2013_5",
          "2013_6",
          "2013_7",
          "2013_8",
          "2013_9",
          "2013_10",
          "2013_11",
          "2013_12",
          "2014_1",
          "2014_2",
          "2014_3",
          "2014_4",
          "2014_5",
          "2014_6",
          "2014_7",
          "2014_8",
          "2014_9",
          "2014_10",
          "2014_11",
          "2014_12",
          "2015_1",
          "2015_2",
          "2015_3",
          "2015_4",
          "2015_5",
          "2015_6",
          "2015_7",
          "2015_8",
          "2015_9",
          "2015_10",
          "2015_11",
          "2015_12",
          "2016_1",
          "2016_2",
          "2016_3",
          "2016_4",
          "2016_5",
          "2016_6",
          "2016_7",
          "2016_8",
          "2016_9",
          "2016_10",
          "2016_11",
          "2016_12",
          "2017_1",
          "2017_2",
          "2017_3",
          "2017_4",
          "2017_5",
          "2017_6",
          "2017_7",
          "2017_8",
          "2017_9",
          "2017_10",
          "2017_11",
          "2017_12",
          "2018_1",
          "2018_2",
          "2018_3",
          "2018_4",
          "2018_5",
          "2018_6",
          "2018_7",
          "2018_8",
          "2018_9",
          "2018_10",
          "2018_11",
          "2018_12",
          "2019_1",
          "2019_2",
          "2019_3",
          "2019_4",
          "2019_5",
          "2019_6",
          "2019_7",
          "2019_8",
          "2019_9",
          "2019_10",
          "2019_11",
          "2019_12",
          "2020_1",
          "2020_2",
          "2020_3",
          "2020_4",
          "2020_5",
          "2020_6",
          "2020_7",
          "2020_8",
          "2020_9",
          "2020_10",
          "2020_11",
          "2020_12",
          "2021_1",
          "2021_2",
          "2021_3",
          "2021_4",
          "2021_5",
          "2021_6",
          "2021_7",
          "2021_8",
          "2021_9",
          "2021_10",
          "2021_11",
          "2021_12",
          "2022_1",
          "2022_2",
          "2022_3"
         ],
         "xaxis": "x",
         "y": [
          5319.4619999999995,
          5607.231,
          6349.249000000001,
          6341.819,
          6503.77,
          6408.246999999999,
          6258.398999999999,
          5913.246999999999,
          5999.753000000001,
          5646.482,
          5287.428,
          6442.316,
          4893.348999999999,
          5241.017000000001,
          6030.873,
          6244.313,
          6373.425,
          6077.988,
          6379.111,
          6097.493,
          6023.942,
          6310.426,
          6006.706,
          6979.120000000001,
          5242.263,
          5399.739,
          6153.496,
          6307.158,
          6731.148,
          6559.856,
          7055.023,
          6888.886,
          7198.091,
          7021.852,
          6735.546,
          8362.831,
          6299.531,
          6956.146,
          8257.306999999999,
          7963.82,
          8275.513,
          8339.127,
          8054.326000000001,
          8363.844,
          8510.042000000001,
          8512.387999999999,
          8015.493,
          9882.893,
          7284.894,
          8560.882,
          9608.677000000001,
          9534.238000000001,
          9511.079,
          10355.744,
          10683.524,
          11292.703,
          11837.608,
          11213.11,
          9993.326,
          13731.769,
          9255.215,
          9887.31,
          11477.837,
          10818.871,
          11654.712000000001,
          11793.106,
          12466.276,
          12366.731,
          12202.793,
          11865.276,
          11166.812,
          12897.753999999999,
          10270.677,
          8020.682,
          12704.499,
          12427.636,
          13556.655,
          13797.945,
          14596.41,
          14541.078,
          13803.207,
          13825.831999999999,
          12693.398,
          14682.543,
          11918.5,
          12347.997,
          14369.811,
          14322.002,
          15613.889,
          14930.254,
          15594.68,
          14694.070000000002,
          14977.266,
          14739.386,
          13991.28,
          16054.295,
          13144.877,
          13915.82,
          14719.063,
          9604.491,
          15046.703,
          19804.853,
          22232.053,
          21819.983,
          22360.066000000003,
          21000.989,
          19379.428,
          21970.814000000002,
          17854.549,
          18932.791,
          23824.409,
          24618.069,
          23912.933999999997,
          24714.445,
          25237.229,
          24259.463,
          24196.461,
          23201.975041629,
          23495.415488208,
          26102.902497044004,
          19828.072223841,
          20475.534698274,
          24783.648596322
         ],
         "yaxis": "y"
        },
        {
         "hovertemplate": "variable=Greece<br>Year=%{x}<br>value=%{y}<extra></extra>",
         "legendgroup": "Greece",
         "line": {
          "color": "#FFA15A",
          "dash": "solid"
         },
         "marker": {
          "symbol": "circle"
         },
         "mode": "lines",
         "name": "Greece",
         "showlegend": true,
         "type": "scattergl",
         "x": [
          "2012_1",
          "2012_2",
          "2012_3",
          "2012_4",
          "2012_5",
          "2012_6",
          "2012_7",
          "2012_8",
          "2012_9",
          "2012_10",
          "2012_11",
          "2012_12",
          "2013_1",
          "2013_2",
          "2013_3",
          "2013_4",
          "2013_5",
          "2013_6",
          "2013_7",
          "2013_8",
          "2013_9",
          "2013_10",
          "2013_11",
          "2013_12",
          "2014_1",
          "2014_2",
          "2014_3",
          "2014_4",
          "2014_5",
          "2014_6",
          "2014_7",
          "2014_8",
          "2014_9",
          "2014_10",
          "2014_11",
          "2014_12",
          "2015_1",
          "2015_2",
          "2015_3",
          "2015_4",
          "2015_5",
          "2015_6",
          "2015_7",
          "2015_8",
          "2015_9",
          "2015_10",
          "2015_11",
          "2015_12",
          "2016_1",
          "2016_2",
          "2016_3",
          "2016_4",
          "2016_5",
          "2016_6",
          "2016_7",
          "2016_8",
          "2016_9",
          "2016_10",
          "2016_11",
          "2016_12",
          "2017_1",
          "2017_2",
          "2017_3",
          "2017_4",
          "2017_5",
          "2017_6",
          "2017_7",
          "2017_8",
          "2017_9",
          "2017_10",
          "2017_11",
          "2017_12",
          "2018_1",
          "2018_2",
          "2018_3",
          "2018_4",
          "2018_5",
          "2018_6",
          "2018_7",
          "2018_8",
          "2018_9",
          "2018_10",
          "2018_11",
          "2018_12",
          "2019_1",
          "2019_2",
          "2019_3",
          "2019_4",
          "2019_5",
          "2019_6",
          "2019_7",
          "2019_8",
          "2019_9",
          "2019_10",
          "2019_11",
          "2019_12",
          "2020_1",
          "2020_2",
          "2020_3",
          "2020_4",
          "2020_5",
          "2020_6",
          "2020_7",
          "2020_8",
          "2020_9",
          "2020_10",
          "2020_11",
          "2020_12",
          "2021_1",
          "2021_2",
          "2021_3",
          "2021_4",
          "2021_5",
          "2021_6",
          "2021_7",
          "2021_8",
          "2021_9",
          "2021_10",
          "2021_11",
          "2021_12",
          "2022_1",
          "2022_2",
          "2022_3"
         ],
         "xaxis": "x",
         "y": [
          10839.132000000001,
          11318.804,
          11890.737000000001,
          13757.69,
          13427.944,
          12220.188,
          12643.737,
          10784.883,
          12821.702000000001,
          12606.785,
          11389.275,
          15476.961,
          11715.537,
          12537.783,
          14224.467999999999,
          15363.126,
          13915.443000000001,
          16339.453999999998,
          16380.356999999998,
          14417.396999999999,
          17144.504999999997,
          15761.475,
          14537.928,
          18596.924,
          13430.08,
          14852.137,
          16551.623,
          15810.463,
          16108.26,
          16725.783,
          16756.717999999997,
          15446.414999999999,
          16506.896999999997,
          14157.357,
          13445.416000000001,
          16197.83,
          10853.072,
          12100.886,
          12904.788,
          11977.471,
          13824.956,
          12587.228,
          843.725,
          1140.937,
          6353.549,
          7295.892000000001,
          7922.302999999999,
          8793.51,
          7146.425,
          8444.520999999999,
          9039.855,
          10885.457,
          9817.922,
          10314.137,
          10033.054,
          9554.467,
          9829.497000000001,
          10311.349999999999,
          7623.7300000000005,
          10842.863,
          8686.573,
          9586.916,
          10933.509,
          10389.327,
          10987.311000000002,
          10851.124,
          10095.925,
          10915.845,
          12455.225,
          12452.598,
          11705.752,
          14333.927000000001,
          11743.131,
          12603.761999999999,
          12887.048,
          14312.243999999999,
          12557.899,
          13082.688,
          14203.962000000001,
          11894.553,
          13426.728,
          14513.738,
          13817.579,
          16237.585000000001,
          12705.082,
          13396.094,
          15155.197,
          15557.462,
          15892.659000000001,
          16299.235999999999,
          16164.527,
          13859.91,
          15057.61,
          14924.243,
          14937.444,
          18548.845,
          14117.871,
          15421.126,
          15444.599,
          9839.925000000001,
          18249.99,
          19051.407,
          19179.482,
          19618.192,
          20374.951999999997,
          18634.019,
          17240.822,
          21442.584000000003,
          17808.31,
          18810.282,
          19713.183,
          20653.165999999997,
          19362.161,
          18934.424,
          19387.772999999997,
          18171.347,
          18750.203,
          17888.165528803995,
          17629.809755176,
          18790.417738837998,
          15628.686491912003,
          14124.443146672,
          17286.407722623
         ],
         "yaxis": "y"
        },
        {
         "hovertemplate": "variable=Israel<br>Year=%{x}<br>value=%{y}<extra></extra>",
         "legendgroup": "Israel",
         "line": {
          "color": "#19d3f3",
          "dash": "solid"
         },
         "marker": {
          "symbol": "circle"
         },
         "mode": "lines",
         "name": "Israel",
         "showlegend": true,
         "type": "scattergl",
         "x": [
          "2012_1",
          "2012_2",
          "2012_3",
          "2012_4",
          "2012_5",
          "2012_6",
          "2012_7",
          "2012_8",
          "2012_9",
          "2012_10",
          "2012_11",
          "2012_12",
          "2013_1",
          "2013_2",
          "2013_3",
          "2013_4",
          "2013_5",
          "2013_6",
          "2013_7",
          "2013_8",
          "2013_9",
          "2013_10",
          "2013_11",
          "2013_12",
          "2014_1",
          "2014_2",
          "2014_3",
          "2014_4",
          "2014_5",
          "2014_6",
          "2014_7",
          "2014_8",
          "2014_9",
          "2014_10",
          "2014_11",
          "2014_12",
          "2015_1",
          "2015_2",
          "2015_3",
          "2015_4",
          "2015_5",
          "2015_6",
          "2015_7",
          "2015_8",
          "2015_9",
          "2015_10",
          "2015_11",
          "2015_12",
          "2016_1",
          "2016_2",
          "2016_3",
          "2016_4",
          "2016_5",
          "2016_6",
          "2016_7",
          "2016_8",
          "2016_9",
          "2016_10",
          "2016_11",
          "2016_12",
          "2017_1",
          "2017_2",
          "2017_3",
          "2017_4",
          "2017_5",
          "2017_6",
          "2017_7",
          "2017_8",
          "2017_9",
          "2017_10",
          "2017_11",
          "2017_12",
          "2018_1",
          "2018_2",
          "2018_3",
          "2018_4",
          "2018_5",
          "2018_6",
          "2018_7",
          "2018_8",
          "2018_9",
          "2018_10",
          "2018_11",
          "2018_12",
          "2019_1",
          "2019_2",
          "2019_3",
          "2019_4",
          "2019_5",
          "2019_6",
          "2019_7",
          "2019_8",
          "2019_9",
          "2019_10",
          "2019_11",
          "2019_12",
          "2020_1",
          "2020_2",
          "2020_3",
          "2020_4",
          "2020_5",
          "2020_6",
          "2020_7",
          "2020_8",
          "2020_9",
          "2020_10",
          "2020_11",
          "2020_12",
          "2021_1",
          "2021_2",
          "2021_3",
          "2021_4",
          "2021_5",
          "2021_6",
          "2021_7",
          "2021_8",
          "2021_9",
          "2021_10",
          "2021_11",
          "2021_12",
          "2022_1",
          "2022_2",
          "2022_3"
         ],
         "xaxis": "x",
         "y": [
          852.114,
          1184.4679999999998,
          1297.4279999999999,
          1335.096,
          1318.984,
          1063.832,
          1288.595,
          1255.693,
          1255.266,
          1128.746,
          1318.3990000000001,
          1501.163,
          1184.12,
          1397.4540000000002,
          1505.905,
          1479.51,
          1601.4109999999998,
          1480.978,
          1860.3200000000002,
          1574.22,
          1561.086,
          1626.656,
          1468.089,
          1648.35,
          1335.046,
          1356.594,
          1665.8329999999999,
          1742.3639999999998,
          1727.286,
          1829.402,
          1701.538,
          1993.164,
          2204.0679999999998,
          1990.301,
          1880.3450000000003,
          2398.698,
          1814.3670000000002,
          2069.523,
          2416.396,
          2275.075,
          2290.343,
          2544.266,
          2710.3089999999997,
          2605.0939999999996,
          2758.505,
          2888.628,
          2935.4030000000002,
          3469.41,
          3057.989,
          3783.326,
          4225.086,
          4384.127,
          4254.686000000001,
          4797.6630000000005,
          4679.452,
          5270.982000000001,
          5581.070000000001,
          5383.763,
          5623.35,
          6616.712,
          5902.606000000001,
          7151.677000000001,
          8244.555,
          8705.331,
          9009.589,
          10103.924,
          10072.455999999998,
          10347.09,
          11255.183,
          10628.576000000001,
          11056.273,
          11917.802,
          11384.195,
          11408.481,
          12582.928,
          11587.231,
          12381.123000000001,
          12984.079,
          13040.756,
          12687.346000000001,
          12238.808,
          11567.651,
          12426.657,
          12311.644,
          12035.577000000001,
          12484.497,
          12760.088,
          13005.685,
          13376.624,
          13091.777,
          14027.656,
          13667.392,
          13142.97,
          13290.344000000001,
          13382.242999999999,
          14069.256000000001,
          12767.378,
          14110.766,
          11452.114,
          6765.621,
          11137.421,
          13535.971,
          13750.012999999999,
          13974.677,
          13660.174,
          13518.846,
          13361.110999999999,
          15207.428,
          12914.536,
          13656.359999999999,
          15318.892,
          15161.050000000001,
          14458.969,
          15307.033000000001,
          15646.198999999999,
          16258.543,
          15064.579,
          14833.518706118004,
          16523.753115438998,
          17146.378062563002,
          14473.708691338998,
          13615.719121418995,
          16403.228472927
         ],
         "yaxis": "y"
        },
        {
         "hovertemplate": "variable=Germany<br>Year=%{x}<br>value=%{y}<extra></extra>",
         "legendgroup": "Germany",
         "line": {
          "color": "#FF6692",
          "dash": "solid"
         },
         "marker": {
          "symbol": "circle"
         },
         "mode": "lines",
         "name": "Germany",
         "showlegend": true,
         "type": "scattergl",
         "x": [
          "2012_1",
          "2012_2",
          "2012_3",
          "2012_4",
          "2012_5",
          "2012_6",
          "2012_7",
          "2012_8",
          "2012_9",
          "2012_10",
          "2012_11",
          "2012_12",
          "2013_1",
          "2013_2",
          "2013_3",
          "2013_4",
          "2013_5",
          "2013_6",
          "2013_7",
          "2013_8",
          "2013_9",
          "2013_10",
          "2013_11",
          "2013_12",
          "2014_1",
          "2014_2",
          "2014_3",
          "2014_4",
          "2014_5",
          "2014_6",
          "2014_7",
          "2014_8",
          "2014_9",
          "2014_10",
          "2014_11",
          "2014_12",
          "2015_1",
          "2015_2",
          "2015_3",
          "2015_4",
          "2015_5",
          "2015_6",
          "2015_7",
          "2015_8",
          "2015_9",
          "2015_10",
          "2015_11",
          "2015_12",
          "2016_1",
          "2016_2",
          "2016_3",
          "2016_4",
          "2016_5",
          "2016_6",
          "2016_7",
          "2016_8",
          "2016_9",
          "2016_10",
          "2016_11",
          "2016_12",
          "2017_1",
          "2017_2",
          "2017_3",
          "2017_4",
          "2017_5",
          "2017_6",
          "2017_7",
          "2017_8",
          "2017_9",
          "2017_10",
          "2017_11",
          "2017_12",
          "2018_1",
          "2018_2",
          "2018_3",
          "2018_4",
          "2018_5",
          "2018_6",
          "2018_7",
          "2018_8",
          "2018_9",
          "2018_10",
          "2018_11",
          "2018_12",
          "2019_1",
          "2019_2",
          "2019_3",
          "2019_4",
          "2019_5",
          "2019_6",
          "2019_7",
          "2019_8",
          "2019_9",
          "2019_10",
          "2019_11",
          "2019_12",
          "2020_1",
          "2020_2",
          "2020_3",
          "2020_4",
          "2020_5",
          "2020_6",
          "2020_7",
          "2020_8",
          "2020_9",
          "2020_10",
          "2020_11",
          "2020_12",
          "2021_1",
          "2021_2",
          "2021_3",
          "2021_4",
          "2021_5",
          "2021_6",
          "2021_7",
          "2021_8",
          "2021_9",
          "2021_10",
          "2021_11",
          "2021_12",
          "2022_1",
          "2022_2",
          "2022_3"
         ],
         "xaxis": "x",
         "y": [
          565.107,
          863.656,
          840.7920000000001,
          817.722,
          973.7629999999999,
          883.8019999999999,
          778.4169999999999,
          779.4399999999999,
          816.196,
          810.629,
          904.029,
          1163.807,
          881.4069999999999,
          1043.551,
          1095.182,
          1234.801,
          1161.452,
          1114.5040000000001,
          1141.205,
          1115.796,
          1188.212,
          1319.1979999999999,
          1272.564,
          1647.2340000000002,
          1235.107,
          1408.372,
          1621.931,
          1598.195,
          1679.885,
          1745.608,
          1691.617,
          1729.274,
          1810.607,
          1843.7399999999998,
          1746.3809999999999,
          2288.273,
          1566.7340000000002,
          1693.435,
          1742.7359999999999,
          1634.676,
          1952.3310000000001,
          1875.748,
          1931.025,
          1908.322,
          2210.5640000000003,
          2249.978,
          1992.1140000000003,
          2509.3199999999997,
          1801.618,
          2168.017,
          2297.353,
          2396.4669999999996,
          2086.9320000000002,
          2347.44,
          2079.598,
          1991.123,
          2213.591,
          2242.54,
          2193.4790000000003,
          2601.107,
          2041.5529999999999,
          2151.1279999999997,
          2310.152,
          2276.185,
          2433.395,
          2423.743,
          2462.05,
          2509.837,
          2806.955,
          2823.816,
          2823.022,
          3262.063,
          2398.4489999999996,
          2686.1059999999998,
          3182.495,
          3077.8469999999998,
          3109.413,
          3290.649,
          3118.52,
          2929.2290000000003,
          3071.6949999999997,
          3419.6189999999997,
          3310.192,
          3749.376,
          2726.293,
          3279.031,
          3580.6589999999997,
          3448.594,
          3983.937,
          3757.918,
          4042.782,
          3896.9390000000003,
          3976.5190000000002,
          4075.0409999999997,
          4201.8240000000005,
          4820.327,
          3461.435,
          4284.809,
          4588.704,
          3587.224,
          5132.648,
          6298.841,
          6513.005999999999,
          6421.164,
          7028.412,
          7402.536999999999,
          7073.187,
          7926.958,
          5700.253000000001,
          6657.558,
          8021.883999999999,
          8339.565,
          8699.705,
          9229.999,
          9489.34,
          9563.679,
          10388.654999999999,
          10349.50058741,
          10355.221725725001,
          11006.950138803999,
          8347.165512861999,
          10812.208435952998,
          10661.040121526003
         ],
         "yaxis": "y"
        },
        {
         "hovertemplate": "variable=Turkey<br>Year=%{x}<br>value=%{y}<extra></extra>",
         "legendgroup": "Turkey",
         "line": {
          "color": "#B6E880",
          "dash": "solid"
         },
         "marker": {
          "symbol": "circle"
         },
         "mode": "lines",
         "name": "Turkey",
         "showlegend": true,
         "type": "scattergl",
         "x": [
          "2012_1",
          "2012_2",
          "2012_3",
          "2012_4",
          "2012_5",
          "2012_6",
          "2012_7",
          "2012_8",
          "2012_9",
          "2012_10",
          "2012_11",
          "2012_12",
          "2013_1",
          "2013_2",
          "2013_3",
          "2013_4",
          "2013_5",
          "2013_6",
          "2013_7",
          "2013_8",
          "2013_9",
          "2013_10",
          "2013_11",
          "2013_12",
          "2014_1",
          "2014_2",
          "2014_3",
          "2014_4",
          "2014_5",
          "2014_6",
          "2014_7",
          "2014_8",
          "2014_9",
          "2014_10",
          "2014_11",
          "2014_12",
          "2015_1",
          "2015_2",
          "2015_3",
          "2015_4",
          "2015_5",
          "2015_6",
          "2015_7",
          "2015_8",
          "2015_9",
          "2015_10",
          "2015_11",
          "2015_12",
          "2016_1",
          "2016_2",
          "2016_3",
          "2016_4",
          "2016_5",
          "2016_6",
          "2016_7",
          "2016_8",
          "2016_9",
          "2016_10",
          "2016_11",
          "2016_12",
          "2017_1",
          "2017_2",
          "2017_3",
          "2017_4",
          "2017_5",
          "2017_6",
          "2017_7",
          "2017_8",
          "2017_9",
          "2017_10",
          "2017_11",
          "2017_12",
          "2018_1",
          "2018_2",
          "2018_3",
          "2018_4",
          "2018_5",
          "2018_6",
          "2018_7",
          "2018_8",
          "2018_9",
          "2018_10",
          "2018_11",
          "2018_12",
          "2019_1",
          "2019_2",
          "2019_3",
          "2019_4",
          "2019_5",
          "2019_6",
          "2019_7",
          "2019_8",
          "2019_9",
          "2019_10",
          "2019_11",
          "2019_12",
          "2020_1",
          "2020_2",
          "2020_3",
          "2020_4",
          "2020_5",
          "2020_6",
          "2020_7",
          "2020_8",
          "2020_9",
          "2020_10",
          "2020_11",
          "2020_12",
          "2021_1",
          "2021_2",
          "2021_3",
          "2021_4",
          "2021_5",
          "2021_6",
          "2021_7",
          "2021_8",
          "2021_9",
          "2021_10",
          "2021_11",
          "2021_12",
          "2022_1",
          "2022_2",
          "2022_3"
         ],
         "xaxis": "x",
         "y": [
          1399.0549999999998,
          2075.808,
          2176.674,
          1781.005,
          2622.4950000000003,
          2508.4210000000003,
          2164.327,
          2389.047,
          2519.265,
          2311.382,
          2125.53,
          2333.363,
          1926.4609999999998,
          2381.4739999999997,
          2458.652,
          2972.635,
          3438.439,
          3516.301,
          3650.6670000000004,
          3193.791,
          3370.313,
          3230.2479999999996,
          3626.791,
          3668.694,
          3091.7259999999997,
          3992.8839999999996,
          5112.21,
          4578.535000000001,
          5291.583,
          5320.28,
          4612.649,
          4728.965,
          5483.326999999999,
          5307.811,
          5306.289,
          5792.477,
          4440.99,
          5271.213,
          6125.559,
          5214.818,
          5846.753000000001,
          6205.312,
          5847.255,
          5402.079,
          4590.474,
          4350.337,
          4414.259,
          4745.51,
          3815.621,
          4357.028,
          6691.302000000001,
          6581.91,
          6741.268,
          6884.255999999999,
          6501.652,
          7047.083,
          6550.2789999999995,
          7723.449999999999,
          6984.762000000001,
          7219.847,
          5450.331,
          6549.001,
          7873.932000000001,
          7185.705,
          8459.046999999999,
          8052.086000000001,
          8112.351999999999,
          7885.558,
          7773.418999999999,
          8230.362000000001,
          7594.102,
          8386.559000000001,
          7442.855,
          8427.974999999999,
          8876.776,
          7693.693000000001,
          7522.961000000001,
          8063.480000000001,
          8157.657,
          5249.688,
          4856.790999999999,
          4879.441000000001,
          5140.950000000001,
          5428.532999999999,
          4934.105,
          5786.9400000000005,
          5659.243999999999,
          5365.256,
          4790.182000000001,
          5452.137000000001,
          5644.655000000001,
          5614.861,
          4777.434,
          4530.137,
          4125.026,
          4052.2599999999993,
          3717.9860000000003,
          4637.723,
          5393.946,
          4084.4990000000003,
          5522.874,
          5026.76,
          5882.393999999999,
          4138.1630000000005,
          4658.6759999999995,
          5270.664000000001,
          4643.072,
          5944.2069999999985,
          3640.687,
          3534.3869999999997,
          3800.615999999999,
          4233.526000000001,
          3112.0879999999997,
          2842.121,
          3357.378999999999,
          3106.648000000001,
          2892.5059999999994,
          1034.7886261370004,
          779.0603572289992,
          874.5135110450001,
          1212.7126460810005,
          1929.1950284700006,
          3278.509116538
         ],
         "yaxis": "y"
        },
        {
         "hovertemplate": "variable=Kazakhstan<br>Year=%{x}<br>value=%{y}<extra></extra>",
         "legendgroup": "Kazakhstan",
         "line": {
          "color": "#FF97FF",
          "dash": "solid"
         },
         "marker": {
          "symbol": "circle"
         },
         "mode": "lines",
         "name": "Kazakhstan",
         "showlegend": true,
         "type": "scattergl",
         "x": [
          "2012_1",
          "2012_2",
          "2012_3",
          "2012_4",
          "2012_5",
          "2012_6",
          "2012_7",
          "2012_8",
          "2012_9",
          "2012_10",
          "2012_11",
          "2012_12",
          "2013_1",
          "2013_2",
          "2013_3",
          "2013_4",
          "2013_5",
          "2013_6",
          "2013_7",
          "2013_8",
          "2013_9",
          "2013_10",
          "2013_11",
          "2013_12",
          "2014_1",
          "2014_2",
          "2014_3",
          "2014_4",
          "2014_5",
          "2014_6",
          "2014_7",
          "2014_8",
          "2014_9",
          "2014_10",
          "2014_11",
          "2014_12",
          "2015_1",
          "2015_2",
          "2015_3",
          "2015_4",
          "2015_5",
          "2015_6",
          "2015_7",
          "2015_8",
          "2015_9",
          "2015_10",
          "2015_11",
          "2015_12",
          "2016_1",
          "2016_2",
          "2016_3",
          "2016_4",
          "2016_5",
          "2016_6",
          "2016_7",
          "2016_8",
          "2016_9",
          "2016_10",
          "2016_11",
          "2016_12",
          "2017_1",
          "2017_2",
          "2017_3",
          "2017_4",
          "2017_5",
          "2017_6",
          "2017_7",
          "2017_8",
          "2017_9",
          "2017_10",
          "2017_11",
          "2017_12",
          "2018_1",
          "2018_2",
          "2018_3",
          "2018_4",
          "2018_5",
          "2018_6",
          "2018_7",
          "2018_8",
          "2018_9",
          "2018_10",
          "2018_11",
          "2018_12",
          "2019_1",
          "2019_2",
          "2019_3",
          "2019_4",
          "2019_5",
          "2019_6",
          "2019_7",
          "2019_8",
          "2019_9",
          "2019_10",
          "2019_11",
          "2019_12",
          "2020_1",
          "2020_2",
          "2020_3",
          "2020_4",
          "2020_5",
          "2020_6",
          "2020_7",
          "2020_8",
          "2020_9",
          "2020_10",
          "2020_11",
          "2020_12",
          "2021_1",
          "2021_2",
          "2021_3",
          "2021_4",
          "2021_5",
          "2021_6",
          "2021_7",
          "2021_8",
          "2021_9",
          "2021_10",
          "2021_11",
          "2021_12",
          "2022_1",
          "2022_2",
          "2022_3"
         ],
         "xaxis": "x",
         "y": [
          529.04,
          515.6370000000001,
          812.475,
          667.534,
          630.1750000000001,
          710.854,
          1132.051,
          1023.921,
          1278.644,
          1273.1299999999999,
          1225.529,
          1248.766,
          509.997,
          760.732,
          1011.5490000000001,
          949.637,
          1030.316,
          996.8290000000001,
          1633.152,
          1329.169,
          1239.109,
          1203.9170000000001,
          1393.3719999999998,
          1524.161,
          836.8699999999999,
          684.62,
          956.0239999999999,
          987.944,
          1088.143,
          1140.723,
          1490.24,
          1435.969,
          1406.8310000000001,
          1363.347,
          1405.605,
          1518.233,
          891.718,
          887.2370000000001,
          778.1730000000001,
          988.2220000000001,
          919.6869999999999,
          1106.2379999999998,
          1425.105,
          929.328,
          1002.8519999999999,
          911.6970000000001,
          425.7829999999999,
          679.4069999999999,
          384.668,
          758.1990000000001,
          509.003,
          554.8109999999999,
          502.267,
          945.86,
          698.954,
          838.28,
          567.375,
          600.429,
          530.733,
          715.576,
          353.69300000000004,
          512.024,
          728.6890000000001,
          673.0229999999999,
          863.395,
          1069.067,
          1002.9660000000001,
          900.329,
          1008.078,
          651.0149999999999,
          733.838,
          854.7349999999999,
          583.1679999999999,
          602.647,
          920.9170000000001,
          692.524,
          1151.897,
          1090.1970000000001,
          1197.3739999999998,
          1121.185,
          800.4190000000001,
          927.4569999999999,
          959.1469999999999,
          1170.8670000000002,
          724.367,
          744.8439999999999,
          725.9170000000001,
          735.5179999999999,
          1301.7129999999997,
          1735.1619999999998,
          1828.6349999999998,
          1971.188,
          2585.367,
          2555.0080000000003,
          2419.728,
          2631.8900000000003,
          1399.965,
          1052.843,
          539.164,
          370.817,
          467.245,
          1034.796,
          942.1809999999999,
          1134.3210000000001,
          1448.1799999999998,
          1396.0900000000001,
          1799.3849999999998,
          2362.005,
          1892.7849999999999,
          1400.068,
          1825.3690000000001,
          1843.255,
          2537.248,
          3944.568,
          4401.858,
          3882.4120000000003,
          5131.811,
          6534.482985269999,
          8477.518422419,
          12503.542039251,
          6030.706122459001,
          12960.183523767002,
          6822.467081991001
         ],
         "yaxis": "y"
        },
        {
         "hovertemplate": "variable=Azerbaijan<br>Year=%{x}<br>value=%{y}<extra></extra>",
         "legendgroup": "Azerbaijan",
         "line": {
          "color": "#FECB52",
          "dash": "solid"
         },
         "marker": {
          "symbol": "circle"
         },
         "mode": "lines",
         "name": "Azerbaijan",
         "showlegend": true,
         "type": "scattergl",
         "x": [
          "2012_1",
          "2012_2",
          "2012_3",
          "2012_4",
          "2012_5",
          "2012_6",
          "2012_7",
          "2012_8",
          "2012_9",
          "2012_10",
          "2012_11",
          "2012_12",
          "2013_1",
          "2013_2",
          "2013_3",
          "2013_4",
          "2013_5",
          "2013_6",
          "2013_7",
          "2013_8",
          "2013_9",
          "2013_10",
          "2013_11",
          "2013_12",
          "2014_1",
          "2014_2",
          "2014_3",
          "2014_4",
          "2014_5",
          "2014_6",
          "2014_7",
          "2014_8",
          "2014_9",
          "2014_10",
          "2014_11",
          "2014_12",
          "2015_1",
          "2015_2",
          "2015_3",
          "2015_4",
          "2015_5",
          "2015_6",
          "2015_7",
          "2015_8",
          "2015_9",
          "2015_10",
          "2015_11",
          "2015_12",
          "2016_1",
          "2016_2",
          "2016_3",
          "2016_4",
          "2016_5",
          "2016_6",
          "2016_7",
          "2016_8",
          "2016_9",
          "2016_10",
          "2016_11",
          "2016_12",
          "2017_1",
          "2017_2",
          "2017_3",
          "2017_4",
          "2017_5",
          "2017_6",
          "2017_7",
          "2017_8",
          "2017_9",
          "2017_10",
          "2017_11",
          "2017_12",
          "2018_1",
          "2018_2",
          "2018_3",
          "2018_4",
          "2018_5",
          "2018_6",
          "2018_7",
          "2018_8",
          "2018_9",
          "2018_10",
          "2018_11",
          "2018_12",
          "2019_1",
          "2019_2",
          "2019_3",
          "2019_4",
          "2019_5",
          "2019_6",
          "2019_7",
          "2019_8",
          "2019_9",
          "2019_10",
          "2019_11",
          "2019_12",
          "2020_1",
          "2020_2",
          "2020_3",
          "2020_4",
          "2020_5",
          "2020_6",
          "2020_7",
          "2020_8",
          "2020_9",
          "2020_10",
          "2020_11",
          "2020_12",
          "2021_1",
          "2021_2",
          "2021_3",
          "2021_4",
          "2021_5",
          "2021_6",
          "2021_7",
          "2021_8",
          "2021_9",
          "2021_10",
          "2021_11",
          "2021_12",
          "2022_1",
          "2022_2",
          "2022_3"
         ],
         "xaxis": "x",
         "y": [
          378.937,
          425.4,
          517.1389999999999,
          537.289,
          530.324,
          659.8900000000001,
          704.671,
          591.332,
          735.9860000000001,
          701.297,
          675.7860000000001,
          900.589,
          822.4910000000001,
          919.6709999999999,
          728.279,
          699.1700000000001,
          696.681,
          561.994,
          821.433,
          757.531,
          817.3709999999999,
          707.613,
          1027.6550000000002,
          1210.536,
          774.181,
          712.74,
          710.1220000000001,
          739.86,
          689.5759999999999,
          831.3670000000001,
          844.159,
          742.0350000000001,
          875.8040000000001,
          1098.718,
          889.7470000000001,
          1406.605,
          772.973,
          656.9720000000001,
          684.7179999999998,
          657.9140000000001,
          764.631,
          653.603,
          734.489,
          709.921,
          295.5239999999999,
          824.869,
          653.113,
          729.0009999999999,
          483.852,
          340.173,
          444.13899999999995,
          496.00700000000006,
          349.1170000000001,
          177.52599999999995,
          275.456,
          1173.0359999999998,
          545.446,
          317.8430000000001,
          366.144,
          985.571,
          754.5629999999999,
          681.7040000000001,
          622.4459999999999,
          585.577,
          522.381,
          431.6379999999999,
          461.26300000000003,
          468.8860000000001,
          36.003000000000156,
          154.529,
          659.8080000000001,
          470.65100000000007,
          637.6819999999999,
          466.255,
          719.358,
          519.498,
          459.71399999999994,
          601.737,
          665.9839999999999,
          902.721,
          469.47800000000007,
          821.31,
          923.6509999999998,
          1053.9270000000001,
          768.3090000000001,
          575.085,
          734.093,
          598.434,
          253.30099999999993,
          556.2629999999999,
          897.0610000000001,
          600.893,
          723.221,
          841.6569999999999,
          470.0730000000001,
          665.4309999999998,
          468.125,
          782.5880000000002,
          1309.4460000000001,
          1676.8680000000002,
          2347.788,
          3134.5789999999997,
          4551.522,
          5565.061,
          5838.235,
          3822.75,
          4091.2110000000002,
          4114.831,
          4181.866,
          4680.388,
          5908.731,
          7378.869,
          6211.643,
          5206.674,
          4747.796,
          5355.627,
          6048.253,
          5240.761937314999,
          5367.057737503001,
          4677.986504865001,
          2976.4997606089996,
          3265.0104533660005,
          3105.005323425
         ],
         "yaxis": "y"
        },
        {
         "hovertemplate": "variable=Spain<br>Year=%{x}<br>value=%{y}<extra></extra>",
         "legendgroup": "Spain",
         "line": {
          "color": "#636efa",
          "dash": "solid"
         },
         "marker": {
          "symbol": "circle"
         },
         "mode": "lines",
         "name": "Spain",
         "showlegend": true,
         "type": "scattergl",
         "x": [
          "2012_1",
          "2012_2",
          "2012_3",
          "2012_4",
          "2012_5",
          "2012_6",
          "2012_7",
          "2012_8",
          "2012_9",
          "2012_10",
          "2012_11",
          "2012_12",
          "2013_1",
          "2013_2",
          "2013_3",
          "2013_4",
          "2013_5",
          "2013_6",
          "2013_7",
          "2013_8",
          "2013_9",
          "2013_10",
          "2013_11",
          "2013_12",
          "2014_1",
          "2014_2",
          "2014_3",
          "2014_4",
          "2014_5",
          "2014_6",
          "2014_7",
          "2014_8",
          "2014_9",
          "2014_10",
          "2014_11",
          "2014_12",
          "2015_1",
          "2015_2",
          "2015_3",
          "2015_4",
          "2015_5",
          "2015_6",
          "2015_7",
          "2015_8",
          "2015_9",
          "2015_10",
          "2015_11",
          "2015_12",
          "2016_1",
          "2016_2",
          "2016_3",
          "2016_4",
          "2016_5",
          "2016_6",
          "2016_7",
          "2016_8",
          "2016_9",
          "2016_10",
          "2016_11",
          "2016_12",
          "2017_1",
          "2017_2",
          "2017_3",
          "2017_4",
          "2017_5",
          "2017_6",
          "2017_7",
          "2017_8",
          "2017_9",
          "2017_10",
          "2017_11",
          "2017_12",
          "2018_1",
          "2018_2",
          "2018_3",
          "2018_4",
          "2018_5",
          "2018_6",
          "2018_7",
          "2018_8",
          "2018_9",
          "2018_10",
          "2018_11",
          "2018_12",
          "2019_1",
          "2019_2",
          "2019_3",
          "2019_4",
          "2019_5",
          "2019_6",
          "2019_7",
          "2019_8",
          "2019_9",
          "2019_10",
          "2019_11",
          "2019_12",
          "2020_1",
          "2020_2",
          "2020_3",
          "2020_4",
          "2020_5",
          "2020_6",
          "2020_7",
          "2020_8",
          "2020_9",
          "2020_10",
          "2020_11",
          "2020_12",
          "2021_1",
          "2021_2",
          "2021_3",
          "2021_4",
          "2021_5",
          "2021_6",
          "2021_7",
          "2021_8",
          "2021_9",
          "2021_10",
          "2021_11",
          "2021_12",
          "2022_1",
          "2022_2",
          "2022_3"
         ],
         "xaxis": "x",
         "y": [
          2200.447,
          2471.445,
          2526.6279999999997,
          2234.8529999999996,
          2310.399,
          2135.9649999999997,
          1980.6439999999998,
          1763.082,
          2026.996,
          2004.162,
          2040.3760000000002,
          2481.387,
          1616.632,
          1780.533,
          1864.118,
          1805.491,
          1866.292,
          1863.299,
          2027.756,
          1909.215,
          2111.938,
          2187.072,
          1996.419,
          2465.141,
          1819.187,
          1948.24,
          2452.5730000000003,
          2141.524,
          2413.69,
          2217.322,
          2269.7599999999998,
          2336.1459999999997,
          2068.4970000000003,
          1959.735,
          2112.394,
          2484.088,
          1707.872,
          1900.925,
          1972.2659999999998,
          1870.922,
          2217.3019999999997,
          2021.13,
          2201.383,
          2426.311,
          2307.312,
          2131.723,
          1974.171,
          2551.0609999999997,
          1769.616,
          2181.714,
          2633.429,
          2542.989,
          2368.2709999999997,
          2431.506,
          2611.272,
          2827.035,
          2213.7889999999998,
          2459.805,
          2261.489,
          2764.53,
          1978.8079999999998,
          2298.04,
          2624.657,
          2702.899,
          2909.489,
          2792.37,
          3314.279,
          3368.583,
          2898.463,
          2771.642,
          3027.171,
          3628.8160000000003,
          2619.384,
          2780.514,
          3167.2960000000003,
          3179.287,
          3170.678,
          3334.041,
          4016.3730000000005,
          3632.8439999999996,
          3124.844,
          3212.242,
          2963.506,
          3886.7,
          2975.464,
          3237.327,
          3624.086,
          3795.761,
          3924.5970000000007,
          3970.058,
          4258.792,
          4001.066,
          3232.505,
          3671.7799999999997,
          3570.574,
          4158.128000000001,
          3195.698,
          3484.341,
          2946.104,
          1501.948,
          3096.976,
          4278.214,
          4752.433,
          4874.747,
          4498.942,
          4242.589,
          3914.7019999999998,
          4551.58,
          3344.689,
          3762.5429999999997,
          4192.667,
          4131.6990000000005,
          4267.07,
          4674.691,
          4950.121999999999,
          5114.014,
          4172.939,
          4268.022613493001,
          4039.5959647109994,
          4682.742471496001,
          3807.3411628910007,
          4007.9300343159994,
          4158.2543477280005
         ],
         "yaxis": "y"
        },
        {
         "hovertemplate": "variable=France<br>Year=%{x}<br>value=%{y}<extra></extra>",
         "legendgroup": "France",
         "line": {
          "color": "#EF553B",
          "dash": "solid"
         },
         "marker": {
          "symbol": "circle"
         },
         "mode": "lines",
         "name": "France",
         "showlegend": true,
         "type": "scattergl",
         "x": [
          "2012_1",
          "2012_2",
          "2012_3",
          "2012_4",
          "2012_5",
          "2012_6",
          "2012_7",
          "2012_8",
          "2012_9",
          "2012_10",
          "2012_11",
          "2012_12",
          "2013_1",
          "2013_2",
          "2013_3",
          "2013_4",
          "2013_5",
          "2013_6",
          "2013_7",
          "2013_8",
          "2013_9",
          "2013_10",
          "2013_11",
          "2013_12",
          "2014_1",
          "2014_2",
          "2014_3",
          "2014_4",
          "2014_5",
          "2014_6",
          "2014_7",
          "2014_8",
          "2014_9",
          "2014_10",
          "2014_11",
          "2014_12",
          "2015_1",
          "2015_2",
          "2015_3",
          "2015_4",
          "2015_5",
          "2015_6",
          "2015_7",
          "2015_8",
          "2015_9",
          "2015_10",
          "2015_11",
          "2015_12",
          "2016_1",
          "2016_2",
          "2016_3",
          "2016_4",
          "2016_5",
          "2016_6",
          "2016_7",
          "2016_8",
          "2016_9",
          "2016_10",
          "2016_11",
          "2016_12",
          "2017_1",
          "2017_2",
          "2017_3",
          "2017_4",
          "2017_5",
          "2017_6",
          "2017_7",
          "2017_8",
          "2017_9",
          "2017_10",
          "2017_11",
          "2017_12",
          "2018_1",
          "2018_2",
          "2018_3",
          "2018_4",
          "2018_5",
          "2018_6",
          "2018_7",
          "2018_8",
          "2018_9",
          "2018_10",
          "2018_11",
          "2018_12",
          "2019_1",
          "2019_2",
          "2019_3",
          "2019_4",
          "2019_5",
          "2019_6",
          "2019_7",
          "2019_8",
          "2019_9",
          "2019_10",
          "2019_11",
          "2019_12",
          "2020_1",
          "2020_2",
          "2020_3",
          "2020_4",
          "2020_5",
          "2020_6",
          "2020_7",
          "2020_8",
          "2020_9",
          "2020_10",
          "2020_11",
          "2020_12",
          "2021_1",
          "2021_2",
          "2021_3",
          "2021_4",
          "2021_5",
          "2021_6",
          "2021_7",
          "2021_8",
          "2021_9",
          "2021_10",
          "2021_11",
          "2021_12",
          "2022_1",
          "2022_2",
          "2022_3"
         ],
         "xaxis": "x",
         "y": [
          452.24600000000004,
          599.25,
          672.042,
          618.046,
          659.734,
          703.297,
          630.164,
          708.54,
          787.4739999999999,
          736.895,
          678.183,
          780.951,
          693.64,
          667.917,
          703.357,
          764.984,
          653.047,
          668.948,
          897.6120000000001,
          790.8299999999999,
          791.56,
          764.029,
          683.101,
          784.768,
          561.4549999999999,
          719.639,
          754.3220000000001,
          766.108,
          836.653,
          721.8779999999999,
          782.39,
          821.354,
          804.977,
          759.7550000000001,
          740.273,
          788.308,
          605.929,
          658.49,
          726.604,
          731.101,
          774.3240000000001,
          751.294,
          724.602,
          718.8330000000001,
          781.678,
          882.033,
          692.349,
          802.528,
          641.217,
          795.961,
          845.169,
          897.0889999999999,
          708.228,
          816.689,
          861.4,
          1044.194,
          837.8919999999999,
          870.8520000000001,
          667.4019999999999,
          1033.5459999999998,
          718.7040000000001,
          845.043,
          1041.181,
          965.9839999999999,
          982.9490000000001,
          1003.115,
          852.5260000000001,
          975.587,
          1065.196,
          1248.448,
          1355.732,
          1334.5710000000001,
          1047.399,
          1214.826,
          1292.096,
          1230.824,
          1265.346,
          1442.26,
          1439.297,
          1499.398,
          1536.312,
          1497.2240000000002,
          1443.622,
          1643.6970000000001,
          1433.969,
          1625.498,
          1804.5570000000002,
          1849.28,
          2106.011,
          2163.059,
          2194.299,
          2285.996,
          2036.6510000000003,
          2031.1820000000002,
          1678.569,
          1938.935,
          1514.156,
          1725.6870000000001,
          1461.32,
          928.079,
          1714.768,
          2181.118,
          2501.483,
          2540.18,
          2714.463,
          2730.352,
          2230.94,
          2866.066,
          2129.687,
          2396.737,
          2619.676,
          2730.646,
          2745.868,
          2846.215,
          2936.8050000000003,
          3164.067,
          3040.594,
          2941.562468256,
          2900.560374533,
          2987.2871147739997,
          2434.2201193319997,
          3430.833225483,
          3236.033483714
         ],
         "yaxis": "y"
        },
        {
         "hovertemplate": "variable=United Kingdom of Great Britain and Northern Ireland<br>Year=%{x}<br>value=%{y}<extra></extra>",
         "legendgroup": "United Kingdom of Great Britain and Northern Ireland",
         "line": {
          "color": "#00cc96",
          "dash": "solid"
         },
         "marker": {
          "symbol": "circle"
         },
         "mode": "lines",
         "name": "United Kingdom of Great Britain and Northern Ireland",
         "showlegend": true,
         "type": "scattergl",
         "x": [
          "2012_1",
          "2012_2",
          "2012_3",
          "2012_4",
          "2012_5",
          "2012_6",
          "2012_7",
          "2012_8",
          "2012_9",
          "2012_10",
          "2012_11",
          "2012_12",
          "2013_1",
          "2013_2",
          "2013_3",
          "2013_4",
          "2013_5",
          "2013_6",
          "2013_7",
          "2013_8",
          "2013_9",
          "2013_10",
          "2013_11",
          "2013_12",
          "2014_1",
          "2014_2",
          "2014_3",
          "2014_4",
          "2014_5",
          "2014_6",
          "2014_7",
          "2014_8",
          "2014_9",
          "2014_10",
          "2014_11",
          "2014_12",
          "2015_1",
          "2015_2",
          "2015_3",
          "2015_4",
          "2015_5",
          "2015_6",
          "2015_7",
          "2015_8",
          "2015_9",
          "2015_10",
          "2015_11",
          "2015_12",
          "2016_1",
          "2016_2",
          "2016_3",
          "2016_4",
          "2016_5",
          "2016_6",
          "2016_7",
          "2016_8",
          "2016_9",
          "2016_10",
          "2016_11",
          "2016_12",
          "2017_1",
          "2017_2",
          "2017_3",
          "2017_4",
          "2017_5",
          "2017_6",
          "2017_7",
          "2017_8",
          "2017_9",
          "2017_10",
          "2017_11",
          "2017_12",
          "2018_1",
          "2018_2",
          "2018_3",
          "2018_4",
          "2018_5",
          "2018_6",
          "2018_7",
          "2018_8",
          "2018_9",
          "2018_10",
          "2018_11",
          "2018_12",
          "2019_1",
          "2019_2",
          "2019_3",
          "2019_4",
          "2019_5",
          "2019_6",
          "2019_7",
          "2019_8",
          "2019_9",
          "2019_10",
          "2019_11",
          "2019_12",
          "2020_1",
          "2020_2",
          "2020_3",
          "2020_4",
          "2020_5",
          "2020_6",
          "2020_7",
          "2020_8",
          "2020_9",
          "2020_10",
          "2020_11",
          "2020_12",
          "2021_1",
          "2021_2",
          "2021_3",
          "2021_4",
          "2021_5",
          "2021_6",
          "2021_7",
          "2021_8",
          "2021_9",
          "2021_10",
          "2021_11",
          "2021_12",
          "2022_1",
          "2022_2",
          "2022_3"
         ],
         "xaxis": "x",
         "y": [
          898.3210000000001,
          1043.7269999999999,
          1316.125,
          1317.165,
          1422.461,
          1713.1809999999998,
          1919.202,
          1660.663,
          1889.7279999999998,
          1481.329,
          1424.846,
          1875.8229999999999,
          1559.638,
          1237.107,
          1220.078,
          1456.5259999999998,
          1358.2069999999999,
          1500.9450000000002,
          1479.007,
          1402.67,
          1406.1290000000001,
          1286.452,
          1232.854,
          1434.9969999999998,
          1170.187,
          789.777,
          1058.048,
          972.1400000000001,
          957.346,
          1350.711,
          1381.669,
          1267.741,
          1133.457,
          1131.0500000000002,
          1129.886,
          1085.956,
          859.7360000000001,
          1099.276,
          1172.6709999999998,
          991.4509999999999,
          1167.707,
          1181.494,
          2039.7440000000001,
          1417.576,
          1243.1200000000001,
          1237.867,
          1103.677,
          1263.0359999999998,
          937.9549999999999,
          1067.51,
          1168.4060000000002,
          1254.988,
          1426.213,
          1334.471,
          1298.828,
          2268.491,
          1862.571,
          1410.384,
          1041.978,
          1206.678,
          847.8050000000001,
          962.647,
          1139.8500000000001,
          1136.603,
          1317.692,
          1313.9370000000001,
          1408.9370000000001,
          1312.7359999999999,
          1454.45,
          1363.8990000000001,
          1257.849,
          1302.271,
          1026.905,
          1198.5510000000002,
          1162.645,
          1204.536,
          1320.7920000000001,
          1328.891,
          1330.7920000000001,
          1048.49,
          1221.189,
          1395.8719999999998,
          1239.7849999999999,
          1412.0149999999999,
          1006.378,
          1320.2549999999999,
          1300.301,
          1289.508,
          1385.564,
          1313.819,
          1257.692,
          1222.71,
          1390.035,
          1457.296,
          1336.7140000000002,
          1413.382,
          1063.036,
          1354.3919999999998,
          1464.204,
          550.6719999999999,
          968.3850000000001,
          1649.042,
          1614.5990000000002,
          1724.2549999999999,
          1833.481,
          1799.471,
          1933.984,
          1875.374,
          1299.016,
          1048.894,
          1846.393,
          1829.5910000000001,
          1877.641,
          1749.253,
          1695.5059999999999,
          1807.1299999999999,
          1630.9450000000002,
          1760.003666421,
          1703.8382952350003,
          1911.1516969129998,
          2040.2610655750004,
          2357.697241809,
          2748.309493603
         ],
         "yaxis": "y"
        },
        {
         "hovertemplate": "variable=Poland<br>Year=%{x}<br>value=%{y}<extra></extra>",
         "legendgroup": "Poland",
         "line": {
          "color": "#ab63fa",
          "dash": "solid"
         },
         "marker": {
          "symbol": "circle"
         },
         "mode": "lines",
         "name": "Poland",
         "showlegend": true,
         "type": "scattergl",
         "x": [
          "2012_1",
          "2012_2",
          "2012_3",
          "2012_4",
          "2012_5",
          "2012_6",
          "2012_7",
          "2012_8",
          "2012_9",
          "2012_10",
          "2012_11",
          "2012_12",
          "2013_1",
          "2013_2",
          "2013_3",
          "2013_4",
          "2013_5",
          "2013_6",
          "2013_7",
          "2013_8",
          "2013_9",
          "2013_10",
          "2013_11",
          "2013_12",
          "2014_1",
          "2014_2",
          "2014_3",
          "2014_4",
          "2014_5",
          "2014_6",
          "2014_7",
          "2014_8",
          "2014_9",
          "2014_10",
          "2014_11",
          "2014_12",
          "2015_1",
          "2015_2",
          "2015_3",
          "2015_4",
          "2015_5",
          "2015_6",
          "2015_7",
          "2015_8",
          "2015_9",
          "2015_10",
          "2015_11",
          "2015_12",
          "2016_1",
          "2016_2",
          "2016_3",
          "2016_4",
          "2016_5",
          "2016_6",
          "2016_7",
          "2016_8",
          "2016_9",
          "2016_10",
          "2016_11",
          "2016_12",
          "2017_1",
          "2017_2",
          "2017_3",
          "2017_4",
          "2017_5",
          "2017_6",
          "2017_7",
          "2017_8",
          "2017_9",
          "2017_10",
          "2017_11",
          "2017_12",
          "2018_1",
          "2018_2",
          "2018_3",
          "2018_4",
          "2018_5",
          "2018_6",
          "2018_7",
          "2018_8",
          "2018_9",
          "2018_10",
          "2018_11",
          "2018_12",
          "2019_1",
          "2019_2",
          "2019_3",
          "2019_4",
          "2019_5",
          "2019_6",
          "2019_7",
          "2019_8",
          "2019_9",
          "2019_10",
          "2019_11",
          "2019_12",
          "2020_1",
          "2020_2",
          "2020_3",
          "2020_4",
          "2020_5",
          "2020_6",
          "2020_7",
          "2020_8",
          "2020_9",
          "2020_10",
          "2020_11",
          "2020_12",
          "2021_1",
          "2021_2",
          "2021_3",
          "2021_4",
          "2021_5",
          "2021_6",
          "2021_7",
          "2021_8",
          "2021_9",
          "2021_10",
          "2021_11",
          "2021_12",
          "2022_1",
          "2022_2",
          "2022_3"
         ],
         "xaxis": "x",
         "y": [
          -25.293,
          2.4069999999999965,
          -7.177999999999997,
          5.1939999999999955,
          0.7430000000000021,
          -9.464999999999996,
          -0.5899999999999892,
          10.882000000000005,
          17.921000000000006,
          43.81,
          -14.460999999999991,
          42.877,
          -12.975000000000001,
          -23.643,
          -30.119,
          18.168,
          48.67,
          30.965000000000003,
          13.037999999999997,
          17.618000000000002,
          -57,
          -33.688,
          -8.065999999999988,
          25.924000000000007,
          -15.448999999999998,
          -23.006999999999998,
          19.173000000000002,
          4.094000000000008,
          13.492000000000004,
          23.485,
          24.705,
          -1.3130000000000024,
          9.183000000000007,
          10.057000000000002,
          14.006,
          49.077999999999996,
          32.911,
          22.765,
          30.482000000000006,
          23.129000000000005,
          45.001999999999995,
          65.465,
          90.53999999999999,
          48.691,
          52.972,
          57.15899999999999,
          15.539000000000001,
          16.051000000000002,
          46.002,
          -11.173000000000002,
          35.733999999999995,
          82.952,
          25.367999999999995,
          67.65299999999999,
          43.782,
          36.423,
          52.791,
          59.125,
          59.077,
          18.195999999999998,
          52.09400000000001,
          70.30799999999999,
          58.258,
          78.711,
          80.27399999999999,
          155.13099999999997,
          121.41199999999999,
          133.664,
          223.748,
          245.872,
          331.588,
          622.829,
          470.349,
          679.8019999999999,
          793.558,
          896.4680000000001,
          1141.023,
          1454.325,
          1664.615,
          1730.76,
          1888.8490000000002,
          2064.086,
          2065.216,
          2014.194,
          1609.0230000000001,
          1985.163,
          2121.34,
          2365.2599999999998,
          2515.3269999999998,
          2701.1890000000003,
          2764.525,
          2932.434,
          2720.784,
          2672.96,
          2541.273,
          2052.294,
          1638.671,
          2102.203,
          1839.104,
          1355.801,
          1905.9409999999998,
          2205.413,
          2393.715,
          2381.29,
          2208.0409999999997,
          2189.2000000000003,
          2017.964,
          2258.126,
          1577.703,
          1601.576,
          1634.685,
          1986.507,
          1894.553,
          2094.426,
          2277.991,
          2148.067,
          2232.7129999999997,
          2345.4345032730002,
          1931.0732393310002,
          1861.8553141900002,
          1538.7829018979996,
          1431.1647491649996,
          1505.4790917710004
         ],
         "yaxis": "y"
        },
        {
         "hovertemplate": "variable=Kyrgyzstan<br>Year=%{x}<br>value=%{y}<extra></extra>",
         "legendgroup": "Kyrgyzstan",
         "line": {
          "color": "#FFA15A",
          "dash": "solid"
         },
         "marker": {
          "symbol": "circle"
         },
         "mode": "lines",
         "name": "Kyrgyzstan",
         "showlegend": true,
         "type": "scattergl",
         "x": [
          "2012_1",
          "2012_2",
          "2012_3",
          "2012_4",
          "2012_5",
          "2012_6",
          "2012_7",
          "2012_8",
          "2012_9",
          "2012_10",
          "2012_11",
          "2012_12",
          "2013_1",
          "2013_2",
          "2013_3",
          "2013_4",
          "2013_5",
          "2013_6",
          "2013_7",
          "2013_8",
          "2013_9",
          "2013_10",
          "2013_11",
          "2013_12",
          "2014_1",
          "2014_2",
          "2014_3",
          "2014_4",
          "2014_5",
          "2014_6",
          "2014_7",
          "2014_8",
          "2014_9",
          "2014_10",
          "2014_11",
          "2014_12",
          "2015_1",
          "2015_2",
          "2015_3",
          "2015_4",
          "2015_5",
          "2015_6",
          "2015_7",
          "2015_8",
          "2015_9",
          "2015_10",
          "2015_11",
          "2015_12",
          "2016_1",
          "2016_2",
          "2016_3",
          "2016_4",
          "2016_5",
          "2016_6",
          "2016_7",
          "2016_8",
          "2016_9",
          "2016_10",
          "2016_11",
          "2016_12",
          "2017_1",
          "2017_2",
          "2017_3",
          "2017_4",
          "2017_5",
          "2017_6",
          "2017_7",
          "2017_8",
          "2017_9",
          "2017_10",
          "2017_11",
          "2017_12",
          "2018_1",
          "2018_2",
          "2018_3",
          "2018_4",
          "2018_5",
          "2018_6",
          "2018_7",
          "2018_8",
          "2018_9",
          "2018_10",
          "2018_11",
          "2018_12",
          "2019_1",
          "2019_2",
          "2019_3",
          "2019_4",
          "2019_5",
          "2019_6",
          "2019_7",
          "2019_8",
          "2019_9",
          "2019_10",
          "2019_11",
          "2019_12",
          "2020_1",
          "2020_2",
          "2020_3",
          "2020_4",
          "2020_5",
          "2020_6",
          "2020_7",
          "2020_8",
          "2020_9",
          "2020_10",
          "2020_11",
          "2020_12",
          "2021_1",
          "2021_2",
          "2021_3",
          "2021_4",
          "2021_5",
          "2021_6",
          "2021_7",
          "2021_8",
          "2021_9",
          "2021_10",
          "2021_11",
          "2021_12",
          "2022_1",
          "2022_2",
          "2022_3"
         ],
         "xaxis": "x",
         "y": [
          21.841000000000008,
          60.24799999999999,
          -134.952,
          -17.251000000000005,
          -13.564999999999998,
          -56.598,
          18.158,
          -56.174,
          44.51299999999999,
          -45.07299999999998,
          -198.033,
          -113.254,
          -92.83399999999999,
          -235.47,
          -102.09099999999998,
          -188.48899999999998,
          18.853999999999985,
          99.72199999999998,
          195.34899999999996,
          155.81699999999998,
          37.851,
          82.945,
          138.38,
          13.170999999999992,
          54.83099999999999,
          157.228,
          -121.408,
          46.66699999999997,
          -112.477,
          -82.234,
          254.95,
          333.54999999999995,
          462.996,
          407.38300000000004,
          -100.673,
          -568.56,
          -92.932,
          -58.44199999999999,
          -130.56599999999997,
          -15.847999999999999,
          13.062999999999995,
          -121.16000000000001,
          39.80800000000001,
          4.737000000000009,
          -52.838999999999984,
          -101.751,
          -259.21299999999997,
          -362.152,
          -97.45700000000001,
          -171.39800000000002,
          -70.53299999999999,
          -18.922999999999988,
          -51.02000000000001,
          8.009,
          -32.29100000000001,
          -111.43100000000001,
          -111.53900000000002,
          -321.319,
          -199.668,
          -176.17900000000003,
          -186.71499999999997,
          -288.369,
          -130.15200000000002,
          -56.23700000000002,
          -143.53500000000003,
          141.417,
          203.53300000000002,
          54.53199999999998,
          73.17700000000002,
          30.45999999999998,
          -206.041,
          -125.24999999999997,
          11.346000000000004,
          -264.76099999999997,
          -17.661,
          -214.98600000000002,
          144.37900000000002,
          354.23100000000005,
          818.819,
          1570.777,
          1258.247,
          1125.558,
          1226.741,
          1153.3960000000002,
          931.0250000000001,
          1090.807,
          975.5819999999999,
          1003.625,
          1235.12,
          1797.552,
          1692.6309999999999,
          2212.079,
          2225.411,
          2558.648,
          4049.42,
          4378.900000000001,
          132.47700000000003,
          -182.24000000000007,
          -340.264,
          -221.808,
          45.03699999999998,
          539.0600000000001,
          489.558,
          379.077,
          628.0140000000001,
          166.34499999999997,
          1257.1589999999999,
          1142.875,
          588.73,
          897.4019999999999,
          728.1959999999999,
          962.2030000000001,
          1045.424,
          937.1619999999999,
          1641.363,
          1618.958,
          3043.669,
          5639.18513465,
          5953.927285683,
          5514.122080048001,
          2523.882472825,
          3163.230159965,
          1930.4352858189993
         ],
         "yaxis": "y"
        },
        {
         "hovertemplate": "variable=Ireland<br>Year=%{x}<br>value=%{y}<extra></extra>",
         "legendgroup": "Ireland",
         "line": {
          "color": "#19d3f3",
          "dash": "solid"
         },
         "marker": {
          "symbol": "circle"
         },
         "mode": "lines",
         "name": "Ireland",
         "showlegend": true,
         "type": "scattergl",
         "x": [
          "2012_1",
          "2012_2",
          "2012_3",
          "2012_4",
          "2012_5",
          "2012_6",
          "2012_7",
          "2012_8",
          "2012_9",
          "2012_10",
          "2012_11",
          "2012_12",
          "2013_1",
          "2013_2",
          "2013_3",
          "2013_4",
          "2013_5",
          "2013_6",
          "2013_7",
          "2013_8",
          "2013_9",
          "2013_10",
          "2013_11",
          "2013_12",
          "2014_1",
          "2014_2",
          "2014_3",
          "2014_4",
          "2014_5",
          "2014_6",
          "2014_7",
          "2014_8",
          "2014_9",
          "2014_10",
          "2014_11",
          "2014_12",
          "2015_1",
          "2015_2",
          "2015_3",
          "2015_4",
          "2015_5",
          "2015_6",
          "2015_7",
          "2015_8",
          "2015_9",
          "2015_10",
          "2015_11",
          "2015_12",
          "2016_1",
          "2016_2",
          "2016_3",
          "2016_4",
          "2016_5",
          "2016_6",
          "2016_7",
          "2016_8",
          "2016_9",
          "2016_10",
          "2016_11",
          "2016_12",
          "2017_1",
          "2017_2",
          "2017_3",
          "2017_4",
          "2017_5",
          "2017_6",
          "2017_7",
          "2017_8",
          "2017_9",
          "2017_10",
          "2017_11",
          "2017_12",
          "2018_1",
          "2018_2",
          "2018_3",
          "2018_4",
          "2018_5",
          "2018_6",
          "2018_7",
          "2018_8",
          "2018_9",
          "2018_10",
          "2018_11",
          "2018_12",
          "2019_1",
          "2019_2",
          "2019_3",
          "2019_4",
          "2019_5",
          "2019_6",
          "2019_7",
          "2019_8",
          "2019_9",
          "2019_10",
          "2019_11",
          "2019_12",
          "2020_1",
          "2020_2",
          "2020_3",
          "2020_4",
          "2020_5",
          "2020_6",
          "2020_7",
          "2020_8",
          "2020_9",
          "2020_10",
          "2020_11",
          "2020_12",
          "2021_1",
          "2021_2",
          "2021_3",
          "2021_4",
          "2021_5",
          "2021_6",
          "2021_7",
          "2021_8",
          "2021_9",
          "2021_10",
          "2021_11",
          "2021_12",
          "2022_1",
          "2022_2",
          "2022_3"
         ],
         "xaxis": "x",
         "y": [
          225.994,
          322.503,
          284.019,
          277.488,
          318.70799999999997,
          261.054,
          231.661,
          245.241,
          287.83099999999996,
          278.552,
          229.397,
          244.782,
          217.934,
          292.402,
          323.262,
          342.57800000000003,
          321.859,
          282.923,
          321.63,
          335.203,
          354.985,
          387.448,
          326.03900000000004,
          413.366,
          324.149,
          423.216,
          367.45300000000003,
          360.978,
          406.794,
          384.135,
          406.41200000000003,
          351.499,
          419.50100000000003,
          497.413,
          413.008,
          577.3639999999999,
          609.936,
          579.107,
          631.799,
          492.316,
          521.8549999999999,
          527.092,
          382.515,
          467.06100000000004,
          444.766,
          539.706,
          594.276,
          543.955,
          444.216,
          376.04699999999997,
          342.253,
          403.64599999999996,
          398.21999999999997,
          549.0110000000001,
          373.885,
          428.982,
          374.174,
          464.598,
          453.51099999999997,
          532.1370000000001,
          403.41,
          343.366,
          419.007,
          387.543,
          421.081,
          434.06,
          390.10900000000004,
          418.332,
          577.1469999999999,
          534.613,
          531.326,
          614.125,
          546.02,
          478.77599999999995,
          567.269,
          636.896,
          682.8249999999999,
          643.633,
          749.074,
          560.7040000000001,
          703.914,
          685.434,
          647.6469999999999,
          755.259,
          604.386,
          604.015,
          715.814,
          685.073,
          760.515,
          719.986,
          734.5250000000001,
          698.105,
          825.803,
          879.514,
          919.691,
          1044.869,
          896.035,
          992.921,
          891.927,
          495.659,
          785.922,
          1247.98,
          1356.6750000000002,
          1402.08,
          1491.916,
          1478.907,
          1533.761,
          1908.86,
          1335.8780000000002,
          1394.9540000000002,
          1648.739,
          1710.9189999999999,
          1828.119,
          1883.005,
          1739.903,
          1599.742,
          1664.576,
          1653.1045447880003,
          1745.8506202090002,
          1845.815475929,
          1346.6387470179998,
          2412.0234706459996,
          1702.7183262729998
         ],
         "yaxis": "y"
        },
        {
         "hovertemplate": "variable=Canada<br>Year=%{x}<br>value=%{y}<extra></extra>",
         "legendgroup": "Canada",
         "line": {
          "color": "#FF6692",
          "dash": "solid"
         },
         "marker": {
          "symbol": "circle"
         },
         "mode": "lines",
         "name": "Canada",
         "showlegend": true,
         "type": "scattergl",
         "x": [
          "2012_1",
          "2012_2",
          "2012_3",
          "2012_4",
          "2012_5",
          "2012_6",
          "2012_7",
          "2012_8",
          "2012_9",
          "2012_10",
          "2012_11",
          "2012_12",
          "2013_1",
          "2013_2",
          "2013_3",
          "2013_4",
          "2013_5",
          "2013_6",
          "2013_7",
          "2013_8",
          "2013_9",
          "2013_10",
          "2013_11",
          "2013_12",
          "2014_1",
          "2014_2",
          "2014_3",
          "2014_4",
          "2014_5",
          "2014_6",
          "2014_7",
          "2014_8",
          "2014_9",
          "2014_10",
          "2014_11",
          "2014_12",
          "2015_1",
          "2015_2",
          "2015_3",
          "2015_4",
          "2015_5",
          "2015_6",
          "2015_7",
          "2015_8",
          "2015_9",
          "2015_10",
          "2015_11",
          "2015_12",
          "2016_1",
          "2016_2",
          "2016_3",
          "2016_4",
          "2016_5",
          "2016_6",
          "2016_7",
          "2016_8",
          "2016_9",
          "2016_10",
          "2016_11",
          "2016_12",
          "2017_1",
          "2017_2",
          "2017_3",
          "2017_4",
          "2017_5",
          "2017_6",
          "2017_7",
          "2017_8",
          "2017_9",
          "2017_10",
          "2017_11",
          "2017_12",
          "2018_1",
          "2018_2",
          "2018_3",
          "2018_4",
          "2018_5",
          "2018_6",
          "2018_7",
          "2018_8",
          "2018_9",
          "2018_10",
          "2018_11",
          "2018_12",
          "2019_1",
          "2019_2",
          "2019_3",
          "2019_4",
          "2019_5",
          "2019_6",
          "2019_7",
          "2019_8",
          "2019_9",
          "2019_10",
          "2019_11",
          "2019_12",
          "2020_1",
          "2020_2",
          "2020_3",
          "2020_4",
          "2020_5",
          "2020_6",
          "2020_7",
          "2020_8",
          "2020_9",
          "2020_10",
          "2020_11",
          "2020_12",
          "2021_1",
          "2021_2",
          "2021_3",
          "2021_4",
          "2021_5",
          "2021_6",
          "2021_7",
          "2021_8",
          "2021_9",
          "2021_10",
          "2021_11",
          "2021_12",
          "2022_1",
          "2022_2",
          "2022_3"
         ],
         "xaxis": "x",
         "y": [
          325.61,
          355.10799999999995,
          401.447,
          405.515,
          408.198,
          508.374,
          474.098,
          477.328,
          477.29200000000003,
          551.8499999999999,
          486.54699999999997,
          589.726,
          396.571,
          474.397,
          488.75199999999995,
          478.55300000000005,
          536.606,
          579.6450000000001,
          578.324,
          541.4720000000001,
          652.4280000000001,
          554.0640000000001,
          487.918,
          523.731,
          359.16900000000004,
          336.354,
          407.958,
          412.427,
          578.2629999999999,
          588.27,
          684.588,
          671.339,
          686.308,
          641.673,
          578.4290000000001,
          602.936,
          386.028,
          358.466,
          504.14,
          483.11999999999995,
          586.1669999999999,
          704.3389999999999,
          684.161,
          617.7,
          628.389,
          631.852,
          630.711,
          694.087,
          455.036,
          584.209,
          631.897,
          691.9240000000001,
          673.144,
          697.659,
          902.314,
          1110.965,
          745.145,
          786.784,
          808.619,
          851.101,
          549.607,
          687.415,
          745.699,
          782.7379999999999,
          803.7429999999999,
          804.5930000000001,
          931.497,
          995.652,
          1058.1750000000002,
          1074.2150000000001,
          1000.525,
          1106.589,
          672.2810000000001,
          776.799,
          943.3019999999999,
          938.127,
          1082.0130000000001,
          1193.019,
          1225.111,
          1183.183,
          924.5820000000001,
          1067.808,
          1169.768,
          1284.31,
          872.257,
          894.634,
          1027.7079999999999,
          1056.1499999999999,
          1151.19,
          1200.455,
          1229.0839999999998,
          1254.264,
          1229.9440000000002,
          1169.466,
          1134.5,
          1256.4,
          892.2159999999999,
          1065.584,
          947.638,
          754.221,
          1373.866,
          1865.755,
          1884.6419999999998,
          1812.6119999999999,
          1843.547,
          1705.714,
          1672.6589999999999,
          1718.126,
          1420.7160000000001,
          1423.258,
          1786.609,
          1993.645,
          1993.96,
          2053.987,
          2041.141,
          1876.26,
          1665.8529999999998,
          1765.6600342630002,
          1699.134059601,
          1802.6894248509998,
          1216.673166475,
          1288.121069757,
          1633.7772801760002
         ],
         "yaxis": "y"
        },
        {
         "hovertemplate": "variable=United Arab Emirates<br>Year=%{x}<br>value=%{y}<extra></extra>",
         "legendgroup": "United Arab Emirates",
         "line": {
          "color": "#B6E880",
          "dash": "solid"
         },
         "marker": {
          "symbol": "circle"
         },
         "mode": "lines",
         "name": "United Arab Emirates",
         "showlegend": true,
         "type": "scattergl",
         "x": [
          "2012_1",
          "2012_2",
          "2012_3",
          "2012_4",
          "2012_5",
          "2012_6",
          "2012_7",
          "2012_8",
          "2012_9",
          "2012_10",
          "2012_11",
          "2012_12",
          "2013_1",
          "2013_2",
          "2013_3",
          "2013_4",
          "2013_5",
          "2013_6",
          "2013_7",
          "2013_8",
          "2013_9",
          "2013_10",
          "2013_11",
          "2013_12",
          "2014_1",
          "2014_2",
          "2014_3",
          "2014_4",
          "2014_5",
          "2014_6",
          "2014_7",
          "2014_8",
          "2014_9",
          "2014_10",
          "2014_11",
          "2014_12",
          "2015_1",
          "2015_2",
          "2015_3",
          "2015_4",
          "2015_5",
          "2015_6",
          "2015_7",
          "2015_8",
          "2015_9",
          "2015_10",
          "2015_11",
          "2015_12",
          "2016_1",
          "2016_2",
          "2016_3",
          "2016_4",
          "2016_5",
          "2016_6",
          "2016_7",
          "2016_8",
          "2016_9",
          "2016_10",
          "2016_11",
          "2016_12",
          "2017_1",
          "2017_2",
          "2017_3",
          "2017_4",
          "2017_5",
          "2017_6",
          "2017_7",
          "2017_8",
          "2017_9",
          "2017_10",
          "2017_11",
          "2017_12",
          "2018_1",
          "2018_2",
          "2018_3",
          "2018_4",
          "2018_5",
          "2018_6",
          "2018_7",
          "2018_8",
          "2018_9",
          "2018_10",
          "2018_11",
          "2018_12",
          "2019_1",
          "2019_2",
          "2019_3",
          "2019_4",
          "2019_5",
          "2019_6",
          "2019_7",
          "2019_8",
          "2019_9",
          "2019_10",
          "2019_11",
          "2019_12",
          "2020_1",
          "2020_2",
          "2020_3",
          "2020_4",
          "2020_5",
          "2020_6",
          "2020_7",
          "2020_8",
          "2020_9",
          "2020_10",
          "2020_11",
          "2020_12",
          "2021_1",
          "2021_2",
          "2021_3",
          "2021_4",
          "2021_5",
          "2021_6",
          "2021_7",
          "2021_8",
          "2021_9",
          "2021_10",
          "2021_11",
          "2021_12",
          "2022_1",
          "2022_2",
          "2022_3"
         ],
         "xaxis": "x",
         "y": [
          157.456,
          227.411,
          165.892,
          176.482,
          162.888,
          115.53300000000002,
          128.647,
          142.852,
          193.76799999999997,
          228.567,
          213.81000000000003,
          347.45099999999996,
          191.608,
          174.921,
          242.67200000000003,
          186.574,
          287.72499999999997,
          329.741,
          252.94299999999998,
          245.2,
          277.27,
          253.52500000000003,
          266.285,
          377.18899999999996,
          268.66,
          325.608,
          279.711,
          345.548,
          324.834,
          298.149,
          281.217,
          343.43899999999996,
          340.92,
          329.237,
          251.79399999999998,
          356.85400000000004,
          232.94100000000003,
          320.46000000000004,
          307.613,
          261.804,
          415.791,
          262.368,
          379.53799999999995,
          748.347,
          333.537,
          327.109,
          380.11199999999997,
          480.257,
          348.37699999999995,
          362.77799999999996,
          501.965,
          558.256,
          569.198,
          434.65500000000003,
          498.80600000000004,
          668.653,
          469.39500000000004,
          633.03,
          547.816,
          742.613,
          464.42400000000004,
          558.623,
          640.566,
          635.1809999999999,
          578.3309999999999,
          424.371,
          549.867,
          595.931,
          383.69800000000004,
          549.0409999999999,
          581.164,
          704.269,
          610.1279999999999,
          655.693,
          755.275,
          707.043,
          732.3620000000001,
          775.7760000000001,
          608.9169999999999,
          519.8209999999999,
          496.986,
          711.97,
          583.797,
          628.459,
          551.2819999999999,
          491.903,
          599.033,
          509.412,
          569.0699999999999,
          445.63700000000006,
          498.841,
          502.67100000000005,
          464.535,
          451.55100000000004,
          544.222,
          472.856,
          491.01599999999996,
          568.05,
          631.1379999999999,
          451.259,
          637.8820000000001,
          675.982,
          691.602,
          744.7520000000001,
          870.912,
          796.001,
          774.289,
          873.938,
          694.283,
          565.266,
          1009.9689999999999,
          593.606,
          823.635,
          945.986,
          865.5749999999999,
          724.721,
          878.017,
          1119.254836322,
          1201.749475905,
          1123.753540844,
          939.664843837,
          833.518896923,
          1203.479789821
         ],
         "yaxis": "y"
        },
        {
         "hovertemplate": "variable=Cyprus<br>Year=%{x}<br>value=%{y}<extra></extra>",
         "legendgroup": "Cyprus",
         "line": {
          "color": "#FF97FF",
          "dash": "solid"
         },
         "marker": {
          "symbol": "circle"
         },
         "mode": "lines",
         "name": "Cyprus",
         "showlegend": true,
         "type": "scattergl",
         "x": [
          "2012_1",
          "2012_2",
          "2012_3",
          "2012_4",
          "2012_5",
          "2012_6",
          "2012_7",
          "2012_8",
          "2012_9",
          "2012_10",
          "2012_11",
          "2012_12",
          "2013_1",
          "2013_2",
          "2013_3",
          "2013_4",
          "2013_5",
          "2013_6",
          "2013_7",
          "2013_8",
          "2013_9",
          "2013_10",
          "2013_11",
          "2013_12",
          "2014_1",
          "2014_2",
          "2014_3",
          "2014_4",
          "2014_5",
          "2014_6",
          "2014_7",
          "2014_8",
          "2014_9",
          "2014_10",
          "2014_11",
          "2014_12",
          "2015_1",
          "2015_2",
          "2015_3",
          "2015_4",
          "2015_5",
          "2015_6",
          "2015_7",
          "2015_8",
          "2015_9",
          "2015_10",
          "2015_11",
          "2015_12",
          "2016_1",
          "2016_2",
          "2016_3",
          "2016_4",
          "2016_5",
          "2016_6",
          "2016_7",
          "2016_8",
          "2016_9",
          "2016_10",
          "2016_11",
          "2016_12",
          "2017_1",
          "2017_2",
          "2017_3",
          "2017_4",
          "2017_5",
          "2017_6",
          "2017_7",
          "2017_8",
          "2017_9",
          "2017_10",
          "2017_11",
          "2017_12",
          "2018_1",
          "2018_2",
          "2018_3",
          "2018_4",
          "2018_5",
          "2018_6",
          "2018_7",
          "2018_8",
          "2018_9",
          "2018_10",
          "2018_11",
          "2018_12",
          "2019_1",
          "2019_2",
          "2019_3",
          "2019_4",
          "2019_5",
          "2019_6",
          "2019_7",
          "2019_8",
          "2019_9",
          "2019_10",
          "2019_11",
          "2019_12",
          "2020_1",
          "2020_2",
          "2020_3",
          "2020_4",
          "2020_5",
          "2020_6",
          "2020_7",
          "2020_8",
          "2020_9",
          "2020_10",
          "2020_11",
          "2020_12",
          "2021_1",
          "2021_2",
          "2021_3",
          "2021_4",
          "2021_5",
          "2021_6",
          "2021_7",
          "2021_8",
          "2021_9",
          "2021_10",
          "2021_11",
          "2021_12",
          "2022_1",
          "2022_2",
          "2022_3"
         ],
         "xaxis": "x",
         "y": [
          272.196,
          273.69300000000004,
          311.823,
          323.305,
          323.533,
          322.357,
          226.159,
          245.14700000000002,
          292.59,
          269.851,
          238.27499999999998,
          288.95099999999996,
          227.811,
          298.11699999999996,
          315.67400000000004,
          403.031,
          427.55699999999996,
          381.589,
          632.784,
          407.927,
          546.924,
          403.58,
          452.299,
          664.453,
          320.61899999999997,
          359.178,
          461.496,
          324.10400000000004,
          414.258,
          359.371,
          511.711,
          602.433,
          984.522,
          462.502,
          321.572,
          432.637,
          213.869,
          250.893,
          253.935,
          295.07,
          340.993,
          291.56800000000004,
          387.60299999999995,
          298.60699999999997,
          501.23,
          325.416,
          340.523,
          457.061,
          260.383,
          309.64799999999997,
          341.391,
          369.066,
          358.355,
          403.26800000000003,
          348.483,
          313.917,
          367.529,
          357.367,
          349.863,
          506.50600000000003,
          296.25399999999996,
          319.563,
          365.251,
          421.947,
          490.21299999999997,
          509.44599999999997,
          535.0310000000001,
          485.45,
          580.192,
          646.0200000000001,
          627.161,
          710.8779999999999,
          517.365,
          657.802,
          789.822,
          869.7940000000001,
          1038.374,
          999.9940000000001,
          1049.555,
          851.9399999999999,
          1006.734,
          1233.4189999999999,
          1130.9660000000001,
          1152.965,
          756.8090000000001,
          907.176,
          1007.8489999999999,
          1143.675,
          1243.831,
          1390.0690000000002,
          1428.8020000000001,
          1140.04,
          1411.395,
          1435.1970000000001,
          1456.0279999999998,
          1410.562,
          882.2049999999999,
          1154.983,
          1045.933,
          211.97899999999998,
          604.579,
          1208.8519999999999,
          1305.482,
          1298.588,
          1495.32,
          1028.867,
          1035.1919999999998,
          1043.898,
          683.479,
          994.8929999999999,
          1361.595,
          1359.6390000000001,
          1252.3410000000001,
          1400.622,
          1533.866,
          1213.804,
          1390.7050000000002,
          1384.1508871329997,
          1509.5165040139998,
          1509.4134140469998,
          1057.370147179,
          820.5003990060001,
          1246.2465816489998
         ],
         "yaxis": "y"
        },
        {
         "hovertemplate": "variable=Armenia<br>Year=%{x}<br>value=%{y}<extra></extra>",
         "legendgroup": "Armenia",
         "line": {
          "color": "#FECB52",
          "dash": "solid"
         },
         "marker": {
          "symbol": "circle"
         },
         "mode": "lines",
         "name": "Armenia",
         "showlegend": true,
         "type": "scattergl",
         "x": [
          "2012_1",
          "2012_2",
          "2012_3",
          "2012_4",
          "2012_5",
          "2012_6",
          "2012_7",
          "2012_8",
          "2012_9",
          "2012_10",
          "2012_11",
          "2012_12",
          "2013_1",
          "2013_2",
          "2013_3",
          "2013_4",
          "2013_5",
          "2013_6",
          "2013_7",
          "2013_8",
          "2013_9",
          "2013_10",
          "2013_11",
          "2013_12",
          "2014_1",
          "2014_2",
          "2014_3",
          "2014_4",
          "2014_5",
          "2014_6",
          "2014_7",
          "2014_8",
          "2014_9",
          "2014_10",
          "2014_11",
          "2014_12",
          "2015_1",
          "2015_2",
          "2015_3",
          "2015_4",
          "2015_5",
          "2015_6",
          "2015_7",
          "2015_8",
          "2015_9",
          "2015_10",
          "2015_11",
          "2015_12",
          "2016_1",
          "2016_2",
          "2016_3",
          "2016_4",
          "2016_5",
          "2016_6",
          "2016_7",
          "2016_8",
          "2016_9",
          "2016_10",
          "2016_11",
          "2016_12",
          "2017_1",
          "2017_2",
          "2017_3",
          "2017_4",
          "2017_5",
          "2017_6",
          "2017_7",
          "2017_8",
          "2017_9",
          "2017_10",
          "2017_11",
          "2017_12",
          "2018_1",
          "2018_2",
          "2018_3",
          "2018_4",
          "2018_5",
          "2018_6",
          "2018_7",
          "2018_8",
          "2018_9",
          "2018_10",
          "2018_11",
          "2018_12",
          "2019_1",
          "2019_2",
          "2019_3",
          "2019_4",
          "2019_5",
          "2019_6",
          "2019_7",
          "2019_8",
          "2019_9",
          "2019_10",
          "2019_11",
          "2019_12",
          "2020_1",
          "2020_2",
          "2020_3",
          "2020_4",
          "2020_5",
          "2020_6",
          "2020_7",
          "2020_8",
          "2020_9",
          "2020_10",
          "2020_11",
          "2020_12",
          "2021_1",
          "2021_2",
          "2021_3",
          "2021_4",
          "2021_5",
          "2021_6",
          "2021_7",
          "2021_8",
          "2021_9",
          "2021_10",
          "2021_11",
          "2021_12",
          "2022_1",
          "2022_2",
          "2022_3"
         ],
         "xaxis": "x",
         "y": [
          133.529,
          223.11800000000002,
          303.11400000000003,
          125.696,
          48.77600000000001,
          212.842,
          320.597,
          460.411,
          122.63099999999997,
          173.676,
          250.094,
          322.712,
          297.496,
          215.76999999999998,
          140.50099999999998,
          347.584,
          186.277,
          162.60199999999998,
          294.79499999999996,
          394.63500000000005,
          164.50499999999994,
          178.48099999999994,
          253.88400000000007,
          393.89700000000005,
          -15.427999999999997,
          101.78900000000004,
          -112.005,
          121.08300000000008,
          100.32599999999996,
          227.33800000000002,
          326.712,
          266.52099999999996,
          288.417,
          186.89599999999996,
          254.60999999999996,
          243.50900000000001,
          72.375,
          100.60300000000001,
          93.24399999999997,
          76.39000000000004,
          131.87900000000002,
          124.64900000000006,
          286.745,
          140.478,
          168.61100000000005,
          59.45600000000002,
          83.67400000000004,
          308.01099999999997,
          19.238,
          -87.23699999999997,
          -346.332,
          -97.46100000000001,
          103.22899999999993,
          130.36899999999997,
          72.76099999999997,
          147.06500000000005,
          163.83400000000006,
          30.980999999999995,
          -68.00200000000007,
          104.20899999999995,
          -22.932000000000016,
          88.28500000000003,
          55.434000000000026,
          146.43399999999997,
          109.043,
          109.86099999999999,
          90.42700000000002,
          133.22299999999996,
          67.572,
          56.35500000000002,
          68.63200000000006,
          -27.851999999999975,
          175.44599999999997,
          120.43099999999998,
          60.05600000000004,
          100.83500000000004,
          167.20800000000003,
          -73.19800000000009,
          186.22299999999996,
          313.99,
          225.95299999999997,
          65.05200000000002,
          174.84399999999994,
          71.61000000000001,
          169.65100000000007,
          262.65600000000006,
          210.755,
          194.16999999999996,
          310.3650000000001,
          344.78700000000003,
          339.822,
          608.55,
          607.86,
          743.5070000000001,
          832.618,
          1120.117,
          300.94499999999994,
          181.70299999999997,
          446.90200000000004,
          158.87,
          102.61800000000005,
          226.30900000000008,
          512.823,
          361.038,
          -32.055000000000064,
          -400.0830000000001,
          -123.51199999999994,
          -202.57100000000014,
          -170.02600000000007,
          -50.31400000000008,
          -102.481,
          -230.817,
          35.22000000000003,
          -99.51499999999999,
          89.25900000000001,
          281.033,
          182.80899999999997,
          262.348116421,
          210.54588816700027,
          -120.19225125099956,
          91.37597114599987,
          253.10892274999992,
          66.48074481300023
         ],
         "yaxis": "y"
        }
       ],
       "layout": {
        "legend": {
         "title": {
          "text": "variable"
         },
         "tracegroupgap": 0
        },
        "margin": {
         "t": 60
        },
        "template": {
         "data": {
          "bar": [
           {
            "error_x": {
             "color": "#2a3f5f"
            },
            "error_y": {
             "color": "#2a3f5f"
            },
            "marker": {
             "line": {
              "color": "#E5ECF6",
              "width": 0.5
             },
             "pattern": {
              "fillmode": "overlay",
              "size": 10,
              "solidity": 0.2
             }
            },
            "type": "bar"
           }
          ],
          "barpolar": [
           {
            "marker": {
             "line": {
              "color": "#E5ECF6",
              "width": 0.5
             },
             "pattern": {
              "fillmode": "overlay",
              "size": 10,
              "solidity": 0.2
             }
            },
            "type": "barpolar"
           }
          ],
          "carpet": [
           {
            "aaxis": {
             "endlinecolor": "#2a3f5f",
             "gridcolor": "white",
             "linecolor": "white",
             "minorgridcolor": "white",
             "startlinecolor": "#2a3f5f"
            },
            "baxis": {
             "endlinecolor": "#2a3f5f",
             "gridcolor": "white",
             "linecolor": "white",
             "minorgridcolor": "white",
             "startlinecolor": "#2a3f5f"
            },
            "type": "carpet"
           }
          ],
          "choropleth": [
           {
            "colorbar": {
             "outlinewidth": 0,
             "ticks": ""
            },
            "type": "choropleth"
           }
          ],
          "contour": [
           {
            "colorbar": {
             "outlinewidth": 0,
             "ticks": ""
            },
            "colorscale": [
             [
              0,
              "#0d0887"
             ],
             [
              0.1111111111111111,
              "#46039f"
             ],
             [
              0.2222222222222222,
              "#7201a8"
             ],
             [
              0.3333333333333333,
              "#9c179e"
             ],
             [
              0.4444444444444444,
              "#bd3786"
             ],
             [
              0.5555555555555556,
              "#d8576b"
             ],
             [
              0.6666666666666666,
              "#ed7953"
             ],
             [
              0.7777777777777778,
              "#fb9f3a"
             ],
             [
              0.8888888888888888,
              "#fdca26"
             ],
             [
              1,
              "#f0f921"
             ]
            ],
            "type": "contour"
           }
          ],
          "contourcarpet": [
           {
            "colorbar": {
             "outlinewidth": 0,
             "ticks": ""
            },
            "type": "contourcarpet"
           }
          ],
          "heatmap": [
           {
            "colorbar": {
             "outlinewidth": 0,
             "ticks": ""
            },
            "colorscale": [
             [
              0,
              "#0d0887"
             ],
             [
              0.1111111111111111,
              "#46039f"
             ],
             [
              0.2222222222222222,
              "#7201a8"
             ],
             [
              0.3333333333333333,
              "#9c179e"
             ],
             [
              0.4444444444444444,
              "#bd3786"
             ],
             [
              0.5555555555555556,
              "#d8576b"
             ],
             [
              0.6666666666666666,
              "#ed7953"
             ],
             [
              0.7777777777777778,
              "#fb9f3a"
             ],
             [
              0.8888888888888888,
              "#fdca26"
             ],
             [
              1,
              "#f0f921"
             ]
            ],
            "type": "heatmap"
           }
          ],
          "heatmapgl": [
           {
            "colorbar": {
             "outlinewidth": 0,
             "ticks": ""
            },
            "colorscale": [
             [
              0,
              "#0d0887"
             ],
             [
              0.1111111111111111,
              "#46039f"
             ],
             [
              0.2222222222222222,
              "#7201a8"
             ],
             [
              0.3333333333333333,
              "#9c179e"
             ],
             [
              0.4444444444444444,
              "#bd3786"
             ],
             [
              0.5555555555555556,
              "#d8576b"
             ],
             [
              0.6666666666666666,
              "#ed7953"
             ],
             [
              0.7777777777777778,
              "#fb9f3a"
             ],
             [
              0.8888888888888888,
              "#fdca26"
             ],
             [
              1,
              "#f0f921"
             ]
            ],
            "type": "heatmapgl"
           }
          ],
          "histogram": [
           {
            "marker": {
             "pattern": {
              "fillmode": "overlay",
              "size": 10,
              "solidity": 0.2
             }
            },
            "type": "histogram"
           }
          ],
          "histogram2d": [
           {
            "colorbar": {
             "outlinewidth": 0,
             "ticks": ""
            },
            "colorscale": [
             [
              0,
              "#0d0887"
             ],
             [
              0.1111111111111111,
              "#46039f"
             ],
             [
              0.2222222222222222,
              "#7201a8"
             ],
             [
              0.3333333333333333,
              "#9c179e"
             ],
             [
              0.4444444444444444,
              "#bd3786"
             ],
             [
              0.5555555555555556,
              "#d8576b"
             ],
             [
              0.6666666666666666,
              "#ed7953"
             ],
             [
              0.7777777777777778,
              "#fb9f3a"
             ],
             [
              0.8888888888888888,
              "#fdca26"
             ],
             [
              1,
              "#f0f921"
             ]
            ],
            "type": "histogram2d"
           }
          ],
          "histogram2dcontour": [
           {
            "colorbar": {
             "outlinewidth": 0,
             "ticks": ""
            },
            "colorscale": [
             [
              0,
              "#0d0887"
             ],
             [
              0.1111111111111111,
              "#46039f"
             ],
             [
              0.2222222222222222,
              "#7201a8"
             ],
             [
              0.3333333333333333,
              "#9c179e"
             ],
             [
              0.4444444444444444,
              "#bd3786"
             ],
             [
              0.5555555555555556,
              "#d8576b"
             ],
             [
              0.6666666666666666,
              "#ed7953"
             ],
             [
              0.7777777777777778,
              "#fb9f3a"
             ],
             [
              0.8888888888888888,
              "#fdca26"
             ],
             [
              1,
              "#f0f921"
             ]
            ],
            "type": "histogram2dcontour"
           }
          ],
          "mesh3d": [
           {
            "colorbar": {
             "outlinewidth": 0,
             "ticks": ""
            },
            "type": "mesh3d"
           }
          ],
          "parcoords": [
           {
            "line": {
             "colorbar": {
              "outlinewidth": 0,
              "ticks": ""
             }
            },
            "type": "parcoords"
           }
          ],
          "pie": [
           {
            "automargin": true,
            "type": "pie"
           }
          ],
          "scatter": [
           {
            "marker": {
             "colorbar": {
              "outlinewidth": 0,
              "ticks": ""
             }
            },
            "type": "scatter"
           }
          ],
          "scatter3d": [
           {
            "line": {
             "colorbar": {
              "outlinewidth": 0,
              "ticks": ""
             }
            },
            "marker": {
             "colorbar": {
              "outlinewidth": 0,
              "ticks": ""
             }
            },
            "type": "scatter3d"
           }
          ],
          "scattercarpet": [
           {
            "marker": {
             "colorbar": {
              "outlinewidth": 0,
              "ticks": ""
             }
            },
            "type": "scattercarpet"
           }
          ],
          "scattergeo": [
           {
            "marker": {
             "colorbar": {
              "outlinewidth": 0,
              "ticks": ""
             }
            },
            "type": "scattergeo"
           }
          ],
          "scattergl": [
           {
            "marker": {
             "colorbar": {
              "outlinewidth": 0,
              "ticks": ""
             }
            },
            "type": "scattergl"
           }
          ],
          "scattermapbox": [
           {
            "marker": {
             "colorbar": {
              "outlinewidth": 0,
              "ticks": ""
             }
            },
            "type": "scattermapbox"
           }
          ],
          "scatterpolar": [
           {
            "marker": {
             "colorbar": {
              "outlinewidth": 0,
              "ticks": ""
             }
            },
            "type": "scatterpolar"
           }
          ],
          "scatterpolargl": [
           {
            "marker": {
             "colorbar": {
              "outlinewidth": 0,
              "ticks": ""
             }
            },
            "type": "scatterpolargl"
           }
          ],
          "scatterternary": [
           {
            "marker": {
             "colorbar": {
              "outlinewidth": 0,
              "ticks": ""
             }
            },
            "type": "scatterternary"
           }
          ],
          "surface": [
           {
            "colorbar": {
             "outlinewidth": 0,
             "ticks": ""
            },
            "colorscale": [
             [
              0,
              "#0d0887"
             ],
             [
              0.1111111111111111,
              "#46039f"
             ],
             [
              0.2222222222222222,
              "#7201a8"
             ],
             [
              0.3333333333333333,
              "#9c179e"
             ],
             [
              0.4444444444444444,
              "#bd3786"
             ],
             [
              0.5555555555555556,
              "#d8576b"
             ],
             [
              0.6666666666666666,
              "#ed7953"
             ],
             [
              0.7777777777777778,
              "#fb9f3a"
             ],
             [
              0.8888888888888888,
              "#fdca26"
             ],
             [
              1,
              "#f0f921"
             ]
            ],
            "type": "surface"
           }
          ],
          "table": [
           {
            "cells": {
             "fill": {
              "color": "#EBF0F8"
             },
             "line": {
              "color": "white"
             }
            },
            "header": {
             "fill": {
              "color": "#C8D4E3"
             },
             "line": {
              "color": "white"
             }
            },
            "type": "table"
           }
          ]
         },
         "layout": {
          "annotationdefaults": {
           "arrowcolor": "#2a3f5f",
           "arrowhead": 0,
           "arrowwidth": 1
          },
          "autotypenumbers": "strict",
          "coloraxis": {
           "colorbar": {
            "outlinewidth": 0,
            "ticks": ""
           }
          },
          "colorscale": {
           "diverging": [
            [
             0,
             "#8e0152"
            ],
            [
             0.1,
             "#c51b7d"
            ],
            [
             0.2,
             "#de77ae"
            ],
            [
             0.3,
             "#f1b6da"
            ],
            [
             0.4,
             "#fde0ef"
            ],
            [
             0.5,
             "#f7f7f7"
            ],
            [
             0.6,
             "#e6f5d0"
            ],
            [
             0.7,
             "#b8e186"
            ],
            [
             0.8,
             "#7fbc41"
            ],
            [
             0.9,
             "#4d9221"
            ],
            [
             1,
             "#276419"
            ]
           ],
           "sequential": [
            [
             0,
             "#0d0887"
            ],
            [
             0.1111111111111111,
             "#46039f"
            ],
            [
             0.2222222222222222,
             "#7201a8"
            ],
            [
             0.3333333333333333,
             "#9c179e"
            ],
            [
             0.4444444444444444,
             "#bd3786"
            ],
            [
             0.5555555555555556,
             "#d8576b"
            ],
            [
             0.6666666666666666,
             "#ed7953"
            ],
            [
             0.7777777777777778,
             "#fb9f3a"
            ],
            [
             0.8888888888888888,
             "#fdca26"
            ],
            [
             1,
             "#f0f921"
            ]
           ],
           "sequentialminus": [
            [
             0,
             "#0d0887"
            ],
            [
             0.1111111111111111,
             "#46039f"
            ],
            [
             0.2222222222222222,
             "#7201a8"
            ],
            [
             0.3333333333333333,
             "#9c179e"
            ],
            [
             0.4444444444444444,
             "#bd3786"
            ],
            [
             0.5555555555555556,
             "#d8576b"
            ],
            [
             0.6666666666666666,
             "#ed7953"
            ],
            [
             0.7777777777777778,
             "#fb9f3a"
            ],
            [
             0.8888888888888888,
             "#fdca26"
            ],
            [
             1,
             "#f0f921"
            ]
           ]
          },
          "colorway": [
           "#636efa",
           "#EF553B",
           "#00cc96",
           "#ab63fa",
           "#FFA15A",
           "#19d3f3",
           "#FF6692",
           "#B6E880",
           "#FF97FF",
           "#FECB52"
          ],
          "font": {
           "color": "#2a3f5f"
          },
          "geo": {
           "bgcolor": "white",
           "lakecolor": "white",
           "landcolor": "#E5ECF6",
           "showlakes": true,
           "showland": true,
           "subunitcolor": "white"
          },
          "hoverlabel": {
           "align": "left"
          },
          "hovermode": "closest",
          "mapbox": {
           "style": "light"
          },
          "paper_bgcolor": "white",
          "plot_bgcolor": "#E5ECF6",
          "polar": {
           "angularaxis": {
            "gridcolor": "white",
            "linecolor": "white",
            "ticks": ""
           },
           "bgcolor": "#E5ECF6",
           "radialaxis": {
            "gridcolor": "white",
            "linecolor": "white",
            "ticks": ""
           }
          },
          "scene": {
           "xaxis": {
            "backgroundcolor": "#E5ECF6",
            "gridcolor": "white",
            "gridwidth": 2,
            "linecolor": "white",
            "showbackground": true,
            "ticks": "",
            "zerolinecolor": "white"
           },
           "yaxis": {
            "backgroundcolor": "#E5ECF6",
            "gridcolor": "white",
            "gridwidth": 2,
            "linecolor": "white",
            "showbackground": true,
            "ticks": "",
            "zerolinecolor": "white"
           },
           "zaxis": {
            "backgroundcolor": "#E5ECF6",
            "gridcolor": "white",
            "gridwidth": 2,
            "linecolor": "white",
            "showbackground": true,
            "ticks": "",
            "zerolinecolor": "white"
           }
          },
          "shapedefaults": {
           "line": {
            "color": "#2a3f5f"
           }
          },
          "ternary": {
           "aaxis": {
            "gridcolor": "white",
            "linecolor": "white",
            "ticks": ""
           },
           "baxis": {
            "gridcolor": "white",
            "linecolor": "white",
            "ticks": ""
           },
           "bgcolor": "#E5ECF6",
           "caxis": {
            "gridcolor": "white",
            "linecolor": "white",
            "ticks": ""
           }
          },
          "title": {
           "x": 0.05
          },
          "xaxis": {
           "automargin": true,
           "gridcolor": "white",
           "linecolor": "white",
           "ticks": "",
           "title": {
            "standoff": 15
           },
           "zerolinecolor": "white",
           "zerolinewidth": 2
          },
          "yaxis": {
           "automargin": true,
           "gridcolor": "white",
           "linecolor": "white",
           "ticks": "",
           "title": {
            "standoff": 15
           },
           "zerolinecolor": "white",
           "zerolinewidth": 2
          }
         }
        },
        "xaxis": {
         "anchor": "y",
         "domain": [
          0,
          1
         ],
         "title": {
          "text": "Year"
         }
        },
        "yaxis": {
         "anchor": "x",
         "domain": [
          0,
          1
         ],
         "title": {
          "text": "value"
         }
        }
       }
      }
     },
     "metadata": {},
     "output_type": "display_data"
    }
   ],
   "source": [
    "CountryNameList = []\n",
    "for x in range(1,21):\n",
    "    CountryNameList.append(df_Remissions2_netflow.columns.values[x])\n",
    "fig21 = px.line(df_Remissions2_netflow, x = \"Year\", y=CountryNameList)\n",
    "fig21.show()"
   ]
  },
  {
   "cell_type": "code",
   "execution_count": null,
   "id": "b76ed70d",
   "metadata": {},
   "outputs": [],
   "source": []
  }
 ],
 "metadata": {
  "interpreter": {
   "hash": "0b5ab19ee438014a608bf96a80d2ce4aa5cdec1c000aaef4f98bd8656ec11cb6"
  },
  "kernelspec": {
   "display_name": "Python 3.9.11 ('GeUaEnv')",
   "language": "python",
   "name": "python3"
  },
  "language_info": {
   "codemirror_mode": {
    "name": "ipython",
    "version": 3
   },
   "file_extension": ".py",
   "mimetype": "text/x-python",
   "name": "python",
   "nbconvert_exporter": "python",
   "pygments_lexer": "ipython3",
   "version": "3.9.11"
  }
 },
 "nbformat": 4,
 "nbformat_minor": 5
}
