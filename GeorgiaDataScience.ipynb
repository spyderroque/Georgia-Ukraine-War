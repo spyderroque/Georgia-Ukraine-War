{
 "cells": [
  {
   "cell_type": "markdown",
   "id": "8f0806e7-5793-44f7-b515-8bde83099e24",
   "metadata": {
    "tags": []
   },
   "source": [
    "# Why Georgia sides with Russia in the Ukraine war\n",
    "***In 2008 Georgia faced an invasion by Russia in a war with striking similarity to the present invasion of Ukraine. Since then one-fifth of the country is occupied by Russian troops. Russia's president Vladimir Putin left no doubt that he fully intends to annex the former soviet state next. The invasion of Georgia was stopped due to an intervention by the presidents of Ukraine and USA. Yet, in the present war Georgia has not sided with the Ukraine claiming that a participation of international sanctions would lead to economic and social collapse. Is this true or is the acting Georgian government just a puppet regime in the pocket of Vladimir Putin? This private data science projects will shed light into this question.***"
   ]
  },
  {
   "cell_type": "markdown",
   "id": "1194c352-6bd7-4191-a83c-1263e0e96e6e",
   "metadata": {},
   "source": [
    "## Georgia? Where is that?\n",
    "Until fairly recently Georgia was for me just yet another obscure post-soviet era statelet somewhere in the east within the russian sphere of influence. With increasing tensions between Ukraine and Russia, which sadly has turned into a war, international politics have turned their focus to Georgia.\n",
    "\n",
    "Located north of Turkey and the Middle East Georgia connects Europe and Asia. It is easy to imagine that along its fertile western shoreline  early humans arrived to Europe. Thus it is no wonder that anatomical modern humans (our ancestors) and settled and transited here to Europe. "
   ]
  },
  {
   "cell_type": "code",
   "execution_count": 5,
   "id": "8390432f-2034-47e8-a643-e4fd474ecf1a",
   "metadata": {},
   "outputs": [
    {
     "ename": "ModuleNotFoundError",
     "evalue": "No module named 'matplotlib'",
     "output_type": "error",
     "traceback": [
      "\u001b[1;31m---------------------------------------------------------------------------\u001b[0m",
      "\u001b[1;31mModuleNotFoundError\u001b[0m                       Traceback (most recent call last)",
      "Input \u001b[1;32mIn [5]\u001b[0m, in \u001b[0;36m<cell line: 3>\u001b[1;34m()\u001b[0m\n\u001b[0;32m      1\u001b[0m \u001b[38;5;28;01mimport\u001b[39;00m \u001b[38;5;21;01mpandas\u001b[39;00m \u001b[38;5;28;01mas\u001b[39;00m \u001b[38;5;21;01mpd\u001b[39;00m\n\u001b[0;32m      2\u001b[0m \u001b[38;5;28;01mimport\u001b[39;00m \u001b[38;5;21;01mnumpy\u001b[39;00m \u001b[38;5;28;01mas\u001b[39;00m \u001b[38;5;21;01mnp\u001b[39;00m\n\u001b[1;32m----> 3\u001b[0m \u001b[38;5;28;01mimport\u001b[39;00m \u001b[38;5;21;01mmatplotlib\u001b[39;00m \u001b[38;5;28;01mas\u001b[39;00m \u001b[38;5;21;01mmpl\u001b[39;00m\n\u001b[0;32m      4\u001b[0m \u001b[38;5;28;01mimport\u001b[39;00m \u001b[38;5;21;01mmatplotlib\u001b[39;00m\u001b[38;5;21;01m.\u001b[39;00m\u001b[38;5;21;01mpyplot\u001b[39;00m \u001b[38;5;28;01mas\u001b[39;00m \u001b[38;5;21;01mplt\u001b[39;00m\n\u001b[0;32m      5\u001b[0m \u001b[38;5;28;01mimport\u001b[39;00m \u001b[38;5;21;01mseaborn\u001b[39;00m \u001b[38;5;28;01mas\u001b[39;00m \u001b[38;5;21;01msns\u001b[39;00m\n",
      "\u001b[1;31mModuleNotFoundError\u001b[0m: No module named 'matplotlib'"
     ]
    }
   ],
   "source": [
    "import pandas as pd\n",
    "import numpy as np\n",
    "import matplotlib as mpl\n",
    "import matplotlib.pyplot as plt\n",
    "import seaborn as sns\n",
    "import plotly.express as px\n",
    "import plotly.graph_objects as go\n",
    "!pip install folium\n",
    "import folium"
   ]
  },
  {
   "cell_type": "code",
   "execution_count": null,
   "id": "c8bbb237-709c-4fbc-98da-cb43282c2658",
   "metadata": {},
   "outputs": [],
   "source": []
  }
 ],
 "metadata": {
  "kernelspec": {
   "display_name": "Python 3 (ipykernel)",
   "language": "python",
   "name": "python3"
  },
  "language_info": {
   "codemirror_mode": {
    "name": "ipython",
    "version": 3
   },
   "file_extension": ".py",
   "mimetype": "text/x-python",
   "name": "python",
   "nbconvert_exporter": "python",
   "pygments_lexer": "ipython3",
   "version": "3.9.7"
  }
 },
 "nbformat": 4,
 "nbformat_minor": 5
}
